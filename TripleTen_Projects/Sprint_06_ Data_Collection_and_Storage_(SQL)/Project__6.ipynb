{
 "cells": [
  {
   "cell_type": "markdown",
   "id": "dcc997fb-5170-4103-a583-f57bfe5b5351",
   "metadata": {},
   "source": [
    "# Chicago Taxi Rides Analysis\n",
    "\n",
    "In this project, I will analyze taxi ride data, explore patterns, and draw meaningful conclusions. The data I will work with includes information as results from SQL queries from databases that has information on competitor taxi companies, the number of rides, the neighborhoods where rides ended, and the weather at the time the ride started.\n",
    "\n",
    "The project involves several steps:\n",
    "\n",
    "Data Retrieval: I will start by retrieving data from resulting CSV files, which contain information about the number of rides for each taxi company and the average number of rides that ended in each neighborhood. Another CSV file with weather information on the hour is used.\n",
    "\n",
    "Exploratory Data Analysis: I will study the data, ensure the data types are correct, and identify key patterns and trends. This will involve creating visualizations such as graphs to better understand the data.\n",
    "\n",
    "Hypothesis Testing: I will test a hypothesis that “The average duration of rides from the Loop to O’Hare International Airport changes on rainy Saturdays.” This will involve statistical analysis and interpretation of the results.\n",
    "\n",
    "Conclusion: Finally, I will draw overall conclusions based on your analysis and findings."
   ]
  },
  {
   "cell_type": "markdown",
   "id": "d3333756-8658-45a1-b00b-94096114a31a",
   "metadata": {},
   "source": [
    "# Initialization"
   ]
  },
  {
   "cell_type": "code",
   "execution_count": null,
   "id": "521eb76a-7b26-487e-afb6-b94530518966",
   "metadata": {
    "trusted": false
   },
   "outputs": [],
   "source": [
    "# Load the Libraries\n",
    "import pandas as pd\n",
    "import numpy as np\n",
    "from matplotlib import pyplot as plt\n",
    "import seaborn as sns\n",
    "from scipy import stats\n",
    "import warnings\n",
    "\n",
    "# Ignore filter warnings that asks for .copy()\n",
    "warnings.filterwarnings('ignore')"
   ]
  },
  {
   "cell_type": "markdown",
   "id": "3999ddc8-1c30-4498-9fef-b190ae28424e",
   "metadata": {},
   "source": [
    "### Load the Data"
   ]
  },
  {
   "cell_type": "code",
   "execution_count": null,
   "id": "2d04c920-e76d-4e87-abfa-b167c1fe3f3b",
   "metadata": {
    "trusted": false
   },
   "outputs": [],
   "source": [
    "# Read the data from .csv files\n",
    "\n",
    "try:\n",
    "    company = pd.read_csv('./datasets/moved_project_sql_result_01.csv')\n",
    "    neighborhood = pd.read_csv('./datasets/moved_project_sql_result_04.csv')\n",
    "    loop_airport = pd.read_csv('./datasets/moved_project_sql_result_07.csv')\n",
    "except:\n",
    "    company = pd.read_csv('https://practicum-content.s3.us-west-1.amazonaws.com/learning-materials/data-analyst-eng/moved_project_sql_result_01.csv')\n",
    "    neighborhood = pd.read_csv('https://practicum-content.s3.us-west-1.amazonaws.com/learning-materials/data-analyst-eng/moved_project_sql_result_04.csv')\n",
    "    loop_airport = pd.read_csv('https://practicum-content.s3.us-west-1.amazonaws.com/learning-materials/data-analyst-eng/moved_project_sql_result_07.csv')\n",
    "\n"
   ]
  },
  {
   "cell_type": "markdown",
   "id": "cc8e9911-180c-4153-9323-e5ac6329f229",
   "metadata": {},
   "source": [
    "### Prepare the Data"
   ]
  },
  {
   "cell_type": "code",
   "execution_count": null,
   "id": "3808b3de-876f-4315-a5ab-6b2568deacf6",
   "metadata": {
    "trusted": false
   },
   "outputs": [],
   "source": [
    "# Show information on the dataframes and their first five rows.\n",
    "company.info()\n",
    "display(company.head())\n",
    "neighborhood.info()\n",
    "display(neighborhood.head())\n",
    "loop_airport.info()\n",
    "display(loop_airport.head())"
   ]
  },
  {
   "cell_type": "markdown",
   "id": "cee5348e-6f5d-4c2e-96da-55a5be17c009",
   "metadata": {},
   "source": [
    "### Convert data types into correct ones"
   ]
  },
  {
   "cell_type": "code",
   "execution_count": null,
   "id": "95bcfcf8-5788-4aa8-bff8-f1fa3e62eff9",
   "metadata": {
    "trusted": false
   },
   "outputs": [],
   "source": [
    "# Convert 'duration_seconds' into int\n",
    "if np.array_equal(loop_airport['duration_seconds'], loop_airport['duration_seconds'].astype('int')):\n",
    "  loop_airport['duration_seconds'] = loop_airport['duration_seconds'].astype('int')\n",
    "\n",
    "# Convert 'start_ts' into datetime format\n",
    "loop_airport['start_ts'] = pd.to_datetime(loop_airport['start_ts'])\n",
    "\n",
    "loop_airport.info()"
   ]
  },
  {
   "cell_type": "markdown",
   "id": "d5881450-b105-4a7f-a4c0-d381cda9f953",
   "metadata": {},
   "source": [
    "### Check for duplicates"
   ]
  },
  {
   "cell_type": "code",
   "execution_count": null,
   "id": "9996aa5c-671b-46a4-afec-c473b927728a",
   "metadata": {
    "trusted": false
   },
   "outputs": [],
   "source": [
    "# Count the duplicates\n",
    "print(\"Duplicates\")\n",
    "print(\"Company dataframe:\", company.duplicated().sum())\n",
    "print(\"Neighborhood dataframe:\", neighborhood.duplicated().sum())\n",
    "print(\"Loop to O'Hare dataframe:\", loop_airport.duplicated().sum())"
   ]
  },
  {
   "cell_type": "markdown",
   "id": "dbcf8b9a-b96c-4db0-a756-9f1eb2fddb9c",
   "metadata": {},
   "source": [
    "There are 197 duplicated rows in the loop_airport dataframe. The records are rounded to the nearest hour, but they may actually be distinct records. It would be better to keep these duplicates instead of removing them from the dataframe."
   ]
  },
  {
   "cell_type": "markdown",
   "id": "d1c5621f-06f5-4fe2-850d-bb60150e62b6",
   "metadata": {},
   "source": [
    "### Handle missing values\n",
    "Looking at the dataframes' info() output, there were no missing values.\n",
    "\n",
    "# Analyze the data"
   ]
  },
  {
   "cell_type": "code",
   "execution_count": null,
   "id": "836d4efc-5da0-412f-b2ab-2e88fd6238a3",
   "metadata": {
    "trusted": false
   },
   "outputs": [],
   "source": [
    "# Identify the top 10 neighborhoods in terms of drop-offs\n",
    "top10_neighborhoods = neighborhood.nlargest(10, 'average_trips')\n",
    "display(top10_neighborhoods)"
   ]
  },
  {
   "cell_type": "code",
   "execution_count": null,
   "id": "01874fc9-7be9-429f-acb4-5607eb3478b3",
   "metadata": {
    "trusted": false
   },
   "outputs": [],
   "source": [
    "# Make a graph for taxi companies and number of rides\n",
    "sorted_company = company.sort_values('trips_amount', ascending=True)\n",
    "fig, ax = plt.subplots(figsize=(8,13))\n",
    "ax.barh(sorted_company['company_name'], sorted_company['trips_amount'])\n",
    "ax.set_title('Taxi companies and number of rides')\n",
    "ax.set_xlabel('Number of Rides')\n",
    "ax.set_ylabel('Company Name')\n",
    "ax.set_ylim(-0.5, len(sorted_company)-0.5)\n",
    "\n",
    "# Add a dotted grid\n",
    "ax.grid(True, which='both', axis='x', linestyle=':', color='black', alpha=0.6)\n",
    "\n",
    "plt.show()\n"
   ]
  },
  {
   "cell_type": "markdown",
   "id": "9bfebedf-7374-41a7-85b1-885326ccd773",
   "metadata": {},
   "source": [
    "Based on this graph, it can be said that:\n",
    "\n",
    "- Flash Cab is the most popular taxi company, with close to 20,000 rides. This suggests that Flash Cab might have a larger fleet, better service, or more competitive pricing compared to other companies.\n",
    "\n",
    "- The number of rides decreases significantly after Flash Cab. The second most popular company, Taxi Affiliation Service Yellow, has a little more than half the number of rides compared to Flash Cab.\n",
    "\n",
    "- Most of the taxi companies have a similar number of rides, indicating that they have a comparable market share. However, none of them come close to Flash Cab in terms of the number of rides.\n",
    "\n",
    "- There is a wide range in the number of rides among the taxi companies, indicating a significant variation in their market shares. This could be due to various factors such as the size of the taxi company, the areas they serve, their pricing, and the quality of their service."
   ]
  },
  {
   "cell_type": "code",
   "execution_count": null,
   "id": "54c9bf94-5537-4089-ae1a-f9998d46d4f8",
   "metadata": {
    "trusted": false
   },
   "outputs": [],
   "source": [
    "# Make a graph for the top 10 neighborhoods by number of dropoffs\n",
    "fig, ax = plt.subplots(figsize=(15,6))\n",
    "ax.barh(top10_neighborhoods['dropoff_location_name'], top10_neighborhoods['average_trips'])\n",
    "ax.set_title('Top 10 neighborhoods by number of dropoffs')\n",
    "ax.set_xlabel('Neighborhood')\n",
    "ax.set_ylabel('Average Number of Trips')\n",
    "plt.show()"
   ]
  },
  {
   "cell_type": "markdown",
   "id": "9aa45008-4bc9-4707-9091-437ef5b37836",
   "metadata": {},
   "source": [
    "Based on this graph, it can be said that:\n",
    "\n",
    "- Loop is the most popular drop-off neighborhood, with over 10,000 trips. Since the Loop is located in the heart of downtown Chicago, it's busy area with many attractions, businesses, or residential buildings.\n",
    "\n",
    "- The second and third most popular drop-off neighborhoods are River North and Streeterville, respectively.\n",
    "\n",
    "- There is a noticeable decrease in the number of trips from West Loop to O'Hare, and then the numbers gradually decrease across other neighborhoods. This could indicate that these areas are less populated or less frequented by taxi passengers. Other modes of transportation could also be a factor.\n",
    "\n",
    "- The least popular neighborhood among the top 10 is Sheffield & DePaul, with the least number of drop-offs.\n",
    "\n",
    "\n",
    "### Test the hypothesis:\n",
    "\"The average duration of rides from the Loop to O'Hare International Airport changes on rainy Saturdays.\"\n",
    "\n",
    "- Null Hypothesis (H0): The average duration of rides from the Loop to O’Hare International Airport does not change on rainy Saturdays.\n",
    "- Alternative Hypothesis (H1): The average duration of rides from the Loop to O’Hare International Airport changes on rainy Saturdays.\n",
    "\n",
    "We will use a t-test to test these hypotheses. The t-test is used to determine if there is a significant difference between the means of two groups. In this case, the two groups are the durations of rides on rainy Saturdays and the durations of rides on other days."
   ]
  },
  {
   "cell_type": "code",
   "execution_count": null,
   "id": "3562419a-bcd1-493c-87fc-dde5dc68cda1",
   "metadata": {
    "trusted": false
   },
   "outputs": [],
   "source": [
    "# Create a 'day_of_week' column\n",
    "loop_airport['day_of_week'] = loop_airport['start_ts'].dt.dayofweek\n",
    "\n",
    "# Filter data for Saturdays\n",
    "df_saturday = loop_airport[loop_airport['day_of_week'] == 5]\n",
    "\n",
    "# Further divide the data into rainy and non-rainy days\n",
    "df_rainy = df_saturday[df_saturday['weather_conditions'] == 'Bad']\n",
    "df_non_rainy = df_saturday[df_saturday['weather_conditions'] == 'Good']\n",
    "\n",
    "# Perform t-test\n",
    "result = stats.ttest_ind(df_rainy['duration_seconds'], df_non_rainy['duration_seconds'])\n",
    "\n",
    "alpha = 0.05\n",
    "\n",
    "print(result.pvalue)\n",
    "\n",
    "if result.pvalue < alpha:\n",
    "    print(\"We reject the null hypothesis\")\n",
    "else:\n",
    "    print(\"We can't reject the null hypothesis\")"
   ]
  },
  {
   "cell_type": "markdown",
   "id": "e2646b69-4b99-400d-9379-eb59d3ffa5ca",
   "metadata": {},
   "source": [
    "Since the pvalue is significantly less than the alpha, we can reject the null hypothesis. The averate duration of rides from the Loop to O'Hare International Airport changes on rainy Saturdays. This could be because when it rains, people try to be careful and drive slower and possibly create traffic, therefore changing the duration of rides."
   ]
  },
  {
   "cell_type": "markdown",
   "id": "87f72d06-3d84-4791-9915-40cd79562ef0",
   "metadata": {},
   "source": [
    "# Conclusion\n",
    "\n",
    "In this project, I performed an extensive analysis of taxi rides in Chicago. I started by importing and studying data from three CSV files, two of which contained information about the number of rides for each taxi company and the average number of rides that ended in each neighborhood.\n",
    "\n",
    "The exploratory data analysis revealed that Flash Cab was the most popular taxi company, with a significantly higher number of rides compared to other companies. This suggests that Flash Cab might have a larger fleet, better service, or more competitive pricing.\n",
    "\n",
    "I also identified the top 10 neighborhoods in terms of drop-offs. The Loop neighborhood had the highest number of drop-offs, which makes sense since it's located in downtown Chicago, which is an area with many attractions, businesses, or residential buildings.\n",
    "\n",
    "Next, I tested the hypothesis that “The average duration of rides from the Loop to O’Hare International Airport changes on rainy Saturdays.” The p-value from the t-test was extremely small (7.397770692813658e-08), leading me to reject the null hypothesis. This suggests that the weather conditions do have an impact on the ride duration.\n",
    "\n",
    "In conclusion, this project provided valuable insights into the taxi usage patterns in Chicago and highlighted the influence of various factors such as the taxi company, drop-off neighborhood, and weather conditions on these patterns. These insights are useful for Zuber's as it plans on launching its platform."
   ]
  }
 ],
 "metadata": {
  "ExecuteTimeLog": [
   {
    "duration": 2566,
    "start_time": "2025-05-04T03:59:59.620Z"
   },
   {
    "duration": 884,
    "start_time": "2025-05-04T04:00:02.189Z"
   },
   {
    "duration": 33,
    "start_time": "2025-05-04T04:00:03.075Z"
   },
   {
    "duration": 10,
    "start_time": "2025-05-04T04:00:03.110Z"
   },
   {
    "duration": 5,
    "start_time": "2025-05-04T04:00:03.122Z"
   },
   {
    "duration": 8,
    "start_time": "2025-05-04T04:00:03.128Z"
   },
   {
    "duration": 1075,
    "start_time": "2025-05-04T04:00:03.137Z"
   },
   {
    "duration": 154,
    "start_time": "2025-05-04T04:00:04.214Z"
   },
   {
    "duration": 9,
    "start_time": "2025-05-04T04:00:04.370Z"
   }
  ],
  "kernelspec": {
   "display_name": "Python 3 (ipykernel)",
   "language": "python",
   "name": "python3"
  },
  "language_info": {
   "codemirror_mode": {
    "name": "ipython",
    "version": 3
   },
   "file_extension": ".py",
   "mimetype": "text/x-python",
   "name": "python",
   "nbconvert_exporter": "python",
   "pygments_lexer": "ipython3",
   "version": "3.9.19"
  },
  "toc": {
   "base_numbering": 1,
   "nav_menu": {},
   "number_sections": true,
   "sideBar": true,
   "skip_h1_title": true,
   "title_cell": "Table of Contents",
   "title_sidebar": "Contents",
   "toc_cell": false,
   "toc_position": {},
   "toc_section_display": true,
   "toc_window_display": false
  }
 },
 "nbformat": 4,
 "nbformat_minor": 5
}
