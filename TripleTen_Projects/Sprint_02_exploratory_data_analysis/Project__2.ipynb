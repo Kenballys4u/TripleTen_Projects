{
 "cells": [
  {
   "cell_type": "markdown",
   "id": "a1ba7394",
   "metadata": {},
   "source": [
    "# Introduction\n",
    "\n",
    "In this project, I will work with data from Instacart; a groceries delivery platform with a similar system to Walmart Spark Uber. This project is aimed to test as well as apply all the knowledge and skills I've learned in this Sprint. I'll need to work through the provided dataset and accomplish the tasks given.\n",
    "\n",
    "Stages\n",
    "The project consists of 3 stages:\n",
    "\n",
    "* Data overview\n",
    "* Data preproccessing\n",
    "* Data analysis\n",
    "\n",
    "First, I will evaluate the quality of the data and see if there are any issues with it, such as duplicates, missing values, and/or unfitting data types. Then I'll try to address these issues and examine if some of the 'inappropriate' data/values are worth keeping or better off dropped. Lastly, once the data is in good condition, I will perform the analysis required."
   ]
  },
  {
   "cell_type": "code",
   "execution_count": 1,
   "id": "fbf1adab",
   "metadata": {
    "trusted": false
   },
   "outputs": [],
   "source": [
    "# importing necessary libraries\n",
    "import pandas as pd\n",
    "from matplotlib import pyplot as plt\n"
   ]
  },
  {
   "cell_type": "code",
   "execution_count": 2,
   "id": "fce902f3",
   "metadata": {
    "trusted": false
   },
   "outputs": [],
   "source": [
    "# assigning all the files to their variables, with corresponding arguments for readability\n",
    "\n",
    "ic_orders = pd.read_csv('/datasets/instacart_orders.csv', sep=';')\n",
    "products = pd.read_csv('/datasets/products.csv', sep=';')\n",
    "ord_products = pd.read_csv('/datasets/order_products.csv', sep=';')\n",
    "aisles = pd.read_csv('/datasets/aisles.csv', sep=';')\n",
    "departments = pd.read_csv('/datasets/departments.csv', sep=';')\n",
    "\n"
   ]
  },
  {
   "cell_type": "code",
   "execution_count": 3,
   "id": "ad36396d",
   "metadata": {
    "trusted": false
   },
   "outputs": [
    {
     "name": "stdout",
     "output_type": "stream",
     "text": [
      "<class 'pandas.core.frame.DataFrame'>\n",
      "RangeIndex: 478967 entries, 0 to 478966\n",
      "Data columns (total 6 columns):\n",
      " #   Column                  Non-Null Count   Dtype  \n",
      "---  ------                  --------------   -----  \n",
      " 0   order_id                478967 non-null  int64  \n",
      " 1   user_id                 478967 non-null  int64  \n",
      " 2   order_number            478967 non-null  int64  \n",
      " 3   order_dow               478967 non-null  int64  \n",
      " 4   order_hour_of_day       478967 non-null  int64  \n",
      " 5   days_since_prior_order  450148 non-null  float64\n",
      "dtypes: float64(1), int64(5)\n",
      "memory usage: 21.9 MB\n"
     ]
    }
   ],
   "source": [
    "\n",
    " \n",
    "ic_orders.head()\n",
    "ic_orders.info()"
   ]
  },
  {
   "cell_type": "markdown",
   "id": "c6f8d969",
   "metadata": {},
   "source": [
    "The ic_orders dataframe contains the general idea of when the product is being ordered, as well as the duration in between orders. There seems to have some missing values on the days since prior order column, but overall it looks pretty clean."
   ]
  },
  {
   "cell_type": "code",
   "execution_count": 4,
   "id": "ad6a1efa",
   "metadata": {
    "trusted": false
   },
   "outputs": [
    {
     "name": "stdout",
     "output_type": "stream",
     "text": [
      "<class 'pandas.core.frame.DataFrame'>\n",
      "RangeIndex: 49694 entries, 0 to 49693\n",
      "Data columns (total 4 columns):\n",
      " #   Column         Non-Null Count  Dtype \n",
      "---  ------         --------------  ----- \n",
      " 0   product_id     49694 non-null  int64 \n",
      " 1   product_name   48436 non-null  object\n",
      " 2   aisle_id       49694 non-null  int64 \n",
      " 3   department_id  49694 non-null  int64 \n",
      "dtypes: int64(3), object(1)\n",
      "memory usage: 1.5+ MB\n"
     ]
    }
   ],
   "source": [
    "\n",
    "products.head()\n",
    "products.info()"
   ]
  },
  {
   "cell_type": "markdown",
   "id": "1901f54a",
   "metadata": {},
   "source": [
    "The products dataframe contains the name of items for the products, as well as corresponding IDs and their locations. There seems to be some missing values on the product names column though."
   ]
  },
  {
   "cell_type": "code",
   "execution_count": 5,
   "id": "5130e05e",
   "metadata": {
    "trusted": false
   },
   "outputs": [
    {
     "name": "stdout",
     "output_type": "stream",
     "text": [
      "<class 'pandas.core.frame.DataFrame'>\n",
      "RangeIndex: 4545007 entries, 0 to 4545006\n",
      "Data columns (total 4 columns):\n",
      " #   Column             Non-Null Count    Dtype  \n",
      "---  ------             --------------    -----  \n",
      " 0   order_id           4545007 non-null  int64  \n",
      " 1   product_id         4545007 non-null  int64  \n",
      " 2   add_to_cart_order  4544171 non-null  float64\n",
      " 3   reordered          4545007 non-null  int64  \n",
      "dtypes: float64(1), int64(3)\n",
      "memory usage: 138.7 MB\n"
     ]
    }
   ],
   "source": [
    "\n",
    "ord_products.head()\n",
    "ord_products.info(show_counts=True)"
   ]
  },
  {
   "cell_type": "markdown",
   "id": "81c6262f",
   "metadata": {},
   "source": [
    "The product order dataframe contains both order ID and product ID which can be used as a bridge to connect the previously viewed dataframes. This dataframe contains a lot of entries, up to 4.5 million. There seems to be some missing values in the add to cart order column."
   ]
  },
  {
   "cell_type": "code",
   "execution_count": 6,
   "id": "d8370c05",
   "metadata": {
    "trusted": false
   },
   "outputs": [
    {
     "name": "stdout",
     "output_type": "stream",
     "text": [
      "<class 'pandas.core.frame.DataFrame'>\n",
      "RangeIndex: 134 entries, 0 to 133\n",
      "Data columns (total 2 columns):\n",
      " #   Column    Non-Null Count  Dtype \n",
      "---  ------    --------------  ----- \n",
      " 0   aisle_id  134 non-null    int64 \n",
      " 1   aisle     134 non-null    object\n",
      "dtypes: int64(1), object(1)\n",
      "memory usage: 2.2+ KB\n"
     ]
    }
   ],
   "source": [
    "\n",
    "aisles.head()\n",
    "aisles.info()"
   ]
  },
  {
   "cell_type": "markdown",
   "id": "0095000d",
   "metadata": {},
   "source": [
    "This dataframe is relatively small, containing the aisle IDs and their names, which corresponds to the previously viewed products dataframe. The dataframe itself looks pretty clean at first glance, with no missing values."
   ]
  },
  {
   "cell_type": "code",
   "execution_count": 7,
   "id": "59e2090f",
   "metadata": {
    "trusted": false
   },
   "outputs": [
    {
     "name": "stdout",
     "output_type": "stream",
     "text": [
      "<class 'pandas.core.frame.DataFrame'>\n",
      "RangeIndex: 21 entries, 0 to 20\n",
      "Data columns (total 2 columns):\n",
      " #   Column         Non-Null Count  Dtype \n",
      "---  ------         --------------  ----- \n",
      " 0   department_id  21 non-null     int64 \n",
      " 1   department     21 non-null     object\n",
      "dtypes: int64(1), object(1)\n",
      "memory usage: 464.0+ bytes\n"
     ]
    }
   ],
   "source": [
    "\n",
    "departments.head()\n",
    "departments.info()"
   ]
  },
  {
   "cell_type": "markdown",
   "id": "949d41cc",
   "metadata": {},
   "source": [
    "This dataframe is the smallest of them all, with only having 21 entries. It contains the department ID and the corresponding names, which matches the ones on the products dataframe. This dataframe itself also looks very clean, with no missing values."
   ]
  },
  {
   "cell_type": "markdown",
   "id": "07357848-dc64-4156-9cc3-01ff4365226d",
   "metadata": {},
   "source": [
    "## Find and remove duplicate values (and describe why you make your choices)"
   ]
  },
  {
   "cell_type": "markdown",
   "id": "f179f0a9",
   "metadata": {},
   "source": [
    "### `orders` data frame"
   ]
  },
  {
   "cell_type": "code",
   "execution_count": 8,
   "id": "b99297a5-405a-463d-8535-9adc3da4ad74",
   "metadata": {
    "trusted": false
   },
   "outputs": [
    {
     "name": "stdout",
     "output_type": "stream",
     "text": [
      "<class 'pandas.core.frame.DataFrame'>\n",
      "RangeIndex: 478967 entries, 0 to 478966\n",
      "Data columns (total 6 columns):\n",
      " #   Column                  Non-Null Count   Dtype  \n",
      "---  ------                  --------------   -----  \n",
      " 0   order_id                478967 non-null  int64  \n",
      " 1   user_id                 478967 non-null  int64  \n",
      " 2   order_number            478967 non-null  int64  \n",
      " 3   order_dow               478967 non-null  int64  \n",
      " 4   order_hour_of_day       478967 non-null  int64  \n",
      " 5   days_since_prior_order  450148 non-null  float64\n",
      "dtypes: float64(1), int64(5)\n",
      "memory usage: 21.9 MB\n"
     ]
    },
    {
     "data": {
      "text/plain": [
       "15"
      ]
     },
     "execution_count": 8,
     "metadata": {},
     "output_type": "execute_result"
    }
   ],
   "source": [
    "# Check for duplicated orders\n",
    "\n",
    "ic_orders.info(show_counts=True) # pulling general info of the data\n",
    "ic_orders.duplicated().sum() # number of duplicated rows"
   ]
  },
  {
   "cell_type": "code",
   "execution_count": 9,
   "id": "2f81daad",
   "metadata": {
    "trusted": false
   },
   "outputs": [
    {
     "data": {
      "text/html": [
       "<div>\n",
       "<style scoped>\n",
       "    .dataframe tbody tr th:only-of-type {\n",
       "        vertical-align: middle;\n",
       "    }\n",
       "\n",
       "    .dataframe tbody tr th {\n",
       "        vertical-align: top;\n",
       "    }\n",
       "\n",
       "    .dataframe thead th {\n",
       "        text-align: right;\n",
       "    }\n",
       "</style>\n",
       "<table border=\"1\" class=\"dataframe\">\n",
       "  <thead>\n",
       "    <tr style=\"text-align: right;\">\n",
       "      <th></th>\n",
       "      <th>order_id</th>\n",
       "      <th>user_id</th>\n",
       "      <th>order_number</th>\n",
       "      <th>order_dow</th>\n",
       "      <th>order_hour_of_day</th>\n",
       "      <th>days_since_prior_order</th>\n",
       "    </tr>\n",
       "  </thead>\n",
       "  <tbody>\n",
       "    <tr>\n",
       "      <th>0</th>\n",
       "      <td>1515936</td>\n",
       "      <td>183418</td>\n",
       "      <td>11</td>\n",
       "      <td>6</td>\n",
       "      <td>13</td>\n",
       "      <td>30.0</td>\n",
       "    </tr>\n",
       "    <tr>\n",
       "      <th>1</th>\n",
       "      <td>1690866</td>\n",
       "      <td>163593</td>\n",
       "      <td>5</td>\n",
       "      <td>5</td>\n",
       "      <td>12</td>\n",
       "      <td>9.0</td>\n",
       "    </tr>\n",
       "    <tr>\n",
       "      <th>2</th>\n",
       "      <td>1454967</td>\n",
       "      <td>39980</td>\n",
       "      <td>4</td>\n",
       "      <td>5</td>\n",
       "      <td>19</td>\n",
       "      <td>2.0</td>\n",
       "    </tr>\n",
       "    <tr>\n",
       "      <th>3</th>\n",
       "      <td>1768857</td>\n",
       "      <td>82516</td>\n",
       "      <td>56</td>\n",
       "      <td>0</td>\n",
       "      <td>20</td>\n",
       "      <td>10.0</td>\n",
       "    </tr>\n",
       "    <tr>\n",
       "      <th>4</th>\n",
       "      <td>3007858</td>\n",
       "      <td>196724</td>\n",
       "      <td>2</td>\n",
       "      <td>4</td>\n",
       "      <td>12</td>\n",
       "      <td>17.0</td>\n",
       "    </tr>\n",
       "    <tr>\n",
       "      <th>5</th>\n",
       "      <td>1843871</td>\n",
       "      <td>20084</td>\n",
       "      <td>5</td>\n",
       "      <td>0</td>\n",
       "      <td>11</td>\n",
       "      <td>15.0</td>\n",
       "    </tr>\n",
       "    <tr>\n",
       "      <th>6</th>\n",
       "      <td>2511640</td>\n",
       "      <td>148233</td>\n",
       "      <td>40</td>\n",
       "      <td>3</td>\n",
       "      <td>8</td>\n",
       "      <td>2.0</td>\n",
       "    </tr>\n",
       "    <tr>\n",
       "      <th>7</th>\n",
       "      <td>2521283</td>\n",
       "      <td>97711</td>\n",
       "      <td>2</td>\n",
       "      <td>0</td>\n",
       "      <td>18</td>\n",
       "      <td>22.0</td>\n",
       "    </tr>\n",
       "    <tr>\n",
       "      <th>8</th>\n",
       "      <td>2266494</td>\n",
       "      <td>34954</td>\n",
       "      <td>40</td>\n",
       "      <td>5</td>\n",
       "      <td>15</td>\n",
       "      <td>4.0</td>\n",
       "    </tr>\n",
       "    <tr>\n",
       "      <th>9</th>\n",
       "      <td>446014</td>\n",
       "      <td>15356</td>\n",
       "      <td>2</td>\n",
       "      <td>4</td>\n",
       "      <td>8</td>\n",
       "      <td>10.0</td>\n",
       "    </tr>\n",
       "  </tbody>\n",
       "</table>\n",
       "</div>"
      ],
      "text/plain": [
       "   order_id  user_id  order_number  order_dow  order_hour_of_day  \\\n",
       "0   1515936   183418            11          6                 13   \n",
       "1   1690866   163593             5          5                 12   \n",
       "2   1454967    39980             4          5                 19   \n",
       "3   1768857    82516            56          0                 20   \n",
       "4   3007858   196724             2          4                 12   \n",
       "5   1843871    20084             5          0                 11   \n",
       "6   2511640   148233            40          3                  8   \n",
       "7   2521283    97711             2          0                 18   \n",
       "8   2266494    34954            40          5                 15   \n",
       "9    446014    15356             2          4                  8   \n",
       "\n",
       "   days_since_prior_order  \n",
       "0                    30.0  \n",
       "1                     9.0  \n",
       "2                     2.0  \n",
       "3                    10.0  \n",
       "4                    17.0  \n",
       "5                    15.0  \n",
       "6                     2.0  \n",
       "7                    22.0  \n",
       "8                     4.0  \n",
       "9                    10.0  "
      ]
     },
     "execution_count": 9,
     "metadata": {},
     "output_type": "execute_result"
    }
   ],
   "source": [
    "ic_orders.head(10) # Pulling the first 10 rows for a view of the data"
   ]
  },
  {
   "cell_type": "markdown",
   "id": "8dad0c0b",
   "metadata": {},
   "source": [
    "As we can see, there are a total of 15 duplicated rows, and some missing values in the 'days_since_prior_order' column"
   ]
  },
  {
   "cell_type": "code",
   "execution_count": 10,
   "id": "ed620130",
   "metadata": {
    "trusted": false
   },
   "outputs": [],
   "source": [
    "ic_orders = ic_orders.rename(columns={'days_since_prior_order': 'days_spo',\n",
    "                                     'order_hour_of_day': 'order_hod'})\n",
    "# The name of the columns are too long so I shortened it for ease of access"
   ]
  },
  {
   "cell_type": "code",
   "execution_count": 11,
   "id": "899f2d10",
   "metadata": {
    "trusted": false
   },
   "outputs": [
    {
     "data": {
      "text/plain": [
       "array([6, 5, 0, 4, 3, 1, 2])"
      ]
     },
     "execution_count": 11,
     "metadata": {},
     "output_type": "execute_result"
    }
   ],
   "source": [
    "ic_orders['order_dow'].unique()"
   ]
  },
  {
   "cell_type": "markdown",
   "id": "73be1229",
   "metadata": {},
   "source": [
    "Since there's no indicator on what day the number 0 is, I am going to assume that it is a Sunday for now."
   ]
  },
  {
   "cell_type": "code",
   "execution_count": 12,
   "id": "0d44de5d",
   "metadata": {
    "trusted": false
   },
   "outputs": [
    {
     "data": {
      "text/html": [
       "<div>\n",
       "<style scoped>\n",
       "    .dataframe tbody tr th:only-of-type {\n",
       "        vertical-align: middle;\n",
       "    }\n",
       "\n",
       "    .dataframe tbody tr th {\n",
       "        vertical-align: top;\n",
       "    }\n",
       "\n",
       "    .dataframe thead th {\n",
       "        text-align: right;\n",
       "    }\n",
       "</style>\n",
       "<table border=\"1\" class=\"dataframe\">\n",
       "  <thead>\n",
       "    <tr style=\"text-align: right;\">\n",
       "      <th></th>\n",
       "      <th>order_id</th>\n",
       "      <th>user_id</th>\n",
       "      <th>order_number</th>\n",
       "      <th>order_dow</th>\n",
       "      <th>order_hod</th>\n",
       "      <th>days_spo</th>\n",
       "    </tr>\n",
       "  </thead>\n",
       "  <tbody>\n",
       "    <tr>\n",
       "      <th>4838</th>\n",
       "      <td>2766110</td>\n",
       "      <td>162084</td>\n",
       "      <td>41</td>\n",
       "      <td>3</td>\n",
       "      <td>2</td>\n",
       "      <td>16.0</td>\n",
       "    </tr>\n",
       "    <tr>\n",
       "      <th>5156</th>\n",
       "      <td>2190225</td>\n",
       "      <td>138285</td>\n",
       "      <td>18</td>\n",
       "      <td>3</td>\n",
       "      <td>2</td>\n",
       "      <td>11.0</td>\n",
       "    </tr>\n",
       "    <tr>\n",
       "      <th>15506</th>\n",
       "      <td>553049</td>\n",
       "      <td>58599</td>\n",
       "      <td>13</td>\n",
       "      <td>3</td>\n",
       "      <td>2</td>\n",
       "      <td>7.0</td>\n",
       "    </tr>\n",
       "    <tr>\n",
       "      <th>18420</th>\n",
       "      <td>382357</td>\n",
       "      <td>120200</td>\n",
       "      <td>19</td>\n",
       "      <td>3</td>\n",
       "      <td>2</td>\n",
       "      <td>11.0</td>\n",
       "    </tr>\n",
       "    <tr>\n",
       "      <th>24691</th>\n",
       "      <td>690242</td>\n",
       "      <td>77357</td>\n",
       "      <td>2</td>\n",
       "      <td>3</td>\n",
       "      <td>2</td>\n",
       "      <td>9.0</td>\n",
       "    </tr>\n",
       "    <tr>\n",
       "      <th>...</th>\n",
       "      <td>...</td>\n",
       "      <td>...</td>\n",
       "      <td>...</td>\n",
       "      <td>...</td>\n",
       "      <td>...</td>\n",
       "      <td>...</td>\n",
       "    </tr>\n",
       "    <tr>\n",
       "      <th>457013</th>\n",
       "      <td>3384021</td>\n",
       "      <td>14881</td>\n",
       "      <td>6</td>\n",
       "      <td>3</td>\n",
       "      <td>2</td>\n",
       "      <td>30.0</td>\n",
       "    </tr>\n",
       "    <tr>\n",
       "      <th>458816</th>\n",
       "      <td>910166</td>\n",
       "      <td>164782</td>\n",
       "      <td>18</td>\n",
       "      <td>3</td>\n",
       "      <td>2</td>\n",
       "      <td>4.0</td>\n",
       "    </tr>\n",
       "    <tr>\n",
       "      <th>459635</th>\n",
       "      <td>1680532</td>\n",
       "      <td>106435</td>\n",
       "      <td>6</td>\n",
       "      <td>3</td>\n",
       "      <td>2</td>\n",
       "      <td>21.0</td>\n",
       "    </tr>\n",
       "    <tr>\n",
       "      <th>468324</th>\n",
       "      <td>222962</td>\n",
       "      <td>54979</td>\n",
       "      <td>59</td>\n",
       "      <td>3</td>\n",
       "      <td>2</td>\n",
       "      <td>3.0</td>\n",
       "    </tr>\n",
       "    <tr>\n",
       "      <th>477526</th>\n",
       "      <td>2592344</td>\n",
       "      <td>46860</td>\n",
       "      <td>38</td>\n",
       "      <td>3</td>\n",
       "      <td>2</td>\n",
       "      <td>3.0</td>\n",
       "    </tr>\n",
       "  </tbody>\n",
       "</table>\n",
       "<p>121 rows × 6 columns</p>\n",
       "</div>"
      ],
      "text/plain": [
       "        order_id  user_id  order_number  order_dow  order_hod  days_spo\n",
       "4838     2766110   162084            41          3          2      16.0\n",
       "5156     2190225   138285            18          3          2      11.0\n",
       "15506     553049    58599            13          3          2       7.0\n",
       "18420     382357   120200            19          3          2      11.0\n",
       "24691     690242    77357             2          3          2       9.0\n",
       "...          ...      ...           ...        ...        ...       ...\n",
       "457013   3384021    14881             6          3          2      30.0\n",
       "458816    910166   164782            18          3          2       4.0\n",
       "459635   1680532   106435             6          3          2      21.0\n",
       "468324    222962    54979            59          3          2       3.0\n",
       "477526   2592344    46860            38          3          2       3.0\n",
       "\n",
       "[121 rows x 6 columns]"
      ]
     },
     "execution_count": 12,
     "metadata": {},
     "output_type": "execute_result"
    }
   ],
   "source": [
    "# Check for all orders placed Wednesday at 2:00 AM\n",
    "\n",
    "ic_orders[(ic_orders['order_dow'] == 3) & (ic_orders['order_hod'] == 2)]"
   ]
  },
  {
   "cell_type": "markdown",
   "id": "4f7d8e56",
   "metadata": {},
   "source": [
    "There are 121 orders on Wednesdays at 2:00 AM."
   ]
  },
  {
   "cell_type": "markdown",
   "id": "0007b52b",
   "metadata": {},
   "source": [
    "# NB: \n",
    "\n",
    "I changed my assumption down below after looking at the table. Here's the new data for orders placed Wednesday at 2:00 AM"
   ]
  },
  {
   "cell_type": "code",
   "execution_count": 13,
   "id": "55f91915",
   "metadata": {
    "trusted": false
   },
   "outputs": [
    {
     "data": {
      "text/html": [
       "<div>\n",
       "<style scoped>\n",
       "    .dataframe tbody tr th:only-of-type {\n",
       "        vertical-align: middle;\n",
       "    }\n",
       "\n",
       "    .dataframe tbody tr th {\n",
       "        vertical-align: top;\n",
       "    }\n",
       "\n",
       "    .dataframe thead th {\n",
       "        text-align: right;\n",
       "    }\n",
       "</style>\n",
       "<table border=\"1\" class=\"dataframe\">\n",
       "  <thead>\n",
       "    <tr style=\"text-align: right;\">\n",
       "      <th></th>\n",
       "      <th>order_id</th>\n",
       "      <th>user_id</th>\n",
       "      <th>order_number</th>\n",
       "      <th>order_dow</th>\n",
       "      <th>order_hod</th>\n",
       "      <th>days_spo</th>\n",
       "    </tr>\n",
       "  </thead>\n",
       "  <tbody>\n",
       "    <tr>\n",
       "      <th>2124</th>\n",
       "      <td>401544</td>\n",
       "      <td>80955</td>\n",
       "      <td>72</td>\n",
       "      <td>4</td>\n",
       "      <td>2</td>\n",
       "      <td>2.0</td>\n",
       "    </tr>\n",
       "    <tr>\n",
       "      <th>14847</th>\n",
       "      <td>1913472</td>\n",
       "      <td>138992</td>\n",
       "      <td>16</td>\n",
       "      <td>4</td>\n",
       "      <td>2</td>\n",
       "      <td>6.0</td>\n",
       "    </tr>\n",
       "    <tr>\n",
       "      <th>16116</th>\n",
       "      <td>2796392</td>\n",
       "      <td>154904</td>\n",
       "      <td>12</td>\n",
       "      <td>4</td>\n",
       "      <td>2</td>\n",
       "      <td>13.0</td>\n",
       "    </tr>\n",
       "    <tr>\n",
       "      <th>16471</th>\n",
       "      <td>2209130</td>\n",
       "      <td>72786</td>\n",
       "      <td>5</td>\n",
       "      <td>4</td>\n",
       "      <td>2</td>\n",
       "      <td>30.0</td>\n",
       "    </tr>\n",
       "    <tr>\n",
       "      <th>32120</th>\n",
       "      <td>2235095</td>\n",
       "      <td>89980</td>\n",
       "      <td>18</td>\n",
       "      <td>4</td>\n",
       "      <td>2</td>\n",
       "      <td>7.0</td>\n",
       "    </tr>\n",
       "    <tr>\n",
       "      <th>...</th>\n",
       "      <td>...</td>\n",
       "      <td>...</td>\n",
       "      <td>...</td>\n",
       "      <td>...</td>\n",
       "      <td>...</td>\n",
       "      <td>...</td>\n",
       "    </tr>\n",
       "    <tr>\n",
       "      <th>467118</th>\n",
       "      <td>3210362</td>\n",
       "      <td>51765</td>\n",
       "      <td>22</td>\n",
       "      <td>4</td>\n",
       "      <td>2</td>\n",
       "      <td>5.0</td>\n",
       "    </tr>\n",
       "    <tr>\n",
       "      <th>470642</th>\n",
       "      <td>2205284</td>\n",
       "      <td>121327</td>\n",
       "      <td>33</td>\n",
       "      <td>4</td>\n",
       "      <td>2</td>\n",
       "      <td>2.0</td>\n",
       "    </tr>\n",
       "    <tr>\n",
       "      <th>472604</th>\n",
       "      <td>2101463</td>\n",
       "      <td>60877</td>\n",
       "      <td>6</td>\n",
       "      <td>4</td>\n",
       "      <td>2</td>\n",
       "      <td>30.0</td>\n",
       "    </tr>\n",
       "    <tr>\n",
       "      <th>477497</th>\n",
       "      <td>776659</td>\n",
       "      <td>111694</td>\n",
       "      <td>9</td>\n",
       "      <td>4</td>\n",
       "      <td>2</td>\n",
       "      <td>15.0</td>\n",
       "    </tr>\n",
       "    <tr>\n",
       "      <th>478126</th>\n",
       "      <td>852233</td>\n",
       "      <td>71024</td>\n",
       "      <td>1</td>\n",
       "      <td>4</td>\n",
       "      <td>2</td>\n",
       "      <td>NaN</td>\n",
       "    </tr>\n",
       "  </tbody>\n",
       "</table>\n",
       "<p>114 rows × 6 columns</p>\n",
       "</div>"
      ],
      "text/plain": [
       "        order_id  user_id  order_number  order_dow  order_hod  days_spo\n",
       "2124      401544    80955            72          4          2       2.0\n",
       "14847    1913472   138992            16          4          2       6.0\n",
       "16116    2796392   154904            12          4          2      13.0\n",
       "16471    2209130    72786             5          4          2      30.0\n",
       "32120    2235095    89980            18          4          2       7.0\n",
       "...          ...      ...           ...        ...        ...       ...\n",
       "467118   3210362    51765            22          4          2       5.0\n",
       "470642   2205284   121327            33          4          2       2.0\n",
       "472604   2101463    60877             6          4          2      30.0\n",
       "477497    776659   111694             9          4          2      15.0\n",
       "478126    852233    71024             1          4          2       NaN\n",
       "\n",
       "[114 rows x 6 columns]"
      ]
     },
     "execution_count": 13,
     "metadata": {},
     "output_type": "execute_result"
    }
   ],
   "source": [
    "ic_orders[(ic_orders['order_dow'] == 4) & (ic_orders['order_hod'] == 2)]"
   ]
  },
  {
   "cell_type": "markdown",
   "id": "a4de0503",
   "metadata": {},
   "source": [
    "UPDATE : There are 114 orders on Wednesdays at 2:00 AM."
   ]
  },
  {
   "cell_type": "code",
   "execution_count": 14,
   "id": "480563c7",
   "metadata": {
    "trusted": false
   },
   "outputs": [],
   "source": [
    "# Remove duplicate orders\n",
    "\n",
    "ic_orders = ic_orders.drop_duplicates()\n",
    "\n",
    "# Removing all the explicit duplicates which has the same values on\n",
    "# all the columns"
   ]
  },
  {
   "cell_type": "code",
   "execution_count": 15,
   "id": "0b2396a2",
   "metadata": {
    "trusted": false
   },
   "outputs": [
    {
     "name": "stdout",
     "output_type": "stream",
     "text": [
      "<class 'pandas.core.frame.DataFrame'>\n",
      "Int64Index: 478952 entries, 0 to 478966\n",
      "Data columns (total 6 columns):\n",
      " #   Column        Non-Null Count   Dtype  \n",
      "---  ------        --------------   -----  \n",
      " 0   order_id      478952 non-null  int64  \n",
      " 1   user_id       478952 non-null  int64  \n",
      " 2   order_number  478952 non-null  int64  \n",
      " 3   order_dow     478952 non-null  int64  \n",
      " 4   order_hod     478952 non-null  int64  \n",
      " 5   days_spo      450135 non-null  float64\n",
      "dtypes: float64(1), int64(5)\n",
      "memory usage: 25.6 MB\n"
     ]
    }
   ],
   "source": [
    "# Double check for duplicate rows\n",
    "\n",
    "ic_orders.info()"
   ]
  },
  {
   "cell_type": "markdown",
   "id": "24558a39",
   "metadata": {},
   "source": [
    "As we can see, the number of index decreases as we drop the explicit duplicates."
   ]
  },
  {
   "cell_type": "code",
   "execution_count": 16,
   "id": "f6113ef1",
   "metadata": {
    "trusted": false
   },
   "outputs": [
    {
     "data": {
      "text/plain": [
       "0"
      ]
     },
     "execution_count": 16,
     "metadata": {},
     "output_type": "execute_result"
    }
   ],
   "source": [
    "# Double check for duplicate order IDs only\n",
    "\n",
    "ic_orders.duplicated(subset=['order_id']).sum()"
   ]
  },
  {
   "cell_type": "markdown",
   "id": "2c3b2000",
   "metadata": {},
   "source": [
    "All the order ID's are unique.\n",
    "\n",
    "The 'orders' dataframe seems to contain a few duplicated values, but I have removed the explicit ones for now. There also seems to be some missing values but I'll get to that later"
   ]
  },
  {
   "cell_type": "markdown",
   "id": "45e6bc46",
   "metadata": {},
   "source": [
    "### `products` data frame"
   ]
  },
  {
   "cell_type": "code",
   "execution_count": 17,
   "id": "959cffc2",
   "metadata": {
    "trusted": false
   },
   "outputs": [
    {
     "name": "stdout",
     "output_type": "stream",
     "text": [
      "<class 'pandas.core.frame.DataFrame'>\n",
      "RangeIndex: 49694 entries, 0 to 49693\n",
      "Data columns (total 4 columns):\n",
      " #   Column         Non-Null Count  Dtype \n",
      "---  ------         --------------  ----- \n",
      " 0   product_id     49694 non-null  int64 \n",
      " 1   product_name   48436 non-null  object\n",
      " 2   aisle_id       49694 non-null  int64 \n",
      " 3   department_id  49694 non-null  int64 \n",
      "dtypes: int64(3), object(1)\n",
      "memory usage: 1.5+ MB\n"
     ]
    }
   ],
   "source": [
    "# Overview of the data\n",
    "\n",
    "products.info()"
   ]
  },
  {
   "cell_type": "markdown",
   "id": "03e0652d",
   "metadata": {},
   "source": [
    "We have missing values in the 'product_name' column."
   ]
  },
  {
   "cell_type": "code",
   "execution_count": 18,
   "id": "ad86366c",
   "metadata": {
    "trusted": false
   },
   "outputs": [
    {
     "data": {
      "text/html": [
       "<div>\n",
       "<style scoped>\n",
       "    .dataframe tbody tr th:only-of-type {\n",
       "        vertical-align: middle;\n",
       "    }\n",
       "\n",
       "    .dataframe tbody tr th {\n",
       "        vertical-align: top;\n",
       "    }\n",
       "\n",
       "    .dataframe thead th {\n",
       "        text-align: right;\n",
       "    }\n",
       "</style>\n",
       "<table border=\"1\" class=\"dataframe\">\n",
       "  <thead>\n",
       "    <tr style=\"text-align: right;\">\n",
       "      <th></th>\n",
       "      <th>product_id</th>\n",
       "      <th>product_name</th>\n",
       "      <th>aisle_id</th>\n",
       "      <th>department_id</th>\n",
       "    </tr>\n",
       "  </thead>\n",
       "  <tbody>\n",
       "    <tr>\n",
       "      <th>0</th>\n",
       "      <td>1</td>\n",
       "      <td>Chocolate Sandwich Cookies</td>\n",
       "      <td>61</td>\n",
       "      <td>19</td>\n",
       "    </tr>\n",
       "    <tr>\n",
       "      <th>1</th>\n",
       "      <td>2</td>\n",
       "      <td>All-Seasons Salt</td>\n",
       "      <td>104</td>\n",
       "      <td>13</td>\n",
       "    </tr>\n",
       "    <tr>\n",
       "      <th>2</th>\n",
       "      <td>3</td>\n",
       "      <td>Robust Golden Unsweetened Oolong Tea</td>\n",
       "      <td>94</td>\n",
       "      <td>7</td>\n",
       "    </tr>\n",
       "    <tr>\n",
       "      <th>3</th>\n",
       "      <td>4</td>\n",
       "      <td>Smart Ones Classic Favorites Mini Rigatoni Wit...</td>\n",
       "      <td>38</td>\n",
       "      <td>1</td>\n",
       "    </tr>\n",
       "    <tr>\n",
       "      <th>4</th>\n",
       "      <td>5</td>\n",
       "      <td>Green Chile Anytime Sauce</td>\n",
       "      <td>5</td>\n",
       "      <td>13</td>\n",
       "    </tr>\n",
       "    <tr>\n",
       "      <th>5</th>\n",
       "      <td>6</td>\n",
       "      <td>Dry Nose Oil</td>\n",
       "      <td>11</td>\n",
       "      <td>11</td>\n",
       "    </tr>\n",
       "    <tr>\n",
       "      <th>6</th>\n",
       "      <td>7</td>\n",
       "      <td>Pure Coconut Water With Orange</td>\n",
       "      <td>98</td>\n",
       "      <td>7</td>\n",
       "    </tr>\n",
       "    <tr>\n",
       "      <th>7</th>\n",
       "      <td>8</td>\n",
       "      <td>Cut Russet Potatoes Steam N' Mash</td>\n",
       "      <td>116</td>\n",
       "      <td>1</td>\n",
       "    </tr>\n",
       "    <tr>\n",
       "      <th>8</th>\n",
       "      <td>9</td>\n",
       "      <td>Light Strawberry Blueberry Yogurt</td>\n",
       "      <td>120</td>\n",
       "      <td>16</td>\n",
       "    </tr>\n",
       "    <tr>\n",
       "      <th>9</th>\n",
       "      <td>10</td>\n",
       "      <td>Sparkling Orange Juice &amp; Prickly Pear Beverage</td>\n",
       "      <td>115</td>\n",
       "      <td>7</td>\n",
       "    </tr>\n",
       "  </tbody>\n",
       "</table>\n",
       "</div>"
      ],
      "text/plain": [
       "   product_id                                       product_name  aisle_id  \\\n",
       "0           1                         Chocolate Sandwich Cookies        61   \n",
       "1           2                                   All-Seasons Salt       104   \n",
       "2           3               Robust Golden Unsweetened Oolong Tea        94   \n",
       "3           4  Smart Ones Classic Favorites Mini Rigatoni Wit...        38   \n",
       "4           5                          Green Chile Anytime Sauce         5   \n",
       "5           6                                       Dry Nose Oil        11   \n",
       "6           7                     Pure Coconut Water With Orange        98   \n",
       "7           8                  Cut Russet Potatoes Steam N' Mash       116   \n",
       "8           9                  Light Strawberry Blueberry Yogurt       120   \n",
       "9          10     Sparkling Orange Juice & Prickly Pear Beverage       115   \n",
       "\n",
       "   department_id  \n",
       "0             19  \n",
       "1             13  \n",
       "2              7  \n",
       "3              1  \n",
       "4             13  \n",
       "5             11  \n",
       "6              7  \n",
       "7              1  \n",
       "8             16  \n",
       "9              7  "
      ]
     },
     "execution_count": 18,
     "metadata": {},
     "output_type": "execute_result"
    }
   ],
   "source": [
    "products.head(10)"
   ]
  },
  {
   "cell_type": "code",
   "execution_count": 19,
   "id": "5f526b5b-8175-46fa-a0fd-441767d50e64",
   "metadata": {
    "trusted": false
   },
   "outputs": [
    {
     "data": {
      "text/plain": [
       "0"
      ]
     },
     "execution_count": 19,
     "metadata": {},
     "output_type": "execute_result"
    }
   ],
   "source": [
    "# Check for fully duplicate rows\n",
    "\n",
    "products.duplicated().sum()"
   ]
  },
  {
   "cell_type": "code",
   "execution_count": 20,
   "id": "88daa4f4",
   "metadata": {
    "trusted": false
   },
   "outputs": [
    {
     "data": {
      "text/plain": [
       "0"
      ]
     },
     "execution_count": 20,
     "metadata": {},
     "output_type": "execute_result"
    }
   ],
   "source": [
    "# Check for just duplicate product IDs\n",
    "\n",
    "products.duplicated(subset=['product_id']).sum()"
   ]
  },
  {
   "cell_type": "code",
   "execution_count": 21,
   "id": "c773f0bf",
   "metadata": {
    "trusted": false
   },
   "outputs": [
    {
     "data": {
      "text/plain": [
       "1257"
      ]
     },
     "execution_count": 21,
     "metadata": {},
     "output_type": "execute_result"
    }
   ],
   "source": [
    "# Check for just duplicate product names (convert names to lowercase to compare better)\n",
    "\n",
    "products['product_name'].duplicated().sum()"
   ]
  },
  {
   "cell_type": "code",
   "execution_count": 22,
   "id": "07fd9b44",
   "metadata": {
    "trusted": false
   },
   "outputs": [
    {
     "data": {
      "text/plain": [
       "1361"
      ]
     },
     "execution_count": 22,
     "metadata": {},
     "output_type": "execute_result"
    }
   ],
   "source": [
    "products['product_name'].str.lower().duplicated().sum()"
   ]
  },
  {
   "cell_type": "markdown",
   "id": "a88606c6",
   "metadata": {},
   "source": [
    "We have duplicate values in the 'product_name' columns."
   ]
  },
  {
   "cell_type": "code",
   "execution_count": 23,
   "id": "01efd02e",
   "metadata": {
    "trusted": false
   },
   "outputs": [
    {
     "data": {
      "text/plain": [
       "104"
      ]
     },
     "execution_count": 23,
     "metadata": {},
     "output_type": "execute_result"
    }
   ],
   "source": [
    "# Check for duplicate product names that aren't missing\n",
    "\n",
    "products[~products['product_name'].isna()]['product_name'].str.lower().duplicated().sum()"
   ]
  },
  {
   "cell_type": "markdown",
   "id": "19cab24d",
   "metadata": {},
   "source": [
    "We have 104 duplicate product names that aren't NaN(missing). This equals to the difference between the duplicated product names that were lowercased and not."
   ]
  },
  {
   "cell_type": "code",
   "execution_count": 24,
   "id": "5d18fb3e",
   "metadata": {
    "trusted": false
   },
   "outputs": [
    {
     "data": {
      "text/html": [
       "<div>\n",
       "<style scoped>\n",
       "    .dataframe tbody tr th:only-of-type {\n",
       "        vertical-align: middle;\n",
       "    }\n",
       "\n",
       "    .dataframe tbody tr th {\n",
       "        vertical-align: top;\n",
       "    }\n",
       "\n",
       "    .dataframe thead th {\n",
       "        text-align: right;\n",
       "    }\n",
       "</style>\n",
       "<table border=\"1\" class=\"dataframe\">\n",
       "  <thead>\n",
       "    <tr style=\"text-align: right;\">\n",
       "      <th></th>\n",
       "      <th>product_id</th>\n",
       "      <th>product_name</th>\n",
       "      <th>aisle_id</th>\n",
       "      <th>department_id</th>\n",
       "    </tr>\n",
       "  </thead>\n",
       "  <tbody>\n",
       "    <tr>\n",
       "      <th>2058</th>\n",
       "      <td>2059</td>\n",
       "      <td>Biotin 1000 Mcg</td>\n",
       "      <td>47</td>\n",
       "      <td>11</td>\n",
       "    </tr>\n",
       "    <tr>\n",
       "      <th>5455</th>\n",
       "      <td>5456</td>\n",
       "      <td>Green Tea With Ginseng and Honey</td>\n",
       "      <td>96</td>\n",
       "      <td>20</td>\n",
       "    </tr>\n",
       "    <tr>\n",
       "      <th>5558</th>\n",
       "      <td>5559</td>\n",
       "      <td>Cream Of Mushroom Soup</td>\n",
       "      <td>69</td>\n",
       "      <td>15</td>\n",
       "    </tr>\n",
       "    <tr>\n",
       "      <th>7558</th>\n",
       "      <td>7559</td>\n",
       "      <td>Cinnamon Rolls with Icing</td>\n",
       "      <td>105</td>\n",
       "      <td>13</td>\n",
       "    </tr>\n",
       "    <tr>\n",
       "      <th>9037</th>\n",
       "      <td>9038</td>\n",
       "      <td>American Cheese slices</td>\n",
       "      <td>21</td>\n",
       "      <td>16</td>\n",
       "    </tr>\n",
       "    <tr>\n",
       "      <th>...</th>\n",
       "      <td>...</td>\n",
       "      <td>...</td>\n",
       "      <td>...</td>\n",
       "      <td>...</td>\n",
       "    </tr>\n",
       "    <tr>\n",
       "      <th>49689</th>\n",
       "      <td>49690</td>\n",
       "      <td>HIGH PERFORMANCE ENERGY DRINK</td>\n",
       "      <td>64</td>\n",
       "      <td>7</td>\n",
       "    </tr>\n",
       "    <tr>\n",
       "      <th>49690</th>\n",
       "      <td>49691</td>\n",
       "      <td>ORIGINAL PANCAKE &amp; WAFFLE MIX</td>\n",
       "      <td>130</td>\n",
       "      <td>14</td>\n",
       "    </tr>\n",
       "    <tr>\n",
       "      <th>49691</th>\n",
       "      <td>49692</td>\n",
       "      <td>ORGANIC INSTANT OATMEAL LIGHT MAPLE BROWN SUGAR</td>\n",
       "      <td>130</td>\n",
       "      <td>14</td>\n",
       "    </tr>\n",
       "    <tr>\n",
       "      <th>49692</th>\n",
       "      <td>49693</td>\n",
       "      <td>SPRING WATER BODY WASH</td>\n",
       "      <td>127</td>\n",
       "      <td>11</td>\n",
       "    </tr>\n",
       "    <tr>\n",
       "      <th>49693</th>\n",
       "      <td>49694</td>\n",
       "      <td>BURRITO- STEAK &amp; CHEESE</td>\n",
       "      <td>38</td>\n",
       "      <td>1</td>\n",
       "    </tr>\n",
       "  </tbody>\n",
       "</table>\n",
       "<p>104 rows × 4 columns</p>\n",
       "</div>"
      ],
      "text/plain": [
       "       product_id                                     product_name  aisle_id  \\\n",
       "2058         2059                                  Biotin 1000 Mcg        47   \n",
       "5455         5456                 Green Tea With Ginseng and Honey        96   \n",
       "5558         5559                           Cream Of Mushroom Soup        69   \n",
       "7558         7559                        Cinnamon Rolls with Icing       105   \n",
       "9037         9038                           American Cheese slices        21   \n",
       "...           ...                                              ...       ...   \n",
       "49689       49690                    HIGH PERFORMANCE ENERGY DRINK        64   \n",
       "49690       49691                    ORIGINAL PANCAKE & WAFFLE MIX       130   \n",
       "49691       49692  ORGANIC INSTANT OATMEAL LIGHT MAPLE BROWN SUGAR       130   \n",
       "49692       49693                           SPRING WATER BODY WASH       127   \n",
       "49693       49694                          BURRITO- STEAK & CHEESE        38   \n",
       "\n",
       "       department_id  \n",
       "2058              11  \n",
       "5455              20  \n",
       "5558              15  \n",
       "7558              13  \n",
       "9037              16  \n",
       "...              ...  \n",
       "49689              7  \n",
       "49690             14  \n",
       "49691             14  \n",
       "49692             11  \n",
       "49693              1  \n",
       "\n",
       "[104 rows x 4 columns]"
      ]
     },
     "execution_count": 24,
     "metadata": {},
     "output_type": "execute_result"
    }
   ],
   "source": [
    "products[(~products['product_name'].isna()) & products['product_name'].str.lower().duplicated()]"
   ]
  },
  {
   "cell_type": "code",
   "execution_count": 25,
   "id": "22652f95",
   "metadata": {
    "trusted": false
   },
   "outputs": [
    {
     "data": {
      "text/html": [
       "<div>\n",
       "<style scoped>\n",
       "    .dataframe tbody tr th:only-of-type {\n",
       "        vertical-align: middle;\n",
       "    }\n",
       "\n",
       "    .dataframe tbody tr th {\n",
       "        vertical-align: top;\n",
       "    }\n",
       "\n",
       "    .dataframe thead th {\n",
       "        text-align: right;\n",
       "    }\n",
       "</style>\n",
       "<table border=\"1\" class=\"dataframe\">\n",
       "  <thead>\n",
       "    <tr style=\"text-align: right;\">\n",
       "      <th></th>\n",
       "      <th>product_id</th>\n",
       "      <th>product_name</th>\n",
       "      <th>aisle_id</th>\n",
       "      <th>department_id</th>\n",
       "    </tr>\n",
       "  </thead>\n",
       "  <tbody>\n",
       "    <tr>\n",
       "      <th>41</th>\n",
       "      <td>42</td>\n",
       "      <td>Biotin 1000 mcg</td>\n",
       "      <td>47</td>\n",
       "      <td>11</td>\n",
       "    </tr>\n",
       "    <tr>\n",
       "      <th>2058</th>\n",
       "      <td>2059</td>\n",
       "      <td>Biotin 1000 Mcg</td>\n",
       "      <td>47</td>\n",
       "      <td>11</td>\n",
       "    </tr>\n",
       "    <tr>\n",
       "      <th>22540</th>\n",
       "      <td>22541</td>\n",
       "      <td>High Performance Energy Drink</td>\n",
       "      <td>64</td>\n",
       "      <td>7</td>\n",
       "    </tr>\n",
       "    <tr>\n",
       "      <th>25892</th>\n",
       "      <td>25893</td>\n",
       "      <td>Original Pancake &amp; Waffle Mix</td>\n",
       "      <td>130</td>\n",
       "      <td>14</td>\n",
       "    </tr>\n",
       "    <tr>\n",
       "      <th>49689</th>\n",
       "      <td>49690</td>\n",
       "      <td>HIGH PERFORMANCE ENERGY DRINK</td>\n",
       "      <td>64</td>\n",
       "      <td>7</td>\n",
       "    </tr>\n",
       "    <tr>\n",
       "      <th>49690</th>\n",
       "      <td>49691</td>\n",
       "      <td>ORIGINAL PANCAKE &amp; WAFFLE MIX</td>\n",
       "      <td>130</td>\n",
       "      <td>14</td>\n",
       "    </tr>\n",
       "  </tbody>\n",
       "</table>\n",
       "</div>"
      ],
      "text/plain": [
       "       product_id                   product_name  aisle_id  department_id\n",
       "41             42                Biotin 1000 mcg        47             11\n",
       "2058         2059                Biotin 1000 Mcg        47             11\n",
       "22540       22541  High Performance Energy Drink        64              7\n",
       "25892       25893  Original Pancake & Waffle Mix       130             14\n",
       "49689       49690  HIGH PERFORMANCE ENERGY DRINK        64              7\n",
       "49690       49691  ORIGINAL PANCAKE & WAFFLE MIX       130             14"
      ]
     },
     "execution_count": 25,
     "metadata": {},
     "output_type": "execute_result"
    }
   ],
   "source": [
    "duplicated_names = ['high performance energy drink', 'original pancake & waffle mix', 'biotin 1000 mcg']\n",
    "products[products['product_name'].str.lower().isin(duplicated_names)]"
   ]
  },
  {
   "cell_type": "markdown",
   "id": "7f2a94a0",
   "metadata": {},
   "source": [
    "These duplicates don't seem to have a huge impact on the whole analysis, so I am going to keep them for now.\n",
    "\n",
    "Overall, the products table is pretty clean, with the exception of the missing values."
   ]
  },
  {
   "cell_type": "markdown",
   "id": "60f30db1",
   "metadata": {},
   "source": [
    "### `departments` data frame"
   ]
  },
  {
   "cell_type": "code",
   "execution_count": 26,
   "id": "fb410ad4-0fbf-4b80-bb09-23fdea79afe3",
   "metadata": {
    "trusted": false
   },
   "outputs": [
    {
     "name": "stdout",
     "output_type": "stream",
     "text": [
      "<class 'pandas.core.frame.DataFrame'>\n",
      "RangeIndex: 21 entries, 0 to 20\n",
      "Data columns (total 2 columns):\n",
      " #   Column         Non-Null Count  Dtype \n",
      "---  ------         --------------  ----- \n",
      " 0   department_id  21 non-null     int64 \n",
      " 1   department     21 non-null     object\n",
      "dtypes: int64(1), object(1)\n",
      "memory usage: 464.0+ bytes\n"
     ]
    }
   ],
   "source": [
    "# Checking the overall info of the dataframe\n",
    "\n",
    "departments.info(show_counts=True)"
   ]
  },
  {
   "cell_type": "code",
   "execution_count": 27,
   "id": "332b12bb",
   "metadata": {
    "trusted": false
   },
   "outputs": [
    {
     "data": {
      "text/html": [
       "<div>\n",
       "<style scoped>\n",
       "    .dataframe tbody tr th:only-of-type {\n",
       "        vertical-align: middle;\n",
       "    }\n",
       "\n",
       "    .dataframe tbody tr th {\n",
       "        vertical-align: top;\n",
       "    }\n",
       "\n",
       "    .dataframe thead th {\n",
       "        text-align: right;\n",
       "    }\n",
       "</style>\n",
       "<table border=\"1\" class=\"dataframe\">\n",
       "  <thead>\n",
       "    <tr style=\"text-align: right;\">\n",
       "      <th></th>\n",
       "      <th>department_id</th>\n",
       "      <th>department</th>\n",
       "    </tr>\n",
       "  </thead>\n",
       "  <tbody>\n",
       "    <tr>\n",
       "      <th>0</th>\n",
       "      <td>1</td>\n",
       "      <td>frozen</td>\n",
       "    </tr>\n",
       "    <tr>\n",
       "      <th>1</th>\n",
       "      <td>2</td>\n",
       "      <td>other</td>\n",
       "    </tr>\n",
       "    <tr>\n",
       "      <th>2</th>\n",
       "      <td>3</td>\n",
       "      <td>bakery</td>\n",
       "    </tr>\n",
       "    <tr>\n",
       "      <th>3</th>\n",
       "      <td>4</td>\n",
       "      <td>produce</td>\n",
       "    </tr>\n",
       "    <tr>\n",
       "      <th>4</th>\n",
       "      <td>5</td>\n",
       "      <td>alcohol</td>\n",
       "    </tr>\n",
       "    <tr>\n",
       "      <th>5</th>\n",
       "      <td>6</td>\n",
       "      <td>international</td>\n",
       "    </tr>\n",
       "    <tr>\n",
       "      <th>6</th>\n",
       "      <td>7</td>\n",
       "      <td>beverages</td>\n",
       "    </tr>\n",
       "    <tr>\n",
       "      <th>7</th>\n",
       "      <td>8</td>\n",
       "      <td>pets</td>\n",
       "    </tr>\n",
       "    <tr>\n",
       "      <th>8</th>\n",
       "      <td>9</td>\n",
       "      <td>dry goods pasta</td>\n",
       "    </tr>\n",
       "    <tr>\n",
       "      <th>9</th>\n",
       "      <td>10</td>\n",
       "      <td>bulk</td>\n",
       "    </tr>\n",
       "    <tr>\n",
       "      <th>10</th>\n",
       "      <td>11</td>\n",
       "      <td>personal care</td>\n",
       "    </tr>\n",
       "    <tr>\n",
       "      <th>11</th>\n",
       "      <td>12</td>\n",
       "      <td>meat seafood</td>\n",
       "    </tr>\n",
       "    <tr>\n",
       "      <th>12</th>\n",
       "      <td>13</td>\n",
       "      <td>pantry</td>\n",
       "    </tr>\n",
       "    <tr>\n",
       "      <th>13</th>\n",
       "      <td>14</td>\n",
       "      <td>breakfast</td>\n",
       "    </tr>\n",
       "    <tr>\n",
       "      <th>14</th>\n",
       "      <td>15</td>\n",
       "      <td>canned goods</td>\n",
       "    </tr>\n",
       "    <tr>\n",
       "      <th>15</th>\n",
       "      <td>16</td>\n",
       "      <td>dairy eggs</td>\n",
       "    </tr>\n",
       "    <tr>\n",
       "      <th>16</th>\n",
       "      <td>17</td>\n",
       "      <td>household</td>\n",
       "    </tr>\n",
       "    <tr>\n",
       "      <th>17</th>\n",
       "      <td>18</td>\n",
       "      <td>babies</td>\n",
       "    </tr>\n",
       "    <tr>\n",
       "      <th>18</th>\n",
       "      <td>19</td>\n",
       "      <td>snacks</td>\n",
       "    </tr>\n",
       "    <tr>\n",
       "      <th>19</th>\n",
       "      <td>20</td>\n",
       "      <td>deli</td>\n",
       "    </tr>\n",
       "    <tr>\n",
       "      <th>20</th>\n",
       "      <td>21</td>\n",
       "      <td>missing</td>\n",
       "    </tr>\n",
       "  </tbody>\n",
       "</table>\n",
       "</div>"
      ],
      "text/plain": [
       "    department_id       department\n",
       "0               1           frozen\n",
       "1               2            other\n",
       "2               3           bakery\n",
       "3               4          produce\n",
       "4               5          alcohol\n",
       "5               6    international\n",
       "6               7        beverages\n",
       "7               8             pets\n",
       "8               9  dry goods pasta\n",
       "9              10             bulk\n",
       "10             11    personal care\n",
       "11             12     meat seafood\n",
       "12             13           pantry\n",
       "13             14        breakfast\n",
       "14             15     canned goods\n",
       "15             16       dairy eggs\n",
       "16             17        household\n",
       "17             18           babies\n",
       "18             19           snacks\n",
       "19             20             deli\n",
       "20             21          missing"
      ]
     },
     "execution_count": 27,
     "metadata": {},
     "output_type": "execute_result"
    }
   ],
   "source": [
    "departments"
   ]
  },
  {
   "cell_type": "code",
   "execution_count": 28,
   "id": "48a4f6dc",
   "metadata": {
    "trusted": false
   },
   "outputs": [
    {
     "data": {
      "text/plain": [
       "0     False\n",
       "1     False\n",
       "2     False\n",
       "3     False\n",
       "4     False\n",
       "5     False\n",
       "6     False\n",
       "7     False\n",
       "8     False\n",
       "9     False\n",
       "10    False\n",
       "11    False\n",
       "12    False\n",
       "13    False\n",
       "14    False\n",
       "15    False\n",
       "16    False\n",
       "17    False\n",
       "18    False\n",
       "19    False\n",
       "20    False\n",
       "Name: department, dtype: bool"
      ]
     },
     "execution_count": 28,
     "metadata": {},
     "output_type": "execute_result"
    }
   ],
   "source": [
    "departments['department'].isna()"
   ]
  },
  {
   "cell_type": "markdown",
   "id": "889349c1",
   "metadata": {},
   "source": [
    "### `aisles` data frame"
   ]
  },
  {
   "cell_type": "code",
   "execution_count": 29,
   "id": "9da89fb9-4679-40f5-ad0d-c34df753a3f8",
   "metadata": {
    "trusted": false
   },
   "outputs": [
    {
     "name": "stdout",
     "output_type": "stream",
     "text": [
      "<class 'pandas.core.frame.DataFrame'>\n",
      "RangeIndex: 134 entries, 0 to 133\n",
      "Data columns (total 2 columns):\n",
      " #   Column    Non-Null Count  Dtype \n",
      "---  ------    --------------  ----- \n",
      " 0   aisle_id  134 non-null    int64 \n",
      " 1   aisle     134 non-null    object\n",
      "dtypes: int64(1), object(1)\n",
      "memory usage: 2.2+ KB\n"
     ]
    }
   ],
   "source": [
    "# Checking the overall info of the dataframe\n",
    "\n",
    "aisles.info()"
   ]
  },
  {
   "cell_type": "markdown",
   "id": "58916183",
   "metadata": {},
   "source": [
    "There are no missing values in the aisles table."
   ]
  },
  {
   "cell_type": "code",
   "execution_count": 30,
   "id": "da7c2822",
   "metadata": {
    "trusted": false
   },
   "outputs": [
    {
     "data": {
      "text/html": [
       "<div>\n",
       "<style scoped>\n",
       "    .dataframe tbody tr th:only-of-type {\n",
       "        vertical-align: middle;\n",
       "    }\n",
       "\n",
       "    .dataframe tbody tr th {\n",
       "        vertical-align: top;\n",
       "    }\n",
       "\n",
       "    .dataframe thead th {\n",
       "        text-align: right;\n",
       "    }\n",
       "</style>\n",
       "<table border=\"1\" class=\"dataframe\">\n",
       "  <thead>\n",
       "    <tr style=\"text-align: right;\">\n",
       "      <th></th>\n",
       "      <th>aisle_id</th>\n",
       "      <th>aisle</th>\n",
       "    </tr>\n",
       "  </thead>\n",
       "  <tbody>\n",
       "    <tr>\n",
       "      <th>0</th>\n",
       "      <td>1</td>\n",
       "      <td>prepared soups salads</td>\n",
       "    </tr>\n",
       "    <tr>\n",
       "      <th>1</th>\n",
       "      <td>2</td>\n",
       "      <td>specialty cheeses</td>\n",
       "    </tr>\n",
       "    <tr>\n",
       "      <th>2</th>\n",
       "      <td>3</td>\n",
       "      <td>energy granola bars</td>\n",
       "    </tr>\n",
       "    <tr>\n",
       "      <th>3</th>\n",
       "      <td>4</td>\n",
       "      <td>instant foods</td>\n",
       "    </tr>\n",
       "    <tr>\n",
       "      <th>4</th>\n",
       "      <td>5</td>\n",
       "      <td>marinades meat preparation</td>\n",
       "    </tr>\n",
       "    <tr>\n",
       "      <th>5</th>\n",
       "      <td>6</td>\n",
       "      <td>other</td>\n",
       "    </tr>\n",
       "    <tr>\n",
       "      <th>6</th>\n",
       "      <td>7</td>\n",
       "      <td>packaged meat</td>\n",
       "    </tr>\n",
       "    <tr>\n",
       "      <th>7</th>\n",
       "      <td>8</td>\n",
       "      <td>bakery desserts</td>\n",
       "    </tr>\n",
       "    <tr>\n",
       "      <th>8</th>\n",
       "      <td>9</td>\n",
       "      <td>pasta sauce</td>\n",
       "    </tr>\n",
       "    <tr>\n",
       "      <th>9</th>\n",
       "      <td>10</td>\n",
       "      <td>kitchen supplies</td>\n",
       "    </tr>\n",
       "  </tbody>\n",
       "</table>\n",
       "</div>"
      ],
      "text/plain": [
       "   aisle_id                       aisle\n",
       "0         1       prepared soups salads\n",
       "1         2           specialty cheeses\n",
       "2         3         energy granola bars\n",
       "3         4               instant foods\n",
       "4         5  marinades meat preparation\n",
       "5         6                       other\n",
       "6         7               packaged meat\n",
       "7         8             bakery desserts\n",
       "8         9                 pasta sauce\n",
       "9        10            kitchen supplies"
      ]
     },
     "execution_count": 30,
     "metadata": {},
     "output_type": "execute_result"
    }
   ],
   "source": [
    "aisles.head(10)"
   ]
  },
  {
   "cell_type": "code",
   "execution_count": 31,
   "id": "6e8253a0",
   "metadata": {
    "trusted": false
   },
   "outputs": [
    {
     "data": {
      "text/plain": [
       "0"
      ]
     },
     "execution_count": 31,
     "metadata": {},
     "output_type": "execute_result"
    }
   ],
   "source": [
    "aisles.duplicated().sum()"
   ]
  },
  {
   "cell_type": "markdown",
   "id": "e606bdaf",
   "metadata": {},
   "source": [
    "There aren't any duplicates in the aisles table"
   ]
  },
  {
   "cell_type": "markdown",
   "id": "274cd06a",
   "metadata": {},
   "source": [
    "### `order_products` data frame"
   ]
  },
  {
   "cell_type": "code",
   "execution_count": 32,
   "id": "c456b086",
   "metadata": {
    "trusted": false
   },
   "outputs": [
    {
     "name": "stdout",
     "output_type": "stream",
     "text": [
      "<class 'pandas.core.frame.DataFrame'>\n",
      "RangeIndex: 4545007 entries, 0 to 4545006\n",
      "Data columns (total 4 columns):\n",
      " #   Column             Non-Null Count    Dtype  \n",
      "---  ------             --------------    -----  \n",
      " 0   order_id           4545007 non-null  int64  \n",
      " 1   product_id         4545007 non-null  int64  \n",
      " 2   add_to_cart_order  4544171 non-null  float64\n",
      " 3   reordered          4545007 non-null  int64  \n",
      "dtypes: float64(1), int64(3)\n",
      "memory usage: 138.7 MB\n"
     ]
    }
   ],
   "source": [
    "# Looking up overall info of the table\n",
    "\n",
    "ord_products.info(show_counts=True)"
   ]
  },
  {
   "cell_type": "markdown",
   "id": "eacf56d7",
   "metadata": {},
   "source": [
    "There are no missing value in the table"
   ]
  },
  {
   "cell_type": "code",
   "execution_count": 33,
   "id": "52326689-84a8-4b8f-a881-7c68780f62c9",
   "metadata": {
    "trusted": false
   },
   "outputs": [
    {
     "data": {
      "text/plain": [
       "0"
      ]
     },
     "execution_count": 33,
     "metadata": {},
     "output_type": "execute_result"
    }
   ],
   "source": [
    "# Check for fullly duplicate rows\n",
    "\n",
    "ord_products.duplicated().sum()"
   ]
  },
  {
   "cell_type": "code",
   "execution_count": 34,
   "id": "7b861391",
   "metadata": {
    "trusted": false
   },
   "outputs": [
    {
     "data": {
      "text/html": [
       "<div>\n",
       "<style scoped>\n",
       "    .dataframe tbody tr th:only-of-type {\n",
       "        vertical-align: middle;\n",
       "    }\n",
       "\n",
       "    .dataframe tbody tr th {\n",
       "        vertical-align: top;\n",
       "    }\n",
       "\n",
       "    .dataframe thead th {\n",
       "        text-align: right;\n",
       "    }\n",
       "</style>\n",
       "<table border=\"1\" class=\"dataframe\">\n",
       "  <thead>\n",
       "    <tr style=\"text-align: right;\">\n",
       "      <th></th>\n",
       "      <th>order_id</th>\n",
       "      <th>product_id</th>\n",
       "      <th>add_to_cart_order</th>\n",
       "      <th>reordered</th>\n",
       "    </tr>\n",
       "  </thead>\n",
       "  <tbody>\n",
       "    <tr>\n",
       "      <th>4544997</th>\n",
       "      <td>2300092</td>\n",
       "      <td>10017</td>\n",
       "      <td>1.0</td>\n",
       "      <td>0</td>\n",
       "    </tr>\n",
       "    <tr>\n",
       "      <th>4544998</th>\n",
       "      <td>1910401</td>\n",
       "      <td>31915</td>\n",
       "      <td>10.0</td>\n",
       "      <td>1</td>\n",
       "    </tr>\n",
       "    <tr>\n",
       "      <th>4544999</th>\n",
       "      <td>1622300</td>\n",
       "      <td>24852</td>\n",
       "      <td>1.0</td>\n",
       "      <td>1</td>\n",
       "    </tr>\n",
       "    <tr>\n",
       "      <th>4545000</th>\n",
       "      <td>1125324</td>\n",
       "      <td>40600</td>\n",
       "      <td>6.0</td>\n",
       "      <td>1</td>\n",
       "    </tr>\n",
       "    <tr>\n",
       "      <th>4545001</th>\n",
       "      <td>2179020</td>\n",
       "      <td>10902</td>\n",
       "      <td>23.0</td>\n",
       "      <td>0</td>\n",
       "    </tr>\n",
       "    <tr>\n",
       "      <th>4545002</th>\n",
       "      <td>577211</td>\n",
       "      <td>15290</td>\n",
       "      <td>12.0</td>\n",
       "      <td>1</td>\n",
       "    </tr>\n",
       "    <tr>\n",
       "      <th>4545003</th>\n",
       "      <td>1219554</td>\n",
       "      <td>21914</td>\n",
       "      <td>9.0</td>\n",
       "      <td>0</td>\n",
       "    </tr>\n",
       "    <tr>\n",
       "      <th>4545004</th>\n",
       "      <td>692640</td>\n",
       "      <td>47766</td>\n",
       "      <td>4.0</td>\n",
       "      <td>1</td>\n",
       "    </tr>\n",
       "    <tr>\n",
       "      <th>4545005</th>\n",
       "      <td>319435</td>\n",
       "      <td>691</td>\n",
       "      <td>8.0</td>\n",
       "      <td>1</td>\n",
       "    </tr>\n",
       "    <tr>\n",
       "      <th>4545006</th>\n",
       "      <td>1398151</td>\n",
       "      <td>28733</td>\n",
       "      <td>9.0</td>\n",
       "      <td>0</td>\n",
       "    </tr>\n",
       "  </tbody>\n",
       "</table>\n",
       "</div>"
      ],
      "text/plain": [
       "         order_id  product_id  add_to_cart_order  reordered\n",
       "4544997   2300092       10017                1.0          0\n",
       "4544998   1910401       31915               10.0          1\n",
       "4544999   1622300       24852                1.0          1\n",
       "4545000   1125324       40600                6.0          1\n",
       "4545001   2179020       10902               23.0          0\n",
       "4545002    577211       15290               12.0          1\n",
       "4545003   1219554       21914                9.0          0\n",
       "4545004    692640       47766                4.0          1\n",
       "4545005    319435         691                8.0          1\n",
       "4545006   1398151       28733                9.0          0"
      ]
     },
     "execution_count": 34,
     "metadata": {},
     "output_type": "execute_result"
    }
   ],
   "source": [
    "\n",
    "ord_products['order_id'].duplicated().sum()\n",
    "ord_products[ord_products['order_id'].duplicated(keep=False)].tail(10)"
   ]
  },
  {
   "cell_type": "code",
   "execution_count": 35,
   "id": "013dc35a",
   "metadata": {
    "trusted": false
   },
   "outputs": [
    {
     "data": {
      "text/html": [
       "<div>\n",
       "<style scoped>\n",
       "    .dataframe tbody tr th:only-of-type {\n",
       "        vertical-align: middle;\n",
       "    }\n",
       "\n",
       "    .dataframe tbody tr th {\n",
       "        vertical-align: top;\n",
       "    }\n",
       "\n",
       "    .dataframe thead th {\n",
       "        text-align: right;\n",
       "    }\n",
       "</style>\n",
       "<table border=\"1\" class=\"dataframe\">\n",
       "  <thead>\n",
       "    <tr style=\"text-align: right;\">\n",
       "      <th></th>\n",
       "      <th>order_id</th>\n",
       "      <th>product_id</th>\n",
       "      <th>add_to_cart_order</th>\n",
       "      <th>reordered</th>\n",
       "    </tr>\n",
       "  </thead>\n",
       "  <tbody>\n",
       "    <tr>\n",
       "      <th>4544997</th>\n",
       "      <td>2300092</td>\n",
       "      <td>10017</td>\n",
       "      <td>1.0</td>\n",
       "      <td>0</td>\n",
       "    </tr>\n",
       "    <tr>\n",
       "      <th>4544998</th>\n",
       "      <td>1910401</td>\n",
       "      <td>31915</td>\n",
       "      <td>10.0</td>\n",
       "      <td>1</td>\n",
       "    </tr>\n",
       "    <tr>\n",
       "      <th>4544999</th>\n",
       "      <td>1622300</td>\n",
       "      <td>24852</td>\n",
       "      <td>1.0</td>\n",
       "      <td>1</td>\n",
       "    </tr>\n",
       "    <tr>\n",
       "      <th>4545000</th>\n",
       "      <td>1125324</td>\n",
       "      <td>40600</td>\n",
       "      <td>6.0</td>\n",
       "      <td>1</td>\n",
       "    </tr>\n",
       "    <tr>\n",
       "      <th>4545001</th>\n",
       "      <td>2179020</td>\n",
       "      <td>10902</td>\n",
       "      <td>23.0</td>\n",
       "      <td>0</td>\n",
       "    </tr>\n",
       "    <tr>\n",
       "      <th>4545002</th>\n",
       "      <td>577211</td>\n",
       "      <td>15290</td>\n",
       "      <td>12.0</td>\n",
       "      <td>1</td>\n",
       "    </tr>\n",
       "    <tr>\n",
       "      <th>4545003</th>\n",
       "      <td>1219554</td>\n",
       "      <td>21914</td>\n",
       "      <td>9.0</td>\n",
       "      <td>0</td>\n",
       "    </tr>\n",
       "    <tr>\n",
       "      <th>4545004</th>\n",
       "      <td>692640</td>\n",
       "      <td>47766</td>\n",
       "      <td>4.0</td>\n",
       "      <td>1</td>\n",
       "    </tr>\n",
       "    <tr>\n",
       "      <th>4545005</th>\n",
       "      <td>319435</td>\n",
       "      <td>691</td>\n",
       "      <td>8.0</td>\n",
       "      <td>1</td>\n",
       "    </tr>\n",
       "    <tr>\n",
       "      <th>4545006</th>\n",
       "      <td>1398151</td>\n",
       "      <td>28733</td>\n",
       "      <td>9.0</td>\n",
       "      <td>0</td>\n",
       "    </tr>\n",
       "  </tbody>\n",
       "</table>\n",
       "</div>"
      ],
      "text/plain": [
       "         order_id  product_id  add_to_cart_order  reordered\n",
       "4544997   2300092       10017                1.0          0\n",
       "4544998   1910401       31915               10.0          1\n",
       "4544999   1622300       24852                1.0          1\n",
       "4545000   1125324       40600                6.0          1\n",
       "4545001   2179020       10902               23.0          0\n",
       "4545002    577211       15290               12.0          1\n",
       "4545003   1219554       21914                9.0          0\n",
       "4545004    692640       47766                4.0          1\n",
       "4545005    319435         691                8.0          1\n",
       "4545006   1398151       28733                9.0          0"
      ]
     },
     "execution_count": 35,
     "metadata": {},
     "output_type": "execute_result"
    }
   ],
   "source": [
    "# corrected\n",
    "\n",
    "ord_products['product_id'].duplicated().sum()\n",
    "ord_products[ord_products['product_id'].duplicated(keep=False)].tail(10)"
   ]
  },
  {
   "cell_type": "markdown",
   "id": "1e46de76",
   "metadata": {},
   "source": [
    "## Find and remove missing values\n"
   ]
  },
  {
   "cell_type": "markdown",
   "id": "c0aebd78",
   "metadata": {},
   "source": [
    "### `products` data frame"
   ]
  },
  {
   "cell_type": "code",
   "execution_count": 36,
   "id": "fe4a8b0f",
   "metadata": {
    "trusted": false
   },
   "outputs": [
    {
     "name": "stdout",
     "output_type": "stream",
     "text": [
      "<class 'pandas.core.frame.DataFrame'>\n",
      "RangeIndex: 49694 entries, 0 to 49693\n",
      "Data columns (total 4 columns):\n",
      " #   Column         Non-Null Count  Dtype \n",
      "---  ------         --------------  ----- \n",
      " 0   product_id     49694 non-null  int64 \n",
      " 1   product_name   48436 non-null  object\n",
      " 2   aisle_id       49694 non-null  int64 \n",
      " 3   department_id  49694 non-null  int64 \n",
      "dtypes: int64(3), object(1)\n",
      "memory usage: 1.5+ MB\n"
     ]
    }
   ],
   "source": [
    "# Pulling up the info again\n",
    "products.info()"
   ]
  },
  {
   "cell_type": "code",
   "execution_count": 37,
   "id": "e96167bc",
   "metadata": {
    "trusted": false
   },
   "outputs": [
    {
     "data": {
      "text/plain": [
       "1258"
      ]
     },
     "execution_count": 37,
     "metadata": {},
     "output_type": "execute_result"
    }
   ],
   "source": [
    "# Are all of the missing product names associated with aisle ID 100?\n",
    "\n",
    "products['product_name'].isna().sum()"
   ]
  },
  {
   "cell_type": "code",
   "execution_count": 38,
   "id": "b7f17ae9",
   "metadata": {
    "trusted": false
   },
   "outputs": [
    {
     "data": {
      "text/html": [
       "<div>\n",
       "<style scoped>\n",
       "    .dataframe tbody tr th:only-of-type {\n",
       "        vertical-align: middle;\n",
       "    }\n",
       "\n",
       "    .dataframe tbody tr th {\n",
       "        vertical-align: top;\n",
       "    }\n",
       "\n",
       "    .dataframe thead th {\n",
       "        text-align: right;\n",
       "    }\n",
       "</style>\n",
       "<table border=\"1\" class=\"dataframe\">\n",
       "  <thead>\n",
       "    <tr style=\"text-align: right;\">\n",
       "      <th></th>\n",
       "      <th>product_id</th>\n",
       "      <th>product_name</th>\n",
       "      <th>aisle_id</th>\n",
       "      <th>department_id</th>\n",
       "    </tr>\n",
       "  </thead>\n",
       "  <tbody>\n",
       "    <tr>\n",
       "      <th>37</th>\n",
       "      <td>38</td>\n",
       "      <td>NaN</td>\n",
       "      <td>100</td>\n",
       "      <td>21</td>\n",
       "    </tr>\n",
       "    <tr>\n",
       "      <th>71</th>\n",
       "      <td>72</td>\n",
       "      <td>NaN</td>\n",
       "      <td>100</td>\n",
       "      <td>21</td>\n",
       "    </tr>\n",
       "    <tr>\n",
       "      <th>109</th>\n",
       "      <td>110</td>\n",
       "      <td>NaN</td>\n",
       "      <td>100</td>\n",
       "      <td>21</td>\n",
       "    </tr>\n",
       "    <tr>\n",
       "      <th>296</th>\n",
       "      <td>297</td>\n",
       "      <td>NaN</td>\n",
       "      <td>100</td>\n",
       "      <td>21</td>\n",
       "    </tr>\n",
       "    <tr>\n",
       "      <th>416</th>\n",
       "      <td>417</td>\n",
       "      <td>NaN</td>\n",
       "      <td>100</td>\n",
       "      <td>21</td>\n",
       "    </tr>\n",
       "    <tr>\n",
       "      <th>...</th>\n",
       "      <td>...</td>\n",
       "      <td>...</td>\n",
       "      <td>...</td>\n",
       "      <td>...</td>\n",
       "    </tr>\n",
       "    <tr>\n",
       "      <th>49552</th>\n",
       "      <td>49553</td>\n",
       "      <td>NaN</td>\n",
       "      <td>100</td>\n",
       "      <td>21</td>\n",
       "    </tr>\n",
       "    <tr>\n",
       "      <th>49574</th>\n",
       "      <td>49575</td>\n",
       "      <td>NaN</td>\n",
       "      <td>100</td>\n",
       "      <td>21</td>\n",
       "    </tr>\n",
       "    <tr>\n",
       "      <th>49640</th>\n",
       "      <td>49641</td>\n",
       "      <td>NaN</td>\n",
       "      <td>100</td>\n",
       "      <td>21</td>\n",
       "    </tr>\n",
       "    <tr>\n",
       "      <th>49663</th>\n",
       "      <td>49664</td>\n",
       "      <td>NaN</td>\n",
       "      <td>100</td>\n",
       "      <td>21</td>\n",
       "    </tr>\n",
       "    <tr>\n",
       "      <th>49668</th>\n",
       "      <td>49669</td>\n",
       "      <td>NaN</td>\n",
       "      <td>100</td>\n",
       "      <td>21</td>\n",
       "    </tr>\n",
       "  </tbody>\n",
       "</table>\n",
       "<p>1258 rows × 4 columns</p>\n",
       "</div>"
      ],
      "text/plain": [
       "       product_id product_name  aisle_id  department_id\n",
       "37             38          NaN       100             21\n",
       "71             72          NaN       100             21\n",
       "109           110          NaN       100             21\n",
       "296           297          NaN       100             21\n",
       "416           417          NaN       100             21\n",
       "...           ...          ...       ...            ...\n",
       "49552       49553          NaN       100             21\n",
       "49574       49575          NaN       100             21\n",
       "49640       49641          NaN       100             21\n",
       "49663       49664          NaN       100             21\n",
       "49668       49669          NaN       100             21\n",
       "\n",
       "[1258 rows x 4 columns]"
      ]
     },
     "execution_count": 38,
     "metadata": {},
     "output_type": "execute_result"
    }
   ],
   "source": [
    "products[(products['product_name'].isna()) & (products['aisle_id'] == 100)]"
   ]
  },
  {
   "cell_type": "markdown",
   "id": "c4737cf8",
   "metadata": {},
   "source": [
    "Confirmed. All the missing product names are indeed associated with aisle ID 100."
   ]
  },
  {
   "cell_type": "code",
   "execution_count": 39,
   "id": "8fd0a541",
   "metadata": {
    "trusted": false
   },
   "outputs": [
    {
     "data": {
      "text/html": [
       "<div>\n",
       "<style scoped>\n",
       "    .dataframe tbody tr th:only-of-type {\n",
       "        vertical-align: middle;\n",
       "    }\n",
       "\n",
       "    .dataframe tbody tr th {\n",
       "        vertical-align: top;\n",
       "    }\n",
       "\n",
       "    .dataframe thead th {\n",
       "        text-align: right;\n",
       "    }\n",
       "</style>\n",
       "<table border=\"1\" class=\"dataframe\">\n",
       "  <thead>\n",
       "    <tr style=\"text-align: right;\">\n",
       "      <th></th>\n",
       "      <th>product_id</th>\n",
       "      <th>product_name</th>\n",
       "      <th>aisle_id</th>\n",
       "      <th>department_id</th>\n",
       "    </tr>\n",
       "  </thead>\n",
       "  <tbody>\n",
       "    <tr>\n",
       "      <th>37</th>\n",
       "      <td>38</td>\n",
       "      <td>NaN</td>\n",
       "      <td>100</td>\n",
       "      <td>21</td>\n",
       "    </tr>\n",
       "    <tr>\n",
       "      <th>71</th>\n",
       "      <td>72</td>\n",
       "      <td>NaN</td>\n",
       "      <td>100</td>\n",
       "      <td>21</td>\n",
       "    </tr>\n",
       "    <tr>\n",
       "      <th>109</th>\n",
       "      <td>110</td>\n",
       "      <td>NaN</td>\n",
       "      <td>100</td>\n",
       "      <td>21</td>\n",
       "    </tr>\n",
       "    <tr>\n",
       "      <th>296</th>\n",
       "      <td>297</td>\n",
       "      <td>NaN</td>\n",
       "      <td>100</td>\n",
       "      <td>21</td>\n",
       "    </tr>\n",
       "    <tr>\n",
       "      <th>416</th>\n",
       "      <td>417</td>\n",
       "      <td>NaN</td>\n",
       "      <td>100</td>\n",
       "      <td>21</td>\n",
       "    </tr>\n",
       "    <tr>\n",
       "      <th>...</th>\n",
       "      <td>...</td>\n",
       "      <td>...</td>\n",
       "      <td>...</td>\n",
       "      <td>...</td>\n",
       "    </tr>\n",
       "    <tr>\n",
       "      <th>49552</th>\n",
       "      <td>49553</td>\n",
       "      <td>NaN</td>\n",
       "      <td>100</td>\n",
       "      <td>21</td>\n",
       "    </tr>\n",
       "    <tr>\n",
       "      <th>49574</th>\n",
       "      <td>49575</td>\n",
       "      <td>NaN</td>\n",
       "      <td>100</td>\n",
       "      <td>21</td>\n",
       "    </tr>\n",
       "    <tr>\n",
       "      <th>49640</th>\n",
       "      <td>49641</td>\n",
       "      <td>NaN</td>\n",
       "      <td>100</td>\n",
       "      <td>21</td>\n",
       "    </tr>\n",
       "    <tr>\n",
       "      <th>49663</th>\n",
       "      <td>49664</td>\n",
       "      <td>NaN</td>\n",
       "      <td>100</td>\n",
       "      <td>21</td>\n",
       "    </tr>\n",
       "    <tr>\n",
       "      <th>49668</th>\n",
       "      <td>49669</td>\n",
       "      <td>NaN</td>\n",
       "      <td>100</td>\n",
       "      <td>21</td>\n",
       "    </tr>\n",
       "  </tbody>\n",
       "</table>\n",
       "<p>1258 rows × 4 columns</p>\n",
       "</div>"
      ],
      "text/plain": [
       "       product_id product_name  aisle_id  department_id\n",
       "37             38          NaN       100             21\n",
       "71             72          NaN       100             21\n",
       "109           110          NaN       100             21\n",
       "296           297          NaN       100             21\n",
       "416           417          NaN       100             21\n",
       "...           ...          ...       ...            ...\n",
       "49552       49553          NaN       100             21\n",
       "49574       49575          NaN       100             21\n",
       "49640       49641          NaN       100             21\n",
       "49663       49664          NaN       100             21\n",
       "49668       49669          NaN       100             21\n",
       "\n",
       "[1258 rows x 4 columns]"
      ]
     },
     "execution_count": 39,
     "metadata": {},
     "output_type": "execute_result"
    }
   ],
   "source": [
    "# Are all of the missing product names associated with department ID 21?\n",
    "\n",
    "products[(products['product_name'].isna()) & (products['department_id'] == 21)]"
   ]
  },
  {
   "cell_type": "markdown",
   "id": "5d075111",
   "metadata": {},
   "source": [
    "This is also confirmed. It seems there's a correlation between the aisle IDs, department IDs, and the missing values in the product names."
   ]
  },
  {
   "cell_type": "code",
   "execution_count": 40,
   "id": "325c3464",
   "metadata": {
    "trusted": false
   },
   "outputs": [
    {
     "data": {
      "text/html": [
       "<div>\n",
       "<style scoped>\n",
       "    .dataframe tbody tr th:only-of-type {\n",
       "        vertical-align: middle;\n",
       "    }\n",
       "\n",
       "    .dataframe tbody tr th {\n",
       "        vertical-align: top;\n",
       "    }\n",
       "\n",
       "    .dataframe thead th {\n",
       "        text-align: right;\n",
       "    }\n",
       "</style>\n",
       "<table border=\"1\" class=\"dataframe\">\n",
       "  <thead>\n",
       "    <tr style=\"text-align: right;\">\n",
       "      <th></th>\n",
       "      <th>aisle_id</th>\n",
       "      <th>aisle</th>\n",
       "    </tr>\n",
       "  </thead>\n",
       "  <tbody>\n",
       "    <tr>\n",
       "      <th>99</th>\n",
       "      <td>100</td>\n",
       "      <td>missing</td>\n",
       "    </tr>\n",
       "  </tbody>\n",
       "</table>\n",
       "</div>"
      ],
      "text/plain": [
       "    aisle_id    aisle\n",
       "99       100  missing"
      ]
     },
     "execution_count": 40,
     "metadata": {},
     "output_type": "execute_result"
    }
   ],
   "source": [
    "# What is this ailse and department?\n",
    "\n",
    "aisles[aisles['aisle_id'] == 100]"
   ]
  },
  {
   "cell_type": "code",
   "execution_count": 41,
   "id": "6b295120",
   "metadata": {
    "trusted": false
   },
   "outputs": [
    {
     "data": {
      "text/html": [
       "<div>\n",
       "<style scoped>\n",
       "    .dataframe tbody tr th:only-of-type {\n",
       "        vertical-align: middle;\n",
       "    }\n",
       "\n",
       "    .dataframe tbody tr th {\n",
       "        vertical-align: top;\n",
       "    }\n",
       "\n",
       "    .dataframe thead th {\n",
       "        text-align: right;\n",
       "    }\n",
       "</style>\n",
       "<table border=\"1\" class=\"dataframe\">\n",
       "  <thead>\n",
       "    <tr style=\"text-align: right;\">\n",
       "      <th></th>\n",
       "      <th>product_id</th>\n",
       "      <th>product_name</th>\n",
       "      <th>aisle_id</th>\n",
       "      <th>department_id</th>\n",
       "    </tr>\n",
       "  </thead>\n",
       "  <tbody>\n",
       "    <tr>\n",
       "      <th>37</th>\n",
       "      <td>38</td>\n",
       "      <td>Unknown</td>\n",
       "      <td>100</td>\n",
       "      <td>21</td>\n",
       "    </tr>\n",
       "    <tr>\n",
       "      <th>71</th>\n",
       "      <td>72</td>\n",
       "      <td>Unknown</td>\n",
       "      <td>100</td>\n",
       "      <td>21</td>\n",
       "    </tr>\n",
       "    <tr>\n",
       "      <th>109</th>\n",
       "      <td>110</td>\n",
       "      <td>Unknown</td>\n",
       "      <td>100</td>\n",
       "      <td>21</td>\n",
       "    </tr>\n",
       "    <tr>\n",
       "      <th>296</th>\n",
       "      <td>297</td>\n",
       "      <td>Unknown</td>\n",
       "      <td>100</td>\n",
       "      <td>21</td>\n",
       "    </tr>\n",
       "    <tr>\n",
       "      <th>416</th>\n",
       "      <td>417</td>\n",
       "      <td>Unknown</td>\n",
       "      <td>100</td>\n",
       "      <td>21</td>\n",
       "    </tr>\n",
       "    <tr>\n",
       "      <th>...</th>\n",
       "      <td>...</td>\n",
       "      <td>...</td>\n",
       "      <td>...</td>\n",
       "      <td>...</td>\n",
       "    </tr>\n",
       "    <tr>\n",
       "      <th>49552</th>\n",
       "      <td>49553</td>\n",
       "      <td>Unknown</td>\n",
       "      <td>100</td>\n",
       "      <td>21</td>\n",
       "    </tr>\n",
       "    <tr>\n",
       "      <th>49574</th>\n",
       "      <td>49575</td>\n",
       "      <td>Unknown</td>\n",
       "      <td>100</td>\n",
       "      <td>21</td>\n",
       "    </tr>\n",
       "    <tr>\n",
       "      <th>49640</th>\n",
       "      <td>49641</td>\n",
       "      <td>Unknown</td>\n",
       "      <td>100</td>\n",
       "      <td>21</td>\n",
       "    </tr>\n",
       "    <tr>\n",
       "      <th>49663</th>\n",
       "      <td>49664</td>\n",
       "      <td>Unknown</td>\n",
       "      <td>100</td>\n",
       "      <td>21</td>\n",
       "    </tr>\n",
       "    <tr>\n",
       "      <th>49668</th>\n",
       "      <td>49669</td>\n",
       "      <td>Unknown</td>\n",
       "      <td>100</td>\n",
       "      <td>21</td>\n",
       "    </tr>\n",
       "  </tbody>\n",
       "</table>\n",
       "<p>1258 rows × 4 columns</p>\n",
       "</div>"
      ],
      "text/plain": [
       "       product_id product_name  aisle_id  department_id\n",
       "37             38      Unknown       100             21\n",
       "71             72      Unknown       100             21\n",
       "109           110      Unknown       100             21\n",
       "296           297      Unknown       100             21\n",
       "416           417      Unknown       100             21\n",
       "...           ...          ...       ...            ...\n",
       "49552       49553      Unknown       100             21\n",
       "49574       49575      Unknown       100             21\n",
       "49640       49641      Unknown       100             21\n",
       "49663       49664      Unknown       100             21\n",
       "49668       49669      Unknown       100             21\n",
       "\n",
       "[1258 rows x 4 columns]"
      ]
     },
     "execution_count": 41,
     "metadata": {},
     "output_type": "execute_result"
    }
   ],
   "source": [
    "# Fill missing product names with 'Unknown'\n",
    "\n",
    "products['product_name'] = products['product_name'].fillna(value='Unknown')\n",
    "\n",
    "products[products['aisle_id'] == 100]"
   ]
  },
  {
   "cell_type": "markdown",
   "id": "b429c6e6",
   "metadata": {},
   "source": [
    "Changed all the missing values in products table's 'product_name' column to 'Unknown', as their corresponding aisle and department ID are missing, or simply doesn't exist."
   ]
  },
  {
   "cell_type": "markdown",
   "id": "7eb45c86",
   "metadata": {},
   "source": [
    "### `orders` data frame"
   ]
  },
  {
   "cell_type": "code",
   "execution_count": 42,
   "id": "93e41d96",
   "metadata": {
    "trusted": false
   },
   "outputs": [
    {
     "name": "stdout",
     "output_type": "stream",
     "text": [
      "<class 'pandas.core.frame.DataFrame'>\n",
      "Int64Index: 478952 entries, 0 to 478966\n",
      "Data columns (total 6 columns):\n",
      " #   Column        Non-Null Count   Dtype  \n",
      "---  ------        --------------   -----  \n",
      " 0   order_id      478952 non-null  int64  \n",
      " 1   user_id       478952 non-null  int64  \n",
      " 2   order_number  478952 non-null  int64  \n",
      " 3   order_dow     478952 non-null  int64  \n",
      " 4   order_hod     478952 non-null  int64  \n",
      " 5   days_spo      450135 non-null  float64\n",
      "dtypes: float64(1), int64(5)\n",
      "memory usage: 25.6 MB\n"
     ]
    }
   ],
   "source": [
    "ic_orders.info()"
   ]
  },
  {
   "cell_type": "code",
   "execution_count": 43,
   "id": "166e5a86",
   "metadata": {
    "trusted": false
   },
   "outputs": [
    {
     "data": {
      "text/plain": [
       "order_id        0\n",
       "user_id         0\n",
       "order_number    0\n",
       "order_dow       0\n",
       "order_hod       0\n",
       "days_spo        0\n",
       "dtype: int64"
      ]
     },
     "execution_count": 43,
     "metadata": {},
     "output_type": "execute_result"
    }
   ],
   "source": [
    "# Are there any missing values where it's not a customer's first order?\n",
    "\n",
    "ic_orders[ic_orders['order_number'] != 1].isna().sum()"
   ]
  },
  {
   "cell_type": "code",
   "execution_count": 44,
   "id": "d7b79bfb",
   "metadata": {
    "trusted": false
   },
   "outputs": [
    {
     "data": {
      "text/html": [
       "<div>\n",
       "<style scoped>\n",
       "    .dataframe tbody tr th:only-of-type {\n",
       "        vertical-align: middle;\n",
       "    }\n",
       "\n",
       "    .dataframe tbody tr th {\n",
       "        vertical-align: top;\n",
       "    }\n",
       "\n",
       "    .dataframe thead th {\n",
       "        text-align: right;\n",
       "    }\n",
       "</style>\n",
       "<table border=\"1\" class=\"dataframe\">\n",
       "  <thead>\n",
       "    <tr style=\"text-align: right;\">\n",
       "      <th></th>\n",
       "      <th>order_id</th>\n",
       "      <th>user_id</th>\n",
       "      <th>order_number</th>\n",
       "      <th>order_dow</th>\n",
       "      <th>order_hod</th>\n",
       "      <th>days_spo</th>\n",
       "    </tr>\n",
       "  </thead>\n",
       "  <tbody>\n",
       "    <tr>\n",
       "      <th>28</th>\n",
       "      <td>133707</td>\n",
       "      <td>182261</td>\n",
       "      <td>1</td>\n",
       "      <td>3</td>\n",
       "      <td>10</td>\n",
       "      <td>NaN</td>\n",
       "    </tr>\n",
       "    <tr>\n",
       "      <th>96</th>\n",
       "      <td>787445</td>\n",
       "      <td>25685</td>\n",
       "      <td>1</td>\n",
       "      <td>6</td>\n",
       "      <td>18</td>\n",
       "      <td>NaN</td>\n",
       "    </tr>\n",
       "    <tr>\n",
       "      <th>100</th>\n",
       "      <td>294410</td>\n",
       "      <td>111449</td>\n",
       "      <td>1</td>\n",
       "      <td>0</td>\n",
       "      <td>19</td>\n",
       "      <td>NaN</td>\n",
       "    </tr>\n",
       "    <tr>\n",
       "      <th>103</th>\n",
       "      <td>2869915</td>\n",
       "      <td>123958</td>\n",
       "      <td>1</td>\n",
       "      <td>4</td>\n",
       "      <td>16</td>\n",
       "      <td>NaN</td>\n",
       "    </tr>\n",
       "    <tr>\n",
       "      <th>104</th>\n",
       "      <td>2521921</td>\n",
       "      <td>42286</td>\n",
       "      <td>1</td>\n",
       "      <td>3</td>\n",
       "      <td>18</td>\n",
       "      <td>NaN</td>\n",
       "    </tr>\n",
       "    <tr>\n",
       "      <th>...</th>\n",
       "      <td>...</td>\n",
       "      <td>...</td>\n",
       "      <td>...</td>\n",
       "      <td>...</td>\n",
       "      <td>...</td>\n",
       "      <td>...</td>\n",
       "    </tr>\n",
       "    <tr>\n",
       "      <th>478895</th>\n",
       "      <td>2589657</td>\n",
       "      <td>205028</td>\n",
       "      <td>1</td>\n",
       "      <td>0</td>\n",
       "      <td>16</td>\n",
       "      <td>NaN</td>\n",
       "    </tr>\n",
       "    <tr>\n",
       "      <th>478896</th>\n",
       "      <td>2222353</td>\n",
       "      <td>141211</td>\n",
       "      <td>1</td>\n",
       "      <td>2</td>\n",
       "      <td>13</td>\n",
       "      <td>NaN</td>\n",
       "    </tr>\n",
       "    <tr>\n",
       "      <th>478922</th>\n",
       "      <td>2272807</td>\n",
       "      <td>204154</td>\n",
       "      <td>1</td>\n",
       "      <td>1</td>\n",
       "      <td>15</td>\n",
       "      <td>NaN</td>\n",
       "    </tr>\n",
       "    <tr>\n",
       "      <th>478926</th>\n",
       "      <td>2499542</td>\n",
       "      <td>68810</td>\n",
       "      <td>1</td>\n",
       "      <td>4</td>\n",
       "      <td>19</td>\n",
       "      <td>NaN</td>\n",
       "    </tr>\n",
       "    <tr>\n",
       "      <th>478945</th>\n",
       "      <td>1387033</td>\n",
       "      <td>22496</td>\n",
       "      <td>1</td>\n",
       "      <td>5</td>\n",
       "      <td>14</td>\n",
       "      <td>NaN</td>\n",
       "    </tr>\n",
       "  </tbody>\n",
       "</table>\n",
       "<p>28817 rows × 6 columns</p>\n",
       "</div>"
      ],
      "text/plain": [
       "        order_id  user_id  order_number  order_dow  order_hod  days_spo\n",
       "28        133707   182261             1          3         10       NaN\n",
       "96        787445    25685             1          6         18       NaN\n",
       "100       294410   111449             1          0         19       NaN\n",
       "103      2869915   123958             1          4         16       NaN\n",
       "104      2521921    42286             1          3         18       NaN\n",
       "...          ...      ...           ...        ...        ...       ...\n",
       "478895   2589657   205028             1          0         16       NaN\n",
       "478896   2222353   141211             1          2         13       NaN\n",
       "478922   2272807   204154             1          1         15       NaN\n",
       "478926   2499542    68810             1          4         19       NaN\n",
       "478945   1387033    22496             1          5         14       NaN\n",
       "\n",
       "[28817 rows x 6 columns]"
      ]
     },
     "execution_count": 44,
     "metadata": {},
     "output_type": "execute_result"
    }
   ],
   "source": [
    "ic_orders[ic_orders['order_number'] == 1]"
   ]
  },
  {
   "cell_type": "code",
   "execution_count": 45,
   "id": "8f555fef",
   "metadata": {
    "trusted": false
   },
   "outputs": [
    {
     "data": {
      "text/plain": [
       "order_id            0\n",
       "user_id             0\n",
       "order_number        0\n",
       "order_dow           0\n",
       "order_hod           0\n",
       "days_spo        28817\n",
       "dtype: int64"
      ]
     },
     "execution_count": 45,
     "metadata": {},
     "output_type": "execute_result"
    }
   ],
   "source": [
    "ic_orders.isna().sum()"
   ]
  },
  {
   "cell_type": "markdown",
   "id": "c95c3a91",
   "metadata": {},
   "source": [
    "There are 28817 rows where there are missing values in the days since prior order column. And since the missing values are associated with first time orders, the assumption is that the values are missing because the costumers has no prior orders before this one.\n",
    "\n",
    "There are a total of 478952 indexes. There are only 450135 non-null values in the days since prior order column.\n",
    "\n",
    "478952 - 450135 = 28817\n",
    "\n",
    "It checks out. The missing values are due to no prior purchases from the customers. I am going to change the missing values to -1 to indicate that this order is a first time order. I am also going to change the data type to integer for uniformity of the column."
   ]
  },
  {
   "cell_type": "code",
   "execution_count": 46,
   "id": "169719a8",
   "metadata": {
    "trusted": false
   },
   "outputs": [
    {
     "name": "stdout",
     "output_type": "stream",
     "text": [
      "<class 'pandas.core.frame.DataFrame'>\n",
      "Int64Index: 478952 entries, 0 to 478966\n",
      "Data columns (total 6 columns):\n",
      " #   Column        Non-Null Count   Dtype\n",
      "---  ------        --------------   -----\n",
      " 0   order_id      478952 non-null  int64\n",
      " 1   user_id       478952 non-null  int64\n",
      " 2   order_number  478952 non-null  int64\n",
      " 3   order_dow     478952 non-null  int64\n",
      " 4   order_hod     478952 non-null  int64\n",
      " 5   days_spo      478952 non-null  int64\n",
      "dtypes: int64(6)\n",
      "memory usage: 25.6 MB\n"
     ]
    },
    {
     "data": {
      "text/html": [
       "<div>\n",
       "<style scoped>\n",
       "    .dataframe tbody tr th:only-of-type {\n",
       "        vertical-align: middle;\n",
       "    }\n",
       "\n",
       "    .dataframe tbody tr th {\n",
       "        vertical-align: top;\n",
       "    }\n",
       "\n",
       "    .dataframe thead th {\n",
       "        text-align: right;\n",
       "    }\n",
       "</style>\n",
       "<table border=\"1\" class=\"dataframe\">\n",
       "  <thead>\n",
       "    <tr style=\"text-align: right;\">\n",
       "      <th></th>\n",
       "      <th>order_id</th>\n",
       "      <th>user_id</th>\n",
       "      <th>order_number</th>\n",
       "      <th>order_dow</th>\n",
       "      <th>order_hod</th>\n",
       "      <th>days_spo</th>\n",
       "    </tr>\n",
       "  </thead>\n",
       "  <tbody>\n",
       "    <tr>\n",
       "      <th>331067</th>\n",
       "      <td>646337</td>\n",
       "      <td>159813</td>\n",
       "      <td>9</td>\n",
       "      <td>2</td>\n",
       "      <td>11</td>\n",
       "      <td>30</td>\n",
       "    </tr>\n",
       "    <tr>\n",
       "      <th>379307</th>\n",
       "      <td>1260869</td>\n",
       "      <td>109934</td>\n",
       "      <td>17</td>\n",
       "      <td>2</td>\n",
       "      <td>17</td>\n",
       "      <td>5</td>\n",
       "    </tr>\n",
       "    <tr>\n",
       "      <th>370244</th>\n",
       "      <td>787293</td>\n",
       "      <td>50096</td>\n",
       "      <td>32</td>\n",
       "      <td>3</td>\n",
       "      <td>15</td>\n",
       "      <td>9</td>\n",
       "    </tr>\n",
       "    <tr>\n",
       "      <th>78358</th>\n",
       "      <td>1119439</td>\n",
       "      <td>66926</td>\n",
       "      <td>9</td>\n",
       "      <td>4</td>\n",
       "      <td>14</td>\n",
       "      <td>13</td>\n",
       "    </tr>\n",
       "    <tr>\n",
       "      <th>149446</th>\n",
       "      <td>2630554</td>\n",
       "      <td>72722</td>\n",
       "      <td>5</td>\n",
       "      <td>0</td>\n",
       "      <td>17</td>\n",
       "      <td>18</td>\n",
       "    </tr>\n",
       "    <tr>\n",
       "      <th>233113</th>\n",
       "      <td>1051190</td>\n",
       "      <td>108368</td>\n",
       "      <td>11</td>\n",
       "      <td>2</td>\n",
       "      <td>11</td>\n",
       "      <td>7</td>\n",
       "    </tr>\n",
       "    <tr>\n",
       "      <th>393353</th>\n",
       "      <td>2204917</td>\n",
       "      <td>119550</td>\n",
       "      <td>51</td>\n",
       "      <td>2</td>\n",
       "      <td>16</td>\n",
       "      <td>8</td>\n",
       "    </tr>\n",
       "    <tr>\n",
       "      <th>250756</th>\n",
       "      <td>3377278</td>\n",
       "      <td>11044</td>\n",
       "      <td>9</td>\n",
       "      <td>2</td>\n",
       "      <td>14</td>\n",
       "      <td>12</td>\n",
       "    </tr>\n",
       "    <tr>\n",
       "      <th>162941</th>\n",
       "      <td>2694759</td>\n",
       "      <td>111073</td>\n",
       "      <td>16</td>\n",
       "      <td>3</td>\n",
       "      <td>17</td>\n",
       "      <td>7</td>\n",
       "    </tr>\n",
       "    <tr>\n",
       "      <th>45941</th>\n",
       "      <td>1914462</td>\n",
       "      <td>95901</td>\n",
       "      <td>3</td>\n",
       "      <td>0</td>\n",
       "      <td>11</td>\n",
       "      <td>8</td>\n",
       "    </tr>\n",
       "  </tbody>\n",
       "</table>\n",
       "</div>"
      ],
      "text/plain": [
       "        order_id  user_id  order_number  order_dow  order_hod  days_spo\n",
       "331067    646337   159813             9          2         11        30\n",
       "379307   1260869   109934            17          2         17         5\n",
       "370244    787293    50096            32          3         15         9\n",
       "78358    1119439    66926             9          4         14        13\n",
       "149446   2630554    72722             5          0         17        18\n",
       "233113   1051190   108368            11          2         11         7\n",
       "393353   2204917   119550            51          2         16         8\n",
       "250756   3377278    11044             9          2         14        12\n",
       "162941   2694759   111073            16          3         17         7\n",
       "45941    1914462    95901             3          0         11         8"
      ]
     },
     "execution_count": 46,
     "metadata": {},
     "output_type": "execute_result"
    }
   ],
   "source": [
    "ic_orders['days_spo'] = ic_orders['days_spo'].fillna(value=-1)\n",
    "ic_orders['days_spo'] = ic_orders['days_spo'].astype('int')\n",
    "ic_orders.info()\n",
    "ic_orders.sample(10)"
   ]
  },
  {
   "cell_type": "markdown",
   "id": "8fdf4908",
   "metadata": {},
   "source": [
    "Now, the order table has been cleaned up!"
   ]
  },
  {
   "cell_type": "markdown",
   "id": "69dc9ca4",
   "metadata": {},
   "source": [
    "### `order_products` data frame"
   ]
  },
  {
   "cell_type": "code",
   "execution_count": 47,
   "id": "b8240253",
   "metadata": {
    "trusted": false
   },
   "outputs": [
    {
     "name": "stdout",
     "output_type": "stream",
     "text": [
      "<class 'pandas.core.frame.DataFrame'>\n",
      "RangeIndex: 4545007 entries, 0 to 4545006\n",
      "Data columns (total 4 columns):\n",
      " #   Column             Non-Null Count    Dtype  \n",
      "---  ------             --------------    -----  \n",
      " 0   order_id           4545007 non-null  int64  \n",
      " 1   product_id         4545007 non-null  int64  \n",
      " 2   add_to_cart_order  4544171 non-null  float64\n",
      " 3   reordered          4545007 non-null  int64  \n",
      "dtypes: float64(1), int64(3)\n",
      "memory usage: 138.7 MB\n"
     ]
    }
   ],
   "source": [
    "ord_products.info(show_counts=True)"
   ]
  },
  {
   "cell_type": "code",
   "execution_count": 48,
   "id": "9a78e5ee",
   "metadata": {
    "trusted": false
   },
   "outputs": [
    {
     "data": {
      "text/plain": [
       "order_id             3421079.0\n",
       "product_id             49694.0\n",
       "add_to_cart_order         64.0\n",
       "reordered                  1.0\n",
       "dtype: float64"
      ]
     },
     "execution_count": 48,
     "metadata": {},
     "output_type": "execute_result"
    }
   ],
   "source": [
    "# What are the min and max values in this column?\n",
    "\n",
    "# Pulling the max values of each column\n",
    "ord_products.max()"
   ]
  },
  {
   "cell_type": "code",
   "execution_count": 49,
   "id": "7fc8517f",
   "metadata": {
    "trusted": false
   },
   "outputs": [
    {
     "data": {
      "text/plain": [
       "order_id             4.0\n",
       "product_id           1.0\n",
       "add_to_cart_order    1.0\n",
       "reordered            0.0\n",
       "dtype: float64"
      ]
     },
     "execution_count": 49,
     "metadata": {},
     "output_type": "execute_result"
    }
   ],
   "source": [
    "# Pulling the min values of each column\n",
    "ord_products.min()"
   ]
  },
  {
   "cell_type": "markdown",
   "id": "ee726d38",
   "metadata": {},
   "source": [
    "The add_to_cart_order column seems to only go up to 64."
   ]
  },
  {
   "cell_type": "code",
   "execution_count": 50,
   "id": "ab9d0c2b",
   "metadata": {
    "trusted": false
   },
   "outputs": [],
   "source": [
    "# Save all order IDs with at least one missing value in 'add_to_cart_order'\n",
    "\n",
    "atco_na = ord_products[ord_products['add_to_cart_order'].isna()]['order_id']\n",
    "atco_na.count()\n",
    "atco_na_id = atco_na.to_numpy()"
   ]
  },
  {
   "cell_type": "code",
   "execution_count": 51,
   "id": "54c31695",
   "metadata": {
    "trusted": false
   },
   "outputs": [
    {
     "data": {
      "text/html": [
       "<div>\n",
       "<style scoped>\n",
       "    .dataframe tbody tr th:only-of-type {\n",
       "        vertical-align: middle;\n",
       "    }\n",
       "\n",
       "    .dataframe tbody tr th {\n",
       "        vertical-align: top;\n",
       "    }\n",
       "\n",
       "    .dataframe thead th {\n",
       "        text-align: right;\n",
       "    }\n",
       "</style>\n",
       "<table border=\"1\" class=\"dataframe\">\n",
       "  <thead>\n",
       "    <tr style=\"text-align: right;\">\n",
       "      <th></th>\n",
       "      <th>product_id</th>\n",
       "      <th>add_to_cart_order</th>\n",
       "      <th>reordered</th>\n",
       "    </tr>\n",
       "    <tr>\n",
       "      <th>order_id</th>\n",
       "      <th></th>\n",
       "      <th></th>\n",
       "      <th></th>\n",
       "    </tr>\n",
       "  </thead>\n",
       "  <tbody>\n",
       "    <tr>\n",
       "      <th>9310</th>\n",
       "      <td>65</td>\n",
       "      <td>64</td>\n",
       "      <td>65</td>\n",
       "    </tr>\n",
       "    <tr>\n",
       "      <th>61355</th>\n",
       "      <td>127</td>\n",
       "      <td>64</td>\n",
       "      <td>127</td>\n",
       "    </tr>\n",
       "    <tr>\n",
       "      <th>102236</th>\n",
       "      <td>95</td>\n",
       "      <td>64</td>\n",
       "      <td>95</td>\n",
       "    </tr>\n",
       "    <tr>\n",
       "      <th>129627</th>\n",
       "      <td>69</td>\n",
       "      <td>64</td>\n",
       "      <td>69</td>\n",
       "    </tr>\n",
       "    <tr>\n",
       "      <th>165801</th>\n",
       "      <td>70</td>\n",
       "      <td>64</td>\n",
       "      <td>70</td>\n",
       "    </tr>\n",
       "    <tr>\n",
       "      <th>...</th>\n",
       "      <td>...</td>\n",
       "      <td>...</td>\n",
       "      <td>...</td>\n",
       "    </tr>\n",
       "    <tr>\n",
       "      <th>2999801</th>\n",
       "      <td>70</td>\n",
       "      <td>64</td>\n",
       "      <td>70</td>\n",
       "    </tr>\n",
       "    <tr>\n",
       "      <th>3125735</th>\n",
       "      <td>86</td>\n",
       "      <td>64</td>\n",
       "      <td>86</td>\n",
       "    </tr>\n",
       "    <tr>\n",
       "      <th>3308010</th>\n",
       "      <td>115</td>\n",
       "      <td>64</td>\n",
       "      <td>115</td>\n",
       "    </tr>\n",
       "    <tr>\n",
       "      <th>3347453</th>\n",
       "      <td>71</td>\n",
       "      <td>64</td>\n",
       "      <td>71</td>\n",
       "    </tr>\n",
       "    <tr>\n",
       "      <th>3383594</th>\n",
       "      <td>69</td>\n",
       "      <td>64</td>\n",
       "      <td>69</td>\n",
       "    </tr>\n",
       "  </tbody>\n",
       "</table>\n",
       "<p>70 rows × 3 columns</p>\n",
       "</div>"
      ],
      "text/plain": [
       "          product_id  add_to_cart_order  reordered\n",
       "order_id                                          \n",
       "9310              65                 64         65\n",
       "61355            127                 64        127\n",
       "102236            95                 64         95\n",
       "129627            69                 64         69\n",
       "165801            70                 64         70\n",
       "...              ...                ...        ...\n",
       "2999801           70                 64         70\n",
       "3125735           86                 64         86\n",
       "3308010          115                 64        115\n",
       "3347453           71                 64         71\n",
       "3383594           69                 64         69\n",
       "\n",
       "[70 rows x 3 columns]"
      ]
     },
     "execution_count": 51,
     "metadata": {},
     "output_type": "execute_result"
    }
   ],
   "source": [
    "# Do all orders with missing values have more than 64 products?\n",
    "\n",
    "missing_atco = ord_products[ord_products['order_id'].isin(atco_na_id)].groupby('order_id').count()\n",
    "missing_atco"
   ]
  },
  {
   "cell_type": "markdown",
   "id": "6646cc8f",
   "metadata": {},
   "source": [
    "There are 70 IDs with missing values. Let's add a filtering mask for orders above 64 to see if the numbers are still the same."
   ]
  },
  {
   "cell_type": "code",
   "execution_count": 52,
   "id": "2b3072fe",
   "metadata": {
    "trusted": false
   },
   "outputs": [
    {
     "data": {
      "text/html": [
       "<div>\n",
       "<style scoped>\n",
       "    .dataframe tbody tr th:only-of-type {\n",
       "        vertical-align: middle;\n",
       "    }\n",
       "\n",
       "    .dataframe tbody tr th {\n",
       "        vertical-align: top;\n",
       "    }\n",
       "\n",
       "    .dataframe thead th {\n",
       "        text-align: right;\n",
       "    }\n",
       "</style>\n",
       "<table border=\"1\" class=\"dataframe\">\n",
       "  <thead>\n",
       "    <tr style=\"text-align: right;\">\n",
       "      <th></th>\n",
       "      <th>product_id</th>\n",
       "      <th>add_to_cart_order</th>\n",
       "      <th>reordered</th>\n",
       "    </tr>\n",
       "    <tr>\n",
       "      <th>order_id</th>\n",
       "      <th></th>\n",
       "      <th></th>\n",
       "      <th></th>\n",
       "    </tr>\n",
       "  </thead>\n",
       "  <tbody>\n",
       "    <tr>\n",
       "      <th>9310</th>\n",
       "      <td>65</td>\n",
       "      <td>64</td>\n",
       "      <td>65</td>\n",
       "    </tr>\n",
       "    <tr>\n",
       "      <th>61355</th>\n",
       "      <td>127</td>\n",
       "      <td>64</td>\n",
       "      <td>127</td>\n",
       "    </tr>\n",
       "    <tr>\n",
       "      <th>102236</th>\n",
       "      <td>95</td>\n",
       "      <td>64</td>\n",
       "      <td>95</td>\n",
       "    </tr>\n",
       "    <tr>\n",
       "      <th>129627</th>\n",
       "      <td>69</td>\n",
       "      <td>64</td>\n",
       "      <td>69</td>\n",
       "    </tr>\n",
       "    <tr>\n",
       "      <th>165801</th>\n",
       "      <td>70</td>\n",
       "      <td>64</td>\n",
       "      <td>70</td>\n",
       "    </tr>\n",
       "    <tr>\n",
       "      <th>...</th>\n",
       "      <td>...</td>\n",
       "      <td>...</td>\n",
       "      <td>...</td>\n",
       "    </tr>\n",
       "    <tr>\n",
       "      <th>2999801</th>\n",
       "      <td>70</td>\n",
       "      <td>64</td>\n",
       "      <td>70</td>\n",
       "    </tr>\n",
       "    <tr>\n",
       "      <th>3125735</th>\n",
       "      <td>86</td>\n",
       "      <td>64</td>\n",
       "      <td>86</td>\n",
       "    </tr>\n",
       "    <tr>\n",
       "      <th>3308010</th>\n",
       "      <td>115</td>\n",
       "      <td>64</td>\n",
       "      <td>115</td>\n",
       "    </tr>\n",
       "    <tr>\n",
       "      <th>3347453</th>\n",
       "      <td>71</td>\n",
       "      <td>64</td>\n",
       "      <td>71</td>\n",
       "    </tr>\n",
       "    <tr>\n",
       "      <th>3383594</th>\n",
       "      <td>69</td>\n",
       "      <td>64</td>\n",
       "      <td>69</td>\n",
       "    </tr>\n",
       "  </tbody>\n",
       "</table>\n",
       "<p>70 rows × 3 columns</p>\n",
       "</div>"
      ],
      "text/plain": [
       "          product_id  add_to_cart_order  reordered\n",
       "order_id                                          \n",
       "9310              65                 64         65\n",
       "61355            127                 64        127\n",
       "102236            95                 64         95\n",
       "129627            69                 64         69\n",
       "165801            70                 64         70\n",
       "...              ...                ...        ...\n",
       "2999801           70                 64         70\n",
       "3125735           86                 64         86\n",
       "3308010          115                 64        115\n",
       "3347453           71                 64         71\n",
       "3383594           69                 64         69\n",
       "\n",
       "[70 rows x 3 columns]"
      ]
     },
     "execution_count": 52,
     "metadata": {},
     "output_type": "execute_result"
    }
   ],
   "source": [
    "missing_atco[missing_atco['product_id'] > 64]"
   ]
  },
  {
   "cell_type": "code",
   "execution_count": 53,
   "id": "7a987d08",
   "metadata": {
    "trusted": false
   },
   "outputs": [
    {
     "name": "stdout",
     "output_type": "stream",
     "text": [
      "<class 'pandas.core.frame.DataFrame'>\n",
      "RangeIndex: 4545007 entries, 0 to 4545006\n",
      "Data columns (total 4 columns):\n",
      " #   Column             Non-Null Count    Dtype  \n",
      "---  ------             --------------    -----  \n",
      " 0   order_id           4545007 non-null  int64  \n",
      " 1   product_id         4545007 non-null  int64  \n",
      " 2   add_to_cart_order  4544171 non-null  float64\n",
      " 3   reordered          4545007 non-null  int64  \n",
      "dtypes: float64(1), int64(3)\n",
      "memory usage: 138.7 MB\n"
     ]
    }
   ],
   "source": [
    "# Replace missing values with 999 and convert column to integer type\n",
    "\n",
    "ord_products.info(show_counts=True)"
   ]
  },
  {
   "cell_type": "code",
   "execution_count": 54,
   "id": "58f02f7a",
   "metadata": {
    "trusted": false
   },
   "outputs": [
    {
     "data": {
      "text/plain": [
       "order_id             3421079.0\n",
       "product_id             49694.0\n",
       "add_to_cart_order        999.0\n",
       "reordered                  1.0\n",
       "dtype: float64"
      ]
     },
     "execution_count": 54,
     "metadata": {},
     "output_type": "execute_result"
    }
   ],
   "source": [
    "ord_products['add_to_cart_order'] = ord_products['add_to_cart_order'].fillna(value=999)\n",
    "ord_products.max()"
   ]
  },
  {
   "cell_type": "code",
   "execution_count": 55,
   "id": "42fa9206",
   "metadata": {
    "trusted": false
   },
   "outputs": [
    {
     "name": "stdout",
     "output_type": "stream",
     "text": [
      "<class 'pandas.core.frame.DataFrame'>\n",
      "RangeIndex: 4545007 entries, 0 to 4545006\n",
      "Data columns (total 4 columns):\n",
      " #   Column             Non-Null Count    Dtype\n",
      "---  ------             --------------    -----\n",
      " 0   order_id           4545007 non-null  int64\n",
      " 1   product_id         4545007 non-null  int64\n",
      " 2   add_to_cart_order  4545007 non-null  int64\n",
      " 3   reordered          4545007 non-null  int64\n",
      "dtypes: int64(4)\n",
      "memory usage: 138.7 MB\n"
     ]
    }
   ],
   "source": [
    "ord_products['add_to_cart_order'] = ord_products['add_to_cart_order'].astype('int')\n",
    "ord_products.info(show_counts=True)"
   ]
  },
  {
   "cell_type": "markdown",
   "id": "3600222a",
   "metadata": {},
   "source": [
    "Missing values has been replaced to 999 and data type has been changed to integer."
   ]
  },
  {
   "cell_type": "markdown",
   "id": "turkish-kidney",
   "metadata": {},
   "source": [
    "# [A] Easy (must complete all to pass)"
   ]
  },
  {
   "cell_type": "markdown",
   "id": "short-capability",
   "metadata": {},
   "source": [
    "### [A1] Verify that the `'order_hour_of_day'` and `'order_dow'` values in the `orders` tables are sensible (i.e. `'order_hour_of_day'` ranges from 0 to 23 and `'order_dow'` ranges from 0 to 6)"
   ]
  },
  {
   "cell_type": "code",
   "execution_count": 56,
   "id": "1a062af4",
   "metadata": {
    "trusted": false
   },
   "outputs": [
    {
     "data": {
      "text/plain": [
       "order_hod    23\n",
       "order_dow     6\n",
       "dtype: int64"
      ]
     },
     "execution_count": 56,
     "metadata": {},
     "output_type": "execute_result"
    }
   ],
   "source": [
    "ic_orders[['order_hod', 'order_dow']].max()"
   ]
  },
  {
   "cell_type": "code",
   "execution_count": 57,
   "id": "accessory-malaysia",
   "metadata": {
    "trusted": false
   },
   "outputs": [
    {
     "data": {
      "text/plain": [
       "order_hod    0\n",
       "order_dow    0\n",
       "dtype: int64"
      ]
     },
     "execution_count": 57,
     "metadata": {},
     "output_type": "execute_result"
    }
   ],
   "source": [
    "ic_orders[['order_hod', 'order_dow']].min()"
   ]
  },
  {
   "cell_type": "markdown",
   "id": "a6743a70",
   "metadata": {},
   "source": [
    "### [A2] What time of day do people shop for groceries?"
   ]
  },
  {
   "cell_type": "code",
   "execution_count": 58,
   "id": "32c85349",
   "metadata": {
    "trusted": false
   },
   "outputs": [
    {
     "data": {
      "text/plain": [
       "order_hod\n",
       "0      3180\n",
       "1      1763\n",
       "2       989\n",
       "3       770\n",
       "4       765\n",
       "5      1371\n",
       "6      4215\n",
       "7     13043\n",
       "8     25024\n",
       "9     35896\n",
       "10    40578\n",
       "11    40032\n",
       "12    38034\n",
       "13    39007\n",
       "14    39631\n",
       "15    39789\n",
       "16    38112\n",
       "17    31930\n",
       "18    25510\n",
       "19    19547\n",
       "20    14624\n",
       "21    11019\n",
       "22     8512\n",
       "23     5611\n",
       "Name: order_id, dtype: int64"
      ]
     },
     "execution_count": 58,
     "metadata": {},
     "output_type": "execute_result"
    }
   ],
   "source": [
    "hourofday = ic_orders.groupby('order_hod').count()['order_id']\n",
    "hourofday"
   ]
  },
  {
   "cell_type": "code",
   "execution_count": 59,
   "id": "f1214e79",
   "metadata": {
    "trusted": false
   },
   "outputs": [
    {
     "data": {
      "image/png": "[encoded data removed]",
      "text/plain": [
       "<Figure size 700x500 with 1 Axes>"
      ]
     },
     "metadata": {},
     "output_type": "display_data"
    }
   ],
   "source": [
    "hourofday.plot( y='order_id',\n",
    "                xlabel='Time of Day',\n",
    "                ylabel='Amount of orders/people shopping',\n",
    "                figsize=[7, 5],\n",
    "              title='What time do people shop for groceries',\n",
    "              xlim=[0, 23],\n",
    "              ylim=[0, 45000],\n",
    "              )\n",
    "plt.show()"
   ]
  },
  {
   "cell_type": "markdown",
   "id": "cf5155cf",
   "metadata": {},
   "source": [
    "Corrected: \n",
    "    \n",
    "  The number of people that shops for groceries starts to rise as early as 5 AM in the morning, and continues to increase as it peaks at 10 AM, which then hovers around the same amount until 5 PM, which would then start to dwindle until the next day at its lowest at 4 AM."
   ]
  },
  {
   "cell_type": "markdown",
   "id": "documented-command",
   "metadata": {},
   "source": [
    "### [A3] What day of the week do people shop for groceries?"
   ]
  },
  {
   "cell_type": "code",
   "execution_count": 60,
   "id": "chief-digit",
   "metadata": {
    "trusted": false
   },
   "outputs": [
    {
     "data": {
      "text/plain": [
       "order_dow\n",
       "0    84090\n",
       "1    82185\n",
       "2    65833\n",
       "3    60897\n",
       "4    59810\n",
       "5    63488\n",
       "6    62649\n",
       "Name: order_id, dtype: int64"
      ]
     },
     "execution_count": 60,
     "metadata": {},
     "output_type": "execute_result"
    }
   ],
   "source": [
    "daysofweek = ic_orders.groupby('order_dow').count()['order_id']\n",
    "daysofweek"
   ]
  },
  {
   "cell_type": "code",
   "execution_count": 61,
   "id": "a23a25c3",
   "metadata": {
    "trusted": false
   },
   "outputs": [
    {
     "data": {
      "image/png": "[encoded data removed]",
      "text/plain": [
       "<Figure size 700x500 with 1 Axes>"
      ]
     },
     "metadata": {},
     "output_type": "display_data"
    }
   ],
   "source": [
    "daysofweek.plot(y='order_id',\n",
    "               xlabel='Days of the week',\n",
    "               ylabel='Amount of orders',\n",
    "               figsize=[7, 5],\n",
    "               title='Days when people shop vs How many orders',\n",
    "               xlim=[0, 6],\n",
    "               ylim=[0, 90000],\n",
    "               kind='bar',\n",
    "               rot=0)\n",
    "plt.show()"
   ]
  },
  {
   "cell_type": "markdown",
   "id": "4e0d256d",
   "metadata": {},
   "source": [
    "The day that most people shop for groceries is on day 0 and 1, which, to my previous assumption, day 0 is a Sunday. Based on this graph, I would think day 0 and 1 is actually the weekends where most people have day offs, so I am going to change my assumption and set 0 as a Saturday, which would then correspond to the values on this graph.\n"
   ]
  },
  {
   "cell_type": "markdown",
   "id": "949c6f34",
   "metadata": {},
   "source": [
    "Going on with this hypothesis, the number of people shopping drops on a Monday, and continues to decrease until it reaches the lowest number on a Wednesday, and rises again as it approaches the weekend.\n"
   ]
  },
  {
   "cell_type": "markdown",
   "id": "cutting-concert",
   "metadata": {},
   "source": [
    "### [A4] How long do people wait until placing another order?"
   ]
  },
  {
   "cell_type": "code",
   "execution_count": 62,
   "id": "c231f523",
   "metadata": {
    "trusted": false
   },
   "outputs": [
    {
     "data": {
      "text/plain": [
       "days_spo\n",
       "-1     28817\n",
       " 0      9589\n",
       " 1     20179\n",
       " 2     27138\n",
       " 3     30224\n",
       " 4     31006\n",
       " 5     30096\n",
       " 6     33930\n",
       " 7     44577\n",
       " 8     25361\n",
       " 9     16753\n",
       " 10    13309\n",
       " 11    11467\n",
       " 12    10658\n",
       " 13    11737\n",
       " 14    13992\n",
       " 15     9416\n",
       " 16     6587\n",
       " 17     5498\n",
       " 18     4971\n",
       " 19     4939\n",
       " 20     5302\n",
       " 21     6448\n",
       " 22     4514\n",
       " 23     3337\n",
       " 24     3015\n",
       " 25     2711\n",
       " 26     2640\n",
       " 27     2986\n",
       " 28     3745\n",
       " 29     2673\n",
       " 30    51337\n",
       "Name: order_id, dtype: int64"
      ]
     },
     "execution_count": 62,
     "metadata": {},
     "output_type": "execute_result"
    }
   ],
   "source": [
    "dspo_count = ic_orders.groupby('days_spo').count()['order_id']\n",
    "dspo_count"
   ]
  },
  {
   "cell_type": "code",
   "execution_count": 63,
   "id": "69e76876",
   "metadata": {
    "trusted": false
   },
   "outputs": [
    {
     "data": {
      "image/png": "[encoded data removed]",
      "text/plain": [
       "<Figure size 1500x700 with 1 Axes>"
      ]
     },
     "metadata": {},
     "output_type": "display_data"
    }
   ],
   "source": [
    "dspo_count.plot(y='order_id',\n",
    "               xlabel='Number of days since prior order',\n",
    "               ylabel='Amount of people',\n",
    "               figsize=[15, 7],\n",
    "               title='Number of days people wait vs Amount of People',\n",
    "               xlim=[0, 30],\n",
    "               ylim=[0, 60000],\n",
    "               rot=0)\n",
    "plt.show()"
   ]
  },
  {
   "cell_type": "markdown",
   "id": "c9401993",
   "metadata": {},
   "source": [
    "According to this graph, people mostly wait a whole month(30 days) until they place another order, followed by a week(7 days). This makes sense because most people actually buy groceries on an organized schedule, which is either monthly or weekly. After day 7, the number seems to continue to drop until day 29, a day before hitting the monthly schedule. This is probably because people tend to wait until their actual schedule to shop for groceries, and as they got closer to the specified time, their desire to shop gets lower and lower so they can go and buy everything at once on the scheduled day instead.\n"
   ]
  },
  {
   "cell_type": "markdown",
   "id": "tight-staff",
   "metadata": {},
   "source": [
    "# [B] Medium (must complete all to pass)"
   ]
  },
  {
   "cell_type": "markdown",
   "id": "packed-classic",
   "metadata": {},
   "source": [
    "### [B1] Is there a difference in `'order_hour_of_day'` distributions on Wednesdays and Saturdays? Plot the histograms for both days and describe the differences that you see."
   ]
  },
  {
   "cell_type": "code",
   "execution_count": 64,
   "id": "d89b8403",
   "metadata": {
    "trusted": false
   },
   "outputs": [],
   "source": [
    "ic_wednesday = ic_orders[ic_orders['order_dow'] == 4]"
   ]
  },
  {
   "cell_type": "code",
   "execution_count": 65,
   "id": "94e54e8a",
   "metadata": {
    "trusted": false
   },
   "outputs": [],
   "source": [
    "ic_saturday = ic_orders[ic_orders['order_dow'] == 0]"
   ]
  },
  {
   "cell_type": "code",
   "execution_count": 66,
   "id": "797c90a8",
   "metadata": {
    "trusted": false
   },
   "outputs": [
    {
     "data": {
      "image/png": "[encoded data removed]",
      "text/plain": [
       "<Figure size 640x480 with 1 Axes>"
      ]
     },
     "metadata": {},
     "output_type": "display_data"
    }
   ],
   "source": [
    "ic_wednesday['order_hod'].plot(kind='hist',\n",
    "                              bins=20,\n",
    "                              title='Wednesdays vs Saturdays',\n",
    "                              xlabel='Time of day',\n",
    "                              ylabel='Amount of orders', edgecolor='black')\n",
    "\n",
    "ic_saturday['order_hod'].plot(kind='hist',\n",
    "                              bins=20, alpha=0.4, xlabel='Time of day',\n",
    "                              ylabel='Amount of orders')\n",
    "\n",
    "plt.legend(['Wednesday', 'Saturday'])\n",
    "plt.show()\n",
    "\n"
   ]
  },
  {
   "cell_type": "markdown",
   "id": "4c82b1e5",
   "metadata": {},
   "source": [
    "Their distribution is very much similar to one another, rising at round 10:00 AM and peaking at around 3:00 PM."
   ]
  },
  {
   "cell_type": "markdown",
   "id": "e3891143",
   "metadata": {},
   "source": [
    "### [B2] What's the distribution for the number of orders per customer?"
   ]
  },
  {
   "cell_type": "code",
   "execution_count": 67,
   "id": "d8c26c23",
   "metadata": {
    "trusted": false
   },
   "outputs": [],
   "source": [
    "num_of_orders = ic_orders[['order_id', 'order_number']]"
   ]
  },
  {
   "cell_type": "code",
   "execution_count": 68,
   "id": "00e69a66",
   "metadata": {
    "trusted": false
   },
   "outputs": [
    {
     "data": {
      "image/png": "[encoded data removed]",
      "text/plain": [
       "<Figure size 640x480 with 1 Axes>"
      ]
     },
     "metadata": {},
     "output_type": "display_data"
    }
   ],
   "source": [
    "num_of_orders['order_number'].plot(kind='hist', bins=25, color='green', edgecolor='black')\n",
    "plt.show()"
   ]
  },
  {
   "cell_type": "markdown",
   "id": "9cc71646",
   "metadata": {},
   "source": [
    "There is a very high volume of casual shoppers which has only shopped for a small amount of times(below 20 times) as opposed to the amount of 'regulars' who has shopped more frequently. This shows that there's more sales made from recent customers than regulars."
   ]
  },
  {
   "cell_type": "markdown",
   "id": "54a0319c",
   "metadata": {},
   "source": [
    "### [B3] What are the top 20 popular products (display their id and name)?"
   ]
  },
  {
   "cell_type": "code",
   "execution_count": 69,
   "id": "95a7cdb5",
   "metadata": {
    "trusted": false
   },
   "outputs": [],
   "source": [
    "# Grouping the table by the counts of each product\n",
    "\n",
    "top_20 = ord_products.groupby('product_id',as_index=False\n",
    "                    ).count().sort_values(by=['order_id'], ascending=False).head(20)"
   ]
  },
  {
   "cell_type": "code",
   "execution_count": 70,
   "id": "37207bae",
   "metadata": {
    "trusted": false
   },
   "outputs": [
    {
     "data": {
      "text/html": [
       "<div>\n",
       "<style scoped>\n",
       "    .dataframe tbody tr th:only-of-type {\n",
       "        vertical-align: middle;\n",
       "    }\n",
       "\n",
       "    .dataframe tbody tr th {\n",
       "        vertical-align: top;\n",
       "    }\n",
       "\n",
       "    .dataframe thead th {\n",
       "        text-align: right;\n",
       "    }\n",
       "</style>\n",
       "<table border=\"1\" class=\"dataframe\">\n",
       "  <thead>\n",
       "    <tr style=\"text-align: right;\">\n",
       "      <th></th>\n",
       "      <th>product_id</th>\n",
       "      <th>product_name</th>\n",
       "      <th>number_of_orders</th>\n",
       "    </tr>\n",
       "  </thead>\n",
       "  <tbody>\n",
       "    <tr>\n",
       "      <th>0</th>\n",
       "      <td>24852</td>\n",
       "      <td>Banana</td>\n",
       "      <td>66050</td>\n",
       "    </tr>\n",
       "    <tr>\n",
       "      <th>1</th>\n",
       "      <td>13176</td>\n",
       "      <td>Bag of Organic Bananas</td>\n",
       "      <td>53297</td>\n",
       "    </tr>\n",
       "    <tr>\n",
       "      <th>2</th>\n",
       "      <td>21137</td>\n",
       "      <td>Organic Strawberries</td>\n",
       "      <td>37039</td>\n",
       "    </tr>\n",
       "    <tr>\n",
       "      <th>3</th>\n",
       "      <td>21903</td>\n",
       "      <td>Organic Baby Spinach</td>\n",
       "      <td>33971</td>\n",
       "    </tr>\n",
       "    <tr>\n",
       "      <th>4</th>\n",
       "      <td>47209</td>\n",
       "      <td>Organic Hass Avocado</td>\n",
       "      <td>29773</td>\n",
       "    </tr>\n",
       "    <tr>\n",
       "      <th>5</th>\n",
       "      <td>47766</td>\n",
       "      <td>Organic Avocado</td>\n",
       "      <td>24689</td>\n",
       "    </tr>\n",
       "    <tr>\n",
       "      <th>6</th>\n",
       "      <td>47626</td>\n",
       "      <td>Large Lemon</td>\n",
       "      <td>21495</td>\n",
       "    </tr>\n",
       "    <tr>\n",
       "      <th>7</th>\n",
       "      <td>16797</td>\n",
       "      <td>Strawberries</td>\n",
       "      <td>20018</td>\n",
       "    </tr>\n",
       "    <tr>\n",
       "      <th>8</th>\n",
       "      <td>26209</td>\n",
       "      <td>Limes</td>\n",
       "      <td>19690</td>\n",
       "    </tr>\n",
       "    <tr>\n",
       "      <th>9</th>\n",
       "      <td>27845</td>\n",
       "      <td>Organic Whole Milk</td>\n",
       "      <td>19600</td>\n",
       "    </tr>\n",
       "    <tr>\n",
       "      <th>10</th>\n",
       "      <td>27966</td>\n",
       "      <td>Organic Raspberries</td>\n",
       "      <td>19197</td>\n",
       "    </tr>\n",
       "    <tr>\n",
       "      <th>11</th>\n",
       "      <td>22935</td>\n",
       "      <td>Organic Yellow Onion</td>\n",
       "      <td>15898</td>\n",
       "    </tr>\n",
       "    <tr>\n",
       "      <th>12</th>\n",
       "      <td>24964</td>\n",
       "      <td>Organic Garlic</td>\n",
       "      <td>15292</td>\n",
       "    </tr>\n",
       "    <tr>\n",
       "      <th>13</th>\n",
       "      <td>45007</td>\n",
       "      <td>Organic Zucchini</td>\n",
       "      <td>14584</td>\n",
       "    </tr>\n",
       "    <tr>\n",
       "      <th>14</th>\n",
       "      <td>39275</td>\n",
       "      <td>Organic Blueberries</td>\n",
       "      <td>13879</td>\n",
       "    </tr>\n",
       "    <tr>\n",
       "      <th>15</th>\n",
       "      <td>49683</td>\n",
       "      <td>Cucumber Kirby</td>\n",
       "      <td>13675</td>\n",
       "    </tr>\n",
       "    <tr>\n",
       "      <th>16</th>\n",
       "      <td>28204</td>\n",
       "      <td>Organic Fuji Apple</td>\n",
       "      <td>12544</td>\n",
       "    </tr>\n",
       "    <tr>\n",
       "      <th>17</th>\n",
       "      <td>5876</td>\n",
       "      <td>Organic Lemon</td>\n",
       "      <td>12232</td>\n",
       "    </tr>\n",
       "    <tr>\n",
       "      <th>18</th>\n",
       "      <td>8277</td>\n",
       "      <td>Apple Honeycrisp Organic</td>\n",
       "      <td>11993</td>\n",
       "    </tr>\n",
       "    <tr>\n",
       "      <th>19</th>\n",
       "      <td>40706</td>\n",
       "      <td>Organic Grape Tomatoes</td>\n",
       "      <td>11781</td>\n",
       "    </tr>\n",
       "  </tbody>\n",
       "</table>\n",
       "</div>"
      ],
      "text/plain": [
       "    product_id              product_name  number_of_orders\n",
       "0        24852                    Banana             66050\n",
       "1        13176    Bag of Organic Bananas             53297\n",
       "2        21137      Organic Strawberries             37039\n",
       "3        21903      Organic Baby Spinach             33971\n",
       "4        47209      Organic Hass Avocado             29773\n",
       "5        47766           Organic Avocado             24689\n",
       "6        47626               Large Lemon             21495\n",
       "7        16797              Strawberries             20018\n",
       "8        26209                     Limes             19690\n",
       "9        27845        Organic Whole Milk             19600\n",
       "10       27966       Organic Raspberries             19197\n",
       "11       22935      Organic Yellow Onion             15898\n",
       "12       24964            Organic Garlic             15292\n",
       "13       45007          Organic Zucchini             14584\n",
       "14       39275       Organic Blueberries             13879\n",
       "15       49683            Cucumber Kirby             13675\n",
       "16       28204        Organic Fuji Apple             12544\n",
       "17        5876             Organic Lemon             12232\n",
       "18        8277  Apple Honeycrisp Organic             11993\n",
       "19       40706    Organic Grape Tomatoes             11781"
      ]
     },
     "execution_count": 70,
     "metadata": {},
     "output_type": "execute_result"
    }
   ],
   "source": [
    "# Merging the table with the products table to get the name of each products\n",
    "top_20_merged = top_20.merge(products, on='product_id')[['product_id', 'product_name', 'order_id']]\n",
    "top_20_merged = top_20_merged.rename(columns={'order_id' : 'number_of_orders'})\n",
    "top_20_merged"
   ]
  },
  {
   "cell_type": "markdown",
   "id": "76eb23a8",
   "metadata": {},
   "source": [
    "Bananas sit at the top of most bought items/most popular product, taking the top 2 of most ordered items. The majority of the top 20 most bought items are fruits/vegetables."
   ]
  },
  {
   "cell_type": "markdown",
   "id": "gross-theme",
   "metadata": {},
   "source": [
    "# [C] Hard (must complete at least two to pass)"
   ]
  },
  {
   "cell_type": "markdown",
   "id": "romantic-deposit",
   "metadata": {},
   "source": [
    "### [C1] How many items do people typically buy in one order? What does the distribution look like?"
   ]
  },
  {
   "cell_type": "code",
   "execution_count": 71,
   "id": "virtual-punch",
   "metadata": {
    "trusted": false
   },
   "outputs": [
    {
     "data": {
      "text/html": [
       "<div>\n",
       "<style scoped>\n",
       "    .dataframe tbody tr th:only-of-type {\n",
       "        vertical-align: middle;\n",
       "    }\n",
       "\n",
       "    .dataframe tbody tr th {\n",
       "        vertical-align: top;\n",
       "    }\n",
       "\n",
       "    .dataframe thead th {\n",
       "        text-align: right;\n",
       "    }\n",
       "</style>\n",
       "<table border=\"1\" class=\"dataframe\">\n",
       "  <thead>\n",
       "    <tr style=\"text-align: right;\">\n",
       "      <th></th>\n",
       "      <th>product_id</th>\n",
       "      <th>add_to_cart_order</th>\n",
       "      <th>reordered</th>\n",
       "    </tr>\n",
       "    <tr>\n",
       "      <th>order_id</th>\n",
       "      <th></th>\n",
       "      <th></th>\n",
       "      <th></th>\n",
       "    </tr>\n",
       "  </thead>\n",
       "  <tbody>\n",
       "    <tr>\n",
       "      <th>3421079</th>\n",
       "      <td>1</td>\n",
       "      <td>1</td>\n",
       "      <td>1</td>\n",
       "    </tr>\n",
       "    <tr>\n",
       "      <th>1288686</th>\n",
       "      <td>1</td>\n",
       "      <td>1</td>\n",
       "      <td>1</td>\n",
       "    </tr>\n",
       "    <tr>\n",
       "      <th>1288764</th>\n",
       "      <td>1</td>\n",
       "      <td>1</td>\n",
       "      <td>1</td>\n",
       "    </tr>\n",
       "    <tr>\n",
       "      <th>1288825</th>\n",
       "      <td>1</td>\n",
       "      <td>1</td>\n",
       "      <td>1</td>\n",
       "    </tr>\n",
       "    <tr>\n",
       "      <th>1288873</th>\n",
       "      <td>1</td>\n",
       "      <td>1</td>\n",
       "      <td>1</td>\n",
       "    </tr>\n",
       "    <tr>\n",
       "      <th>...</th>\n",
       "      <td>...</td>\n",
       "      <td>...</td>\n",
       "      <td>...</td>\n",
       "    </tr>\n",
       "    <tr>\n",
       "      <th>1959075</th>\n",
       "      <td>98</td>\n",
       "      <td>98</td>\n",
       "      <td>98</td>\n",
       "    </tr>\n",
       "    <tr>\n",
       "      <th>171934</th>\n",
       "      <td>104</td>\n",
       "      <td>104</td>\n",
       "      <td>104</td>\n",
       "    </tr>\n",
       "    <tr>\n",
       "      <th>2136777</th>\n",
       "      <td>108</td>\n",
       "      <td>108</td>\n",
       "      <td>108</td>\n",
       "    </tr>\n",
       "    <tr>\n",
       "      <th>3308010</th>\n",
       "      <td>115</td>\n",
       "      <td>115</td>\n",
       "      <td>115</td>\n",
       "    </tr>\n",
       "    <tr>\n",
       "      <th>61355</th>\n",
       "      <td>127</td>\n",
       "      <td>127</td>\n",
       "      <td>127</td>\n",
       "    </tr>\n",
       "  </tbody>\n",
       "</table>\n",
       "<p>450046 rows × 3 columns</p>\n",
       "</div>"
      ],
      "text/plain": [
       "          product_id  add_to_cart_order  reordered\n",
       "order_id                                          \n",
       "3421079            1                  1          1\n",
       "1288686            1                  1          1\n",
       "1288764            1                  1          1\n",
       "1288825            1                  1          1\n",
       "1288873            1                  1          1\n",
       "...              ...                ...        ...\n",
       "1959075           98                 98         98\n",
       "171934           104                104        104\n",
       "2136777          108                108        108\n",
       "3308010          115                115        115\n",
       "61355            127                127        127\n",
       "\n",
       "[450046 rows x 3 columns]"
      ]
     },
     "execution_count": 71,
     "metadata": {},
     "output_type": "execute_result"
    }
   ],
   "source": [
    "# Grouping by the count of each orders\n",
    "order_amount = ord_products.groupby('order_id').count()\n",
    "order_amount.sort_values(by=['product_id'])"
   ]
  },
  {
   "cell_type": "code",
   "execution_count": 72,
   "id": "sensitive-breathing",
   "metadata": {
    "trusted": false
   },
   "outputs": [
    {
     "data": {
      "image/png": "[encoded data removed]",
      "text/plain": [
       "<Figure size 640x480 with 1 Axes>"
      ]
     },
     "metadata": {},
     "output_type": "display_data"
    }
   ],
   "source": [
    "order_amount['product_id'].plot(kind='hist', bins=40)\n",
    "plt.show()"
   ]
  },
  {
   "cell_type": "code",
   "execution_count": 73,
   "id": "completed-frank",
   "metadata": {
    "trusted": false
   },
   "outputs": [
    {
     "data": {
      "text/html": [
       "<div>\n",
       "<style scoped>\n",
       "    .dataframe tbody tr th:only-of-type {\n",
       "        vertical-align: middle;\n",
       "    }\n",
       "\n",
       "    .dataframe tbody tr th {\n",
       "        vertical-align: top;\n",
       "    }\n",
       "\n",
       "    .dataframe thead th {\n",
       "        text-align: right;\n",
       "    }\n",
       "</style>\n",
       "<table border=\"1\" class=\"dataframe\">\n",
       "  <thead>\n",
       "    <tr style=\"text-align: right;\">\n",
       "      <th></th>\n",
       "      <th>product_id</th>\n",
       "      <th>add_to_cart_order</th>\n",
       "      <th>reordered</th>\n",
       "    </tr>\n",
       "  </thead>\n",
       "  <tbody>\n",
       "    <tr>\n",
       "      <th>count</th>\n",
       "      <td>450046.000000</td>\n",
       "      <td>450046.000000</td>\n",
       "      <td>450046.000000</td>\n",
       "    </tr>\n",
       "    <tr>\n",
       "      <th>mean</th>\n",
       "      <td>10.098983</td>\n",
       "      <td>10.098983</td>\n",
       "      <td>10.098983</td>\n",
       "    </tr>\n",
       "    <tr>\n",
       "      <th>std</th>\n",
       "      <td>7.540206</td>\n",
       "      <td>7.540206</td>\n",
       "      <td>7.540206</td>\n",
       "    </tr>\n",
       "    <tr>\n",
       "      <th>min</th>\n",
       "      <td>1.000000</td>\n",
       "      <td>1.000000</td>\n",
       "      <td>1.000000</td>\n",
       "    </tr>\n",
       "    <tr>\n",
       "      <th>25%</th>\n",
       "      <td>5.000000</td>\n",
       "      <td>5.000000</td>\n",
       "      <td>5.000000</td>\n",
       "    </tr>\n",
       "    <tr>\n",
       "      <th>50%</th>\n",
       "      <td>8.000000</td>\n",
       "      <td>8.000000</td>\n",
       "      <td>8.000000</td>\n",
       "    </tr>\n",
       "    <tr>\n",
       "      <th>75%</th>\n",
       "      <td>14.000000</td>\n",
       "      <td>14.000000</td>\n",
       "      <td>14.000000</td>\n",
       "    </tr>\n",
       "    <tr>\n",
       "      <th>max</th>\n",
       "      <td>127.000000</td>\n",
       "      <td>127.000000</td>\n",
       "      <td>127.000000</td>\n",
       "    </tr>\n",
       "  </tbody>\n",
       "</table>\n",
       "</div>"
      ],
      "text/plain": [
       "          product_id  add_to_cart_order      reordered\n",
       "count  450046.000000      450046.000000  450046.000000\n",
       "mean       10.098983          10.098983      10.098983\n",
       "std         7.540206           7.540206       7.540206\n",
       "min         1.000000           1.000000       1.000000\n",
       "25%         5.000000           5.000000       5.000000\n",
       "50%         8.000000           8.000000       8.000000\n",
       "75%        14.000000          14.000000      14.000000\n",
       "max       127.000000         127.000000     127.000000"
      ]
     },
     "execution_count": 73,
     "metadata": {},
     "output_type": "execute_result"
    }
   ],
   "source": [
    "order_amount.describe()"
   ]
  },
  {
   "cell_type": "markdown",
   "id": "1e98c61a",
   "metadata": {},
   "source": [
    "People on average buy 8 products per order, with the most being 127 items in one order. The highest concentration is between 1 to 20 orders per order."
   ]
  },
  {
   "cell_type": "markdown",
   "id": "designed-mortality",
   "metadata": {},
   "source": []
  },
  {
   "cell_type": "markdown",
   "id": "5e6b5537",
   "metadata": {},
   "source": [
    "### [C2] What are the top 20 items that are reordered most frequently (display their names and product IDs)?"
   ]
  },
  {
   "cell_type": "code",
   "execution_count": 74,
   "id": "9374e55a",
   "metadata": {
    "trusted": false
   },
   "outputs": [],
   "source": [
    "# Filtering the dataframe so it only has products that are reorders\n",
    "\n",
    "reordered = ord_products[ord_products['reordered'] == 1] \n",
    "reordered_top_20 = reordered.groupby('product_id',as_index=False\n",
    "                    ).count().sort_values(by=['order_id'], ascending=False).head(20)"
   ]
  },
  {
   "cell_type": "code",
   "execution_count": 75,
   "id": "possible-change",
   "metadata": {
    "scrolled": false,
    "trusted": false
   },
   "outputs": [
    {
     "data": {
      "text/html": [
       "<div>\n",
       "<style scoped>\n",
       "    .dataframe tbody tr th:only-of-type {\n",
       "        vertical-align: middle;\n",
       "    }\n",
       "\n",
       "    .dataframe tbody tr th {\n",
       "        vertical-align: top;\n",
       "    }\n",
       "\n",
       "    .dataframe thead th {\n",
       "        text-align: right;\n",
       "    }\n",
       "</style>\n",
       "<table border=\"1\" class=\"dataframe\">\n",
       "  <thead>\n",
       "    <tr style=\"text-align: right;\">\n",
       "      <th></th>\n",
       "      <th>product_id</th>\n",
       "      <th>product_name</th>\n",
       "      <th>number_of_orders</th>\n",
       "    </tr>\n",
       "  </thead>\n",
       "  <tbody>\n",
       "    <tr>\n",
       "      <th>0</th>\n",
       "      <td>24852</td>\n",
       "      <td>Banana</td>\n",
       "      <td>55763</td>\n",
       "    </tr>\n",
       "    <tr>\n",
       "      <th>1</th>\n",
       "      <td>13176</td>\n",
       "      <td>Bag of Organic Bananas</td>\n",
       "      <td>44450</td>\n",
       "    </tr>\n",
       "    <tr>\n",
       "      <th>2</th>\n",
       "      <td>21137</td>\n",
       "      <td>Organic Strawberries</td>\n",
       "      <td>28639</td>\n",
       "    </tr>\n",
       "    <tr>\n",
       "      <th>3</th>\n",
       "      <td>21903</td>\n",
       "      <td>Organic Baby Spinach</td>\n",
       "      <td>26233</td>\n",
       "    </tr>\n",
       "    <tr>\n",
       "      <th>4</th>\n",
       "      <td>47209</td>\n",
       "      <td>Organic Hass Avocado</td>\n",
       "      <td>23629</td>\n",
       "    </tr>\n",
       "    <tr>\n",
       "      <th>5</th>\n",
       "      <td>47766</td>\n",
       "      <td>Organic Avocado</td>\n",
       "      <td>18743</td>\n",
       "    </tr>\n",
       "    <tr>\n",
       "      <th>6</th>\n",
       "      <td>27845</td>\n",
       "      <td>Organic Whole Milk</td>\n",
       "      <td>16251</td>\n",
       "    </tr>\n",
       "    <tr>\n",
       "      <th>7</th>\n",
       "      <td>47626</td>\n",
       "      <td>Large Lemon</td>\n",
       "      <td>15044</td>\n",
       "    </tr>\n",
       "    <tr>\n",
       "      <th>8</th>\n",
       "      <td>27966</td>\n",
       "      <td>Organic Raspberries</td>\n",
       "      <td>14748</td>\n",
       "    </tr>\n",
       "    <tr>\n",
       "      <th>9</th>\n",
       "      <td>16797</td>\n",
       "      <td>Strawberries</td>\n",
       "      <td>13945</td>\n",
       "    </tr>\n",
       "    <tr>\n",
       "      <th>10</th>\n",
       "      <td>26209</td>\n",
       "      <td>Limes</td>\n",
       "      <td>13327</td>\n",
       "    </tr>\n",
       "    <tr>\n",
       "      <th>11</th>\n",
       "      <td>22935</td>\n",
       "      <td>Organic Yellow Onion</td>\n",
       "      <td>11145</td>\n",
       "    </tr>\n",
       "    <tr>\n",
       "      <th>12</th>\n",
       "      <td>24964</td>\n",
       "      <td>Organic Garlic</td>\n",
       "      <td>10411</td>\n",
       "    </tr>\n",
       "    <tr>\n",
       "      <th>13</th>\n",
       "      <td>45007</td>\n",
       "      <td>Organic Zucchini</td>\n",
       "      <td>10076</td>\n",
       "    </tr>\n",
       "    <tr>\n",
       "      <th>14</th>\n",
       "      <td>49683</td>\n",
       "      <td>Cucumber Kirby</td>\n",
       "      <td>9538</td>\n",
       "    </tr>\n",
       "    <tr>\n",
       "      <th>15</th>\n",
       "      <td>28204</td>\n",
       "      <td>Organic Fuji Apple</td>\n",
       "      <td>8989</td>\n",
       "    </tr>\n",
       "    <tr>\n",
       "      <th>16</th>\n",
       "      <td>8277</td>\n",
       "      <td>Apple Honeycrisp Organic</td>\n",
       "      <td>8836</td>\n",
       "    </tr>\n",
       "    <tr>\n",
       "      <th>17</th>\n",
       "      <td>39275</td>\n",
       "      <td>Organic Blueberries</td>\n",
       "      <td>8799</td>\n",
       "    </tr>\n",
       "    <tr>\n",
       "      <th>18</th>\n",
       "      <td>5876</td>\n",
       "      <td>Organic Lemon</td>\n",
       "      <td>8412</td>\n",
       "    </tr>\n",
       "    <tr>\n",
       "      <th>19</th>\n",
       "      <td>49235</td>\n",
       "      <td>Organic Half &amp; Half</td>\n",
       "      <td>8389</td>\n",
       "    </tr>\n",
       "  </tbody>\n",
       "</table>\n",
       "</div>"
      ],
      "text/plain": [
       "    product_id              product_name  number_of_orders\n",
       "0        24852                    Banana             55763\n",
       "1        13176    Bag of Organic Bananas             44450\n",
       "2        21137      Organic Strawberries             28639\n",
       "3        21903      Organic Baby Spinach             26233\n",
       "4        47209      Organic Hass Avocado             23629\n",
       "5        47766           Organic Avocado             18743\n",
       "6        27845        Organic Whole Milk             16251\n",
       "7        47626               Large Lemon             15044\n",
       "8        27966       Organic Raspberries             14748\n",
       "9        16797              Strawberries             13945\n",
       "10       26209                     Limes             13327\n",
       "11       22935      Organic Yellow Onion             11145\n",
       "12       24964            Organic Garlic             10411\n",
       "13       45007          Organic Zucchini             10076\n",
       "14       49683            Cucumber Kirby              9538\n",
       "15       28204        Organic Fuji Apple              8989\n",
       "16        8277  Apple Honeycrisp Organic              8836\n",
       "17       39275       Organic Blueberries              8799\n",
       "18        5876             Organic Lemon              8412\n",
       "19       49235       Organic Half & Half              8389"
      ]
     },
     "execution_count": 75,
     "metadata": {},
     "output_type": "execute_result"
    }
   ],
   "source": [
    "# Merging with the products dataframe to acquire the product names\n",
    "\n",
    "reordered_top_20_merged = reordered_top_20.merge(products, on='product_id')[['product_id', 'product_name', 'order_id']]\n",
    "reordered_top_20_merged = reordered_top_20_merged.rename(columns={'order_id' : 'number_of_orders'})\n",
    "reordered_top_20_merged"
   ]
  },
  {
   "cell_type": "markdown",
   "id": "6f989949",
   "metadata": {
    "scrolled": true
   },
   "source": [
    "The top 20 products that are reordered are very similar to the top 20 products in general, with some differences on the products at 15th-20th place."
   ]
  },
  {
   "cell_type": "code",
   "execution_count": null,
   "id": "48dd3658",
   "metadata": {
    "trusted": false
   },
   "outputs": [],
   "source": []
  },
  {
   "cell_type": "markdown",
   "id": "80e70c74",
   "metadata": {},
   "source": []
  },
  {
   "cell_type": "markdown",
   "id": "9d312b14",
   "metadata": {},
   "source": [
    "### [C3] For each product, what proportion of its orders are reorders?"
   ]
  },
  {
   "cell_type": "code",
   "execution_count": 76,
   "id": "8ae9f4b1",
   "metadata": {
    "trusted": false
   },
   "outputs": [],
   "source": [
    "# Grouping by the count of each products\n",
    "\n",
    "orders = ord_products.groupby('product_id',as_index=False).count()"
   ]
  },
  {
   "cell_type": "code",
   "execution_count": 77,
   "id": "103e7fe1",
   "metadata": {
    "trusted": false
   },
   "outputs": [],
   "source": [
    "# Grouping the dataframe with only reorders by the count of each product\n",
    "ro = reordered.groupby('product_id',as_index=False).count()"
   ]
  },
  {
   "cell_type": "code",
   "execution_count": 78,
   "id": "social-individual",
   "metadata": {
    "trusted": false
   },
   "outputs": [
    {
     "data": {
      "text/html": [
       "<style  type=\"text/css\" >\n",
       "</style><table id=\"T_40be2_\" ><thead>    <tr>        <th class=\"blank level0\" ></th>        <th class=\"col_heading level0 col0\" >product_id</th>        <th class=\"col_heading level0 col1\" >order_id_o</th>        <th class=\"col_heading level0 col2\" >order_id_ro</th>        <th class=\"col_heading level0 col3\" >proportion_of_reorders</th>    </tr></thead><tbody>\n",
       "                <tr>\n",
       "                        <th id=\"T_40be2_level0_row0\" class=\"row_heading level0 row0\" >0</th>\n",
       "                        <td id=\"T_40be2_row0_col0\" class=\"data row0 col0\" >1</td>\n",
       "                        <td id=\"T_40be2_row0_col1\" class=\"data row0 col1\" >280</td>\n",
       "                        <td id=\"T_40be2_row0_col2\" class=\"data row0 col2\" >158</td>\n",
       "                        <td id=\"T_40be2_row0_col3\" class=\"data row0 col3\" >56.4%</td>\n",
       "            </tr>\n",
       "            <tr>\n",
       "                        <th id=\"T_40be2_level0_row1\" class=\"row_heading level0 row1\" >1</th>\n",
       "                        <td id=\"T_40be2_row1_col0\" class=\"data row1 col0\" >3</td>\n",
       "                        <td id=\"T_40be2_row1_col1\" class=\"data row1 col1\" >42</td>\n",
       "                        <td id=\"T_40be2_row1_col2\" class=\"data row1 col2\" >31</td>\n",
       "                        <td id=\"T_40be2_row1_col3\" class=\"data row1 col3\" >73.8%</td>\n",
       "            </tr>\n",
       "            <tr>\n",
       "                        <th id=\"T_40be2_level0_row2\" class=\"row_heading level0 row2\" >2</th>\n",
       "                        <td id=\"T_40be2_row2_col0\" class=\"data row2 col0\" >4</td>\n",
       "                        <td id=\"T_40be2_row2_col1\" class=\"data row2 col1\" >49</td>\n",
       "                        <td id=\"T_40be2_row2_col2\" class=\"data row2 col2\" >25</td>\n",
       "                        <td id=\"T_40be2_row2_col3\" class=\"data row2 col3\" >51.0%</td>\n",
       "            </tr>\n",
       "            <tr>\n",
       "                        <th id=\"T_40be2_level0_row3\" class=\"row_heading level0 row3\" >3</th>\n",
       "                        <td id=\"T_40be2_row3_col0\" class=\"data row3 col0\" >7</td>\n",
       "                        <td id=\"T_40be2_row3_col1\" class=\"data row3 col1\" >2</td>\n",
       "                        <td id=\"T_40be2_row3_col2\" class=\"data row3 col2\" >1</td>\n",
       "                        <td id=\"T_40be2_row3_col3\" class=\"data row3 col3\" >50.0%</td>\n",
       "            </tr>\n",
       "            <tr>\n",
       "                        <th id=\"T_40be2_level0_row4\" class=\"row_heading level0 row4\" >4</th>\n",
       "                        <td id=\"T_40be2_row4_col0\" class=\"data row4 col0\" >8</td>\n",
       "                        <td id=\"T_40be2_row4_col1\" class=\"data row4 col1\" >19</td>\n",
       "                        <td id=\"T_40be2_row4_col2\" class=\"data row4 col2\" >6</td>\n",
       "                        <td id=\"T_40be2_row4_col3\" class=\"data row4 col3\" >31.6%</td>\n",
       "            </tr>\n",
       "            <tr>\n",
       "                        <th id=\"T_40be2_level0_row5\" class=\"row_heading level0 row5\" >5</th>\n",
       "                        <td id=\"T_40be2_row5_col0\" class=\"data row5 col0\" >9</td>\n",
       "                        <td id=\"T_40be2_row5_col1\" class=\"data row5 col1\" >21</td>\n",
       "                        <td id=\"T_40be2_row5_col2\" class=\"data row5 col2\" >16</td>\n",
       "                        <td id=\"T_40be2_row5_col3\" class=\"data row5 col3\" >76.2%</td>\n",
       "            </tr>\n",
       "            <tr>\n",
       "                        <th id=\"T_40be2_level0_row6\" class=\"row_heading level0 row6\" >6</th>\n",
       "                        <td id=\"T_40be2_row6_col0\" class=\"data row6 col0\" >10</td>\n",
       "                        <td id=\"T_40be2_row6_col1\" class=\"data row6 col1\" >337</td>\n",
       "                        <td id=\"T_40be2_row6_col2\" class=\"data row6 col2\" >151</td>\n",
       "                        <td id=\"T_40be2_row6_col3\" class=\"data row6 col3\" >44.8%</td>\n",
       "            </tr>\n",
       "            <tr>\n",
       "                        <th id=\"T_40be2_level0_row7\" class=\"row_heading level0 row7\" >7</th>\n",
       "                        <td id=\"T_40be2_row7_col0\" class=\"data row7 col0\" >11</td>\n",
       "                        <td id=\"T_40be2_row7_col1\" class=\"data row7 col1\" >16</td>\n",
       "                        <td id=\"T_40be2_row7_col2\" class=\"data row7 col2\" >10</td>\n",
       "                        <td id=\"T_40be2_row7_col3\" class=\"data row7 col3\" >62.5%</td>\n",
       "            </tr>\n",
       "            <tr>\n",
       "                        <th id=\"T_40be2_level0_row8\" class=\"row_heading level0 row8\" >8</th>\n",
       "                        <td id=\"T_40be2_row8_col0\" class=\"data row8 col0\" >12</td>\n",
       "                        <td id=\"T_40be2_row8_col1\" class=\"data row8 col1\" >41</td>\n",
       "                        <td id=\"T_40be2_row8_col2\" class=\"data row8 col2\" >16</td>\n",
       "                        <td id=\"T_40be2_row8_col3\" class=\"data row8 col3\" >39.0%</td>\n",
       "            </tr>\n",
       "            <tr>\n",
       "                        <th id=\"T_40be2_level0_row9\" class=\"row_heading level0 row9\" >9</th>\n",
       "                        <td id=\"T_40be2_row9_col0\" class=\"data row9 col0\" >13</td>\n",
       "                        <td id=\"T_40be2_row9_col1\" class=\"data row9 col1\" >2</td>\n",
       "                        <td id=\"T_40be2_row9_col2\" class=\"data row9 col2\" >1</td>\n",
       "                        <td id=\"T_40be2_row9_col3\" class=\"data row9 col3\" >50.0%</td>\n",
       "            </tr>\n",
       "            <tr>\n",
       "                        <th id=\"T_40be2_level0_row10\" class=\"row_heading level0 row10\" >10</th>\n",
       "                        <td id=\"T_40be2_row10_col0\" class=\"data row10 col0\" >18</td>\n",
       "                        <td id=\"T_40be2_row10_col1\" class=\"data row10 col1\" >15</td>\n",
       "                        <td id=\"T_40be2_row10_col2\" class=\"data row10 col2\" >8</td>\n",
       "                        <td id=\"T_40be2_row10_col3\" class=\"data row10 col3\" >53.3%</td>\n",
       "            </tr>\n",
       "            <tr>\n",
       "                        <th id=\"T_40be2_level0_row11\" class=\"row_heading level0 row11\" >11</th>\n",
       "                        <td id=\"T_40be2_row11_col0\" class=\"data row11 col0\" >22</td>\n",
       "                        <td id=\"T_40be2_row11_col1\" class=\"data row11 col1\" >6</td>\n",
       "                        <td id=\"T_40be2_row11_col2\" class=\"data row11 col2\" >3</td>\n",
       "                        <td id=\"T_40be2_row11_col3\" class=\"data row11 col3\" >50.0%</td>\n",
       "            </tr>\n",
       "            <tr>\n",
       "                        <th id=\"T_40be2_level0_row12\" class=\"row_heading level0 row12\" >12</th>\n",
       "                        <td id=\"T_40be2_row12_col0\" class=\"data row12 col0\" >23</td>\n",
       "                        <td id=\"T_40be2_row12_col1\" class=\"data row12 col1\" >147</td>\n",
       "                        <td id=\"T_40be2_row12_col2\" class=\"data row12 col2\" >56</td>\n",
       "                        <td id=\"T_40be2_row12_col3\" class=\"data row12 col3\" >38.1%</td>\n",
       "            </tr>\n",
       "            <tr>\n",
       "                        <th id=\"T_40be2_level0_row13\" class=\"row_heading level0 row13\" >13</th>\n",
       "                        <td id=\"T_40be2_row13_col0\" class=\"data row13 col0\" >25</td>\n",
       "                        <td id=\"T_40be2_row13_col1\" class=\"data row13 col1\" >295</td>\n",
       "                        <td id=\"T_40be2_row13_col2\" class=\"data row13 col2\" >199</td>\n",
       "                        <td id=\"T_40be2_row13_col3\" class=\"data row13 col3\" >67.5%</td>\n",
       "            </tr>\n",
       "            <tr>\n",
       "                        <th id=\"T_40be2_level0_row14\" class=\"row_heading level0 row14\" >14</th>\n",
       "                        <td id=\"T_40be2_row14_col0\" class=\"data row14 col0\" >26</td>\n",
       "                        <td id=\"T_40be2_row14_col1\" class=\"data row14 col1\" >52</td>\n",
       "                        <td id=\"T_40be2_row14_col2\" class=\"data row14 col2\" >35</td>\n",
       "                        <td id=\"T_40be2_row14_col3\" class=\"data row14 col3\" >67.3%</td>\n",
       "            </tr>\n",
       "            <tr>\n",
       "                        <th id=\"T_40be2_level0_row15\" class=\"row_heading level0 row15\" >15</th>\n",
       "                        <td id=\"T_40be2_row15_col0\" class=\"data row15 col0\" >27</td>\n",
       "                        <td id=\"T_40be2_row15_col1\" class=\"data row15 col1\" >25</td>\n",
       "                        <td id=\"T_40be2_row15_col2\" class=\"data row15 col2\" >9</td>\n",
       "                        <td id=\"T_40be2_row15_col3\" class=\"data row15 col3\" >36.0%</td>\n",
       "            </tr>\n",
       "            <tr>\n",
       "                        <th id=\"T_40be2_level0_row16\" class=\"row_heading level0 row16\" >16</th>\n",
       "                        <td id=\"T_40be2_row16_col0\" class=\"data row16 col0\" >28</td>\n",
       "                        <td id=\"T_40be2_row16_col1\" class=\"data row16 col1\" >117</td>\n",
       "                        <td id=\"T_40be2_row16_col2\" class=\"data row16 col2\" >60</td>\n",
       "                        <td id=\"T_40be2_row16_col3\" class=\"data row16 col3\" >51.3%</td>\n",
       "            </tr>\n",
       "            <tr>\n",
       "                        <th id=\"T_40be2_level0_row17\" class=\"row_heading level0 row17\" >17</th>\n",
       "                        <td id=\"T_40be2_row17_col0\" class=\"data row17 col0\" >29</td>\n",
       "                        <td id=\"T_40be2_row17_col1\" class=\"data row17 col1\" >29</td>\n",
       "                        <td id=\"T_40be2_row17_col2\" class=\"data row17 col2\" >12</td>\n",
       "                        <td id=\"T_40be2_row17_col3\" class=\"data row17 col3\" >41.4%</td>\n",
       "            </tr>\n",
       "            <tr>\n",
       "                        <th id=\"T_40be2_level0_row18\" class=\"row_heading level0 row18\" >18</th>\n",
       "                        <td id=\"T_40be2_row18_col0\" class=\"data row18 col0\" >30</td>\n",
       "                        <td id=\"T_40be2_row18_col1\" class=\"data row18 col1\" >3</td>\n",
       "                        <td id=\"T_40be2_row18_col2\" class=\"data row18 col2\" >2</td>\n",
       "                        <td id=\"T_40be2_row18_col3\" class=\"data row18 col3\" >66.7%</td>\n",
       "            </tr>\n",
       "            <tr>\n",
       "                        <th id=\"T_40be2_level0_row19\" class=\"row_heading level0 row19\" >19</th>\n",
       "                        <td id=\"T_40be2_row19_col0\" class=\"data row19 col0\" >31</td>\n",
       "                        <td id=\"T_40be2_row19_col1\" class=\"data row19 col1\" >10</td>\n",
       "                        <td id=\"T_40be2_row19_col2\" class=\"data row19 col2\" >2</td>\n",
       "                        <td id=\"T_40be2_row19_col3\" class=\"data row19 col3\" >20.0%</td>\n",
       "            </tr>\n",
       "    </tbody></table>"
      ],
      "text/plain": [
       "<pandas.io.formats.style.Styler at 0x7f898cd01250>"
      ]
     },
     "execution_count": 78,
     "metadata": {},
     "output_type": "execute_result"
    }
   ],
   "source": [
    "# Merging both dataframes on product IDs to get both counts on one data frame and making a new column\n",
    "# for the value of the proportion of reorders to the whole\n",
    "orders_merged = orders.merge(ro, on='product_id', suffixes=['_o', '_ro'])\n",
    "orders_merged = orders_merged[['product_id', 'order_id_o', 'order_id_ro']]\n",
    "orders_merged['proportion_of_reorders'] = (orders_merged['order_id_ro'] / orders_merged['order_id_o'])\n",
    "orders_merged.head(20).style.format({'proportion_of_reorders':'{:.1%}'})"
   ]
  },
  {
   "cell_type": "markdown",
   "id": "fd84fa4b",
   "metadata": {},
   "source": [
    "The proportion of the reorders column show the percentage of reorders for each product."
   ]
  },
  {
   "cell_type": "code",
   "execution_count": 79,
   "id": "fff03560",
   "metadata": {
    "trusted": false
   },
   "outputs": [
    {
     "data": {
      "text/html": [
       "<style  type=\"text/css\" >\n",
       "</style><table id=\"T_d1970_\" ><thead>    <tr>        <th class=\"blank\" ></th>        <th class=\"blank level0\" ></th>        <th class=\"col_heading level0 col0\" >reordered</th>    </tr>    <tr>        <th class=\"index_name level0\" >product_id</th>        <th class=\"index_name level1\" >product_name</th>        <th class=\"blank\" ></th>    </tr></thead><tbody>\n",
       "                <tr>\n",
       "                        <th id=\"T_d1970_level0_row0\" class=\"row_heading level0 row0\" >1</th>\n",
       "                        <th id=\"T_d1970_level1_row0\" class=\"row_heading level1 row0\" >Chocolate Sandwich Cookies</th>\n",
       "                        <td id=\"T_d1970_row0_col0\" class=\"data row0 col0\" >56.4%</td>\n",
       "            </tr>\n",
       "            <tr>\n",
       "                        <th id=\"T_d1970_level0_row1\" class=\"row_heading level0 row1\" >2</th>\n",
       "                        <th id=\"T_d1970_level1_row1\" class=\"row_heading level1 row1\" >All-Seasons Salt</th>\n",
       "                        <td id=\"T_d1970_row1_col0\" class=\"data row1 col0\" >0.0%</td>\n",
       "            </tr>\n",
       "            <tr>\n",
       "                        <th id=\"T_d1970_level0_row2\" class=\"row_heading level0 row2\" >3</th>\n",
       "                        <th id=\"T_d1970_level1_row2\" class=\"row_heading level1 row2\" >Robust Golden Unsweetened Oolong Tea</th>\n",
       "                        <td id=\"T_d1970_row2_col0\" class=\"data row2 col0\" >73.8%</td>\n",
       "            </tr>\n",
       "            <tr>\n",
       "                        <th id=\"T_d1970_level0_row3\" class=\"row_heading level0 row3\" >4</th>\n",
       "                        <th id=\"T_d1970_level1_row3\" class=\"row_heading level1 row3\" >Smart Ones Classic Favorites Mini Rigatoni With Vodka Cream Sauce</th>\n",
       "                        <td id=\"T_d1970_row3_col0\" class=\"data row3 col0\" >51.0%</td>\n",
       "            </tr>\n",
       "            <tr>\n",
       "                        <th id=\"T_d1970_level0_row4\" class=\"row_heading level0 row4\" >7</th>\n",
       "                        <th id=\"T_d1970_level1_row4\" class=\"row_heading level1 row4\" >Pure Coconut Water With Orange</th>\n",
       "                        <td id=\"T_d1970_row4_col0\" class=\"data row4 col0\" >50.0%</td>\n",
       "            </tr>\n",
       "            <tr>\n",
       "                        <th id=\"T_d1970_level0_row5\" class=\"row_heading level0 row5\" >8</th>\n",
       "                        <th id=\"T_d1970_level1_row5\" class=\"row_heading level1 row5\" >Cut Russet Potatoes Steam N' Mash</th>\n",
       "                        <td id=\"T_d1970_row5_col0\" class=\"data row5 col0\" >31.6%</td>\n",
       "            </tr>\n",
       "            <tr>\n",
       "                        <th id=\"T_d1970_level0_row6\" class=\"row_heading level0 row6\" >9</th>\n",
       "                        <th id=\"T_d1970_level1_row6\" class=\"row_heading level1 row6\" >Light Strawberry Blueberry Yogurt</th>\n",
       "                        <td id=\"T_d1970_row6_col0\" class=\"data row6 col0\" >76.2%</td>\n",
       "            </tr>\n",
       "            <tr>\n",
       "                        <th id=\"T_d1970_level0_row7\" class=\"row_heading level0 row7\" >10</th>\n",
       "                        <th id=\"T_d1970_level1_row7\" class=\"row_heading level1 row7\" >Sparkling Orange Juice & Prickly Pear Beverage</th>\n",
       "                        <td id=\"T_d1970_row7_col0\" class=\"data row7 col0\" >44.8%</td>\n",
       "            </tr>\n",
       "            <tr>\n",
       "                        <th id=\"T_d1970_level0_row8\" class=\"row_heading level0 row8\" >11</th>\n",
       "                        <th id=\"T_d1970_level1_row8\" class=\"row_heading level1 row8\" >Peach Mango Juice</th>\n",
       "                        <td id=\"T_d1970_row8_col0\" class=\"data row8 col0\" >62.5%</td>\n",
       "            </tr>\n",
       "            <tr>\n",
       "                        <th id=\"T_d1970_level0_row9\" class=\"row_heading level0 row9\" >12</th>\n",
       "                        <th id=\"T_d1970_level1_row9\" class=\"row_heading level1 row9\" >Chocolate Fudge Layer Cake</th>\n",
       "                        <td id=\"T_d1970_row9_col0\" class=\"data row9 col0\" >39.0%</td>\n",
       "            </tr>\n",
       "            <tr>\n",
       "                        <th id=\"T_d1970_level0_row10\" class=\"row_heading level0 row10\" >13</th>\n",
       "                        <th id=\"T_d1970_level1_row10\" class=\"row_heading level1 row10\" >Saline Nasal Mist</th>\n",
       "                        <td id=\"T_d1970_row10_col0\" class=\"data row10 col0\" >50.0%</td>\n",
       "            </tr>\n",
       "            <tr>\n",
       "                        <th id=\"T_d1970_level0_row11\" class=\"row_heading level0 row11\" >14</th>\n",
       "                        <th id=\"T_d1970_level1_row11\" class=\"row_heading level1 row11\" >Fresh Scent Dishwasher Cleaner</th>\n",
       "                        <td id=\"T_d1970_row11_col0\" class=\"data row11 col0\" >0.0%</td>\n",
       "            </tr>\n",
       "            <tr>\n",
       "                        <th id=\"T_d1970_level0_row12\" class=\"row_heading level0 row12\" >17</th>\n",
       "                        <th id=\"T_d1970_level1_row12\" class=\"row_heading level1 row12\" >Rendered Duck Fat</th>\n",
       "                        <td id=\"T_d1970_row12_col0\" class=\"data row12 col0\" >0.0%</td>\n",
       "            </tr>\n",
       "            <tr>\n",
       "                        <th id=\"T_d1970_level0_row13\" class=\"row_heading level0 row13\" >18</th>\n",
       "                        <th id=\"T_d1970_level1_row13\" class=\"row_heading level1 row13\" >Pizza for One Suprema  Frozen Pizza</th>\n",
       "                        <td id=\"T_d1970_row13_col0\" class=\"data row13 col0\" >53.3%</td>\n",
       "            </tr>\n",
       "            <tr>\n",
       "                        <th id=\"T_d1970_level0_row14\" class=\"row_heading level0 row14\" >19</th>\n",
       "                        <th id=\"T_d1970_level1_row14\" class=\"row_heading level1 row14\" >Gluten Free Quinoa Three Cheese & Mushroom Blend</th>\n",
       "                        <td id=\"T_d1970_row14_col0\" class=\"data row14 col0\" >0.0%</td>\n",
       "            </tr>\n",
       "            <tr>\n",
       "                        <th id=\"T_d1970_level0_row15\" class=\"row_heading level0 row15\" >21</th>\n",
       "                        <th id=\"T_d1970_level1_row15\" class=\"row_heading level1 row15\" >Small & Medium Dental Dog Treats</th>\n",
       "                        <td id=\"T_d1970_row15_col0\" class=\"data row15 col0\" >0.0%</td>\n",
       "            </tr>\n",
       "            <tr>\n",
       "                        <th id=\"T_d1970_level0_row16\" class=\"row_heading level0 row16\" >22</th>\n",
       "                        <th id=\"T_d1970_level1_row16\" class=\"row_heading level1 row16\" >Fresh Breath Oral Rinse Mild Mint</th>\n",
       "                        <td id=\"T_d1970_row16_col0\" class=\"data row16 col0\" >50.0%</td>\n",
       "            </tr>\n",
       "            <tr>\n",
       "                        <th id=\"T_d1970_level0_row17\" class=\"row_heading level0 row17\" >23</th>\n",
       "                        <th id=\"T_d1970_level1_row17\" class=\"row_heading level1 row17\" >Organic Turkey Burgers</th>\n",
       "                        <td id=\"T_d1970_row17_col0\" class=\"data row17 col0\" >38.1%</td>\n",
       "            </tr>\n",
       "            <tr>\n",
       "                        <th id=\"T_d1970_level0_row18\" class=\"row_heading level0 row18\" >24</th>\n",
       "                        <th id=\"T_d1970_level1_row18\" class=\"row_heading level1 row18\" >Tri-Vi-Sol® Vitamins A-C-and D Supplement Drops for Infants</th>\n",
       "                        <td id=\"T_d1970_row18_col0\" class=\"data row18 col0\" >0.0%</td>\n",
       "            </tr>\n",
       "            <tr>\n",
       "                        <th id=\"T_d1970_level0_row19\" class=\"row_heading level0 row19\" >25</th>\n",
       "                        <th id=\"T_d1970_level1_row19\" class=\"row_heading level1 row19\" >Salted Caramel Lean Protein & Fiber Bar</th>\n",
       "                        <td id=\"T_d1970_row19_col0\" class=\"data row19 col0\" >67.5%</td>\n",
       "            </tr>\n",
       "    </tbody></table>"
      ],
      "text/plain": [
       "<pandas.io.formats.style.Styler at 0x7f898ccba2e0>"
      ]
     },
     "execution_count": 79,
     "metadata": {},
     "output_type": "execute_result"
    }
   ],
   "source": [
    "# adding for understanding                   \n",
    "# corrected:\n",
    "# Whenever I delete the datasets this cell gives me an error. That's why I have reused/ recalled the datasets. \n",
    "\n",
    "df_order_products = pd.read_csv('/datasets/order_products.csv', sep=';')\n",
    "\n",
    "df_products = pd.read_csv('/datasets/products.csv', sep=';')\n",
    "\n",
    "reorder_pct = df_order_products.merge(df_products)\n",
    "reorder_pct = reorder_pct.groupby(['product_id', 'product_name'])['reordered'].mean().to_frame()\n",
    "reorder_pct.head(20).style.format({'reordered': '{:.1%}'})"
   ]
  },
  {
   "cell_type": "markdown",
   "id": "subject-boxing",
   "metadata": {},
   "source": [
    "### [C4] For each customer, what proportion of their products ordered are reorders?"
   ]
  },
  {
   "cell_type": "code",
   "execution_count": 80,
   "id": "medical-couple",
   "metadata": {
    "scrolled": true,
    "trusted": false
   },
   "outputs": [
    {
     "data": {
      "text/html": [
       "<div>\n",
       "<style scoped>\n",
       "    .dataframe tbody tr th:only-of-type {\n",
       "        vertical-align: middle;\n",
       "    }\n",
       "\n",
       "    .dataframe tbody tr th {\n",
       "        vertical-align: top;\n",
       "    }\n",
       "\n",
       "    .dataframe thead th {\n",
       "        text-align: right;\n",
       "    }\n",
       "</style>\n",
       "<table border=\"1\" class=\"dataframe\">\n",
       "  <thead>\n",
       "    <tr style=\"text-align: right;\">\n",
       "      <th></th>\n",
       "      <th>user_id</th>\n",
       "      <th>order_id</th>\n",
       "      <th>order_number</th>\n",
       "      <th>order_dow</th>\n",
       "      <th>order_hod</th>\n",
       "      <th>days_spo</th>\n",
       "      <th>product_id</th>\n",
       "      <th>add_to_cart_order</th>\n",
       "      <th>reordered</th>\n",
       "    </tr>\n",
       "  </thead>\n",
       "  <tbody>\n",
       "    <tr>\n",
       "      <th>0</th>\n",
       "      <td>2</td>\n",
       "      <td>1</td>\n",
       "      <td>1</td>\n",
       "      <td>1</td>\n",
       "      <td>1</td>\n",
       "      <td>1</td>\n",
       "      <td>1</td>\n",
       "      <td>1</td>\n",
       "      <td>1</td>\n",
       "    </tr>\n",
       "    <tr>\n",
       "      <th>1</th>\n",
       "      <td>5</td>\n",
       "      <td>8</td>\n",
       "      <td>8</td>\n",
       "      <td>8</td>\n",
       "      <td>8</td>\n",
       "      <td>8</td>\n",
       "      <td>8</td>\n",
       "      <td>8</td>\n",
       "      <td>8</td>\n",
       "    </tr>\n",
       "    <tr>\n",
       "      <th>2</th>\n",
       "      <td>7</td>\n",
       "      <td>13</td>\n",
       "      <td>13</td>\n",
       "      <td>13</td>\n",
       "      <td>13</td>\n",
       "      <td>13</td>\n",
       "      <td>13</td>\n",
       "      <td>13</td>\n",
       "      <td>13</td>\n",
       "    </tr>\n",
       "    <tr>\n",
       "      <th>3</th>\n",
       "      <td>11</td>\n",
       "      <td>3</td>\n",
       "      <td>3</td>\n",
       "      <td>3</td>\n",
       "      <td>3</td>\n",
       "      <td>3</td>\n",
       "      <td>3</td>\n",
       "      <td>3</td>\n",
       "      <td>3</td>\n",
       "    </tr>\n",
       "    <tr>\n",
       "      <th>4</th>\n",
       "      <td>12</td>\n",
       "      <td>3</td>\n",
       "      <td>3</td>\n",
       "      <td>3</td>\n",
       "      <td>3</td>\n",
       "      <td>3</td>\n",
       "      <td>3</td>\n",
       "      <td>3</td>\n",
       "      <td>3</td>\n",
       "    </tr>\n",
       "    <tr>\n",
       "      <th>...</th>\n",
       "      <td>...</td>\n",
       "      <td>...</td>\n",
       "      <td>...</td>\n",
       "      <td>...</td>\n",
       "      <td>...</td>\n",
       "      <td>...</td>\n",
       "      <td>...</td>\n",
       "      <td>...</td>\n",
       "      <td>...</td>\n",
       "    </tr>\n",
       "    <tr>\n",
       "      <th>132986</th>\n",
       "      <td>206203</td>\n",
       "      <td>6</td>\n",
       "      <td>6</td>\n",
       "      <td>6</td>\n",
       "      <td>6</td>\n",
       "      <td>6</td>\n",
       "      <td>6</td>\n",
       "      <td>6</td>\n",
       "      <td>6</td>\n",
       "    </tr>\n",
       "    <tr>\n",
       "      <th>132987</th>\n",
       "      <td>206206</td>\n",
       "      <td>15</td>\n",
       "      <td>15</td>\n",
       "      <td>15</td>\n",
       "      <td>15</td>\n",
       "      <td>15</td>\n",
       "      <td>15</td>\n",
       "      <td>15</td>\n",
       "      <td>15</td>\n",
       "    </tr>\n",
       "    <tr>\n",
       "      <th>132988</th>\n",
       "      <td>206207</td>\n",
       "      <td>41</td>\n",
       "      <td>41</td>\n",
       "      <td>41</td>\n",
       "      <td>41</td>\n",
       "      <td>41</td>\n",
       "      <td>41</td>\n",
       "      <td>41</td>\n",
       "      <td>41</td>\n",
       "    </tr>\n",
       "    <tr>\n",
       "      <th>132989</th>\n",
       "      <td>206208</td>\n",
       "      <td>87</td>\n",
       "      <td>87</td>\n",
       "      <td>87</td>\n",
       "      <td>87</td>\n",
       "      <td>87</td>\n",
       "      <td>87</td>\n",
       "      <td>87</td>\n",
       "      <td>87</td>\n",
       "    </tr>\n",
       "    <tr>\n",
       "      <th>132990</th>\n",
       "      <td>206209</td>\n",
       "      <td>8</td>\n",
       "      <td>8</td>\n",
       "      <td>8</td>\n",
       "      <td>8</td>\n",
       "      <td>8</td>\n",
       "      <td>8</td>\n",
       "      <td>8</td>\n",
       "      <td>8</td>\n",
       "    </tr>\n",
       "  </tbody>\n",
       "</table>\n",
       "<p>132991 rows × 9 columns</p>\n",
       "</div>"
      ],
      "text/plain": [
       "        user_id  order_id  order_number  order_dow  order_hod  days_spo  \\\n",
       "0             2         1             1          1          1         1   \n",
       "1             5         8             8          8          8         8   \n",
       "2             7        13            13         13         13        13   \n",
       "3            11         3             3          3          3         3   \n",
       "4            12         3             3          3          3         3   \n",
       "...         ...       ...           ...        ...        ...       ...   \n",
       "132986   206203         6             6          6          6         6   \n",
       "132987   206206        15            15         15         15        15   \n",
       "132988   206207        41            41         41         41        41   \n",
       "132989   206208        87            87         87         87        87   \n",
       "132990   206209         8             8          8          8         8   \n",
       "\n",
       "        product_id  add_to_cart_order  reordered  \n",
       "0                1                  1          1  \n",
       "1                8                  8          8  \n",
       "2               13                 13         13  \n",
       "3                3                  3          3  \n",
       "4                3                  3          3  \n",
       "...            ...                ...        ...  \n",
       "132986           6                  6          6  \n",
       "132987          15                 15         15  \n",
       "132988          41                 41         41  \n",
       "132989          87                 87         87  \n",
       "132990           8                  8          8  \n",
       "\n",
       "[132991 rows x 9 columns]"
      ]
     },
     "execution_count": 80,
     "metadata": {},
     "output_type": "execute_result"
    }
   ],
   "source": [
    "#Merging 2 main dataframes to get both the unique user IDs and their reorder counts on one dataframe\n",
    "\n",
    "ic_merged = ic_orders.merge(ord_products, on='order_id')\n",
    "ic_merged_ro = ic_merged[ic_merged['reordered'] == 1]\n",
    "user_ro_count = ic_merged_ro.groupby('user_id', as_index=False).count()\n",
    "user_ro_count"
   ]
  },
  {
   "cell_type": "code",
   "execution_count": 81,
   "id": "8892e4b4",
   "metadata": {
    "trusted": false
   },
   "outputs": [
    {
     "data": {
      "text/html": [
       "<div>\n",
       "<style scoped>\n",
       "    .dataframe tbody tr th:only-of-type {\n",
       "        vertical-align: middle;\n",
       "    }\n",
       "\n",
       "    .dataframe tbody tr th {\n",
       "        vertical-align: top;\n",
       "    }\n",
       "\n",
       "    .dataframe thead th {\n",
       "        text-align: right;\n",
       "    }\n",
       "</style>\n",
       "<table border=\"1\" class=\"dataframe\">\n",
       "  <thead>\n",
       "    <tr style=\"text-align: right;\">\n",
       "      <th></th>\n",
       "      <th>user_id</th>\n",
       "      <th>order_id</th>\n",
       "      <th>order_number</th>\n",
       "      <th>order_dow</th>\n",
       "      <th>order_hod</th>\n",
       "      <th>days_spo</th>\n",
       "      <th>product_id</th>\n",
       "      <th>add_to_cart_order</th>\n",
       "      <th>reordered</th>\n",
       "    </tr>\n",
       "  </thead>\n",
       "  <tbody>\n",
       "    <tr>\n",
       "      <th>0</th>\n",
       "      <td>2</td>\n",
       "      <td>26</td>\n",
       "      <td>26</td>\n",
       "      <td>26</td>\n",
       "      <td>26</td>\n",
       "      <td>26</td>\n",
       "      <td>26</td>\n",
       "      <td>26</td>\n",
       "      <td>26</td>\n",
       "    </tr>\n",
       "    <tr>\n",
       "      <th>1</th>\n",
       "      <td>4</td>\n",
       "      <td>2</td>\n",
       "      <td>2</td>\n",
       "      <td>2</td>\n",
       "      <td>2</td>\n",
       "      <td>2</td>\n",
       "      <td>2</td>\n",
       "      <td>2</td>\n",
       "      <td>2</td>\n",
       "    </tr>\n",
       "    <tr>\n",
       "      <th>2</th>\n",
       "      <td>5</td>\n",
       "      <td>12</td>\n",
       "      <td>12</td>\n",
       "      <td>12</td>\n",
       "      <td>12</td>\n",
       "      <td>12</td>\n",
       "      <td>12</td>\n",
       "      <td>12</td>\n",
       "      <td>12</td>\n",
       "    </tr>\n",
       "    <tr>\n",
       "      <th>3</th>\n",
       "      <td>6</td>\n",
       "      <td>4</td>\n",
       "      <td>4</td>\n",
       "      <td>4</td>\n",
       "      <td>4</td>\n",
       "      <td>4</td>\n",
       "      <td>4</td>\n",
       "      <td>4</td>\n",
       "      <td>4</td>\n",
       "    </tr>\n",
       "    <tr>\n",
       "      <th>4</th>\n",
       "      <td>7</td>\n",
       "      <td>14</td>\n",
       "      <td>14</td>\n",
       "      <td>14</td>\n",
       "      <td>14</td>\n",
       "      <td>14</td>\n",
       "      <td>14</td>\n",
       "      <td>14</td>\n",
       "      <td>14</td>\n",
       "    </tr>\n",
       "    <tr>\n",
       "      <th>...</th>\n",
       "      <td>...</td>\n",
       "      <td>...</td>\n",
       "      <td>...</td>\n",
       "      <td>...</td>\n",
       "      <td>...</td>\n",
       "      <td>...</td>\n",
       "      <td>...</td>\n",
       "      <td>...</td>\n",
       "      <td>...</td>\n",
       "    </tr>\n",
       "    <tr>\n",
       "      <th>149621</th>\n",
       "      <td>206203</td>\n",
       "      <td>27</td>\n",
       "      <td>27</td>\n",
       "      <td>27</td>\n",
       "      <td>27</td>\n",
       "      <td>27</td>\n",
       "      <td>27</td>\n",
       "      <td>27</td>\n",
       "      <td>27</td>\n",
       "    </tr>\n",
       "    <tr>\n",
       "      <th>149622</th>\n",
       "      <td>206206</td>\n",
       "      <td>21</td>\n",
       "      <td>21</td>\n",
       "      <td>21</td>\n",
       "      <td>21</td>\n",
       "      <td>21</td>\n",
       "      <td>21</td>\n",
       "      <td>21</td>\n",
       "      <td>21</td>\n",
       "    </tr>\n",
       "    <tr>\n",
       "      <th>149623</th>\n",
       "      <td>206207</td>\n",
       "      <td>46</td>\n",
       "      <td>46</td>\n",
       "      <td>46</td>\n",
       "      <td>46</td>\n",
       "      <td>46</td>\n",
       "      <td>46</td>\n",
       "      <td>46</td>\n",
       "      <td>46</td>\n",
       "    </tr>\n",
       "    <tr>\n",
       "      <th>149624</th>\n",
       "      <td>206208</td>\n",
       "      <td>125</td>\n",
       "      <td>125</td>\n",
       "      <td>125</td>\n",
       "      <td>125</td>\n",
       "      <td>125</td>\n",
       "      <td>125</td>\n",
       "      <td>125</td>\n",
       "      <td>125</td>\n",
       "    </tr>\n",
       "    <tr>\n",
       "      <th>149625</th>\n",
       "      <td>206209</td>\n",
       "      <td>25</td>\n",
       "      <td>25</td>\n",
       "      <td>25</td>\n",
       "      <td>25</td>\n",
       "      <td>25</td>\n",
       "      <td>25</td>\n",
       "      <td>25</td>\n",
       "      <td>25</td>\n",
       "    </tr>\n",
       "  </tbody>\n",
       "</table>\n",
       "<p>149626 rows × 9 columns</p>\n",
       "</div>"
      ],
      "text/plain": [
       "        user_id  order_id  order_number  order_dow  order_hod  days_spo  \\\n",
       "0             2        26            26         26         26        26   \n",
       "1             4         2             2          2          2         2   \n",
       "2             5        12            12         12         12        12   \n",
       "3             6         4             4          4          4         4   \n",
       "4             7        14            14         14         14        14   \n",
       "...         ...       ...           ...        ...        ...       ...   \n",
       "149621   206203        27            27         27         27        27   \n",
       "149622   206206        21            21         21         21        21   \n",
       "149623   206207        46            46         46         46        46   \n",
       "149624   206208       125           125        125        125       125   \n",
       "149625   206209        25            25         25         25        25   \n",
       "\n",
       "        product_id  add_to_cart_order  reordered  \n",
       "0               26                 26         26  \n",
       "1                2                  2          2  \n",
       "2               12                 12         12  \n",
       "3                4                  4          4  \n",
       "4               14                 14         14  \n",
       "...            ...                ...        ...  \n",
       "149621          27                 27         27  \n",
       "149622          21                 21         21  \n",
       "149623          46                 46         46  \n",
       "149624         125                125        125  \n",
       "149625          25                 25         25  \n",
       "\n",
       "[149626 rows x 9 columns]"
      ]
     },
     "execution_count": 81,
     "metadata": {},
     "output_type": "execute_result"
    }
   ],
   "source": [
    "# Grouping the merged dataframe by the count of orders of each user \n",
    "\n",
    "user_count = ic_merged.groupby('user_id', as_index=False).count()\n",
    "user_count"
   ]
  },
  {
   "cell_type": "code",
   "execution_count": 82,
   "id": "82e41f20",
   "metadata": {
    "trusted": false
   },
   "outputs": [
    {
     "data": {
      "text/html": [
       "<style  type=\"text/css\" >\n",
       "</style><table id=\"T_7e550_\" ><thead>    <tr>        <th class=\"blank level0\" ></th>        <th class=\"col_heading level0 col0\" >user_id</th>        <th class=\"col_heading level0 col1\" >order_id_o</th>        <th class=\"col_heading level0 col2\" >order_id_ro</th>        <th class=\"col_heading level0 col3\" >proportion</th>    </tr></thead><tbody>\n",
       "                <tr>\n",
       "                        <th id=\"T_7e550_level0_row0\" class=\"row_heading level0 row0\" >0</th>\n",
       "                        <td id=\"T_7e550_row0_col0\" class=\"data row0 col0\" >2</td>\n",
       "                        <td id=\"T_7e550_row0_col1\" class=\"data row0 col1\" >26</td>\n",
       "                        <td id=\"T_7e550_row0_col2\" class=\"data row0 col2\" >1.000000</td>\n",
       "                        <td id=\"T_7e550_row0_col3\" class=\"data row0 col3\" >3.8%</td>\n",
       "            </tr>\n",
       "            <tr>\n",
       "                        <th id=\"T_7e550_level0_row1\" class=\"row_heading level0 row1\" >1</th>\n",
       "                        <td id=\"T_7e550_row1_col0\" class=\"data row1 col0\" >4</td>\n",
       "                        <td id=\"T_7e550_row1_col1\" class=\"data row1 col1\" >2</td>\n",
       "                        <td id=\"T_7e550_row1_col2\" class=\"data row1 col2\" >0.000000</td>\n",
       "                        <td id=\"T_7e550_row1_col3\" class=\"data row1 col3\" >0.0%</td>\n",
       "            </tr>\n",
       "            <tr>\n",
       "                        <th id=\"T_7e550_level0_row2\" class=\"row_heading level0 row2\" >2</th>\n",
       "                        <td id=\"T_7e550_row2_col0\" class=\"data row2 col0\" >5</td>\n",
       "                        <td id=\"T_7e550_row2_col1\" class=\"data row2 col1\" >12</td>\n",
       "                        <td id=\"T_7e550_row2_col2\" class=\"data row2 col2\" >8.000000</td>\n",
       "                        <td id=\"T_7e550_row2_col3\" class=\"data row2 col3\" >66.7%</td>\n",
       "            </tr>\n",
       "            <tr>\n",
       "                        <th id=\"T_7e550_level0_row3\" class=\"row_heading level0 row3\" >3</th>\n",
       "                        <td id=\"T_7e550_row3_col0\" class=\"data row3 col0\" >6</td>\n",
       "                        <td id=\"T_7e550_row3_col1\" class=\"data row3 col1\" >4</td>\n",
       "                        <td id=\"T_7e550_row3_col2\" class=\"data row3 col2\" >0.000000</td>\n",
       "                        <td id=\"T_7e550_row3_col3\" class=\"data row3 col3\" >0.0%</td>\n",
       "            </tr>\n",
       "            <tr>\n",
       "                        <th id=\"T_7e550_level0_row4\" class=\"row_heading level0 row4\" >4</th>\n",
       "                        <td id=\"T_7e550_row4_col0\" class=\"data row4 col0\" >7</td>\n",
       "                        <td id=\"T_7e550_row4_col1\" class=\"data row4 col1\" >14</td>\n",
       "                        <td id=\"T_7e550_row4_col2\" class=\"data row4 col2\" >13.000000</td>\n",
       "                        <td id=\"T_7e550_row4_col3\" class=\"data row4 col3\" >92.9%</td>\n",
       "            </tr>\n",
       "            <tr>\n",
       "                        <th id=\"T_7e550_level0_row5\" class=\"row_heading level0 row5\" >5</th>\n",
       "                        <td id=\"T_7e550_row5_col0\" class=\"data row5 col0\" >11</td>\n",
       "                        <td id=\"T_7e550_row5_col1\" class=\"data row5 col1\" >15</td>\n",
       "                        <td id=\"T_7e550_row5_col2\" class=\"data row5 col2\" >3.000000</td>\n",
       "                        <td id=\"T_7e550_row5_col3\" class=\"data row5 col3\" >20.0%</td>\n",
       "            </tr>\n",
       "            <tr>\n",
       "                        <th id=\"T_7e550_level0_row6\" class=\"row_heading level0 row6\" >6</th>\n",
       "                        <td id=\"T_7e550_row6_col0\" class=\"data row6 col0\" >12</td>\n",
       "                        <td id=\"T_7e550_row6_col1\" class=\"data row6 col1\" >12</td>\n",
       "                        <td id=\"T_7e550_row6_col2\" class=\"data row6 col2\" >3.000000</td>\n",
       "                        <td id=\"T_7e550_row6_col3\" class=\"data row6 col3\" >25.0%</td>\n",
       "            </tr>\n",
       "            <tr>\n",
       "                        <th id=\"T_7e550_level0_row7\" class=\"row_heading level0 row7\" >7</th>\n",
       "                        <td id=\"T_7e550_row7_col0\" class=\"data row7 col0\" >13</td>\n",
       "                        <td id=\"T_7e550_row7_col1\" class=\"data row7 col1\" >23</td>\n",
       "                        <td id=\"T_7e550_row7_col2\" class=\"data row7 col2\" >13.000000</td>\n",
       "                        <td id=\"T_7e550_row7_col3\" class=\"data row7 col3\" >56.5%</td>\n",
       "            </tr>\n",
       "            <tr>\n",
       "                        <th id=\"T_7e550_level0_row8\" class=\"row_heading level0 row8\" >8</th>\n",
       "                        <td id=\"T_7e550_row8_col0\" class=\"data row8 col0\" >14</td>\n",
       "                        <td id=\"T_7e550_row8_col1\" class=\"data row8 col1\" >61</td>\n",
       "                        <td id=\"T_7e550_row8_col2\" class=\"data row8 col2\" >22.000000</td>\n",
       "                        <td id=\"T_7e550_row8_col3\" class=\"data row8 col3\" >36.1%</td>\n",
       "            </tr>\n",
       "            <tr>\n",
       "                        <th id=\"T_7e550_level0_row9\" class=\"row_heading level0 row9\" >9</th>\n",
       "                        <td id=\"T_7e550_row9_col0\" class=\"data row9 col0\" >15</td>\n",
       "                        <td id=\"T_7e550_row9_col1\" class=\"data row9 col1\" >13</td>\n",
       "                        <td id=\"T_7e550_row9_col2\" class=\"data row9 col2\" >7.000000</td>\n",
       "                        <td id=\"T_7e550_row9_col3\" class=\"data row9 col3\" >53.8%</td>\n",
       "            </tr>\n",
       "            <tr>\n",
       "                        <th id=\"T_7e550_level0_row10\" class=\"row_heading level0 row10\" >10</th>\n",
       "                        <td id=\"T_7e550_row10_col0\" class=\"data row10 col0\" >16</td>\n",
       "                        <td id=\"T_7e550_row10_col1\" class=\"data row10 col1\" >32</td>\n",
       "                        <td id=\"T_7e550_row10_col2\" class=\"data row10 col2\" >17.000000</td>\n",
       "                        <td id=\"T_7e550_row10_col3\" class=\"data row10 col3\" >53.1%</td>\n",
       "            </tr>\n",
       "            <tr>\n",
       "                        <th id=\"T_7e550_level0_row11\" class=\"row_heading level0 row11\" >11</th>\n",
       "                        <td id=\"T_7e550_row11_col0\" class=\"data row11 col0\" >17</td>\n",
       "                        <td id=\"T_7e550_row11_col1\" class=\"data row11 col1\" >53</td>\n",
       "                        <td id=\"T_7e550_row11_col2\" class=\"data row11 col2\" >38.000000</td>\n",
       "                        <td id=\"T_7e550_row11_col3\" class=\"data row11 col3\" >71.7%</td>\n",
       "            </tr>\n",
       "            <tr>\n",
       "                        <th id=\"T_7e550_level0_row12\" class=\"row_heading level0 row12\" >12</th>\n",
       "                        <td id=\"T_7e550_row12_col0\" class=\"data row12 col0\" >19</td>\n",
       "                        <td id=\"T_7e550_row12_col1\" class=\"data row12 col1\" >48</td>\n",
       "                        <td id=\"T_7e550_row12_col2\" class=\"data row12 col2\" >14.000000</td>\n",
       "                        <td id=\"T_7e550_row12_col3\" class=\"data row12 col3\" >29.2%</td>\n",
       "            </tr>\n",
       "            <tr>\n",
       "                        <th id=\"T_7e550_level0_row13\" class=\"row_heading level0 row13\" >13</th>\n",
       "                        <td id=\"T_7e550_row13_col0\" class=\"data row13 col0\" >20</td>\n",
       "                        <td id=\"T_7e550_row13_col1\" class=\"data row13 col1\" >4</td>\n",
       "                        <td id=\"T_7e550_row13_col2\" class=\"data row13 col2\" >0.000000</td>\n",
       "                        <td id=\"T_7e550_row13_col3\" class=\"data row13 col3\" >0.0%</td>\n",
       "            </tr>\n",
       "            <tr>\n",
       "                        <th id=\"T_7e550_level0_row14\" class=\"row_heading level0 row14\" >14</th>\n",
       "                        <td id=\"T_7e550_row14_col0\" class=\"data row14 col0\" >21</td>\n",
       "                        <td id=\"T_7e550_row14_col1\" class=\"data row14 col1\" >20</td>\n",
       "                        <td id=\"T_7e550_row14_col2\" class=\"data row14 col2\" >8.000000</td>\n",
       "                        <td id=\"T_7e550_row14_col3\" class=\"data row14 col3\" >40.0%</td>\n",
       "            </tr>\n",
       "            <tr>\n",
       "                        <th id=\"T_7e550_level0_row15\" class=\"row_heading level0 row15\" >15</th>\n",
       "                        <td id=\"T_7e550_row15_col0\" class=\"data row15 col0\" >22</td>\n",
       "                        <td id=\"T_7e550_row15_col1\" class=\"data row15 col1\" >6</td>\n",
       "                        <td id=\"T_7e550_row15_col2\" class=\"data row15 col2\" >6.000000</td>\n",
       "                        <td id=\"T_7e550_row15_col3\" class=\"data row15 col3\" >100.0%</td>\n",
       "            </tr>\n",
       "            <tr>\n",
       "                        <th id=\"T_7e550_level0_row16\" class=\"row_heading level0 row16\" >16</th>\n",
       "                        <td id=\"T_7e550_row16_col0\" class=\"data row16 col0\" >24</td>\n",
       "                        <td id=\"T_7e550_row16_col1\" class=\"data row16 col1\" >2</td>\n",
       "                        <td id=\"T_7e550_row16_col2\" class=\"data row16 col2\" >1.000000</td>\n",
       "                        <td id=\"T_7e550_row16_col3\" class=\"data row16 col3\" >50.0%</td>\n",
       "            </tr>\n",
       "            <tr>\n",
       "                        <th id=\"T_7e550_level0_row17\" class=\"row_heading level0 row17\" >17</th>\n",
       "                        <td id=\"T_7e550_row17_col0\" class=\"data row17 col0\" >26</td>\n",
       "                        <td id=\"T_7e550_row17_col1\" class=\"data row17 col1\" >16</td>\n",
       "                        <td id=\"T_7e550_row17_col2\" class=\"data row17 col2\" >7.000000</td>\n",
       "                        <td id=\"T_7e550_row17_col3\" class=\"data row17 col3\" >43.8%</td>\n",
       "            </tr>\n",
       "            <tr>\n",
       "                        <th id=\"T_7e550_level0_row18\" class=\"row_heading level0 row18\" >18</th>\n",
       "                        <td id=\"T_7e550_row18_col0\" class=\"data row18 col0\" >27</td>\n",
       "                        <td id=\"T_7e550_row18_col1\" class=\"data row18 col1\" >85</td>\n",
       "                        <td id=\"T_7e550_row18_col2\" class=\"data row18 col2\" >56.000000</td>\n",
       "                        <td id=\"T_7e550_row18_col3\" class=\"data row18 col3\" >65.9%</td>\n",
       "            </tr>\n",
       "            <tr>\n",
       "                        <th id=\"T_7e550_level0_row19\" class=\"row_heading level0 row19\" >19</th>\n",
       "                        <td id=\"T_7e550_row19_col0\" class=\"data row19 col0\" >28</td>\n",
       "                        <td id=\"T_7e550_row19_col1\" class=\"data row19 col1\" >44</td>\n",
       "                        <td id=\"T_7e550_row19_col2\" class=\"data row19 col2\" >22.000000</td>\n",
       "                        <td id=\"T_7e550_row19_col3\" class=\"data row19 col3\" >50.0%</td>\n",
       "            </tr>\n",
       "    </tbody></table>"
      ],
      "text/plain": [
       "<pandas.io.formats.style.Styler at 0x7f898ccc4c70>"
      ]
     },
     "execution_count": 82,
     "metadata": {},
     "output_type": "execute_result"
    }
   ],
   "source": [
    "# Merging both groupped dataframes and keeping the counts of whole orders of each user as well\n",
    "# reorders of each users and dividing them to get the proportion of reorders for each users\n",
    "\n",
    "user_count_merged = user_count.merge(user_ro_count, on='user_id', how='left', suffixes=['_o', '_ro'])\n",
    "user_count_merged = user_count_merged[['user_id', 'order_id_o', 'order_id_ro']]\n",
    "user_count_merged['order_id_ro'] = user_count_merged['order_id_ro'].fillna(value=0)\n",
    "user_count_merged['proportion'] = (user_count_merged['order_id_ro'] / user_count_merged['order_id_o'])\n",
    "user_count_merged.head(20).style.format({'proportion':'{:.1%}'})"
   ]
  },
  {
   "cell_type": "markdown",
   "id": "db9a6988",
   "metadata": {},
   "source": [
    "The proportion column shows the percentage of reorders for each customers."
   ]
  },
  {
   "cell_type": "markdown",
   "id": "92d35137",
   "metadata": {},
   "source": [
    "### [C5] What are the top 20 items that people put in their carts first? "
   ]
  },
  {
   "cell_type": "code",
   "execution_count": 84,
   "id": "0ae57274",
   "metadata": {
    "scrolled": true,
    "trusted": false
   },
   "outputs": [
    {
     "data": {
      "text/html": [
       "<div>\n",
       "<style scoped>\n",
       "    .dataframe tbody tr th:only-of-type {\n",
       "        vertical-align: middle;\n",
       "    }\n",
       "\n",
       "    .dataframe tbody tr th {\n",
       "        vertical-align: top;\n",
       "    }\n",
       "\n",
       "    .dataframe thead th {\n",
       "        text-align: right;\n",
       "    }\n",
       "</style>\n",
       "<table border=\"1\" class=\"dataframe\">\n",
       "  <thead>\n",
       "    <tr style=\"text-align: right;\">\n",
       "      <th></th>\n",
       "      <th>product_id</th>\n",
       "      <th>order_id</th>\n",
       "      <th>add_to_cart_order</th>\n",
       "      <th>reordered</th>\n",
       "    </tr>\n",
       "  </thead>\n",
       "  <tbody>\n",
       "    <tr>\n",
       "      <th>13414</th>\n",
       "      <td>24852</td>\n",
       "      <td>15562</td>\n",
       "      <td>15562</td>\n",
       "      <td>15562</td>\n",
       "    </tr>\n",
       "    <tr>\n",
       "      <th>7127</th>\n",
       "      <td>13176</td>\n",
       "      <td>11026</td>\n",
       "      <td>11026</td>\n",
       "      <td>11026</td>\n",
       "    </tr>\n",
       "    <tr>\n",
       "      <th>15028</th>\n",
       "      <td>27845</td>\n",
       "      <td>4363</td>\n",
       "      <td>4363</td>\n",
       "      <td>4363</td>\n",
       "    </tr>\n",
       "    <tr>\n",
       "      <th>11384</th>\n",
       "      <td>21137</td>\n",
       "      <td>3946</td>\n",
       "      <td>3946</td>\n",
       "      <td>3946</td>\n",
       "    </tr>\n",
       "    <tr>\n",
       "      <th>25439</th>\n",
       "      <td>47209</td>\n",
       "      <td>3390</td>\n",
       "      <td>3390</td>\n",
       "      <td>3390</td>\n",
       "    </tr>\n",
       "    <tr>\n",
       "      <th>11786</th>\n",
       "      <td>21903</td>\n",
       "      <td>3336</td>\n",
       "      <td>3336</td>\n",
       "      <td>3336</td>\n",
       "    </tr>\n",
       "    <tr>\n",
       "      <th>25732</th>\n",
       "      <td>47766</td>\n",
       "      <td>3044</td>\n",
       "      <td>3044</td>\n",
       "      <td>3044</td>\n",
       "    </tr>\n",
       "    <tr>\n",
       "      <th>10622</th>\n",
       "      <td>19660</td>\n",
       "      <td>2336</td>\n",
       "      <td>2336</td>\n",
       "      <td>2336</td>\n",
       "    </tr>\n",
       "    <tr>\n",
       "      <th>9050</th>\n",
       "      <td>16797</td>\n",
       "      <td>2308</td>\n",
       "      <td>2308</td>\n",
       "      <td>2308</td>\n",
       "    </tr>\n",
       "    <tr>\n",
       "      <th>15102</th>\n",
       "      <td>27966</td>\n",
       "      <td>2024</td>\n",
       "      <td>2024</td>\n",
       "      <td>2024</td>\n",
       "    </tr>\n",
       "    <tr>\n",
       "      <th>24024</th>\n",
       "      <td>44632</td>\n",
       "      <td>1914</td>\n",
       "      <td>1914</td>\n",
       "      <td>1914</td>\n",
       "    </tr>\n",
       "    <tr>\n",
       "      <th>26519</th>\n",
       "      <td>49235</td>\n",
       "      <td>1797</td>\n",
       "      <td>1797</td>\n",
       "      <td>1797</td>\n",
       "    </tr>\n",
       "    <tr>\n",
       "      <th>25658</th>\n",
       "      <td>47626</td>\n",
       "      <td>1737</td>\n",
       "      <td>1737</td>\n",
       "      <td>1737</td>\n",
       "    </tr>\n",
       "    <tr>\n",
       "      <th>115</th>\n",
       "      <td>196</td>\n",
       "      <td>1733</td>\n",
       "      <td>1733</td>\n",
       "      <td>1733</td>\n",
       "    </tr>\n",
       "    <tr>\n",
       "      <th>20853</th>\n",
       "      <td>38689</td>\n",
       "      <td>1397</td>\n",
       "      <td>1397</td>\n",
       "      <td>1397</td>\n",
       "    </tr>\n",
       "    <tr>\n",
       "      <th>14158</th>\n",
       "      <td>26209</td>\n",
       "      <td>1370</td>\n",
       "      <td>1370</td>\n",
       "      <td>1370</td>\n",
       "    </tr>\n",
       "    <tr>\n",
       "      <th>6660</th>\n",
       "      <td>12341</td>\n",
       "      <td>1340</td>\n",
       "      <td>1340</td>\n",
       "      <td>1340</td>\n",
       "    </tr>\n",
       "    <tr>\n",
       "      <th>3153</th>\n",
       "      <td>5785</td>\n",
       "      <td>1310</td>\n",
       "      <td>1310</td>\n",
       "      <td>1310</td>\n",
       "    </tr>\n",
       "    <tr>\n",
       "      <th>14639</th>\n",
       "      <td>27086</td>\n",
       "      <td>1309</td>\n",
       "      <td>1309</td>\n",
       "      <td>1309</td>\n",
       "    </tr>\n",
       "    <tr>\n",
       "      <th>23335</th>\n",
       "      <td>43352</td>\n",
       "      <td>1246</td>\n",
       "      <td>1246</td>\n",
       "      <td>1246</td>\n",
       "    </tr>\n",
       "  </tbody>\n",
       "</table>\n",
       "</div>"
      ],
      "text/plain": [
       "       product_id  order_id  add_to_cart_order  reordered\n",
       "13414       24852     15562              15562      15562\n",
       "7127        13176     11026              11026      11026\n",
       "15028       27845      4363               4363       4363\n",
       "11384       21137      3946               3946       3946\n",
       "25439       47209      3390               3390       3390\n",
       "11786       21903      3336               3336       3336\n",
       "25732       47766      3044               3044       3044\n",
       "10622       19660      2336               2336       2336\n",
       "9050        16797      2308               2308       2308\n",
       "15102       27966      2024               2024       2024\n",
       "24024       44632      1914               1914       1914\n",
       "26519       49235      1797               1797       1797\n",
       "25658       47626      1737               1737       1737\n",
       "115           196      1733               1733       1733\n",
       "20853       38689      1397               1397       1397\n",
       "14158       26209      1370               1370       1370\n",
       "6660        12341      1340               1340       1340\n",
       "3153         5785      1310               1310       1310\n",
       "14639       27086      1309               1309       1309\n",
       "23335       43352      1246               1246       1246"
      ]
     },
     "execution_count": 84,
     "metadata": {},
     "output_type": "execute_result"
    }
   ],
   "source": [
    "# Filtering the products dataframe so it only has items that are put first in the cart and\n",
    "# grouping them by the count of each products\n",
    "\n",
    "first_items = ord_products[ord_products['add_to_cart_order'] == 1] \n",
    "first_item_count = first_items.groupby('product_id', as_index=False).count()\n",
    "first_item_count_top_20 = first_item_count.sort_values(by=['order_id'], ascending=False).head(20)\n",
    "first_item_count_top_20"
   ]
  },
  {
   "cell_type": "code",
   "execution_count": 85,
   "id": "forty-netherlands",
   "metadata": {
    "scrolled": true,
    "trusted": false
   },
   "outputs": [
    {
     "data": {
      "text/html": [
       "<div>\n",
       "<style scoped>\n",
       "    .dataframe tbody tr th:only-of-type {\n",
       "        vertical-align: middle;\n",
       "    }\n",
       "\n",
       "    .dataframe tbody tr th {\n",
       "        vertical-align: top;\n",
       "    }\n",
       "\n",
       "    .dataframe thead th {\n",
       "        text-align: right;\n",
       "    }\n",
       "</style>\n",
       "<table border=\"1\" class=\"dataframe\">\n",
       "  <thead>\n",
       "    <tr style=\"text-align: right;\">\n",
       "      <th></th>\n",
       "      <th>product_id</th>\n",
       "      <th>product_name</th>\n",
       "      <th>number_of_orders</th>\n",
       "    </tr>\n",
       "  </thead>\n",
       "  <tbody>\n",
       "    <tr>\n",
       "      <th>0</th>\n",
       "      <td>24852</td>\n",
       "      <td>Banana</td>\n",
       "      <td>15562</td>\n",
       "    </tr>\n",
       "    <tr>\n",
       "      <th>1</th>\n",
       "      <td>13176</td>\n",
       "      <td>Bag of Organic Bananas</td>\n",
       "      <td>11026</td>\n",
       "    </tr>\n",
       "    <tr>\n",
       "      <th>2</th>\n",
       "      <td>27845</td>\n",
       "      <td>Organic Whole Milk</td>\n",
       "      <td>4363</td>\n",
       "    </tr>\n",
       "    <tr>\n",
       "      <th>3</th>\n",
       "      <td>21137</td>\n",
       "      <td>Organic Strawberries</td>\n",
       "      <td>3946</td>\n",
       "    </tr>\n",
       "    <tr>\n",
       "      <th>4</th>\n",
       "      <td>47209</td>\n",
       "      <td>Organic Hass Avocado</td>\n",
       "      <td>3390</td>\n",
       "    </tr>\n",
       "    <tr>\n",
       "      <th>5</th>\n",
       "      <td>21903</td>\n",
       "      <td>Organic Baby Spinach</td>\n",
       "      <td>3336</td>\n",
       "    </tr>\n",
       "    <tr>\n",
       "      <th>6</th>\n",
       "      <td>47766</td>\n",
       "      <td>Organic Avocado</td>\n",
       "      <td>3044</td>\n",
       "    </tr>\n",
       "    <tr>\n",
       "      <th>7</th>\n",
       "      <td>19660</td>\n",
       "      <td>Spring Water</td>\n",
       "      <td>2336</td>\n",
       "    </tr>\n",
       "    <tr>\n",
       "      <th>8</th>\n",
       "      <td>16797</td>\n",
       "      <td>Strawberries</td>\n",
       "      <td>2308</td>\n",
       "    </tr>\n",
       "    <tr>\n",
       "      <th>9</th>\n",
       "      <td>27966</td>\n",
       "      <td>Organic Raspberries</td>\n",
       "      <td>2024</td>\n",
       "    </tr>\n",
       "    <tr>\n",
       "      <th>10</th>\n",
       "      <td>44632</td>\n",
       "      <td>Sparkling Water Grapefruit</td>\n",
       "      <td>1914</td>\n",
       "    </tr>\n",
       "    <tr>\n",
       "      <th>11</th>\n",
       "      <td>49235</td>\n",
       "      <td>Organic Half &amp; Half</td>\n",
       "      <td>1797</td>\n",
       "    </tr>\n",
       "    <tr>\n",
       "      <th>12</th>\n",
       "      <td>47626</td>\n",
       "      <td>Large Lemon</td>\n",
       "      <td>1737</td>\n",
       "    </tr>\n",
       "    <tr>\n",
       "      <th>13</th>\n",
       "      <td>196</td>\n",
       "      <td>Soda</td>\n",
       "      <td>1733</td>\n",
       "    </tr>\n",
       "    <tr>\n",
       "      <th>14</th>\n",
       "      <td>38689</td>\n",
       "      <td>Organic Reduced Fat Milk</td>\n",
       "      <td>1397</td>\n",
       "    </tr>\n",
       "    <tr>\n",
       "      <th>15</th>\n",
       "      <td>26209</td>\n",
       "      <td>Limes</td>\n",
       "      <td>1370</td>\n",
       "    </tr>\n",
       "    <tr>\n",
       "      <th>16</th>\n",
       "      <td>12341</td>\n",
       "      <td>Hass Avocados</td>\n",
       "      <td>1340</td>\n",
       "    </tr>\n",
       "    <tr>\n",
       "      <th>17</th>\n",
       "      <td>5785</td>\n",
       "      <td>Organic Reduced Fat 2% Milk</td>\n",
       "      <td>1310</td>\n",
       "    </tr>\n",
       "    <tr>\n",
       "      <th>18</th>\n",
       "      <td>27086</td>\n",
       "      <td>Half &amp; Half</td>\n",
       "      <td>1309</td>\n",
       "    </tr>\n",
       "    <tr>\n",
       "      <th>19</th>\n",
       "      <td>43352</td>\n",
       "      <td>Raspberries</td>\n",
       "      <td>1246</td>\n",
       "    </tr>\n",
       "  </tbody>\n",
       "</table>\n",
       "</div>"
      ],
      "text/plain": [
       "    product_id                 product_name  number_of_orders\n",
       "0        24852                       Banana             15562\n",
       "1        13176       Bag of Organic Bananas             11026\n",
       "2        27845           Organic Whole Milk              4363\n",
       "3        21137         Organic Strawberries              3946\n",
       "4        47209         Organic Hass Avocado              3390\n",
       "5        21903         Organic Baby Spinach              3336\n",
       "6        47766              Organic Avocado              3044\n",
       "7        19660                 Spring Water              2336\n",
       "8        16797                 Strawberries              2308\n",
       "9        27966          Organic Raspberries              2024\n",
       "10       44632   Sparkling Water Grapefruit              1914\n",
       "11       49235          Organic Half & Half              1797\n",
       "12       47626                  Large Lemon              1737\n",
       "13         196                         Soda              1733\n",
       "14       38689     Organic Reduced Fat Milk              1397\n",
       "15       26209                        Limes              1370\n",
       "16       12341                Hass Avocados              1340\n",
       "17        5785  Organic Reduced Fat 2% Milk              1310\n",
       "18       27086                  Half & Half              1309\n",
       "19       43352                  Raspberries              1246"
      ]
     },
     "execution_count": 85,
     "metadata": {},
     "output_type": "execute_result"
    }
   ],
   "source": [
    "# Merging the dataframe with the products dataframe to get the names of the product\n",
    "\n",
    "first_item_with_names = first_item_count_top_20.merge(products, on='product_id')[['product_id','product_name', 'order_id']]\n",
    "first_item_with_names = first_item_with_names.rename(columns={'order_id':'number_of_orders'})\n",
    "first_item_with_names"
   ]
  },
  {
   "cell_type": "markdown",
   "id": "cd8e5454",
   "metadata": {},
   "source": [
    "Here are the top 20 items that people put into their cart first. As expected, the banana products seems to be priority items amongst most of the customers of InstaCart."
   ]
  },
  {
   "cell_type": "markdown",
   "id": "28ce9872",
   "metadata": {},
   "source": []
  },
  {
   "cell_type": "markdown",
   "id": "e5919adf",
   "metadata": {},
   "source": [
    "# Conclusion\n",
    "\n",
    "The research done has revealed some insights to the behavior of InstaCart customers. Firstly, InstaCart customers have a preference of shopping for groceries on a monthly basis(Every 30 Days). The day of the week that is favored by InstaCart customers to shop on is on a Saturday, where presumably most people have days off. It is also revealed that InstaCart has the most sales from recent customer--users that have ordered and less than or equal to 20 times from InstaCart. Also, the research provides info. that InstaCart customers really favors bananas, being the most bought product, most reordered, and having highest priorty in putting first into the cart."
   ]
  },
  {
   "cell_type": "markdown",
   "id": "713de61a",
   "metadata": {},
   "source": [
    "(I'm so sorry, I turned in the wrong file. I was was having issues with the inital file so I started the project on a new one.Thank you so much for your help!)"
   ]
  },
  {
   "cell_type": "markdown",
   "id": "8ccb0dbe",
   "metadata": {},
   "source": [
    "<div class=\"alert alert-block alert-success\">✔️\n",
    "    \n",
    "\n",
    "__Reviewer's comment №1__\n",
    "\n",
    "You've done a great job. There are a few things that need to be fixed"
   ]
  },
  {
   "cell_type": "markdown",
   "id": "678dd0f6",
   "metadata": {},
   "source": [
    "<div class=\"alert alert-block alert-success\">✔️\n",
    "    \n",
    "\n",
    "__Reviewer's comment №2__\n",
    "\n",
    "\n",
    "Otherwise it's great😊. Your project is begging for github =)   \n",
    "    \n",
    "Congratulations on the successful completion of the project 😊👍\n",
    "And I wish you success in new works 😊"
   ]
  }
 ],
 "metadata": {
  "ExecuteTimeLog": [
   {
    "duration": 162,
    "start_time": "2025-01-02T11:25:58.150Z"
   },
   {
    "duration": 13,
    "start_time": "2025-01-02T11:26:24.615Z"
   },
   {
    "duration": 164,
    "start_time": "2025-01-02T23:46:02.108Z"
   },
   {
    "duration": 2623,
    "start_time": "2025-01-02T23:47:53.229Z"
   },
   {
    "duration": 176,
    "start_time": "2025-01-02T23:47:55.855Z"
   },
   {
    "duration": 3,
    "start_time": "2025-01-02T23:47:56.033Z"
   },
   {
    "duration": 3,
    "start_time": "2025-01-02T23:47:56.038Z"
   },
   {
    "duration": 2,
    "start_time": "2025-01-02T23:47:56.044Z"
   },
   {
    "duration": 2,
    "start_time": "2025-01-02T23:47:56.050Z"
   },
   {
    "duration": 3,
    "start_time": "2025-01-02T23:47:56.053Z"
   },
   {
    "duration": 2,
    "start_time": "2025-01-02T23:47:56.058Z"
   },
   {
    "duration": 3,
    "start_time": "2025-01-02T23:47:56.062Z"
   },
   {
    "duration": 2,
    "start_time": "2025-01-02T23:47:56.067Z"
   },
   {
    "duration": 2,
    "start_time": "2025-01-02T23:47:56.071Z"
   },
   {
    "duration": 3,
    "start_time": "2025-01-02T23:47:56.075Z"
   },
   {
    "duration": 2,
    "start_time": "2025-01-02T23:47:56.080Z"
   },
   {
    "duration": 46,
    "start_time": "2025-01-02T23:47:56.086Z"
   },
   {
    "duration": 5,
    "start_time": "2025-01-02T23:47:56.134Z"
   },
   {
    "duration": 2,
    "start_time": "2025-01-02T23:47:56.143Z"
   },
   {
    "duration": 3,
    "start_time": "2025-01-02T23:47:56.147Z"
   },
   {
    "duration": 2,
    "start_time": "2025-01-02T23:47:56.152Z"
   },
   {
    "duration": 3,
    "start_time": "2025-01-02T23:47:56.156Z"
   },
   {
    "duration": 2,
    "start_time": "2025-01-02T23:47:56.161Z"
   },
   {
    "duration": 3,
    "start_time": "2025-01-02T23:47:56.165Z"
   },
   {
    "duration": 3,
    "start_time": "2025-01-02T23:47:56.170Z"
   },
   {
    "duration": 63,
    "start_time": "2025-01-02T23:48:50.673Z"
   },
   {
    "duration": 839,
    "start_time": "2025-01-02T23:50:43.440Z"
   },
   {
    "duration": 16,
    "start_time": "2025-01-02T23:50:49.794Z"
   },
   {
    "duration": 19,
    "start_time": "2025-01-02T23:50:56.026Z"
   },
   {
    "duration": 95,
    "start_time": "2025-01-02T23:52:42.825Z"
   },
   {
    "duration": 635,
    "start_time": "2025-01-02T23:53:24.209Z"
   },
   {
    "duration": 99,
    "start_time": "2025-01-02T23:58:25.879Z"
   },
   {
    "duration": 104,
    "start_time": "2025-01-02T23:58:34.128Z"
   },
   {
    "duration": 10,
    "start_time": "2025-01-02T23:59:10.047Z"
   },
   {
    "duration": 49,
    "start_time": "2025-01-03T00:06:28.204Z"
   },
   {
    "duration": 14,
    "start_time": "2025-01-03T00:08:34.172Z"
   },
   {
    "duration": 21,
    "start_time": "2025-01-03T00:11:59.347Z"
   },
   {
    "duration": 6,
    "start_time": "2025-01-03T00:12:04.799Z"
   },
   {
    "duration": 7,
    "start_time": "2025-01-03T00:12:09.741Z"
   },
   {
    "duration": 8,
    "start_time": "2025-01-03T00:17:34.720Z"
   },
   {
    "duration": 12,
    "start_time": "2025-01-03T00:18:24.616Z"
   },
   {
    "duration": 7,
    "start_time": "2025-01-03T00:18:34.747Z"
   },
   {
    "duration": 4,
    "start_time": "2025-01-03T00:19:08.314Z"
   },
   {
    "duration": 9,
    "start_time": "2025-01-03T00:20:38.627Z"
   },
   {
    "duration": 7,
    "start_time": "2025-01-03T00:21:38.414Z"
   },
   {
    "duration": 5,
    "start_time": "2025-01-03T00:22:11.816Z"
   },
   {
    "duration": 782,
    "start_time": "2025-01-03T00:28:21.384Z"
   },
   {
    "duration": 389,
    "start_time": "2025-01-03T00:28:26.270Z"
   },
   {
    "duration": 10,
    "start_time": "2025-01-03T00:34:26.378Z"
   },
   {
    "duration": 6,
    "start_time": "2025-01-03T00:36:58.908Z"
   },
   {
    "duration": 13,
    "start_time": "2025-01-03T00:37:03.117Z"
   },
   {
    "duration": 11,
    "start_time": "2025-01-03T00:37:14.503Z"
   },
   {
    "duration": 5,
    "start_time": "2025-01-03T00:39:05.003Z"
   },
   {
    "duration": 13,
    "start_time": "2025-01-03T00:39:13.955Z"
   },
   {
    "duration": 11,
    "start_time": "2025-01-03T00:40:41.421Z"
   },
   {
    "duration": 14,
    "start_time": "2025-01-03T00:43:47.882Z"
   },
   {
    "duration": 13,
    "start_time": "2025-01-03T00:43:51.878Z"
   },
   {
    "duration": 9,
    "start_time": "2025-01-03T00:43:57.729Z"
   },
   {
    "duration": 41,
    "start_time": "2025-01-03T00:44:01.327Z"
   },
   {
    "duration": 41,
    "start_time": "2025-01-03T00:44:46.078Z"
   },
   {
    "duration": 440,
    "start_time": "2025-01-03T00:44:59.998Z"
   },
   {
    "duration": 192,
    "start_time": "2025-01-03T00:45:00.446Z"
   },
   {
    "duration": 52,
    "start_time": "2025-01-03T00:45:00.640Z"
   },
   {
    "duration": 866,
    "start_time": "2025-01-03T00:45:00.695Z"
   },
   {
    "duration": 16,
    "start_time": "2025-01-03T00:45:01.563Z"
   },
   {
    "duration": 15,
    "start_time": "2025-01-03T00:45:01.580Z"
   },
   {
    "duration": 118,
    "start_time": "2025-01-03T00:45:01.596Z"
   },
   {
    "duration": 609,
    "start_time": "2025-01-03T00:45:01.716Z"
   },
   {
    "duration": 0,
    "start_time": "2025-01-03T00:45:02.332Z"
   },
   {
    "duration": 0,
    "start_time": "2025-01-03T00:45:02.333Z"
   },
   {
    "duration": 0,
    "start_time": "2025-01-03T00:45:02.334Z"
   },
   {
    "duration": 0,
    "start_time": "2025-01-03T00:45:02.335Z"
   },
   {
    "duration": 0,
    "start_time": "2025-01-03T00:45:02.336Z"
   },
   {
    "duration": 0,
    "start_time": "2025-01-03T00:45:02.337Z"
   },
   {
    "duration": 0,
    "start_time": "2025-01-03T00:45:02.338Z"
   },
   {
    "duration": 0,
    "start_time": "2025-01-03T00:45:02.339Z"
   },
   {
    "duration": 0,
    "start_time": "2025-01-03T00:45:02.340Z"
   },
   {
    "duration": 0,
    "start_time": "2025-01-03T00:45:02.341Z"
   },
   {
    "duration": 0,
    "start_time": "2025-01-03T00:45:02.342Z"
   },
   {
    "duration": 0,
    "start_time": "2025-01-03T00:45:02.343Z"
   },
   {
    "duration": 0,
    "start_time": "2025-01-03T00:45:02.345Z"
   },
   {
    "duration": 0,
    "start_time": "2025-01-03T00:45:02.346Z"
   },
   {
    "duration": 0,
    "start_time": "2025-01-03T00:45:02.347Z"
   },
   {
    "duration": 0,
    "start_time": "2025-01-03T00:45:02.348Z"
   },
   {
    "duration": 0,
    "start_time": "2025-01-03T00:45:02.349Z"
   },
   {
    "duration": 0,
    "start_time": "2025-01-03T00:45:02.350Z"
   },
   {
    "duration": 0,
    "start_time": "2025-01-03T00:45:02.352Z"
   },
   {
    "duration": 0,
    "start_time": "2025-01-03T00:45:02.355Z"
   },
   {
    "duration": 0,
    "start_time": "2025-01-03T00:45:02.356Z"
   },
   {
    "duration": 0,
    "start_time": "2025-01-03T00:45:02.357Z"
   },
   {
    "duration": 0,
    "start_time": "2025-01-03T00:45:02.359Z"
   },
   {
    "duration": 0,
    "start_time": "2025-01-03T00:45:02.360Z"
   },
   {
    "duration": 0,
    "start_time": "2025-01-03T00:45:02.362Z"
   },
   {
    "duration": 0,
    "start_time": "2025-01-03T00:45:02.364Z"
   },
   {
    "duration": 0,
    "start_time": "2025-01-03T00:45:02.365Z"
   },
   {
    "duration": 0,
    "start_time": "2025-01-03T00:45:02.366Z"
   },
   {
    "duration": 0,
    "start_time": "2025-01-03T00:45:02.368Z"
   },
   {
    "duration": 0,
    "start_time": "2025-01-03T00:45:02.370Z"
   },
   {
    "duration": 44,
    "start_time": "2025-01-03T00:45:16.146Z"
   },
   {
    "duration": 421,
    "start_time": "2025-01-03T00:45:26.411Z"
   },
   {
    "duration": 185,
    "start_time": "2025-01-03T00:45:26.834Z"
   },
   {
    "duration": 51,
    "start_time": "2025-01-03T00:45:27.020Z"
   },
   {
    "duration": 784,
    "start_time": "2025-01-03T00:45:27.072Z"
   },
   {
    "duration": 12,
    "start_time": "2025-01-03T00:45:27.860Z"
   },
   {
    "duration": 13,
    "start_time": "2025-01-03T00:45:27.874Z"
   },
   {
    "duration": 126,
    "start_time": "2025-01-03T00:45:27.889Z"
   },
   {
    "duration": 611,
    "start_time": "2025-01-03T00:45:28.017Z"
   },
   {
    "duration": 0,
    "start_time": "2025-01-03T00:45:28.631Z"
   },
   {
    "duration": 0,
    "start_time": "2025-01-03T00:45:28.632Z"
   },
   {
    "duration": 0,
    "start_time": "2025-01-03T00:45:28.634Z"
   },
   {
    "duration": 0,
    "start_time": "2025-01-03T00:45:28.634Z"
   },
   {
    "duration": 0,
    "start_time": "2025-01-03T00:45:28.636Z"
   },
   {
    "duration": 0,
    "start_time": "2025-01-03T00:45:28.637Z"
   },
   {
    "duration": 0,
    "start_time": "2025-01-03T00:45:28.638Z"
   },
   {
    "duration": 0,
    "start_time": "2025-01-03T00:45:28.640Z"
   },
   {
    "duration": 0,
    "start_time": "2025-01-03T00:45:28.641Z"
   },
   {
    "duration": 0,
    "start_time": "2025-01-03T00:45:28.642Z"
   },
   {
    "duration": 0,
    "start_time": "2025-01-03T00:45:28.643Z"
   },
   {
    "duration": 0,
    "start_time": "2025-01-03T00:45:28.645Z"
   },
   {
    "duration": 0,
    "start_time": "2025-01-03T00:45:28.646Z"
   },
   {
    "duration": 0,
    "start_time": "2025-01-03T00:45:28.647Z"
   },
   {
    "duration": 0,
    "start_time": "2025-01-03T00:45:28.649Z"
   },
   {
    "duration": 0,
    "start_time": "2025-01-03T00:45:28.650Z"
   },
   {
    "duration": 0,
    "start_time": "2025-01-03T00:45:28.651Z"
   },
   {
    "duration": 0,
    "start_time": "2025-01-03T00:45:28.653Z"
   },
   {
    "duration": 0,
    "start_time": "2025-01-03T00:45:28.654Z"
   },
   {
    "duration": 0,
    "start_time": "2025-01-03T00:45:28.655Z"
   },
   {
    "duration": 0,
    "start_time": "2025-01-03T00:45:28.657Z"
   },
   {
    "duration": 0,
    "start_time": "2025-01-03T00:45:28.658Z"
   },
   {
    "duration": 0,
    "start_time": "2025-01-03T00:45:28.660Z"
   },
   {
    "duration": 0,
    "start_time": "2025-01-03T00:45:28.661Z"
   },
   {
    "duration": 0,
    "start_time": "2025-01-03T00:45:28.663Z"
   },
   {
    "duration": 0,
    "start_time": "2025-01-03T00:45:28.666Z"
   },
   {
    "duration": 0,
    "start_time": "2025-01-03T00:45:28.668Z"
   },
   {
    "duration": 0,
    "start_time": "2025-01-03T00:45:28.669Z"
   },
   {
    "duration": 0,
    "start_time": "2025-01-03T00:45:28.671Z"
   },
   {
    "duration": 0,
    "start_time": "2025-01-03T00:45:28.732Z"
   },
   {
    "duration": 17,
    "start_time": "2025-01-03T00:45:49.683Z"
   },
   {
    "duration": 12,
    "start_time": "2025-01-03T00:45:54.941Z"
   },
   {
    "duration": 7,
    "start_time": "2025-01-03T00:46:03.545Z"
   },
   {
    "duration": 25,
    "start_time": "2025-01-03T00:47:05.890Z"
   },
   {
    "duration": 29,
    "start_time": "2025-01-03T00:50:32.621Z"
   },
   {
    "duration": 27,
    "start_time": "2025-01-03T00:50:37.010Z"
   },
   {
    "duration": 13,
    "start_time": "2025-01-03T00:52:24.834Z"
   },
   {
    "duration": 24,
    "start_time": "2025-01-03T00:53:01.660Z"
   },
   {
    "duration": 8,
    "start_time": "2025-01-03T00:54:58.778Z"
   },
   {
    "duration": 26,
    "start_time": "2025-01-03T01:01:49.907Z"
   },
   {
    "duration": 37,
    "start_time": "2025-01-03T01:01:56.424Z"
   },
   {
    "duration": 39,
    "start_time": "2025-01-03T01:02:02.083Z"
   },
   {
    "duration": 120,
    "start_time": "2025-01-03T01:03:22.804Z"
   },
   {
    "duration": 157,
    "start_time": "2025-01-03T01:05:16.999Z"
   },
   {
    "duration": 14,
    "start_time": "2025-01-03T01:13:51.193Z"
   },
   {
    "duration": 158,
    "start_time": "2025-01-03T08:23:08.589Z"
   },
   {
    "duration": 13,
    "start_time": "2025-01-03T08:23:52.081Z"
   },
   {
    "duration": 2374,
    "start_time": "2025-01-03T19:06:55.655Z"
   },
   {
    "duration": 201,
    "start_time": "2025-01-03T19:06:58.032Z"
   },
   {
    "duration": 74,
    "start_time": "2025-01-03T19:06:58.235Z"
   },
   {
    "duration": 916,
    "start_time": "2025-01-03T19:06:58.314Z"
   },
   {
    "duration": 14,
    "start_time": "2025-01-03T19:06:59.232Z"
   },
   {
    "duration": 14,
    "start_time": "2025-01-03T19:06:59.247Z"
   },
   {
    "duration": 109,
    "start_time": "2025-01-03T19:06:59.263Z"
   },
   {
    "duration": 693,
    "start_time": "2025-01-03T19:07:30.173Z"
   },
   {
    "duration": 11,
    "start_time": "2025-01-03T19:08:04.146Z"
   },
   {
    "duration": 104,
    "start_time": "2025-01-03T19:09:41.011Z"
   },
   {
    "duration": 12,
    "start_time": "2025-01-03T19:09:42.938Z"
   },
   {
    "duration": 71,
    "start_time": "2025-01-03T19:09:52.887Z"
   },
   {
    "duration": 16,
    "start_time": "2025-01-03T19:10:01.108Z"
   },
   {
    "duration": 5,
    "start_time": "2025-01-03T19:10:05.639Z"
   },
   {
    "duration": 9,
    "start_time": "2025-01-03T19:10:12.721Z"
   },
   {
    "duration": 41,
    "start_time": "2025-01-03T19:10:18.467Z"
   },
   {
    "duration": 8,
    "start_time": "2025-01-03T19:10:29.961Z"
   },
   {
    "duration": 8,
    "start_time": "2025-01-03T19:10:38.615Z"
   },
   {
    "duration": 11,
    "start_time": "2025-01-03T19:10:47.682Z"
   },
   {
    "duration": 8,
    "start_time": "2025-01-03T19:11:01.072Z"
   },
   {
    "duration": 6,
    "start_time": "2025-01-03T19:11:08.825Z"
   },
   {
    "duration": 4,
    "start_time": "2025-01-03T19:11:15.937Z"
   },
   {
    "duration": 873,
    "start_time": "2025-01-03T19:11:25.102Z"
   },
   {
    "duration": 380,
    "start_time": "2025-01-03T19:11:28.584Z"
   },
   {
    "duration": 21,
    "start_time": "2025-01-03T19:11:59.391Z"
   },
   {
    "duration": 5,
    "start_time": "2025-01-03T19:12:07.443Z"
   },
   {
    "duration": 12,
    "start_time": "2025-01-03T19:12:15.307Z"
   },
   {
    "duration": 13,
    "start_time": "2025-01-03T19:12:24.907Z"
   },
   {
    "duration": 8,
    "start_time": "2025-01-03T19:12:35.319Z"
   },
   {
    "duration": 12,
    "start_time": "2025-01-03T19:12:47.747Z"
   },
   {
    "duration": 18,
    "start_time": "2025-01-03T19:13:01.579Z"
   },
   {
    "duration": 7,
    "start_time": "2025-01-03T19:14:10.707Z"
   },
   {
    "duration": 7,
    "start_time": "2025-01-03T19:14:15.314Z"
   },
   {
    "duration": 173,
    "start_time": "2025-01-03T19:14:25.764Z"
   },
   {
    "duration": 16,
    "start_time": "2025-01-03T19:14:40.211Z"
   },
   {
    "duration": 144,
    "start_time": "2025-01-03T19:14:50.722Z"
   },
   {
    "duration": 16,
    "start_time": "2025-01-03T19:15:04.448Z"
   },
   {
    "duration": 147,
    "start_time": "2025-01-03T19:15:15.280Z"
   },
   {
    "duration": 42,
    "start_time": "2025-01-03T19:15:23.540Z"
   },
   {
    "duration": 36,
    "start_time": "2025-01-03T19:15:54.375Z"
   },
   {
    "duration": 17,
    "start_time": "2025-01-03T19:20:12.450Z"
   },
   {
    "duration": 220,
    "start_time": "2025-01-03T19:21:15.431Z"
   },
   {
    "duration": 6,
    "start_time": "2025-01-03T19:22:15.833Z"
   },
   {
    "duration": 6,
    "start_time": "2025-01-03T19:22:17.323Z"
   },
   {
    "duration": 54,
    "start_time": "2025-01-03T19:22:19.470Z"
   },
   {
    "duration": 207,
    "start_time": "2025-01-03T19:23:14.067Z"
   },
   {
    "duration": 4,
    "start_time": "2025-01-03T19:23:38.619Z"
   },
   {
    "duration": 158,
    "start_time": "2025-01-03T19:23:40.307Z"
   },
   {
    "duration": 7,
    "start_time": "2025-01-03T19:23:47.659Z"
   },
   {
    "duration": 14,
    "start_time": "2025-01-03T19:24:47.520Z"
   },
   {
    "duration": 191,
    "start_time": "2025-01-03T19:25:36.258Z"
   },
   {
    "duration": 13,
    "start_time": "2025-01-03T19:25:41.436Z"
   },
   {
    "duration": 353,
    "start_time": "2025-01-03T19:25:52.681Z"
   },
   {
    "duration": 162,
    "start_time": "2025-01-03T19:25:58.255Z"
   },
   {
    "duration": 36,
    "start_time": "2025-01-03T19:26:09.721Z"
   },
   {
    "duration": 178,
    "start_time": "2025-01-03T19:26:15.518Z"
   },
   {
    "duration": 14,
    "start_time": "2025-01-03T19:26:18.472Z"
   },
   {
    "duration": 188,
    "start_time": "2025-01-03T19:26:26.018Z"
   },
   {
    "duration": 101,
    "start_time": "2025-01-03T19:26:27.348Z"
   },
   {
    "duration": 111,
    "start_time": "2025-01-03T19:26:28.606Z"
   },
   {
    "duration": 2162,
    "start_time": "2025-01-03T19:26:34.747Z"
   },
   {
    "duration": 1129,
    "start_time": "2025-01-03T19:26:47.223Z"
   },
   {
    "duration": 234,
    "start_time": "2025-01-03T19:26:57.691Z"
   },
   {
    "duration": 29,
    "start_time": "2025-01-03T19:27:02.213Z"
   },
   {
    "duration": 83,
    "start_time": "2025-01-03T19:27:17.234Z"
   },
   {
    "duration": 14,
    "start_time": "2025-01-03T19:27:25.760Z"
   },
   {
    "duration": 157,
    "start_time": "2025-01-03T19:32:45.478Z"
   },
   {
    "duration": 40,
    "start_time": "2025-01-03T19:33:01.911Z"
   },
   {
    "duration": 158,
    "start_time": "2025-01-05T11:46:19.031Z"
   },
   {
    "duration": 2151,
    "start_time": "2025-01-05T11:46:36.239Z"
   },
   {
    "duration": 170,
    "start_time": "2025-01-05T11:46:38.392Z"
   },
   {
    "duration": 62,
    "start_time": "2025-01-05T11:46:38.565Z"
   },
   {
    "duration": 802,
    "start_time": "2025-01-05T11:46:38.629Z"
   },
   {
    "duration": 13,
    "start_time": "2025-01-05T11:46:39.434Z"
   },
   {
    "duration": 14,
    "start_time": "2025-01-05T11:46:39.449Z"
   },
   {
    "duration": 98,
    "start_time": "2025-01-05T11:46:39.464Z"
   },
   {
    "duration": 12,
    "start_time": "2025-01-05T11:46:39.564Z"
   },
   {
    "duration": 106,
    "start_time": "2025-01-05T11:46:39.578Z"
   },
   {
    "duration": 9,
    "start_time": "2025-01-05T11:46:39.686Z"
   },
   {
    "duration": 48,
    "start_time": "2025-01-05T11:46:39.697Z"
   },
   {
    "duration": 13,
    "start_time": "2025-01-05T11:46:39.746Z"
   },
   {
    "duration": 5,
    "start_time": "2025-01-05T11:46:39.760Z"
   },
   {
    "duration": 5,
    "start_time": "2025-01-05T11:46:39.769Z"
   },
   {
    "duration": 21,
    "start_time": "2025-01-05T11:46:39.776Z"
   },
   {
    "duration": 8,
    "start_time": "2025-01-05T11:46:39.824Z"
   },
   {
    "duration": 8,
    "start_time": "2025-01-05T11:46:39.834Z"
   },
   {
    "duration": 5,
    "start_time": "2025-01-05T11:46:39.843Z"
   },
   {
    "duration": 7,
    "start_time": "2025-01-05T11:46:39.850Z"
   },
   {
    "duration": 7,
    "start_time": "2025-01-05T11:46:39.859Z"
   },
   {
    "duration": 5,
    "start_time": "2025-01-05T11:46:39.867Z"
   },
   {
    "duration": 770,
    "start_time": "2025-01-05T11:46:39.873Z"
   },
   {
    "duration": 330,
    "start_time": "2025-01-05T11:46:40.645Z"
   },
   {
    "duration": 9,
    "start_time": "2025-01-05T11:46:40.977Z"
   },
   {
    "duration": 5,
    "start_time": "2025-01-05T11:46:40.988Z"
   },
   {
    "duration": 31,
    "start_time": "2025-01-05T11:46:40.995Z"
   },
   {
    "duration": 10,
    "start_time": "2025-01-05T11:46:41.027Z"
   },
   {
    "duration": 6,
    "start_time": "2025-01-05T11:46:41.039Z"
   },
   {
    "duration": 11,
    "start_time": "2025-01-05T11:46:41.047Z"
   },
   {
    "duration": 9,
    "start_time": "2025-01-05T11:46:41.059Z"
   },
   {
    "duration": 14,
    "start_time": "2025-01-05T11:46:41.070Z"
   },
   {
    "duration": 43,
    "start_time": "2025-01-05T11:46:41.085Z"
   },
   {
    "duration": 7,
    "start_time": "2025-01-05T11:46:41.130Z"
   },
   {
    "duration": 19,
    "start_time": "2025-01-05T11:46:41.139Z"
   },
   {
    "duration": 28,
    "start_time": "2025-01-05T11:46:41.160Z"
   },
   {
    "duration": 52,
    "start_time": "2025-01-05T11:46:41.191Z"
   },
   {
    "duration": 6,
    "start_time": "2025-01-05T11:46:41.245Z"
   },
   {
    "duration": 25,
    "start_time": "2025-01-05T11:46:41.253Z"
   },
   {
    "duration": 8,
    "start_time": "2025-01-05T11:46:41.280Z"
   },
   {
    "duration": 45,
    "start_time": "2025-01-05T11:46:41.289Z"
   },
   {
    "duration": 35,
    "start_time": "2025-01-05T11:46:41.339Z"
   },
   {
    "duration": 53,
    "start_time": "2025-01-05T11:46:41.376Z"
   },
   {
    "duration": 6,
    "start_time": "2025-01-05T11:46:41.431Z"
   },
   {
    "duration": 5,
    "start_time": "2025-01-05T11:46:41.438Z"
   },
   {
    "duration": 12,
    "start_time": "2025-01-05T11:46:41.445Z"
   },
   {
    "duration": 148,
    "start_time": "2025-01-05T11:46:41.458Z"
   },
   {
    "duration": 18,
    "start_time": "2025-01-05T11:46:41.608Z"
   },
   {
    "duration": 156,
    "start_time": "2025-01-05T11:46:41.628Z"
   },
   {
    "duration": 15,
    "start_time": "2025-01-05T11:46:41.786Z"
   },
   {
    "duration": 189,
    "start_time": "2025-01-05T11:46:41.803Z"
   },
   {
    "duration": 6,
    "start_time": "2025-01-05T11:46:41.994Z"
   },
   {
    "duration": 6,
    "start_time": "2025-01-05T11:46:42.002Z"
   },
   {
    "duration": 164,
    "start_time": "2025-01-05T11:46:42.009Z"
   },
   {
    "duration": 4,
    "start_time": "2025-01-05T11:46:42.175Z"
   },
   {
    "duration": 152,
    "start_time": "2025-01-05T11:46:42.181Z"
   },
   {
    "duration": 186,
    "start_time": "2025-01-05T11:46:42.334Z"
   },
   {
    "duration": 14,
    "start_time": "2025-01-05T11:46:42.522Z"
   },
   {
    "duration": 314,
    "start_time": "2025-01-05T11:46:42.537Z"
   },
   {
    "duration": 158,
    "start_time": "2025-01-05T11:46:42.854Z"
   },
   {
    "duration": 40,
    "start_time": "2025-01-05T11:46:43.015Z"
   },
   {
    "duration": 149,
    "start_time": "2025-01-05T11:46:43.056Z"
   },
   {
    "duration": 17,
    "start_time": "2025-01-05T11:46:43.208Z"
   },
   {
    "duration": 143,
    "start_time": "2025-01-05T11:46:43.227Z"
   },
   {
    "duration": 82,
    "start_time": "2025-01-05T11:46:43.372Z"
   },
   {
    "duration": 41,
    "start_time": "2025-01-05T11:46:43.456Z"
   },
   {
    "duration": 1736,
    "start_time": "2025-01-05T11:46:43.498Z"
   },
   {
    "duration": 863,
    "start_time": "2025-01-05T11:46:45.236Z"
   },
   {
    "duration": 216,
    "start_time": "2025-01-05T11:46:46.101Z"
   },
   {
    "duration": 31,
    "start_time": "2025-01-05T11:46:46.323Z"
   },
   {
    "duration": 38,
    "start_time": "2025-01-05T11:46:46.356Z"
   },
   {
    "duration": 30,
    "start_time": "2025-01-05T11:46:46.395Z"
   },
   {
    "duration": 195,
    "start_time": "2025-01-06T04:58:20.403Z"
   },
   {
    "duration": 17,
    "start_time": "2025-01-06T04:59:07.622Z"
   },
   {
    "duration": 2685,
    "start_time": "2025-01-06T04:59:24.314Z"
   },
   {
    "duration": 223,
    "start_time": "2025-01-06T04:59:27.001Z"
   },
   {
    "duration": 90,
    "start_time": "2025-01-06T04:59:27.226Z"
   },
   {
    "duration": 1050,
    "start_time": "2025-01-06T04:59:27.318Z"
   },
   {
    "duration": 16,
    "start_time": "2025-01-06T04:59:28.370Z"
   },
   {
    "duration": 19,
    "start_time": "2025-01-06T04:59:28.388Z"
   },
   {
    "duration": 126,
    "start_time": "2025-01-06T04:59:28.408Z"
   },
   {
    "duration": 30,
    "start_time": "2025-01-06T04:59:28.537Z"
   },
   {
    "duration": 24,
    "start_time": "2025-01-06T04:59:28.571Z"
   },
   {
    "duration": 125,
    "start_time": "2025-01-06T04:59:28.598Z"
   },
   {
    "duration": 30,
    "start_time": "2025-01-06T04:59:28.724Z"
   },
   {
    "duration": 54,
    "start_time": "2025-01-06T04:59:28.757Z"
   },
   {
    "duration": 14,
    "start_time": "2025-01-06T04:59:28.813Z"
   },
   {
    "duration": 24,
    "start_time": "2025-01-06T04:59:28.829Z"
   },
   {
    "duration": 10,
    "start_time": "2025-01-06T04:59:28.856Z"
   },
   {
    "duration": 32,
    "start_time": "2025-01-06T04:59:28.869Z"
   },
   {
    "duration": 11,
    "start_time": "2025-01-06T04:59:28.903Z"
   },
   {
    "duration": 9,
    "start_time": "2025-01-06T04:59:28.916Z"
   },
   {
    "duration": 22,
    "start_time": "2025-01-06T04:59:28.942Z"
   },
   {
    "duration": 11,
    "start_time": "2025-01-06T04:59:28.966Z"
   },
   {
    "duration": 7,
    "start_time": "2025-01-06T04:59:28.979Z"
   },
   {
    "duration": 5,
    "start_time": "2025-01-06T04:59:28.989Z"
   },
   {
    "duration": 1032,
    "start_time": "2025-01-06T04:59:28.995Z"
   },
   {
    "duration": 466,
    "start_time": "2025-01-06T04:59:30.029Z"
   },
   {
    "duration": 8,
    "start_time": "2025-01-06T04:59:30.497Z"
   },
   {
    "duration": 5,
    "start_time": "2025-01-06T04:59:30.507Z"
   },
   {
    "duration": 28,
    "start_time": "2025-01-06T04:59:30.514Z"
   },
   {
    "duration": 14,
    "start_time": "2025-01-06T04:59:30.547Z"
   },
   {
    "duration": 8,
    "start_time": "2025-01-06T04:59:30.566Z"
   },
   {
    "duration": 13,
    "start_time": "2025-01-06T04:59:30.576Z"
   },
   {
    "duration": 9,
    "start_time": "2025-01-06T04:59:30.591Z"
   },
   {
    "duration": 50,
    "start_time": "2025-01-06T04:59:30.603Z"
   },
   {
    "duration": 16,
    "start_time": "2025-01-06T04:59:30.655Z"
   },
   {
    "duration": 7,
    "start_time": "2025-01-06T04:59:30.672Z"
   },
   {
    "duration": 23,
    "start_time": "2025-01-06T04:59:30.680Z"
   },
   {
    "duration": 60,
    "start_time": "2025-01-06T04:59:30.705Z"
   },
   {
    "duration": 28,
    "start_time": "2025-01-06T04:59:30.767Z"
   },
   {
    "duration": 6,
    "start_time": "2025-01-06T04:59:30.797Z"
   },
   {
    "duration": 45,
    "start_time": "2025-01-06T04:59:30.806Z"
   },
   {
    "duration": 11,
    "start_time": "2025-01-06T04:59:30.853Z"
   },
   {
    "duration": 21,
    "start_time": "2025-01-06T04:59:30.866Z"
   },
   {
    "duration": 67,
    "start_time": "2025-01-06T04:59:30.889Z"
   },
   {
    "duration": 35,
    "start_time": "2025-01-06T04:59:30.959Z"
   },
   {
    "duration": 6,
    "start_time": "2025-01-06T04:59:30.996Z"
   },
   {
    "duration": 7,
    "start_time": "2025-01-06T04:59:31.004Z"
   },
   {
    "duration": 29,
    "start_time": "2025-01-06T04:59:31.012Z"
   },
   {
    "duration": 142,
    "start_time": "2025-01-06T04:59:31.047Z"
   },
   {
    "duration": 16,
    "start_time": "2025-01-06T04:59:31.192Z"
   },
   {
    "duration": 161,
    "start_time": "2025-01-06T04:59:31.210Z"
   },
   {
    "duration": 16,
    "start_time": "2025-01-06T04:59:31.373Z"
   },
   {
    "duration": 238,
    "start_time": "2025-01-06T04:59:31.390Z"
   },
   {
    "duration": 7,
    "start_time": "2025-01-06T04:59:31.630Z"
   },
   {
    "duration": 7,
    "start_time": "2025-01-06T04:59:31.639Z"
   },
   {
    "duration": 200,
    "start_time": "2025-01-06T04:59:31.647Z"
   },
   {
    "duration": 5,
    "start_time": "2025-01-06T04:59:31.849Z"
   },
   {
    "duration": 186,
    "start_time": "2025-01-06T04:59:31.856Z"
   },
   {
    "duration": 185,
    "start_time": "2025-01-06T04:59:32.043Z"
   },
   {
    "duration": 35,
    "start_time": "2025-01-06T04:59:32.241Z"
   },
   {
    "duration": 376,
    "start_time": "2025-01-06T04:59:32.278Z"
   },
   {
    "duration": 165,
    "start_time": "2025-01-06T04:59:32.658Z"
   },
   {
    "duration": 50,
    "start_time": "2025-01-06T04:59:32.825Z"
   },
   {
    "duration": 155,
    "start_time": "2025-01-06T04:59:32.877Z"
   },
   {
    "duration": 17,
    "start_time": "2025-01-06T04:59:33.034Z"
   },
   {
    "duration": 145,
    "start_time": "2025-01-06T04:59:33.054Z"
   },
   {
    "duration": 91,
    "start_time": "2025-01-06T04:59:33.200Z"
   },
   {
    "duration": 70,
    "start_time": "2025-01-06T04:59:33.293Z"
   },
   {
    "duration": 2032,
    "start_time": "2025-01-06T04:59:33.364Z"
   },
   {
    "duration": 1072,
    "start_time": "2025-01-06T04:59:35.398Z"
   },
   {
    "duration": 252,
    "start_time": "2025-01-06T04:59:36.472Z"
   },
   {
    "duration": 49,
    "start_time": "2025-01-06T04:59:36.726Z"
   },
   {
    "duration": 40,
    "start_time": "2025-01-06T04:59:36.777Z"
   },
   {
    "duration": 19,
    "start_time": "2025-01-06T04:59:36.819Z"
   },
   {
    "duration": 6,
    "start_time": "2025-01-06T05:01:32.443Z"
   },
   {
    "duration": 585,
    "start_time": "2025-01-06T05:05:51.035Z"
   },
   {
    "duration": 11,
    "start_time": "2025-01-06T05:06:36.761Z"
   },
   {
    "duration": 11,
    "start_time": "2025-01-06T05:14:08.044Z"
   },
   {
    "duration": 6,
    "start_time": "2025-01-06T05:16:03.360Z"
   },
   {
    "duration": 19,
    "start_time": "2025-01-06T05:21:20.308Z"
   },
   {
    "duration": 24,
    "start_time": "2025-01-06T05:23:41.065Z"
   },
   {
    "duration": 20,
    "start_time": "2025-01-06T05:24:53.881Z"
   },
   {
    "duration": 33,
    "start_time": "2025-01-06T05:30:07.298Z"
   },
   {
    "duration": 22,
    "start_time": "2025-01-06T05:30:31.414Z"
   },
   {
    "duration": 16,
    "start_time": "2025-01-06T05:30:42.832Z"
   },
   {
    "duration": 7,
    "start_time": "2025-01-06T05:31:09.631Z"
   },
   {
    "duration": 17,
    "start_time": "2025-01-06T05:31:17.814Z"
   },
   {
    "duration": 19,
    "start_time": "2025-01-06T05:32:51.247Z"
   },
   {
    "duration": 14,
    "start_time": "2025-01-06T05:33:24.349Z"
   },
   {
    "duration": 6,
    "start_time": "2025-01-06T05:33:31.196Z"
   },
   {
    "duration": 7,
    "start_time": "2025-01-06T05:33:45.048Z"
   },
   {
    "duration": 22,
    "start_time": "2025-01-06T05:35:21.781Z"
   },
   {
    "duration": 41,
    "start_time": "2025-01-06T05:35:37.902Z"
   },
   {
    "duration": 8,
    "start_time": "2025-01-06T05:36:07.388Z"
   },
   {
    "duration": 5,
    "start_time": "2025-01-06T05:36:20.243Z"
   },
   {
    "duration": 5,
    "start_time": "2025-01-06T05:36:28.016Z"
   },
   {
    "duration": 9,
    "start_time": "2025-01-06T05:37:47.928Z"
   },
   {
    "duration": 20,
    "start_time": "2025-01-06T05:40:29.116Z"
   },
   {
    "duration": 687,
    "start_time": "2025-01-06T05:42:00.907Z"
   },
   {
    "duration": 9,
    "start_time": "2025-01-06T05:43:06.685Z"
   },
   {
    "duration": 5,
    "start_time": "2025-01-06T05:43:15.988Z"
   },
   {
    "duration": 8,
    "start_time": "2025-01-06T05:45:33.295Z"
   },
   {
    "duration": 6,
    "start_time": "2025-01-06T05:45:42.877Z"
   },
   {
    "duration": 13,
    "start_time": "2025-01-06T05:47:17.646Z"
   },
   {
    "duration": 39,
    "start_time": "2025-01-06T05:50:26.128Z"
   },
   {
    "duration": 11,
    "start_time": "2025-01-06T05:55:29.851Z"
   },
   {
    "duration": 22,
    "start_time": "2025-01-06T05:56:58.456Z"
   },
   {
    "duration": 25,
    "start_time": "2025-01-06T05:57:14.585Z"
   },
   {
    "duration": 20,
    "start_time": "2025-01-06T05:57:28.092Z"
   },
   {
    "duration": 9,
    "start_time": "2025-01-06T05:57:43.863Z"
   },
   {
    "duration": 21,
    "start_time": "2025-01-06T05:58:10.868Z"
   },
   {
    "duration": 19,
    "start_time": "2025-01-06T05:59:42.979Z"
   },
   {
    "duration": 18,
    "start_time": "2025-01-06T06:00:17.223Z"
   },
   {
    "duration": 705,
    "start_time": "2025-01-06T06:00:39.360Z"
   },
   {
    "duration": 337,
    "start_time": "2025-01-06T06:01:10.240Z"
   },
   {
    "duration": 11,
    "start_time": "2025-01-06T06:02:00.836Z"
   },
   {
    "duration": 6,
    "start_time": "2025-01-06T06:02:18.307Z"
   },
   {
    "duration": 13,
    "start_time": "2025-01-06T06:02:24.871Z"
   },
   {
    "duration": 12,
    "start_time": "2025-01-06T06:03:32.032Z"
   },
   {
    "duration": 6,
    "start_time": "2025-01-06T06:04:24.118Z"
   },
   {
    "duration": 12,
    "start_time": "2025-01-06T06:04:58.737Z"
   },
   {
    "duration": 39,
    "start_time": "2025-01-06T06:08:28.012Z"
   },
   {
    "duration": 29,
    "start_time": "2025-01-06T06:10:53.585Z"
   },
   {
    "duration": 4,
    "start_time": "2025-01-06T06:14:15.979Z"
   },
   {
    "duration": 4,
    "start_time": "2025-01-06T06:14:43.259Z"
   },
   {
    "duration": 4,
    "start_time": "2025-01-06T06:15:16.922Z"
   },
   {
    "duration": 2143,
    "start_time": "2025-01-06T11:21:49.202Z"
   },
   {
    "duration": 166,
    "start_time": "2025-01-06T11:21:51.348Z"
   },
   {
    "duration": 61,
    "start_time": "2025-01-06T11:21:51.516Z"
   },
   {
    "duration": 802,
    "start_time": "2025-01-06T11:21:51.579Z"
   },
   {
    "duration": 12,
    "start_time": "2025-01-06T11:21:52.385Z"
   },
   {
    "duration": 16,
    "start_time": "2025-01-06T11:21:52.398Z"
   },
   {
    "duration": 107,
    "start_time": "2025-01-06T11:21:52.415Z"
   },
   {
    "duration": 9,
    "start_time": "2025-01-06T11:21:52.524Z"
   },
   {
    "duration": 7,
    "start_time": "2025-01-06T11:21:52.534Z"
   },
   {
    "duration": 4,
    "start_time": "2025-01-06T11:21:52.543Z"
   },
   {
    "duration": 639,
    "start_time": "2025-01-06T11:21:52.549Z"
   },
   {
    "duration": 0,
    "start_time": "2025-01-06T11:21:53.192Z"
   },
   {
    "duration": 0,
    "start_time": "2025-01-06T11:21:53.193Z"
   },
   {
    "duration": 0,
    "start_time": "2025-01-06T11:21:53.195Z"
   },
   {
    "duration": 0,
    "start_time": "2025-01-06T11:21:53.196Z"
   },
   {
    "duration": 0,
    "start_time": "2025-01-06T11:21:53.209Z"
   },
   {
    "duration": 0,
    "start_time": "2025-01-06T11:21:53.211Z"
   },
   {
    "duration": 0,
    "start_time": "2025-01-06T11:21:53.212Z"
   },
   {
    "duration": 0,
    "start_time": "2025-01-06T11:21:53.214Z"
   },
   {
    "duration": 0,
    "start_time": "2025-01-06T11:21:53.215Z"
   },
   {
    "duration": 0,
    "start_time": "2025-01-06T11:21:53.216Z"
   },
   {
    "duration": 0,
    "start_time": "2025-01-06T11:21:53.219Z"
   },
   {
    "duration": 0,
    "start_time": "2025-01-06T11:21:53.219Z"
   },
   {
    "duration": 0,
    "start_time": "2025-01-06T11:21:53.220Z"
   },
   {
    "duration": 0,
    "start_time": "2025-01-06T11:21:53.222Z"
   },
   {
    "duration": 0,
    "start_time": "2025-01-06T11:21:53.223Z"
   },
   {
    "duration": 0,
    "start_time": "2025-01-06T11:21:53.224Z"
   },
   {
    "duration": 0,
    "start_time": "2025-01-06T11:21:53.225Z"
   },
   {
    "duration": 0,
    "start_time": "2025-01-06T11:21:53.226Z"
   },
   {
    "duration": 0,
    "start_time": "2025-01-06T11:21:53.227Z"
   },
   {
    "duration": 0,
    "start_time": "2025-01-06T11:21:53.228Z"
   },
   {
    "duration": 0,
    "start_time": "2025-01-06T11:21:53.230Z"
   },
   {
    "duration": 0,
    "start_time": "2025-01-06T11:21:53.232Z"
   },
   {
    "duration": 0,
    "start_time": "2025-01-06T11:21:53.233Z"
   },
   {
    "duration": 0,
    "start_time": "2025-01-06T11:21:53.234Z"
   },
   {
    "duration": 0,
    "start_time": "2025-01-06T11:21:53.235Z"
   },
   {
    "duration": 0,
    "start_time": "2025-01-06T11:21:53.237Z"
   },
   {
    "duration": 0,
    "start_time": "2025-01-06T11:21:53.238Z"
   },
   {
    "duration": 0,
    "start_time": "2025-01-06T11:21:53.239Z"
   },
   {
    "duration": 0,
    "start_time": "2025-01-06T11:21:53.239Z"
   },
   {
    "duration": 0,
    "start_time": "2025-01-06T11:21:53.240Z"
   },
   {
    "duration": 0,
    "start_time": "2025-01-06T11:21:53.241Z"
   },
   {
    "duration": 0,
    "start_time": "2025-01-06T11:21:53.242Z"
   },
   {
    "duration": 0,
    "start_time": "2025-01-06T11:21:53.242Z"
   },
   {
    "duration": 0,
    "start_time": "2025-01-06T11:21:53.244Z"
   },
   {
    "duration": 0,
    "start_time": "2025-01-06T11:21:53.245Z"
   },
   {
    "duration": 0,
    "start_time": "2025-01-06T11:21:53.246Z"
   },
   {
    "duration": 0,
    "start_time": "2025-01-06T11:21:53.247Z"
   },
   {
    "duration": 0,
    "start_time": "2025-01-06T11:21:53.249Z"
   },
   {
    "duration": 0,
    "start_time": "2025-01-06T11:21:53.311Z"
   },
   {
    "duration": 0,
    "start_time": "2025-01-06T11:21:53.312Z"
   },
   {
    "duration": 0,
    "start_time": "2025-01-06T11:21:53.314Z"
   },
   {
    "duration": 0,
    "start_time": "2025-01-06T11:21:53.315Z"
   },
   {
    "duration": 0,
    "start_time": "2025-01-06T11:21:53.316Z"
   },
   {
    "duration": 0,
    "start_time": "2025-01-06T11:21:53.318Z"
   },
   {
    "duration": 0,
    "start_time": "2025-01-06T11:21:53.320Z"
   },
   {
    "duration": 0,
    "start_time": "2025-01-06T11:21:53.321Z"
   },
   {
    "duration": 0,
    "start_time": "2025-01-06T11:21:53.323Z"
   },
   {
    "duration": 0,
    "start_time": "2025-01-06T11:21:53.324Z"
   },
   {
    "duration": 0,
    "start_time": "2025-01-06T11:21:53.325Z"
   },
   {
    "duration": 0,
    "start_time": "2025-01-06T11:21:53.327Z"
   },
   {
    "duration": 0,
    "start_time": "2025-01-06T11:21:53.328Z"
   },
   {
    "duration": 0,
    "start_time": "2025-01-06T11:21:53.330Z"
   },
   {
    "duration": 0,
    "start_time": "2025-01-06T11:21:53.332Z"
   },
   {
    "duration": 0,
    "start_time": "2025-01-06T11:21:53.333Z"
   },
   {
    "duration": 0,
    "start_time": "2025-01-06T11:21:53.334Z"
   },
   {
    "duration": 0,
    "start_time": "2025-01-06T11:21:53.336Z"
   },
   {
    "duration": 0,
    "start_time": "2025-01-06T11:21:53.338Z"
   },
   {
    "duration": 0,
    "start_time": "2025-01-06T11:21:53.339Z"
   },
   {
    "duration": 0,
    "start_time": "2025-01-06T11:21:53.340Z"
   },
   {
    "duration": 0,
    "start_time": "2025-01-06T11:21:53.341Z"
   },
   {
    "duration": 0,
    "start_time": "2025-01-06T11:21:53.343Z"
   },
   {
    "duration": 0,
    "start_time": "2025-01-06T11:21:53.344Z"
   },
   {
    "duration": 0,
    "start_time": "2025-01-06T11:21:53.345Z"
   },
   {
    "duration": 0,
    "start_time": "2025-01-06T11:21:53.347Z"
   },
   {
    "duration": 0,
    "start_time": "2025-01-06T11:21:53.348Z"
   },
   {
    "duration": 0,
    "start_time": "2025-01-06T11:21:53.410Z"
   },
   {
    "duration": 0,
    "start_time": "2025-01-06T11:21:53.411Z"
   },
   {
    "duration": 1,
    "start_time": "2025-01-06T11:21:53.412Z"
   },
   {
    "duration": 0,
    "start_time": "2025-01-06T11:21:53.414Z"
   },
   {
    "duration": 0,
    "start_time": "2025-01-06T11:21:53.415Z"
   },
   {
    "duration": 0,
    "start_time": "2025-01-06T11:21:53.416Z"
   },
   {
    "duration": 0,
    "start_time": "2025-01-06T11:21:53.417Z"
   },
   {
    "duration": 160,
    "start_time": "2025-01-06T15:45:59.686Z"
   },
   {
    "duration": 13,
    "start_time": "2025-01-06T15:47:27.924Z"
   },
   {
    "duration": 12,
    "start_time": "2025-01-06T15:50:24.953Z"
   },
   {
    "duration": 2225,
    "start_time": "2025-01-06T15:57:26.172Z"
   },
   {
    "duration": 157,
    "start_time": "2025-01-06T15:57:28.399Z"
   },
   {
    "duration": 58,
    "start_time": "2025-01-06T15:57:28.558Z"
   },
   {
    "duration": 833,
    "start_time": "2025-01-06T15:57:28.620Z"
   },
   {
    "duration": 11,
    "start_time": "2025-01-06T15:57:29.455Z"
   },
   {
    "duration": 11,
    "start_time": "2025-01-06T15:57:29.468Z"
   },
   {
    "duration": 100,
    "start_time": "2025-01-06T15:57:29.480Z"
   },
   {
    "duration": 12,
    "start_time": "2025-01-06T15:57:29.583Z"
   },
   {
    "duration": 7,
    "start_time": "2025-01-06T15:57:29.596Z"
   },
   {
    "duration": 6,
    "start_time": "2025-01-06T15:57:29.606Z"
   },
   {
    "duration": 11,
    "start_time": "2025-01-06T15:57:29.631Z"
   },
   {
    "duration": 795,
    "start_time": "2025-01-06T15:57:29.643Z"
   },
   {
    "duration": 0,
    "start_time": "2025-01-06T15:57:30.441Z"
   },
   {
    "duration": 0,
    "start_time": "2025-01-06T15:57:30.442Z"
   },
   {
    "duration": 0,
    "start_time": "2025-01-06T15:57:30.443Z"
   },
   {
    "duration": 0,
    "start_time": "2025-01-06T15:57:30.443Z"
   },
   {
    "duration": 0,
    "start_time": "2025-01-06T15:57:30.444Z"
   },
   {
    "duration": 0,
    "start_time": "2025-01-06T15:57:30.446Z"
   },
   {
    "duration": 0,
    "start_time": "2025-01-06T15:57:30.447Z"
   },
   {
    "duration": 0,
    "start_time": "2025-01-06T15:57:30.448Z"
   },
   {
    "duration": 0,
    "start_time": "2025-01-06T15:57:30.449Z"
   },
   {
    "duration": 0,
    "start_time": "2025-01-06T15:57:30.450Z"
   },
   {
    "duration": 0,
    "start_time": "2025-01-06T15:57:30.451Z"
   },
   {
    "duration": 0,
    "start_time": "2025-01-06T15:57:30.451Z"
   },
   {
    "duration": 0,
    "start_time": "2025-01-06T15:57:30.452Z"
   },
   {
    "duration": 0,
    "start_time": "2025-01-06T15:57:30.453Z"
   },
   {
    "duration": 0,
    "start_time": "2025-01-06T15:57:30.455Z"
   },
   {
    "duration": 0,
    "start_time": "2025-01-06T15:57:30.455Z"
   },
   {
    "duration": 0,
    "start_time": "2025-01-06T15:57:30.457Z"
   },
   {
    "duration": 0,
    "start_time": "2025-01-06T15:57:30.458Z"
   },
   {
    "duration": 0,
    "start_time": "2025-01-06T15:57:30.459Z"
   },
   {
    "duration": 0,
    "start_time": "2025-01-06T15:57:30.460Z"
   },
   {
    "duration": 0,
    "start_time": "2025-01-06T15:57:30.461Z"
   },
   {
    "duration": 0,
    "start_time": "2025-01-06T15:57:30.463Z"
   },
   {
    "duration": 0,
    "start_time": "2025-01-06T15:57:30.464Z"
   },
   {
    "duration": 0,
    "start_time": "2025-01-06T15:57:30.466Z"
   },
   {
    "duration": 0,
    "start_time": "2025-01-06T15:57:30.467Z"
   },
   {
    "duration": 0,
    "start_time": "2025-01-06T15:57:30.469Z"
   },
   {
    "duration": 0,
    "start_time": "2025-01-06T15:57:30.470Z"
   },
   {
    "duration": 0,
    "start_time": "2025-01-06T15:57:30.472Z"
   },
   {
    "duration": 0,
    "start_time": "2025-01-06T15:57:30.473Z"
   },
   {
    "duration": 0,
    "start_time": "2025-01-06T15:57:30.474Z"
   },
   {
    "duration": 0,
    "start_time": "2025-01-06T15:57:30.477Z"
   },
   {
    "duration": 0,
    "start_time": "2025-01-06T15:57:30.478Z"
   },
   {
    "duration": 0,
    "start_time": "2025-01-06T15:57:30.531Z"
   },
   {
    "duration": 0,
    "start_time": "2025-01-06T15:57:30.532Z"
   },
   {
    "duration": 0,
    "start_time": "2025-01-06T15:57:30.533Z"
   },
   {
    "duration": 0,
    "start_time": "2025-01-06T15:57:30.534Z"
   },
   {
    "duration": 0,
    "start_time": "2025-01-06T15:57:30.535Z"
   },
   {
    "duration": 0,
    "start_time": "2025-01-06T15:57:30.537Z"
   },
   {
    "duration": 0,
    "start_time": "2025-01-06T15:57:30.538Z"
   },
   {
    "duration": 0,
    "start_time": "2025-01-06T15:57:30.538Z"
   },
   {
    "duration": 0,
    "start_time": "2025-01-06T15:57:30.540Z"
   },
   {
    "duration": 0,
    "start_time": "2025-01-06T15:57:30.541Z"
   },
   {
    "duration": 0,
    "start_time": "2025-01-06T15:57:30.542Z"
   },
   {
    "duration": 0,
    "start_time": "2025-01-06T15:57:30.543Z"
   },
   {
    "duration": 0,
    "start_time": "2025-01-06T15:57:30.544Z"
   },
   {
    "duration": 0,
    "start_time": "2025-01-06T15:57:30.545Z"
   },
   {
    "duration": 0,
    "start_time": "2025-01-06T15:57:30.546Z"
   },
   {
    "duration": 0,
    "start_time": "2025-01-06T15:57:30.547Z"
   },
   {
    "duration": 0,
    "start_time": "2025-01-06T15:57:30.548Z"
   },
   {
    "duration": 0,
    "start_time": "2025-01-06T15:57:30.549Z"
   },
   {
    "duration": 0,
    "start_time": "2025-01-06T15:57:30.550Z"
   },
   {
    "duration": 0,
    "start_time": "2025-01-06T15:57:30.551Z"
   },
   {
    "duration": 0,
    "start_time": "2025-01-06T15:57:30.552Z"
   },
   {
    "duration": 0,
    "start_time": "2025-01-06T15:57:30.553Z"
   },
   {
    "duration": 0,
    "start_time": "2025-01-06T15:57:30.555Z"
   },
   {
    "duration": 0,
    "start_time": "2025-01-06T15:57:30.556Z"
   },
   {
    "duration": 0,
    "start_time": "2025-01-06T15:57:30.557Z"
   },
   {
    "duration": 0,
    "start_time": "2025-01-06T15:57:30.558Z"
   },
   {
    "duration": 0,
    "start_time": "2025-01-06T15:57:30.560Z"
   },
   {
    "duration": 1,
    "start_time": "2025-01-06T15:57:30.561Z"
   },
   {
    "duration": 0,
    "start_time": "2025-01-06T15:57:30.564Z"
   },
   {
    "duration": 0,
    "start_time": "2025-01-06T15:57:30.566Z"
   },
   {
    "duration": 0,
    "start_time": "2025-01-06T15:57:30.567Z"
   },
   {
    "duration": 0,
    "start_time": "2025-01-06T15:57:30.568Z"
   },
   {
    "duration": 0,
    "start_time": "2025-01-06T15:57:30.569Z"
   },
   {
    "duration": 0,
    "start_time": "2025-01-06T15:57:30.632Z"
   },
   {
    "duration": 0,
    "start_time": "2025-01-06T15:57:30.634Z"
   },
   {
    "duration": 0,
    "start_time": "2025-01-06T15:57:30.635Z"
   },
   {
    "duration": 0,
    "start_time": "2025-01-06T15:57:30.636Z"
   },
   {
    "duration": 0,
    "start_time": "2025-01-06T15:57:30.638Z"
   },
   {
    "duration": 0,
    "start_time": "2025-01-06T15:57:30.639Z"
   },
   {
    "duration": 39,
    "start_time": "2025-01-06T15:59:56.347Z"
   },
   {
    "duration": 464,
    "start_time": "2025-01-06T16:00:20.037Z"
   },
   {
    "duration": 175,
    "start_time": "2025-01-06T16:00:20.503Z"
   },
   {
    "duration": 41,
    "start_time": "2025-01-06T16:00:20.680Z"
   },
   {
    "duration": 728,
    "start_time": "2025-01-06T16:00:20.731Z"
   },
   {
    "duration": 9,
    "start_time": "2025-01-06T16:00:21.461Z"
   },
   {
    "duration": 10,
    "start_time": "2025-01-06T16:00:21.472Z"
   },
   {
    "duration": 113,
    "start_time": "2025-01-06T16:00:21.484Z"
   },
   {
    "duration": 9,
    "start_time": "2025-01-06T16:00:21.599Z"
   },
   {
    "duration": 22,
    "start_time": "2025-01-06T16:00:21.610Z"
   },
   {
    "duration": 5,
    "start_time": "2025-01-06T16:00:21.633Z"
   },
   {
    "duration": 606,
    "start_time": "2025-01-06T16:00:21.640Z"
   },
   {
    "duration": 0,
    "start_time": "2025-01-06T16:00:22.250Z"
   },
   {
    "duration": 0,
    "start_time": "2025-01-06T16:00:22.251Z"
   },
   {
    "duration": 0,
    "start_time": "2025-01-06T16:00:22.252Z"
   },
   {
    "duration": 0,
    "start_time": "2025-01-06T16:00:22.253Z"
   },
   {
    "duration": 0,
    "start_time": "2025-01-06T16:00:22.253Z"
   },
   {
    "duration": 0,
    "start_time": "2025-01-06T16:00:22.255Z"
   },
   {
    "duration": 0,
    "start_time": "2025-01-06T16:00:22.256Z"
   },
   {
    "duration": 0,
    "start_time": "2025-01-06T16:00:22.257Z"
   },
   {
    "duration": 0,
    "start_time": "2025-01-06T16:00:22.258Z"
   },
   {
    "duration": 0,
    "start_time": "2025-01-06T16:00:22.259Z"
   },
   {
    "duration": 0,
    "start_time": "2025-01-06T16:00:22.260Z"
   },
   {
    "duration": 0,
    "start_time": "2025-01-06T16:00:22.261Z"
   },
   {
    "duration": 0,
    "start_time": "2025-01-06T16:00:22.262Z"
   },
   {
    "duration": 0,
    "start_time": "2025-01-06T16:00:22.263Z"
   },
   {
    "duration": 0,
    "start_time": "2025-01-06T16:00:22.264Z"
   },
   {
    "duration": 0,
    "start_time": "2025-01-06T16:00:22.265Z"
   },
   {
    "duration": 0,
    "start_time": "2025-01-06T16:00:22.266Z"
   },
   {
    "duration": 0,
    "start_time": "2025-01-06T16:00:22.268Z"
   },
   {
    "duration": 0,
    "start_time": "2025-01-06T16:00:22.269Z"
   },
   {
    "duration": 0,
    "start_time": "2025-01-06T16:00:22.271Z"
   },
   {
    "duration": 0,
    "start_time": "2025-01-06T16:00:22.273Z"
   },
   {
    "duration": 0,
    "start_time": "2025-01-06T16:00:22.274Z"
   },
   {
    "duration": 0,
    "start_time": "2025-01-06T16:00:22.276Z"
   },
   {
    "duration": 0,
    "start_time": "2025-01-06T16:00:22.277Z"
   },
   {
    "duration": 0,
    "start_time": "2025-01-06T16:00:22.278Z"
   },
   {
    "duration": 0,
    "start_time": "2025-01-06T16:00:22.279Z"
   },
   {
    "duration": 0,
    "start_time": "2025-01-06T16:00:22.280Z"
   },
   {
    "duration": 0,
    "start_time": "2025-01-06T16:00:22.281Z"
   },
   {
    "duration": 0,
    "start_time": "2025-01-06T16:00:22.334Z"
   },
   {
    "duration": 0,
    "start_time": "2025-01-06T16:00:22.335Z"
   },
   {
    "duration": 0,
    "start_time": "2025-01-06T16:00:22.336Z"
   },
   {
    "duration": 0,
    "start_time": "2025-01-06T16:00:22.338Z"
   },
   {
    "duration": 0,
    "start_time": "2025-01-06T16:00:22.339Z"
   },
   {
    "duration": 0,
    "start_time": "2025-01-06T16:00:22.341Z"
   },
   {
    "duration": 0,
    "start_time": "2025-01-06T16:00:22.342Z"
   },
   {
    "duration": 0,
    "start_time": "2025-01-06T16:00:22.344Z"
   },
   {
    "duration": 0,
    "start_time": "2025-01-06T16:00:22.345Z"
   },
   {
    "duration": 0,
    "start_time": "2025-01-06T16:00:22.346Z"
   },
   {
    "duration": 0,
    "start_time": "2025-01-06T16:00:22.347Z"
   },
   {
    "duration": 0,
    "start_time": "2025-01-06T16:00:22.348Z"
   },
   {
    "duration": 0,
    "start_time": "2025-01-06T16:00:22.349Z"
   },
   {
    "duration": 1,
    "start_time": "2025-01-06T16:00:22.350Z"
   },
   {
    "duration": 0,
    "start_time": "2025-01-06T16:00:22.351Z"
   },
   {
    "duration": 0,
    "start_time": "2025-01-06T16:00:22.352Z"
   },
   {
    "duration": 0,
    "start_time": "2025-01-06T16:00:22.353Z"
   },
   {
    "duration": 0,
    "start_time": "2025-01-06T16:00:22.355Z"
   },
   {
    "duration": 0,
    "start_time": "2025-01-06T16:00:22.356Z"
   },
   {
    "duration": 0,
    "start_time": "2025-01-06T16:00:22.358Z"
   },
   {
    "duration": 0,
    "start_time": "2025-01-06T16:00:22.360Z"
   },
   {
    "duration": 0,
    "start_time": "2025-01-06T16:00:22.361Z"
   },
   {
    "duration": 0,
    "start_time": "2025-01-06T16:00:22.362Z"
   },
   {
    "duration": 1,
    "start_time": "2025-01-06T16:00:22.363Z"
   },
   {
    "duration": 0,
    "start_time": "2025-01-06T16:00:22.365Z"
   },
   {
    "duration": 0,
    "start_time": "2025-01-06T16:00:22.366Z"
   },
   {
    "duration": 0,
    "start_time": "2025-01-06T16:00:22.368Z"
   },
   {
    "duration": 0,
    "start_time": "2025-01-06T16:00:22.431Z"
   },
   {
    "duration": 0,
    "start_time": "2025-01-06T16:00:22.435Z"
   },
   {
    "duration": 0,
    "start_time": "2025-01-06T16:00:22.436Z"
   },
   {
    "duration": 0,
    "start_time": "2025-01-06T16:00:22.437Z"
   },
   {
    "duration": 0,
    "start_time": "2025-01-06T16:00:22.438Z"
   },
   {
    "duration": 0,
    "start_time": "2025-01-06T16:00:22.440Z"
   },
   {
    "duration": 0,
    "start_time": "2025-01-06T16:00:22.441Z"
   },
   {
    "duration": 0,
    "start_time": "2025-01-06T16:00:22.442Z"
   },
   {
    "duration": 0,
    "start_time": "2025-01-06T16:00:22.444Z"
   },
   {
    "duration": 0,
    "start_time": "2025-01-06T16:00:22.445Z"
   },
   {
    "duration": 0,
    "start_time": "2025-01-06T16:00:22.446Z"
   },
   {
    "duration": 0,
    "start_time": "2025-01-06T16:00:22.446Z"
   },
   {
    "duration": 0,
    "start_time": "2025-01-06T16:00:22.447Z"
   },
   {
    "duration": 0,
    "start_time": "2025-01-06T16:00:22.449Z"
   },
   {
    "duration": 0,
    "start_time": "2025-01-06T16:00:22.450Z"
   },
   {
    "duration": 0,
    "start_time": "2025-01-06T16:00:22.452Z"
   },
   {
    "duration": 0,
    "start_time": "2025-01-06T16:00:22.452Z"
   },
   {
    "duration": 12,
    "start_time": "2025-01-06T16:01:43.519Z"
   },
   {
    "duration": 40,
    "start_time": "2025-01-06T16:14:07.872Z"
   },
   {
    "duration": 10,
    "start_time": "2025-01-06T16:14:25.717Z"
   },
   {
    "duration": 10,
    "start_time": "2025-01-06T16:26:50.043Z"
   },
   {
    "duration": 113,
    "start_time": "2025-01-06T16:27:01.919Z"
   },
   {
    "duration": 58,
    "start_time": "2025-01-06T16:27:17.511Z"
   },
   {
    "duration": 12,
    "start_time": "2025-01-06T16:27:27.932Z"
   },
   {
    "duration": 7,
    "start_time": "2025-01-06T16:27:38.944Z"
   },
   {
    "duration": 12,
    "start_time": "2025-01-06T16:27:45.761Z"
   },
   {
    "duration": 6,
    "start_time": "2025-01-06T16:27:49.284Z"
   },
   {
    "duration": 6,
    "start_time": "2025-01-06T16:27:56.001Z"
   },
   {
    "duration": 19,
    "start_time": "2025-01-06T16:28:02.924Z"
   },
   {
    "duration": 22,
    "start_time": "2025-01-06T16:28:21.175Z"
   },
   {
    "duration": 24,
    "start_time": "2025-01-06T16:28:30.180Z"
   },
   {
    "duration": 18,
    "start_time": "2025-01-06T16:28:37.236Z"
   },
   {
    "duration": 9,
    "start_time": "2025-01-06T16:28:51.925Z"
   },
   {
    "duration": 5,
    "start_time": "2025-01-06T16:29:00.709Z"
   },
   {
    "duration": 5,
    "start_time": "2025-01-06T16:29:05.463Z"
   },
   {
    "duration": 8,
    "start_time": "2025-01-06T16:29:10.534Z"
   },
   {
    "duration": 6,
    "start_time": "2025-01-06T16:29:18.820Z"
   },
   {
    "duration": 4,
    "start_time": "2025-01-06T16:29:22.617Z"
   },
   {
    "duration": 13,
    "start_time": "2025-01-06T16:29:52.447Z"
   },
   {
    "duration": 154,
    "start_time": "2025-01-06T16:32:25.835Z"
   },
   {
    "duration": 435,
    "start_time": "2025-01-06T16:32:34.396Z"
   },
   {
    "duration": 181,
    "start_time": "2025-01-06T16:32:34.833Z"
   },
   {
    "duration": 46,
    "start_time": "2025-01-06T16:32:35.016Z"
   },
   {
    "duration": 731,
    "start_time": "2025-01-06T16:32:35.065Z"
   },
   {
    "duration": 10,
    "start_time": "2025-01-06T16:32:35.798Z"
   },
   {
    "duration": 10,
    "start_time": "2025-01-06T16:32:35.809Z"
   },
   {
    "duration": 113,
    "start_time": "2025-01-06T16:32:35.820Z"
   },
   {
    "duration": 10,
    "start_time": "2025-01-06T16:32:35.934Z"
   },
   {
    "duration": 7,
    "start_time": "2025-01-06T16:32:35.945Z"
   },
   {
    "duration": 5,
    "start_time": "2025-01-06T16:32:35.955Z"
   },
   {
    "duration": 13,
    "start_time": "2025-01-06T16:32:35.961Z"
   },
   {
    "duration": 10,
    "start_time": "2025-01-06T16:32:35.975Z"
   },
   {
    "duration": 131,
    "start_time": "2025-01-06T16:32:35.987Z"
   },
   {
    "duration": 19,
    "start_time": "2025-01-06T16:32:36.120Z"
   },
   {
    "duration": 38,
    "start_time": "2025-01-06T16:32:36.140Z"
   },
   {
    "duration": 10,
    "start_time": "2025-01-06T16:32:36.181Z"
   },
   {
    "duration": 6,
    "start_time": "2025-01-06T16:32:36.194Z"
   },
   {
    "duration": 33,
    "start_time": "2025-01-06T16:32:36.202Z"
   },
   {
    "duration": 6,
    "start_time": "2025-01-06T16:32:36.237Z"
   },
   {
    "duration": 7,
    "start_time": "2025-01-06T16:32:36.245Z"
   },
   {
    "duration": 19,
    "start_time": "2025-01-06T16:32:36.254Z"
   },
   {
    "duration": 23,
    "start_time": "2025-01-06T16:32:36.275Z"
   },
   {
    "duration": 25,
    "start_time": "2025-01-06T16:32:36.332Z"
   },
   {
    "duration": 21,
    "start_time": "2025-01-06T16:32:36.359Z"
   },
   {
    "duration": 8,
    "start_time": "2025-01-06T16:32:36.381Z"
   },
   {
    "duration": 6,
    "start_time": "2025-01-06T16:32:36.391Z"
   },
   {
    "duration": 34,
    "start_time": "2025-01-06T16:32:36.399Z"
   },
   {
    "duration": 8,
    "start_time": "2025-01-06T16:32:36.439Z"
   },
   {
    "duration": 6,
    "start_time": "2025-01-06T16:32:36.449Z"
   },
   {
    "duration": 4,
    "start_time": "2025-01-06T16:32:36.457Z"
   },
   {
    "duration": 22,
    "start_time": "2025-01-06T16:32:36.462Z"
   },
   {
    "duration": 844,
    "start_time": "2025-01-06T16:32:36.486Z"
   },
   {
    "duration": 306,
    "start_time": "2025-01-06T16:32:37.332Z"
   },
   {
    "duration": 11,
    "start_time": "2025-01-06T16:32:37.640Z"
   },
   {
    "duration": 10,
    "start_time": "2025-01-06T16:32:37.655Z"
   },
   {
    "duration": 13,
    "start_time": "2025-01-06T16:32:37.667Z"
   },
   {
    "duration": 12,
    "start_time": "2025-01-06T16:32:37.683Z"
   },
   {
    "duration": 6,
    "start_time": "2025-01-06T16:32:37.697Z"
   },
   {
    "duration": 15,
    "start_time": "2025-01-06T16:32:37.732Z"
   },
   {
    "duration": 10,
    "start_time": "2025-01-06T16:32:37.748Z"
   },
   {
    "duration": 14,
    "start_time": "2025-01-06T16:32:37.760Z"
   },
   {
    "duration": 11,
    "start_time": "2025-01-06T16:32:37.776Z"
   },
   {
    "duration": 8,
    "start_time": "2025-01-06T16:32:37.788Z"
   },
   {
    "duration": 591,
    "start_time": "2025-01-06T16:32:37.831Z"
   },
   {
    "duration": 0,
    "start_time": "2025-01-06T16:32:38.424Z"
   },
   {
    "duration": 0,
    "start_time": "2025-01-06T16:32:38.425Z"
   },
   {
    "duration": 0,
    "start_time": "2025-01-06T16:32:38.426Z"
   },
   {
    "duration": 0,
    "start_time": "2025-01-06T16:32:38.431Z"
   },
   {
    "duration": 0,
    "start_time": "2025-01-06T16:32:38.432Z"
   },
   {
    "duration": 0,
    "start_time": "2025-01-06T16:32:38.433Z"
   },
   {
    "duration": 0,
    "start_time": "2025-01-06T16:32:38.434Z"
   },
   {
    "duration": 0,
    "start_time": "2025-01-06T16:32:38.435Z"
   },
   {
    "duration": 0,
    "start_time": "2025-01-06T16:32:38.436Z"
   },
   {
    "duration": 0,
    "start_time": "2025-01-06T16:32:38.437Z"
   },
   {
    "duration": 0,
    "start_time": "2025-01-06T16:32:38.437Z"
   },
   {
    "duration": 0,
    "start_time": "2025-01-06T16:32:38.438Z"
   },
   {
    "duration": 0,
    "start_time": "2025-01-06T16:32:38.439Z"
   },
   {
    "duration": 0,
    "start_time": "2025-01-06T16:32:38.440Z"
   },
   {
    "duration": 0,
    "start_time": "2025-01-06T16:32:38.442Z"
   },
   {
    "duration": 0,
    "start_time": "2025-01-06T16:32:38.444Z"
   },
   {
    "duration": 0,
    "start_time": "2025-01-06T16:32:38.445Z"
   },
   {
    "duration": 0,
    "start_time": "2025-01-06T16:32:38.447Z"
   },
   {
    "duration": 0,
    "start_time": "2025-01-06T16:32:38.448Z"
   },
   {
    "duration": 0,
    "start_time": "2025-01-06T16:32:38.451Z"
   },
   {
    "duration": 0,
    "start_time": "2025-01-06T16:32:38.452Z"
   },
   {
    "duration": 0,
    "start_time": "2025-01-06T16:32:38.453Z"
   },
   {
    "duration": 0,
    "start_time": "2025-01-06T16:32:38.455Z"
   },
   {
    "duration": 0,
    "start_time": "2025-01-06T16:32:38.457Z"
   },
   {
    "duration": 0,
    "start_time": "2025-01-06T16:32:38.458Z"
   },
   {
    "duration": 0,
    "start_time": "2025-01-06T16:32:38.460Z"
   },
   {
    "duration": 0,
    "start_time": "2025-01-06T16:32:38.461Z"
   },
   {
    "duration": 0,
    "start_time": "2025-01-06T16:32:38.462Z"
   },
   {
    "duration": 0,
    "start_time": "2025-01-06T16:32:38.464Z"
   },
   {
    "duration": 0,
    "start_time": "2025-01-06T16:32:38.465Z"
   },
   {
    "duration": 0,
    "start_time": "2025-01-06T16:32:38.467Z"
   },
   {
    "duration": 0,
    "start_time": "2025-01-06T16:32:38.468Z"
   },
   {
    "duration": 0,
    "start_time": "2025-01-06T16:32:38.469Z"
   },
   {
    "duration": 0,
    "start_time": "2025-01-06T16:32:38.471Z"
   },
   {
    "duration": 0,
    "start_time": "2025-01-06T16:32:38.531Z"
   },
   {
    "duration": 0,
    "start_time": "2025-01-06T16:32:38.533Z"
   },
   {
    "duration": 0,
    "start_time": "2025-01-06T16:32:38.534Z"
   },
   {
    "duration": 0,
    "start_time": "2025-01-06T16:32:38.536Z"
   },
   {
    "duration": 0,
    "start_time": "2025-01-06T16:32:38.537Z"
   },
   {
    "duration": 14,
    "start_time": "2025-01-06T16:32:58.216Z"
   },
   {
    "duration": 168,
    "start_time": "2025-01-06T16:33:07.597Z"
   },
   {
    "duration": 464,
    "start_time": "2025-01-06T16:33:20.072Z"
   },
   {
    "duration": 178,
    "start_time": "2025-01-06T16:33:20.538Z"
   },
   {
    "duration": 51,
    "start_time": "2025-01-06T16:33:20.718Z"
   },
   {
    "duration": 734,
    "start_time": "2025-01-06T16:33:20.771Z"
   },
   {
    "duration": 9,
    "start_time": "2025-01-06T16:33:21.508Z"
   },
   {
    "duration": 17,
    "start_time": "2025-01-06T16:33:21.519Z"
   },
   {
    "duration": 108,
    "start_time": "2025-01-06T16:33:21.538Z"
   },
   {
    "duration": 9,
    "start_time": "2025-01-06T16:33:21.648Z"
   },
   {
    "duration": 4,
    "start_time": "2025-01-06T16:33:21.659Z"
   },
   {
    "duration": 5,
    "start_time": "2025-01-06T16:33:21.666Z"
   },
   {
    "duration": 13,
    "start_time": "2025-01-06T16:33:21.672Z"
   },
   {
    "duration": 10,
    "start_time": "2025-01-06T16:33:21.686Z"
   },
   {
    "duration": 141,
    "start_time": "2025-01-06T16:33:21.698Z"
   },
   {
    "duration": 10,
    "start_time": "2025-01-06T16:33:21.842Z"
   },
   {
    "duration": 41,
    "start_time": "2025-01-06T16:33:21.854Z"
   },
   {
    "duration": 9,
    "start_time": "2025-01-06T16:33:21.897Z"
   },
   {
    "duration": 29,
    "start_time": "2025-01-06T16:33:21.908Z"
   },
   {
    "duration": 16,
    "start_time": "2025-01-06T16:33:21.938Z"
   },
   {
    "duration": 10,
    "start_time": "2025-01-06T16:33:21.956Z"
   },
   {
    "duration": 7,
    "start_time": "2025-01-06T16:33:21.968Z"
   },
   {
    "duration": 19,
    "start_time": "2025-01-06T16:33:21.977Z"
   },
   {
    "duration": 54,
    "start_time": "2025-01-06T16:33:21.998Z"
   },
   {
    "duration": 22,
    "start_time": "2025-01-06T16:33:22.053Z"
   },
   {
    "duration": 18,
    "start_time": "2025-01-06T16:33:22.077Z"
   },
   {
    "duration": 8,
    "start_time": "2025-01-06T16:33:22.096Z"
   },
   {
    "duration": 32,
    "start_time": "2025-01-06T16:33:22.105Z"
   },
   {
    "duration": 4,
    "start_time": "2025-01-06T16:33:22.139Z"
   },
   {
    "duration": 8,
    "start_time": "2025-01-06T16:33:22.144Z"
   },
   {
    "duration": 6,
    "start_time": "2025-01-06T16:33:22.154Z"
   },
   {
    "duration": 5,
    "start_time": "2025-01-06T16:33:22.161Z"
   },
   {
    "duration": 21,
    "start_time": "2025-01-06T16:33:22.167Z"
   },
   {
    "duration": 808,
    "start_time": "2025-01-06T16:33:22.190Z"
   },
   {
    "duration": 333,
    "start_time": "2025-01-06T16:33:22.999Z"
   },
   {
    "duration": 11,
    "start_time": "2025-01-06T16:33:23.334Z"
   },
   {
    "duration": 6,
    "start_time": "2025-01-06T16:33:23.346Z"
   },
   {
    "duration": 11,
    "start_time": "2025-01-06T16:33:23.353Z"
   },
   {
    "duration": 10,
    "start_time": "2025-01-06T16:33:23.367Z"
   },
   {
    "duration": 6,
    "start_time": "2025-01-06T16:33:23.379Z"
   },
   {
    "duration": 45,
    "start_time": "2025-01-06T16:33:23.387Z"
   },
   {
    "duration": 10,
    "start_time": "2025-01-06T16:33:23.434Z"
   },
   {
    "duration": 13,
    "start_time": "2025-01-06T16:33:23.449Z"
   },
   {
    "duration": 12,
    "start_time": "2025-01-06T16:33:23.464Z"
   },
   {
    "duration": 6,
    "start_time": "2025-01-06T16:33:23.478Z"
   },
   {
    "duration": 590,
    "start_time": "2025-01-06T16:33:23.486Z"
   },
   {
    "duration": 0,
    "start_time": "2025-01-06T16:33:24.077Z"
   },
   {
    "duration": 0,
    "start_time": "2025-01-06T16:33:24.078Z"
   },
   {
    "duration": 0,
    "start_time": "2025-01-06T16:33:24.079Z"
   },
   {
    "duration": 0,
    "start_time": "2025-01-06T16:33:24.080Z"
   },
   {
    "duration": 0,
    "start_time": "2025-01-06T16:33:24.081Z"
   },
   {
    "duration": 0,
    "start_time": "2025-01-06T16:33:24.082Z"
   },
   {
    "duration": 0,
    "start_time": "2025-01-06T16:33:24.083Z"
   },
   {
    "duration": 0,
    "start_time": "2025-01-06T16:33:24.084Z"
   },
   {
    "duration": 0,
    "start_time": "2025-01-06T16:33:24.085Z"
   },
   {
    "duration": 0,
    "start_time": "2025-01-06T16:33:24.086Z"
   },
   {
    "duration": 0,
    "start_time": "2025-01-06T16:33:24.088Z"
   },
   {
    "duration": 0,
    "start_time": "2025-01-06T16:33:24.089Z"
   },
   {
    "duration": 0,
    "start_time": "2025-01-06T16:33:24.090Z"
   },
   {
    "duration": 0,
    "start_time": "2025-01-06T16:33:24.091Z"
   },
   {
    "duration": 0,
    "start_time": "2025-01-06T16:33:24.092Z"
   },
   {
    "duration": 0,
    "start_time": "2025-01-06T16:33:24.093Z"
   },
   {
    "duration": 0,
    "start_time": "2025-01-06T16:33:24.095Z"
   },
   {
    "duration": 0,
    "start_time": "2025-01-06T16:33:24.096Z"
   },
   {
    "duration": 0,
    "start_time": "2025-01-06T16:33:24.097Z"
   },
   {
    "duration": 0,
    "start_time": "2025-01-06T16:33:24.131Z"
   },
   {
    "duration": 0,
    "start_time": "2025-01-06T16:33:24.132Z"
   },
   {
    "duration": 0,
    "start_time": "2025-01-06T16:33:24.133Z"
   },
   {
    "duration": 0,
    "start_time": "2025-01-06T16:33:24.135Z"
   },
   {
    "duration": 0,
    "start_time": "2025-01-06T16:33:24.136Z"
   },
   {
    "duration": 0,
    "start_time": "2025-01-06T16:33:24.137Z"
   },
   {
    "duration": 0,
    "start_time": "2025-01-06T16:33:24.138Z"
   },
   {
    "duration": 0,
    "start_time": "2025-01-06T16:33:24.139Z"
   },
   {
    "duration": 0,
    "start_time": "2025-01-06T16:33:24.140Z"
   },
   {
    "duration": 0,
    "start_time": "2025-01-06T16:33:24.143Z"
   },
   {
    "duration": 0,
    "start_time": "2025-01-06T16:33:24.144Z"
   },
   {
    "duration": 0,
    "start_time": "2025-01-06T16:33:24.145Z"
   },
   {
    "duration": 0,
    "start_time": "2025-01-06T16:33:24.147Z"
   },
   {
    "duration": 0,
    "start_time": "2025-01-06T16:33:24.148Z"
   },
   {
    "duration": 0,
    "start_time": "2025-01-06T16:33:24.149Z"
   },
   {
    "duration": 0,
    "start_time": "2025-01-06T16:33:24.150Z"
   },
   {
    "duration": 0,
    "start_time": "2025-01-06T16:33:24.151Z"
   },
   {
    "duration": 0,
    "start_time": "2025-01-06T16:33:24.152Z"
   },
   {
    "duration": 0,
    "start_time": "2025-01-06T16:33:24.153Z"
   },
   {
    "duration": 0,
    "start_time": "2025-01-06T16:33:24.154Z"
   },
   {
    "duration": 15,
    "start_time": "2025-01-06T16:34:37.407Z"
   },
   {
    "duration": 421,
    "start_time": "2025-01-06T16:34:51.318Z"
   },
   {
    "duration": 175,
    "start_time": "2025-01-06T16:34:51.741Z"
   },
   {
    "duration": 50,
    "start_time": "2025-01-06T16:34:51.918Z"
   },
   {
    "duration": 744,
    "start_time": "2025-01-06T16:34:51.970Z"
   },
   {
    "duration": 15,
    "start_time": "2025-01-06T16:34:52.717Z"
   },
   {
    "duration": 10,
    "start_time": "2025-01-06T16:34:52.734Z"
   },
   {
    "duration": 117,
    "start_time": "2025-01-06T16:34:52.746Z"
   },
   {
    "duration": 9,
    "start_time": "2025-01-06T16:34:52.865Z"
   },
   {
    "duration": 5,
    "start_time": "2025-01-06T16:34:52.876Z"
   },
   {
    "duration": 5,
    "start_time": "2025-01-06T16:34:52.883Z"
   },
   {
    "duration": 12,
    "start_time": "2025-01-06T16:34:52.890Z"
   },
   {
    "duration": 35,
    "start_time": "2025-01-06T16:34:52.904Z"
   },
   {
    "duration": 106,
    "start_time": "2025-01-06T16:34:52.940Z"
   },
   {
    "duration": 10,
    "start_time": "2025-01-06T16:34:53.050Z"
   },
   {
    "duration": 41,
    "start_time": "2025-01-06T16:34:53.061Z"
   },
   {
    "duration": 30,
    "start_time": "2025-01-06T16:34:53.104Z"
   },
   {
    "duration": 7,
    "start_time": "2025-01-06T16:34:53.136Z"
   },
   {
    "duration": 15,
    "start_time": "2025-01-06T16:34:53.144Z"
   },
   {
    "duration": 6,
    "start_time": "2025-01-06T16:34:53.160Z"
   },
   {
    "duration": 6,
    "start_time": "2025-01-06T16:34:53.167Z"
   },
   {
    "duration": 19,
    "start_time": "2025-01-06T16:34:53.174Z"
   },
   {
    "duration": 53,
    "start_time": "2025-01-06T16:34:53.194Z"
   },
   {
    "duration": 24,
    "start_time": "2025-01-06T16:34:53.249Z"
   },
   {
    "duration": 19,
    "start_time": "2025-01-06T16:34:53.275Z"
   },
   {
    "duration": 8,
    "start_time": "2025-01-06T16:34:53.297Z"
   },
   {
    "duration": 32,
    "start_time": "2025-01-06T16:34:53.306Z"
   },
   {
    "duration": 5,
    "start_time": "2025-01-06T16:34:53.340Z"
   },
   {
    "duration": 8,
    "start_time": "2025-01-06T16:34:53.347Z"
   },
   {
    "duration": 6,
    "start_time": "2025-01-06T16:34:53.356Z"
   },
   {
    "duration": 6,
    "start_time": "2025-01-06T16:34:53.363Z"
   },
   {
    "duration": 21,
    "start_time": "2025-01-06T16:34:53.371Z"
   },
   {
    "duration": 793,
    "start_time": "2025-01-06T16:34:53.431Z"
   },
   {
    "duration": 351,
    "start_time": "2025-01-06T16:34:54.226Z"
   },
   {
    "duration": 9,
    "start_time": "2025-01-06T16:34:54.578Z"
   },
   {
    "duration": 5,
    "start_time": "2025-01-06T16:34:54.589Z"
   },
   {
    "duration": 11,
    "start_time": "2025-01-06T16:34:54.596Z"
   },
   {
    "duration": 31,
    "start_time": "2025-01-06T16:34:54.609Z"
   },
   {
    "duration": 6,
    "start_time": "2025-01-06T16:34:54.641Z"
   },
   {
    "duration": 12,
    "start_time": "2025-01-06T16:34:54.649Z"
   },
   {
    "duration": 10,
    "start_time": "2025-01-06T16:34:54.663Z"
   },
   {
    "duration": 13,
    "start_time": "2025-01-06T16:34:54.679Z"
   },
   {
    "duration": 47,
    "start_time": "2025-01-06T16:34:54.694Z"
   },
   {
    "duration": 7,
    "start_time": "2025-01-06T16:34:54.743Z"
   },
   {
    "duration": 590,
    "start_time": "2025-01-06T16:34:54.751Z"
   },
   {
    "duration": 0,
    "start_time": "2025-01-06T16:34:55.342Z"
   },
   {
    "duration": 0,
    "start_time": "2025-01-06T16:34:55.343Z"
   },
   {
    "duration": 0,
    "start_time": "2025-01-06T16:34:55.345Z"
   },
   {
    "duration": 0,
    "start_time": "2025-01-06T16:34:55.346Z"
   },
   {
    "duration": 0,
    "start_time": "2025-01-06T16:34:55.348Z"
   },
   {
    "duration": 0,
    "start_time": "2025-01-06T16:34:55.348Z"
   },
   {
    "duration": 0,
    "start_time": "2025-01-06T16:34:55.349Z"
   },
   {
    "duration": 0,
    "start_time": "2025-01-06T16:34:55.350Z"
   },
   {
    "duration": 0,
    "start_time": "2025-01-06T16:34:55.351Z"
   },
   {
    "duration": 0,
    "start_time": "2025-01-06T16:34:55.352Z"
   },
   {
    "duration": 0,
    "start_time": "2025-01-06T16:34:55.353Z"
   },
   {
    "duration": 0,
    "start_time": "2025-01-06T16:34:55.354Z"
   },
   {
    "duration": 0,
    "start_time": "2025-01-06T16:34:55.356Z"
   },
   {
    "duration": 0,
    "start_time": "2025-01-06T16:34:55.357Z"
   },
   {
    "duration": 0,
    "start_time": "2025-01-06T16:34:55.358Z"
   },
   {
    "duration": 0,
    "start_time": "2025-01-06T16:34:55.360Z"
   },
   {
    "duration": 0,
    "start_time": "2025-01-06T16:34:55.360Z"
   },
   {
    "duration": 0,
    "start_time": "2025-01-06T16:34:55.361Z"
   },
   {
    "duration": 0,
    "start_time": "2025-01-06T16:34:55.362Z"
   },
   {
    "duration": 0,
    "start_time": "2025-01-06T16:34:55.363Z"
   },
   {
    "duration": 0,
    "start_time": "2025-01-06T16:34:55.364Z"
   },
   {
    "duration": 0,
    "start_time": "2025-01-06T16:34:55.366Z"
   },
   {
    "duration": 0,
    "start_time": "2025-01-06T16:34:55.368Z"
   },
   {
    "duration": 0,
    "start_time": "2025-01-06T16:34:55.369Z"
   },
   {
    "duration": 0,
    "start_time": "2025-01-06T16:34:55.370Z"
   },
   {
    "duration": 0,
    "start_time": "2025-01-06T16:34:55.371Z"
   },
   {
    "duration": 0,
    "start_time": "2025-01-06T16:34:55.372Z"
   },
   {
    "duration": 0,
    "start_time": "2025-01-06T16:34:55.373Z"
   },
   {
    "duration": 0,
    "start_time": "2025-01-06T16:34:55.374Z"
   },
   {
    "duration": 0,
    "start_time": "2025-01-06T16:34:55.376Z"
   },
   {
    "duration": 0,
    "start_time": "2025-01-06T16:34:55.377Z"
   },
   {
    "duration": 0,
    "start_time": "2025-01-06T16:34:55.378Z"
   },
   {
    "duration": 0,
    "start_time": "2025-01-06T16:34:55.431Z"
   },
   {
    "duration": 0,
    "start_time": "2025-01-06T16:34:55.433Z"
   },
   {
    "duration": 0,
    "start_time": "2025-01-06T16:34:55.434Z"
   },
   {
    "duration": 0,
    "start_time": "2025-01-06T16:34:55.435Z"
   },
   {
    "duration": 0,
    "start_time": "2025-01-06T16:34:55.436Z"
   },
   {
    "duration": 0,
    "start_time": "2025-01-06T16:34:55.437Z"
   },
   {
    "duration": 0,
    "start_time": "2025-01-06T16:34:55.438Z"
   },
   {
    "duration": 13,
    "start_time": "2025-01-06T16:35:07.782Z"
   },
   {
    "duration": 119,
    "start_time": "2025-01-06T16:35:23.127Z"
   },
   {
    "duration": 6,
    "start_time": "2025-01-06T16:35:46.087Z"
   },
   {
    "duration": 7,
    "start_time": "2025-01-06T16:35:59.497Z"
   },
   {
    "duration": 31,
    "start_time": "2025-01-06T16:39:38.033Z"
   },
   {
    "duration": 20,
    "start_time": "2025-01-06T16:39:50.639Z"
   },
   {
    "duration": 31,
    "start_time": "2025-01-06T16:39:56.322Z"
   },
   {
    "duration": 31,
    "start_time": "2025-01-06T16:40:01.308Z"
   },
   {
    "duration": 6,
    "start_time": "2025-01-06T16:40:08.279Z"
   },
   {
    "duration": 25,
    "start_time": "2025-01-06T16:40:12.319Z"
   },
   {
    "duration": 8,
    "start_time": "2025-01-06T16:40:19.586Z"
   },
   {
    "duration": 20,
    "start_time": "2025-01-06T16:40:25.678Z"
   },
   {
    "duration": 46,
    "start_time": "2025-01-06T16:40:31.583Z"
   },
   {
    "duration": 33,
    "start_time": "2025-01-06T16:40:34.807Z"
   },
   {
    "duration": 156,
    "start_time": "2025-01-06T16:40:48.839Z"
   },
   {
    "duration": 13,
    "start_time": "2025-01-06T16:41:02.275Z"
   },
   {
    "duration": 126,
    "start_time": "2025-01-06T16:41:11.315Z"
   },
   {
    "duration": 12,
    "start_time": "2025-01-06T16:41:22.494Z"
   },
   {
    "duration": 192,
    "start_time": "2025-01-06T16:41:26.031Z"
   },
   {
    "duration": 41,
    "start_time": "2025-01-06T16:41:42.810Z"
   },
   {
    "duration": 14,
    "start_time": "2025-01-06T16:41:54.470Z"
   },
   {
    "duration": 150,
    "start_time": "2025-01-06T16:41:58.601Z"
   },
   {
    "duration": 6,
    "start_time": "2025-01-06T16:42:07.339Z"
   },
   {
    "duration": 6,
    "start_time": "2025-01-06T16:42:08.716Z"
   },
   {
    "duration": 40,
    "start_time": "2025-01-06T16:42:09.758Z"
   },
   {
    "duration": 185,
    "start_time": "2025-01-06T16:42:44.025Z"
   },
   {
    "duration": 162,
    "start_time": "2025-01-06T23:39:05.473Z"
   },
   {
    "duration": 2157,
    "start_time": "2025-01-06T23:39:19.666Z"
   },
   {
    "duration": 162,
    "start_time": "2025-01-06T23:39:21.825Z"
   },
   {
    "duration": 60,
    "start_time": "2025-01-06T23:39:21.989Z"
   },
   {
    "duration": 835,
    "start_time": "2025-01-06T23:39:22.051Z"
   },
   {
    "duration": 11,
    "start_time": "2025-01-06T23:39:22.888Z"
   },
   {
    "duration": 16,
    "start_time": "2025-01-06T23:39:22.901Z"
   },
   {
    "duration": 107,
    "start_time": "2025-01-06T23:39:22.919Z"
   },
   {
    "duration": 10,
    "start_time": "2025-01-06T23:39:23.028Z"
   },
   {
    "duration": 6,
    "start_time": "2025-01-06T23:39:23.039Z"
   },
   {
    "duration": 5,
    "start_time": "2025-01-06T23:39:23.048Z"
   },
   {
    "duration": 15,
    "start_time": "2025-01-06T23:39:23.054Z"
   },
   {
    "duration": 38,
    "start_time": "2025-01-06T23:39:23.070Z"
   },
   {
    "duration": 111,
    "start_time": "2025-01-06T23:39:23.110Z"
   },
   {
    "duration": 11,
    "start_time": "2025-01-06T23:39:23.222Z"
   },
   {
    "duration": 44,
    "start_time": "2025-01-06T23:39:23.234Z"
   },
   {
    "duration": 31,
    "start_time": "2025-01-06T23:39:23.280Z"
   },
   {
    "duration": 7,
    "start_time": "2025-01-06T23:39:23.313Z"
   },
   {
    "duration": 18,
    "start_time": "2025-01-06T23:39:23.323Z"
   },
   {
    "duration": 6,
    "start_time": "2025-01-06T23:39:23.343Z"
   },
   {
    "duration": 8,
    "start_time": "2025-01-06T23:39:23.351Z"
   },
   {
    "duration": 51,
    "start_time": "2025-01-06T23:39:23.361Z"
   },
   {
    "duration": 23,
    "start_time": "2025-01-06T23:39:23.413Z"
   },
   {
    "duration": 23,
    "start_time": "2025-01-06T23:39:23.437Z"
   },
   {
    "duration": 19,
    "start_time": "2025-01-06T23:39:23.462Z"
   },
   {
    "duration": 33,
    "start_time": "2025-01-06T23:39:23.482Z"
   },
   {
    "duration": 7,
    "start_time": "2025-01-06T23:39:23.517Z"
   },
   {
    "duration": 4,
    "start_time": "2025-01-06T23:39:23.525Z"
   },
   {
    "duration": 7,
    "start_time": "2025-01-06T23:39:23.536Z"
   },
   {
    "duration": 5,
    "start_time": "2025-01-06T23:39:23.544Z"
   },
   {
    "duration": 5,
    "start_time": "2025-01-06T23:39:23.551Z"
   },
   {
    "duration": 62,
    "start_time": "2025-01-06T23:39:23.557Z"
   },
   {
    "duration": 784,
    "start_time": "2025-01-06T23:39:23.620Z"
   },
   {
    "duration": 375,
    "start_time": "2025-01-06T23:39:24.406Z"
   },
   {
    "duration": 9,
    "start_time": "2025-01-06T23:39:24.783Z"
   },
   {
    "duration": 18,
    "start_time": "2025-01-06T23:39:24.794Z"
   },
   {
    "duration": 10,
    "start_time": "2025-01-06T23:39:24.814Z"
   },
   {
    "duration": 10,
    "start_time": "2025-01-06T23:39:24.826Z"
   },
   {
    "duration": 6,
    "start_time": "2025-01-06T23:39:24.837Z"
   },
   {
    "duration": 11,
    "start_time": "2025-01-06T23:39:24.845Z"
   },
   {
    "duration": 17,
    "start_time": "2025-01-06T23:39:24.858Z"
   },
   {
    "duration": 44,
    "start_time": "2025-01-06T23:39:24.877Z"
   },
   {
    "duration": 11,
    "start_time": "2025-01-06T23:39:24.923Z"
   },
   {
    "duration": 8,
    "start_time": "2025-01-06T23:39:24.935Z"
   },
   {
    "duration": 30,
    "start_time": "2025-01-06T23:39:24.945Z"
   },
   {
    "duration": 49,
    "start_time": "2025-01-06T23:39:24.977Z"
   },
   {
    "duration": 29,
    "start_time": "2025-01-06T23:39:25.027Z"
   },
   {
    "duration": 29,
    "start_time": "2025-01-06T23:39:25.057Z"
   },
   {
    "duration": 27,
    "start_time": "2025-01-06T23:39:25.087Z"
   },
   {
    "duration": 24,
    "start_time": "2025-01-06T23:39:25.115Z"
   },
   {
    "duration": 7,
    "start_time": "2025-01-06T23:39:25.141Z"
   },
   {
    "duration": 21,
    "start_time": "2025-01-06T23:39:25.150Z"
   },
   {
    "duration": 64,
    "start_time": "2025-01-06T23:39:25.173Z"
   },
   {
    "duration": 36,
    "start_time": "2025-01-06T23:39:25.239Z"
   },
   {
    "duration": 7,
    "start_time": "2025-01-06T23:39:25.276Z"
   },
   {
    "duration": 26,
    "start_time": "2025-01-06T23:39:25.284Z"
   },
   {
    "duration": 12,
    "start_time": "2025-01-06T23:39:25.312Z"
   },
   {
    "duration": 206,
    "start_time": "2025-01-06T23:39:25.326Z"
   },
   {
    "duration": 15,
    "start_time": "2025-01-06T23:39:25.534Z"
   },
   {
    "duration": 133,
    "start_time": "2025-01-06T23:39:25.551Z"
   },
   {
    "duration": 13,
    "start_time": "2025-01-06T23:39:25.686Z"
   },
   {
    "duration": 173,
    "start_time": "2025-01-06T23:39:25.708Z"
   },
   {
    "duration": 6,
    "start_time": "2025-01-06T23:39:25.883Z"
   },
   {
    "duration": 6,
    "start_time": "2025-01-06T23:39:25.891Z"
   },
   {
    "duration": 172,
    "start_time": "2025-01-06T23:39:25.899Z"
   },
   {
    "duration": 5,
    "start_time": "2025-01-06T23:39:26.072Z"
   },
   {
    "duration": 152,
    "start_time": "2025-01-06T23:39:26.079Z"
   },
   {
    "duration": 185,
    "start_time": "2025-01-06T23:39:26.233Z"
   },
   {
    "duration": 16,
    "start_time": "2025-01-06T23:39:26.419Z"
   },
   {
    "duration": 376,
    "start_time": "2025-01-06T23:39:26.437Z"
   },
   {
    "duration": 159,
    "start_time": "2025-01-06T23:39:26.815Z"
   },
   {
    "duration": 44,
    "start_time": "2025-01-06T23:39:26.976Z"
   },
   {
    "duration": 153,
    "start_time": "2025-01-06T23:39:27.022Z"
   },
   {
    "duration": 23,
    "start_time": "2025-01-06T23:39:27.177Z"
   },
   {
    "duration": 135,
    "start_time": "2025-01-06T23:39:27.209Z"
   },
   {
    "duration": 87,
    "start_time": "2025-01-06T23:39:27.346Z"
   },
   {
    "duration": 44,
    "start_time": "2025-01-06T23:39:27.435Z"
   },
   {
    "duration": 920,
    "start_time": "2025-01-06T23:39:27.481Z"
   },
   {
    "duration": 945,
    "start_time": "2025-01-06T23:39:28.403Z"
   },
   {
    "duration": 231,
    "start_time": "2025-01-06T23:39:29.350Z"
   },
   {
    "duration": 38,
    "start_time": "2025-01-06T23:39:29.583Z"
   },
   {
    "duration": 5,
    "start_time": "2025-01-06T23:39:29.623Z"
   },
   {
    "duration": 0,
    "start_time": "2025-01-06T23:39:29.630Z"
   },
   {
    "duration": 0,
    "start_time": "2025-01-06T23:39:29.631Z"
   },
   {
    "duration": 831,
    "start_time": "2025-01-06T23:50:59.344Z"
   },
   {
    "duration": 11,
    "start_time": "2025-01-06T23:51:14.590Z"
   },
   {
    "duration": 464,
    "start_time": "2025-01-06T23:52:12.241Z"
   },
   {
    "duration": 904,
    "start_time": "2025-01-06T23:52:12.710Z"
   },
   {
    "duration": 13,
    "start_time": "2025-01-06T23:52:13.616Z"
   },
   {
    "duration": 10,
    "start_time": "2025-01-06T23:52:13.631Z"
   },
   {
    "duration": 23,
    "start_time": "2025-01-06T23:52:13.642Z"
   },
   {
    "duration": 8,
    "start_time": "2025-01-06T23:52:13.667Z"
   },
   {
    "duration": 34,
    "start_time": "2025-01-06T23:52:13.676Z"
   },
   {
    "duration": 104,
    "start_time": "2025-01-06T23:52:13.712Z"
   },
   {
    "duration": 8,
    "start_time": "2025-01-06T23:52:13.818Z"
   },
   {
    "duration": 6,
    "start_time": "2025-01-06T23:52:13.830Z"
   },
   {
    "duration": 5,
    "start_time": "2025-01-06T23:52:13.837Z"
   },
   {
    "duration": 11,
    "start_time": "2025-01-06T23:52:13.844Z"
   },
   {
    "duration": 9,
    "start_time": "2025-01-06T23:52:13.857Z"
   },
   {
    "duration": 129,
    "start_time": "2025-01-06T23:52:13.873Z"
   },
   {
    "duration": 12,
    "start_time": "2025-01-06T23:52:14.004Z"
   },
   {
    "duration": 41,
    "start_time": "2025-01-06T23:52:14.018Z"
   },
   {
    "duration": 11,
    "start_time": "2025-01-06T23:52:14.060Z"
   },
   {
    "duration": 9,
    "start_time": "2025-01-06T23:52:14.073Z"
   },
   {
    "duration": 18,
    "start_time": "2025-01-06T23:52:14.109Z"
   },
   {
    "duration": 6,
    "start_time": "2025-01-06T23:52:14.129Z"
   },
   {
    "duration": 7,
    "start_time": "2025-01-06T23:52:14.136Z"
   },
   {
    "duration": 19,
    "start_time": "2025-01-06T23:52:14.144Z"
   },
   {
    "duration": 46,
    "start_time": "2025-01-06T23:52:14.165Z"
   },
   {
    "duration": 22,
    "start_time": "2025-01-06T23:52:14.214Z"
   },
   {
    "duration": 19,
    "start_time": "2025-01-06T23:52:14.238Z"
   },
   {
    "duration": 8,
    "start_time": "2025-01-06T23:52:14.258Z"
   },
   {
    "duration": 5,
    "start_time": "2025-01-06T23:52:14.268Z"
   },
   {
    "duration": 5,
    "start_time": "2025-01-06T23:52:14.312Z"
   },
   {
    "duration": 11,
    "start_time": "2025-01-06T23:52:14.319Z"
   },
   {
    "duration": 6,
    "start_time": "2025-01-06T23:52:14.332Z"
   },
   {
    "duration": 4,
    "start_time": "2025-01-06T23:52:14.341Z"
   },
   {
    "duration": 28,
    "start_time": "2025-01-06T23:52:14.347Z"
   },
   {
    "duration": 799,
    "start_time": "2025-01-06T23:52:14.377Z"
   },
   {
    "duration": 342,
    "start_time": "2025-01-06T23:52:15.178Z"
   },
   {
    "duration": 10,
    "start_time": "2025-01-06T23:52:15.522Z"
   },
   {
    "duration": 6,
    "start_time": "2025-01-06T23:52:15.533Z"
   },
   {
    "duration": 10,
    "start_time": "2025-01-06T23:52:15.541Z"
   },
   {
    "duration": 11,
    "start_time": "2025-01-06T23:52:15.552Z"
   },
   {
    "duration": 8,
    "start_time": "2025-01-06T23:52:15.564Z"
   },
   {
    "duration": 45,
    "start_time": "2025-01-06T23:52:15.574Z"
   },
   {
    "duration": 10,
    "start_time": "2025-01-06T23:52:15.621Z"
   },
   {
    "duration": 14,
    "start_time": "2025-01-06T23:52:15.633Z"
   },
   {
    "duration": 11,
    "start_time": "2025-01-06T23:52:15.648Z"
   },
   {
    "duration": 7,
    "start_time": "2025-01-06T23:52:15.661Z"
   },
   {
    "duration": 60,
    "start_time": "2025-01-06T23:52:15.669Z"
   },
   {
    "duration": 20,
    "start_time": "2025-01-06T23:52:15.731Z"
   },
   {
    "duration": 24,
    "start_time": "2025-01-06T23:52:15.753Z"
   },
   {
    "duration": 45,
    "start_time": "2025-01-06T23:52:15.778Z"
   },
   {
    "duration": 6,
    "start_time": "2025-01-06T23:52:15.825Z"
   },
   {
    "duration": 24,
    "start_time": "2025-01-06T23:52:15.833Z"
   },
   {
    "duration": 8,
    "start_time": "2025-01-06T23:52:15.859Z"
   },
   {
    "duration": 45,
    "start_time": "2025-01-06T23:52:15.868Z"
   },
   {
    "duration": 33,
    "start_time": "2025-01-06T23:52:15.915Z"
   },
   {
    "duration": 31,
    "start_time": "2025-01-06T23:52:15.950Z"
   },
   {
    "duration": 6,
    "start_time": "2025-01-06T23:52:15.983Z"
   },
   {
    "duration": 6,
    "start_time": "2025-01-06T23:52:16.009Z"
   },
   {
    "duration": 12,
    "start_time": "2025-01-06T23:52:16.017Z"
   },
   {
    "duration": 143,
    "start_time": "2025-01-06T23:52:16.030Z"
   },
   {
    "duration": 13,
    "start_time": "2025-01-06T23:52:16.174Z"
   },
   {
    "duration": 136,
    "start_time": "2025-01-06T23:52:16.188Z"
   },
   {
    "duration": 13,
    "start_time": "2025-01-06T23:52:16.326Z"
   },
   {
    "duration": 204,
    "start_time": "2025-01-06T23:52:16.341Z"
   },
   {
    "duration": 6,
    "start_time": "2025-01-06T23:52:16.548Z"
   },
   {
    "duration": 7,
    "start_time": "2025-01-06T23:52:16.555Z"
   },
   {
    "duration": 172,
    "start_time": "2025-01-06T23:52:16.563Z"
   },
   {
    "duration": 3,
    "start_time": "2025-01-06T23:52:16.737Z"
   },
   {
    "duration": 152,
    "start_time": "2025-01-06T23:52:16.742Z"
   },
   {
    "duration": 173,
    "start_time": "2025-01-06T23:52:16.896Z"
   },
   {
    "duration": 14,
    "start_time": "2025-01-06T23:52:17.071Z"
   },
   {
    "duration": 409,
    "start_time": "2025-01-06T23:52:17.087Z"
   },
   {
    "duration": 167,
    "start_time": "2025-01-06T23:52:17.498Z"
   },
   {
    "duration": 47,
    "start_time": "2025-01-06T23:52:17.667Z"
   },
   {
    "duration": 136,
    "start_time": "2025-01-06T23:52:17.716Z"
   },
   {
    "duration": 14,
    "start_time": "2025-01-06T23:52:17.854Z"
   },
   {
    "duration": 136,
    "start_time": "2025-01-06T23:52:17.870Z"
   },
   {
    "duration": 68,
    "start_time": "2025-01-06T23:52:18.008Z"
   },
   {
    "duration": 55,
    "start_time": "2025-01-06T23:52:18.078Z"
   },
   {
    "duration": 858,
    "start_time": "2025-01-06T23:52:18.135Z"
   },
   {
    "duration": 891,
    "start_time": "2025-01-06T23:52:18.995Z"
   },
   {
    "duration": 230,
    "start_time": "2025-01-06T23:52:19.888Z"
   },
   {
    "duration": 34,
    "start_time": "2025-01-06T23:52:20.120Z"
   },
   {
    "duration": 4,
    "start_time": "2025-01-06T23:52:20.160Z"
   },
   {
    "duration": 0,
    "start_time": "2025-01-06T23:52:20.166Z"
   },
   {
    "duration": 0,
    "start_time": "2025-01-06T23:52:20.167Z"
   },
   {
    "duration": 829,
    "start_time": "2025-01-06T23:54:38.801Z"
   },
   {
    "duration": 2142,
    "start_time": "2025-01-07T11:40:06.618Z"
   },
   {
    "duration": 1068,
    "start_time": "2025-01-07T11:40:08.763Z"
   },
   {
    "duration": 12,
    "start_time": "2025-01-07T11:40:09.833Z"
   },
   {
    "duration": 8,
    "start_time": "2025-01-07T11:40:09.848Z"
   },
   {
    "duration": 23,
    "start_time": "2025-01-07T11:40:09.858Z"
   },
   {
    "duration": 8,
    "start_time": "2025-01-07T11:40:09.883Z"
   },
   {
    "duration": 8,
    "start_time": "2025-01-07T11:40:09.892Z"
   },
   {
    "duration": 118,
    "start_time": "2025-01-07T11:40:09.901Z"
   },
   {
    "duration": 10,
    "start_time": "2025-01-07T11:40:10.031Z"
   },
   {
    "duration": 6,
    "start_time": "2025-01-07T11:40:10.044Z"
   },
   {
    "duration": 5,
    "start_time": "2025-01-07T11:40:10.052Z"
   },
   {
    "duration": 69,
    "start_time": "2025-01-07T11:40:10.059Z"
   },
   {
    "duration": 10,
    "start_time": "2025-01-07T11:40:10.130Z"
   },
   {
    "duration": 101,
    "start_time": "2025-01-07T11:40:10.142Z"
   },
   {
    "duration": 10,
    "start_time": "2025-01-07T11:40:10.244Z"
   },
   {
    "duration": 44,
    "start_time": "2025-01-07T11:40:10.257Z"
   },
   {
    "duration": 29,
    "start_time": "2025-01-07T11:40:10.303Z"
   },
   {
    "duration": 6,
    "start_time": "2025-01-07T11:40:10.334Z"
   },
   {
    "duration": 13,
    "start_time": "2025-01-07T11:40:10.342Z"
   },
   {
    "duration": 6,
    "start_time": "2025-01-07T11:40:10.356Z"
   },
   {
    "duration": 7,
    "start_time": "2025-01-07T11:40:10.363Z"
   },
   {
    "duration": 20,
    "start_time": "2025-01-07T11:40:10.371Z"
   },
   {
    "duration": 54,
    "start_time": "2025-01-07T11:40:10.392Z"
   },
   {
    "duration": 23,
    "start_time": "2025-01-07T11:40:10.448Z"
   },
   {
    "duration": 19,
    "start_time": "2025-01-07T11:40:10.474Z"
   },
   {
    "duration": 7,
    "start_time": "2025-01-07T11:40:10.495Z"
   },
   {
    "duration": 33,
    "start_time": "2025-01-07T11:40:10.504Z"
   },
   {
    "duration": 3,
    "start_time": "2025-01-07T11:40:10.542Z"
   },
   {
    "duration": 7,
    "start_time": "2025-01-07T11:40:10.547Z"
   },
   {
    "duration": 6,
    "start_time": "2025-01-07T11:40:10.557Z"
   },
   {
    "duration": 4,
    "start_time": "2025-01-07T11:40:10.564Z"
   },
   {
    "duration": 22,
    "start_time": "2025-01-07T11:40:10.570Z"
   },
   {
    "duration": 761,
    "start_time": "2025-01-07T11:40:10.595Z"
   },
   {
    "duration": 357,
    "start_time": "2025-01-07T11:40:11.358Z"
   },
   {
    "duration": 18,
    "start_time": "2025-01-07T11:40:11.717Z"
   },
   {
    "duration": 5,
    "start_time": "2025-01-07T11:40:11.737Z"
   },
   {
    "duration": 11,
    "start_time": "2025-01-07T11:40:11.745Z"
   },
   {
    "duration": 12,
    "start_time": "2025-01-07T11:40:11.758Z"
   },
   {
    "duration": 6,
    "start_time": "2025-01-07T11:40:11.772Z"
   },
   {
    "duration": 13,
    "start_time": "2025-01-07T11:40:11.780Z"
   },
   {
    "duration": 43,
    "start_time": "2025-01-07T11:40:11.795Z"
   },
   {
    "duration": 13,
    "start_time": "2025-01-07T11:40:11.839Z"
   },
   {
    "duration": 11,
    "start_time": "2025-01-07T11:40:11.854Z"
   },
   {
    "duration": 6,
    "start_time": "2025-01-07T11:40:11.866Z"
   },
   {
    "duration": 62,
    "start_time": "2025-01-07T11:40:11.873Z"
   },
   {
    "duration": 23,
    "start_time": "2025-01-07T11:40:11.937Z"
   },
   {
    "duration": 25,
    "start_time": "2025-01-07T11:40:11.963Z"
   },
   {
    "duration": 50,
    "start_time": "2025-01-07T11:40:11.991Z"
   },
   {
    "duration": 6,
    "start_time": "2025-01-07T11:40:12.043Z"
   },
   {
    "duration": 26,
    "start_time": "2025-01-07T11:40:12.051Z"
   },
   {
    "duration": 8,
    "start_time": "2025-01-07T11:40:12.079Z"
   },
   {
    "duration": 45,
    "start_time": "2025-01-07T11:40:12.089Z"
   },
   {
    "duration": 46,
    "start_time": "2025-01-07T11:40:12.137Z"
   },
   {
    "duration": 52,
    "start_time": "2025-01-07T11:40:12.186Z"
   },
   {
    "duration": 6,
    "start_time": "2025-01-07T11:40:12.240Z"
   },
   {
    "duration": 6,
    "start_time": "2025-01-07T11:40:12.248Z"
   },
   {
    "duration": 12,
    "start_time": "2025-01-07T11:40:12.255Z"
   },
   {
    "duration": 149,
    "start_time": "2025-01-07T11:40:12.268Z"
   },
   {
    "duration": 21,
    "start_time": "2025-01-07T11:40:12.419Z"
   },
   {
    "duration": 154,
    "start_time": "2025-01-07T11:40:12.442Z"
   },
   {
    "duration": 12,
    "start_time": "2025-01-07T11:40:12.598Z"
   },
   {
    "duration": 173,
    "start_time": "2025-01-07T11:40:12.611Z"
   },
   {
    "duration": 6,
    "start_time": "2025-01-07T11:40:12.785Z"
   },
   {
    "duration": 6,
    "start_time": "2025-01-07T11:40:12.792Z"
   },
   {
    "duration": 175,
    "start_time": "2025-01-07T11:40:12.800Z"
   },
   {
    "duration": 3,
    "start_time": "2025-01-07T11:40:12.977Z"
   },
   {
    "duration": 156,
    "start_time": "2025-01-07T11:40:12.982Z"
   },
   {
    "duration": 177,
    "start_time": "2025-01-07T11:40:13.140Z"
   },
   {
    "duration": 21,
    "start_time": "2025-01-07T11:40:13.319Z"
   },
   {
    "duration": 317,
    "start_time": "2025-01-07T11:40:13.341Z"
   },
   {
    "duration": 158,
    "start_time": "2025-01-07T11:40:13.660Z"
   },
   {
    "duration": 42,
    "start_time": "2025-01-07T11:40:13.820Z"
   },
   {
    "duration": 140,
    "start_time": "2025-01-07T11:40:13.864Z"
   },
   {
    "duration": 13,
    "start_time": "2025-01-07T11:40:14.006Z"
   },
   {
    "duration": 126,
    "start_time": "2025-01-07T11:40:14.032Z"
   },
   {
    "duration": 75,
    "start_time": "2025-01-07T11:40:14.159Z"
   },
   {
    "duration": 44,
    "start_time": "2025-01-07T11:40:14.236Z"
   },
   {
    "duration": 201,
    "start_time": "2025-01-07T11:40:14.282Z"
   },
   {
    "duration": 0,
    "start_time": "2025-01-07T11:40:14.485Z"
   },
   {
    "duration": 0,
    "start_time": "2025-01-07T11:40:14.486Z"
   },
   {
    "duration": 0,
    "start_time": "2025-01-07T11:40:14.487Z"
   },
   {
    "duration": 0,
    "start_time": "2025-01-07T11:40:14.488Z"
   },
   {
    "duration": 0,
    "start_time": "2025-01-07T11:40:14.489Z"
   },
   {
    "duration": 0,
    "start_time": "2025-01-07T11:40:14.490Z"
   },
   {
    "duration": 161,
    "start_time": "2025-01-07T22:56:01.939Z"
   },
   {
    "duration": 12,
    "start_time": "2025-01-07T22:57:32.294Z"
   },
   {
    "duration": 13,
    "start_time": "2025-01-07T22:59:41.750Z"
   },
   {
    "duration": 15,
    "start_time": "2025-01-07T23:00:46.140Z"
   },
   {
    "duration": 2215,
    "start_time": "2025-01-07T23:01:02.474Z"
   },
   {
    "duration": 1045,
    "start_time": "2025-01-07T23:01:04.691Z"
   },
   {
    "duration": 12,
    "start_time": "2025-01-07T23:01:05.737Z"
   },
   {
    "duration": 9,
    "start_time": "2025-01-07T23:01:05.750Z"
   },
   {
    "duration": 22,
    "start_time": "2025-01-07T23:01:05.770Z"
   },
   {
    "duration": 8,
    "start_time": "2025-01-07T23:01:05.794Z"
   },
   {
    "duration": 7,
    "start_time": "2025-01-07T23:01:05.804Z"
   },
   {
    "duration": 110,
    "start_time": "2025-01-07T23:01:05.813Z"
   },
   {
    "duration": 9,
    "start_time": "2025-01-07T23:01:05.925Z"
   },
   {
    "duration": 9,
    "start_time": "2025-01-07T23:01:05.936Z"
   },
   {
    "duration": 4,
    "start_time": "2025-01-07T23:01:05.947Z"
   },
   {
    "duration": 13,
    "start_time": "2025-01-07T23:01:05.969Z"
   },
   {
    "duration": 9,
    "start_time": "2025-01-07T23:01:05.983Z"
   },
   {
    "duration": 113,
    "start_time": "2025-01-07T23:01:05.995Z"
   },
   {
    "duration": 9,
    "start_time": "2025-01-07T23:01:06.110Z"
   },
   {
    "duration": 53,
    "start_time": "2025-01-07T23:01:06.121Z"
   },
   {
    "duration": 9,
    "start_time": "2025-01-07T23:01:06.176Z"
   },
   {
    "duration": 7,
    "start_time": "2025-01-07T23:01:06.187Z"
   },
   {
    "duration": 14,
    "start_time": "2025-01-07T23:01:06.195Z"
   },
   {
    "duration": 6,
    "start_time": "2025-01-07T23:01:06.210Z"
   },
   {
    "duration": 5,
    "start_time": "2025-01-07T23:01:06.218Z"
   },
   {
    "duration": 53,
    "start_time": "2025-01-07T23:01:06.224Z"
   },
   {
    "duration": 21,
    "start_time": "2025-01-07T23:01:06.279Z"
   },
   {
    "duration": 24,
    "start_time": "2025-01-07T23:01:06.301Z"
   },
   {
    "duration": 43,
    "start_time": "2025-01-07T23:01:06.328Z"
   },
   {
    "duration": 8,
    "start_time": "2025-01-07T23:01:06.372Z"
   },
   {
    "duration": 7,
    "start_time": "2025-01-07T23:01:06.382Z"
   },
   {
    "duration": 5,
    "start_time": "2025-01-07T23:01:06.390Z"
   },
   {
    "duration": 9,
    "start_time": "2025-01-07T23:01:06.396Z"
   },
   {
    "duration": 6,
    "start_time": "2025-01-07T23:01:06.407Z"
   },
   {
    "duration": 5,
    "start_time": "2025-01-07T23:01:06.415Z"
   },
   {
    "duration": 54,
    "start_time": "2025-01-07T23:01:06.423Z"
   },
   {
    "duration": 782,
    "start_time": "2025-01-07T23:01:06.479Z"
   },
   {
    "duration": 313,
    "start_time": "2025-01-07T23:01:07.263Z"
   },
   {
    "duration": 8,
    "start_time": "2025-01-07T23:01:07.578Z"
   },
   {
    "duration": 5,
    "start_time": "2025-01-07T23:01:07.588Z"
   },
   {
    "duration": 10,
    "start_time": "2025-01-07T23:01:07.595Z"
   },
   {
    "duration": 11,
    "start_time": "2025-01-07T23:01:07.607Z"
   },
   {
    "duration": 6,
    "start_time": "2025-01-07T23:01:07.619Z"
   },
   {
    "duration": 51,
    "start_time": "2025-01-07T23:01:07.627Z"
   },
   {
    "duration": 9,
    "start_time": "2025-01-07T23:01:07.685Z"
   },
   {
    "duration": 13,
    "start_time": "2025-01-07T23:01:07.696Z"
   },
   {
    "duration": 12,
    "start_time": "2025-01-07T23:01:07.711Z"
   },
   {
    "duration": 7,
    "start_time": "2025-01-07T23:01:07.724Z"
   },
   {
    "duration": 61,
    "start_time": "2025-01-07T23:01:07.733Z"
   },
   {
    "duration": 20,
    "start_time": "2025-01-07T23:01:07.795Z"
   },
   {
    "duration": 23,
    "start_time": "2025-01-07T23:01:07.817Z"
   },
   {
    "duration": 44,
    "start_time": "2025-01-07T23:01:07.842Z"
   },
   {
    "duration": 6,
    "start_time": "2025-01-07T23:01:07.888Z"
   },
   {
    "duration": 24,
    "start_time": "2025-01-07T23:01:07.896Z"
   },
   {
    "duration": 8,
    "start_time": "2025-01-07T23:01:07.921Z"
   },
   {
    "duration": 49,
    "start_time": "2025-01-07T23:01:07.931Z"
   },
   {
    "duration": 36,
    "start_time": "2025-01-07T23:01:07.982Z"
   },
   {
    "duration": 31,
    "start_time": "2025-01-07T23:01:08.019Z"
   },
   {
    "duration": 22,
    "start_time": "2025-01-07T23:01:08.052Z"
   },
   {
    "duration": 6,
    "start_time": "2025-01-07T23:01:08.076Z"
   },
   {
    "duration": 12,
    "start_time": "2025-01-07T23:01:08.083Z"
   },
   {
    "duration": 148,
    "start_time": "2025-01-07T23:01:08.097Z"
   },
   {
    "duration": 24,
    "start_time": "2025-01-07T23:01:08.247Z"
   },
   {
    "duration": 138,
    "start_time": "2025-01-07T23:01:08.272Z"
   },
   {
    "duration": 12,
    "start_time": "2025-01-07T23:01:08.412Z"
   },
   {
    "duration": 196,
    "start_time": "2025-01-07T23:01:08.426Z"
   },
   {
    "duration": 7,
    "start_time": "2025-01-07T23:01:08.625Z"
   },
   {
    "duration": 6,
    "start_time": "2025-01-07T23:01:08.634Z"
   },
   {
    "duration": 172,
    "start_time": "2025-01-07T23:01:08.642Z"
   },
   {
    "duration": 4,
    "start_time": "2025-01-07T23:01:08.815Z"
   },
   {
    "duration": 187,
    "start_time": "2025-01-07T23:01:08.821Z"
   },
   {
    "duration": 180,
    "start_time": "2025-01-07T23:01:09.010Z"
   },
   {
    "duration": 13,
    "start_time": "2025-01-07T23:01:09.192Z"
   },
   {
    "duration": 327,
    "start_time": "2025-01-07T23:01:09.206Z"
   },
   {
    "duration": 158,
    "start_time": "2025-01-07T23:01:09.534Z"
   },
   {
    "duration": 39,
    "start_time": "2025-01-07T23:01:09.694Z"
   },
   {
    "duration": 148,
    "start_time": "2025-01-07T23:01:09.734Z"
   },
   {
    "duration": 14,
    "start_time": "2025-01-07T23:01:09.884Z"
   },
   {
    "duration": 137,
    "start_time": "2025-01-07T23:01:09.899Z"
   },
   {
    "duration": 73,
    "start_time": "2025-01-07T23:01:10.038Z"
   },
   {
    "duration": 44,
    "start_time": "2025-01-07T23:01:10.114Z"
   },
   {
    "duration": 1704,
    "start_time": "2025-01-07T23:01:10.169Z"
   },
   {
    "duration": 828,
    "start_time": "2025-01-07T23:01:11.875Z"
   },
   {
    "duration": 221,
    "start_time": "2025-01-07T23:01:12.705Z"
   },
   {
    "duration": 43,
    "start_time": "2025-01-07T23:01:12.927Z"
   },
   {
    "duration": 6,
    "start_time": "2025-01-07T23:01:12.971Z"
   },
   {
    "duration": 0,
    "start_time": "2025-01-07T23:01:12.978Z"
   },
   {
    "duration": 0,
    "start_time": "2025-01-07T23:01:12.980Z"
   },
   {
    "duration": 2283,
    "start_time": "2025-01-08T04:31:35.705Z"
   },
   {
    "duration": 1030,
    "start_time": "2025-01-08T04:31:37.990Z"
   },
   {
    "duration": 11,
    "start_time": "2025-01-08T04:31:39.022Z"
   },
   {
    "duration": 9,
    "start_time": "2025-01-08T04:31:39.035Z"
   },
   {
    "duration": 35,
    "start_time": "2025-01-08T04:31:39.046Z"
   },
   {
    "duration": 8,
    "start_time": "2025-01-08T04:31:39.083Z"
   },
   {
    "duration": 24,
    "start_time": "2025-01-08T04:31:39.092Z"
   },
   {
    "duration": 93,
    "start_time": "2025-01-08T04:31:39.118Z"
   },
   {
    "duration": 9,
    "start_time": "2025-01-08T04:31:39.214Z"
   },
   {
    "duration": 6,
    "start_time": "2025-01-08T04:31:39.227Z"
   },
   {
    "duration": 6,
    "start_time": "2025-01-08T04:31:39.234Z"
   },
   {
    "duration": 35,
    "start_time": "2025-01-08T04:31:39.242Z"
   },
   {
    "duration": 10,
    "start_time": "2025-01-08T04:31:39.278Z"
   },
   {
    "duration": 110,
    "start_time": "2025-01-08T04:31:39.289Z"
   },
   {
    "duration": 11,
    "start_time": "2025-01-08T04:31:39.401Z"
   },
   {
    "duration": 40,
    "start_time": "2025-01-08T04:31:39.413Z"
   },
   {
    "duration": 22,
    "start_time": "2025-01-08T04:31:39.455Z"
   },
   {
    "duration": 6,
    "start_time": "2025-01-08T04:31:39.479Z"
   },
   {
    "duration": 13,
    "start_time": "2025-01-08T04:31:39.487Z"
   },
   {
    "duration": 5,
    "start_time": "2025-01-08T04:31:39.502Z"
   },
   {
    "duration": 6,
    "start_time": "2025-01-08T04:31:39.508Z"
   },
   {
    "duration": 19,
    "start_time": "2025-01-08T04:31:39.516Z"
   },
   {
    "duration": 55,
    "start_time": "2025-01-08T04:31:39.536Z"
   },
   {
    "duration": 23,
    "start_time": "2025-01-08T04:31:39.592Z"
   },
   {
    "duration": 19,
    "start_time": "2025-01-08T04:31:39.616Z"
   },
   {
    "duration": 34,
    "start_time": "2025-01-08T04:31:39.636Z"
   },
   {
    "duration": 6,
    "start_time": "2025-01-08T04:31:39.672Z"
   },
   {
    "duration": 4,
    "start_time": "2025-01-08T04:31:39.683Z"
   },
   {
    "duration": 8,
    "start_time": "2025-01-08T04:31:39.689Z"
   },
   {
    "duration": 6,
    "start_time": "2025-01-08T04:31:39.698Z"
   },
   {
    "duration": 4,
    "start_time": "2025-01-08T04:31:39.705Z"
   },
   {
    "duration": 21,
    "start_time": "2025-01-08T04:31:39.711Z"
   },
   {
    "duration": 751,
    "start_time": "2025-01-08T04:31:39.770Z"
   },
   {
    "duration": 313,
    "start_time": "2025-01-08T04:31:40.522Z"
   },
   {
    "duration": 9,
    "start_time": "2025-01-08T04:31:40.837Z"
   },
   {
    "duration": 6,
    "start_time": "2025-01-08T04:31:40.849Z"
   },
   {
    "duration": 11,
    "start_time": "2025-01-08T04:31:40.870Z"
   },
   {
    "duration": 10,
    "start_time": "2025-01-08T04:31:40.882Z"
   },
   {
    "duration": 5,
    "start_time": "2025-01-08T04:31:40.893Z"
   },
   {
    "duration": 11,
    "start_time": "2025-01-08T04:31:40.900Z"
   },
   {
    "duration": 9,
    "start_time": "2025-01-08T04:31:40.912Z"
   },
   {
    "duration": 48,
    "start_time": "2025-01-08T04:31:40.923Z"
   },
   {
    "duration": 11,
    "start_time": "2025-01-08T04:31:40.973Z"
   },
   {
    "duration": 6,
    "start_time": "2025-01-08T04:31:40.986Z"
   },
   {
    "duration": 32,
    "start_time": "2025-01-08T04:31:40.994Z"
   },
   {
    "duration": 45,
    "start_time": "2025-01-08T04:31:41.028Z"
   },
   {
    "duration": 32,
    "start_time": "2025-01-08T04:31:41.074Z"
   },
   {
    "duration": 30,
    "start_time": "2025-01-08T04:31:41.108Z"
   },
   {
    "duration": 5,
    "start_time": "2025-01-08T04:31:41.140Z"
   },
   {
    "duration": 48,
    "start_time": "2025-01-08T04:31:41.147Z"
   },
   {
    "duration": 9,
    "start_time": "2025-01-08T04:31:41.196Z"
   },
   {
    "duration": 19,
    "start_time": "2025-01-08T04:31:41.208Z"
   },
   {
    "duration": 67,
    "start_time": "2025-01-08T04:31:41.229Z"
   },
   {
    "duration": 29,
    "start_time": "2025-01-08T04:31:41.298Z"
   },
   {
    "duration": 6,
    "start_time": "2025-01-08T04:31:41.329Z"
   },
   {
    "duration": 7,
    "start_time": "2025-01-08T04:31:41.336Z"
   },
   {
    "duration": 32,
    "start_time": "2025-01-08T04:31:41.345Z"
   },
   {
    "duration": 136,
    "start_time": "2025-01-08T04:31:41.379Z"
   },
   {
    "duration": 13,
    "start_time": "2025-01-08T04:31:41.517Z"
   },
   {
    "duration": 165,
    "start_time": "2025-01-08T04:31:41.532Z"
   },
   {
    "duration": 13,
    "start_time": "2025-01-08T04:31:41.699Z"
   },
   {
    "duration": 180,
    "start_time": "2025-01-08T04:31:41.714Z"
   },
   {
    "duration": 7,
    "start_time": "2025-01-08T04:31:41.896Z"
   },
   {
    "duration": 6,
    "start_time": "2025-01-08T04:31:41.904Z"
   },
   {
    "duration": 171,
    "start_time": "2025-01-08T04:31:41.912Z"
   },
   {
    "duration": 4,
    "start_time": "2025-01-08T04:31:42.085Z"
   },
   {
    "duration": 156,
    "start_time": "2025-01-08T04:31:42.090Z"
   },
   {
    "duration": 180,
    "start_time": "2025-01-08T04:31:42.248Z"
   },
   {
    "duration": 14,
    "start_time": "2025-01-08T04:31:42.430Z"
   },
   {
    "duration": 312,
    "start_time": "2025-01-08T04:31:42.445Z"
   },
   {
    "duration": 156,
    "start_time": "2025-01-08T04:31:42.759Z"
   },
   {
    "duration": 36,
    "start_time": "2025-01-08T04:31:42.917Z"
   },
   {
    "duration": 141,
    "start_time": "2025-01-08T04:31:42.971Z"
   },
   {
    "duration": 13,
    "start_time": "2025-01-08T04:31:43.113Z"
   },
   {
    "duration": 139,
    "start_time": "2025-01-08T04:31:43.127Z"
   },
   {
    "duration": 70,
    "start_time": "2025-01-08T04:31:43.269Z"
   },
   {
    "duration": 54,
    "start_time": "2025-01-08T04:31:43.341Z"
   },
   {
    "duration": 190,
    "start_time": "2025-01-08T04:31:43.397Z"
   },
   {
    "duration": 0,
    "start_time": "2025-01-08T04:31:43.590Z"
   },
   {
    "duration": 0,
    "start_time": "2025-01-08T04:31:43.591Z"
   },
   {
    "duration": 0,
    "start_time": "2025-01-08T04:31:43.592Z"
   },
   {
    "duration": 0,
    "start_time": "2025-01-08T04:31:43.593Z"
   },
   {
    "duration": 0,
    "start_time": "2025-01-08T04:31:43.595Z"
   },
   {
    "duration": 0,
    "start_time": "2025-01-08T04:31:43.596Z"
   },
   {
    "duration": 180,
    "start_time": "2025-01-08T04:34:01.562Z"
   },
   {
    "duration": 157,
    "start_time": "2025-01-08T05:12:53.787Z"
   },
   {
    "duration": 151,
    "start_time": "2025-01-08T05:13:21.403Z"
   },
   {
    "duration": 160,
    "start_time": "2025-01-08T05:13:53.181Z"
   },
   {
    "duration": 150,
    "start_time": "2025-01-08T05:14:01.547Z"
   },
   {
    "duration": 440,
    "start_time": "2025-01-08T05:15:35.162Z"
   },
   {
    "duration": 912,
    "start_time": "2025-01-08T05:15:35.604Z"
   },
   {
    "duration": 11,
    "start_time": "2025-01-08T05:15:36.518Z"
   },
   {
    "duration": 13,
    "start_time": "2025-01-08T05:15:36.531Z"
   },
   {
    "duration": 45,
    "start_time": "2025-01-08T05:15:36.547Z"
   },
   {
    "duration": 8,
    "start_time": "2025-01-08T05:15:36.594Z"
   },
   {
    "duration": 8,
    "start_time": "2025-01-08T05:15:36.604Z"
   },
   {
    "duration": 117,
    "start_time": "2025-01-08T05:15:36.613Z"
   },
   {
    "duration": 10,
    "start_time": "2025-01-08T05:15:36.731Z"
   },
   {
    "duration": 7,
    "start_time": "2025-01-08T05:15:36.742Z"
   },
   {
    "duration": 24,
    "start_time": "2025-01-08T05:15:36.751Z"
   },
   {
    "duration": 12,
    "start_time": "2025-01-08T05:15:36.777Z"
   },
   {
    "duration": 10,
    "start_time": "2025-01-08T05:15:36.792Z"
   },
   {
    "duration": 115,
    "start_time": "2025-01-08T05:15:36.806Z"
   },
   {
    "duration": 10,
    "start_time": "2025-01-08T05:15:36.923Z"
   },
   {
    "duration": 56,
    "start_time": "2025-01-08T05:15:36.936Z"
   },
   {
    "duration": 9,
    "start_time": "2025-01-08T05:15:36.994Z"
   },
   {
    "duration": 6,
    "start_time": "2025-01-08T05:15:37.006Z"
   },
   {
    "duration": 14,
    "start_time": "2025-01-08T05:15:37.014Z"
   },
   {
    "duration": 5,
    "start_time": "2025-01-08T05:15:37.029Z"
   },
   {
    "duration": 36,
    "start_time": "2025-01-08T05:15:37.036Z"
   },
   {
    "duration": 21,
    "start_time": "2025-01-08T05:15:37.074Z"
   },
   {
    "duration": 21,
    "start_time": "2025-01-08T05:15:37.097Z"
   },
   {
    "duration": 24,
    "start_time": "2025-01-08T05:15:37.120Z"
   },
   {
    "duration": 49,
    "start_time": "2025-01-08T05:15:37.146Z"
   },
   {
    "duration": 9,
    "start_time": "2025-01-08T05:15:37.196Z"
   },
   {
    "duration": 6,
    "start_time": "2025-01-08T05:15:37.206Z"
   },
   {
    "duration": 5,
    "start_time": "2025-01-08T05:15:37.214Z"
   },
   {
    "duration": 8,
    "start_time": "2025-01-08T05:15:37.220Z"
   },
   {
    "duration": 6,
    "start_time": "2025-01-08T05:15:37.230Z"
   },
   {
    "duration": 37,
    "start_time": "2025-01-08T05:15:37.237Z"
   },
   {
    "duration": 21,
    "start_time": "2025-01-08T05:15:37.276Z"
   },
   {
    "duration": 778,
    "start_time": "2025-01-08T05:15:37.299Z"
   },
   {
    "duration": 348,
    "start_time": "2025-01-08T05:15:38.078Z"
   },
   {
    "duration": 180,
    "start_time": "2025-01-08T05:15:38.428Z"
   },
   {
    "duration": 10,
    "start_time": "2025-01-08T05:15:38.610Z"
   },
   {
    "duration": 6,
    "start_time": "2025-01-08T05:15:38.621Z"
   },
   {
    "duration": 10,
    "start_time": "2025-01-08T05:15:38.630Z"
   },
   {
    "duration": 34,
    "start_time": "2025-01-08T05:15:38.642Z"
   },
   {
    "duration": 5,
    "start_time": "2025-01-08T05:15:38.678Z"
   },
   {
    "duration": 12,
    "start_time": "2025-01-08T05:15:38.689Z"
   },
   {
    "duration": 9,
    "start_time": "2025-01-08T05:15:38.703Z"
   },
   {
    "duration": 14,
    "start_time": "2025-01-08T05:15:38.714Z"
   },
   {
    "duration": 41,
    "start_time": "2025-01-08T05:15:38.730Z"
   },
   {
    "duration": 7,
    "start_time": "2025-01-08T05:15:38.773Z"
   },
   {
    "duration": 29,
    "start_time": "2025-01-08T05:15:38.781Z"
   },
   {
    "duration": 20,
    "start_time": "2025-01-08T05:15:38.812Z"
   },
   {
    "duration": 56,
    "start_time": "2025-01-08T05:15:38.834Z"
   },
   {
    "duration": 23,
    "start_time": "2025-01-08T05:15:38.892Z"
   },
   {
    "duration": 6,
    "start_time": "2025-01-08T05:15:38.917Z"
   },
   {
    "duration": 25,
    "start_time": "2025-01-08T05:15:38.924Z"
   },
   {
    "duration": 8,
    "start_time": "2025-01-08T05:15:38.969Z"
   },
   {
    "duration": 20,
    "start_time": "2025-01-08T05:15:38.979Z"
   },
   {
    "duration": 33,
    "start_time": "2025-01-08T05:15:39.000Z"
   },
   {
    "duration": 55,
    "start_time": "2025-01-08T05:15:39.035Z"
   },
   {
    "duration": 7,
    "start_time": "2025-01-08T05:15:39.092Z"
   },
   {
    "duration": 7,
    "start_time": "2025-01-08T05:15:39.100Z"
   },
   {
    "duration": 12,
    "start_time": "2025-01-08T05:15:39.108Z"
   },
   {
    "duration": 154,
    "start_time": "2025-01-08T05:15:39.122Z"
   },
   {
    "duration": 12,
    "start_time": "2025-01-08T05:15:39.279Z"
   },
   {
    "duration": 130,
    "start_time": "2025-01-08T05:15:39.292Z"
   },
   {
    "duration": 12,
    "start_time": "2025-01-08T05:15:39.424Z"
   },
   {
    "duration": 188,
    "start_time": "2025-01-08T05:15:39.438Z"
   },
   {
    "duration": 6,
    "start_time": "2025-01-08T05:15:39.629Z"
   },
   {
    "duration": 8,
    "start_time": "2025-01-08T05:15:39.637Z"
   },
   {
    "duration": 168,
    "start_time": "2025-01-08T05:15:39.648Z"
   },
   {
    "duration": 4,
    "start_time": "2025-01-08T05:15:39.818Z"
   },
   {
    "duration": 148,
    "start_time": "2025-01-08T05:15:39.824Z"
   },
   {
    "duration": 178,
    "start_time": "2025-01-08T05:15:39.974Z"
   },
   {
    "duration": 18,
    "start_time": "2025-01-08T05:15:40.153Z"
   },
   {
    "duration": 317,
    "start_time": "2025-01-08T05:15:40.173Z"
   },
   {
    "duration": 157,
    "start_time": "2025-01-08T05:15:40.493Z"
   },
   {
    "duration": 45,
    "start_time": "2025-01-08T05:15:40.651Z"
   },
   {
    "duration": 141,
    "start_time": "2025-01-08T05:15:40.698Z"
   },
   {
    "duration": 13,
    "start_time": "2025-01-08T05:15:40.841Z"
   },
   {
    "duration": 131,
    "start_time": "2025-01-08T05:15:40.856Z"
   },
   {
    "duration": 68,
    "start_time": "2025-01-08T05:15:40.989Z"
   },
   {
    "duration": 51,
    "start_time": "2025-01-08T05:15:41.059Z"
   },
   {
    "duration": 258,
    "start_time": "2025-01-08T05:15:41.112Z"
   },
   {
    "duration": 0,
    "start_time": "2025-01-08T05:15:41.372Z"
   },
   {
    "duration": 0,
    "start_time": "2025-01-08T05:15:41.373Z"
   },
   {
    "duration": 0,
    "start_time": "2025-01-08T05:15:41.377Z"
   },
   {
    "duration": 0,
    "start_time": "2025-01-08T05:15:41.379Z"
   },
   {
    "duration": 0,
    "start_time": "2025-01-08T05:15:41.380Z"
   },
   {
    "duration": 0,
    "start_time": "2025-01-08T05:15:41.381Z"
   },
   {
    "duration": 157,
    "start_time": "2025-01-08T06:41:21.422Z"
   },
   {
    "duration": 14,
    "start_time": "2025-01-08T06:42:00.899Z"
   },
   {
    "duration": 2139,
    "start_time": "2025-01-08T06:42:10.929Z"
   },
   {
    "duration": 1006,
    "start_time": "2025-01-08T06:42:13.070Z"
   },
   {
    "duration": 11,
    "start_time": "2025-01-08T06:42:14.077Z"
   },
   {
    "duration": 10,
    "start_time": "2025-01-08T06:42:14.091Z"
   },
   {
    "duration": 35,
    "start_time": "2025-01-08T06:42:14.103Z"
   },
   {
    "duration": 7,
    "start_time": "2025-01-08T06:42:14.140Z"
   },
   {
    "duration": 7,
    "start_time": "2025-01-08T06:42:14.149Z"
   },
   {
    "duration": 110,
    "start_time": "2025-01-08T06:42:14.158Z"
   },
   {
    "duration": 10,
    "start_time": "2025-01-08T06:42:14.269Z"
   },
   {
    "duration": 7,
    "start_time": "2025-01-08T06:42:14.281Z"
   },
   {
    "duration": 5,
    "start_time": "2025-01-08T06:42:14.289Z"
   },
   {
    "duration": 36,
    "start_time": "2025-01-08T06:42:14.296Z"
   },
   {
    "duration": 10,
    "start_time": "2025-01-08T06:42:14.333Z"
   },
   {
    "duration": 109,
    "start_time": "2025-01-08T06:42:14.344Z"
   },
   {
    "duration": 10,
    "start_time": "2025-01-08T06:42:14.455Z"
   },
   {
    "duration": 41,
    "start_time": "2025-01-08T06:42:14.466Z"
   },
   {
    "duration": 18,
    "start_time": "2025-01-08T06:42:14.509Z"
   },
   {
    "duration": 6,
    "start_time": "2025-01-08T06:42:14.528Z"
   },
   {
    "duration": 12,
    "start_time": "2025-01-08T06:42:14.536Z"
   },
   {
    "duration": 5,
    "start_time": "2025-01-08T06:42:14.550Z"
   },
   {
    "duration": 5,
    "start_time": "2025-01-08T06:42:14.557Z"
   },
   {
    "duration": 17,
    "start_time": "2025-01-08T06:42:14.564Z"
   },
   {
    "duration": 62,
    "start_time": "2025-01-08T06:42:14.583Z"
   },
   {
    "duration": 26,
    "start_time": "2025-01-08T06:42:14.647Z"
   },
   {
    "duration": 18,
    "start_time": "2025-01-08T06:42:14.674Z"
   },
   {
    "duration": 33,
    "start_time": "2025-01-08T06:42:14.693Z"
   },
   {
    "duration": 6,
    "start_time": "2025-01-08T06:42:14.727Z"
   },
   {
    "duration": 5,
    "start_time": "2025-01-08T06:42:14.738Z"
   },
   {
    "duration": 7,
    "start_time": "2025-01-08T06:42:14.745Z"
   },
   {
    "duration": 6,
    "start_time": "2025-01-08T06:42:14.754Z"
   },
   {
    "duration": 4,
    "start_time": "2025-01-08T06:42:14.762Z"
   },
   {
    "duration": 55,
    "start_time": "2025-01-08T06:42:14.768Z"
   },
   {
    "duration": 743,
    "start_time": "2025-01-08T06:42:14.825Z"
   },
   {
    "duration": 288,
    "start_time": "2025-01-08T06:42:15.569Z"
   },
   {
    "duration": 171,
    "start_time": "2025-01-08T06:42:15.859Z"
   },
   {
    "duration": 10,
    "start_time": "2025-01-08T06:42:16.032Z"
   },
   {
    "duration": 5,
    "start_time": "2025-01-08T06:42:16.043Z"
   },
   {
    "duration": 11,
    "start_time": "2025-01-08T06:42:16.050Z"
   },
   {
    "duration": 10,
    "start_time": "2025-01-08T06:42:16.062Z"
   },
   {
    "duration": 6,
    "start_time": "2025-01-08T06:42:16.073Z"
   },
   {
    "duration": 47,
    "start_time": "2025-01-08T06:42:16.081Z"
   },
   {
    "duration": 9,
    "start_time": "2025-01-08T06:42:16.130Z"
   },
   {
    "duration": 13,
    "start_time": "2025-01-08T06:42:16.140Z"
   },
   {
    "duration": 11,
    "start_time": "2025-01-08T06:42:16.155Z"
   },
   {
    "duration": 8,
    "start_time": "2025-01-08T06:42:16.168Z"
   },
   {
    "duration": 58,
    "start_time": "2025-01-08T06:42:16.178Z"
   },
   {
    "duration": 20,
    "start_time": "2025-01-08T06:42:16.237Z"
   },
   {
    "duration": 24,
    "start_time": "2025-01-08T06:42:16.259Z"
   },
   {
    "duration": 44,
    "start_time": "2025-01-08T06:42:16.285Z"
   },
   {
    "duration": 6,
    "start_time": "2025-01-08T06:42:16.330Z"
   },
   {
    "duration": 24,
    "start_time": "2025-01-08T06:42:16.338Z"
   },
   {
    "duration": 7,
    "start_time": "2025-01-08T06:42:16.364Z"
   },
   {
    "duration": 21,
    "start_time": "2025-01-08T06:42:16.372Z"
   },
   {
    "duration": 62,
    "start_time": "2025-01-08T06:42:16.394Z"
   },
   {
    "duration": 29,
    "start_time": "2025-01-08T06:42:16.458Z"
   },
   {
    "duration": 6,
    "start_time": "2025-01-08T06:42:16.488Z"
   },
   {
    "duration": 28,
    "start_time": "2025-01-08T06:42:16.495Z"
   },
   {
    "duration": 12,
    "start_time": "2025-01-08T06:42:16.525Z"
   },
   {
    "duration": 136,
    "start_time": "2025-01-08T06:42:16.539Z"
   },
   {
    "duration": 12,
    "start_time": "2025-01-08T06:42:16.677Z"
   },
   {
    "duration": 174,
    "start_time": "2025-01-08T06:42:16.691Z"
   },
   {
    "duration": 13,
    "start_time": "2025-01-08T06:42:16.867Z"
   },
   {
    "duration": 187,
    "start_time": "2025-01-08T06:42:16.881Z"
   },
   {
    "duration": 5,
    "start_time": "2025-01-08T06:42:17.070Z"
   },
   {
    "duration": 5,
    "start_time": "2025-01-08T06:42:17.077Z"
   },
   {
    "duration": 168,
    "start_time": "2025-01-08T06:42:17.084Z"
   },
   {
    "duration": 5,
    "start_time": "2025-01-08T06:42:17.254Z"
   },
   {
    "duration": 150,
    "start_time": "2025-01-08T06:42:17.261Z"
   },
   {
    "duration": 187,
    "start_time": "2025-01-08T06:42:17.413Z"
   },
   {
    "duration": 14,
    "start_time": "2025-01-08T06:42:17.602Z"
   },
   {
    "duration": 321,
    "start_time": "2025-01-08T06:42:17.625Z"
   },
   {
    "duration": 158,
    "start_time": "2025-01-08T06:42:17.948Z"
   },
   {
    "duration": 41,
    "start_time": "2025-01-08T06:42:18.108Z"
   },
   {
    "duration": 148,
    "start_time": "2025-01-08T06:42:18.151Z"
   },
   {
    "duration": 13,
    "start_time": "2025-01-08T06:42:18.301Z"
   },
   {
    "duration": 134,
    "start_time": "2025-01-08T06:42:18.324Z"
   },
   {
    "duration": 78,
    "start_time": "2025-01-08T06:42:18.461Z"
   },
   {
    "duration": 43,
    "start_time": "2025-01-08T06:42:18.541Z"
   },
   {
    "duration": 205,
    "start_time": "2025-01-08T06:42:18.585Z"
   },
   {
    "duration": 0,
    "start_time": "2025-01-08T06:42:18.793Z"
   },
   {
    "duration": 0,
    "start_time": "2025-01-08T06:42:18.794Z"
   },
   {
    "duration": 0,
    "start_time": "2025-01-08T06:42:18.796Z"
   },
   {
    "duration": 0,
    "start_time": "2025-01-08T06:42:18.797Z"
   },
   {
    "duration": 0,
    "start_time": "2025-01-08T06:42:18.798Z"
   },
   {
    "duration": 0,
    "start_time": "2025-01-08T06:42:18.800Z"
   },
   {
    "duration": 125,
    "start_time": "2025-01-08T06:43:12.010Z"
   },
   {
    "duration": 14,
    "start_time": "2025-01-08T06:44:00.812Z"
   },
   {
    "duration": 1694,
    "start_time": "2025-01-08T06:48:09.009Z"
   },
   {
    "duration": 1721,
    "start_time": "2025-01-08T06:48:37.532Z"
   },
   {
    "duration": 966,
    "start_time": "2025-01-08T06:48:49.232Z"
   },
   {
    "duration": 968,
    "start_time": "2025-01-08T06:49:53.914Z"
   },
   {
    "duration": 1055,
    "start_time": "2025-01-08T06:55:26.729Z"
   },
   {
    "duration": 426,
    "start_time": "2025-01-08T07:06:42.081Z"
   },
   {
    "duration": 910,
    "start_time": "2025-01-08T07:06:42.509Z"
   },
   {
    "duration": 11,
    "start_time": "2025-01-08T07:06:43.421Z"
   },
   {
    "duration": 9,
    "start_time": "2025-01-08T07:06:43.434Z"
   },
   {
    "duration": 22,
    "start_time": "2025-01-08T07:06:43.446Z"
   },
   {
    "duration": 7,
    "start_time": "2025-01-08T07:06:43.470Z"
   },
   {
    "duration": 7,
    "start_time": "2025-01-08T07:06:43.479Z"
   },
   {
    "duration": 123,
    "start_time": "2025-01-08T07:06:43.488Z"
   },
   {
    "duration": 14,
    "start_time": "2025-01-08T07:06:43.613Z"
   },
   {
    "duration": 7,
    "start_time": "2025-01-08T07:06:43.628Z"
   },
   {
    "duration": 5,
    "start_time": "2025-01-08T07:06:43.636Z"
   },
   {
    "duration": 12,
    "start_time": "2025-01-08T07:06:43.643Z"
   },
   {
    "duration": 10,
    "start_time": "2025-01-08T07:06:43.656Z"
   },
   {
    "duration": 127,
    "start_time": "2025-01-08T07:06:43.669Z"
   },
   {
    "duration": 11,
    "start_time": "2025-01-08T07:06:43.798Z"
   },
   {
    "duration": 49,
    "start_time": "2025-01-08T07:06:43.810Z"
   },
   {
    "duration": 14,
    "start_time": "2025-01-08T07:06:43.862Z"
   },
   {
    "duration": 7,
    "start_time": "2025-01-08T07:06:43.877Z"
   },
   {
    "duration": 12,
    "start_time": "2025-01-08T07:06:43.886Z"
   },
   {
    "duration": 26,
    "start_time": "2025-01-08T07:06:43.900Z"
   },
   {
    "duration": 5,
    "start_time": "2025-01-08T07:06:43.928Z"
   },
   {
    "duration": 17,
    "start_time": "2025-01-08T07:06:43.935Z"
   },
   {
    "duration": 20,
    "start_time": "2025-01-08T07:06:43.954Z"
   },
   {
    "duration": 50,
    "start_time": "2025-01-08T07:06:43.975Z"
   },
   {
    "duration": 18,
    "start_time": "2025-01-08T07:06:44.027Z"
   },
   {
    "duration": 8,
    "start_time": "2025-01-08T07:06:44.046Z"
   },
   {
    "duration": 7,
    "start_time": "2025-01-08T07:06:44.056Z"
   },
   {
    "duration": 6,
    "start_time": "2025-01-08T07:06:44.064Z"
   },
   {
    "duration": 8,
    "start_time": "2025-01-08T07:06:44.071Z"
   },
   {
    "duration": 7,
    "start_time": "2025-01-08T07:06:44.080Z"
   },
   {
    "duration": 37,
    "start_time": "2025-01-08T07:06:44.089Z"
   },
   {
    "duration": 21,
    "start_time": "2025-01-08T07:06:44.128Z"
   },
   {
    "duration": 751,
    "start_time": "2025-01-08T07:06:44.150Z"
   },
   {
    "duration": 271,
    "start_time": "2025-01-08T07:06:44.903Z"
   },
   {
    "duration": 161,
    "start_time": "2025-01-08T07:06:45.176Z"
   },
   {
    "duration": 10,
    "start_time": "2025-01-08T07:06:45.340Z"
   },
   {
    "duration": 5,
    "start_time": "2025-01-08T07:06:45.352Z"
   },
   {
    "duration": 10,
    "start_time": "2025-01-08T07:06:45.359Z"
   },
   {
    "duration": 11,
    "start_time": "2025-01-08T07:06:45.371Z"
   },
   {
    "duration": 6,
    "start_time": "2025-01-08T07:06:45.383Z"
   },
   {
    "duration": 11,
    "start_time": "2025-01-08T07:06:45.424Z"
   },
   {
    "duration": 9,
    "start_time": "2025-01-08T07:06:45.437Z"
   },
   {
    "duration": 13,
    "start_time": "2025-01-08T07:06:45.447Z"
   },
   {
    "duration": 11,
    "start_time": "2025-01-08T07:06:45.461Z"
   },
   {
    "duration": 6,
    "start_time": "2025-01-08T07:06:45.473Z"
   },
   {
    "duration": 67,
    "start_time": "2025-01-08T07:06:45.481Z"
   },
   {
    "duration": 20,
    "start_time": "2025-01-08T07:06:45.549Z"
   },
   {
    "duration": 24,
    "start_time": "2025-01-08T07:06:45.570Z"
   },
   {
    "duration": 43,
    "start_time": "2025-01-08T07:06:45.595Z"
   },
   {
    "duration": 6,
    "start_time": "2025-01-08T07:06:45.640Z"
   },
   {
    "duration": 24,
    "start_time": "2025-01-08T07:06:45.648Z"
   },
   {
    "duration": 7,
    "start_time": "2025-01-08T07:06:45.674Z"
   },
   {
    "duration": 43,
    "start_time": "2025-01-08T07:06:45.683Z"
   },
   {
    "duration": 33,
    "start_time": "2025-01-08T07:06:45.729Z"
   },
   {
    "duration": 29,
    "start_time": "2025-01-08T07:06:45.764Z"
   },
   {
    "duration": 7,
    "start_time": "2025-01-08T07:06:45.794Z"
   },
   {
    "duration": 24,
    "start_time": "2025-01-08T07:06:45.802Z"
   },
   {
    "duration": 13,
    "start_time": "2025-01-08T07:06:45.828Z"
   },
   {
    "duration": 137,
    "start_time": "2025-01-08T07:06:45.843Z"
   },
   {
    "duration": 12,
    "start_time": "2025-01-08T07:06:45.982Z"
   },
   {
    "duration": 136,
    "start_time": "2025-01-08T07:06:45.996Z"
   },
   {
    "duration": 11,
    "start_time": "2025-01-08T07:06:46.134Z"
   },
   {
    "duration": 173,
    "start_time": "2025-01-08T07:06:46.147Z"
   },
   {
    "duration": 6,
    "start_time": "2025-01-08T07:06:46.323Z"
   },
   {
    "duration": 6,
    "start_time": "2025-01-08T07:06:46.331Z"
   },
   {
    "duration": 177,
    "start_time": "2025-01-08T07:06:46.338Z"
   },
   {
    "duration": 7,
    "start_time": "2025-01-08T07:06:46.517Z"
   },
   {
    "duration": 144,
    "start_time": "2025-01-08T07:06:46.526Z"
   },
   {
    "duration": 178,
    "start_time": "2025-01-08T07:06:46.671Z"
   },
   {
    "duration": 14,
    "start_time": "2025-01-08T07:06:46.850Z"
   },
   {
    "duration": 320,
    "start_time": "2025-01-08T07:06:46.865Z"
   },
   {
    "duration": 158,
    "start_time": "2025-01-08T07:06:47.187Z"
   },
   {
    "duration": 34,
    "start_time": "2025-01-08T07:06:47.348Z"
   },
   {
    "duration": 153,
    "start_time": "2025-01-08T07:06:47.384Z"
   },
   {
    "duration": 14,
    "start_time": "2025-01-08T07:06:47.539Z"
   },
   {
    "duration": 143,
    "start_time": "2025-01-08T07:06:47.555Z"
   },
   {
    "duration": 86,
    "start_time": "2025-01-08T07:06:47.700Z"
   },
   {
    "duration": 51,
    "start_time": "2025-01-08T07:06:47.787Z"
   },
   {
    "duration": 250,
    "start_time": "2025-01-08T07:06:47.840Z"
   },
   {
    "duration": 0,
    "start_time": "2025-01-08T07:06:48.092Z"
   },
   {
    "duration": 0,
    "start_time": "2025-01-08T07:06:48.093Z"
   },
   {
    "duration": 0,
    "start_time": "2025-01-08T07:06:48.094Z"
   },
   {
    "duration": 0,
    "start_time": "2025-01-08T07:06:48.095Z"
   },
   {
    "duration": 0,
    "start_time": "2025-01-08T07:06:48.096Z"
   },
   {
    "duration": 0,
    "start_time": "2025-01-08T07:06:48.098Z"
   },
   {
    "duration": 471,
    "start_time": "2025-01-08T07:06:50.939Z"
   },
   {
    "duration": 937,
    "start_time": "2025-01-08T07:06:51.412Z"
   },
   {
    "duration": 12,
    "start_time": "2025-01-08T07:06:52.352Z"
   },
   {
    "duration": 10,
    "start_time": "2025-01-08T07:06:52.365Z"
   },
   {
    "duration": 21,
    "start_time": "2025-01-08T07:06:52.377Z"
   },
   {
    "duration": 29,
    "start_time": "2025-01-08T07:06:52.400Z"
   },
   {
    "duration": 9,
    "start_time": "2025-01-08T07:06:52.430Z"
   },
   {
    "duration": 111,
    "start_time": "2025-01-08T07:06:52.441Z"
   },
   {
    "duration": 9,
    "start_time": "2025-01-08T07:06:52.554Z"
   },
   {
    "duration": 4,
    "start_time": "2025-01-08T07:06:52.565Z"
   },
   {
    "duration": 5,
    "start_time": "2025-01-08T07:06:52.570Z"
   },
   {
    "duration": 11,
    "start_time": "2025-01-08T07:06:52.577Z"
   },
   {
    "duration": 41,
    "start_time": "2025-01-08T07:06:52.589Z"
   },
   {
    "duration": 100,
    "start_time": "2025-01-08T07:06:52.633Z"
   },
   {
    "duration": 9,
    "start_time": "2025-01-08T07:06:52.735Z"
   },
   {
    "duration": 37,
    "start_time": "2025-01-08T07:06:52.746Z"
   },
   {
    "duration": 10,
    "start_time": "2025-01-08T07:06:52.785Z"
   },
   {
    "duration": 31,
    "start_time": "2025-01-08T07:06:52.796Z"
   },
   {
    "duration": 12,
    "start_time": "2025-01-08T07:06:52.829Z"
   },
   {
    "duration": 5,
    "start_time": "2025-01-08T07:06:52.843Z"
   },
   {
    "duration": 6,
    "start_time": "2025-01-08T07:06:52.850Z"
   },
   {
    "duration": 18,
    "start_time": "2025-01-08T07:06:52.857Z"
   },
   {
    "duration": 48,
    "start_time": "2025-01-08T07:06:52.877Z"
   },
   {
    "duration": 22,
    "start_time": "2025-01-08T07:06:52.927Z"
   },
   {
    "duration": 18,
    "start_time": "2025-01-08T07:06:52.951Z"
   },
   {
    "duration": 7,
    "start_time": "2025-01-08T07:06:52.971Z"
   },
   {
    "duration": 6,
    "start_time": "2025-01-08T07:06:52.980Z"
   },
   {
    "duration": 36,
    "start_time": "2025-01-08T07:06:52.988Z"
   },
   {
    "duration": 8,
    "start_time": "2025-01-08T07:06:53.025Z"
   },
   {
    "duration": 6,
    "start_time": "2025-01-08T07:06:53.034Z"
   },
   {
    "duration": 4,
    "start_time": "2025-01-08T07:06:53.042Z"
   },
   {
    "duration": 20,
    "start_time": "2025-01-08T07:06:53.047Z"
   },
   {
    "duration": 788,
    "start_time": "2025-01-08T07:06:53.069Z"
   },
   {
    "duration": 314,
    "start_time": "2025-01-08T07:06:53.859Z"
   },
   {
    "duration": 187,
    "start_time": "2025-01-08T07:06:54.175Z"
   },
   {
    "duration": 11,
    "start_time": "2025-01-08T07:06:54.365Z"
   },
   {
    "duration": 6,
    "start_time": "2025-01-08T07:06:54.378Z"
   },
   {
    "duration": 11,
    "start_time": "2025-01-08T07:06:54.385Z"
   },
   {
    "duration": 31,
    "start_time": "2025-01-08T07:06:54.397Z"
   },
   {
    "duration": 8,
    "start_time": "2025-01-08T07:06:54.429Z"
   },
   {
    "duration": 11,
    "start_time": "2025-01-08T07:06:54.443Z"
   },
   {
    "duration": 10,
    "start_time": "2025-01-08T07:06:54.456Z"
   },
   {
    "duration": 13,
    "start_time": "2025-01-08T07:06:54.468Z"
   },
   {
    "duration": 42,
    "start_time": "2025-01-08T07:06:54.483Z"
   },
   {
    "duration": 7,
    "start_time": "2025-01-08T07:06:54.526Z"
   },
   {
    "duration": 29,
    "start_time": "2025-01-08T07:06:54.535Z"
   },
   {
    "duration": 20,
    "start_time": "2025-01-08T07:06:54.566Z"
   },
   {
    "duration": 51,
    "start_time": "2025-01-08T07:06:54.589Z"
   },
   {
    "duration": 26,
    "start_time": "2025-01-08T07:06:54.641Z"
   },
   {
    "duration": 5,
    "start_time": "2025-01-08T07:06:54.669Z"
   },
   {
    "duration": 24,
    "start_time": "2025-01-08T07:06:54.675Z"
   },
   {
    "duration": 29,
    "start_time": "2025-01-08T07:06:54.700Z"
   },
   {
    "duration": 20,
    "start_time": "2025-01-08T07:06:54.731Z"
   },
   {
    "duration": 35,
    "start_time": "2025-01-08T07:06:54.752Z"
   },
   {
    "duration": 54,
    "start_time": "2025-01-08T07:06:54.789Z"
   },
   {
    "duration": 5,
    "start_time": "2025-01-08T07:06:54.846Z"
   },
   {
    "duration": 6,
    "start_time": "2025-01-08T07:06:54.853Z"
   },
   {
    "duration": 12,
    "start_time": "2025-01-08T07:06:54.862Z"
   },
   {
    "duration": 150,
    "start_time": "2025-01-08T07:06:54.876Z"
   },
   {
    "duration": 13,
    "start_time": "2025-01-08T07:06:55.027Z"
   },
   {
    "duration": 126,
    "start_time": "2025-01-08T07:06:55.041Z"
   },
   {
    "duration": 13,
    "start_time": "2025-01-08T07:06:55.168Z"
   },
   {
    "duration": 178,
    "start_time": "2025-01-08T07:06:55.182Z"
   },
   {
    "duration": 6,
    "start_time": "2025-01-08T07:06:55.362Z"
   },
   {
    "duration": 6,
    "start_time": "2025-01-08T07:06:55.370Z"
   },
   {
    "duration": 177,
    "start_time": "2025-01-08T07:06:55.377Z"
   },
   {
    "duration": 4,
    "start_time": "2025-01-08T07:06:55.556Z"
   },
   {
    "duration": 150,
    "start_time": "2025-01-08T07:06:55.562Z"
   },
   {
    "duration": 182,
    "start_time": "2025-01-08T07:06:55.714Z"
   },
   {
    "duration": 13,
    "start_time": "2025-01-08T07:06:55.898Z"
   },
   {
    "duration": 309,
    "start_time": "2025-01-08T07:06:55.923Z"
   },
   {
    "duration": 158,
    "start_time": "2025-01-08T07:06:56.234Z"
   },
   {
    "duration": 44,
    "start_time": "2025-01-08T07:06:56.393Z"
   },
   {
    "duration": 142,
    "start_time": "2025-01-08T07:06:56.439Z"
   },
   {
    "duration": 13,
    "start_time": "2025-01-08T07:06:56.582Z"
   },
   {
    "duration": 129,
    "start_time": "2025-01-08T07:06:56.597Z"
   },
   {
    "duration": 73,
    "start_time": "2025-01-08T07:06:56.728Z"
   },
   {
    "duration": 50,
    "start_time": "2025-01-08T07:06:56.802Z"
   },
   {
    "duration": 239,
    "start_time": "2025-01-08T07:06:56.853Z"
   },
   {
    "duration": 0,
    "start_time": "2025-01-08T07:06:57.094Z"
   },
   {
    "duration": 0,
    "start_time": "2025-01-08T07:06:57.095Z"
   },
   {
    "duration": 0,
    "start_time": "2025-01-08T07:06:57.097Z"
   },
   {
    "duration": 0,
    "start_time": "2025-01-08T07:06:57.098Z"
   },
   {
    "duration": 0,
    "start_time": "2025-01-08T07:06:57.100Z"
   },
   {
    "duration": 0,
    "start_time": "2025-01-08T07:06:57.101Z"
   },
   {
    "duration": 13,
    "start_time": "2025-01-08T07:10:16.147Z"
   },
   {
    "duration": 464,
    "start_time": "2025-01-08T07:10:29.137Z"
   },
   {
    "duration": 892,
    "start_time": "2025-01-08T07:10:29.603Z"
   },
   {
    "duration": 10,
    "start_time": "2025-01-08T07:10:30.497Z"
   },
   {
    "duration": 19,
    "start_time": "2025-01-08T07:10:30.509Z"
   },
   {
    "duration": 22,
    "start_time": "2025-01-08T07:10:30.530Z"
   },
   {
    "duration": 8,
    "start_time": "2025-01-08T07:10:30.553Z"
   },
   {
    "duration": 7,
    "start_time": "2025-01-08T07:10:30.564Z"
   },
   {
    "duration": 122,
    "start_time": "2025-01-08T07:10:30.572Z"
   },
   {
    "duration": 10,
    "start_time": "2025-01-08T07:10:30.695Z"
   },
   {
    "duration": 18,
    "start_time": "2025-01-08T07:10:30.709Z"
   },
   {
    "duration": 5,
    "start_time": "2025-01-08T07:10:30.729Z"
   },
   {
    "duration": 11,
    "start_time": "2025-01-08T07:10:30.737Z"
   },
   {
    "duration": 8,
    "start_time": "2025-01-08T07:10:30.750Z"
   },
   {
    "duration": 111,
    "start_time": "2025-01-08T07:10:30.760Z"
   },
   {
    "duration": 10,
    "start_time": "2025-01-08T07:10:30.873Z"
   },
   {
    "duration": 54,
    "start_time": "2025-01-08T07:10:30.884Z"
   },
   {
    "duration": 9,
    "start_time": "2025-01-08T07:10:30.940Z"
   },
   {
    "duration": 8,
    "start_time": "2025-01-08T07:10:30.950Z"
   },
   {
    "duration": 12,
    "start_time": "2025-01-08T07:10:30.959Z"
   },
   {
    "duration": 5,
    "start_time": "2025-01-08T07:10:30.973Z"
   },
   {
    "duration": 5,
    "start_time": "2025-01-08T07:10:30.980Z"
   },
   {
    "duration": 50,
    "start_time": "2025-01-08T07:10:30.986Z"
   },
   {
    "duration": 20,
    "start_time": "2025-01-08T07:10:31.038Z"
   },
   {
    "duration": 22,
    "start_time": "2025-01-08T07:10:31.060Z"
   },
   {
    "duration": 41,
    "start_time": "2025-01-08T07:10:31.083Z"
   },
   {
    "duration": 7,
    "start_time": "2025-01-08T07:10:31.126Z"
   },
   {
    "duration": 6,
    "start_time": "2025-01-08T07:10:31.135Z"
   },
   {
    "duration": 3,
    "start_time": "2025-01-08T07:10:31.146Z"
   },
   {
    "duration": 7,
    "start_time": "2025-01-08T07:10:31.151Z"
   },
   {
    "duration": 6,
    "start_time": "2025-01-08T07:10:31.159Z"
   },
   {
    "duration": 6,
    "start_time": "2025-01-08T07:10:31.166Z"
   },
   {
    "duration": 60,
    "start_time": "2025-01-08T07:10:31.174Z"
   },
   {
    "duration": 747,
    "start_time": "2025-01-08T07:10:31.236Z"
   },
   {
    "duration": 308,
    "start_time": "2025-01-08T07:10:31.985Z"
   },
   {
    "duration": 179,
    "start_time": "2025-01-08T07:10:32.295Z"
   },
   {
    "duration": 10,
    "start_time": "2025-01-08T07:10:32.475Z"
   },
   {
    "duration": 6,
    "start_time": "2025-01-08T07:10:32.486Z"
   },
   {
    "duration": 32,
    "start_time": "2025-01-08T07:10:32.493Z"
   },
   {
    "duration": 11,
    "start_time": "2025-01-08T07:10:32.527Z"
   },
   {
    "duration": 5,
    "start_time": "2025-01-08T07:10:32.540Z"
   },
   {
    "duration": 11,
    "start_time": "2025-01-08T07:10:32.547Z"
   },
   {
    "duration": 9,
    "start_time": "2025-01-08T07:10:32.560Z"
   },
   {
    "duration": 13,
    "start_time": "2025-01-08T07:10:32.570Z"
   },
   {
    "duration": 43,
    "start_time": "2025-01-08T07:10:32.585Z"
   },
   {
    "duration": 6,
    "start_time": "2025-01-08T07:10:32.630Z"
   },
   {
    "duration": 28,
    "start_time": "2025-01-08T07:10:32.637Z"
   },
   {
    "duration": 19,
    "start_time": "2025-01-08T07:10:32.667Z"
   },
   {
    "duration": 56,
    "start_time": "2025-01-08T07:10:32.688Z"
   },
   {
    "duration": 23,
    "start_time": "2025-01-08T07:10:32.746Z"
   },
   {
    "duration": 5,
    "start_time": "2025-01-08T07:10:32.771Z"
   },
   {
    "duration": 24,
    "start_time": "2025-01-08T07:10:32.778Z"
   },
   {
    "duration": 7,
    "start_time": "2025-01-08T07:10:32.824Z"
   },
   {
    "duration": 20,
    "start_time": "2025-01-08T07:10:32.833Z"
   },
   {
    "duration": 34,
    "start_time": "2025-01-08T07:10:32.854Z"
   },
   {
    "duration": 54,
    "start_time": "2025-01-08T07:10:32.889Z"
   },
   {
    "duration": 6,
    "start_time": "2025-01-08T07:10:32.945Z"
   },
   {
    "duration": 6,
    "start_time": "2025-01-08T07:10:32.952Z"
   },
   {
    "duration": 11,
    "start_time": "2025-01-08T07:10:32.960Z"
   },
   {
    "duration": 147,
    "start_time": "2025-01-08T07:10:32.972Z"
   },
   {
    "duration": 12,
    "start_time": "2025-01-08T07:10:33.125Z"
   },
   {
    "duration": 129,
    "start_time": "2025-01-08T07:10:33.139Z"
   },
   {
    "duration": 14,
    "start_time": "2025-01-08T07:10:33.270Z"
   },
   {
    "duration": 180,
    "start_time": "2025-01-08T07:10:33.285Z"
   },
   {
    "duration": 6,
    "start_time": "2025-01-08T07:10:33.466Z"
   },
   {
    "duration": 6,
    "start_time": "2025-01-08T07:10:33.473Z"
   },
   {
    "duration": 172,
    "start_time": "2025-01-08T07:10:33.481Z"
   },
   {
    "duration": 4,
    "start_time": "2025-01-08T07:10:33.654Z"
   },
   {
    "duration": 151,
    "start_time": "2025-01-08T07:10:33.661Z"
   },
   {
    "duration": 180,
    "start_time": "2025-01-08T07:10:33.814Z"
   },
   {
    "duration": 13,
    "start_time": "2025-01-08T07:10:33.995Z"
   },
   {
    "duration": 315,
    "start_time": "2025-01-08T07:10:34.010Z"
   },
   {
    "duration": 159,
    "start_time": "2025-01-08T07:10:34.328Z"
   },
   {
    "duration": 41,
    "start_time": "2025-01-08T07:10:34.489Z"
   },
   {
    "duration": 142,
    "start_time": "2025-01-08T07:10:34.532Z"
   },
   {
    "duration": 13,
    "start_time": "2025-01-08T07:10:34.676Z"
   },
   {
    "duration": 137,
    "start_time": "2025-01-08T07:10:34.690Z"
   },
   {
    "duration": 73,
    "start_time": "2025-01-08T07:10:34.829Z"
   },
   {
    "duration": 54,
    "start_time": "2025-01-08T07:10:34.904Z"
   },
   {
    "duration": 247,
    "start_time": "2025-01-08T07:10:34.959Z"
   },
   {
    "duration": 0,
    "start_time": "2025-01-08T07:10:35.208Z"
   },
   {
    "duration": 0,
    "start_time": "2025-01-08T07:10:35.209Z"
   },
   {
    "duration": 0,
    "start_time": "2025-01-08T07:10:35.211Z"
   },
   {
    "duration": 0,
    "start_time": "2025-01-08T07:10:35.212Z"
   },
   {
    "duration": 0,
    "start_time": "2025-01-08T07:10:35.213Z"
   },
   {
    "duration": 0,
    "start_time": "2025-01-08T07:10:35.214Z"
   },
   {
    "duration": 13,
    "start_time": "2025-01-08T07:10:41.292Z"
   },
   {
    "duration": 1694,
    "start_time": "2025-01-08T07:10:58.881Z"
   },
   {
    "duration": 991,
    "start_time": "2025-01-08T07:11:27.006Z"
   },
   {
    "duration": 438,
    "start_time": "2025-01-08T07:11:37.126Z"
   },
   {
    "duration": 926,
    "start_time": "2025-01-08T07:11:37.566Z"
   },
   {
    "duration": 11,
    "start_time": "2025-01-08T07:11:38.493Z"
   },
   {
    "duration": 21,
    "start_time": "2025-01-08T07:11:38.506Z"
   },
   {
    "duration": 21,
    "start_time": "2025-01-08T07:11:38.529Z"
   },
   {
    "duration": 9,
    "start_time": "2025-01-08T07:11:38.552Z"
   },
   {
    "duration": 7,
    "start_time": "2025-01-08T07:11:38.562Z"
   },
   {
    "duration": 112,
    "start_time": "2025-01-08T07:11:38.570Z"
   },
   {
    "duration": 9,
    "start_time": "2025-01-08T07:11:38.683Z"
   },
   {
    "duration": 6,
    "start_time": "2025-01-08T07:11:38.694Z"
   },
   {
    "duration": 23,
    "start_time": "2025-01-08T07:11:38.701Z"
   },
   {
    "duration": 11,
    "start_time": "2025-01-08T07:11:38.726Z"
   },
   {
    "duration": 9,
    "start_time": "2025-01-08T07:11:38.738Z"
   },
   {
    "duration": 114,
    "start_time": "2025-01-08T07:11:38.750Z"
   },
   {
    "duration": 10,
    "start_time": "2025-01-08T07:11:38.866Z"
   },
   {
    "duration": 52,
    "start_time": "2025-01-08T07:11:38.878Z"
   },
   {
    "duration": 10,
    "start_time": "2025-01-08T07:11:38.932Z"
   },
   {
    "duration": 7,
    "start_time": "2025-01-08T07:11:38.944Z"
   },
   {
    "duration": 11,
    "start_time": "2025-01-08T07:11:38.953Z"
   },
   {
    "duration": 6,
    "start_time": "2025-01-08T07:11:38.966Z"
   },
   {
    "duration": 6,
    "start_time": "2025-01-08T07:11:38.973Z"
   },
   {
    "duration": 47,
    "start_time": "2025-01-08T07:11:38.980Z"
   },
   {
    "duration": 20,
    "start_time": "2025-01-08T07:11:39.028Z"
   },
   {
    "duration": 22,
    "start_time": "2025-01-08T07:11:39.050Z"
   },
   {
    "duration": 17,
    "start_time": "2025-01-08T07:11:39.074Z"
   },
   {
    "duration": 32,
    "start_time": "2025-01-08T07:11:39.093Z"
   },
   {
    "duration": 6,
    "start_time": "2025-01-08T07:11:39.127Z"
   },
   {
    "duration": 4,
    "start_time": "2025-01-08T07:11:39.135Z"
   },
   {
    "duration": 7,
    "start_time": "2025-01-08T07:11:39.141Z"
   },
   {
    "duration": 6,
    "start_time": "2025-01-08T07:11:39.150Z"
   },
   {
    "duration": 5,
    "start_time": "2025-01-08T07:11:39.157Z"
   },
   {
    "duration": 60,
    "start_time": "2025-01-08T07:11:39.164Z"
   },
   {
    "duration": 742,
    "start_time": "2025-01-08T07:11:39.226Z"
   },
   {
    "duration": 304,
    "start_time": "2025-01-08T07:11:39.970Z"
   },
   {
    "duration": 190,
    "start_time": "2025-01-08T07:11:40.276Z"
   },
   {
    "duration": 9,
    "start_time": "2025-01-08T07:11:40.468Z"
   },
   {
    "duration": 5,
    "start_time": "2025-01-08T07:11:40.478Z"
   },
   {
    "duration": 10,
    "start_time": "2025-01-08T07:11:40.486Z"
   },
   {
    "duration": 33,
    "start_time": "2025-01-08T07:11:40.498Z"
   },
   {
    "duration": 5,
    "start_time": "2025-01-08T07:11:40.533Z"
   },
   {
    "duration": 11,
    "start_time": "2025-01-08T07:11:40.543Z"
   },
   {
    "duration": 9,
    "start_time": "2025-01-08T07:11:40.555Z"
   },
   {
    "duration": 14,
    "start_time": "2025-01-08T07:11:40.565Z"
   },
   {
    "duration": 44,
    "start_time": "2025-01-08T07:11:40.581Z"
   },
   {
    "duration": 6,
    "start_time": "2025-01-08T07:11:40.626Z"
   },
   {
    "duration": 29,
    "start_time": "2025-01-08T07:11:40.634Z"
   },
   {
    "duration": 19,
    "start_time": "2025-01-08T07:11:40.665Z"
   },
   {
    "duration": 48,
    "start_time": "2025-01-08T07:11:40.686Z"
   },
   {
    "duration": 23,
    "start_time": "2025-01-08T07:11:40.736Z"
   },
   {
    "duration": 5,
    "start_time": "2025-01-08T07:11:40.761Z"
   },
   {
    "duration": 24,
    "start_time": "2025-01-08T07:11:40.768Z"
   },
   {
    "duration": 30,
    "start_time": "2025-01-08T07:11:40.794Z"
   },
   {
    "duration": 24,
    "start_time": "2025-01-08T07:11:40.826Z"
   },
   {
    "duration": 35,
    "start_time": "2025-01-08T07:11:40.853Z"
   },
   {
    "duration": 50,
    "start_time": "2025-01-08T07:11:40.890Z"
   },
   {
    "duration": 6,
    "start_time": "2025-01-08T07:11:40.941Z"
   },
   {
    "duration": 6,
    "start_time": "2025-01-08T07:11:40.949Z"
   },
   {
    "duration": 12,
    "start_time": "2025-01-08T07:11:40.956Z"
   },
   {
    "duration": 147,
    "start_time": "2025-01-08T07:11:40.969Z"
   },
   {
    "duration": 12,
    "start_time": "2025-01-08T07:11:41.123Z"
   },
   {
    "duration": 133,
    "start_time": "2025-01-08T07:11:41.137Z"
   },
   {
    "duration": 12,
    "start_time": "2025-01-08T07:11:41.272Z"
   },
   {
    "duration": 187,
    "start_time": "2025-01-08T07:11:41.286Z"
   },
   {
    "duration": 6,
    "start_time": "2025-01-08T07:11:41.474Z"
   },
   {
    "duration": 7,
    "start_time": "2025-01-08T07:11:41.482Z"
   },
   {
    "duration": 165,
    "start_time": "2025-01-08T07:11:41.490Z"
   },
   {
    "duration": 4,
    "start_time": "2025-01-08T07:11:41.657Z"
   },
   {
    "duration": 147,
    "start_time": "2025-01-08T07:11:41.663Z"
   },
   {
    "duration": 177,
    "start_time": "2025-01-08T07:11:41.812Z"
   },
   {
    "duration": 13,
    "start_time": "2025-01-08T07:11:41.991Z"
   },
   {
    "duration": 311,
    "start_time": "2025-01-08T07:11:42.006Z"
   },
   {
    "duration": 157,
    "start_time": "2025-01-08T07:11:42.318Z"
   },
   {
    "duration": 47,
    "start_time": "2025-01-08T07:11:42.477Z"
   },
   {
    "duration": 143,
    "start_time": "2025-01-08T07:11:42.525Z"
   },
   {
    "duration": 13,
    "start_time": "2025-01-08T07:11:42.669Z"
   },
   {
    "duration": 143,
    "start_time": "2025-01-08T07:11:42.684Z"
   },
   {
    "duration": 72,
    "start_time": "2025-01-08T07:11:42.828Z"
   },
   {
    "duration": 50,
    "start_time": "2025-01-08T07:11:42.902Z"
   },
   {
    "duration": 244,
    "start_time": "2025-01-08T07:11:42.954Z"
   },
   {
    "duration": 0,
    "start_time": "2025-01-08T07:11:43.200Z"
   },
   {
    "duration": 0,
    "start_time": "2025-01-08T07:11:43.202Z"
   },
   {
    "duration": 0,
    "start_time": "2025-01-08T07:11:43.203Z"
   },
   {
    "duration": 0,
    "start_time": "2025-01-08T07:11:43.204Z"
   },
   {
    "duration": 0,
    "start_time": "2025-01-08T07:11:43.205Z"
   },
   {
    "duration": 0,
    "start_time": "2025-01-08T07:11:43.206Z"
   },
   {
    "duration": 712,
    "start_time": "2025-01-08T07:12:36.099Z"
   },
   {
    "duration": 1737,
    "start_time": "2025-01-08T07:12:45.105Z"
   },
   {
    "duration": 1010,
    "start_time": "2025-01-08T07:13:27.385Z"
   },
   {
    "duration": 450,
    "start_time": "2025-01-08T07:13:38.876Z"
   },
   {
    "duration": 894,
    "start_time": "2025-01-08T07:13:39.328Z"
   },
   {
    "duration": 11,
    "start_time": "2025-01-08T07:13:40.223Z"
   },
   {
    "duration": 10,
    "start_time": "2025-01-08T07:13:40.235Z"
   },
   {
    "duration": 22,
    "start_time": "2025-01-08T07:13:40.248Z"
   },
   {
    "duration": 7,
    "start_time": "2025-01-08T07:13:40.272Z"
   },
   {
    "duration": 7,
    "start_time": "2025-01-08T07:13:40.281Z"
   },
   {
    "duration": 122,
    "start_time": "2025-01-08T07:13:40.290Z"
   },
   {
    "duration": 17,
    "start_time": "2025-01-08T07:13:40.414Z"
   },
   {
    "duration": 7,
    "start_time": "2025-01-08T07:13:40.432Z"
   },
   {
    "duration": 6,
    "start_time": "2025-01-08T07:13:40.441Z"
   },
   {
    "duration": 12,
    "start_time": "2025-01-08T07:13:40.448Z"
   },
   {
    "duration": 9,
    "start_time": "2025-01-08T07:13:40.461Z"
   },
   {
    "duration": 129,
    "start_time": "2025-01-08T07:13:40.474Z"
   },
   {
    "duration": 10,
    "start_time": "2025-01-08T07:13:40.604Z"
   },
   {
    "duration": 41,
    "start_time": "2025-01-08T07:13:40.624Z"
   },
   {
    "duration": 9,
    "start_time": "2025-01-08T07:13:40.667Z"
   },
   {
    "duration": 5,
    "start_time": "2025-01-08T07:13:40.678Z"
   },
   {
    "duration": 12,
    "start_time": "2025-01-08T07:13:40.685Z"
   },
   {
    "duration": 28,
    "start_time": "2025-01-08T07:13:40.699Z"
   },
   {
    "duration": 5,
    "start_time": "2025-01-08T07:13:40.729Z"
   },
   {
    "duration": 20,
    "start_time": "2025-01-08T07:13:40.737Z"
   },
   {
    "duration": 20,
    "start_time": "2025-01-08T07:13:40.759Z"
   },
   {
    "duration": 50,
    "start_time": "2025-01-08T07:13:40.781Z"
   },
   {
    "duration": 17,
    "start_time": "2025-01-08T07:13:40.833Z"
   },
   {
    "duration": 7,
    "start_time": "2025-01-08T07:13:40.852Z"
   },
   {
    "duration": 5,
    "start_time": "2025-01-08T07:13:40.861Z"
   },
   {
    "duration": 5,
    "start_time": "2025-01-08T07:13:40.868Z"
   },
   {
    "duration": 7,
    "start_time": "2025-01-08T07:13:40.874Z"
   },
   {
    "duration": 41,
    "start_time": "2025-01-08T07:13:40.883Z"
   },
   {
    "duration": 4,
    "start_time": "2025-01-08T07:13:40.925Z"
   },
   {
    "duration": 21,
    "start_time": "2025-01-08T07:13:40.931Z"
   },
   {
    "duration": 770,
    "start_time": "2025-01-08T07:13:40.954Z"
   },
   {
    "duration": 282,
    "start_time": "2025-01-08T07:13:41.726Z"
   },
   {
    "duration": 184,
    "start_time": "2025-01-08T07:13:42.010Z"
   },
   {
    "duration": 10,
    "start_time": "2025-01-08T07:13:42.196Z"
   },
   {
    "duration": 19,
    "start_time": "2025-01-08T07:13:42.207Z"
   },
   {
    "duration": 12,
    "start_time": "2025-01-08T07:13:42.228Z"
   },
   {
    "duration": 11,
    "start_time": "2025-01-08T07:13:42.242Z"
   },
   {
    "duration": 6,
    "start_time": "2025-01-08T07:13:42.255Z"
   },
   {
    "duration": 11,
    "start_time": "2025-01-08T07:13:42.266Z"
   },
   {
    "duration": 9,
    "start_time": "2025-01-08T07:13:42.279Z"
   },
   {
    "duration": 13,
    "start_time": "2025-01-08T07:13:42.324Z"
   },
   {
    "duration": 11,
    "start_time": "2025-01-08T07:13:42.339Z"
   },
   {
    "duration": 7,
    "start_time": "2025-01-08T07:13:42.351Z"
   },
   {
    "duration": 28,
    "start_time": "2025-01-08T07:13:42.359Z"
   },
   {
    "duration": 48,
    "start_time": "2025-01-08T07:13:42.389Z"
   },
   {
    "duration": 24,
    "start_time": "2025-01-08T07:13:42.439Z"
   },
   {
    "duration": 24,
    "start_time": "2025-01-08T07:13:42.465Z"
   },
   {
    "duration": 6,
    "start_time": "2025-01-08T07:13:42.491Z"
   },
   {
    "duration": 25,
    "start_time": "2025-01-08T07:13:42.524Z"
   },
   {
    "duration": 9,
    "start_time": "2025-01-08T07:13:42.551Z"
   },
   {
    "duration": 19,
    "start_time": "2025-01-08T07:13:42.563Z"
   },
   {
    "duration": 57,
    "start_time": "2025-01-08T07:13:42.585Z"
   },
   {
    "duration": 30,
    "start_time": "2025-01-08T07:13:42.644Z"
   },
   {
    "duration": 6,
    "start_time": "2025-01-08T07:13:42.676Z"
   },
   {
    "duration": 6,
    "start_time": "2025-01-08T07:13:42.683Z"
   },
   {
    "duration": 35,
    "start_time": "2025-01-08T07:13:42.690Z"
   },
   {
    "duration": 130,
    "start_time": "2025-01-08T07:13:42.727Z"
   },
   {
    "duration": 13,
    "start_time": "2025-01-08T07:13:42.858Z"
   },
   {
    "duration": 131,
    "start_time": "2025-01-08T07:13:42.872Z"
   },
   {
    "duration": 20,
    "start_time": "2025-01-08T07:13:43.004Z"
   },
   {
    "duration": 171,
    "start_time": "2025-01-08T07:13:43.025Z"
   },
   {
    "duration": 6,
    "start_time": "2025-01-08T07:13:43.198Z"
   },
   {
    "duration": 6,
    "start_time": "2025-01-08T07:13:43.206Z"
   },
   {
    "duration": 176,
    "start_time": "2025-01-08T07:13:43.213Z"
   },
   {
    "duration": 4,
    "start_time": "2025-01-08T07:13:43.391Z"
   },
   {
    "duration": 151,
    "start_time": "2025-01-08T07:13:43.397Z"
   },
   {
    "duration": 175,
    "start_time": "2025-01-08T07:13:43.550Z"
   },
   {
    "duration": 14,
    "start_time": "2025-01-08T07:13:43.726Z"
   },
   {
    "duration": 328,
    "start_time": "2025-01-08T07:13:43.742Z"
   },
   {
    "duration": 153,
    "start_time": "2025-01-08T07:13:44.072Z"
   },
   {
    "duration": 35,
    "start_time": "2025-01-08T07:13:44.227Z"
   },
   {
    "duration": 151,
    "start_time": "2025-01-08T07:13:44.264Z"
   },
   {
    "duration": 16,
    "start_time": "2025-01-08T07:13:44.417Z"
   },
   {
    "duration": 137,
    "start_time": "2025-01-08T07:13:44.435Z"
   },
   {
    "duration": 80,
    "start_time": "2025-01-08T07:13:44.573Z"
   },
   {
    "duration": 46,
    "start_time": "2025-01-08T07:13:44.655Z"
   },
   {
    "duration": 248,
    "start_time": "2025-01-08T07:13:44.703Z"
   },
   {
    "duration": 0,
    "start_time": "2025-01-08T07:13:44.953Z"
   },
   {
    "duration": 0,
    "start_time": "2025-01-08T07:13:44.955Z"
   },
   {
    "duration": 0,
    "start_time": "2025-01-08T07:13:44.956Z"
   },
   {
    "duration": 0,
    "start_time": "2025-01-08T07:13:44.957Z"
   },
   {
    "duration": 0,
    "start_time": "2025-01-08T07:13:44.958Z"
   },
   {
    "duration": 0,
    "start_time": "2025-01-08T07:13:44.960Z"
   },
   {
    "duration": 432,
    "start_time": "2025-01-08T07:14:22.474Z"
   },
   {
    "duration": 903,
    "start_time": "2025-01-08T07:14:22.908Z"
   },
   {
    "duration": 16,
    "start_time": "2025-01-08T07:14:23.812Z"
   },
   {
    "duration": 10,
    "start_time": "2025-01-08T07:14:23.830Z"
   },
   {
    "duration": 25,
    "start_time": "2025-01-08T07:14:23.842Z"
   },
   {
    "duration": 10,
    "start_time": "2025-01-08T07:14:23.869Z"
   },
   {
    "duration": 9,
    "start_time": "2025-01-08T07:14:23.880Z"
   },
   {
    "duration": 119,
    "start_time": "2025-01-08T07:14:23.891Z"
   },
   {
    "duration": 18,
    "start_time": "2025-01-08T07:14:24.012Z"
   },
   {
    "duration": 6,
    "start_time": "2025-01-08T07:14:24.031Z"
   },
   {
    "duration": 6,
    "start_time": "2025-01-08T07:14:24.039Z"
   },
   {
    "duration": 11,
    "start_time": "2025-01-08T07:14:24.047Z"
   },
   {
    "duration": 9,
    "start_time": "2025-01-08T07:14:24.059Z"
   },
   {
    "duration": 121,
    "start_time": "2025-01-08T07:14:24.072Z"
   },
   {
    "duration": 10,
    "start_time": "2025-01-08T07:14:24.195Z"
   },
   {
    "duration": 55,
    "start_time": "2025-01-08T07:14:24.207Z"
   },
   {
    "duration": 9,
    "start_time": "2025-01-08T07:14:24.264Z"
   },
   {
    "duration": 6,
    "start_time": "2025-01-08T07:14:24.275Z"
   },
   {
    "duration": 12,
    "start_time": "2025-01-08T07:14:24.283Z"
   },
   {
    "duration": 29,
    "start_time": "2025-01-08T07:14:24.296Z"
   },
   {
    "duration": 5,
    "start_time": "2025-01-08T07:14:24.327Z"
   },
   {
    "duration": 17,
    "start_time": "2025-01-08T07:14:24.334Z"
   },
   {
    "duration": 20,
    "start_time": "2025-01-08T07:14:24.353Z"
   },
   {
    "duration": 50,
    "start_time": "2025-01-08T07:14:24.375Z"
   },
   {
    "duration": 18,
    "start_time": "2025-01-08T07:14:24.427Z"
   },
   {
    "duration": 8,
    "start_time": "2025-01-08T07:14:24.446Z"
   },
   {
    "duration": 6,
    "start_time": "2025-01-08T07:14:24.455Z"
   },
   {
    "duration": 4,
    "start_time": "2025-01-08T07:14:24.463Z"
   },
   {
    "duration": 7,
    "start_time": "2025-01-08T07:14:24.468Z"
   },
   {
    "duration": 5,
    "start_time": "2025-01-08T07:14:24.477Z"
   },
   {
    "duration": 41,
    "start_time": "2025-01-08T07:14:24.484Z"
   },
   {
    "duration": 24,
    "start_time": "2025-01-08T07:14:24.527Z"
   },
   {
    "duration": 780,
    "start_time": "2025-01-08T07:14:24.554Z"
   },
   {
    "duration": 304,
    "start_time": "2025-01-08T07:14:25.335Z"
   },
   {
    "duration": 162,
    "start_time": "2025-01-08T07:14:25.641Z"
   },
   {
    "duration": 20,
    "start_time": "2025-01-08T07:14:25.805Z"
   },
   {
    "duration": 5,
    "start_time": "2025-01-08T07:14:25.827Z"
   },
   {
    "duration": 11,
    "start_time": "2025-01-08T07:14:25.834Z"
   },
   {
    "duration": 10,
    "start_time": "2025-01-08T07:14:25.846Z"
   },
   {
    "duration": 5,
    "start_time": "2025-01-08T07:14:25.858Z"
   },
   {
    "duration": 11,
    "start_time": "2025-01-08T07:14:25.869Z"
   },
   {
    "duration": 46,
    "start_time": "2025-01-08T07:14:25.881Z"
   },
   {
    "duration": 14,
    "start_time": "2025-01-08T07:14:25.929Z"
   },
   {
    "duration": 11,
    "start_time": "2025-01-08T07:14:25.945Z"
   },
   {
    "duration": 7,
    "start_time": "2025-01-08T07:14:25.957Z"
   },
   {
    "duration": 27,
    "start_time": "2025-01-08T07:14:25.965Z"
   },
   {
    "duration": 50,
    "start_time": "2025-01-08T07:14:25.993Z"
   },
   {
    "duration": 24,
    "start_time": "2025-01-08T07:14:26.044Z"
   },
   {
    "duration": 23,
    "start_time": "2025-01-08T07:14:26.070Z"
   },
   {
    "duration": 31,
    "start_time": "2025-01-08T07:14:26.095Z"
   },
   {
    "duration": 24,
    "start_time": "2025-01-08T07:14:26.127Z"
   },
   {
    "duration": 7,
    "start_time": "2025-01-08T07:14:26.154Z"
   },
   {
    "duration": 20,
    "start_time": "2025-01-08T07:14:26.162Z"
   },
   {
    "duration": 57,
    "start_time": "2025-01-08T07:14:26.183Z"
   },
   {
    "duration": 29,
    "start_time": "2025-01-08T07:14:26.242Z"
   },
   {
    "duration": 6,
    "start_time": "2025-01-08T07:14:26.272Z"
   },
   {
    "duration": 6,
    "start_time": "2025-01-08T07:14:26.279Z"
   },
   {
    "duration": 38,
    "start_time": "2025-01-08T07:14:26.287Z"
   },
   {
    "duration": 132,
    "start_time": "2025-01-08T07:14:26.327Z"
   },
   {
    "duration": 13,
    "start_time": "2025-01-08T07:14:26.460Z"
   },
   {
    "duration": 126,
    "start_time": "2025-01-08T07:14:26.474Z"
   },
   {
    "duration": 22,
    "start_time": "2025-01-08T07:14:26.602Z"
   },
   {
    "duration": 168,
    "start_time": "2025-01-08T07:14:26.625Z"
   },
   {
    "duration": 6,
    "start_time": "2025-01-08T07:14:26.794Z"
   },
   {
    "duration": 5,
    "start_time": "2025-01-08T07:14:26.802Z"
   },
   {
    "duration": 176,
    "start_time": "2025-01-08T07:14:26.809Z"
   },
   {
    "duration": 4,
    "start_time": "2025-01-08T07:14:26.987Z"
   },
   {
    "duration": 148,
    "start_time": "2025-01-08T07:14:26.992Z"
   },
   {
    "duration": 179,
    "start_time": "2025-01-08T07:14:27.142Z"
   },
   {
    "duration": 12,
    "start_time": "2025-01-08T07:14:27.323Z"
   },
   {
    "duration": 320,
    "start_time": "2025-01-08T07:14:27.337Z"
   },
   {
    "duration": 162,
    "start_time": "2025-01-08T07:14:27.659Z"
   },
   {
    "duration": 36,
    "start_time": "2025-01-08T07:14:27.822Z"
   },
   {
    "duration": 149,
    "start_time": "2025-01-08T07:14:27.860Z"
   },
   {
    "duration": 23,
    "start_time": "2025-01-08T07:14:28.010Z"
   },
   {
    "duration": 135,
    "start_time": "2025-01-08T07:14:28.036Z"
   },
   {
    "duration": 83,
    "start_time": "2025-01-08T07:14:28.173Z"
   },
   {
    "duration": 42,
    "start_time": "2025-01-08T07:14:28.258Z"
   },
   {
    "duration": 1728,
    "start_time": "2025-01-08T07:14:28.302Z"
   },
   {
    "duration": 831,
    "start_time": "2025-01-08T07:14:30.032Z"
   },
   {
    "duration": 219,
    "start_time": "2025-01-08T07:14:30.864Z"
   },
   {
    "duration": 41,
    "start_time": "2025-01-08T07:14:31.085Z"
   },
   {
    "duration": 4,
    "start_time": "2025-01-08T07:14:31.128Z"
   },
   {
    "duration": 0,
    "start_time": "2025-01-08T07:14:31.134Z"
   },
   {
    "duration": 0,
    "start_time": "2025-01-08T07:14:31.136Z"
   },
   {
    "duration": 408,
    "start_time": "2025-01-08T07:17:56.695Z"
   },
   {
    "duration": 929,
    "start_time": "2025-01-08T07:17:57.105Z"
   },
   {
    "duration": 12,
    "start_time": "2025-01-08T07:17:58.035Z"
   },
   {
    "duration": 9,
    "start_time": "2025-01-08T07:17:58.049Z"
   },
   {
    "duration": 22,
    "start_time": "2025-01-08T07:17:58.060Z"
   },
   {
    "duration": 7,
    "start_time": "2025-01-08T07:17:58.084Z"
   },
   {
    "duration": 38,
    "start_time": "2025-01-08T07:17:58.093Z"
   },
   {
    "duration": 99,
    "start_time": "2025-01-08T07:17:58.132Z"
   },
   {
    "duration": 10,
    "start_time": "2025-01-08T07:17:58.233Z"
   },
   {
    "duration": 8,
    "start_time": "2025-01-08T07:17:58.245Z"
   },
   {
    "duration": 7,
    "start_time": "2025-01-08T07:17:58.254Z"
   },
   {
    "duration": 17,
    "start_time": "2025-01-08T07:17:58.263Z"
   },
   {
    "duration": 9,
    "start_time": "2025-01-08T07:17:58.282Z"
   },
   {
    "duration": 117,
    "start_time": "2025-01-08T07:17:58.295Z"
   },
   {
    "duration": 19,
    "start_time": "2025-01-08T07:17:58.414Z"
   },
   {
    "duration": 39,
    "start_time": "2025-01-08T07:17:58.434Z"
   },
   {
    "duration": 10,
    "start_time": "2025-01-08T07:17:58.475Z"
   },
   {
    "duration": 6,
    "start_time": "2025-01-08T07:17:58.486Z"
   },
   {
    "duration": 38,
    "start_time": "2025-01-08T07:17:58.494Z"
   },
   {
    "duration": 6,
    "start_time": "2025-01-08T07:17:58.533Z"
   },
   {
    "duration": 6,
    "start_time": "2025-01-08T07:17:58.540Z"
   },
   {
    "duration": 18,
    "start_time": "2025-01-08T07:17:58.547Z"
   },
   {
    "duration": 21,
    "start_time": "2025-01-08T07:17:58.567Z"
   },
   {
    "duration": 53,
    "start_time": "2025-01-08T07:17:58.590Z"
   },
   {
    "duration": 19,
    "start_time": "2025-01-08T07:17:58.644Z"
   },
   {
    "duration": 7,
    "start_time": "2025-01-08T07:17:58.665Z"
   },
   {
    "duration": 6,
    "start_time": "2025-01-08T07:17:58.674Z"
   },
   {
    "duration": 4,
    "start_time": "2025-01-08T07:17:58.682Z"
   },
   {
    "duration": 41,
    "start_time": "2025-01-08T07:17:58.688Z"
   },
   {
    "duration": 6,
    "start_time": "2025-01-08T07:17:58.731Z"
   },
   {
    "duration": 4,
    "start_time": "2025-01-08T07:17:58.738Z"
   },
   {
    "duration": 22,
    "start_time": "2025-01-08T07:17:58.743Z"
   },
   {
    "duration": 766,
    "start_time": "2025-01-08T07:17:58.767Z"
   },
   {
    "duration": 283,
    "start_time": "2025-01-08T07:17:59.535Z"
   },
   {
    "duration": 172,
    "start_time": "2025-01-08T07:17:59.820Z"
   },
   {
    "duration": 10,
    "start_time": "2025-01-08T07:17:59.994Z"
   },
   {
    "duration": 5,
    "start_time": "2025-01-08T07:18:00.005Z"
   },
   {
    "duration": 11,
    "start_time": "2025-01-08T07:18:00.024Z"
   },
   {
    "duration": 10,
    "start_time": "2025-01-08T07:18:00.036Z"
   },
   {
    "duration": 6,
    "start_time": "2025-01-08T07:18:00.048Z"
   },
   {
    "duration": 11,
    "start_time": "2025-01-08T07:18:00.059Z"
   },
   {
    "duration": 9,
    "start_time": "2025-01-08T07:18:00.071Z"
   },
   {
    "duration": 46,
    "start_time": "2025-01-08T07:18:00.082Z"
   },
   {
    "duration": 12,
    "start_time": "2025-01-08T07:18:00.129Z"
   },
   {
    "duration": 7,
    "start_time": "2025-01-08T07:18:00.142Z"
   },
   {
    "duration": 28,
    "start_time": "2025-01-08T07:18:00.150Z"
   },
   {
    "duration": 49,
    "start_time": "2025-01-08T07:18:00.180Z"
   },
   {
    "duration": 24,
    "start_time": "2025-01-08T07:18:00.231Z"
   },
   {
    "duration": 23,
    "start_time": "2025-01-08T07:18:00.256Z"
   },
   {
    "duration": 6,
    "start_time": "2025-01-08T07:18:00.281Z"
   },
   {
    "duration": 49,
    "start_time": "2025-01-08T07:18:00.289Z"
   },
   {
    "duration": 8,
    "start_time": "2025-01-08T07:18:00.339Z"
   },
   {
    "duration": 21,
    "start_time": "2025-01-08T07:18:00.348Z"
   },
   {
    "duration": 33,
    "start_time": "2025-01-08T07:18:00.372Z"
   },
   {
    "duration": 29,
    "start_time": "2025-01-08T07:18:00.425Z"
   },
   {
    "duration": 6,
    "start_time": "2025-01-08T07:18:00.456Z"
   },
   {
    "duration": 6,
    "start_time": "2025-01-08T07:18:00.463Z"
   },
   {
    "duration": 12,
    "start_time": "2025-01-08T07:18:00.471Z"
   },
   {
    "duration": 157,
    "start_time": "2025-01-08T07:18:00.485Z"
   },
   {
    "duration": 13,
    "start_time": "2025-01-08T07:18:00.644Z"
   },
   {
    "duration": 138,
    "start_time": "2025-01-08T07:18:00.659Z"
   },
   {
    "duration": 11,
    "start_time": "2025-01-08T07:18:00.800Z"
   },
   {
    "duration": 184,
    "start_time": "2025-01-08T07:18:00.813Z"
   },
   {
    "duration": 5,
    "start_time": "2025-01-08T07:18:00.999Z"
   },
   {
    "duration": 5,
    "start_time": "2025-01-08T07:18:01.006Z"
   },
   {
    "duration": 175,
    "start_time": "2025-01-08T07:18:01.012Z"
   },
   {
    "duration": 4,
    "start_time": "2025-01-08T07:18:01.189Z"
   },
   {
    "duration": 149,
    "start_time": "2025-01-08T07:18:01.195Z"
   },
   {
    "duration": 178,
    "start_time": "2025-01-08T07:18:01.346Z"
   },
   {
    "duration": 14,
    "start_time": "2025-01-08T07:18:01.526Z"
   },
   {
    "duration": 305,
    "start_time": "2025-01-08T07:18:01.542Z"
   },
   {
    "duration": 155,
    "start_time": "2025-01-08T07:18:01.849Z"
   },
   {
    "duration": 40,
    "start_time": "2025-01-08T07:18:02.006Z"
   },
   {
    "duration": 156,
    "start_time": "2025-01-08T07:18:02.048Z"
   },
   {
    "duration": 19,
    "start_time": "2025-01-08T07:18:02.206Z"
   },
   {
    "duration": 136,
    "start_time": "2025-01-08T07:18:02.226Z"
   },
   {
    "duration": 79,
    "start_time": "2025-01-08T07:18:02.363Z"
   },
   {
    "duration": 44,
    "start_time": "2025-01-08T07:18:02.446Z"
   },
   {
    "duration": 1740,
    "start_time": "2025-01-08T07:18:02.492Z"
   },
   {
    "duration": 825,
    "start_time": "2025-01-08T07:18:04.234Z"
   },
   {
    "duration": 220,
    "start_time": "2025-01-08T07:18:05.061Z"
   },
   {
    "duration": 43,
    "start_time": "2025-01-08T07:18:05.282Z"
   },
   {
    "duration": 4,
    "start_time": "2025-01-08T07:18:05.327Z"
   },
   {
    "duration": 0,
    "start_time": "2025-01-08T07:18:05.333Z"
   },
   {
    "duration": 0,
    "start_time": "2025-01-08T07:18:05.334Z"
   },
   {
    "duration": 459,
    "start_time": "2025-01-08T11:20:05.477Z"
   },
   {
    "duration": 932,
    "start_time": "2025-01-08T11:20:05.939Z"
   },
   {
    "duration": 13,
    "start_time": "2025-01-08T11:20:06.874Z"
   },
   {
    "duration": 9,
    "start_time": "2025-01-08T11:20:06.889Z"
   },
   {
    "duration": 22,
    "start_time": "2025-01-08T11:20:06.901Z"
   },
   {
    "duration": 7,
    "start_time": "2025-01-08T11:20:06.926Z"
   },
   {
    "duration": 39,
    "start_time": "2025-01-08T11:20:06.936Z"
   },
   {
    "duration": 99,
    "start_time": "2025-01-08T11:20:06.976Z"
   },
   {
    "duration": 12,
    "start_time": "2025-01-08T11:20:07.079Z"
   },
   {
    "duration": 8,
    "start_time": "2025-01-08T11:20:07.093Z"
   },
   {
    "duration": 6,
    "start_time": "2025-01-08T11:20:07.103Z"
   },
   {
    "duration": 12,
    "start_time": "2025-01-08T11:20:07.111Z"
   },
   {
    "duration": 10,
    "start_time": "2025-01-08T11:20:07.125Z"
   },
   {
    "duration": 134,
    "start_time": "2025-01-08T11:20:07.138Z"
   },
   {
    "duration": 11,
    "start_time": "2025-01-08T11:20:07.274Z"
   },
   {
    "duration": 42,
    "start_time": "2025-01-08T11:20:07.286Z"
   },
   {
    "duration": 10,
    "start_time": "2025-01-08T11:20:07.330Z"
   },
   {
    "duration": 29,
    "start_time": "2025-01-08T11:20:07.341Z"
   },
   {
    "duration": 14,
    "start_time": "2025-01-08T11:20:07.372Z"
   },
   {
    "duration": 5,
    "start_time": "2025-01-08T11:20:07.387Z"
   },
   {
    "duration": 6,
    "start_time": "2025-01-08T11:20:07.393Z"
   },
   {
    "duration": 19,
    "start_time": "2025-01-08T11:20:07.400Z"
   },
   {
    "duration": 50,
    "start_time": "2025-01-08T11:20:07.421Z"
   },
   {
    "duration": 23,
    "start_time": "2025-01-08T11:20:07.472Z"
   },
   {
    "duration": 17,
    "start_time": "2025-01-08T11:20:07.497Z"
   },
   {
    "duration": 8,
    "start_time": "2025-01-08T11:20:07.516Z"
   },
   {
    "duration": 6,
    "start_time": "2025-01-08T11:20:07.525Z"
   },
   {
    "duration": 37,
    "start_time": "2025-01-08T11:20:07.533Z"
   },
   {
    "duration": 8,
    "start_time": "2025-01-08T11:20:07.572Z"
   },
   {
    "duration": 6,
    "start_time": "2025-01-08T11:20:07.582Z"
   },
   {
    "duration": 5,
    "start_time": "2025-01-08T11:20:07.590Z"
   },
   {
    "duration": 21,
    "start_time": "2025-01-08T11:20:07.596Z"
   },
   {
    "duration": 769,
    "start_time": "2025-01-08T11:20:07.619Z"
   },
   {
    "duration": 304,
    "start_time": "2025-01-08T11:20:08.391Z"
   },
   {
    "duration": 178,
    "start_time": "2025-01-08T11:20:08.696Z"
   },
   {
    "duration": 9,
    "start_time": "2025-01-08T11:20:08.876Z"
   },
   {
    "duration": 5,
    "start_time": "2025-01-08T11:20:08.887Z"
   },
   {
    "duration": 11,
    "start_time": "2025-01-08T11:20:08.894Z"
   },
   {
    "duration": 10,
    "start_time": "2025-01-08T11:20:08.906Z"
   },
   {
    "duration": 5,
    "start_time": "2025-01-08T11:20:08.918Z"
   },
   {
    "duration": 46,
    "start_time": "2025-01-08T11:20:08.928Z"
   },
   {
    "duration": 10,
    "start_time": "2025-01-08T11:20:08.976Z"
   },
   {
    "duration": 14,
    "start_time": "2025-01-08T11:20:08.988Z"
   },
   {
    "duration": 11,
    "start_time": "2025-01-08T11:20:09.004Z"
   },
   {
    "duration": 6,
    "start_time": "2025-01-08T11:20:09.016Z"
   },
   {
    "duration": 62,
    "start_time": "2025-01-08T11:20:09.024Z"
   },
   {
    "duration": 20,
    "start_time": "2025-01-08T11:20:09.088Z"
   },
   {
    "duration": 23,
    "start_time": "2025-01-08T11:20:09.110Z"
   },
   {
    "duration": 49,
    "start_time": "2025-01-08T11:20:09.135Z"
   },
   {
    "duration": 6,
    "start_time": "2025-01-08T11:20:09.186Z"
   },
   {
    "duration": 25,
    "start_time": "2025-01-08T11:20:09.194Z"
   },
   {
    "duration": 7,
    "start_time": "2025-01-08T11:20:09.221Z"
   },
   {
    "duration": 44,
    "start_time": "2025-01-08T11:20:09.230Z"
   },
   {
    "duration": 33,
    "start_time": "2025-01-08T11:20:09.276Z"
   },
   {
    "duration": 30,
    "start_time": "2025-01-08T11:20:09.311Z"
   },
   {
    "duration": 27,
    "start_time": "2025-01-08T11:20:09.343Z"
   },
   {
    "duration": 7,
    "start_time": "2025-01-08T11:20:09.371Z"
   },
   {
    "duration": 11,
    "start_time": "2025-01-08T11:20:09.380Z"
   },
   {
    "duration": 137,
    "start_time": "2025-01-08T11:20:09.393Z"
   },
   {
    "duration": 13,
    "start_time": "2025-01-08T11:20:09.532Z"
   },
   {
    "duration": 132,
    "start_time": "2025-01-08T11:20:09.546Z"
   },
   {
    "duration": 13,
    "start_time": "2025-01-08T11:20:09.679Z"
   },
   {
    "duration": 177,
    "start_time": "2025-01-08T11:20:09.694Z"
   },
   {
    "duration": 6,
    "start_time": "2025-01-08T11:20:09.873Z"
   },
   {
    "duration": 6,
    "start_time": "2025-01-08T11:20:09.880Z"
   },
   {
    "duration": 183,
    "start_time": "2025-01-08T11:20:09.888Z"
   },
   {
    "duration": 4,
    "start_time": "2025-01-08T11:20:10.072Z"
   },
   {
    "duration": 155,
    "start_time": "2025-01-08T11:20:10.078Z"
   },
   {
    "duration": 183,
    "start_time": "2025-01-08T11:20:10.235Z"
   },
   {
    "duration": 13,
    "start_time": "2025-01-08T11:20:10.420Z"
   },
   {
    "duration": 337,
    "start_time": "2025-01-08T11:20:10.434Z"
   },
   {
    "duration": 156,
    "start_time": "2025-01-08T11:20:10.772Z"
   },
   {
    "duration": 41,
    "start_time": "2025-01-08T11:20:10.930Z"
   },
   {
    "duration": 137,
    "start_time": "2025-01-08T11:20:10.973Z"
   },
   {
    "duration": 13,
    "start_time": "2025-01-08T11:20:11.112Z"
   },
   {
    "duration": 145,
    "start_time": "2025-01-08T11:20:11.127Z"
   },
   {
    "duration": 74,
    "start_time": "2025-01-08T11:20:11.274Z"
   },
   {
    "duration": 58,
    "start_time": "2025-01-08T11:20:11.350Z"
   },
   {
    "duration": 1719,
    "start_time": "2025-01-08T11:20:11.409Z"
   },
   {
    "duration": 850,
    "start_time": "2025-01-08T11:20:13.129Z"
   },
   {
    "duration": 216,
    "start_time": "2025-01-08T11:20:13.981Z"
   },
   {
    "duration": 33,
    "start_time": "2025-01-08T11:20:14.199Z"
   },
   {
    "duration": 5,
    "start_time": "2025-01-08T11:20:14.233Z"
   },
   {
    "duration": 0,
    "start_time": "2025-01-08T11:20:14.240Z"
   },
   {
    "duration": 0,
    "start_time": "2025-01-08T11:20:14.241Z"
   },
   {
    "duration": 38,
    "start_time": "2025-01-08T11:20:59.457Z"
   },
   {
    "duration": 13,
    "start_time": "2025-01-08T11:21:00.851Z"
   }
  ],
  "kernelspec": {
   "display_name": "Python 3 (ipykernel)",
   "language": "python",
   "name": "python3"
  },
  "language_info": {
   "codemirror_mode": {
    "name": "ipython",
    "version": 3
   },
   "file_extension": ".py",
   "mimetype": "text/x-python",
   "name": "python",
   "nbconvert_exporter": "python",
   "pygments_lexer": "ipython3",
   "version": "3.9.19"
  },
  "toc": {
   "base_numbering": 1,
   "nav_menu": {},
   "number_sections": true,
   "sideBar": true,
   "skip_h1_title": true,
   "title_cell": "Table of Contents",
   "title_sidebar": "Contents",
   "toc_cell": false,
   "toc_position": {
    "height": "calc(100% - 180px)",
    "left": "10px",
    "top": "150px",
    "width": "484.797px"
   },
   "toc_section_display": true,
   "toc_window_display": true
  },
  "vscode": {
   "interpreter": {
    "hash": "01a7be9ec63e704a62cefc5fe7a4756944464ee731be31632bdf42a4cb4688cf"
   }
  }
 },
 "nbformat": 4,
 "nbformat_minor": 5
}
