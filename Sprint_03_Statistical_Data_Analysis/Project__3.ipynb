{
 "cells": [
  {
   "cell_type": "markdown",
   "metadata": {},
   "source": [
    "# Which one is a better plan?\n",
    "\n",
    "You work as an analyst for the telecom operator Megaline. The company offers its clients two prepaid plans, Surf and Ultimate. The commercial department wants to know which of the plans brings in more revenue in order to adjust the advertising budget.\n",
    "\n",
    "You are going to carry out a preliminary analysis of the plans based on a relatively small client selection. You'll have the data on 500 Megaline clients: who the clients are, where they're from, which plan they use, and the number of calls they made and text messages they sent in 2018. Your job is to analyze the clients' behavior and determine which prepaid plan brings in more revenue."
   ]
  },
  {
   "cell_type": "markdown",
   "metadata": {},
   "source": [
    "[We've provided you with some commentary to guide your thinking as you complete this project. However, make sure to remove all the bracketed comments before submitting your project.]\n",
    "\n",
    "[Before you dive into analyzing your data, explain for yourself the purpose of the project and actions you plan to take.]\n",
    "\n",
    "[Please bear in mind that studying, amending, and analyzing data is an iterative process. It is normal to return to previous steps and correct/expand them to allow for further steps.]"
   ]
  },
  {
   "cell_type": "markdown",
   "metadata": {},
   "source": [
    "# Surf and Ultimate prepaid plan, which one is a better plan?\n",
    "\n",
    "In this project, I will work with data from Megaline, a telecom operator. This project is intended to apply the knowledge and skills I've learned in this project and do a real-life analytical study. This project consists of 3 stages:\n",
    "\n",
    "Data overview\n",
    "Data preprocessing\n",
    "Data analysis\n",
    "First, I will evaluate the quality of the data and see if there are any issues with it, such as duplicates, missing values, and/or unfitting data types. Then I'll try to address these issues and see if some of the 'inappropriate' data/values are worth keeping or better off dropped. I will also try to add additional information to the dataframe should it be required. Lastly, once the data is in good condition, I will perform the analysis required \n",
    "I'll be working as an analyst for the telecom operator Megaline. The company offers its clients two prepaid plans, Surf and Ultimate. The commercial department wants to know which of the plans brings in more revenue in order to adjust the advertising budget.\n",
    "\n",
    "I'm going to carry out a preliminary analysis of the plans based on a relatively small client selection. I'm provided with the data on 500 Megaline clients: who the clients are, where they're from, which plan they use, and the number of calls they made and text messages they sent in 2018. I'll analyze the clients' behavior and determine which prepaid plan brings in more revenue."
   ]
  },
  {
   "cell_type": "markdown",
   "metadata": {},
   "source": [
    "# Introduction\n",
    "\n",
    "In this project, I will work with data from Megaline, a telecom operator. This project is intended to apply the knowledge and skills I've learned in this project and do a real-life analytical study. This project consists of 3 stages:\n",
    "\n",
    "1. Data overview\n",
    "2. Data preprocessing\n",
    "3. Data analysis\n",
    "\n",
    "First, I will evaluate the quality of the data and see if there are any issues with it, such as duplicates, missing values, and/or unfitting data types. Then I'll try to address these issues and see if some of the 'inappropriate' data/values are worth keeping or better off dropped. I will also try to add additional information to the dataframe should it be required. Lastly, once the data is in good condition, I will perform the analysis required."
   ]
  },
  {
   "cell_type": "markdown",
   "metadata": {},
   "source": [
    "## Initialization"
   ]
  },
  {
   "cell_type": "code",
   "execution_count": 1,
   "metadata": {
    "trusted": true
   },
   "outputs": [],
   "source": [
    "# Loading all the libraries\n",
    "\n",
    "import pandas as pd\n",
    "import numpy as np\n",
    "import matplotlib.pyplot as plt\n",
    "import math\n",
    "import datetime\n",
    "import seaborn as sns \n",
    "from scipy import stats as st"
   ]
  },
  {
   "cell_type": "markdown",
   "metadata": {},
   "source": [
    "## Load data"
   ]
  },
  {
   "cell_type": "code",
   "execution_count": 2,
   "metadata": {
    "trusted": true
   },
   "outputs": [],
   "source": [
    "# Load the data files into different DataFrames\n",
    "\n",
    "calls = pd.read_csv('/datasets/megaline_calls.csv')\n",
    "internet = pd.read_csv('/datasets/megaline_internet.csv')\n",
    "messages = pd.read_csv('/datasets/megaline_messages.csv')\n",
    "plans = pd.read_csv('/datasets/megaline_plans.csv')\n",
    "users = pd.read_csv('/datasets/megaline_users.csv')"
   ]
  },
  {
   "cell_type": "markdown",
   "metadata": {},
   "source": [
    "## Prepare the data"
   ]
  },
  {
   "cell_type": "markdown",
   "metadata": {},
   "source": [
    "\n",
    "Preparing the data and processing the dataframes to make sure everything is in good condition is very vital in conducting a proper analysis, which I will do here."
   ]
  },
  {
   "cell_type": "markdown",
   "metadata": {},
   "source": [
    "[The data for this project is split into several tables. Explore each one to get an initial understanding of the data. Do necessary corrections to each table if necessary.]"
   ]
  },
  {
   "cell_type": "markdown",
   "metadata": {},
   "source": [
    "## Plans"
   ]
  },
  {
   "cell_type": "code",
   "execution_count": 3,
   "metadata": {
    "trusted": true
   },
   "outputs": [
    {
     "name": "stdout",
     "output_type": "stream",
     "text": [
      "<class 'pandas.core.frame.DataFrame'>\n",
      "RangeIndex: 2 entries, 0 to 1\n",
      "Data columns (total 8 columns):\n",
      " #   Column                 Non-Null Count  Dtype  \n",
      "---  ------                 --------------  -----  \n",
      " 0   messages_included      2 non-null      int64  \n",
      " 1   mb_per_month_included  2 non-null      int64  \n",
      " 2   minutes_included       2 non-null      int64  \n",
      " 3   usd_monthly_pay        2 non-null      int64  \n",
      " 4   usd_per_gb             2 non-null      int64  \n",
      " 5   usd_per_message        2 non-null      float64\n",
      " 6   usd_per_minute         2 non-null      float64\n",
      " 7   plan_name              2 non-null      object \n",
      "dtypes: float64(2), int64(5), object(1)\n",
      "memory usage: 256.0+ bytes\n"
     ]
    }
   ],
   "source": [
    "# Print the general/summary information about the users' DataFrame\n",
    "\n",
    "plans.info()"
   ]
  },
  {
   "cell_type": "code",
   "execution_count": 4,
   "metadata": {
    "trusted": true
   },
   "outputs": [
    {
     "data": {
      "text/html": [
       "<div>\n",
       "<style scoped>\n",
       "    .dataframe tbody tr th:only-of-type {\n",
       "        vertical-align: middle;\n",
       "    }\n",
       "\n",
       "    .dataframe tbody tr th {\n",
       "        vertical-align: top;\n",
       "    }\n",
       "\n",
       "    .dataframe thead th {\n",
       "        text-align: right;\n",
       "    }\n",
       "</style>\n",
       "<table border=\"1\" class=\"dataframe\">\n",
       "  <thead>\n",
       "    <tr style=\"text-align: right;\">\n",
       "      <th></th>\n",
       "      <th>messages_included</th>\n",
       "      <th>mb_per_month_included</th>\n",
       "      <th>minutes_included</th>\n",
       "      <th>usd_monthly_pay</th>\n",
       "      <th>usd_per_gb</th>\n",
       "      <th>usd_per_message</th>\n",
       "      <th>usd_per_minute</th>\n",
       "      <th>plan_name</th>\n",
       "    </tr>\n",
       "  </thead>\n",
       "  <tbody>\n",
       "    <tr>\n",
       "      <th>0</th>\n",
       "      <td>50</td>\n",
       "      <td>15360</td>\n",
       "      <td>500</td>\n",
       "      <td>20</td>\n",
       "      <td>10</td>\n",
       "      <td>0.03</td>\n",
       "      <td>0.03</td>\n",
       "      <td>surf</td>\n",
       "    </tr>\n",
       "    <tr>\n",
       "      <th>1</th>\n",
       "      <td>1000</td>\n",
       "      <td>30720</td>\n",
       "      <td>3000</td>\n",
       "      <td>70</td>\n",
       "      <td>7</td>\n",
       "      <td>0.01</td>\n",
       "      <td>0.01</td>\n",
       "      <td>ultimate</td>\n",
       "    </tr>\n",
       "  </tbody>\n",
       "</table>\n",
       "</div>"
      ],
      "text/plain": [
       "   messages_included  mb_per_month_included  minutes_included  \\\n",
       "0                 50                  15360               500   \n",
       "1               1000                  30720              3000   \n",
       "\n",
       "   usd_monthly_pay  usd_per_gb  usd_per_message  usd_per_minute plan_name  \n",
       "0               20          10             0.03            0.03      surf  \n",
       "1               70           7             0.01            0.01  ultimate  "
      ]
     },
     "execution_count": 4,
     "metadata": {},
     "output_type": "execute_result"
    }
   ],
   "source": [
    "# Print a sample of data for plans\n",
    "\n",
    "plans.head()"
   ]
  },
  {
   "cell_type": "markdown",
   "metadata": {},
   "source": [
    "This dataframe shows the plan offered by Megaline. There only seems to be 2 entries on the plans dataframe. The data itself looks pretty clean, but with there being more columns than rows, I'm thinking of turning it around and set the plan names as the columns and the columns as indexes for better readability.\n",
    "\n"
   ]
  },
  {
   "cell_type": "markdown",
   "metadata": {},
   "source": [
    "[Describe what you see and notice in the general information and the printed data sample for the above price of data. Are there any issues (inappropriate data types, missing data etc) that may need further investigation and changes? How that can be fixed?]"
   ]
  },
  {
   "cell_type": "markdown",
   "metadata": {},
   "source": [
    "## Fix data"
   ]
  },
  {
   "cell_type": "markdown",
   "metadata": {},
   "source": [
    "[Fix obvious issues with the data given the initial observations.]"
   ]
  },
  {
   "cell_type": "code",
   "execution_count": 5,
   "metadata": {
    "trusted": true
   },
   "outputs": [
    {
     "data": {
      "text/html": [
       "<div>\n",
       "<style scoped>\n",
       "    .dataframe tbody tr th:only-of-type {\n",
       "        vertical-align: middle;\n",
       "    }\n",
       "\n",
       "    .dataframe tbody tr th {\n",
       "        vertical-align: top;\n",
       "    }\n",
       "\n",
       "    .dataframe thead th {\n",
       "        text-align: right;\n",
       "    }\n",
       "</style>\n",
       "<table border=\"1\" class=\"dataframe\">\n",
       "  <thead>\n",
       "    <tr style=\"text-align: right;\">\n",
       "      <th>plan_name</th>\n",
       "      <th>surf</th>\n",
       "      <th>ultimate</th>\n",
       "    </tr>\n",
       "  </thead>\n",
       "  <tbody>\n",
       "    <tr>\n",
       "      <th>mb_per_month_included</th>\n",
       "      <td>15360.00</td>\n",
       "      <td>30720.00</td>\n",
       "    </tr>\n",
       "    <tr>\n",
       "      <th>messages_included</th>\n",
       "      <td>50.00</td>\n",
       "      <td>1000.00</td>\n",
       "    </tr>\n",
       "    <tr>\n",
       "      <th>minutes_included</th>\n",
       "      <td>500.00</td>\n",
       "      <td>3000.00</td>\n",
       "    </tr>\n",
       "    <tr>\n",
       "      <th>usd_monthly_pay</th>\n",
       "      <td>20.00</td>\n",
       "      <td>70.00</td>\n",
       "    </tr>\n",
       "    <tr>\n",
       "      <th>usd_per_gb</th>\n",
       "      <td>10.00</td>\n",
       "      <td>7.00</td>\n",
       "    </tr>\n",
       "    <tr>\n",
       "      <th>usd_per_message</th>\n",
       "      <td>0.03</td>\n",
       "      <td>0.01</td>\n",
       "    </tr>\n",
       "    <tr>\n",
       "      <th>usd_per_minute</th>\n",
       "      <td>0.03</td>\n",
       "      <td>0.01</td>\n",
       "    </tr>\n",
       "  </tbody>\n",
       "</table>\n",
       "</div>"
      ],
      "text/plain": [
       "plan_name                  surf  ultimate\n",
       "mb_per_month_included  15360.00  30720.00\n",
       "messages_included         50.00   1000.00\n",
       "minutes_included         500.00   3000.00\n",
       "usd_monthly_pay           20.00     70.00\n",
       "usd_per_gb                10.00      7.00\n",
       "usd_per_message            0.03      0.01\n",
       "usd_per_minute             0.03      0.01"
      ]
     },
     "execution_count": 5,
     "metadata": {},
     "output_type": "execute_result"
    }
   ],
   "source": [
    "plans_pivoted = plans.pivot_table(columns='plan_name')\n",
    "plans_pivoted"
   ]
  },
  {
   "cell_type": "markdown",
   "metadata": {},
   "source": [
    "## Enrich data"
   ]
  },
  {
   "cell_type": "markdown",
   "metadata": {},
   "source": [
    "I don't think there's a necessary metric that I need to add to this dataframe as it seems very straightforward in all its values."
   ]
  },
  {
   "cell_type": "markdown",
   "metadata": {},
   "source": [
    "[Add additional factors to the data if you believe they might be useful.]"
   ]
  },
  {
   "cell_type": "markdown",
   "metadata": {},
   "source": [
    "## Users"
   ]
  },
  {
   "cell_type": "code",
   "execution_count": 6,
   "metadata": {
    "trusted": true
   },
   "outputs": [
    {
     "name": "stdout",
     "output_type": "stream",
     "text": [
      "<class 'pandas.core.frame.DataFrame'>\n",
      "RangeIndex: 500 entries, 0 to 499\n",
      "Data columns (total 8 columns):\n",
      " #   Column      Non-Null Count  Dtype \n",
      "---  ------      --------------  ----- \n",
      " 0   user_id     500 non-null    int64 \n",
      " 1   first_name  500 non-null    object\n",
      " 2   last_name   500 non-null    object\n",
      " 3   age         500 non-null    int64 \n",
      " 4   city        500 non-null    object\n",
      " 5   reg_date    500 non-null    object\n",
      " 6   plan        500 non-null    object\n",
      " 7   churn_date  34 non-null     object\n",
      "dtypes: int64(2), object(6)\n",
      "memory usage: 31.4+ KB\n"
     ]
    }
   ],
   "source": [
    "# Print the general/summary information about the users' DataFrame\n",
    "\n",
    "users.info()"
   ]
  },
  {
   "cell_type": "code",
   "execution_count": 7,
   "metadata": {
    "trusted": true
   },
   "outputs": [
    {
     "data": {
      "text/html": [
       "<div>\n",
       "<style scoped>\n",
       "    .dataframe tbody tr th:only-of-type {\n",
       "        vertical-align: middle;\n",
       "    }\n",
       "\n",
       "    .dataframe tbody tr th {\n",
       "        vertical-align: top;\n",
       "    }\n",
       "\n",
       "    .dataframe thead th {\n",
       "        text-align: right;\n",
       "    }\n",
       "</style>\n",
       "<table border=\"1\" class=\"dataframe\">\n",
       "  <thead>\n",
       "    <tr style=\"text-align: right;\">\n",
       "      <th></th>\n",
       "      <th>user_id</th>\n",
       "      <th>first_name</th>\n",
       "      <th>last_name</th>\n",
       "      <th>age</th>\n",
       "      <th>city</th>\n",
       "      <th>reg_date</th>\n",
       "      <th>plan</th>\n",
       "      <th>churn_date</th>\n",
       "    </tr>\n",
       "  </thead>\n",
       "  <tbody>\n",
       "    <tr>\n",
       "      <th>0</th>\n",
       "      <td>1000</td>\n",
       "      <td>Anamaria</td>\n",
       "      <td>Bauer</td>\n",
       "      <td>45</td>\n",
       "      <td>Atlanta-Sandy Springs-Roswell, GA MSA</td>\n",
       "      <td>2018-12-24</td>\n",
       "      <td>ultimate</td>\n",
       "      <td>NaN</td>\n",
       "    </tr>\n",
       "    <tr>\n",
       "      <th>1</th>\n",
       "      <td>1001</td>\n",
       "      <td>Mickey</td>\n",
       "      <td>Wilkerson</td>\n",
       "      <td>28</td>\n",
       "      <td>Seattle-Tacoma-Bellevue, WA MSA</td>\n",
       "      <td>2018-08-13</td>\n",
       "      <td>surf</td>\n",
       "      <td>NaN</td>\n",
       "    </tr>\n",
       "    <tr>\n",
       "      <th>2</th>\n",
       "      <td>1002</td>\n",
       "      <td>Carlee</td>\n",
       "      <td>Hoffman</td>\n",
       "      <td>36</td>\n",
       "      <td>Las Vegas-Henderson-Paradise, NV MSA</td>\n",
       "      <td>2018-10-21</td>\n",
       "      <td>surf</td>\n",
       "      <td>NaN</td>\n",
       "    </tr>\n",
       "    <tr>\n",
       "      <th>3</th>\n",
       "      <td>1003</td>\n",
       "      <td>Reynaldo</td>\n",
       "      <td>Jenkins</td>\n",
       "      <td>52</td>\n",
       "      <td>Tulsa, OK MSA</td>\n",
       "      <td>2018-01-28</td>\n",
       "      <td>surf</td>\n",
       "      <td>NaN</td>\n",
       "    </tr>\n",
       "    <tr>\n",
       "      <th>4</th>\n",
       "      <td>1004</td>\n",
       "      <td>Leonila</td>\n",
       "      <td>Thompson</td>\n",
       "      <td>40</td>\n",
       "      <td>Seattle-Tacoma-Bellevue, WA MSA</td>\n",
       "      <td>2018-05-23</td>\n",
       "      <td>surf</td>\n",
       "      <td>NaN</td>\n",
       "    </tr>\n",
       "    <tr>\n",
       "      <th>5</th>\n",
       "      <td>1005</td>\n",
       "      <td>Livia</td>\n",
       "      <td>Shields</td>\n",
       "      <td>31</td>\n",
       "      <td>Dallas-Fort Worth-Arlington, TX MSA</td>\n",
       "      <td>2018-11-29</td>\n",
       "      <td>surf</td>\n",
       "      <td>NaN</td>\n",
       "    </tr>\n",
       "    <tr>\n",
       "      <th>6</th>\n",
       "      <td>1006</td>\n",
       "      <td>Jesusa</td>\n",
       "      <td>Bradford</td>\n",
       "      <td>73</td>\n",
       "      <td>San Francisco-Oakland-Berkeley, CA MSA</td>\n",
       "      <td>2018-11-27</td>\n",
       "      <td>ultimate</td>\n",
       "      <td>2018-12-18</td>\n",
       "    </tr>\n",
       "    <tr>\n",
       "      <th>7</th>\n",
       "      <td>1007</td>\n",
       "      <td>Eusebio</td>\n",
       "      <td>Welch</td>\n",
       "      <td>42</td>\n",
       "      <td>Grand Rapids-Kentwood, MI MSA</td>\n",
       "      <td>2018-07-11</td>\n",
       "      <td>surf</td>\n",
       "      <td>NaN</td>\n",
       "    </tr>\n",
       "    <tr>\n",
       "      <th>8</th>\n",
       "      <td>1008</td>\n",
       "      <td>Emely</td>\n",
       "      <td>Hoffman</td>\n",
       "      <td>53</td>\n",
       "      <td>Orlando-Kissimmee-Sanford, FL MSA</td>\n",
       "      <td>2018-08-03</td>\n",
       "      <td>ultimate</td>\n",
       "      <td>NaN</td>\n",
       "    </tr>\n",
       "    <tr>\n",
       "      <th>9</th>\n",
       "      <td>1009</td>\n",
       "      <td>Gerry</td>\n",
       "      <td>Little</td>\n",
       "      <td>19</td>\n",
       "      <td>San Jose-Sunnyvale-Santa Clara, CA MSA</td>\n",
       "      <td>2018-04-22</td>\n",
       "      <td>surf</td>\n",
       "      <td>NaN</td>\n",
       "    </tr>\n",
       "  </tbody>\n",
       "</table>\n",
       "</div>"
      ],
      "text/plain": [
       "   user_id first_name  last_name  age                                    city  \\\n",
       "0     1000   Anamaria      Bauer   45   Atlanta-Sandy Springs-Roswell, GA MSA   \n",
       "1     1001     Mickey  Wilkerson   28         Seattle-Tacoma-Bellevue, WA MSA   \n",
       "2     1002     Carlee    Hoffman   36    Las Vegas-Henderson-Paradise, NV MSA   \n",
       "3     1003   Reynaldo    Jenkins   52                           Tulsa, OK MSA   \n",
       "4     1004    Leonila   Thompson   40         Seattle-Tacoma-Bellevue, WA MSA   \n",
       "5     1005      Livia    Shields   31     Dallas-Fort Worth-Arlington, TX MSA   \n",
       "6     1006     Jesusa   Bradford   73  San Francisco-Oakland-Berkeley, CA MSA   \n",
       "7     1007    Eusebio      Welch   42           Grand Rapids-Kentwood, MI MSA   \n",
       "8     1008      Emely    Hoffman   53       Orlando-Kissimmee-Sanford, FL MSA   \n",
       "9     1009      Gerry     Little   19  San Jose-Sunnyvale-Santa Clara, CA MSA   \n",
       "\n",
       "     reg_date      plan  churn_date  \n",
       "0  2018-12-24  ultimate         NaN  \n",
       "1  2018-08-13      surf         NaN  \n",
       "2  2018-10-21      surf         NaN  \n",
       "3  2018-01-28      surf         NaN  \n",
       "4  2018-05-23      surf         NaN  \n",
       "5  2018-11-29      surf         NaN  \n",
       "6  2018-11-27  ultimate  2018-12-18  \n",
       "7  2018-07-11      surf         NaN  \n",
       "8  2018-08-03  ultimate         NaN  \n",
       "9  2018-04-22      surf         NaN  "
      ]
     },
     "execution_count": 7,
     "metadata": {},
     "output_type": "execute_result"
    }
   ],
   "source": [
    "# Print a sample of data for users\n",
    "\n",
    "users.head(10)"
   ]
  },
  {
   "cell_type": "markdown",
   "metadata": {},
   "source": [
    "This dataframe shows the details of each user, including their domicile as well as their plans. The users data seems clean, with only some columns whose data types need changing, as well as some missing values on the churn dates."
   ]
  },
  {
   "cell_type": "markdown",
   "metadata": {},
   "source": [
    "[Describe what you see and notice in the general information and the printed data sample for the above price of data. Are there any issues (inappropriate data types, missing data etc) that may need further investigation and changes? How that can be fixed?]"
   ]
  },
  {
   "cell_type": "markdown",
   "metadata": {},
   "source": [
    " "
   ]
  },
  {
   "cell_type": "markdown",
   "metadata": {},
   "source": [
    "### Fix Data"
   ]
  },
  {
   "cell_type": "markdown",
   "metadata": {},
   "source": [
    "[Fix obvious issues with the data given the initial observations.]"
   ]
  },
  {
   "cell_type": "code",
   "execution_count": 8,
   "metadata": {
    "trusted": true
   },
   "outputs": [
    {
     "name": "stdout",
     "output_type": "stream",
     "text": [
      "<class 'pandas.core.frame.DataFrame'>\n",
      "RangeIndex: 500 entries, 0 to 499\n",
      "Data columns (total 8 columns):\n",
      " #   Column      Non-Null Count  Dtype         \n",
      "---  ------      --------------  -----         \n",
      " 0   user_id     500 non-null    int64         \n",
      " 1   first_name  500 non-null    object        \n",
      " 2   last_name   500 non-null    object        \n",
      " 3   age         500 non-null    int64         \n",
      " 4   city        500 non-null    object        \n",
      " 5   reg_date    500 non-null    datetime64[ns]\n",
      " 6   plan        500 non-null    object        \n",
      " 7   churn_date  34 non-null     object        \n",
      "dtypes: datetime64[ns](1), int64(2), object(5)\n",
      "memory usage: 31.4+ KB\n"
     ]
    }
   ],
   "source": [
    "# Changing the column's datatype\n",
    "\n",
    "users['reg_date'] = pd.to_datetime(users['reg_date'], format='%Y-%m-%d')\n",
    "users.info()"
   ]
  },
  {
   "cell_type": "code",
   "execution_count": 9,
   "metadata": {
    "trusted": true
   },
   "outputs": [
    {
     "data": {
      "text/html": [
       "<div>\n",
       "<style scoped>\n",
       "    .dataframe tbody tr th:only-of-type {\n",
       "        vertical-align: middle;\n",
       "    }\n",
       "\n",
       "    .dataframe tbody tr th {\n",
       "        vertical-align: top;\n",
       "    }\n",
       "\n",
       "    .dataframe thead th {\n",
       "        text-align: right;\n",
       "    }\n",
       "</style>\n",
       "<table border=\"1\" class=\"dataframe\">\n",
       "  <thead>\n",
       "    <tr style=\"text-align: right;\">\n",
       "      <th></th>\n",
       "      <th>user_id</th>\n",
       "      <th>first_name</th>\n",
       "      <th>last_name</th>\n",
       "      <th>age</th>\n",
       "      <th>city</th>\n",
       "      <th>reg_date</th>\n",
       "      <th>plan</th>\n",
       "      <th>churn_date</th>\n",
       "    </tr>\n",
       "  </thead>\n",
       "  <tbody>\n",
       "    <tr>\n",
       "      <th>6</th>\n",
       "      <td>1006</td>\n",
       "      <td>Jesusa</td>\n",
       "      <td>Bradford</td>\n",
       "      <td>73</td>\n",
       "      <td>San Francisco-Oakland-Berkeley, CA MSA</td>\n",
       "      <td>2018-11-27</td>\n",
       "      <td>ultimate</td>\n",
       "      <td>2018-12-18</td>\n",
       "    </tr>\n",
       "    <tr>\n",
       "      <th>12</th>\n",
       "      <td>1012</td>\n",
       "      <td>Jonelle</td>\n",
       "      <td>Mcbride</td>\n",
       "      <td>59</td>\n",
       "      <td>Chicago-Naperville-Elgin, IL-IN-WI MSA</td>\n",
       "      <td>2018-06-28</td>\n",
       "      <td>surf</td>\n",
       "      <td>2018-11-16</td>\n",
       "    </tr>\n",
       "    <tr>\n",
       "      <th>22</th>\n",
       "      <td>1022</td>\n",
       "      <td>Bo</td>\n",
       "      <td>Snow</td>\n",
       "      <td>73</td>\n",
       "      <td>New York-Newark-Jersey City, NY-NJ-PA MSA</td>\n",
       "      <td>2018-04-20</td>\n",
       "      <td>surf</td>\n",
       "      <td>2018-09-07</td>\n",
       "    </tr>\n",
       "    <tr>\n",
       "      <th>40</th>\n",
       "      <td>1040</td>\n",
       "      <td>Paris</td>\n",
       "      <td>Santos</td>\n",
       "      <td>72</td>\n",
       "      <td>Philadelphia-Camden-Wilmington, PA-NJ-DE-MD MSA</td>\n",
       "      <td>2018-12-23</td>\n",
       "      <td>surf</td>\n",
       "      <td>2018-12-30</td>\n",
       "    </tr>\n",
       "    <tr>\n",
       "      <th>50</th>\n",
       "      <td>1050</td>\n",
       "      <td>Jone</td>\n",
       "      <td>Owen</td>\n",
       "      <td>23</td>\n",
       "      <td>Miami-Fort Lauderdale-West Palm Beach, FL MSA</td>\n",
       "      <td>2018-03-20</td>\n",
       "      <td>ultimate</td>\n",
       "      <td>2018-10-07</td>\n",
       "    </tr>\n",
       "    <tr>\n",
       "      <th>54</th>\n",
       "      <td>1054</td>\n",
       "      <td>Denis</td>\n",
       "      <td>Frost</td>\n",
       "      <td>50</td>\n",
       "      <td>Phoenix-Mesa-Chandler, AZ MSA</td>\n",
       "      <td>2018-04-21</td>\n",
       "      <td>surf</td>\n",
       "      <td>2018-12-31</td>\n",
       "    </tr>\n",
       "    <tr>\n",
       "      <th>67</th>\n",
       "      <td>1067</td>\n",
       "      <td>Robt</td>\n",
       "      <td>Allen</td>\n",
       "      <td>37</td>\n",
       "      <td>Grand Rapids-Kentwood, MI MSA</td>\n",
       "      <td>2018-09-24</td>\n",
       "      <td>surf</td>\n",
       "      <td>2018-11-24</td>\n",
       "    </tr>\n",
       "    <tr>\n",
       "      <th>83</th>\n",
       "      <td>1083</td>\n",
       "      <td>Lyndia</td>\n",
       "      <td>Acevedo</td>\n",
       "      <td>65</td>\n",
       "      <td>Los Angeles-Long Beach-Anaheim, CA MSA</td>\n",
       "      <td>2018-10-26</td>\n",
       "      <td>surf</td>\n",
       "      <td>2018-12-18</td>\n",
       "    </tr>\n",
       "    <tr>\n",
       "      <th>84</th>\n",
       "      <td>1084</td>\n",
       "      <td>Wiley</td>\n",
       "      <td>Mckinney</td>\n",
       "      <td>21</td>\n",
       "      <td>Miami-Fort Lauderdale-West Palm Beach, FL MSA</td>\n",
       "      <td>2018-06-04</td>\n",
       "      <td>surf</td>\n",
       "      <td>2018-11-11</td>\n",
       "    </tr>\n",
       "    <tr>\n",
       "      <th>94</th>\n",
       "      <td>1094</td>\n",
       "      <td>Walter</td>\n",
       "      <td>Petersen</td>\n",
       "      <td>54</td>\n",
       "      <td>Los Angeles-Long Beach-Anaheim, CA MSA</td>\n",
       "      <td>2018-10-30</td>\n",
       "      <td>surf</td>\n",
       "      <td>2018-12-12</td>\n",
       "    </tr>\n",
       "  </tbody>\n",
       "</table>\n",
       "</div>"
      ],
      "text/plain": [
       "    user_id first_name last_name  age  \\\n",
       "6      1006     Jesusa  Bradford   73   \n",
       "12     1012    Jonelle   Mcbride   59   \n",
       "22     1022         Bo      Snow   73   \n",
       "40     1040      Paris    Santos   72   \n",
       "50     1050       Jone      Owen   23   \n",
       "54     1054      Denis     Frost   50   \n",
       "67     1067       Robt     Allen   37   \n",
       "83     1083     Lyndia   Acevedo   65   \n",
       "84     1084      Wiley  Mckinney   21   \n",
       "94     1094     Walter  Petersen   54   \n",
       "\n",
       "                                               city   reg_date      plan  \\\n",
       "6            San Francisco-Oakland-Berkeley, CA MSA 2018-11-27  ultimate   \n",
       "12           Chicago-Naperville-Elgin, IL-IN-WI MSA 2018-06-28      surf   \n",
       "22        New York-Newark-Jersey City, NY-NJ-PA MSA 2018-04-20      surf   \n",
       "40  Philadelphia-Camden-Wilmington, PA-NJ-DE-MD MSA 2018-12-23      surf   \n",
       "50    Miami-Fort Lauderdale-West Palm Beach, FL MSA 2018-03-20  ultimate   \n",
       "54                    Phoenix-Mesa-Chandler, AZ MSA 2018-04-21      surf   \n",
       "67                    Grand Rapids-Kentwood, MI MSA 2018-09-24      surf   \n",
       "83           Los Angeles-Long Beach-Anaheim, CA MSA 2018-10-26      surf   \n",
       "84    Miami-Fort Lauderdale-West Palm Beach, FL MSA 2018-06-04      surf   \n",
       "94           Los Angeles-Long Beach-Anaheim, CA MSA 2018-10-30      surf   \n",
       "\n",
       "    churn_date  \n",
       "6   2018-12-18  \n",
       "12  2018-11-16  \n",
       "22  2018-09-07  \n",
       "40  2018-12-30  \n",
       "50  2018-10-07  \n",
       "54  2018-12-31  \n",
       "67  2018-11-24  \n",
       "83  2018-12-18  \n",
       "84  2018-11-11  \n",
       "94  2018-12-12  "
      ]
     },
     "execution_count": 9,
     "metadata": {},
     "output_type": "execute_result"
    }
   ],
   "source": [
    "users[~users['churn_date'].isna()].head(10)"
   ]
  },
  {
   "cell_type": "markdown",
   "metadata": {},
   "source": [
    "None of the churn dates passes 2018-12-31, and since this data is to find the revenue for 2018, it would make sense for me to fill in all empty churn dates to the end of the year as well."
   ]
  },
  {
   "cell_type": "code",
   "execution_count": 10,
   "metadata": {
    "trusted": true
   },
   "outputs": [
    {
     "data": {
      "text/html": [
       "<div>\n",
       "<style scoped>\n",
       "    .dataframe tbody tr th:only-of-type {\n",
       "        vertical-align: middle;\n",
       "    }\n",
       "\n",
       "    .dataframe tbody tr th {\n",
       "        vertical-align: top;\n",
       "    }\n",
       "\n",
       "    .dataframe thead th {\n",
       "        text-align: right;\n",
       "    }\n",
       "</style>\n",
       "<table border=\"1\" class=\"dataframe\">\n",
       "  <thead>\n",
       "    <tr style=\"text-align: right;\">\n",
       "      <th></th>\n",
       "      <th>user_id</th>\n",
       "      <th>first_name</th>\n",
       "      <th>last_name</th>\n",
       "      <th>age</th>\n",
       "      <th>city</th>\n",
       "      <th>reg_date</th>\n",
       "      <th>plan</th>\n",
       "      <th>churn_date</th>\n",
       "    </tr>\n",
       "  </thead>\n",
       "  <tbody>\n",
       "    <tr>\n",
       "      <th>0</th>\n",
       "      <td>1000</td>\n",
       "      <td>Anamaria</td>\n",
       "      <td>Bauer</td>\n",
       "      <td>45</td>\n",
       "      <td>Atlanta-Sandy Springs-Roswell, GA MSA</td>\n",
       "      <td>2018-12-24</td>\n",
       "      <td>ultimate</td>\n",
       "      <td>2018-12-31</td>\n",
       "    </tr>\n",
       "    <tr>\n",
       "      <th>1</th>\n",
       "      <td>1001</td>\n",
       "      <td>Mickey</td>\n",
       "      <td>Wilkerson</td>\n",
       "      <td>28</td>\n",
       "      <td>Seattle-Tacoma-Bellevue, WA MSA</td>\n",
       "      <td>2018-08-13</td>\n",
       "      <td>surf</td>\n",
       "      <td>2018-12-31</td>\n",
       "    </tr>\n",
       "    <tr>\n",
       "      <th>2</th>\n",
       "      <td>1002</td>\n",
       "      <td>Carlee</td>\n",
       "      <td>Hoffman</td>\n",
       "      <td>36</td>\n",
       "      <td>Las Vegas-Henderson-Paradise, NV MSA</td>\n",
       "      <td>2018-10-21</td>\n",
       "      <td>surf</td>\n",
       "      <td>2018-12-31</td>\n",
       "    </tr>\n",
       "    <tr>\n",
       "      <th>3</th>\n",
       "      <td>1003</td>\n",
       "      <td>Reynaldo</td>\n",
       "      <td>Jenkins</td>\n",
       "      <td>52</td>\n",
       "      <td>Tulsa, OK MSA</td>\n",
       "      <td>2018-01-28</td>\n",
       "      <td>surf</td>\n",
       "      <td>2018-12-31</td>\n",
       "    </tr>\n",
       "    <tr>\n",
       "      <th>4</th>\n",
       "      <td>1004</td>\n",
       "      <td>Leonila</td>\n",
       "      <td>Thompson</td>\n",
       "      <td>40</td>\n",
       "      <td>Seattle-Tacoma-Bellevue, WA MSA</td>\n",
       "      <td>2018-05-23</td>\n",
       "      <td>surf</td>\n",
       "      <td>2018-12-31</td>\n",
       "    </tr>\n",
       "    <tr>\n",
       "      <th>5</th>\n",
       "      <td>1005</td>\n",
       "      <td>Livia</td>\n",
       "      <td>Shields</td>\n",
       "      <td>31</td>\n",
       "      <td>Dallas-Fort Worth-Arlington, TX MSA</td>\n",
       "      <td>2018-11-29</td>\n",
       "      <td>surf</td>\n",
       "      <td>2018-12-31</td>\n",
       "    </tr>\n",
       "    <tr>\n",
       "      <th>6</th>\n",
       "      <td>1006</td>\n",
       "      <td>Jesusa</td>\n",
       "      <td>Bradford</td>\n",
       "      <td>73</td>\n",
       "      <td>San Francisco-Oakland-Berkeley, CA MSA</td>\n",
       "      <td>2018-11-27</td>\n",
       "      <td>ultimate</td>\n",
       "      <td>2018-12-18</td>\n",
       "    </tr>\n",
       "    <tr>\n",
       "      <th>7</th>\n",
       "      <td>1007</td>\n",
       "      <td>Eusebio</td>\n",
       "      <td>Welch</td>\n",
       "      <td>42</td>\n",
       "      <td>Grand Rapids-Kentwood, MI MSA</td>\n",
       "      <td>2018-07-11</td>\n",
       "      <td>surf</td>\n",
       "      <td>2018-12-31</td>\n",
       "    </tr>\n",
       "    <tr>\n",
       "      <th>8</th>\n",
       "      <td>1008</td>\n",
       "      <td>Emely</td>\n",
       "      <td>Hoffman</td>\n",
       "      <td>53</td>\n",
       "      <td>Orlando-Kissimmee-Sanford, FL MSA</td>\n",
       "      <td>2018-08-03</td>\n",
       "      <td>ultimate</td>\n",
       "      <td>2018-12-31</td>\n",
       "    </tr>\n",
       "    <tr>\n",
       "      <th>9</th>\n",
       "      <td>1009</td>\n",
       "      <td>Gerry</td>\n",
       "      <td>Little</td>\n",
       "      <td>19</td>\n",
       "      <td>San Jose-Sunnyvale-Santa Clara, CA MSA</td>\n",
       "      <td>2018-04-22</td>\n",
       "      <td>surf</td>\n",
       "      <td>2018-12-31</td>\n",
       "    </tr>\n",
       "  </tbody>\n",
       "</table>\n",
       "</div>"
      ],
      "text/plain": [
       "   user_id first_name  last_name  age                                    city  \\\n",
       "0     1000   Anamaria      Bauer   45   Atlanta-Sandy Springs-Roswell, GA MSA   \n",
       "1     1001     Mickey  Wilkerson   28         Seattle-Tacoma-Bellevue, WA MSA   \n",
       "2     1002     Carlee    Hoffman   36    Las Vegas-Henderson-Paradise, NV MSA   \n",
       "3     1003   Reynaldo    Jenkins   52                           Tulsa, OK MSA   \n",
       "4     1004    Leonila   Thompson   40         Seattle-Tacoma-Bellevue, WA MSA   \n",
       "5     1005      Livia    Shields   31     Dallas-Fort Worth-Arlington, TX MSA   \n",
       "6     1006     Jesusa   Bradford   73  San Francisco-Oakland-Berkeley, CA MSA   \n",
       "7     1007    Eusebio      Welch   42           Grand Rapids-Kentwood, MI MSA   \n",
       "8     1008      Emely    Hoffman   53       Orlando-Kissimmee-Sanford, FL MSA   \n",
       "9     1009      Gerry     Little   19  San Jose-Sunnyvale-Santa Clara, CA MSA   \n",
       "\n",
       "    reg_date      plan churn_date  \n",
       "0 2018-12-24  ultimate 2018-12-31  \n",
       "1 2018-08-13      surf 2018-12-31  \n",
       "2 2018-10-21      surf 2018-12-31  \n",
       "3 2018-01-28      surf 2018-12-31  \n",
       "4 2018-05-23      surf 2018-12-31  \n",
       "5 2018-11-29      surf 2018-12-31  \n",
       "6 2018-11-27  ultimate 2018-12-18  \n",
       "7 2018-07-11      surf 2018-12-31  \n",
       "8 2018-08-03  ultimate 2018-12-31  \n",
       "9 2018-04-22      surf 2018-12-31  "
      ]
     },
     "execution_count": 10,
     "metadata": {},
     "output_type": "execute_result"
    }
   ],
   "source": [
    "# Inputting the end of the year (2018-12-31) for the empty churn dates\n",
    "# As well as changing the data type of churn date to date time\n",
    "users['churn_date'] = users['churn_date'].fillna('2018-12-31')\n",
    "users['churn_date'] = pd.to_datetime(users['churn_date'],\n",
    "                                    format='%Y-%m-%d')\n",
    "users.head(10)"
   ]
  },
  {
   "cell_type": "code",
   "execution_count": 11,
   "metadata": {
    "trusted": true
   },
   "outputs": [
    {
     "data": {
      "text/plain": [
       "0"
      ]
     },
     "execution_count": 11,
     "metadata": {},
     "output_type": "execute_result"
    }
   ],
   "source": [
    "# Finding the duplicates\n",
    "\n",
    "users.duplicated().sum()\n"
   ]
  },
  {
   "cell_type": "code",
   "execution_count": 12,
   "metadata": {
    "trusted": true
   },
   "outputs": [
    {
     "data": {
      "text/plain": [
       "0"
      ]
     },
     "execution_count": 12,
     "metadata": {},
     "output_type": "execute_result"
    }
   ],
   "source": [
    "users['user_id'].duplicated().sum()"
   ]
  },
  {
   "cell_type": "code",
   "execution_count": 13,
   "metadata": {
    "trusted": true
   },
   "outputs": [
    {
     "name": "stdout",
     "output_type": "stream",
     "text": [
      "<class 'pandas.core.frame.DataFrame'>\n",
      "RangeIndex: 500 entries, 0 to 499\n",
      "Data columns (total 8 columns):\n",
      " #   Column      Non-Null Count  Dtype         \n",
      "---  ------      --------------  -----         \n",
      " 0   user_id     500 non-null    int64         \n",
      " 1   first_name  500 non-null    object        \n",
      " 2   last_name   500 non-null    object        \n",
      " 3   age         500 non-null    int64         \n",
      " 4   city        500 non-null    object        \n",
      " 5   reg_date    500 non-null    datetime64[ns]\n",
      " 6   plan        500 non-null    object        \n",
      " 7   churn_date  500 non-null    datetime64[ns]\n",
      "dtypes: datetime64[ns](2), int64(2), object(4)\n",
      "memory usage: 31.4+ KB\n"
     ]
    }
   ],
   "source": [
    "users.info()"
   ]
  },
  {
   "cell_type": "markdown",
   "metadata": {},
   "source": [
    "Now there aren't any missing values anymore, no duplicate values have been found and all the data types are correct."
   ]
  },
  {
   "cell_type": "markdown",
   "metadata": {},
   "source": [
    "### Enrich Data"
   ]
  },
  {
   "cell_type": "markdown",
   "metadata": {},
   "source": [
    "[Add additional factors to the data if you believe they might be useful.]"
   ]
  },
  {
   "cell_type": "markdown",
   "metadata": {},
   "source": [
    "I'm adding the duration of how long each user has/had subscribed to Megaline's plans. These values might prove to be useful on the project, later."
   ]
  },
  {
   "cell_type": "code",
   "execution_count": 14,
   "metadata": {
    "trusted": true
   },
   "outputs": [
    {
     "data": {
      "text/html": [
       "<div>\n",
       "<style scoped>\n",
       "    .dataframe tbody tr th:only-of-type {\n",
       "        vertical-align: middle;\n",
       "    }\n",
       "\n",
       "    .dataframe tbody tr th {\n",
       "        vertical-align: top;\n",
       "    }\n",
       "\n",
       "    .dataframe thead th {\n",
       "        text-align: right;\n",
       "    }\n",
       "</style>\n",
       "<table border=\"1\" class=\"dataframe\">\n",
       "  <thead>\n",
       "    <tr style=\"text-align: right;\">\n",
       "      <th></th>\n",
       "      <th>user_id</th>\n",
       "      <th>first_name</th>\n",
       "      <th>last_name</th>\n",
       "      <th>age</th>\n",
       "      <th>city</th>\n",
       "      <th>reg_date</th>\n",
       "      <th>plan</th>\n",
       "      <th>churn_date</th>\n",
       "      <th>duration_days</th>\n",
       "    </tr>\n",
       "  </thead>\n",
       "  <tbody>\n",
       "    <tr>\n",
       "      <th>0</th>\n",
       "      <td>1000</td>\n",
       "      <td>Anamaria</td>\n",
       "      <td>Bauer</td>\n",
       "      <td>45</td>\n",
       "      <td>Atlanta-Sandy Springs-Roswell, GA MSA</td>\n",
       "      <td>2018-12-24</td>\n",
       "      <td>ultimate</td>\n",
       "      <td>2018-12-31</td>\n",
       "      <td>7</td>\n",
       "    </tr>\n",
       "    <tr>\n",
       "      <th>1</th>\n",
       "      <td>1001</td>\n",
       "      <td>Mickey</td>\n",
       "      <td>Wilkerson</td>\n",
       "      <td>28</td>\n",
       "      <td>Seattle-Tacoma-Bellevue, WA MSA</td>\n",
       "      <td>2018-08-13</td>\n",
       "      <td>surf</td>\n",
       "      <td>2018-12-31</td>\n",
       "      <td>140</td>\n",
       "    </tr>\n",
       "    <tr>\n",
       "      <th>2</th>\n",
       "      <td>1002</td>\n",
       "      <td>Carlee</td>\n",
       "      <td>Hoffman</td>\n",
       "      <td>36</td>\n",
       "      <td>Las Vegas-Henderson-Paradise, NV MSA</td>\n",
       "      <td>2018-10-21</td>\n",
       "      <td>surf</td>\n",
       "      <td>2018-12-31</td>\n",
       "      <td>71</td>\n",
       "    </tr>\n",
       "    <tr>\n",
       "      <th>3</th>\n",
       "      <td>1003</td>\n",
       "      <td>Reynaldo</td>\n",
       "      <td>Jenkins</td>\n",
       "      <td>52</td>\n",
       "      <td>Tulsa, OK MSA</td>\n",
       "      <td>2018-01-28</td>\n",
       "      <td>surf</td>\n",
       "      <td>2018-12-31</td>\n",
       "      <td>337</td>\n",
       "    </tr>\n",
       "    <tr>\n",
       "      <th>4</th>\n",
       "      <td>1004</td>\n",
       "      <td>Leonila</td>\n",
       "      <td>Thompson</td>\n",
       "      <td>40</td>\n",
       "      <td>Seattle-Tacoma-Bellevue, WA MSA</td>\n",
       "      <td>2018-05-23</td>\n",
       "      <td>surf</td>\n",
       "      <td>2018-12-31</td>\n",
       "      <td>222</td>\n",
       "    </tr>\n",
       "    <tr>\n",
       "      <th>5</th>\n",
       "      <td>1005</td>\n",
       "      <td>Livia</td>\n",
       "      <td>Shields</td>\n",
       "      <td>31</td>\n",
       "      <td>Dallas-Fort Worth-Arlington, TX MSA</td>\n",
       "      <td>2018-11-29</td>\n",
       "      <td>surf</td>\n",
       "      <td>2018-12-31</td>\n",
       "      <td>32</td>\n",
       "    </tr>\n",
       "    <tr>\n",
       "      <th>6</th>\n",
       "      <td>1006</td>\n",
       "      <td>Jesusa</td>\n",
       "      <td>Bradford</td>\n",
       "      <td>73</td>\n",
       "      <td>San Francisco-Oakland-Berkeley, CA MSA</td>\n",
       "      <td>2018-11-27</td>\n",
       "      <td>ultimate</td>\n",
       "      <td>2018-12-18</td>\n",
       "      <td>21</td>\n",
       "    </tr>\n",
       "    <tr>\n",
       "      <th>7</th>\n",
       "      <td>1007</td>\n",
       "      <td>Eusebio</td>\n",
       "      <td>Welch</td>\n",
       "      <td>42</td>\n",
       "      <td>Grand Rapids-Kentwood, MI MSA</td>\n",
       "      <td>2018-07-11</td>\n",
       "      <td>surf</td>\n",
       "      <td>2018-12-31</td>\n",
       "      <td>173</td>\n",
       "    </tr>\n",
       "    <tr>\n",
       "      <th>8</th>\n",
       "      <td>1008</td>\n",
       "      <td>Emely</td>\n",
       "      <td>Hoffman</td>\n",
       "      <td>53</td>\n",
       "      <td>Orlando-Kissimmee-Sanford, FL MSA</td>\n",
       "      <td>2018-08-03</td>\n",
       "      <td>ultimate</td>\n",
       "      <td>2018-12-31</td>\n",
       "      <td>150</td>\n",
       "    </tr>\n",
       "    <tr>\n",
       "      <th>9</th>\n",
       "      <td>1009</td>\n",
       "      <td>Gerry</td>\n",
       "      <td>Little</td>\n",
       "      <td>19</td>\n",
       "      <td>San Jose-Sunnyvale-Santa Clara, CA MSA</td>\n",
       "      <td>2018-04-22</td>\n",
       "      <td>surf</td>\n",
       "      <td>2018-12-31</td>\n",
       "      <td>253</td>\n",
       "    </tr>\n",
       "  </tbody>\n",
       "</table>\n",
       "</div>"
      ],
      "text/plain": [
       "   user_id first_name  last_name  age                                    city  \\\n",
       "0     1000   Anamaria      Bauer   45   Atlanta-Sandy Springs-Roswell, GA MSA   \n",
       "1     1001     Mickey  Wilkerson   28         Seattle-Tacoma-Bellevue, WA MSA   \n",
       "2     1002     Carlee    Hoffman   36    Las Vegas-Henderson-Paradise, NV MSA   \n",
       "3     1003   Reynaldo    Jenkins   52                           Tulsa, OK MSA   \n",
       "4     1004    Leonila   Thompson   40         Seattle-Tacoma-Bellevue, WA MSA   \n",
       "5     1005      Livia    Shields   31     Dallas-Fort Worth-Arlington, TX MSA   \n",
       "6     1006     Jesusa   Bradford   73  San Francisco-Oakland-Berkeley, CA MSA   \n",
       "7     1007    Eusebio      Welch   42           Grand Rapids-Kentwood, MI MSA   \n",
       "8     1008      Emely    Hoffman   53       Orlando-Kissimmee-Sanford, FL MSA   \n",
       "9     1009      Gerry     Little   19  San Jose-Sunnyvale-Santa Clara, CA MSA   \n",
       "\n",
       "    reg_date      plan churn_date  duration_days  \n",
       "0 2018-12-24  ultimate 2018-12-31              7  \n",
       "1 2018-08-13      surf 2018-12-31            140  \n",
       "2 2018-10-21      surf 2018-12-31             71  \n",
       "3 2018-01-28      surf 2018-12-31            337  \n",
       "4 2018-05-23      surf 2018-12-31            222  \n",
       "5 2018-11-29      surf 2018-12-31             32  \n",
       "6 2018-11-27  ultimate 2018-12-18             21  \n",
       "7 2018-07-11      surf 2018-12-31            173  \n",
       "8 2018-08-03  ultimate 2018-12-31            150  \n",
       "9 2018-04-22      surf 2018-12-31            253  "
      ]
     },
     "execution_count": 14,
     "metadata": {},
     "output_type": "execute_result"
    }
   ],
   "source": [
    "# Getting the difference between the registered and churn dates to find the duration\n",
    "users_duration = (users['churn_date'] - users['reg_date']).dt.days\n",
    "users['duration_days'] = users_duration\n",
    "users.head(10)"
   ]
  },
  {
   "cell_type": "code",
   "execution_count": 15,
   "metadata": {
    "trusted": true
   },
   "outputs": [
    {
     "name": "stdout",
     "output_type": "stream",
     "text": [
      "<class 'pandas.core.frame.DataFrame'>\n",
      "RangeIndex: 500 entries, 0 to 499\n",
      "Data columns (total 9 columns):\n",
      " #   Column         Non-Null Count  Dtype         \n",
      "---  ------         --------------  -----         \n",
      " 0   user_id        500 non-null    int64         \n",
      " 1   first_name     500 non-null    object        \n",
      " 2   last_name      500 non-null    object        \n",
      " 3   age            500 non-null    int64         \n",
      " 4   city           500 non-null    object        \n",
      " 5   reg_date       500 non-null    datetime64[ns]\n",
      " 6   plan           500 non-null    object        \n",
      " 7   churn_date     500 non-null    datetime64[ns]\n",
      " 8   duration_days  500 non-null    int64         \n",
      "dtypes: datetime64[ns](2), int64(3), object(4)\n",
      "memory usage: 35.3+ KB\n"
     ]
    }
   ],
   "source": [
    "users.info()"
   ]
  },
  {
   "cell_type": "markdown",
   "metadata": {},
   "source": [
    "Now the data looks nicer and has additional metrics to work on if necessary."
   ]
  },
  {
   "cell_type": "markdown",
   "metadata": {},
   "source": [
    "## Calls"
   ]
  },
  {
   "cell_type": "code",
   "execution_count": 16,
   "metadata": {
    "trusted": true
   },
   "outputs": [
    {
     "name": "stdout",
     "output_type": "stream",
     "text": [
      "<class 'pandas.core.frame.DataFrame'>\n",
      "RangeIndex: 137735 entries, 0 to 137734\n",
      "Data columns (total 4 columns):\n",
      " #   Column     Non-Null Count   Dtype  \n",
      "---  ------     --------------   -----  \n",
      " 0   id         137735 non-null  object \n",
      " 1   user_id    137735 non-null  int64  \n",
      " 2   call_date  137735 non-null  object \n",
      " 3   duration   137735 non-null  float64\n",
      "dtypes: float64(1), int64(1), object(2)\n",
      "memory usage: 4.2+ MB\n"
     ]
    }
   ],
   "source": [
    "# Print the general/summary information about the calls' DataFrame\n",
    "\n",
    "calls.info()"
   ]
  },
  {
   "cell_type": "code",
   "execution_count": 17,
   "metadata": {
    "trusted": true
   },
   "outputs": [
    {
     "data": {
      "text/html": [
       "<div>\n",
       "<style scoped>\n",
       "    .dataframe tbody tr th:only-of-type {\n",
       "        vertical-align: middle;\n",
       "    }\n",
       "\n",
       "    .dataframe tbody tr th {\n",
       "        vertical-align: top;\n",
       "    }\n",
       "\n",
       "    .dataframe thead th {\n",
       "        text-align: right;\n",
       "    }\n",
       "</style>\n",
       "<table border=\"1\" class=\"dataframe\">\n",
       "  <thead>\n",
       "    <tr style=\"text-align: right;\">\n",
       "      <th></th>\n",
       "      <th>id</th>\n",
       "      <th>user_id</th>\n",
       "      <th>call_date</th>\n",
       "      <th>duration</th>\n",
       "    </tr>\n",
       "  </thead>\n",
       "  <tbody>\n",
       "    <tr>\n",
       "      <th>26367</th>\n",
       "      <td>1099_694</td>\n",
       "      <td>1099</td>\n",
       "      <td>2018-03-03</td>\n",
       "      <td>6.43</td>\n",
       "    </tr>\n",
       "    <tr>\n",
       "      <th>104850</th>\n",
       "      <td>1368_578</td>\n",
       "      <td>1368</td>\n",
       "      <td>2018-09-29</td>\n",
       "      <td>13.48</td>\n",
       "    </tr>\n",
       "    <tr>\n",
       "      <th>31541</th>\n",
       "      <td>1119_151</td>\n",
       "      <td>1119</td>\n",
       "      <td>2018-12-23</td>\n",
       "      <td>9.33</td>\n",
       "    </tr>\n",
       "    <tr>\n",
       "      <th>5908</th>\n",
       "      <td>1029_72</td>\n",
       "      <td>1029</td>\n",
       "      <td>2018-10-01</td>\n",
       "      <td>0.00</td>\n",
       "    </tr>\n",
       "    <tr>\n",
       "      <th>58873</th>\n",
       "      <td>1213_45</td>\n",
       "      <td>1213</td>\n",
       "      <td>2018-12-11</td>\n",
       "      <td>0.62</td>\n",
       "    </tr>\n",
       "    <tr>\n",
       "      <th>18691</th>\n",
       "      <td>1071_559</td>\n",
       "      <td>1071</td>\n",
       "      <td>2018-07-18</td>\n",
       "      <td>6.00</td>\n",
       "    </tr>\n",
       "    <tr>\n",
       "      <th>135892</th>\n",
       "      <td>1493_54</td>\n",
       "      <td>1493</td>\n",
       "      <td>2018-11-30</td>\n",
       "      <td>0.00</td>\n",
       "    </tr>\n",
       "    <tr>\n",
       "      <th>136322</th>\n",
       "      <td>1494_164</td>\n",
       "      <td>1494</td>\n",
       "      <td>2018-12-19</td>\n",
       "      <td>0.03</td>\n",
       "    </tr>\n",
       "    <tr>\n",
       "      <th>38961</th>\n",
       "      <td>1145_208</td>\n",
       "      <td>1145</td>\n",
       "      <td>2018-09-28</td>\n",
       "      <td>0.00</td>\n",
       "    </tr>\n",
       "    <tr>\n",
       "      <th>20757</th>\n",
       "      <td>1077_724</td>\n",
       "      <td>1077</td>\n",
       "      <td>2018-03-31</td>\n",
       "      <td>6.04</td>\n",
       "    </tr>\n",
       "  </tbody>\n",
       "</table>\n",
       "</div>"
      ],
      "text/plain": [
       "              id  user_id   call_date  duration\n",
       "26367   1099_694     1099  2018-03-03      6.43\n",
       "104850  1368_578     1368  2018-09-29     13.48\n",
       "31541   1119_151     1119  2018-12-23      9.33\n",
       "5908     1029_72     1029  2018-10-01      0.00\n",
       "58873    1213_45     1213  2018-12-11      0.62\n",
       "18691   1071_559     1071  2018-07-18      6.00\n",
       "135892   1493_54     1493  2018-11-30      0.00\n",
       "136322  1494_164     1494  2018-12-19      0.03\n",
       "38961   1145_208     1145  2018-09-28      0.00\n",
       "20757   1077_724     1077  2018-03-31      6.04"
      ]
     },
     "execution_count": 17,
     "metadata": {},
     "output_type": "execute_result"
    }
   ],
   "source": [
    "# Print a sample of data for calls\n",
    "\n",
    "calls.sample(10)"
   ]
  },
  {
   "cell_type": "markdown",
   "metadata": {},
   "source": [
    "This dataframe shows each user's duration on a call on their specific dates. The dataframe itself looks pretty clean at first glance, with no missing values. I need to convert the call-date column to its appropriate date-time data type. Megaline's plans stated that every calls will be charged to the duration rounded-up to the next minute, so it would make sense to add a column of that rounded value. I will also add a month column for easier calculations of the amount of monthly calls a user makes."
   ]
  },
  {
   "cell_type": "markdown",
   "metadata": {},
   "source": [
    "[Describe what you see and notice in the general information and the printed data sample for the above price of data. Are there any issues (inappropriate data types, missing data etc) that may need further investigation and changes? How that can be fixed?]"
   ]
  },
  {
   "cell_type": "markdown",
   "metadata": {},
   "source": [
    " "
   ]
  },
  {
   "cell_type": "markdown",
   "metadata": {},
   "source": [
    "### Fix data"
   ]
  },
  {
   "cell_type": "code",
   "execution_count": 18,
   "metadata": {
    "trusted": true
   },
   "outputs": [
    {
     "name": "stdout",
     "output_type": "stream",
     "text": [
      "<class 'pandas.core.frame.DataFrame'>\n",
      "RangeIndex: 137735 entries, 0 to 137734\n",
      "Data columns (total 4 columns):\n",
      " #   Column     Non-Null Count   Dtype         \n",
      "---  ------     --------------   -----         \n",
      " 0   id         137735 non-null  object        \n",
      " 1   user_id    137735 non-null  int64         \n",
      " 2   call_date  137735 non-null  datetime64[ns]\n",
      " 3   duration   137735 non-null  float64       \n",
      "dtypes: datetime64[ns](1), float64(1), int64(1), object(1)\n",
      "memory usage: 4.2+ MB\n"
     ]
    }
   ],
   "source": [
    "# Changing data type to its appropriate one\n",
    "\n",
    "calls['call_date'] = pd.to_datetime(calls['call_date'], format='%Y-%m-%d')\n",
    "calls.info()"
   ]
  },
  {
   "cell_type": "markdown",
   "metadata": {},
   "source": [
    "[Fix obvious issues with the data given the initial observations.]"
   ]
  },
  {
   "cell_type": "markdown",
   "metadata": {},
   "source": [
    "### Enrich data"
   ]
  },
  {
   "cell_type": "markdown",
   "metadata": {},
   "source": [
    "I am adding the rounded duration as well as the month column so I can calculate the monthly duration as well as the duration that matches the plans' terms(rounded up to the next minute)."
   ]
  },
  {
   "cell_type": "markdown",
   "metadata": {},
   "source": [
    "[Add additional factors to the data if you believe they might be useful.]"
   ]
  },
  {
   "cell_type": "code",
   "execution_count": 19,
   "metadata": {
    "trusted": true
   },
   "outputs": [],
   "source": [
    "# Rounding the durations to a new column for easier calculations\n",
    "\n",
    "calls['duration_rounded'] = calls['duration'].apply(lambda x: math.ceil(x))"
   ]
  },
  {
   "cell_type": "code",
   "execution_count": 20,
   "metadata": {
    "trusted": true
   },
   "outputs": [
    {
     "data": {
      "text/html": [
       "<div>\n",
       "<style scoped>\n",
       "    .dataframe tbody tr th:only-of-type {\n",
       "        vertical-align: middle;\n",
       "    }\n",
       "\n",
       "    .dataframe tbody tr th {\n",
       "        vertical-align: top;\n",
       "    }\n",
       "\n",
       "    .dataframe thead th {\n",
       "        text-align: right;\n",
       "    }\n",
       "</style>\n",
       "<table border=\"1\" class=\"dataframe\">\n",
       "  <thead>\n",
       "    <tr style=\"text-align: right;\">\n",
       "      <th></th>\n",
       "      <th>id</th>\n",
       "      <th>user_id</th>\n",
       "      <th>call_date</th>\n",
       "      <th>duration</th>\n",
       "      <th>duration_rounded</th>\n",
       "      <th>month</th>\n",
       "    </tr>\n",
       "  </thead>\n",
       "  <tbody>\n",
       "    <tr>\n",
       "      <th>41746</th>\n",
       "      <td>1153_558</td>\n",
       "      <td>1153</td>\n",
       "      <td>2018-09-26</td>\n",
       "      <td>0.00</td>\n",
       "      <td>0</td>\n",
       "      <td>9</td>\n",
       "    </tr>\n",
       "    <tr>\n",
       "      <th>51262</th>\n",
       "      <td>1185_300</td>\n",
       "      <td>1185</td>\n",
       "      <td>2018-03-05</td>\n",
       "      <td>5.83</td>\n",
       "      <td>6</td>\n",
       "      <td>3</td>\n",
       "    </tr>\n",
       "    <tr>\n",
       "      <th>90527</th>\n",
       "      <td>1328_157</td>\n",
       "      <td>1328</td>\n",
       "      <td>2018-06-09</td>\n",
       "      <td>11.56</td>\n",
       "      <td>12</td>\n",
       "      <td>6</td>\n",
       "    </tr>\n",
       "    <tr>\n",
       "      <th>35227</th>\n",
       "      <td>1132_642</td>\n",
       "      <td>1132</td>\n",
       "      <td>2018-10-25</td>\n",
       "      <td>0.00</td>\n",
       "      <td>0</td>\n",
       "      <td>10</td>\n",
       "    </tr>\n",
       "    <tr>\n",
       "      <th>50934</th>\n",
       "      <td>1184_62</td>\n",
       "      <td>1184</td>\n",
       "      <td>2018-12-30</td>\n",
       "      <td>4.53</td>\n",
       "      <td>5</td>\n",
       "      <td>12</td>\n",
       "    </tr>\n",
       "    <tr>\n",
       "      <th>83478</th>\n",
       "      <td>1304_58</td>\n",
       "      <td>1304</td>\n",
       "      <td>2018-11-21</td>\n",
       "      <td>7.39</td>\n",
       "      <td>8</td>\n",
       "      <td>11</td>\n",
       "    </tr>\n",
       "    <tr>\n",
       "      <th>27228</th>\n",
       "      <td>1103_18</td>\n",
       "      <td>1103</td>\n",
       "      <td>2018-12-08</td>\n",
       "      <td>0.00</td>\n",
       "      <td>0</td>\n",
       "      <td>12</td>\n",
       "    </tr>\n",
       "    <tr>\n",
       "      <th>62022</th>\n",
       "      <td>1223_186</td>\n",
       "      <td>1223</td>\n",
       "      <td>2018-10-12</td>\n",
       "      <td>0.00</td>\n",
       "      <td>0</td>\n",
       "      <td>10</td>\n",
       "    </tr>\n",
       "    <tr>\n",
       "      <th>110916</th>\n",
       "      <td>1390_365</td>\n",
       "      <td>1390</td>\n",
       "      <td>2018-12-08</td>\n",
       "      <td>18.71</td>\n",
       "      <td>19</td>\n",
       "      <td>12</td>\n",
       "    </tr>\n",
       "    <tr>\n",
       "      <th>59552</th>\n",
       "      <td>1214_621</td>\n",
       "      <td>1214</td>\n",
       "      <td>2018-10-19</td>\n",
       "      <td>0.39</td>\n",
       "      <td>1</td>\n",
       "      <td>10</td>\n",
       "    </tr>\n",
       "  </tbody>\n",
       "</table>\n",
       "</div>"
      ],
      "text/plain": [
       "              id  user_id  call_date  duration  duration_rounded  month\n",
       "41746   1153_558     1153 2018-09-26      0.00                 0      9\n",
       "51262   1185_300     1185 2018-03-05      5.83                 6      3\n",
       "90527   1328_157     1328 2018-06-09     11.56                12      6\n",
       "35227   1132_642     1132 2018-10-25      0.00                 0     10\n",
       "50934    1184_62     1184 2018-12-30      4.53                 5     12\n",
       "83478    1304_58     1304 2018-11-21      7.39                 8     11\n",
       "27228    1103_18     1103 2018-12-08      0.00                 0     12\n",
       "62022   1223_186     1223 2018-10-12      0.00                 0     10\n",
       "110916  1390_365     1390 2018-12-08     18.71                19     12\n",
       "59552   1214_621     1214 2018-10-19      0.39                 1     10"
      ]
     },
     "execution_count": 20,
     "metadata": {},
     "output_type": "execute_result"
    }
   ],
   "source": [
    "# Adding the month column\n",
    "\n",
    "calls['month'] = calls['call_date'].dt.month\n",
    "calls.sample(10)"
   ]
  },
  {
   "cell_type": "markdown",
   "metadata": {},
   "source": [
    "Now the table has a metric that corresponds to the plans so we know how to count the revenue more precisely."
   ]
  },
  {
   "cell_type": "markdown",
   "metadata": {},
   "source": [
    "## Messages"
   ]
  },
  {
   "cell_type": "code",
   "execution_count": 21,
   "metadata": {
    "trusted": true
   },
   "outputs": [
    {
     "name": "stdout",
     "output_type": "stream",
     "text": [
      "<class 'pandas.core.frame.DataFrame'>\n",
      "RangeIndex: 76051 entries, 0 to 76050\n",
      "Data columns (total 3 columns):\n",
      " #   Column        Non-Null Count  Dtype \n",
      "---  ------        --------------  ----- \n",
      " 0   id            76051 non-null  object\n",
      " 1   user_id       76051 non-null  int64 \n",
      " 2   message_date  76051 non-null  object\n",
      "dtypes: int64(1), object(2)\n",
      "memory usage: 1.7+ MB\n"
     ]
    }
   ],
   "source": [
    "# Print the general/summary information about the messages' DataFrame\n",
    "\n",
    "messages.info()\n"
   ]
  },
  {
   "cell_type": "code",
   "execution_count": 22,
   "metadata": {
    "trusted": true
   },
   "outputs": [
    {
     "data": {
      "text/html": [
       "<div>\n",
       "<style scoped>\n",
       "    .dataframe tbody tr th:only-of-type {\n",
       "        vertical-align: middle;\n",
       "    }\n",
       "\n",
       "    .dataframe tbody tr th {\n",
       "        vertical-align: top;\n",
       "    }\n",
       "\n",
       "    .dataframe thead th {\n",
       "        text-align: right;\n",
       "    }\n",
       "</style>\n",
       "<table border=\"1\" class=\"dataframe\">\n",
       "  <thead>\n",
       "    <tr style=\"text-align: right;\">\n",
       "      <th></th>\n",
       "      <th>id</th>\n",
       "      <th>user_id</th>\n",
       "      <th>message_date</th>\n",
       "    </tr>\n",
       "  </thead>\n",
       "  <tbody>\n",
       "    <tr>\n",
       "      <th>74119</th>\n",
       "      <td>1475_253</td>\n",
       "      <td>1475</td>\n",
       "      <td>2018-08-26</td>\n",
       "    </tr>\n",
       "    <tr>\n",
       "      <th>28229</th>\n",
       "      <td>1174_19</td>\n",
       "      <td>1174</td>\n",
       "      <td>2018-08-18</td>\n",
       "    </tr>\n",
       "    <tr>\n",
       "      <th>3629</th>\n",
       "      <td>1037_26</td>\n",
       "      <td>1037</td>\n",
       "      <td>2018-12-12</td>\n",
       "    </tr>\n",
       "    <tr>\n",
       "      <th>10986</th>\n",
       "      <td>1077_257</td>\n",
       "      <td>1077</td>\n",
       "      <td>2018-12-31</td>\n",
       "    </tr>\n",
       "    <tr>\n",
       "      <th>12973</th>\n",
       "      <td>1086_3</td>\n",
       "      <td>1086</td>\n",
       "      <td>2018-12-25</td>\n",
       "    </tr>\n",
       "    <tr>\n",
       "      <th>57118</th>\n",
       "      <td>1362_189</td>\n",
       "      <td>1362</td>\n",
       "      <td>2018-03-10</td>\n",
       "    </tr>\n",
       "    <tr>\n",
       "      <th>34209</th>\n",
       "      <td>1215_123</td>\n",
       "      <td>1215</td>\n",
       "      <td>2018-11-08</td>\n",
       "    </tr>\n",
       "    <tr>\n",
       "      <th>9990</th>\n",
       "      <td>1076_1</td>\n",
       "      <td>1076</td>\n",
       "      <td>2018-08-23</td>\n",
       "    </tr>\n",
       "    <tr>\n",
       "      <th>14447</th>\n",
       "      <td>1099_8</td>\n",
       "      <td>1099</td>\n",
       "      <td>2018-07-22</td>\n",
       "    </tr>\n",
       "    <tr>\n",
       "      <th>14757</th>\n",
       "      <td>1100_79</td>\n",
       "      <td>1100</td>\n",
       "      <td>2018-12-10</td>\n",
       "    </tr>\n",
       "  </tbody>\n",
       "</table>\n",
       "</div>"
      ],
      "text/plain": [
       "             id  user_id message_date\n",
       "74119  1475_253     1475   2018-08-26\n",
       "28229   1174_19     1174   2018-08-18\n",
       "3629    1037_26     1037   2018-12-12\n",
       "10986  1077_257     1077   2018-12-31\n",
       "12973    1086_3     1086   2018-12-25\n",
       "57118  1362_189     1362   2018-03-10\n",
       "34209  1215_123     1215   2018-11-08\n",
       "9990     1076_1     1076   2018-08-23\n",
       "14447    1099_8     1099   2018-07-22\n",
       "14757   1100_79     1100   2018-12-10"
      ]
     },
     "execution_count": 22,
     "metadata": {},
     "output_type": "execute_result"
    }
   ],
   "source": [
    "# Print a sample of data for messages\n",
    "\n",
    "messages.sample(10)"
   ]
  },
  {
   "cell_type": "markdown",
   "metadata": {},
   "source": [
    "[Describe what you see and notice in the general information and the printed data sample for the above price of data. Are there any issues (inappropriate data types, missing data etc) that may need further investigation and changes? How that can be fixed?]"
   ]
  },
  {
   "cell_type": "markdown",
   "metadata": {},
   "source": [
    "This dataframe seems to identify each messages sent by every person, and their corresponding dates. There doesn't seem to be any missing values, so I'll only need to change the message date column to its appropriate data type. I will also add a month column so that it will be easier to calculate the monthly count of messages for each user."
   ]
  },
  {
   "cell_type": "markdown",
   "metadata": {},
   "source": [
    "### Fix data"
   ]
  },
  {
   "cell_type": "markdown",
   "metadata": {},
   "source": [
    "[Fix obvious issues with the data given the initial observations.]"
   ]
  },
  {
   "cell_type": "code",
   "execution_count": 23,
   "metadata": {
    "trusted": true
   },
   "outputs": [
    {
     "name": "stdout",
     "output_type": "stream",
     "text": [
      "<class 'pandas.core.frame.DataFrame'>\n",
      "RangeIndex: 76051 entries, 0 to 76050\n",
      "Data columns (total 3 columns):\n",
      " #   Column        Non-Null Count  Dtype         \n",
      "---  ------        --------------  -----         \n",
      " 0   id            76051 non-null  object        \n",
      " 1   user_id       76051 non-null  int64         \n",
      " 2   message_date  76051 non-null  datetime64[ns]\n",
      "dtypes: datetime64[ns](1), int64(1), object(1)\n",
      "memory usage: 1.7+ MB\n"
     ]
    }
   ],
   "source": [
    "# Changing the column's data type\n",
    "messages['message_date'] = pd.to_datetime(\n",
    "    messages['message_date'],\n",
    "    format='%Y-%m-%d'\n",
    ")\n",
    "messages.info()"
   ]
  },
  {
   "cell_type": "markdown",
   "metadata": {},
   "source": [
    "### Enrich data"
   ]
  },
  {
   "cell_type": "markdown",
   "metadata": {},
   "source": [
    "[Add additional factors to the data if you believe they might be useful.]"
   ]
  },
  {
   "cell_type": "code",
   "execution_count": 24,
   "metadata": {
    "trusted": true
   },
   "outputs": [
    {
     "data": {
      "text/html": [
       "<div>\n",
       "<style scoped>\n",
       "    .dataframe tbody tr th:only-of-type {\n",
       "        vertical-align: middle;\n",
       "    }\n",
       "\n",
       "    .dataframe tbody tr th {\n",
       "        vertical-align: top;\n",
       "    }\n",
       "\n",
       "    .dataframe thead th {\n",
       "        text-align: right;\n",
       "    }\n",
       "</style>\n",
       "<table border=\"1\" class=\"dataframe\">\n",
       "  <thead>\n",
       "    <tr style=\"text-align: right;\">\n",
       "      <th></th>\n",
       "      <th>id</th>\n",
       "      <th>user_id</th>\n",
       "      <th>message_date</th>\n",
       "      <th>month</th>\n",
       "    </tr>\n",
       "  </thead>\n",
       "  <tbody>\n",
       "    <tr>\n",
       "      <th>68862</th>\n",
       "      <td>1446_12</td>\n",
       "      <td>1446</td>\n",
       "      <td>2018-12-19</td>\n",
       "      <td>12</td>\n",
       "    </tr>\n",
       "    <tr>\n",
       "      <th>69341</th>\n",
       "      <td>1451_38</td>\n",
       "      <td>1451</td>\n",
       "      <td>2018-09-05</td>\n",
       "      <td>9</td>\n",
       "    </tr>\n",
       "    <tr>\n",
       "      <th>48874</th>\n",
       "      <td>1326_411</td>\n",
       "      <td>1326</td>\n",
       "      <td>2018-11-23</td>\n",
       "      <td>11</td>\n",
       "    </tr>\n",
       "    <tr>\n",
       "      <th>38192</th>\n",
       "      <td>1251_244</td>\n",
       "      <td>1251</td>\n",
       "      <td>2018-05-02</td>\n",
       "      <td>5</td>\n",
       "    </tr>\n",
       "    <tr>\n",
       "      <th>39217</th>\n",
       "      <td>1255_305</td>\n",
       "      <td>1255</td>\n",
       "      <td>2018-08-08</td>\n",
       "      <td>8</td>\n",
       "    </tr>\n",
       "    <tr>\n",
       "      <th>55658</th>\n",
       "      <td>1349_571</td>\n",
       "      <td>1349</td>\n",
       "      <td>2018-10-05</td>\n",
       "      <td>10</td>\n",
       "    </tr>\n",
       "    <tr>\n",
       "      <th>46509</th>\n",
       "      <td>1316_408</td>\n",
       "      <td>1316</td>\n",
       "      <td>2018-12-17</td>\n",
       "      <td>12</td>\n",
       "    </tr>\n",
       "    <tr>\n",
       "      <th>8975</th>\n",
       "      <td>1066_148</td>\n",
       "      <td>1066</td>\n",
       "      <td>2018-11-04</td>\n",
       "      <td>11</td>\n",
       "    </tr>\n",
       "    <tr>\n",
       "      <th>33430</th>\n",
       "      <td>1211_106</td>\n",
       "      <td>1211</td>\n",
       "      <td>2018-08-26</td>\n",
       "      <td>8</td>\n",
       "    </tr>\n",
       "    <tr>\n",
       "      <th>64234</th>\n",
       "      <td>1408_359</td>\n",
       "      <td>1408</td>\n",
       "      <td>2018-12-06</td>\n",
       "      <td>12</td>\n",
       "    </tr>\n",
       "  </tbody>\n",
       "</table>\n",
       "</div>"
      ],
      "text/plain": [
       "             id  user_id message_date  month\n",
       "68862   1446_12     1446   2018-12-19     12\n",
       "69341   1451_38     1451   2018-09-05      9\n",
       "48874  1326_411     1326   2018-11-23     11\n",
       "38192  1251_244     1251   2018-05-02      5\n",
       "39217  1255_305     1255   2018-08-08      8\n",
       "55658  1349_571     1349   2018-10-05     10\n",
       "46509  1316_408     1316   2018-12-17     12\n",
       "8975   1066_148     1066   2018-11-04     11\n",
       "33430  1211_106     1211   2018-08-26      8\n",
       "64234  1408_359     1408   2018-12-06     12"
      ]
     },
     "execution_count": 24,
     "metadata": {},
     "output_type": "execute_result"
    }
   ],
   "source": [
    "# Adding in the month column for easier grouping\n",
    "messages['month'] = messages['message_date'].dt.month\n",
    "messages.sample(10)"
   ]
  },
  {
   "cell_type": "markdown",
   "metadata": {},
   "source": [
    "This column will help in finding out the count of messages sent for each user monthly."
   ]
  },
  {
   "cell_type": "markdown",
   "metadata": {},
   "source": [
    "## Internet"
   ]
  },
  {
   "cell_type": "code",
   "execution_count": 25,
   "metadata": {
    "trusted": true
   },
   "outputs": [
    {
     "name": "stdout",
     "output_type": "stream",
     "text": [
      "<class 'pandas.core.frame.DataFrame'>\n",
      "RangeIndex: 104825 entries, 0 to 104824\n",
      "Data columns (total 4 columns):\n",
      " #   Column        Non-Null Count   Dtype  \n",
      "---  ------        --------------   -----  \n",
      " 0   id            104825 non-null  object \n",
      " 1   user_id       104825 non-null  int64  \n",
      " 2   session_date  104825 non-null  object \n",
      " 3   mb_used       104825 non-null  float64\n",
      "dtypes: float64(1), int64(1), object(2)\n",
      "memory usage: 3.2+ MB\n"
     ]
    }
   ],
   "source": [
    "# Print the general/summary information about the internet DataFrame\n",
    "\n",
    "internet.info()\n"
   ]
  },
  {
   "cell_type": "code",
   "execution_count": 26,
   "metadata": {
    "trusted": true
   },
   "outputs": [
    {
     "data": {
      "text/html": [
       "<div>\n",
       "<style scoped>\n",
       "    .dataframe tbody tr th:only-of-type {\n",
       "        vertical-align: middle;\n",
       "    }\n",
       "\n",
       "    .dataframe tbody tr th {\n",
       "        vertical-align: top;\n",
       "    }\n",
       "\n",
       "    .dataframe thead th {\n",
       "        text-align: right;\n",
       "    }\n",
       "</style>\n",
       "<table border=\"1\" class=\"dataframe\">\n",
       "  <thead>\n",
       "    <tr style=\"text-align: right;\">\n",
       "      <th></th>\n",
       "      <th>id</th>\n",
       "      <th>user_id</th>\n",
       "      <th>session_date</th>\n",
       "      <th>mb_used</th>\n",
       "    </tr>\n",
       "  </thead>\n",
       "  <tbody>\n",
       "    <tr>\n",
       "      <th>52610</th>\n",
       "      <td>1236_482</td>\n",
       "      <td>1236</td>\n",
       "      <td>2018-07-18</td>\n",
       "      <td>201.42</td>\n",
       "    </tr>\n",
       "    <tr>\n",
       "      <th>40220</th>\n",
       "      <td>1181_407</td>\n",
       "      <td>1181</td>\n",
       "      <td>2018-05-22</td>\n",
       "      <td>700.19</td>\n",
       "    </tr>\n",
       "    <tr>\n",
       "      <th>75451</th>\n",
       "      <td>1355_96</td>\n",
       "      <td>1355</td>\n",
       "      <td>2018-11-20</td>\n",
       "      <td>474.06</td>\n",
       "    </tr>\n",
       "    <tr>\n",
       "      <th>89977</th>\n",
       "      <td>1415_81</td>\n",
       "      <td>1415</td>\n",
       "      <td>2018-10-19</td>\n",
       "      <td>187.96</td>\n",
       "    </tr>\n",
       "    <tr>\n",
       "      <th>52742</th>\n",
       "      <td>1237_122</td>\n",
       "      <td>1237</td>\n",
       "      <td>2018-11-03</td>\n",
       "      <td>382.37</td>\n",
       "    </tr>\n",
       "    <tr>\n",
       "      <th>100321</th>\n",
       "      <td>1475_114</td>\n",
       "      <td>1475</td>\n",
       "      <td>2018-11-07</td>\n",
       "      <td>201.99</td>\n",
       "    </tr>\n",
       "    <tr>\n",
       "      <th>92482</th>\n",
       "      <td>1432_5</td>\n",
       "      <td>1432</td>\n",
       "      <td>2018-12-22</td>\n",
       "      <td>766.73</td>\n",
       "    </tr>\n",
       "    <tr>\n",
       "      <th>852</th>\n",
       "      <td>1004_542</td>\n",
       "      <td>1004</td>\n",
       "      <td>2018-07-21</td>\n",
       "      <td>357.10</td>\n",
       "    </tr>\n",
       "    <tr>\n",
       "      <th>102770</th>\n",
       "      <td>1492_3</td>\n",
       "      <td>1492</td>\n",
       "      <td>2018-11-19</td>\n",
       "      <td>325.50</td>\n",
       "    </tr>\n",
       "    <tr>\n",
       "      <th>97336</th>\n",
       "      <td>1458_419</td>\n",
       "      <td>1458</td>\n",
       "      <td>2018-08-09</td>\n",
       "      <td>304.16</td>\n",
       "    </tr>\n",
       "  </tbody>\n",
       "</table>\n",
       "</div>"
      ],
      "text/plain": [
       "              id  user_id session_date  mb_used\n",
       "52610   1236_482     1236   2018-07-18   201.42\n",
       "40220   1181_407     1181   2018-05-22   700.19\n",
       "75451    1355_96     1355   2018-11-20   474.06\n",
       "89977    1415_81     1415   2018-10-19   187.96\n",
       "52742   1237_122     1237   2018-11-03   382.37\n",
       "100321  1475_114     1475   2018-11-07   201.99\n",
       "92482     1432_5     1432   2018-12-22   766.73\n",
       "852     1004_542     1004   2018-07-21   357.10\n",
       "102770    1492_3     1492   2018-11-19   325.50\n",
       "97336   1458_419     1458   2018-08-09   304.16"
      ]
     },
     "execution_count": 26,
     "metadata": {},
     "output_type": "execute_result"
    }
   ],
   "source": [
    "# Print a sample of data for the internet traffic\n",
    "\n",
    "internet.sample(10)"
   ]
  },
  {
   "cell_type": "markdown",
   "metadata": {},
   "source": [
    "[Describe what you see and notice in the general information and the printed data sample for the above price of data. Are there any issues (inappropriate data types, missing data etc) that may need further investigation and changes? How that can be fixed?]"
   ]
  },
  {
   "cell_type": "markdown",
   "metadata": {},
   "source": [
    "This table shows the internet usage/activity of each user. There aren't any missing values shown on this table. I only need to change the session date to its appropriate data type. As Megaline's plans round up the data usage, I was thinking it would be better to also add the rounded up usage so as to know how much are each customer actually being charged for, but I need to sum up each user's usage before rounding it up. Another thing I can add is probably a month column, as the plans count on monthly usage."
   ]
  },
  {
   "cell_type": "markdown",
   "metadata": {},
   "source": [
    "### Fix data"
   ]
  },
  {
   "cell_type": "markdown",
   "metadata": {},
   "source": [
    "[Fix obvious issues with the data given the initial observations.]"
   ]
  },
  {
   "cell_type": "code",
   "execution_count": 27,
   "metadata": {
    "trusted": true
   },
   "outputs": [
    {
     "name": "stdout",
     "output_type": "stream",
     "text": [
      "<class 'pandas.core.frame.DataFrame'>\n",
      "RangeIndex: 104825 entries, 0 to 104824\n",
      "Data columns (total 4 columns):\n",
      " #   Column        Non-Null Count   Dtype         \n",
      "---  ------        --------------   -----         \n",
      " 0   id            104825 non-null  object        \n",
      " 1   user_id       104825 non-null  int64         \n",
      " 2   session_date  104825 non-null  datetime64[ns]\n",
      " 3   mb_used       104825 non-null  float64       \n",
      "dtypes: datetime64[ns](1), float64(1), int64(1), object(1)\n",
      "memory usage: 3.2+ MB\n"
     ]
    }
   ],
   "source": [
    "# Changing the column's data type\n",
    "internet['session_date'] = pd.to_datetime(\n",
    "    internet['session_date'],\n",
    "    format='%Y-%m-%d'\n",
    ")\n",
    "internet.info()"
   ]
  },
  {
   "cell_type": "markdown",
   "metadata": {},
   "source": [
    "### Enrich data"
   ]
  },
  {
   "cell_type": "markdown",
   "metadata": {},
   "source": [
    "[Add additional factors to the data if you believe they might be useful.]"
   ]
  },
  {
   "cell_type": "code",
   "execution_count": 28,
   "metadata": {
    "trusted": true
   },
   "outputs": [
    {
     "data": {
      "text/html": [
       "<div>\n",
       "<style scoped>\n",
       "    .dataframe tbody tr th:only-of-type {\n",
       "        vertical-align: middle;\n",
       "    }\n",
       "\n",
       "    .dataframe tbody tr th {\n",
       "        vertical-align: top;\n",
       "    }\n",
       "\n",
       "    .dataframe thead th {\n",
       "        text-align: right;\n",
       "    }\n",
       "</style>\n",
       "<table border=\"1\" class=\"dataframe\">\n",
       "  <thead>\n",
       "    <tr style=\"text-align: right;\">\n",
       "      <th></th>\n",
       "      <th>id</th>\n",
       "      <th>user_id</th>\n",
       "      <th>session_date</th>\n",
       "      <th>mb_used</th>\n",
       "      <th>month</th>\n",
       "    </tr>\n",
       "  </thead>\n",
       "  <tbody>\n",
       "    <tr>\n",
       "      <th>0</th>\n",
       "      <td>1000_13</td>\n",
       "      <td>1000</td>\n",
       "      <td>2018-12-29</td>\n",
       "      <td>89.86</td>\n",
       "      <td>12</td>\n",
       "    </tr>\n",
       "    <tr>\n",
       "      <th>1</th>\n",
       "      <td>1000_204</td>\n",
       "      <td>1000</td>\n",
       "      <td>2018-12-31</td>\n",
       "      <td>0.00</td>\n",
       "      <td>12</td>\n",
       "    </tr>\n",
       "    <tr>\n",
       "      <th>2</th>\n",
       "      <td>1000_379</td>\n",
       "      <td>1000</td>\n",
       "      <td>2018-12-28</td>\n",
       "      <td>660.40</td>\n",
       "      <td>12</td>\n",
       "    </tr>\n",
       "    <tr>\n",
       "      <th>3</th>\n",
       "      <td>1000_413</td>\n",
       "      <td>1000</td>\n",
       "      <td>2018-12-26</td>\n",
       "      <td>270.99</td>\n",
       "      <td>12</td>\n",
       "    </tr>\n",
       "    <tr>\n",
       "      <th>4</th>\n",
       "      <td>1000_442</td>\n",
       "      <td>1000</td>\n",
       "      <td>2018-12-27</td>\n",
       "      <td>880.22</td>\n",
       "      <td>12</td>\n",
       "    </tr>\n",
       "    <tr>\n",
       "      <th>5</th>\n",
       "      <td>1001_0</td>\n",
       "      <td>1001</td>\n",
       "      <td>2018-08-24</td>\n",
       "      <td>284.68</td>\n",
       "      <td>8</td>\n",
       "    </tr>\n",
       "    <tr>\n",
       "      <th>6</th>\n",
       "      <td>1001_3</td>\n",
       "      <td>1001</td>\n",
       "      <td>2018-12-09</td>\n",
       "      <td>656.04</td>\n",
       "      <td>12</td>\n",
       "    </tr>\n",
       "    <tr>\n",
       "      <th>7</th>\n",
       "      <td>1001_4</td>\n",
       "      <td>1001</td>\n",
       "      <td>2018-11-04</td>\n",
       "      <td>16.97</td>\n",
       "      <td>11</td>\n",
       "    </tr>\n",
       "    <tr>\n",
       "      <th>8</th>\n",
       "      <td>1001_10</td>\n",
       "      <td>1001</td>\n",
       "      <td>2018-11-27</td>\n",
       "      <td>135.18</td>\n",
       "      <td>11</td>\n",
       "    </tr>\n",
       "    <tr>\n",
       "      <th>9</th>\n",
       "      <td>1001_15</td>\n",
       "      <td>1001</td>\n",
       "      <td>2018-12-13</td>\n",
       "      <td>761.92</td>\n",
       "      <td>12</td>\n",
       "    </tr>\n",
       "  </tbody>\n",
       "</table>\n",
       "</div>"
      ],
      "text/plain": [
       "         id  user_id session_date  mb_used  month\n",
       "0   1000_13     1000   2018-12-29    89.86     12\n",
       "1  1000_204     1000   2018-12-31     0.00     12\n",
       "2  1000_379     1000   2018-12-28   660.40     12\n",
       "3  1000_413     1000   2018-12-26   270.99     12\n",
       "4  1000_442     1000   2018-12-27   880.22     12\n",
       "5    1001_0     1001   2018-08-24   284.68      8\n",
       "6    1001_3     1001   2018-12-09   656.04     12\n",
       "7    1001_4     1001   2018-11-04    16.97     11\n",
       "8   1001_10     1001   2018-11-27   135.18     11\n",
       "9   1001_15     1001   2018-12-13   761.92     12"
      ]
     },
     "execution_count": 28,
     "metadata": {},
     "output_type": "execute_result"
    }
   ],
   "source": [
    "# Adding the month column for easier grouping of monthly usage of each user\n",
    "\n",
    "internet['month'] = internet['session_date'].dt.month\n",
    "internet.head(10)"
   ]
  },
  {
   "cell_type": "markdown",
   "metadata": {},
   "source": [
    "The month column will greatly help in determining the monthly usage of each user."
   ]
  },
  {
   "cell_type": "markdown",
   "metadata": {},
   "source": [
    "## Study plan conditions"
   ]
  },
  {
   "cell_type": "markdown",
   "metadata": {},
   "source": [
    "[It is critical to understand how the plans work, how users are charged based on their plan subscription. So, we suggest printing out the plan information to view their conditions once again.]"
   ]
  },
  {
   "cell_type": "markdown",
   "metadata": {},
   "source": [
    "I'm going to print out the plan info once more to make sure that the plans' condition and how users are charged based on the plan are clear."
   ]
  },
  {
   "cell_type": "code",
   "execution_count": 29,
   "metadata": {
    "trusted": true
   },
   "outputs": [
    {
     "data": {
      "text/html": [
       "<div>\n",
       "<style scoped>\n",
       "    .dataframe tbody tr th:only-of-type {\n",
       "        vertical-align: middle;\n",
       "    }\n",
       "\n",
       "    .dataframe tbody tr th {\n",
       "        vertical-align: top;\n",
       "    }\n",
       "\n",
       "    .dataframe thead th {\n",
       "        text-align: right;\n",
       "    }\n",
       "</style>\n",
       "<table border=\"1\" class=\"dataframe\">\n",
       "  <thead>\n",
       "    <tr style=\"text-align: right;\">\n",
       "      <th>plan_name</th>\n",
       "      <th>surf</th>\n",
       "      <th>ultimate</th>\n",
       "    </tr>\n",
       "  </thead>\n",
       "  <tbody>\n",
       "    <tr>\n",
       "      <th>mb_per_month_included</th>\n",
       "      <td>15360.00</td>\n",
       "      <td>30720.00</td>\n",
       "    </tr>\n",
       "    <tr>\n",
       "      <th>messages_included</th>\n",
       "      <td>50.00</td>\n",
       "      <td>1000.00</td>\n",
       "    </tr>\n",
       "    <tr>\n",
       "      <th>minutes_included</th>\n",
       "      <td>500.00</td>\n",
       "      <td>3000.00</td>\n",
       "    </tr>\n",
       "    <tr>\n",
       "      <th>usd_monthly_pay</th>\n",
       "      <td>20.00</td>\n",
       "      <td>70.00</td>\n",
       "    </tr>\n",
       "    <tr>\n",
       "      <th>usd_per_gb</th>\n",
       "      <td>10.00</td>\n",
       "      <td>7.00</td>\n",
       "    </tr>\n",
       "    <tr>\n",
       "      <th>usd_per_message</th>\n",
       "      <td>0.03</td>\n",
       "      <td>0.01</td>\n",
       "    </tr>\n",
       "    <tr>\n",
       "      <th>usd_per_minute</th>\n",
       "      <td>0.03</td>\n",
       "      <td>0.01</td>\n",
       "    </tr>\n",
       "  </tbody>\n",
       "</table>\n",
       "</div>"
      ],
      "text/plain": [
       "plan_name                  surf  ultimate\n",
       "mb_per_month_included  15360.00  30720.00\n",
       "messages_included         50.00   1000.00\n",
       "minutes_included         500.00   3000.00\n",
       "usd_monthly_pay           20.00     70.00\n",
       "usd_per_gb                10.00      7.00\n",
       "usd_per_message            0.03      0.01\n",
       "usd_per_minute             0.03      0.01"
      ]
     },
     "execution_count": 29,
     "metadata": {},
     "output_type": "execute_result"
    }
   ],
   "source": [
    "# Print out the plan conditions and make sure they are clear for you\n",
    "\n",
    "plans_pivoted"
   ]
  },
  {
   "cell_type": "markdown",
   "metadata": {},
   "source": [
    "Megaline's policy states that every data usage is rounded up to the nearest gigabyte, and call durations to be rounded up to the nearest minute."
   ]
  },
  {
   "cell_type": "markdown",
   "metadata": {},
   "source": [
    "## Aggregate data per user\n",
    "\n",
    "[Now, as the data is clean, aggregate data per user per period in order to have just one record per user per period. It should ease the further analysis a lot.]"
   ]
  },
  {
   "cell_type": "markdown",
   "metadata": {},
   "source": [
    "As the data is now clean, I'm going to get the values of each user's monthly usage of data, calls, and messages sent."
   ]
  },
  {
   "cell_type": "code",
   "execution_count": 30,
   "metadata": {
    "trusted": true
   },
   "outputs": [
    {
     "data": {
      "text/html": [
       "<div>\n",
       "<style scoped>\n",
       "    .dataframe tbody tr th:only-of-type {\n",
       "        vertical-align: middle;\n",
       "    }\n",
       "\n",
       "    .dataframe tbody tr th {\n",
       "        vertical-align: top;\n",
       "    }\n",
       "\n",
       "    .dataframe thead th {\n",
       "        text-align: right;\n",
       "    }\n",
       "</style>\n",
       "<table border=\"1\" class=\"dataframe\">\n",
       "  <thead>\n",
       "    <tr style=\"text-align: right;\">\n",
       "      <th></th>\n",
       "      <th></th>\n",
       "      <th>0</th>\n",
       "    </tr>\n",
       "    <tr>\n",
       "      <th>user_id</th>\n",
       "      <th>month</th>\n",
       "      <th></th>\n",
       "    </tr>\n",
       "  </thead>\n",
       "  <tbody>\n",
       "    <tr>\n",
       "      <th>1000</th>\n",
       "      <th>12</th>\n",
       "      <td>16</td>\n",
       "    </tr>\n",
       "    <tr>\n",
       "      <th rowspan=\"4\" valign=\"top\">1001</th>\n",
       "      <th>8</th>\n",
       "      <td>27</td>\n",
       "    </tr>\n",
       "    <tr>\n",
       "      <th>9</th>\n",
       "      <td>49</td>\n",
       "    </tr>\n",
       "    <tr>\n",
       "      <th>10</th>\n",
       "      <td>65</td>\n",
       "    </tr>\n",
       "    <tr>\n",
       "      <th>11</th>\n",
       "      <td>64</td>\n",
       "    </tr>\n",
       "    <tr>\n",
       "      <th>...</th>\n",
       "      <th>...</th>\n",
       "      <td>...</td>\n",
       "    </tr>\n",
       "    <tr>\n",
       "      <th>1498</th>\n",
       "      <th>12</th>\n",
       "      <td>39</td>\n",
       "    </tr>\n",
       "    <tr>\n",
       "      <th rowspan=\"4\" valign=\"top\">1499</th>\n",
       "      <th>9</th>\n",
       "      <td>41</td>\n",
       "    </tr>\n",
       "    <tr>\n",
       "      <th>10</th>\n",
       "      <td>53</td>\n",
       "    </tr>\n",
       "    <tr>\n",
       "      <th>11</th>\n",
       "      <td>45</td>\n",
       "    </tr>\n",
       "    <tr>\n",
       "      <th>12</th>\n",
       "      <td>65</td>\n",
       "    </tr>\n",
       "  </tbody>\n",
       "</table>\n",
       "<p>2258 rows × 1 columns</p>\n",
       "</div>"
      ],
      "text/plain": [
       "                0\n",
       "user_id month    \n",
       "1000    12     16\n",
       "1001    8      27\n",
       "        9      49\n",
       "        10     65\n",
       "        11     64\n",
       "...            ..\n",
       "1498    12     39\n",
       "1499    9      41\n",
       "        10     53\n",
       "        11     45\n",
       "        12     65\n",
       "\n",
       "[2258 rows x 1 columns]"
      ]
     },
     "execution_count": 30,
     "metadata": {},
     "output_type": "execute_result"
    }
   ],
   "source": [
    "# Calculate the number of calls made by each user per month. Save the result.\n",
    "\n",
    "calls_count = calls.groupby(['user_id', 'month']).size().to_frame()\n",
    "calls_count"
   ]
  },
  {
   "cell_type": "code",
   "execution_count": 31,
   "metadata": {
    "trusted": true
   },
   "outputs": [
    {
     "data": {
      "text/html": [
       "<div>\n",
       "<style scoped>\n",
       "    .dataframe tbody tr th:only-of-type {\n",
       "        vertical-align: middle;\n",
       "    }\n",
       "\n",
       "    .dataframe tbody tr th {\n",
       "        vertical-align: top;\n",
       "    }\n",
       "\n",
       "    .dataframe thead th {\n",
       "        text-align: right;\n",
       "    }\n",
       "</style>\n",
       "<table border=\"1\" class=\"dataframe\">\n",
       "  <thead>\n",
       "    <tr style=\"text-align: right;\">\n",
       "      <th></th>\n",
       "      <th></th>\n",
       "      <th>duration</th>\n",
       "      <th>duration_rounded</th>\n",
       "    </tr>\n",
       "    <tr>\n",
       "      <th>user_id</th>\n",
       "      <th>month</th>\n",
       "      <th></th>\n",
       "      <th></th>\n",
       "    </tr>\n",
       "  </thead>\n",
       "  <tbody>\n",
       "    <tr>\n",
       "      <th>1000</th>\n",
       "      <th>12</th>\n",
       "      <td>116.83</td>\n",
       "      <td>124</td>\n",
       "    </tr>\n",
       "    <tr>\n",
       "      <th rowspan=\"4\" valign=\"top\">1001</th>\n",
       "      <th>8</th>\n",
       "      <td>171.14</td>\n",
       "      <td>182</td>\n",
       "    </tr>\n",
       "    <tr>\n",
       "      <th>9</th>\n",
       "      <td>297.69</td>\n",
       "      <td>315</td>\n",
       "    </tr>\n",
       "    <tr>\n",
       "      <th>10</th>\n",
       "      <td>374.11</td>\n",
       "      <td>393</td>\n",
       "    </tr>\n",
       "    <tr>\n",
       "      <th>11</th>\n",
       "      <td>404.59</td>\n",
       "      <td>426</td>\n",
       "    </tr>\n",
       "    <tr>\n",
       "      <th>...</th>\n",
       "      <th>...</th>\n",
       "      <td>...</td>\n",
       "      <td>...</td>\n",
       "    </tr>\n",
       "    <tr>\n",
       "      <th>1498</th>\n",
       "      <th>12</th>\n",
       "      <td>324.77</td>\n",
       "      <td>339</td>\n",
       "    </tr>\n",
       "    <tr>\n",
       "      <th rowspan=\"4\" valign=\"top\">1499</th>\n",
       "      <th>9</th>\n",
       "      <td>330.37</td>\n",
       "      <td>346</td>\n",
       "    </tr>\n",
       "    <tr>\n",
       "      <th>10</th>\n",
       "      <td>363.28</td>\n",
       "      <td>385</td>\n",
       "    </tr>\n",
       "    <tr>\n",
       "      <th>11</th>\n",
       "      <td>288.56</td>\n",
       "      <td>308</td>\n",
       "    </tr>\n",
       "    <tr>\n",
       "      <th>12</th>\n",
       "      <td>468.10</td>\n",
       "      <td>496</td>\n",
       "    </tr>\n",
       "  </tbody>\n",
       "</table>\n",
       "<p>2258 rows × 2 columns</p>\n",
       "</div>"
      ],
      "text/plain": [
       "               duration  duration_rounded\n",
       "user_id month                            \n",
       "1000    12       116.83               124\n",
       "1001    8        171.14               182\n",
       "        9        297.69               315\n",
       "        10       374.11               393\n",
       "        11       404.59               426\n",
       "...                 ...               ...\n",
       "1498    12       324.77               339\n",
       "1499    9        330.37               346\n",
       "        10       363.28               385\n",
       "        11       288.56               308\n",
       "        12       468.10               496\n",
       "\n",
       "[2258 rows x 2 columns]"
      ]
     },
     "execution_count": 31,
     "metadata": {},
     "output_type": "execute_result"
    }
   ],
   "source": [
    "# Calculate the amount of minutes spent by each user per month. Save the result.\n",
    "\n",
    "duration = calls.groupby(['user_id', 'month']).sum()\n",
    "duration"
   ]
  },
  {
   "cell_type": "code",
   "execution_count": 32,
   "metadata": {
    "trusted": true
   },
   "outputs": [
    {
     "data": {
      "text/plain": [
       "user_id  month\n",
       "1000     12       11\n",
       "1001     8        30\n",
       "         9        44\n",
       "         10       53\n",
       "         11       36\n",
       "                  ..\n",
       "1496     9        21\n",
       "         10       18\n",
       "         11       13\n",
       "         12       11\n",
       "1497     12       50\n",
       "Name: id, Length: 1806, dtype: int64"
      ]
     },
     "execution_count": 32,
     "metadata": {},
     "output_type": "execute_result"
    }
   ],
   "source": [
    "# Calculate the number of messages sent by each user per month. Save the result.\n",
    "\n",
    "messages_count = messages.groupby(['user_id', 'month']).count()['id']\n",
    "messages_count"
   ]
  },
  {
   "cell_type": "code",
   "execution_count": 33,
   "metadata": {
    "trusted": true
   },
   "outputs": [
    {
     "data": {
      "text/html": [
       "<div>\n",
       "<style scoped>\n",
       "    .dataframe tbody tr th:only-of-type {\n",
       "        vertical-align: middle;\n",
       "    }\n",
       "\n",
       "    .dataframe tbody tr th {\n",
       "        vertical-align: top;\n",
       "    }\n",
       "\n",
       "    .dataframe thead th {\n",
       "        text-align: right;\n",
       "    }\n",
       "</style>\n",
       "<table border=\"1\" class=\"dataframe\">\n",
       "  <thead>\n",
       "    <tr style=\"text-align: right;\">\n",
       "      <th></th>\n",
       "      <th></th>\n",
       "      <th>mb_used</th>\n",
       "      <th>gb_used</th>\n",
       "    </tr>\n",
       "    <tr>\n",
       "      <th>user_id</th>\n",
       "      <th>month</th>\n",
       "      <th></th>\n",
       "      <th></th>\n",
       "    </tr>\n",
       "  </thead>\n",
       "  <tbody>\n",
       "    <tr>\n",
       "      <th>1000</th>\n",
       "      <th>12</th>\n",
       "      <td>1901.47</td>\n",
       "      <td>2.0</td>\n",
       "    </tr>\n",
       "    <tr>\n",
       "      <th rowspan=\"4\" valign=\"top\">1001</th>\n",
       "      <th>8</th>\n",
       "      <td>6919.15</td>\n",
       "      <td>7.0</td>\n",
       "    </tr>\n",
       "    <tr>\n",
       "      <th>9</th>\n",
       "      <td>13314.82</td>\n",
       "      <td>14.0</td>\n",
       "    </tr>\n",
       "    <tr>\n",
       "      <th>10</th>\n",
       "      <td>22330.49</td>\n",
       "      <td>22.0</td>\n",
       "    </tr>\n",
       "    <tr>\n",
       "      <th>11</th>\n",
       "      <td>18504.30</td>\n",
       "      <td>19.0</td>\n",
       "    </tr>\n",
       "    <tr>\n",
       "      <th>...</th>\n",
       "      <th>...</th>\n",
       "      <td>...</td>\n",
       "      <td>...</td>\n",
       "    </tr>\n",
       "    <tr>\n",
       "      <th>1498</th>\n",
       "      <th>12</th>\n",
       "      <td>23137.69</td>\n",
       "      <td>23.0</td>\n",
       "    </tr>\n",
       "    <tr>\n",
       "      <th rowspan=\"4\" valign=\"top\">1499</th>\n",
       "      <th>9</th>\n",
       "      <td>12984.76</td>\n",
       "      <td>13.0</td>\n",
       "    </tr>\n",
       "    <tr>\n",
       "      <th>10</th>\n",
       "      <td>19492.43</td>\n",
       "      <td>20.0</td>\n",
       "    </tr>\n",
       "    <tr>\n",
       "      <th>11</th>\n",
       "      <td>16813.83</td>\n",
       "      <td>17.0</td>\n",
       "    </tr>\n",
       "    <tr>\n",
       "      <th>12</th>\n",
       "      <td>22059.21</td>\n",
       "      <td>22.0</td>\n",
       "    </tr>\n",
       "  </tbody>\n",
       "</table>\n",
       "<p>2277 rows × 2 columns</p>\n",
       "</div>"
      ],
      "text/plain": [
       "                mb_used  gb_used\n",
       "user_id month                   \n",
       "1000    12      1901.47      2.0\n",
       "1001    8       6919.15      7.0\n",
       "        9      13314.82     14.0\n",
       "        10     22330.49     22.0\n",
       "        11     18504.30     19.0\n",
       "...                 ...      ...\n",
       "1498    12     23137.69     23.0\n",
       "1499    9      12984.76     13.0\n",
       "        10     19492.43     20.0\n",
       "        11     16813.83     17.0\n",
       "        12     22059.21     22.0\n",
       "\n",
       "[2277 rows x 2 columns]"
      ]
     },
     "execution_count": 33,
     "metadata": {},
     "output_type": "execute_result"
    }
   ],
   "source": [
    "# Calculate the volume of internet traffic used by each user per month. Save the result.\n",
    "\n",
    "internet_usage = internet.groupby(['user_id', 'month']).sum()\n",
    "\n",
    "# Converting all the monthly usage to Gigabytes then rounding them up\n",
    "\n",
    "internet_usage['gb_used'] = np.ceil(internet_usage / 1024)\n",
    "internet_usage"
   ]
  },
  {
   "cell_type": "markdown",
   "metadata": {},
   "source": [
    "[Put the aggregate data together into one DataFrame so that one record in it would represent what an unique user consumed in a given month.]"
   ]
  },
  {
   "cell_type": "markdown",
   "metadata": {},
   "source": [
    "Next, I'm going to merge all the values that I've acquired into one table"
   ]
  },
  {
   "cell_type": "code",
   "execution_count": 34,
   "metadata": {
    "trusted": true
   },
   "outputs": [
    {
     "data": {
      "text/html": [
       "<div>\n",
       "<style scoped>\n",
       "    .dataframe tbody tr th:only-of-type {\n",
       "        vertical-align: middle;\n",
       "    }\n",
       "\n",
       "    .dataframe tbody tr th {\n",
       "        vertical-align: top;\n",
       "    }\n",
       "\n",
       "    .dataframe thead th {\n",
       "        text-align: right;\n",
       "    }\n",
       "</style>\n",
       "<table border=\"1\" class=\"dataframe\">\n",
       "  <thead>\n",
       "    <tr style=\"text-align: right;\">\n",
       "      <th></th>\n",
       "      <th></th>\n",
       "      <th>calls_count</th>\n",
       "      <th>duration_rounded</th>\n",
       "      <th>gb_used</th>\n",
       "      <th>messages_count</th>\n",
       "    </tr>\n",
       "    <tr>\n",
       "      <th>user_id</th>\n",
       "      <th>month</th>\n",
       "      <th></th>\n",
       "      <th></th>\n",
       "      <th></th>\n",
       "      <th></th>\n",
       "    </tr>\n",
       "  </thead>\n",
       "  <tbody>\n",
       "    <tr>\n",
       "      <th>1000</th>\n",
       "      <th>12</th>\n",
       "      <td>16.0</td>\n",
       "      <td>124.0</td>\n",
       "      <td>2.0</td>\n",
       "      <td>11.0</td>\n",
       "    </tr>\n",
       "    <tr>\n",
       "      <th rowspan=\"4\" valign=\"top\">1001</th>\n",
       "      <th>8</th>\n",
       "      <td>27.0</td>\n",
       "      <td>182.0</td>\n",
       "      <td>7.0</td>\n",
       "      <td>30.0</td>\n",
       "    </tr>\n",
       "    <tr>\n",
       "      <th>9</th>\n",
       "      <td>49.0</td>\n",
       "      <td>315.0</td>\n",
       "      <td>14.0</td>\n",
       "      <td>44.0</td>\n",
       "    </tr>\n",
       "    <tr>\n",
       "      <th>10</th>\n",
       "      <td>65.0</td>\n",
       "      <td>393.0</td>\n",
       "      <td>22.0</td>\n",
       "      <td>53.0</td>\n",
       "    </tr>\n",
       "    <tr>\n",
       "      <th>11</th>\n",
       "      <td>64.0</td>\n",
       "      <td>426.0</td>\n",
       "      <td>19.0</td>\n",
       "      <td>36.0</td>\n",
       "    </tr>\n",
       "    <tr>\n",
       "      <th>...</th>\n",
       "      <th>...</th>\n",
       "      <td>...</td>\n",
       "      <td>...</td>\n",
       "      <td>...</td>\n",
       "      <td>...</td>\n",
       "    </tr>\n",
       "    <tr>\n",
       "      <th>1498</th>\n",
       "      <th>12</th>\n",
       "      <td>39.0</td>\n",
       "      <td>339.0</td>\n",
       "      <td>23.0</td>\n",
       "      <td>0.0</td>\n",
       "    </tr>\n",
       "    <tr>\n",
       "      <th rowspan=\"4\" valign=\"top\">1499</th>\n",
       "      <th>9</th>\n",
       "      <td>41.0</td>\n",
       "      <td>346.0</td>\n",
       "      <td>13.0</td>\n",
       "      <td>0.0</td>\n",
       "    </tr>\n",
       "    <tr>\n",
       "      <th>10</th>\n",
       "      <td>53.0</td>\n",
       "      <td>385.0</td>\n",
       "      <td>20.0</td>\n",
       "      <td>0.0</td>\n",
       "    </tr>\n",
       "    <tr>\n",
       "      <th>11</th>\n",
       "      <td>45.0</td>\n",
       "      <td>308.0</td>\n",
       "      <td>17.0</td>\n",
       "      <td>0.0</td>\n",
       "    </tr>\n",
       "    <tr>\n",
       "      <th>12</th>\n",
       "      <td>65.0</td>\n",
       "      <td>496.0</td>\n",
       "      <td>22.0</td>\n",
       "      <td>0.0</td>\n",
       "    </tr>\n",
       "  </tbody>\n",
       "</table>\n",
       "<p>2293 rows × 4 columns</p>\n",
       "</div>"
      ],
      "text/plain": [
       "               calls_count  duration_rounded  gb_used  messages_count\n",
       "user_id month                                                        \n",
       "1000    12            16.0             124.0      2.0            11.0\n",
       "1001    8             27.0             182.0      7.0            30.0\n",
       "        9             49.0             315.0     14.0            44.0\n",
       "        10            65.0             393.0     22.0            53.0\n",
       "        11            64.0             426.0     19.0            36.0\n",
       "...                    ...               ...      ...             ...\n",
       "1498    12            39.0             339.0     23.0             0.0\n",
       "1499    9             41.0             346.0     13.0             0.0\n",
       "        10            53.0             385.0     20.0             0.0\n",
       "        11            45.0             308.0     17.0             0.0\n",
       "        12            65.0             496.0     22.0             0.0\n",
       "\n",
       "[2293 rows x 4 columns]"
      ]
     },
     "execution_count": 34,
     "metadata": {},
     "output_type": "execute_result"
    }
   ],
   "source": [
    "# Merge the data for calls, minutes, messages, internet based on user_id and month\n",
    "\n",
    "agg_table = calls_count.merge(duration, left_index=True, right_index=True, how='outer')\n",
    "agg_table = agg_table.merge(internet_usage, left_index=True, right_index=True, how='outer')\n",
    "agg_table = agg_table.merge(messages_count, left_index=True, right_index=True, how='outer')\n",
    "\n",
    "# Renaming the columns to its appropriate one\n",
    "agg_table = agg_table.rename(columns={0 : 'calls_count', 'id':'messages_count'})\n",
    "\n",
    "# Filling in the empty values\n",
    "agg_table = agg_table.fillna(0)\n",
    "\n",
    "# Dropping unnecessary tables\n",
    "agg_table = agg_table.drop(columns=['mb_used', 'duration'])\n",
    "agg_table"
   ]
  },
  {
   "cell_type": "markdown",
   "metadata": {},
   "source": [
    "This table gives me a good overview of each user's monthly activity, and will allow an easier analysis as all the data's already gathered in one table. Next, I will add the plans column so I can analyze the revenue of each user according to their subscribed plan."
   ]
  },
  {
   "cell_type": "code",
   "execution_count": 35,
   "metadata": {
    "trusted": true
   },
   "outputs": [
    {
     "data": {
      "text/html": [
       "<div>\n",
       "<style scoped>\n",
       "    .dataframe tbody tr th:only-of-type {\n",
       "        vertical-align: middle;\n",
       "    }\n",
       "\n",
       "    .dataframe tbody tr th {\n",
       "        vertical-align: top;\n",
       "    }\n",
       "\n",
       "    .dataframe thead th {\n",
       "        text-align: right;\n",
       "    }\n",
       "</style>\n",
       "<table border=\"1\" class=\"dataframe\">\n",
       "  <thead>\n",
       "    <tr style=\"text-align: right;\">\n",
       "      <th></th>\n",
       "      <th></th>\n",
       "      <th>calls_count</th>\n",
       "      <th>duration_rounded</th>\n",
       "      <th>gb_used</th>\n",
       "      <th>messages_count</th>\n",
       "      <th>plan</th>\n",
       "    </tr>\n",
       "    <tr>\n",
       "      <th>user_id</th>\n",
       "      <th>month</th>\n",
       "      <th></th>\n",
       "      <th></th>\n",
       "      <th></th>\n",
       "      <th></th>\n",
       "      <th></th>\n",
       "    </tr>\n",
       "  </thead>\n",
       "  <tbody>\n",
       "    <tr>\n",
       "      <th>1000</th>\n",
       "      <th>12</th>\n",
       "      <td>16.0</td>\n",
       "      <td>124.0</td>\n",
       "      <td>2.0</td>\n",
       "      <td>11.0</td>\n",
       "      <td>ultimate</td>\n",
       "    </tr>\n",
       "    <tr>\n",
       "      <th rowspan=\"4\" valign=\"top\">1001</th>\n",
       "      <th>8</th>\n",
       "      <td>27.0</td>\n",
       "      <td>182.0</td>\n",
       "      <td>7.0</td>\n",
       "      <td>30.0</td>\n",
       "      <td>surf</td>\n",
       "    </tr>\n",
       "    <tr>\n",
       "      <th>9</th>\n",
       "      <td>49.0</td>\n",
       "      <td>315.0</td>\n",
       "      <td>14.0</td>\n",
       "      <td>44.0</td>\n",
       "      <td>surf</td>\n",
       "    </tr>\n",
       "    <tr>\n",
       "      <th>10</th>\n",
       "      <td>65.0</td>\n",
       "      <td>393.0</td>\n",
       "      <td>22.0</td>\n",
       "      <td>53.0</td>\n",
       "      <td>surf</td>\n",
       "    </tr>\n",
       "    <tr>\n",
       "      <th>11</th>\n",
       "      <td>64.0</td>\n",
       "      <td>426.0</td>\n",
       "      <td>19.0</td>\n",
       "      <td>36.0</td>\n",
       "      <td>surf</td>\n",
       "    </tr>\n",
       "    <tr>\n",
       "      <th>...</th>\n",
       "      <th>...</th>\n",
       "      <td>...</td>\n",
       "      <td>...</td>\n",
       "      <td>...</td>\n",
       "      <td>...</td>\n",
       "      <td>...</td>\n",
       "    </tr>\n",
       "    <tr>\n",
       "      <th>1498</th>\n",
       "      <th>12</th>\n",
       "      <td>39.0</td>\n",
       "      <td>339.0</td>\n",
       "      <td>23.0</td>\n",
       "      <td>0.0</td>\n",
       "      <td>surf</td>\n",
       "    </tr>\n",
       "    <tr>\n",
       "      <th rowspan=\"4\" valign=\"top\">1499</th>\n",
       "      <th>9</th>\n",
       "      <td>41.0</td>\n",
       "      <td>346.0</td>\n",
       "      <td>13.0</td>\n",
       "      <td>0.0</td>\n",
       "      <td>surf</td>\n",
       "    </tr>\n",
       "    <tr>\n",
       "      <th>10</th>\n",
       "      <td>53.0</td>\n",
       "      <td>385.0</td>\n",
       "      <td>20.0</td>\n",
       "      <td>0.0</td>\n",
       "      <td>surf</td>\n",
       "    </tr>\n",
       "    <tr>\n",
       "      <th>11</th>\n",
       "      <td>45.0</td>\n",
       "      <td>308.0</td>\n",
       "      <td>17.0</td>\n",
       "      <td>0.0</td>\n",
       "      <td>surf</td>\n",
       "    </tr>\n",
       "    <tr>\n",
       "      <th>12</th>\n",
       "      <td>65.0</td>\n",
       "      <td>496.0</td>\n",
       "      <td>22.0</td>\n",
       "      <td>0.0</td>\n",
       "      <td>surf</td>\n",
       "    </tr>\n",
       "  </tbody>\n",
       "</table>\n",
       "<p>2293 rows × 5 columns</p>\n",
       "</div>"
      ],
      "text/plain": [
       "               calls_count  duration_rounded  gb_used  messages_count  \\\n",
       "user_id month                                                           \n",
       "1000    12            16.0             124.0      2.0            11.0   \n",
       "1001    8             27.0             182.0      7.0            30.0   \n",
       "        9             49.0             315.0     14.0            44.0   \n",
       "        10            65.0             393.0     22.0            53.0   \n",
       "        11            64.0             426.0     19.0            36.0   \n",
       "...                    ...               ...      ...             ...   \n",
       "1498    12            39.0             339.0     23.0             0.0   \n",
       "1499    9             41.0             346.0     13.0             0.0   \n",
       "        10            53.0             385.0     20.0             0.0   \n",
       "        11            45.0             308.0     17.0             0.0   \n",
       "        12            65.0             496.0     22.0             0.0   \n",
       "\n",
       "                   plan  \n",
       "user_id month            \n",
       "1000    12     ultimate  \n",
       "1001    8          surf  \n",
       "        9          surf  \n",
       "        10         surf  \n",
       "        11         surf  \n",
       "...                 ...  \n",
       "1498    12         surf  \n",
       "1499    9          surf  \n",
       "        10         surf  \n",
       "        11         surf  \n",
       "        12         surf  \n",
       "\n",
       "[2293 rows x 5 columns]"
      ]
     },
     "execution_count": 35,
     "metadata": {},
     "output_type": "execute_result"
    }
   ],
   "source": [
    "# Add the plan information\n",
    "\n",
    "user_plans = users[['user_id', 'plan']]\n",
    "user_plans = user_plans.set_index('user_id')\n",
    "agg_table = agg_table.merge(user_plans, left_index=True, right_index=True)\n",
    "agg_table"
   ]
  },
  {
   "cell_type": "markdown",
   "metadata": {},
   "source": [
    "This extra column will help when applying a function to the table that calculates the added charges of each customer based on their activity and the plan they're on.\n",
    "\n",
    "Next, I am going to create a function to calculate the revenue/how much each user is charged per month based on their monthly activity."
   ]
  },
  {
   "cell_type": "code",
   "execution_count": 36,
   "metadata": {
    "trusted": true
   },
   "outputs": [],
   "source": [
    "# Creating a function that calculates all the values of each user's revenue\n",
    "def revenue(row):\n",
    "    \n",
    "    plans = row['plan']\n",
    "    messages = row['messages_count']\n",
    "    duration = row['duration_rounded']\n",
    "    data = row['gb_used']\n",
    "    # Initializing the revenue variable\n",
    "    rev = 0\n",
    "    \n",
    "    if plans == 'surf':\n",
    "        dur_diff = duration - 500\n",
    "        data_diff = data - 15\n",
    "        mess_diff = messages - 50\n",
    "        \n",
    "        if dur_diff > 0:\n",
    "            rev += abs(dur_diff * 0.03)\n",
    "        \n",
    "        if data_diff > 0:\n",
    "            rev += abs(data_diff * 10)\n",
    "        \n",
    "        if mess_diff > 0:\n",
    "            rev += abs(mess_diff * 0.03)\n",
    "        \n",
    "        return rev + 20\n",
    "    \n",
    "    elif plans == 'ultimate':\n",
    "        dur_diff = duration - 3000\n",
    "        data_diff = data - 30\n",
    "        mess_diff = messages - 1000\n",
    "        \n",
    "        if dur_diff > 0:\n",
    "            rev += abs(dur_diff * 0.01)\n",
    "        \n",
    "        if data_diff > 0:\n",
    "            rev += abs(data_diff * 7)\n",
    "        \n",
    "        if mess_diff > 0:\n",
    "            rev += abs(mess_diff * 0.01)\n",
    "        \n",
    "        return rev + 70\n",
    "    "
   ]
  },
  {
   "cell_type": "markdown",
   "metadata": {},
   "source": [
    "[Calculate the monthly revenue from each user (subtract the free package limit from the total number of calls, text messages, and data; multiply the result by the calling plan value; add the monthly charge depending on the calling plan). N.B. This might not be as trivial as just a couple of lines given the plan conditions! So, it's okay to spend some time on it.]"
   ]
  },
  {
   "cell_type": "code",
   "execution_count": 37,
   "metadata": {
    "trusted": true
   },
   "outputs": [
    {
     "data": {
      "text/html": [
       "<div>\n",
       "<style scoped>\n",
       "    .dataframe tbody tr th:only-of-type {\n",
       "        vertical-align: middle;\n",
       "    }\n",
       "\n",
       "    .dataframe tbody tr th {\n",
       "        vertical-align: top;\n",
       "    }\n",
       "\n",
       "    .dataframe thead th {\n",
       "        text-align: right;\n",
       "    }\n",
       "</style>\n",
       "<table border=\"1\" class=\"dataframe\">\n",
       "  <thead>\n",
       "    <tr style=\"text-align: right;\">\n",
       "      <th></th>\n",
       "      <th></th>\n",
       "      <th>calls_count</th>\n",
       "      <th>duration_rounded</th>\n",
       "      <th>gb_used</th>\n",
       "      <th>messages_count</th>\n",
       "      <th>plan</th>\n",
       "      <th>revenue</th>\n",
       "    </tr>\n",
       "    <tr>\n",
       "      <th>user_id</th>\n",
       "      <th>month</th>\n",
       "      <th></th>\n",
       "      <th></th>\n",
       "      <th></th>\n",
       "      <th></th>\n",
       "      <th></th>\n",
       "      <th></th>\n",
       "    </tr>\n",
       "  </thead>\n",
       "  <tbody>\n",
       "    <tr>\n",
       "      <th>1000</th>\n",
       "      <th>12</th>\n",
       "      <td>16.0</td>\n",
       "      <td>124.0</td>\n",
       "      <td>2.0</td>\n",
       "      <td>11.0</td>\n",
       "      <td>ultimate</td>\n",
       "      <td>70.00</td>\n",
       "    </tr>\n",
       "    <tr>\n",
       "      <th rowspan=\"4\" valign=\"top\">1001</th>\n",
       "      <th>8</th>\n",
       "      <td>27.0</td>\n",
       "      <td>182.0</td>\n",
       "      <td>7.0</td>\n",
       "      <td>30.0</td>\n",
       "      <td>surf</td>\n",
       "      <td>20.00</td>\n",
       "    </tr>\n",
       "    <tr>\n",
       "      <th>9</th>\n",
       "      <td>49.0</td>\n",
       "      <td>315.0</td>\n",
       "      <td>14.0</td>\n",
       "      <td>44.0</td>\n",
       "      <td>surf</td>\n",
       "      <td>20.00</td>\n",
       "    </tr>\n",
       "    <tr>\n",
       "      <th>10</th>\n",
       "      <td>65.0</td>\n",
       "      <td>393.0</td>\n",
       "      <td>22.0</td>\n",
       "      <td>53.0</td>\n",
       "      <td>surf</td>\n",
       "      <td>90.09</td>\n",
       "    </tr>\n",
       "    <tr>\n",
       "      <th>11</th>\n",
       "      <td>64.0</td>\n",
       "      <td>426.0</td>\n",
       "      <td>19.0</td>\n",
       "      <td>36.0</td>\n",
       "      <td>surf</td>\n",
       "      <td>60.00</td>\n",
       "    </tr>\n",
       "    <tr>\n",
       "      <th>...</th>\n",
       "      <th>...</th>\n",
       "      <td>...</td>\n",
       "      <td>...</td>\n",
       "      <td>...</td>\n",
       "      <td>...</td>\n",
       "      <td>...</td>\n",
       "      <td>...</td>\n",
       "    </tr>\n",
       "    <tr>\n",
       "      <th>1498</th>\n",
       "      <th>12</th>\n",
       "      <td>39.0</td>\n",
       "      <td>339.0</td>\n",
       "      <td>23.0</td>\n",
       "      <td>0.0</td>\n",
       "      <td>surf</td>\n",
       "      <td>100.00</td>\n",
       "    </tr>\n",
       "    <tr>\n",
       "      <th rowspan=\"4\" valign=\"top\">1499</th>\n",
       "      <th>9</th>\n",
       "      <td>41.0</td>\n",
       "      <td>346.0</td>\n",
       "      <td>13.0</td>\n",
       "      <td>0.0</td>\n",
       "      <td>surf</td>\n",
       "      <td>20.00</td>\n",
       "    </tr>\n",
       "    <tr>\n",
       "      <th>10</th>\n",
       "      <td>53.0</td>\n",
       "      <td>385.0</td>\n",
       "      <td>20.0</td>\n",
       "      <td>0.0</td>\n",
       "      <td>surf</td>\n",
       "      <td>70.00</td>\n",
       "    </tr>\n",
       "    <tr>\n",
       "      <th>11</th>\n",
       "      <td>45.0</td>\n",
       "      <td>308.0</td>\n",
       "      <td>17.0</td>\n",
       "      <td>0.0</td>\n",
       "      <td>surf</td>\n",
       "      <td>40.00</td>\n",
       "    </tr>\n",
       "    <tr>\n",
       "      <th>12</th>\n",
       "      <td>65.0</td>\n",
       "      <td>496.0</td>\n",
       "      <td>22.0</td>\n",
       "      <td>0.0</td>\n",
       "      <td>surf</td>\n",
       "      <td>90.00</td>\n",
       "    </tr>\n",
       "  </tbody>\n",
       "</table>\n",
       "<p>2293 rows × 6 columns</p>\n",
       "</div>"
      ],
      "text/plain": [
       "               calls_count  duration_rounded  gb_used  messages_count  \\\n",
       "user_id month                                                           \n",
       "1000    12            16.0             124.0      2.0            11.0   \n",
       "1001    8             27.0             182.0      7.0            30.0   \n",
       "        9             49.0             315.0     14.0            44.0   \n",
       "        10            65.0             393.0     22.0            53.0   \n",
       "        11            64.0             426.0     19.0            36.0   \n",
       "...                    ...               ...      ...             ...   \n",
       "1498    12            39.0             339.0     23.0             0.0   \n",
       "1499    9             41.0             346.0     13.0             0.0   \n",
       "        10            53.0             385.0     20.0             0.0   \n",
       "        11            45.0             308.0     17.0             0.0   \n",
       "        12            65.0             496.0     22.0             0.0   \n",
       "\n",
       "                   plan  revenue  \n",
       "user_id month                     \n",
       "1000    12     ultimate    70.00  \n",
       "1001    8          surf    20.00  \n",
       "        9          surf    20.00  \n",
       "        10         surf    90.09  \n",
       "        11         surf    60.00  \n",
       "...                 ...      ...  \n",
       "1498    12         surf   100.00  \n",
       "1499    9          surf    20.00  \n",
       "        10         surf    70.00  \n",
       "        11         surf    40.00  \n",
       "        12         surf    90.00  \n",
       "\n",
       "[2293 rows x 6 columns]"
      ]
     },
     "execution_count": 37,
     "metadata": {},
     "output_type": "execute_result"
    }
   ],
   "source": [
    "# Calculate the monthly revenue for each user\n",
    "\n",
    "# Applying the function to the table and creating a new column for the values\n",
    "\n",
    "agg_table['revenue'] = agg_table.apply(revenue, axis=1)\n",
    "agg_table"
   ]
  },
  {
   "cell_type": "markdown",
   "metadata": {},
   "source": [
    "Now I have the revenue generated from each user per month."
   ]
  },
  {
   "cell_type": "markdown",
   "metadata": {},
   "source": [
    "## Study user behaviour"
   ]
  },
  {
   "cell_type": "markdown",
   "metadata": {},
   "source": [
    "[Calculate some useful descriptive statistics for the aggregated and merged data, which typically reveal an overall picture captured by the data. Draw useful plots to help the understanding. Given that the main task is to compare the plans and decide on which one is more profitable, the statistics and the plots should be calculated on a per-plan basis.]\n",
    "\n",
    "[There are relevant hints in the comments for Calls but they are not provided for Messages and Internet though the principle of statistical study is the same for them as for Calls.]"
   ]
  },
  {
   "cell_type": "markdown",
   "metadata": {},
   "source": [
    "Now, an analysis regarding the users' behaviour, including the differences in behaviour between users from different plans regarding their calls, messages, and internet activity. I am also going to produce plots for visualization of the numbers for better insights and easier readability. From the analysis, I will try to come to the conclusion of which plan actually brings in more profit compared to the other."
   ]
  },
  {
   "cell_type": "markdown",
   "metadata": {},
   "source": [
    "### Calls"
   ]
  },
  {
   "cell_type": "code",
   "execution_count": 38,
   "metadata": {
    "trusted": true
   },
   "outputs": [],
   "source": [
    "# Getting the month column out of index\n",
    "agg_table = agg_table.reset_index('month')\n",
    "\n",
    "# Separating surf and ultimate plans' data\n",
    "surf_agg = agg_table[agg_table['plan'] == 'surf']\n",
    "ultimate_agg = agg_table[agg_table['plan'] == 'ultimate']"
   ]
  },
  {
   "cell_type": "code",
   "execution_count": 39,
   "metadata": {
    "trusted": true
   },
   "outputs": [
    {
     "data": {
      "text/html": [
       "<div>\n",
       "<style scoped>\n",
       "    .dataframe tbody tr th:only-of-type {\n",
       "        vertical-align: middle;\n",
       "    }\n",
       "\n",
       "    .dataframe tbody tr th {\n",
       "        vertical-align: top;\n",
       "    }\n",
       "\n",
       "    .dataframe thead th {\n",
       "        text-align: right;\n",
       "    }\n",
       "</style>\n",
       "<table border=\"1\" class=\"dataframe\">\n",
       "  <thead>\n",
       "    <tr style=\"text-align: right;\">\n",
       "      <th></th>\n",
       "      <th>surf</th>\n",
       "      <th>ultimate</th>\n",
       "      <th>total</th>\n",
       "    </tr>\n",
       "    <tr>\n",
       "      <th>month</th>\n",
       "      <th></th>\n",
       "      <th></th>\n",
       "      <th></th>\n",
       "    </tr>\n",
       "  </thead>\n",
       "  <tbody>\n",
       "    <tr>\n",
       "      <th>1</th>\n",
       "      <td>203.00</td>\n",
       "      <td>193.50</td>\n",
       "      <td>396.50</td>\n",
       "    </tr>\n",
       "    <tr>\n",
       "      <th>2</th>\n",
       "      <td>297.00</td>\n",
       "      <td>403.14</td>\n",
       "      <td>700.14</td>\n",
       "    </tr>\n",
       "    <tr>\n",
       "      <th>3</th>\n",
       "      <td>330.00</td>\n",
       "      <td>304.25</td>\n",
       "      <td>634.25</td>\n",
       "    </tr>\n",
       "    <tr>\n",
       "      <th>4</th>\n",
       "      <td>351.54</td>\n",
       "      <td>336.86</td>\n",
       "      <td>688.40</td>\n",
       "    </tr>\n",
       "    <tr>\n",
       "      <th>5</th>\n",
       "      <td>399.58</td>\n",
       "      <td>406.24</td>\n",
       "      <td>805.82</td>\n",
       "    </tr>\n",
       "    <tr>\n",
       "      <th>6</th>\n",
       "      <td>431.30</td>\n",
       "      <td>370.96</td>\n",
       "      <td>802.26</td>\n",
       "    </tr>\n",
       "    <tr>\n",
       "      <th>7</th>\n",
       "      <td>449.98</td>\n",
       "      <td>427.07</td>\n",
       "      <td>877.05</td>\n",
       "    </tr>\n",
       "    <tr>\n",
       "      <th>8</th>\n",
       "      <td>410.11</td>\n",
       "      <td>421.44</td>\n",
       "      <td>831.55</td>\n",
       "    </tr>\n",
       "    <tr>\n",
       "      <th>9</th>\n",
       "      <td>414.23</td>\n",
       "      <td>437.51</td>\n",
       "      <td>851.74</td>\n",
       "    </tr>\n",
       "    <tr>\n",
       "      <th>10</th>\n",
       "      <td>429.73</td>\n",
       "      <td>450.74</td>\n",
       "      <td>880.47</td>\n",
       "    </tr>\n",
       "    <tr>\n",
       "      <th>11</th>\n",
       "      <td>423.33</td>\n",
       "      <td>445.20</td>\n",
       "      <td>868.53</td>\n",
       "    </tr>\n",
       "    <tr>\n",
       "      <th>12</th>\n",
       "      <td>473.84</td>\n",
       "      <td>459.10</td>\n",
       "      <td>932.94</td>\n",
       "    </tr>\n",
       "  </tbody>\n",
       "</table>\n",
       "</div>"
      ],
      "text/plain": [
       "         surf  ultimate   total\n",
       "month                          \n",
       "1      203.00    193.50  396.50\n",
       "2      297.00    403.14  700.14\n",
       "3      330.00    304.25  634.25\n",
       "4      351.54    336.86  688.40\n",
       "5      399.58    406.24  805.82\n",
       "6      431.30    370.96  802.26\n",
       "7      449.98    427.07  877.05\n",
       "8      410.11    421.44  831.55\n",
       "9      414.23    437.51  851.74\n",
       "10     429.73    450.74  880.47\n",
       "11     423.33    445.20  868.53\n",
       "12     473.84    459.10  932.94"
      ]
     },
     "execution_count": 39,
     "metadata": {},
     "output_type": "execute_result"
    }
   ],
   "source": [
    "# Compare average duration of calls per each plan per each distinct month. Plot a bar plat to visualize it.\n",
    "\n",
    "# Grabbing the duration for each plans\n",
    "duration_surf = surf_agg[['duration_rounded', 'month']]\n",
    "duration_ultimate = ultimate_agg[['duration_rounded', 'month']]\n",
    "\n",
    "# Grouping by the months for their monthly duration and then merging them together\n",
    "duration_ultimate = duration_ultimate.groupby('month').mean()\n",
    "duration_surf = duration_surf.groupby('month').mean()\n",
    "duration_merged = duration_surf.merge(\n",
    "    duration_ultimate,\n",
    "    left_index=True,\n",
    "    right_index=True,\n",
    "    \n",
    ")\n",
    "\n",
    "duration_merged = duration_merged.rename(columns={'duration_rounded_x':'surf', 'duration_rounded_y':'ultimate'})\n",
    "duration_merged = duration_merged.round(2)\n",
    "duration_merged['total'] = duration_merged['surf'] + duration_merged['ultimate']\n",
    "duration_merged"
   ]
  },
  {
   "cell_type": "code",
   "execution_count": 40,
   "metadata": {
    "trusted": true
   },
   "outputs": [
    {
     "data": {
      "image/png": "[encoded data removed]",
      "text/plain": [
       "<Figure size 1000x1000 with 1 Axes>"
      ]
     },
     "metadata": {},
     "output_type": "display_data"
    }
   ],
   "source": [
    "# Plotting the table to a bar graph for visualization\n",
    "duration_merged.plot(\n",
    "    y=['surf', 'ultimate'],\n",
    "    kind='bar',\n",
    "    figsize=[10, 10],\n",
    "    xlabel='Month of the year',\n",
    "    ylabel='Average call duration(minutes)',\n",
    "    title='Average call duration per month for each plan',\n",
    "    rot=0\n",
    "    \n",
    ")\n",
    "\n",
    "plt.show()\n"
   ]
  },
  {
   "cell_type": "code",
   "execution_count": 41,
   "metadata": {
    "trusted": true
   },
   "outputs": [
    {
     "data": {
      "image/png": "[encoded data removed]",
      "text/plain": [
       "<Figure size 640x480 with 1 Axes>"
      ]
     },
     "metadata": {},
     "output_type": "display_data"
    }
   ],
   "source": [
    "# Compare the number of minutes users of each plan require each month. Plot a histogram.\n",
    "\n",
    "duration_merged['surf'].hist(bins=5)\n",
    "duration_merged['ultimate'].hist(alpha=0.7, bins=4)\n",
    "\n",
    "plt.show()"
   ]
  },
  {
   "cell_type": "markdown",
   "metadata": {},
   "source": [
    "[Calculate the mean and the variable of the call duration to reason on whether users on the different plans have different behaviours for their calls.]"
   ]
  },
  {
   "cell_type": "code",
   "execution_count": 42,
   "metadata": {
    "trusted": true
   },
   "outputs": [
    {
     "name": "stdout",
     "output_type": "stream",
     "text": [
      "Surf plan duration mean: 384\n",
      "Surf plan duration variance: 5858\n",
      "Ultimate plan duration mean: 388\n",
      "Ultimate plan duration variance: 5970\n"
     ]
    }
   ],
   "source": [
    "# Calculate the mean and the variance of the monthly call duration\n",
    "\n",
    "surf_duration_mean = duration_merged['surf'].mean()\n",
    "surf_duration_var = duration_merged['surf'].var()\n",
    "\n",
    "print('Surf plan duration mean:', round(surf_duration_mean))\n",
    "print('Surf plan duration variance:', round(surf_duration_var))\n",
    "\n",
    "ultimate_duration_mean = duration_merged['ultimate'].mean()\n",
    "ultimate_duration_var = duration_merged['ultimate'].var()\n",
    "\n",
    "print('Ultimate plan duration mean:', round(ultimate_duration_mean))\n",
    "print('Ultimate plan duration variance:', round(ultimate_duration_var))"
   ]
  },
  {
   "cell_type": "code",
   "execution_count": 43,
   "metadata": {
    "trusted": true
   },
   "outputs": [
    {
     "data": {
      "image/png": "[encoded data removed]",
      "text/plain": [
       "<Figure size 640x480 with 1 Axes>"
      ]
     },
     "metadata": {},
     "output_type": "display_data"
    }
   ],
   "source": [
    "# Plot a boxplot to visualize the distribution of the monthly call duration\n",
    "\n",
    "duration_merged[['surf', 'ultimate']].boxplot()\n",
    "plt.ylabel('Average duration')\n",
    "plt.show()"
   ]
  },
  {
   "cell_type": "code",
   "execution_count": 44,
   "metadata": {
    "trusted": true
   },
   "outputs": [
    {
     "data": {
      "text/html": [
       "<div>\n",
       "<style scoped>\n",
       "    .dataframe tbody tr th:only-of-type {\n",
       "        vertical-align: middle;\n",
       "    }\n",
       "\n",
       "    .dataframe tbody tr th {\n",
       "        vertical-align: top;\n",
       "    }\n",
       "\n",
       "    .dataframe thead th {\n",
       "        text-align: right;\n",
       "    }\n",
       "</style>\n",
       "<table border=\"1\" class=\"dataframe\">\n",
       "  <thead>\n",
       "    <tr style=\"text-align: right;\">\n",
       "      <th></th>\n",
       "      <th>surf</th>\n",
       "      <th>ultimate</th>\n",
       "    </tr>\n",
       "  </thead>\n",
       "  <tbody>\n",
       "    <tr>\n",
       "      <th>count</th>\n",
       "      <td>12.00</td>\n",
       "      <td>12.00</td>\n",
       "    </tr>\n",
       "    <tr>\n",
       "      <th>mean</th>\n",
       "      <td>384.47</td>\n",
       "      <td>388.00</td>\n",
       "    </tr>\n",
       "    <tr>\n",
       "      <th>std</th>\n",
       "      <td>76.54</td>\n",
       "      <td>77.27</td>\n",
       "    </tr>\n",
       "    <tr>\n",
       "      <th>min</th>\n",
       "      <td>203.00</td>\n",
       "      <td>193.50</td>\n",
       "    </tr>\n",
       "    <tr>\n",
       "      <th>25%</th>\n",
       "      <td>346.16</td>\n",
       "      <td>362.44</td>\n",
       "    </tr>\n",
       "    <tr>\n",
       "      <th>50%</th>\n",
       "      <td>412.17</td>\n",
       "      <td>413.84</td>\n",
       "    </tr>\n",
       "    <tr>\n",
       "      <th>75%</th>\n",
       "      <td>430.12</td>\n",
       "      <td>439.43</td>\n",
       "    </tr>\n",
       "    <tr>\n",
       "      <th>max</th>\n",
       "      <td>473.84</td>\n",
       "      <td>459.10</td>\n",
       "    </tr>\n",
       "  </tbody>\n",
       "</table>\n",
       "</div>"
      ],
      "text/plain": [
       "         surf  ultimate\n",
       "count   12.00     12.00\n",
       "mean   384.47    388.00\n",
       "std     76.54     77.27\n",
       "min    203.00    193.50\n",
       "25%    346.16    362.44\n",
       "50%    412.17    413.84\n",
       "75%    430.12    439.43\n",
       "max    473.84    459.10"
      ]
     },
     "execution_count": 44,
     "metadata": {},
     "output_type": "execute_result"
    }
   ],
   "source": [
    "duration_merged[['surf', 'ultimate']].describe().round(2)"
   ]
  },
  {
   "cell_type": "markdown",
   "metadata": {},
   "source": [
    "Through the box plot we can see that both plans have outliers around the 200-minute duration. Both plans have a negative skew, while having almost the same value as the median. The distribution of both plans are very similar, with almost the same values in the average and the variance values of both plans' call behaviour.\n",
    "\n",
    "We can see that during the first 6 months of the year, the surf plan has higher averages than its ultimate counterpart for the same month, with only February and May where ultimate has a higher average. This pattern reverses on the last 6 months, where in 4 of the months, ultimate has a higher average duration than surf. December has the most number of minutes for both plans. This is likely due to the end of the year being the time when people are on break from their work, and therefore have extra time to spare doing phone calls. October comes in 2nd place, and followed by July for the highest average call duration in 2018."
   ]
  },
  {
   "cell_type": "markdown",
   "metadata": {},
   "source": [
    "[Formulate conclusions on how the users behave in terms of calling. Is their behaviour different between the plans?]"
   ]
  },
  {
   "cell_type": "markdown",
   "metadata": {},
   "source": [
    "### Messages"
   ]
  },
  {
   "cell_type": "code",
   "execution_count": 45,
   "metadata": {
    "trusted": true
   },
   "outputs": [
    {
     "data": {
      "text/html": [
       "<div>\n",
       "<style scoped>\n",
       "    .dataframe tbody tr th:only-of-type {\n",
       "        vertical-align: middle;\n",
       "    }\n",
       "\n",
       "    .dataframe tbody tr th {\n",
       "        vertical-align: top;\n",
       "    }\n",
       "\n",
       "    .dataframe thead th {\n",
       "        text-align: right;\n",
       "    }\n",
       "</style>\n",
       "<table border=\"1\" class=\"dataframe\">\n",
       "  <thead>\n",
       "    <tr style=\"text-align: right;\">\n",
       "      <th></th>\n",
       "      <th>surf</th>\n",
       "      <th>ultimate</th>\n",
       "    </tr>\n",
       "    <tr>\n",
       "      <th>month</th>\n",
       "      <th></th>\n",
       "      <th></th>\n",
       "    </tr>\n",
       "  </thead>\n",
       "  <tbody>\n",
       "    <tr>\n",
       "      <th>1</th>\n",
       "      <td>10</td>\n",
       "      <td>16</td>\n",
       "    </tr>\n",
       "    <tr>\n",
       "      <th>2</th>\n",
       "      <td>12</td>\n",
       "      <td>22</td>\n",
       "    </tr>\n",
       "    <tr>\n",
       "      <th>3</th>\n",
       "      <td>15</td>\n",
       "      <td>20</td>\n",
       "    </tr>\n",
       "    <tr>\n",
       "      <th>4</th>\n",
       "      <td>17</td>\n",
       "      <td>22</td>\n",
       "    </tr>\n",
       "    <tr>\n",
       "      <th>5</th>\n",
       "      <td>24</td>\n",
       "      <td>32</td>\n",
       "    </tr>\n",
       "    <tr>\n",
       "      <th>6</th>\n",
       "      <td>25</td>\n",
       "      <td>29</td>\n",
       "    </tr>\n",
       "    <tr>\n",
       "      <th>7</th>\n",
       "      <td>27</td>\n",
       "      <td>33</td>\n",
       "    </tr>\n",
       "    <tr>\n",
       "      <th>8</th>\n",
       "      <td>29</td>\n",
       "      <td>38</td>\n",
       "    </tr>\n",
       "    <tr>\n",
       "      <th>9</th>\n",
       "      <td>31</td>\n",
       "      <td>38</td>\n",
       "    </tr>\n",
       "    <tr>\n",
       "      <th>10</th>\n",
       "      <td>34</td>\n",
       "      <td>39</td>\n",
       "    </tr>\n",
       "    <tr>\n",
       "      <th>11</th>\n",
       "      <td>32</td>\n",
       "      <td>39</td>\n",
       "    </tr>\n",
       "    <tr>\n",
       "      <th>12</th>\n",
       "      <td>39</td>\n",
       "      <td>45</td>\n",
       "    </tr>\n",
       "  </tbody>\n",
       "</table>\n",
       "</div>"
      ],
      "text/plain": [
       "       surf  ultimate\n",
       "month                \n",
       "1        10        16\n",
       "2        12        22\n",
       "3        15        20\n",
       "4        17        22\n",
       "5        24        32\n",
       "6        25        29\n",
       "7        27        33\n",
       "8        29        38\n",
       "9        31        38\n",
       "10       34        39\n",
       "11       32        39\n",
       "12       39        45"
      ]
     },
     "execution_count": 45,
     "metadata": {},
     "output_type": "execute_result"
    }
   ],
   "source": [
    "# Compare the number of messages users of each plan tend to send each month\n",
    "\n",
    "# Seperating message count for each plan\n",
    "messages_surf = surf_agg[['messages_count', 'month']]\n",
    "messages_ultimate = ultimate_agg[['messages_count', 'month']]\n",
    "\n",
    "# Grouping by the month for monthly usage and averaging the uses\n",
    "messages_surf = messages_surf.groupby('month').mean()\n",
    "messages_ultimate = messages_ultimate.groupby('month').mean()\n",
    "\n",
    "# Merging both dataframes\n",
    "messages_merged = messages_surf.merge(messages_ultimate,  left_index=True, right_index=True)\n",
    "                                                              \n",
    "# Renaming the columns\n",
    "messages_merged = messages_merged.rename(\n",
    "    columns={'messages_count_x':'surf', 'messages_count_y':'ultimate'}\n",
    ")\n",
    "# Changing the messages count to integer as it doesn't make sense to send half a message\n",
    "messages_merged = messages_merged.round().astype('int')\n",
    "messages_merged"
   ]
  },
  {
   "cell_type": "code",
   "execution_count": 46,
   "metadata": {
    "trusted": true
   },
   "outputs": [
    {
     "data": {
      "image/png": "[encoded data removed]",
      "text/plain": [
       "<Figure size 1000x700 with 1 Axes>"
      ]
     },
     "metadata": {},
     "output_type": "display_data"
    }
   ],
   "source": [
    "# Compare the amount of internet traffic consumed by users per plan\n",
    "\n",
    "messages_merged.plot(\n",
    "    title='Average messages sent per month for each plan',\n",
    "    y=['surf', 'ultimate'],\n",
    "    xlabel='Month of the year',\n",
    "    ylabel='Messages sent',\n",
    "    kind='bar',\n",
    "    figsize=[10, 7],\n",
    "    rot=0\n",
    ")\n",
    "\n",
    "plt.show()"
   ]
  },
  {
   "cell_type": "markdown",
   "metadata": {},
   "source": [
    "[Formulate conclusions on how the users behave in terms of messaging. Is their behaviour different between the plans?]"
   ]
  },
  {
   "cell_type": "markdown",
   "metadata": {},
   "source": [
    "Unlike the call minutes, ultimate consistently has a higher average than surf users, with all months having ultimate users sending more messages. This graph also shows how the average number of messages sent increases for both plans as it reaches the end of the year, having December as the highest average of messages sent overall."
   ]
  },
  {
   "cell_type": "markdown",
   "metadata": {},
   "source": [
    " "
   ]
  },
  {
   "cell_type": "code",
   "execution_count": 47,
   "metadata": {
    "trusted": true
   },
   "outputs": [
    {
     "data": {
      "image/png": "[encoded data removed]",
      "text/plain": [
       "<Figure size 640x480 with 1 Axes>"
      ]
     },
     "metadata": {},
     "output_type": "display_data"
    }
   ],
   "source": [
    "surf_agg['gb_used'].hist(alpha=0.5)\n",
    "ultimate_agg['gb_used'].hist(alpha=0.7)\n",
    "\n",
    "plt.xlabel('Gigabytes used')\n",
    "\n",
    "plt.show()\n"
   ]
  },
  {
   "cell_type": "code",
   "execution_count": 48,
   "metadata": {
    "trusted": true
   },
   "outputs": [
    {
     "data": {
      "text/plain": [
       "count    1573.000000\n",
       "mean       16.670693\n",
       "std         7.847522\n",
       "min         0.000000\n",
       "25%        12.000000\n",
       "50%        17.000000\n",
       "75%        21.000000\n",
       "max        70.000000\n",
       "Name: gb_used, dtype: float64"
      ]
     },
     "execution_count": 48,
     "metadata": {},
     "output_type": "execute_result"
    }
   ],
   "source": [
    "surf_agg['gb_used'].describe()"
   ]
  },
  {
   "cell_type": "code",
   "execution_count": 49,
   "metadata": {
    "trusted": true
   },
   "outputs": [
    {
     "data": {
      "text/plain": [
       "count    720.000000\n",
       "mean      17.306944\n",
       "std        7.670108\n",
       "min        0.000000\n",
       "25%       13.000000\n",
       "50%       17.000000\n",
       "75%       21.000000\n",
       "max       46.000000\n",
       "Name: gb_used, dtype: float64"
      ]
     },
     "execution_count": 49,
     "metadata": {},
     "output_type": "execute_result"
    }
   ],
   "source": [
    "ultimate_agg['gb_used'].describe()"
   ]
  },
  {
   "cell_type": "code",
   "execution_count": 50,
   "metadata": {
    "trusted": true
   },
   "outputs": [
    {
     "name": "stdout",
     "output_type": "stream",
     "text": [
      "Surf internet usage IQR: 9.0\n",
      "Surf internet usage variance: 62\n",
      "Ultimate internet usage IQR: 8.0\n",
      "Ultimate internet usage variance: 59\n"
     ]
    }
   ],
   "source": [
    "surf_internet_iqr = surf_agg['gb_used'].quantile(0.75) - surf_agg['gb_used'].quantile(0.25)\n",
    "ultimate_internet_iqr = ultimate_agg['gb_used'].quantile(0.75) - ultimate_agg['gb_used'].quantile(0.25)\n",
    "\n",
    "print(\"Surf internet usage IQR:\", surf_internet_iqr)\n",
    "print(\"Surf internet usage variance:\", round(surf_agg['gb_used'].var()))\n",
    "print(\"Ultimate internet usage IQR:\", ultimate_internet_iqr)\n",
    "print(\"Ultimate internet usage variance:\", round(ultimate_agg['gb_used'].var()))"
   ]
  },
  {
   "cell_type": "markdown",
   "metadata": {},
   "source": [
    "Based on the data, it can be seen that the usage of internet from both plans are similar, with their IQR at around the same range, as well as the median, mean, standard deviation, and variance. The only huge difference that shows is the maximum usage of a user in a month, which a certain surf user has almost double the value usage compared to that of the user who used the most in a month from ultimate."
   ]
  },
  {
   "cell_type": "markdown",
   "metadata": {},
   "source": [
    "### Internet"
   ]
  },
  {
   "cell_type": "code",
   "execution_count": 51,
   "metadata": {
    "trusted": true
   },
   "outputs": [
    {
     "data": {
      "text/html": [
       "<div>\n",
       "<style scoped>\n",
       "    .dataframe tbody tr th:only-of-type {\n",
       "        vertical-align: middle;\n",
       "    }\n",
       "\n",
       "    .dataframe tbody tr th {\n",
       "        vertical-align: top;\n",
       "    }\n",
       "\n",
       "    .dataframe thead th {\n",
       "        text-align: right;\n",
       "    }\n",
       "</style>\n",
       "<table border=\"1\" class=\"dataframe\">\n",
       "  <thead>\n",
       "    <tr style=\"text-align: right;\">\n",
       "      <th></th>\n",
       "      <th>surf</th>\n",
       "      <th>ultimate</th>\n",
       "    </tr>\n",
       "    <tr>\n",
       "      <th>month</th>\n",
       "      <th></th>\n",
       "      <th></th>\n",
       "    </tr>\n",
       "  </thead>\n",
       "  <tbody>\n",
       "    <tr>\n",
       "      <th>1</th>\n",
       "      <td>5.00</td>\n",
       "      <td>7.25</td>\n",
       "    </tr>\n",
       "    <tr>\n",
       "      <th>2</th>\n",
       "      <td>12.22</td>\n",
       "      <td>17.29</td>\n",
       "    </tr>\n",
       "    <tr>\n",
       "      <th>3</th>\n",
       "      <td>13.57</td>\n",
       "      <td>18.42</td>\n",
       "    </tr>\n",
       "    <tr>\n",
       "      <th>4</th>\n",
       "      <td>12.22</td>\n",
       "      <td>16.33</td>\n",
       "    </tr>\n",
       "    <tr>\n",
       "      <th>5</th>\n",
       "      <td>14.12</td>\n",
       "      <td>16.86</td>\n",
       "    </tr>\n",
       "    <tr>\n",
       "      <th>6</th>\n",
       "      <td>15.48</td>\n",
       "      <td>15.43</td>\n",
       "    </tr>\n",
       "    <tr>\n",
       "      <th>7</th>\n",
       "      <td>16.88</td>\n",
       "      <td>16.49</td>\n",
       "    </tr>\n",
       "    <tr>\n",
       "      <th>8</th>\n",
       "      <td>16.88</td>\n",
       "      <td>17.85</td>\n",
       "    </tr>\n",
       "    <tr>\n",
       "      <th>9</th>\n",
       "      <td>16.69</td>\n",
       "      <td>17.01</td>\n",
       "    </tr>\n",
       "    <tr>\n",
       "      <th>10</th>\n",
       "      <td>17.41</td>\n",
       "      <td>17.72</td>\n",
       "    </tr>\n",
       "    <tr>\n",
       "      <th>11</th>\n",
       "      <td>16.43</td>\n",
       "      <td>17.12</td>\n",
       "    </tr>\n",
       "    <tr>\n",
       "      <th>12</th>\n",
       "      <td>18.24</td>\n",
       "      <td>18.40</td>\n",
       "    </tr>\n",
       "  </tbody>\n",
       "</table>\n",
       "</div>"
      ],
      "text/plain": [
       "        surf  ultimate\n",
       "month                 \n",
       "1       5.00      7.25\n",
       "2      12.22     17.29\n",
       "3      13.57     18.42\n",
       "4      12.22     16.33\n",
       "5      14.12     16.86\n",
       "6      15.48     15.43\n",
       "7      16.88     16.49\n",
       "8      16.88     17.85\n",
       "9      16.69     17.01\n",
       "10     17.41     17.72\n",
       "11     16.43     17.12\n",
       "12     18.24     18.40"
      ]
     },
     "execution_count": 51,
     "metadata": {},
     "output_type": "execute_result"
    }
   ],
   "source": [
    "# Grabbing the internet usage per month for each plan\n",
    "internet_surf = surf_agg[['gb_used', 'month']]\n",
    "internet_surf = internet_surf.groupby('month').mean()\n",
    "internet_ultimate = ultimate_agg[['gb_used', 'month']]\n",
    "internet_ultimate = internet_ultimate.groupby('month').mean()\n",
    "\n",
    "# Merging the two tables together\n",
    "internet_merged = internet_surf.merge(internet_ultimate, left_index=True, right_index=True)\n",
    "internet_merged = internet_merged.rename(\n",
    "    columns={'gb_used_x':'surf', 'gb_used_y':'ultimate'}\n",
    ")\n",
    "internet_merged = internet_merged.round(2)\n",
    "\n",
    "internet_merged"
   ]
  },
  {
   "cell_type": "code",
   "execution_count": 52,
   "metadata": {
    "trusted": true
   },
   "outputs": [
    {
     "data": {
      "image/png": "[encoded data removed]",
      "text/plain": [
       "<Figure size 1000x800 with 1 Axes>"
      ]
     },
     "metadata": {},
     "output_type": "display_data"
    }
   ],
   "source": [
    "internet_merged.plot(\n",
    "    kind='bar',\n",
    "    title='Average data usage per month for each plan',\n",
    "    ylabel='Data used in GB',\n",
    "    figsize=[10,8]\n",
    ")\n",
    "\n",
    "plt.show()"
   ]
  },
  {
   "cell_type": "code",
   "execution_count": 53,
   "metadata": {
    "trusted": true
   },
   "outputs": [
    {
     "data": {
      "text/html": [
       "<div>\n",
       "<style scoped>\n",
       "    .dataframe tbody tr th:only-of-type {\n",
       "        vertical-align: middle;\n",
       "    }\n",
       "\n",
       "    .dataframe tbody tr th {\n",
       "        vertical-align: top;\n",
       "    }\n",
       "\n",
       "    .dataframe thead th {\n",
       "        text-align: right;\n",
       "    }\n",
       "</style>\n",
       "<table border=\"1\" class=\"dataframe\">\n",
       "  <thead>\n",
       "    <tr style=\"text-align: right;\">\n",
       "      <th></th>\n",
       "      <th>surf</th>\n",
       "      <th>ultimate</th>\n",
       "    </tr>\n",
       "  </thead>\n",
       "  <tbody>\n",
       "    <tr>\n",
       "      <th>count</th>\n",
       "      <td>12.000000</td>\n",
       "      <td>12.00000</td>\n",
       "    </tr>\n",
       "    <tr>\n",
       "      <th>mean</th>\n",
       "      <td>14.595000</td>\n",
       "      <td>16.34750</td>\n",
       "    </tr>\n",
       "    <tr>\n",
       "      <th>std</th>\n",
       "      <td>3.628344</td>\n",
       "      <td>2.99185</td>\n",
       "    </tr>\n",
       "    <tr>\n",
       "      <th>min</th>\n",
       "      <td>5.000000</td>\n",
       "      <td>7.25000</td>\n",
       "    </tr>\n",
       "    <tr>\n",
       "      <th>25%</th>\n",
       "      <td>13.232500</td>\n",
       "      <td>16.45000</td>\n",
       "    </tr>\n",
       "    <tr>\n",
       "      <th>50%</th>\n",
       "      <td>15.955000</td>\n",
       "      <td>17.06500</td>\n",
       "    </tr>\n",
       "    <tr>\n",
       "      <th>75%</th>\n",
       "      <td>16.880000</td>\n",
       "      <td>17.75250</td>\n",
       "    </tr>\n",
       "    <tr>\n",
       "      <th>max</th>\n",
       "      <td>18.240000</td>\n",
       "      <td>18.42000</td>\n",
       "    </tr>\n",
       "  </tbody>\n",
       "</table>\n",
       "</div>"
      ],
      "text/plain": [
       "            surf  ultimate\n",
       "count  12.000000  12.00000\n",
       "mean   14.595000  16.34750\n",
       "std     3.628344   2.99185\n",
       "min     5.000000   7.25000\n",
       "25%    13.232500  16.45000\n",
       "50%    15.955000  17.06500\n",
       "75%    16.880000  17.75250\n",
       "max    18.240000  18.42000"
      ]
     },
     "execution_count": 53,
     "metadata": {},
     "output_type": "execute_result"
    }
   ],
   "source": [
    "internet_merged.describe()"
   ]
  },
  {
   "cell_type": "code",
   "execution_count": 54,
   "metadata": {
    "trusted": true
   },
   "outputs": [
    {
     "data": {
      "image/png": "[encoded data removed]",
      "text/plain": [
       "<Figure size 1000x800 with 1 Axes>"
      ]
     },
     "metadata": {},
     "output_type": "display_data"
    }
   ],
   "source": [
    "internet_merged.boxplot(figsize=[10, 8])\n",
    "plt.ylabel('Average data used per month')\n",
    "plt.show()"
   ]
  },
  {
   "cell_type": "code",
   "execution_count": 55,
   "metadata": {
    "trusted": true
   },
   "outputs": [
    {
     "name": "stdout",
     "output_type": "stream",
     "text": [
      "Surf average usage IQR: 4\n",
      "Surf average usage variance: 13\n",
      "Ultimate average usage IQR: 1\n",
      "Ultimate average usage variance: 9\n"
     ]
    }
   ],
   "source": [
    "print(\"Surf average usage IQR:\", round(internet_merged['surf'].quantile(.75) - internet_merged['surf'].quantile(.25)))\n",
    "print(\"Surf average usage variance:\", round(internet_merged['surf'].var()))\n",
    "print(\"Ultimate average usage IQR:\", round(internet_merged['ultimate'].quantile(.75) - internet_merged['ultimate'].quantile(.25)))\n",
    "print(\"Ultimate average usage variance:\", round(internet_merged['ultimate'].var()))"
   ]
  },
  {
   "cell_type": "markdown",
   "metadata": {},
   "source": [
    "[Formulate conclusions on how the users tend to consume the internet traffic? Is their behaviour different between the plans?]"
   ]
  },
  {
   "cell_type": "markdown",
   "metadata": {},
   "source": [
    "Based on the plots we can see that ultimate users tend to use a higher amount of data compared to surf users, with ultimate users having a higher concentration of users using 16-17 gigabytes of data, in comparison to surf users, which has a more spread out amount of data used with a range between 13-17 gigabytes of usage monthly. Surf internet usage also has a negative skew, whereas ultimate users have a slight positive skew."
   ]
  },
  {
   "cell_type": "markdown",
   "metadata": {},
   "source": [
    "## Revenue"
   ]
  },
  {
   "cell_type": "markdown",
   "metadata": {},
   "source": [
    "[Likewise you have studied the user behaviour, statistically describe the revenue between the plans.]"
   ]
  },
  {
   "cell_type": "code",
   "execution_count": 56,
   "metadata": {
    "trusted": true
   },
   "outputs": [
    {
     "data": {
      "text/html": [
       "<div>\n",
       "<style scoped>\n",
       "    .dataframe tbody tr th:only-of-type {\n",
       "        vertical-align: middle;\n",
       "    }\n",
       "\n",
       "    .dataframe tbody tr th {\n",
       "        vertical-align: top;\n",
       "    }\n",
       "\n",
       "    .dataframe thead th {\n",
       "        text-align: right;\n",
       "    }\n",
       "</style>\n",
       "<table border=\"1\" class=\"dataframe\">\n",
       "  <thead>\n",
       "    <tr style=\"text-align: right;\">\n",
       "      <th></th>\n",
       "      <th>month</th>\n",
       "      <th>surf</th>\n",
       "      <th>ultimate</th>\n",
       "    </tr>\n",
       "  </thead>\n",
       "  <tbody>\n",
       "    <tr>\n",
       "      <th>0</th>\n",
       "      <td>1</td>\n",
       "      <td>40.00</td>\n",
       "      <td>280.0</td>\n",
       "    </tr>\n",
       "    <tr>\n",
       "      <th>1</th>\n",
       "      <td>2</td>\n",
       "      <td>309.57</td>\n",
       "      <td>490.0</td>\n",
       "    </tr>\n",
       "    <tr>\n",
       "      <th>2</th>\n",
       "      <td>3</td>\n",
       "      <td>1056.65</td>\n",
       "      <td>896.0</td>\n",
       "    </tr>\n",
       "    <tr>\n",
       "      <th>3</th>\n",
       "      <td>4</td>\n",
       "      <td>2035.53</td>\n",
       "      <td>1533.0</td>\n",
       "    </tr>\n",
       "    <tr>\n",
       "      <th>4</th>\n",
       "      <td>5</td>\n",
       "      <td>3667.37</td>\n",
       "      <td>2051.0</td>\n",
       "    </tr>\n",
       "    <tr>\n",
       "      <th>5</th>\n",
       "      <td>6</td>\n",
       "      <td>4779.80</td>\n",
       "      <td>3367.0</td>\n",
       "    </tr>\n",
       "    <tr>\n",
       "      <th>6</th>\n",
       "      <td>7</td>\n",
       "      <td>7583.56</td>\n",
       "      <td>4242.0</td>\n",
       "    </tr>\n",
       "    <tr>\n",
       "      <th>7</th>\n",
       "      <td>8</td>\n",
       "      <td>10356.85</td>\n",
       "      <td>5173.0</td>\n",
       "    </tr>\n",
       "    <tr>\n",
       "      <th>8</th>\n",
       "      <td>9</td>\n",
       "      <td>11304.67</td>\n",
       "      <td>6195.0</td>\n",
       "    </tr>\n",
       "    <tr>\n",
       "      <th>9</th>\n",
       "      <td>10</td>\n",
       "      <td>15504.83</td>\n",
       "      <td>7665.0</td>\n",
       "    </tr>\n",
       "    <tr>\n",
       "      <th>10</th>\n",
       "      <td>11</td>\n",
       "      <td>16415.21</td>\n",
       "      <td>9107.0</td>\n",
       "    </tr>\n",
       "    <tr>\n",
       "      <th>11</th>\n",
       "      <td>12</td>\n",
       "      <td>22437.14</td>\n",
       "      <td>11067.0</td>\n",
       "    </tr>\n",
       "  </tbody>\n",
       "</table>\n",
       "</div>"
      ],
      "text/plain": [
       "    month      surf  ultimate\n",
       "0       1     40.00     280.0\n",
       "1       2    309.57     490.0\n",
       "2       3   1056.65     896.0\n",
       "3       4   2035.53    1533.0\n",
       "4       5   3667.37    2051.0\n",
       "5       6   4779.80    3367.0\n",
       "6       7   7583.56    4242.0\n",
       "7       8  10356.85    5173.0\n",
       "8       9  11304.67    6195.0\n",
       "9      10  15504.83    7665.0\n",
       "10     11  16415.21    9107.0\n",
       "11     12  22437.14   11067.0"
      ]
     },
     "execution_count": 56,
     "metadata": {},
     "output_type": "execute_result"
    }
   ],
   "source": [
    "# Grouping the revenue data of both plans and merging them\n",
    "surf_revenue = surf_agg.groupby('month').sum().reset_index()[['month','revenue']]\n",
    "ultimate_revenue = ultimate_agg.groupby('month').sum().reset_index()[['month', 'revenue']]\n",
    "revenue_merged = surf_revenue.merge(\n",
    "    ultimate_revenue,\n",
    "    on='month'\n",
    ")\n",
    "revenue_merged = revenue_merged.rename(columns={'revenue_x': 'surf', 'revenue_y': 'ultimate'})\n",
    "revenue_merged"
   ]
  },
  {
   "cell_type": "code",
   "execution_count": 57,
   "metadata": {
    "trusted": true
   },
   "outputs": [
    {
     "data": {
      "image/png": "[encoded data removed]",
      "text/plain": [
       "<Figure size 1000x800 with 1 Axes>"
      ]
     },
     "metadata": {},
     "output_type": "display_data"
    }
   ],
   "source": [
    "revenue_merged.plot(\n",
    "    kind='bar',\n",
    "    title='Revenue of each plan per month',\n",
    "    y=['surf', 'ultimate'],\n",
    "    xlabel='month',\n",
    "    ylabel='revenue generated(USD)',\n",
    "    x='month',\n",
    "    figsize=[10,8],\n",
    "    rot=0\n",
    ")\n",
    "\n",
    "plt.show()"
   ]
  },
  {
   "cell_type": "code",
   "execution_count": 58,
   "metadata": {
    "trusted": true
   },
   "outputs": [
    {
     "data": {
      "text/html": [
       "<div>\n",
       "<style scoped>\n",
       "    .dataframe tbody tr th:only-of-type {\n",
       "        vertical-align: middle;\n",
       "    }\n",
       "\n",
       "    .dataframe tbody tr th {\n",
       "        vertical-align: top;\n",
       "    }\n",
       "\n",
       "    .dataframe thead th {\n",
       "        text-align: right;\n",
       "    }\n",
       "</style>\n",
       "<table border=\"1\" class=\"dataframe\">\n",
       "  <thead>\n",
       "    <tr style=\"text-align: right;\">\n",
       "      <th></th>\n",
       "      <th>surf</th>\n",
       "      <th>ultimate</th>\n",
       "    </tr>\n",
       "  </thead>\n",
       "  <tbody>\n",
       "    <tr>\n",
       "      <th>count</th>\n",
       "      <td>12.000000</td>\n",
       "      <td>12.000000</td>\n",
       "    </tr>\n",
       "    <tr>\n",
       "      <th>mean</th>\n",
       "      <td>7957.598333</td>\n",
       "      <td>4338.833333</td>\n",
       "    </tr>\n",
       "    <tr>\n",
       "      <th>std</th>\n",
       "      <td>7308.944540</td>\n",
       "      <td>3572.746329</td>\n",
       "    </tr>\n",
       "    <tr>\n",
       "      <th>min</th>\n",
       "      <td>40.000000</td>\n",
       "      <td>280.000000</td>\n",
       "    </tr>\n",
       "    <tr>\n",
       "      <th>25%</th>\n",
       "      <td>1790.810000</td>\n",
       "      <td>1373.750000</td>\n",
       "    </tr>\n",
       "    <tr>\n",
       "      <th>50%</th>\n",
       "      <td>6181.680000</td>\n",
       "      <td>3804.500000</td>\n",
       "    </tr>\n",
       "    <tr>\n",
       "      <th>75%</th>\n",
       "      <td>12354.710000</td>\n",
       "      <td>6562.500000</td>\n",
       "    </tr>\n",
       "    <tr>\n",
       "      <th>max</th>\n",
       "      <td>22437.140000</td>\n",
       "      <td>11067.000000</td>\n",
       "    </tr>\n",
       "  </tbody>\n",
       "</table>\n",
       "</div>"
      ],
      "text/plain": [
       "               surf      ultimate\n",
       "count     12.000000     12.000000\n",
       "mean    7957.598333   4338.833333\n",
       "std     7308.944540   3572.746329\n",
       "min       40.000000    280.000000\n",
       "25%     1790.810000   1373.750000\n",
       "50%     6181.680000   3804.500000\n",
       "75%    12354.710000   6562.500000\n",
       "max    22437.140000  11067.000000"
      ]
     },
     "execution_count": 58,
     "metadata": {},
     "output_type": "execute_result"
    }
   ],
   "source": [
    "revenue_merged[['surf', 'ultimate']].describe()"
   ]
  },
  {
   "cell_type": "code",
   "execution_count": 59,
   "metadata": {
    "trusted": true
   },
   "outputs": [
    {
     "data": {
      "image/png": "[encoded data removed]",
      "text/plain": [
       "<Figure size 640x480 with 1 Axes>"
      ]
     },
     "metadata": {},
     "output_type": "display_data"
    }
   ],
   "source": [
    "revenue_merged[['surf', 'ultimate']].boxplot()\n",
    "plt.ylabel('Revenue in USD')\n",
    "plt.show()"
   ]
  },
  {
   "cell_type": "code",
   "execution_count": 60,
   "metadata": {
    "trusted": true
   },
   "outputs": [
    {
     "name": "stdout",
     "output_type": "stream",
     "text": [
      "Surf plan's IQR: 10563.9\n",
      "Ultimate plan's IQR: 5188.75\n"
     ]
    }
   ],
   "source": [
    "surf_rev_iqr = revenue_merged['surf'].quantile(.75) - revenue_merged['surf'].quantile(.25)\n",
    "ultimate_rev_iqr = revenue_merged['ultimate'].quantile(.75) - revenue_merged['ultimate'].quantile(.25)\n",
    "print(\"Surf plan's IQR:\",surf_rev_iqr.round(2))\n",
    "print(\"Ultimate plan's IQR:\",ultimate_rev_iqr.round(2))"
   ]
  },
  {
   "cell_type": "code",
   "execution_count": 61,
   "metadata": {
    "trusted": true
   },
   "outputs": [
    {
     "data": {
      "text/plain": [
       "month               1573\n",
       "calls_count         1573\n",
       "duration_rounded    1573\n",
       "gb_used             1573\n",
       "messages_count      1573\n",
       "plan                1573\n",
       "revenue             1573\n",
       "dtype: int64"
      ]
     },
     "execution_count": 61,
     "metadata": {},
     "output_type": "execute_result"
    }
   ],
   "source": [
    "surf_agg.count()"
   ]
  },
  {
   "cell_type": "code",
   "execution_count": 62,
   "metadata": {
    "trusted": true
   },
   "outputs": [
    {
     "data": {
      "text/plain": [
       "month               720\n",
       "calls_count         720\n",
       "duration_rounded    720\n",
       "gb_used             720\n",
       "messages_count      720\n",
       "plan                720\n",
       "revenue             720\n",
       "dtype: int64"
      ]
     },
     "execution_count": 62,
     "metadata": {},
     "output_type": "execute_result"
    }
   ],
   "source": [
    "ultimate_agg.count()"
   ]
  },
  {
   "cell_type": "markdown",
   "metadata": {},
   "source": [
    "From the data we can see that within the first 2 months of the year, ultimate has a higher revenue per month. But that changes once it reaches the third month, with surf starting to bring in more revenue per month, and it continues to grow until the end of the year, where in December, surf had generated more than double the revenue compared to ultimate. Some factors to consider include the fact that there are more surf users than ultimate, and that surf charges more per exceeded monthly usage than ultimate."
   ]
  },
  {
   "cell_type": "code",
   "execution_count": 63,
   "metadata": {
    "trusted": true
   },
   "outputs": [
    {
     "data": {
      "image/png": "[encoded data removed]",
      "text/plain": [
       "<Figure size 1000x800 with 1 Axes>"
      ]
     },
     "metadata": {},
     "output_type": "display_data"
    }
   ],
   "source": [
    "# Grabbing the average revenue from both plans\n",
    "surf_avg_revenue = surf_agg.groupby('month').mean().reset_index()[['month', 'revenue']]\n",
    "ultimate_avg_revenue = ultimate_agg.groupby('month').mean().reset_index()[['month', 'revenue']]\n",
    "\n",
    "# Merging them together for a side by side comparison\n",
    "\n",
    "avg_revenue = surf_avg_revenue.merge(\n",
    "    ultimate_avg_revenue,\n",
    "    on='month'\n",
    ")\n",
    "avg_revenue = avg_revenue.rename(columns={'revenue_x':'surf', 'revenue_y':'ultimate'})\n",
    "avg_revenue.plot(\n",
    "    kind='bar',\n",
    "    x='month',\n",
    "    y=['surf', 'ultimate'],\n",
    "    figsize=[10, 8]\n",
    ")\n",
    "\n",
    "plt.show()"
   ]
  },
  {
   "cell_type": "code",
   "execution_count": 64,
   "metadata": {
    "trusted": true
   },
   "outputs": [
    {
     "data": {
      "image/png": "[encoded data removed]",
      "text/plain": [
       "<Figure size 900x700 with 1 Axes>"
      ]
     },
     "metadata": {},
     "output_type": "display_data"
    }
   ],
   "source": [
    "avg_revenue[['surf', 'ultimate']].boxplot(figsize=[9, 7])\n",
    "plt.ylabel('Average monthly revenue(USD)')\n",
    "plt.show()"
   ]
  },
  {
   "cell_type": "code",
   "execution_count": 65,
   "metadata": {
    "trusted": true
   },
   "outputs": [
    {
     "data": {
      "text/html": [
       "<div>\n",
       "<style scoped>\n",
       "    .dataframe tbody tr th:only-of-type {\n",
       "        vertical-align: middle;\n",
       "    }\n",
       "\n",
       "    .dataframe tbody tr th {\n",
       "        vertical-align: top;\n",
       "    }\n",
       "\n",
       "    .dataframe thead th {\n",
       "        text-align: right;\n",
       "    }\n",
       "</style>\n",
       "<table border=\"1\" class=\"dataframe\">\n",
       "  <thead>\n",
       "    <tr style=\"text-align: right;\">\n",
       "      <th></th>\n",
       "      <th>surf</th>\n",
       "      <th>ultimate</th>\n",
       "    </tr>\n",
       "  </thead>\n",
       "  <tbody>\n",
       "    <tr>\n",
       "      <th>count</th>\n",
       "      <td>12.00</td>\n",
       "      <td>12.00</td>\n",
       "    </tr>\n",
       "    <tr>\n",
       "      <th>mean</th>\n",
       "      <td>51.40</td>\n",
       "      <td>72.01</td>\n",
       "    </tr>\n",
       "    <tr>\n",
       "      <th>std</th>\n",
       "      <td>14.70</td>\n",
       "      <td>1.36</td>\n",
       "    </tr>\n",
       "    <tr>\n",
       "      <th>min</th>\n",
       "      <td>20.00</td>\n",
       "      <td>70.00</td>\n",
       "    </tr>\n",
       "    <tr>\n",
       "      <th>25%</th>\n",
       "      <td>44.63</td>\n",
       "      <td>71.41</td>\n",
       "    </tr>\n",
       "    <tr>\n",
       "      <th>50%</th>\n",
       "      <td>53.64</td>\n",
       "      <td>71.97</td>\n",
       "    </tr>\n",
       "    <tr>\n",
       "      <th>75%</th>\n",
       "      <td>62.99</td>\n",
       "      <td>72.89</td>\n",
       "    </tr>\n",
       "    <tr>\n",
       "      <th>max</th>\n",
       "      <td>70.56</td>\n",
       "      <td>74.67</td>\n",
       "    </tr>\n",
       "  </tbody>\n",
       "</table>\n",
       "</div>"
      ],
      "text/plain": [
       "        surf  ultimate\n",
       "count  12.00     12.00\n",
       "mean   51.40     72.01\n",
       "std    14.70      1.36\n",
       "min    20.00     70.00\n",
       "25%    44.63     71.41\n",
       "50%    53.64     71.97\n",
       "75%    62.99     72.89\n",
       "max    70.56     74.67"
      ]
     },
     "execution_count": 65,
     "metadata": {},
     "output_type": "execute_result"
    }
   ],
   "source": [
    "avg_revenue[['surf', 'ultimate']].describe().round(2)"
   ]
  },
  {
   "cell_type": "markdown",
   "metadata": {},
   "source": [
    "[Formulate conclusions about how the revenue differs between the plans.]"
   ]
  },
  {
   "cell_type": "markdown",
   "metadata": {},
   "source": [
    "From this data however, ultimate brings in a much higher amount revenue on average compared to surf users across the whole year, albeit having a smaller concentration of users. This makes sense due to the starting monthly pay of the ultimate plan alone being +$50 more than surf, which leads to ultimate users generating more revenue at the base."
   ]
  },
  {
   "cell_type": "markdown",
   "metadata": {},
   "source": [
    "## Test statistical hypotheses"
   ]
  },
  {
   "cell_type": "markdown",
   "metadata": {},
   "source": [
    "[Test the hypothesis that the average revenue from users of the Ultimate and Surf calling plans differs.]"
   ]
  },
  {
   "cell_type": "markdown",
   "metadata": {},
   "source": [
    "[Formulate the null and the alternative hypotheses, choose the statistical test, decide on the alpha value.]"
   ]
  },
  {
   "cell_type": "markdown",
   "metadata": {},
   "source": [
    "I will test the statistical hypotheses that the average revenue from users of Surf and Ultimate differs.\n",
    "\n",
    "H₀ = The average revenue from Surf and Ultimate users are the same.\n",
    "\n",
    "H1 = The average revenue from Surf and Ultimate differs."
   ]
  },
  {
   "cell_type": "code",
   "execution_count": 66,
   "metadata": {
    "trusted": true
   },
   "outputs": [
    {
     "name": "stdout",
     "output_type": "stream",
     "text": [
      "p-value: 3.1703905481135734e-15\n",
      "We can't reject the null hypothesis.\n"
     ]
    }
   ],
   "source": [
    "# Test the hypotheses\n",
    "\n",
    "# Setting alpha value significance to 5%\n",
    "\n",
    "alpha = 0.05\n",
    "\n",
    "# Applying the test for comparing both data\n",
    "results = st.ttest_ind(surf_agg['revenue'],\n",
    "                      ultimate_agg['revenue'], equal_var=False)\n",
    "\n",
    "print('p-value:', results.pvalue)\n",
    "\n",
    "if results.pvalue < alpha:\n",
    "    print(\"We can't reject the null hypothesis.\")\n",
    "else:\n",
    "    print(\"We reject the null hypothesis.\")"
   ]
  },
  {
   "cell_type": "markdown",
   "metadata": {},
   "source": [
    "The analysis suggests that the average revenue is actually not different from both plans. We need more data to say how similar are they to each other."
   ]
  },
  {
   "cell_type": "markdown",
   "metadata": {},
   "source": [
    "[Test the hypothesis that the average revenue from users in the NY-NJ area is different from that of the users from the other regions.]"
   ]
  },
  {
   "cell_type": "markdown",
   "metadata": {},
   "source": [
    "[Formulate the null and the alternative hypotheses, choose the statistical test, decide on the alpha value.]"
   ]
  },
  {
   "cell_type": "markdown",
   "metadata": {},
   "source": [
    "I am going to do another test based on a sample location of the users, namely users from NY-NJ area to other areas.\n",
    "\n",
    "H₀ = Average revenue from NY-NJ are the same.\n",
    "\n",
    "H1 = Average revenue from NY-NJ differs to other areas."
   ]
  },
  {
   "cell_type": "code",
   "execution_count": 67,
   "metadata": {
    "trusted": true
   },
   "outputs": [],
   "source": [
    "# Filtering out data of users from NJ-NY and outside NJ-NY\n",
    "city = 'NY-NJ'\n",
    "\n",
    "users_njny = users[users['city'].str.contains(city)]\n",
    "users_outside = users[~users['city'].str.contains(city)]\n",
    "\n",
    "agg_table = agg_table.reset_index()"
   ]
  },
  {
   "cell_type": "code",
   "execution_count": 68,
   "metadata": {
    "trusted": true
   },
   "outputs": [],
   "source": [
    "# Grabbing the revenue data for both areas\n",
    "users_njny_revenue = agg_table[agg_table['user_id'].isin(users_njny['user_id'])][['month', 'revenue']]\n",
    "\n",
    "\n",
    "users_outside_revenue = agg_table[agg_table['user_id'].isin(users_outside['user_id'])][['month', 'revenue']]"
   ]
  },
  {
   "cell_type": "code",
   "execution_count": 69,
   "metadata": {
    "trusted": true
   },
   "outputs": [
    {
     "name": "stdout",
     "output_type": "stream",
     "text": [
      "p-value: 0.0335256158853001\n",
      "We can't reject the null hypothesis\n"
     ]
    }
   ],
   "source": [
    "# Test the hypotheses\n",
    "\n",
    "# Applying the test for both dataframe\n",
    "results_area = st.ttest_ind(users_njny_revenue['revenue'], \n",
    "                            users_outside_revenue['revenue'], equal_var=False)\n",
    "\n",
    "print(\"p-value:\", results_area.pvalue)\n",
    "\n",
    "if results_area.pvalue < alpha:\n",
    "    print(\"We can't reject the null hypothesis\")\n",
    "else:\n",
    "    print(\"We reject the null hyphothesis\")\n"
   ]
  },
  {
   "cell_type": "markdown",
   "metadata": {},
   "source": [
    "<div class=\"alert alert-success\">\n",
    "<b>Reviewer's comment v1:</b>\n",
    "    \n",
    "- Everything is correct here. Hypotheses have been formulated correctly. \n",
    "- Second one should be still updated based on the new filtering logic i've shared. \n",
    "- Your conclusions based on the results are also correct.\n",
    "- You can also additionally compare the variances of the samples before testing hypotheses in order to understand with which equal_var parameter to use the ttest_ind test method (by default, True). Here you can manually calculate variances, or use Levene's statistic test (https://docs.scipy.org/doc/scipy/reference/generated/scipy.stats.levene.html) or Barlett's test (https: //docs.scipy .org / doc / scipy / reference / generated / scipy.stats.bartlett.html # scipy.stats.bartlett)\n",
    "    "
   ]
  },
  {
   "cell_type": "markdown",
   "metadata": {},
   "source": [
    "This test shows that the average monthly revenue from both areas are not actually that much different. This shows that when factoring the area in which each user comes from doesn't really affect the average revenue."
   ]
  },
  {
   "cell_type": "markdown",
   "metadata": {},
   "source": [
    "## General conclusion\n",
    "\n",
    "[List your important conclusions in this final section, make sure they cover all those important decisions (assumptions) that you've made and that led you to the way you processed and analyzed the data.]"
   ]
  },
  {
   "cell_type": "markdown",
   "metadata": {},
   "source": [
    "From all the data that I have gathered, I've come up with a few things.\n",
    "\n",
    "First of all, the behaviour of users from both plans are very similar to each other in value, especially in calls, where users from both plan have almost the same duration used per month. This, coupled with the fact that users have to spend more when going above the plan's threshold of monthly usage, means that surf users will generate more revenue as they have a lower monthly usage limit, and a higher cost-per-extra activity above the limit compared to ultimate.\n"
   ]
  },
  {
   "cell_type": "markdown",
   "metadata": {},
   "source": [
    "Secondly, the data shows that surf generated a much higher revenue overall, whereas ultimate generated a higher revenue on average. This is due to some factors, one of them is the difference in the amount of users from each plan, with there being double the amount of surf users compared to ultimate users. Another reason is that ultimate's base charge is 70, compared to surf's $20. This leads to a higher 'lowest' value of ultimate's revenue."
   ]
  },
  {
   "cell_type": "markdown",
   "metadata": {},
   "source": [
    "Lastly, the hypothesis does suggest that there isn't any difference in the spending behaviour between users from both plans. We have also checked that the location of the users does not play a role in the average revenue.\n",
    "\n",
    "In conclusion, it shows that in overall, the surf plan generates the higher revenue due to it being having a lower threshold of monthly usage and higher cost per extra activity. The low initial cost also attracts a higher amount of customers. Whereas due to the ultimate plan having a higher initial cost, it attracts less customers, and more often than not does not generate that much extra revenue from the above-the-limit usage, as it has a higher threshold and lower cost."
   ]
  },
  {
   "cell_type": "markdown",
   "metadata": {},
   "source": [
    "<div class=\"alert alert-success\" role=\"alert\">\n",
    "<b>Reviewer's comment v1:</b>\n",
    "    \n",
    "- Overall you conducted great research with correct interim findings, clean code and nice visualisation.\n",
    "- I also like your overall conclusions. It is very structured and provides insights about what you accomplished and recommendations to the business.\n",
    "    "
   ]
  }
 ],
 "metadata": {
  "ExecuteTimeLog": [
   {
    "duration": 828,
    "start_time": "2021-11-16T09:21:11.304Z"
   },
   {
    "duration": 893,
    "start_time": "2021-11-16T09:21:17.728Z"
   },
   {
    "duration": 1150,
    "start_time": "2021-11-16T09:21:29.568Z"
   },
   {
    "duration": 3,
    "start_time": "2021-11-16T09:24:14.495Z"
   },
   {
    "duration": 120,
    "start_time": "2021-11-16T09:24:46.630Z"
   },
   {
    "duration": 3,
    "start_time": "2021-11-16T09:28:27.882Z"
   },
   {
    "duration": 4,
    "start_time": "2021-11-16T09:29:54.281Z"
   },
   {
    "duration": 3,
    "start_time": "2021-11-16T09:30:45.936Z"
   },
   {
    "duration": 4,
    "start_time": "2021-11-16T09:31:06.300Z"
   },
   {
    "duration": 113,
    "start_time": "2021-11-16T09:31:37.208Z"
   },
   {
    "duration": 143,
    "start_time": "2021-11-16T09:31:48.656Z"
   },
   {
    "duration": 98,
    "start_time": "2021-11-16T09:31:55.678Z"
   },
   {
    "duration": 3,
    "start_time": "2021-11-16T09:32:08.535Z"
   },
   {
    "duration": 111,
    "start_time": "2021-11-16T09:32:10.120Z"
   },
   {
    "duration": 3,
    "start_time": "2021-11-16T09:32:15.732Z"
   },
   {
    "duration": 4,
    "start_time": "2021-11-16T09:32:29.423Z"
   },
   {
    "duration": 3,
    "start_time": "2021-11-16T10:03:03.074Z"
   },
   {
    "duration": 3,
    "start_time": "2021-11-16T10:10:01.288Z"
   },
   {
    "duration": 3,
    "start_time": "2021-11-16T10:10:46.923Z"
   },
   {
    "duration": 121,
    "start_time": "2021-11-16T10:37:46.494Z"
   },
   {
    "duration": 125,
    "start_time": "2021-11-16T10:38:20.632Z"
   },
   {
    "duration": 112,
    "start_time": "2021-11-16T10:46:53.001Z"
   },
   {
    "duration": 110,
    "start_time": "2021-11-16T10:48:25.775Z"
   },
   {
    "duration": 3,
    "start_time": "2021-11-16T10:50:18.720Z"
   },
   {
    "duration": 4,
    "start_time": "2021-11-16T10:50:37.649Z"
   },
   {
    "duration": 2,
    "start_time": "2021-11-16T10:50:51.884Z"
   },
   {
    "duration": 3,
    "start_time": "2021-11-16T10:51:56.237Z"
   },
   {
    "duration": 101,
    "start_time": "2021-11-16T10:53:13.791Z"
   },
   {
    "duration": 3,
    "start_time": "2021-11-16T10:55:59.186Z"
   },
   {
    "duration": 3,
    "start_time": "2021-11-16T10:56:10.751Z"
   },
   {
    "duration": 3,
    "start_time": "2021-11-16T10:56:49.038Z"
   },
   {
    "duration": 3,
    "start_time": "2021-11-16T10:56:49.174Z"
   },
   {
    "duration": 4,
    "start_time": "2021-11-16T10:56:49.414Z"
   },
   {
    "duration": 3,
    "start_time": "2021-11-16T10:56:49.680Z"
   },
   {
    "duration": 3,
    "start_time": "2021-11-16T10:56:50.370Z"
   },
   {
    "duration": 114,
    "start_time": "2021-11-16T10:59:34.518Z"
   },
   {
    "duration": 3,
    "start_time": "2021-11-16T11:01:41.201Z"
   },
   {
    "duration": 116,
    "start_time": "2021-11-16T11:01:48.754Z"
   },
   {
    "duration": 3,
    "start_time": "2021-11-16T11:02:16.685Z"
   },
   {
    "duration": 3,
    "start_time": "2021-11-16T11:02:19.479Z"
   },
   {
    "duration": 3,
    "start_time": "2021-11-16T11:02:47.067Z"
   },
   {
    "duration": 3,
    "start_time": "2021-11-16T11:02:49.353Z"
   },
   {
    "duration": 3,
    "start_time": "2021-11-16T11:03:07.835Z"
   },
   {
    "duration": 3,
    "start_time": "2021-11-16T11:03:07.953Z"
   },
   {
    "duration": 112,
    "start_time": "2021-11-16T11:07:52.072Z"
   },
   {
    "duration": 187,
    "start_time": "2021-11-16T11:09:23.468Z"
   },
   {
    "duration": 4,
    "start_time": "2021-11-16T11:10:01.455Z"
   },
   {
    "duration": 3,
    "start_time": "2021-11-16T11:10:05.069Z"
   },
   {
    "duration": 4,
    "start_time": "2021-11-16T11:10:13.376Z"
   },
   {
    "duration": 3,
    "start_time": "2021-11-16T11:10:14.434Z"
   },
   {
    "duration": 3,
    "start_time": "2021-11-16T11:10:22.853Z"
   },
   {
    "duration": 4,
    "start_time": "2021-11-16T11:27:29.279Z"
   },
   {
    "duration": 4,
    "start_time": "2021-11-16T11:29:08.919Z"
   },
   {
    "duration": 118,
    "start_time": "2021-11-16T11:29:46.703Z"
   },
   {
    "duration": 437,
    "start_time": "2021-11-16T11:36:02.181Z"
   },
   {
    "duration": 157,
    "start_time": "2021-11-16T11:36:14.388Z"
   },
   {
    "duration": 207,
    "start_time": "2021-11-16T11:47:15.898Z"
   },
   {
    "duration": 3,
    "start_time": "2021-11-16T11:53:52.092Z"
   },
   {
    "duration": 3,
    "start_time": "2021-11-16T11:53:52.236Z"
   },
   {
    "duration": 3,
    "start_time": "2021-11-16T11:59:12.005Z"
   },
   {
    "duration": 112,
    "start_time": "2021-11-16T12:00:33.446Z"
   },
   {
    "duration": 3,
    "start_time": "2021-11-16T12:02:14.453Z"
   },
   {
    "duration": 3,
    "start_time": "2021-11-16T12:02:39.512Z"
   },
   {
    "duration": 106,
    "start_time": "2021-11-16T12:03:03.460Z"
   },
   {
    "duration": 3,
    "start_time": "2021-11-17T20:37:21.139Z"
   },
   {
    "duration": 3,
    "start_time": "2021-11-17T20:37:22.229Z"
   },
   {
    "duration": 3,
    "start_time": "2021-11-17T20:38:38.806Z"
   },
   {
    "duration": 3,
    "start_time": "2021-11-17T20:38:41.958Z"
   },
   {
    "duration": 3,
    "start_time": "2021-11-17T20:43:46.551Z"
   },
   {
    "duration": 4,
    "start_time": "2021-11-17T20:58:21.835Z"
   },
   {
    "duration": 3,
    "start_time": "2021-11-17T20:59:21.872Z"
   },
   {
    "duration": 4,
    "start_time": "2021-11-17T20:59:45.352Z"
   },
   {
    "duration": 4,
    "start_time": "2021-11-17T20:59:49.646Z"
   },
   {
    "duration": 159,
    "start_time": "2021-11-17T21:02:26.949Z"
   },
   {
    "duration": 3,
    "start_time": "2021-11-17T21:03:53.461Z"
   },
   {
    "duration": 3,
    "start_time": "2021-11-17T21:03:53.694Z"
   },
   {
    "duration": 3,
    "start_time": "2021-11-17T21:05:28.145Z"
   },
   {
    "duration": 116,
    "start_time": "2021-11-17T21:05:57.787Z"
   },
   {
    "duration": 3,
    "start_time": "2021-11-17T21:06:37.993Z"
   },
   {
    "duration": 3,
    "start_time": "2021-11-17T21:06:38.261Z"
   },
   {
    "duration": 3,
    "start_time": "2021-11-17T21:11:54.358Z"
   },
   {
    "duration": 3,
    "start_time": "2021-11-17T21:12:43.846Z"
   },
   {
    "duration": 4,
    "start_time": "2021-11-17T21:13:08.773Z"
   },
   {
    "duration": 3,
    "start_time": "2021-11-17T21:14:44.441Z"
   },
   {
    "duration": 3,
    "start_time": "2021-11-17T21:15:42.059Z"
   },
   {
    "duration": 4,
    "start_time": "2021-11-17T21:15:51.995Z"
   },
   {
    "duration": 3,
    "start_time": "2021-11-17T21:15:53.923Z"
   },
   {
    "duration": 3,
    "start_time": "2021-11-17T21:15:55.282Z"
   },
   {
    "duration": 3,
    "start_time": "2021-11-17T21:16:28.492Z"
   },
   {
    "duration": 3,
    "start_time": "2021-11-17T21:16:32.603Z"
   },
   {
    "duration": 3,
    "start_time": "2021-11-17T21:17:06.941Z"
   },
   {
    "duration": 98,
    "start_time": "2021-11-17T21:18:05.733Z"
   },
   {
    "duration": 4,
    "start_time": "2021-11-17T21:21:35.255Z"
   },
   {
    "duration": 3,
    "start_time": "2021-11-17T21:21:37.804Z"
   },
   {
    "duration": 4,
    "start_time": "2021-11-17T21:23:06.071Z"
   },
   {
    "duration": 3,
    "start_time": "2021-11-17T21:23:24.799Z"
   },
   {
    "duration": 3,
    "start_time": "2021-11-17T21:23:32.591Z"
   },
   {
    "duration": 98,
    "start_time": "2021-11-17T21:28:31.559Z"
   },
   {
    "duration": 3,
    "start_time": "2021-11-17T21:28:45.448Z"
   },
   {
    "duration": 3,
    "start_time": "2021-11-17T21:29:17.303Z"
   },
   {
    "duration": 3,
    "start_time": "2021-11-17T21:29:29.617Z"
   },
   {
    "duration": 3,
    "start_time": "2021-11-17T21:29:32.681Z"
   },
   {
    "duration": 3,
    "start_time": "2021-11-17T21:36:11.474Z"
   },
   {
    "duration": 3,
    "start_time": "2021-11-17T21:36:14.791Z"
   },
   {
    "duration": 3,
    "start_time": "2021-11-17T21:36:53.943Z"
   },
   {
    "duration": 3,
    "start_time": "2021-11-17T21:36:56.165Z"
   },
   {
    "duration": 4,
    "start_time": "2021-11-17T21:37:16.590Z"
   },
   {
    "duration": 3,
    "start_time": "2021-11-17T21:37:22.702Z"
   },
   {
    "duration": 4,
    "start_time": "2021-11-17T21:38:03.479Z"
   },
   {
    "duration": 3,
    "start_time": "2021-11-17T21:38:08.601Z"
   },
   {
    "duration": 3,
    "start_time": "2021-11-17T21:38:12.928Z"
   },
   {
    "duration": 3,
    "start_time": "2021-11-17T21:38:48.896Z"
   },
   {
    "duration": 2,
    "start_time": "2021-11-17T21:38:49.171Z"
   },
   {
    "duration": 4,
    "start_time": "2021-11-17T21:39:57.889Z"
   },
   {
    "duration": 3,
    "start_time": "2021-11-17T21:39:58.057Z"
   },
   {
    "duration": 3,
    "start_time": "2021-11-17T21:41:20.108Z"
   },
   {
    "duration": 3,
    "start_time": "2021-11-17T21:41:20.629Z"
   },
   {
    "duration": 3,
    "start_time": "2021-11-17T21:42:49.136Z"
   },
   {
    "duration": 3,
    "start_time": "2021-11-17T21:43:15.137Z"
   },
   {
    "duration": 4,
    "start_time": "2021-11-17T21:43:16.766Z"
   },
   {
    "duration": 4,
    "start_time": "2021-11-17T21:43:31.711Z"
   },
   {
    "duration": 3,
    "start_time": "2021-11-17T21:43:36.312Z"
   },
   {
    "duration": 4,
    "start_time": "2021-11-17T21:45:08.825Z"
   },
   {
    "duration": 4,
    "start_time": "2021-11-17T21:45:10.119Z"
   },
   {
    "duration": 4,
    "start_time": "2021-11-17T21:45:13.748Z"
   },
   {
    "duration": 3,
    "start_time": "2021-11-17T21:45:22.219Z"
   },
   {
    "duration": 3,
    "start_time": "2021-11-17T21:45:33.412Z"
   },
   {
    "duration": 2,
    "start_time": "2021-11-17T21:46:01.885Z"
   },
   {
    "duration": 3,
    "start_time": "2021-11-17T21:46:03.628Z"
   },
   {
    "duration": 107,
    "start_time": "2021-11-17T21:47:32.512Z"
   },
   {
    "duration": 103,
    "start_time": "2021-11-17T21:50:36.243Z"
   },
   {
    "duration": 3,
    "start_time": "2021-11-18T06:28:31.440Z"
   },
   {
    "duration": 3,
    "start_time": "2021-11-18T06:29:00.168Z"
   },
   {
    "duration": 3,
    "start_time": "2021-11-18T06:31:27.008Z"
   },
   {
    "duration": 2,
    "start_time": "2021-11-18T06:35:34.288Z"
   },
   {
    "duration": 2,
    "start_time": "2021-11-18T06:38:04.527Z"
   },
   {
    "duration": 156,
    "start_time": "2025-01-08T23:22:55.891Z"
   },
   {
    "duration": 17,
    "start_time": "2025-01-08T23:23:27.160Z"
   },
   {
    "duration": 11,
    "start_time": "2025-01-08T23:23:45.578Z"
   },
   {
    "duration": 10,
    "start_time": "2025-01-08T23:24:03.356Z"
   },
   {
    "duration": 7,
    "start_time": "2025-01-08T23:24:23.850Z"
   },
   {
    "duration": 0,
    "start_time": "2025-01-08T23:24:23.858Z"
   },
   {
    "duration": 0,
    "start_time": "2025-01-08T23:24:23.860Z"
   },
   {
    "duration": 0,
    "start_time": "2025-01-08T23:24:23.861Z"
   },
   {
    "duration": 2,
    "start_time": "2025-01-08T23:24:23.868Z"
   },
   {
    "duration": 2,
    "start_time": "2025-01-08T23:24:23.873Z"
   },
   {
    "duration": 2,
    "start_time": "2025-01-08T23:24:23.877Z"
   },
   {
    "duration": 3,
    "start_time": "2025-01-08T23:24:23.880Z"
   },
   {
    "duration": 1,
    "start_time": "2025-01-08T23:24:23.887Z"
   },
   {
    "duration": 2,
    "start_time": "2025-01-08T23:24:23.890Z"
   },
   {
    "duration": 2,
    "start_time": "2025-01-08T23:24:23.896Z"
   },
   {
    "duration": 2,
    "start_time": "2025-01-08T23:24:23.900Z"
   },
   {
    "duration": 2,
    "start_time": "2025-01-08T23:24:23.908Z"
   },
   {
    "duration": 14,
    "start_time": "2025-01-08T23:24:23.912Z"
   },
   {
    "duration": 26,
    "start_time": "2025-01-08T23:24:23.928Z"
   },
   {
    "duration": 3,
    "start_time": "2025-01-08T23:24:23.956Z"
   },
   {
    "duration": 10,
    "start_time": "2025-01-08T23:24:23.961Z"
   },
   {
    "duration": 2,
    "start_time": "2025-01-08T23:24:23.974Z"
   },
   {
    "duration": 2,
    "start_time": "2025-01-08T23:24:23.977Z"
   },
   {
    "duration": 3,
    "start_time": "2025-01-08T23:24:23.981Z"
   },
   {
    "duration": 2,
    "start_time": "2025-01-08T23:24:23.985Z"
   },
   {
    "duration": 4,
    "start_time": "2025-01-08T23:24:23.989Z"
   },
   {
    "duration": 5,
    "start_time": "2025-01-08T23:24:23.995Z"
   },
   {
    "duration": 2,
    "start_time": "2025-01-08T23:24:24.001Z"
   },
   {
    "duration": 2,
    "start_time": "2025-01-08T23:24:24.005Z"
   },
   {
    "duration": 2,
    "start_time": "2025-01-08T23:24:24.009Z"
   },
   {
    "duration": 3,
    "start_time": "2025-01-08T23:24:24.013Z"
   },
   {
    "duration": 2,
    "start_time": "2025-01-08T23:24:24.018Z"
   },
   {
    "duration": 158,
    "start_time": "2025-01-08T23:24:46.001Z"
   },
   {
    "duration": 2,
    "start_time": "2025-01-08T23:25:17.279Z"
   },
   {
    "duration": 12,
    "start_time": "2025-01-08T23:25:30.754Z"
   },
   {
    "duration": 11,
    "start_time": "2025-01-08T23:26:25.826Z"
   },
   {
    "duration": 15,
    "start_time": "2025-01-08T23:28:16.872Z"
   },
   {
    "duration": 3,
    "start_time": "2025-01-08T23:34:25.145Z"
   },
   {
    "duration": 3,
    "start_time": "2025-01-08T23:38:07.504Z"
   },
   {
    "duration": 2375,
    "start_time": "2025-01-09T00:21:36.896Z"
   },
   {
    "duration": 0,
    "start_time": "2025-01-09T00:21:39.274Z"
   },
   {
    "duration": 0,
    "start_time": "2025-01-09T00:21:39.276Z"
   },
   {
    "duration": 0,
    "start_time": "2025-01-09T00:21:39.277Z"
   },
   {
    "duration": 0,
    "start_time": "2025-01-09T00:21:39.279Z"
   },
   {
    "duration": 0,
    "start_time": "2025-01-09T00:21:39.280Z"
   },
   {
    "duration": 0,
    "start_time": "2025-01-09T00:21:39.281Z"
   },
   {
    "duration": 0,
    "start_time": "2025-01-09T00:21:39.282Z"
   },
   {
    "duration": 0,
    "start_time": "2025-01-09T00:21:39.284Z"
   },
   {
    "duration": 0,
    "start_time": "2025-01-09T00:21:39.285Z"
   },
   {
    "duration": 0,
    "start_time": "2025-01-09T00:21:39.286Z"
   },
   {
    "duration": 0,
    "start_time": "2025-01-09T00:21:39.287Z"
   },
   {
    "duration": 0,
    "start_time": "2025-01-09T00:21:39.288Z"
   },
   {
    "duration": 0,
    "start_time": "2025-01-09T00:21:39.290Z"
   },
   {
    "duration": 0,
    "start_time": "2025-01-09T00:21:39.292Z"
   },
   {
    "duration": 0,
    "start_time": "2025-01-09T00:21:39.293Z"
   },
   {
    "duration": 1,
    "start_time": "2025-01-09T00:21:39.294Z"
   },
   {
    "duration": 0,
    "start_time": "2025-01-09T00:21:39.296Z"
   },
   {
    "duration": 0,
    "start_time": "2025-01-09T00:21:39.297Z"
   },
   {
    "duration": 0,
    "start_time": "2025-01-09T00:21:39.298Z"
   },
   {
    "duration": 1,
    "start_time": "2025-01-09T00:21:39.299Z"
   },
   {
    "duration": 0,
    "start_time": "2025-01-09T00:21:39.300Z"
   },
   {
    "duration": 0,
    "start_time": "2025-01-09T00:21:39.301Z"
   },
   {
    "duration": 0,
    "start_time": "2025-01-09T00:21:39.302Z"
   },
   {
    "duration": 0,
    "start_time": "2025-01-09T00:21:39.304Z"
   },
   {
    "duration": 0,
    "start_time": "2025-01-09T00:21:39.305Z"
   },
   {
    "duration": 0,
    "start_time": "2025-01-09T00:21:39.306Z"
   },
   {
    "duration": 0,
    "start_time": "2025-01-09T00:21:39.308Z"
   },
   {
    "duration": 0,
    "start_time": "2025-01-09T00:21:39.309Z"
   },
   {
    "duration": 0,
    "start_time": "2025-01-09T00:21:39.310Z"
   },
   {
    "duration": 0,
    "start_time": "2025-01-09T00:21:39.312Z"
   },
   {
    "duration": 0,
    "start_time": "2025-01-09T00:21:39.370Z"
   },
   {
    "duration": 0,
    "start_time": "2025-01-09T00:21:39.371Z"
   },
   {
    "duration": 0,
    "start_time": "2025-01-09T00:21:39.372Z"
   },
   {
    "duration": 0,
    "start_time": "2025-01-09T00:21:39.373Z"
   },
   {
    "duration": 0,
    "start_time": "2025-01-09T00:21:39.374Z"
   },
   {
    "duration": 0,
    "start_time": "2025-01-09T00:21:39.375Z"
   },
   {
    "duration": 0,
    "start_time": "2025-01-09T00:21:39.376Z"
   },
   {
    "duration": 0,
    "start_time": "2025-01-09T00:21:39.377Z"
   },
   {
    "duration": 0,
    "start_time": "2025-01-09T00:21:39.378Z"
   },
   {
    "duration": 0,
    "start_time": "2025-01-09T00:21:39.379Z"
   },
   {
    "duration": 0,
    "start_time": "2025-01-09T00:21:39.380Z"
   },
   {
    "duration": 0,
    "start_time": "2025-01-09T00:21:39.382Z"
   },
   {
    "duration": 0,
    "start_time": "2025-01-09T00:21:39.384Z"
   },
   {
    "duration": 0,
    "start_time": "2025-01-09T00:21:39.385Z"
   },
   {
    "duration": 8,
    "start_time": "2025-01-09T04:28:52.172Z"
   },
   {
    "duration": 2629,
    "start_time": "2025-01-09T04:29:04.423Z"
   },
   {
    "duration": 214,
    "start_time": "2025-01-09T05:10:56.402Z"
   },
   {
    "duration": 12,
    "start_time": "2025-01-09T05:11:21.261Z"
   },
   {
    "duration": 809,
    "start_time": "2025-01-09T05:11:51.198Z"
   },
   {
    "duration": 226,
    "start_time": "2025-01-09T05:11:52.009Z"
   },
   {
    "duration": 9,
    "start_time": "2025-01-09T05:11:52.237Z"
   },
   {
    "duration": 10,
    "start_time": "2025-01-09T05:11:52.248Z"
   },
   {
    "duration": 12,
    "start_time": "2025-01-09T05:11:52.261Z"
   },
   {
    "duration": 8,
    "start_time": "2025-01-09T05:11:52.274Z"
   },
   {
    "duration": 25,
    "start_time": "2025-01-09T05:11:52.285Z"
   },
   {
    "duration": 9,
    "start_time": "2025-01-09T05:11:52.312Z"
   },
   {
    "duration": 11,
    "start_time": "2025-01-09T05:11:52.323Z"
   },
   {
    "duration": 11,
    "start_time": "2025-01-09T05:11:52.336Z"
   },
   {
    "duration": 16,
    "start_time": "2025-01-09T05:11:52.349Z"
   },
   {
    "duration": 4,
    "start_time": "2025-01-09T05:11:52.367Z"
   },
   {
    "duration": 9,
    "start_time": "2025-01-09T05:11:52.404Z"
   },
   {
    "duration": 17,
    "start_time": "2025-01-09T05:11:52.418Z"
   },
   {
    "duration": 157,
    "start_time": "2025-01-09T05:11:52.437Z"
   },
   {
    "duration": 0,
    "start_time": "2025-01-09T05:11:52.598Z"
   },
   {
    "duration": 0,
    "start_time": "2025-01-09T05:11:52.604Z"
   },
   {
    "duration": 0,
    "start_time": "2025-01-09T05:11:52.605Z"
   },
   {
    "duration": 0,
    "start_time": "2025-01-09T05:11:52.606Z"
   },
   {
    "duration": 0,
    "start_time": "2025-01-09T05:11:52.607Z"
   },
   {
    "duration": 0,
    "start_time": "2025-01-09T05:11:52.609Z"
   },
   {
    "duration": 0,
    "start_time": "2025-01-09T05:11:52.609Z"
   },
   {
    "duration": 0,
    "start_time": "2025-01-09T05:11:52.610Z"
   },
   {
    "duration": 0,
    "start_time": "2025-01-09T05:11:52.611Z"
   },
   {
    "duration": 0,
    "start_time": "2025-01-09T05:11:52.612Z"
   },
   {
    "duration": 0,
    "start_time": "2025-01-09T05:11:52.613Z"
   },
   {
    "duration": 0,
    "start_time": "2025-01-09T05:11:52.614Z"
   },
   {
    "duration": 0,
    "start_time": "2025-01-09T05:11:52.615Z"
   },
   {
    "duration": 0,
    "start_time": "2025-01-09T05:11:52.616Z"
   },
   {
    "duration": 0,
    "start_time": "2025-01-09T05:11:52.617Z"
   },
   {
    "duration": 1,
    "start_time": "2025-01-09T05:11:52.618Z"
   },
   {
    "duration": 0,
    "start_time": "2025-01-09T05:11:52.619Z"
   },
   {
    "duration": 0,
    "start_time": "2025-01-09T05:11:52.620Z"
   },
   {
    "duration": 0,
    "start_time": "2025-01-09T05:11:52.621Z"
   },
   {
    "duration": 0,
    "start_time": "2025-01-09T05:11:52.622Z"
   },
   {
    "duration": 0,
    "start_time": "2025-01-09T05:11:52.623Z"
   },
   {
    "duration": 0,
    "start_time": "2025-01-09T05:11:52.625Z"
   },
   {
    "duration": 0,
    "start_time": "2025-01-09T05:11:52.626Z"
   },
   {
    "duration": 0,
    "start_time": "2025-01-09T05:11:52.627Z"
   },
   {
    "duration": 0,
    "start_time": "2025-01-09T05:11:52.628Z"
   },
   {
    "duration": 0,
    "start_time": "2025-01-09T05:11:52.630Z"
   },
   {
    "duration": 0,
    "start_time": "2025-01-09T05:11:52.630Z"
   },
   {
    "duration": 0,
    "start_time": "2025-01-09T05:11:52.631Z"
   },
   {
    "duration": 0,
    "start_time": "2025-01-09T05:11:52.637Z"
   },
   {
    "duration": 0,
    "start_time": "2025-01-09T05:11:52.638Z"
   },
   {
    "duration": 0,
    "start_time": "2025-01-09T05:11:52.639Z"
   },
   {
    "duration": 0,
    "start_time": "2025-01-09T05:11:52.640Z"
   },
   {
    "duration": 0,
    "start_time": "2025-01-09T05:11:52.641Z"
   },
   {
    "duration": 0,
    "start_time": "2025-01-09T05:11:52.643Z"
   },
   {
    "duration": 0,
    "start_time": "2025-01-09T05:11:52.643Z"
   },
   {
    "duration": 0,
    "start_time": "2025-01-09T05:11:52.644Z"
   },
   {
    "duration": 0,
    "start_time": "2025-01-09T05:11:52.646Z"
   },
   {
    "duration": 0,
    "start_time": "2025-01-09T05:11:52.647Z"
   },
   {
    "duration": 0,
    "start_time": "2025-01-09T05:11:52.648Z"
   },
   {
    "duration": 0,
    "start_time": "2025-01-09T05:11:52.649Z"
   },
   {
    "duration": 0,
    "start_time": "2025-01-09T05:11:52.650Z"
   },
   {
    "duration": 0,
    "start_time": "2025-01-09T05:11:52.651Z"
   },
   {
    "duration": 0,
    "start_time": "2025-01-09T05:11:52.653Z"
   },
   {
    "duration": 0,
    "start_time": "2025-01-09T05:11:52.654Z"
   },
   {
    "duration": 0,
    "start_time": "2025-01-09T05:11:52.655Z"
   },
   {
    "duration": 0,
    "start_time": "2025-01-09T05:11:52.656Z"
   },
   {
    "duration": 0,
    "start_time": "2025-01-09T05:11:52.705Z"
   },
   {
    "duration": 0,
    "start_time": "2025-01-09T05:11:52.706Z"
   },
   {
    "duration": 0,
    "start_time": "2025-01-09T05:11:52.707Z"
   },
   {
    "duration": 0,
    "start_time": "2025-01-09T05:11:52.709Z"
   },
   {
    "duration": 0,
    "start_time": "2025-01-09T05:11:52.711Z"
   },
   {
    "duration": 0,
    "start_time": "2025-01-09T05:11:52.712Z"
   },
   {
    "duration": 0,
    "start_time": "2025-01-09T05:11:52.716Z"
   },
   {
    "duration": 0,
    "start_time": "2025-01-09T05:11:52.717Z"
   },
   {
    "duration": 9,
    "start_time": "2025-01-09T05:19:58.614Z"
   },
   {
    "duration": 16,
    "start_time": "2025-01-09T05:20:16.788Z"
   },
   {
    "duration": 10,
    "start_time": "2025-01-09T05:20:23.225Z"
   },
   {
    "duration": 25,
    "start_time": "2025-01-09T05:20:37.068Z"
   },
   {
    "duration": 245,
    "start_time": "2025-01-09T05:22:00.431Z"
   },
   {
    "duration": 32,
    "start_time": "2025-01-09T05:26:18.744Z"
   },
   {
    "duration": 13,
    "start_time": "2025-01-09T05:27:15.417Z"
   },
   {
    "duration": 7,
    "start_time": "2025-01-09T05:27:20.318Z"
   },
   {
    "duration": 18,
    "start_time": "2025-01-09T05:27:45.666Z"
   },
   {
    "duration": 13,
    "start_time": "2025-01-09T05:27:54.950Z"
   },
   {
    "duration": 14,
    "start_time": "2025-01-09T05:28:05.211Z"
   },
   {
    "duration": 9,
    "start_time": "2025-01-09T05:28:13.647Z"
   },
   {
    "duration": 22,
    "start_time": "2025-01-09T05:28:29.728Z"
   },
   {
    "duration": 11,
    "start_time": "2025-01-09T05:28:41.181Z"
   },
   {
    "duration": 8,
    "start_time": "2025-01-09T05:28:51.610Z"
   },
   {
    "duration": 360,
    "start_time": "2025-01-09T05:29:06.714Z"
   },
   {
    "duration": 810,
    "start_time": "2025-01-09T05:29:50.682Z"
   },
   {
    "duration": 162,
    "start_time": "2025-01-09T05:29:51.494Z"
   },
   {
    "duration": 9,
    "start_time": "2025-01-09T05:29:51.657Z"
   },
   {
    "duration": 8,
    "start_time": "2025-01-09T05:29:51.669Z"
   },
   {
    "duration": 28,
    "start_time": "2025-01-09T05:29:51.679Z"
   },
   {
    "duration": 9,
    "start_time": "2025-01-09T05:29:51.708Z"
   },
   {
    "duration": 9,
    "start_time": "2025-01-09T05:29:51.718Z"
   },
   {
    "duration": 9,
    "start_time": "2025-01-09T05:29:51.728Z"
   },
   {
    "duration": 9,
    "start_time": "2025-01-09T05:29:51.739Z"
   },
   {
    "duration": 10,
    "start_time": "2025-01-09T05:29:51.751Z"
   },
   {
    "duration": 6,
    "start_time": "2025-01-09T05:29:51.762Z"
   },
   {
    "duration": 4,
    "start_time": "2025-01-09T05:29:51.805Z"
   },
   {
    "duration": 8,
    "start_time": "2025-01-09T05:29:51.810Z"
   },
   {
    "duration": 11,
    "start_time": "2025-01-09T05:29:51.820Z"
   },
   {
    "duration": 8,
    "start_time": "2025-01-09T05:29:51.833Z"
   },
   {
    "duration": 15,
    "start_time": "2025-01-09T05:29:51.842Z"
   },
   {
    "duration": 10,
    "start_time": "2025-01-09T05:29:51.858Z"
   },
   {
    "duration": 58,
    "start_time": "2025-01-09T05:29:51.870Z"
   },
   {
    "duration": 39,
    "start_time": "2025-01-09T05:29:51.930Z"
   },
   {
    "duration": 35,
    "start_time": "2025-01-09T05:29:51.970Z"
   },
   {
    "duration": 12,
    "start_time": "2025-01-09T05:29:52.007Z"
   },
   {
    "duration": 7,
    "start_time": "2025-01-09T05:29:52.021Z"
   },
   {
    "duration": 16,
    "start_time": "2025-01-09T05:29:52.029Z"
   },
   {
    "duration": 11,
    "start_time": "2025-01-09T05:29:52.047Z"
   },
   {
    "duration": 13,
    "start_time": "2025-01-09T05:29:52.061Z"
   },
   {
    "duration": 37,
    "start_time": "2025-01-09T05:29:52.075Z"
   },
   {
    "duration": 21,
    "start_time": "2025-01-09T05:29:52.113Z"
   },
   {
    "duration": 11,
    "start_time": "2025-01-09T05:29:52.138Z"
   },
   {
    "duration": 8,
    "start_time": "2025-01-09T05:29:52.152Z"
   },
   {
    "duration": 16,
    "start_time": "2025-01-09T05:29:52.162Z"
   },
   {
    "duration": 24,
    "start_time": "2025-01-09T05:29:52.206Z"
   },
   {
    "duration": 11,
    "start_time": "2025-01-09T05:29:52.232Z"
   },
   {
    "duration": 18,
    "start_time": "2025-01-09T05:29:52.245Z"
   },
   {
    "duration": 51,
    "start_time": "2025-01-09T05:29:52.265Z"
   },
   {
    "duration": 16,
    "start_time": "2025-01-09T05:29:52.318Z"
   },
   {
    "duration": 6,
    "start_time": "2025-01-09T05:29:52.335Z"
   },
   {
    "duration": 0,
    "start_time": "2025-01-09T05:29:52.342Z"
   },
   {
    "duration": 0,
    "start_time": "2025-01-09T05:29:52.343Z"
   },
   {
    "duration": 0,
    "start_time": "2025-01-09T05:29:52.345Z"
   },
   {
    "duration": 0,
    "start_time": "2025-01-09T05:29:52.346Z"
   },
   {
    "duration": 0,
    "start_time": "2025-01-09T05:29:52.347Z"
   },
   {
    "duration": 0,
    "start_time": "2025-01-09T05:29:52.348Z"
   },
   {
    "duration": 0,
    "start_time": "2025-01-09T05:29:52.350Z"
   },
   {
    "duration": 0,
    "start_time": "2025-01-09T05:29:52.351Z"
   },
   {
    "duration": 1,
    "start_time": "2025-01-09T05:29:52.351Z"
   },
   {
    "duration": 0,
    "start_time": "2025-01-09T05:29:52.353Z"
   },
   {
    "duration": 0,
    "start_time": "2025-01-09T05:29:52.354Z"
   },
   {
    "duration": 0,
    "start_time": "2025-01-09T05:29:52.356Z"
   },
   {
    "duration": 0,
    "start_time": "2025-01-09T05:29:52.358Z"
   },
   {
    "duration": 0,
    "start_time": "2025-01-09T05:29:52.359Z"
   },
   {
    "duration": 0,
    "start_time": "2025-01-09T05:29:52.360Z"
   },
   {
    "duration": 0,
    "start_time": "2025-01-09T05:29:52.361Z"
   },
   {
    "duration": 0,
    "start_time": "2025-01-09T05:29:52.407Z"
   },
   {
    "duration": 0,
    "start_time": "2025-01-09T05:29:52.408Z"
   },
   {
    "duration": 0,
    "start_time": "2025-01-09T05:29:52.409Z"
   },
   {
    "duration": 0,
    "start_time": "2025-01-09T05:29:52.410Z"
   },
   {
    "duration": 0,
    "start_time": "2025-01-09T05:29:52.411Z"
   },
   {
    "duration": 0,
    "start_time": "2025-01-09T05:29:52.412Z"
   },
   {
    "duration": 0,
    "start_time": "2025-01-09T05:29:52.413Z"
   },
   {
    "duration": 0,
    "start_time": "2025-01-09T05:29:52.414Z"
   },
   {
    "duration": 0,
    "start_time": "2025-01-09T05:29:52.415Z"
   },
   {
    "duration": 0,
    "start_time": "2025-01-09T05:29:52.416Z"
   },
   {
    "duration": 0,
    "start_time": "2025-01-09T05:29:52.417Z"
   },
   {
    "duration": 0,
    "start_time": "2025-01-09T05:29:52.419Z"
   },
   {
    "duration": 0,
    "start_time": "2025-01-09T05:29:52.422Z"
   },
   {
    "duration": 0,
    "start_time": "2025-01-09T05:29:52.423Z"
   },
   {
    "duration": 0,
    "start_time": "2025-01-09T05:29:52.424Z"
   },
   {
    "duration": 0,
    "start_time": "2025-01-09T05:29:52.425Z"
   },
   {
    "duration": 0,
    "start_time": "2025-01-09T05:29:52.426Z"
   },
   {
    "duration": 6,
    "start_time": "2025-01-09T05:33:43.654Z"
   },
   {
    "duration": 38,
    "start_time": "2025-01-09T05:34:11.070Z"
   },
   {
    "duration": 5,
    "start_time": "2025-01-09T05:36:04.309Z"
   },
   {
    "duration": 16,
    "start_time": "2025-01-09T05:36:08.882Z"
   },
   {
    "duration": 257,
    "start_time": "2025-01-09T05:36:19.481Z"
   },
   {
    "duration": 105,
    "start_time": "2025-01-09T05:36:27.343Z"
   },
   {
    "duration": 5,
    "start_time": "2025-01-09T05:36:37.767Z"
   },
   {
    "duration": 90,
    "start_time": "2025-01-09T05:36:42.838Z"
   },
   {
    "duration": 12,
    "start_time": "2025-01-09T05:36:50.356Z"
   },
   {
    "duration": 5,
    "start_time": "2025-01-09T05:37:09.913Z"
   },
   {
    "duration": 218,
    "start_time": "2025-01-09T05:38:15.078Z"
   },
   {
    "duration": 857,
    "start_time": "2025-01-09T05:39:23.314Z"
   },
   {
    "duration": 156,
    "start_time": "2025-01-09T05:39:24.174Z"
   },
   {
    "duration": 10,
    "start_time": "2025-01-09T05:39:24.331Z"
   },
   {
    "duration": 10,
    "start_time": "2025-01-09T05:39:24.345Z"
   },
   {
    "duration": 12,
    "start_time": "2025-01-09T05:39:24.357Z"
   },
   {
    "duration": 8,
    "start_time": "2025-01-09T05:39:24.371Z"
   },
   {
    "duration": 32,
    "start_time": "2025-01-09T05:39:24.380Z"
   },
   {
    "duration": 10,
    "start_time": "2025-01-09T05:39:24.413Z"
   },
   {
    "duration": 10,
    "start_time": "2025-01-09T05:39:24.425Z"
   },
   {
    "duration": 9,
    "start_time": "2025-01-09T05:39:24.439Z"
   },
   {
    "duration": 6,
    "start_time": "2025-01-09T05:39:24.450Z"
   },
   {
    "duration": 4,
    "start_time": "2025-01-09T05:39:24.457Z"
   },
   {
    "duration": 48,
    "start_time": "2025-01-09T05:39:24.463Z"
   },
   {
    "duration": 12,
    "start_time": "2025-01-09T05:39:24.513Z"
   },
   {
    "duration": 8,
    "start_time": "2025-01-09T05:39:24.526Z"
   },
   {
    "duration": 15,
    "start_time": "2025-01-09T05:39:24.536Z"
   },
   {
    "duration": 9,
    "start_time": "2025-01-09T05:39:24.553Z"
   },
   {
    "duration": 58,
    "start_time": "2025-01-09T05:39:24.563Z"
   },
   {
    "duration": 38,
    "start_time": "2025-01-09T05:39:24.622Z"
   },
   {
    "duration": 17,
    "start_time": "2025-01-09T05:39:24.662Z"
   },
   {
    "duration": 30,
    "start_time": "2025-01-09T05:39:24.681Z"
   },
   {
    "duration": 8,
    "start_time": "2025-01-09T05:39:24.712Z"
   },
   {
    "duration": 17,
    "start_time": "2025-01-09T05:39:24.722Z"
   },
   {
    "duration": 11,
    "start_time": "2025-01-09T05:39:24.741Z"
   },
   {
    "duration": 14,
    "start_time": "2025-01-09T05:39:24.753Z"
   },
   {
    "duration": 38,
    "start_time": "2025-01-09T05:39:24.768Z"
   },
   {
    "duration": 21,
    "start_time": "2025-01-09T05:39:24.808Z"
   },
   {
    "duration": 11,
    "start_time": "2025-01-09T05:39:24.833Z"
   },
   {
    "duration": 6,
    "start_time": "2025-01-09T05:39:24.845Z"
   },
   {
    "duration": 15,
    "start_time": "2025-01-09T05:39:24.852Z"
   },
   {
    "duration": 54,
    "start_time": "2025-01-09T05:39:24.869Z"
   },
   {
    "duration": 12,
    "start_time": "2025-01-09T05:39:24.925Z"
   },
   {
    "duration": 18,
    "start_time": "2025-01-09T05:39:24.939Z"
   },
   {
    "duration": 47,
    "start_time": "2025-01-09T05:39:24.959Z"
   },
   {
    "duration": 16,
    "start_time": "2025-01-09T05:39:25.007Z"
   },
   {
    "duration": 4,
    "start_time": "2025-01-09T05:39:25.024Z"
   },
   {
    "duration": 38,
    "start_time": "2025-01-09T05:39:25.030Z"
   },
   {
    "duration": 5,
    "start_time": "2025-01-09T05:39:25.070Z"
   },
   {
    "duration": 39,
    "start_time": "2025-01-09T05:39:25.076Z"
   },
   {
    "duration": 202,
    "start_time": "2025-01-09T05:39:25.118Z"
   },
   {
    "duration": 156,
    "start_time": "2025-01-09T05:39:25.322Z"
   },
   {
    "duration": 5,
    "start_time": "2025-01-09T05:39:25.481Z"
   },
   {
    "duration": 104,
    "start_time": "2025-01-09T05:39:25.487Z"
   },
   {
    "duration": 16,
    "start_time": "2025-01-09T05:39:25.593Z"
   },
   {
    "duration": 5,
    "start_time": "2025-01-09T05:39:25.610Z"
   },
   {
    "duration": 0,
    "start_time": "2025-01-09T05:39:25.617Z"
   },
   {
    "duration": 0,
    "start_time": "2025-01-09T05:39:25.618Z"
   },
   {
    "duration": 0,
    "start_time": "2025-01-09T05:39:25.620Z"
   },
   {
    "duration": 0,
    "start_time": "2025-01-09T05:39:25.621Z"
   },
   {
    "duration": 0,
    "start_time": "2025-01-09T05:39:25.622Z"
   },
   {
    "duration": 0,
    "start_time": "2025-01-09T05:39:25.624Z"
   },
   {
    "duration": 0,
    "start_time": "2025-01-09T05:39:25.625Z"
   },
   {
    "duration": 0,
    "start_time": "2025-01-09T05:39:25.627Z"
   },
   {
    "duration": 0,
    "start_time": "2025-01-09T05:39:25.629Z"
   },
   {
    "duration": 0,
    "start_time": "2025-01-09T05:39:25.630Z"
   },
   {
    "duration": 0,
    "start_time": "2025-01-09T05:39:25.632Z"
   },
   {
    "duration": 0,
    "start_time": "2025-01-09T05:39:25.633Z"
   },
   {
    "duration": 0,
    "start_time": "2025-01-09T05:39:25.634Z"
   },
   {
    "duration": 0,
    "start_time": "2025-01-09T05:39:25.636Z"
   },
   {
    "duration": 0,
    "start_time": "2025-01-09T05:39:25.637Z"
   },
   {
    "duration": 0,
    "start_time": "2025-01-09T05:39:25.639Z"
   },
   {
    "duration": 0,
    "start_time": "2025-01-09T05:39:25.640Z"
   },
   {
    "duration": 0,
    "start_time": "2025-01-09T05:39:25.642Z"
   },
   {
    "duration": 0,
    "start_time": "2025-01-09T05:39:25.643Z"
   },
   {
    "duration": 0,
    "start_time": "2025-01-09T05:39:25.645Z"
   },
   {
    "duration": 0,
    "start_time": "2025-01-09T05:39:25.646Z"
   },
   {
    "duration": 0,
    "start_time": "2025-01-09T05:39:25.647Z"
   },
   {
    "duration": 0,
    "start_time": "2025-01-09T05:39:25.648Z"
   },
   {
    "duration": 0,
    "start_time": "2025-01-09T05:39:25.649Z"
   },
   {
    "duration": 14,
    "start_time": "2025-01-09T05:39:43.552Z"
   },
   {
    "duration": 183,
    "start_time": "2025-01-09T05:40:04.237Z"
   },
   {
    "duration": 11,
    "start_time": "2025-01-09T05:40:10.934Z"
   },
   {
    "duration": 112,
    "start_time": "2025-01-09T05:40:16.220Z"
   },
   {
    "duration": 7,
    "start_time": "2025-01-09T05:40:21.779Z"
   },
   {
    "duration": 211,
    "start_time": "2025-01-09T05:40:35.044Z"
   },
   {
    "duration": 15,
    "start_time": "2025-01-09T05:42:52.864Z"
   },
   {
    "duration": 179,
    "start_time": "2025-01-09T05:42:57.899Z"
   },
   {
    "duration": 12,
    "start_time": "2025-01-09T05:43:11.048Z"
   },
   {
    "duration": 84,
    "start_time": "2025-01-09T05:43:18.309Z"
   },
   {
    "duration": 7,
    "start_time": "2025-01-09T05:43:24.605Z"
   },
   {
    "duration": 6,
    "start_time": "2025-01-09T05:43:30.860Z"
   },
   {
    "duration": 6,
    "start_time": "2025-01-09T05:43:32.983Z"
   },
   {
    "duration": 173,
    "start_time": "2025-01-09T05:43:45.163Z"
   },
   {
    "duration": 177,
    "start_time": "2025-01-09T05:43:54.111Z"
   },
   {
    "duration": 13,
    "start_time": "2025-01-09T05:43:59.198Z"
   },
   {
    "duration": 4,
    "start_time": "2025-01-09T05:44:42.852Z"
   },
   {
    "duration": 5,
    "start_time": "2025-01-09T05:44:53.881Z"
   },
   {
    "duration": 7,
    "start_time": "2025-01-09T05:44:56.959Z"
   },
   {
    "duration": 4,
    "start_time": "2025-01-09T05:44:58.597Z"
   },
   {
    "duration": 850,
    "start_time": "2025-01-09T05:51:22.803Z"
   },
   {
    "duration": 160,
    "start_time": "2025-01-09T05:51:23.654Z"
   },
   {
    "duration": 10,
    "start_time": "2025-01-09T05:51:23.816Z"
   },
   {
    "duration": 10,
    "start_time": "2025-01-09T05:51:23.829Z"
   },
   {
    "duration": 12,
    "start_time": "2025-01-09T05:51:23.841Z"
   },
   {
    "duration": 8,
    "start_time": "2025-01-09T05:51:23.854Z"
   },
   {
    "duration": 10,
    "start_time": "2025-01-09T05:51:23.864Z"
   },
   {
    "duration": 35,
    "start_time": "2025-01-09T05:51:23.876Z"
   },
   {
    "duration": 10,
    "start_time": "2025-01-09T05:51:23.913Z"
   },
   {
    "duration": 10,
    "start_time": "2025-01-09T05:51:23.926Z"
   },
   {
    "duration": 6,
    "start_time": "2025-01-09T05:51:23.938Z"
   },
   {
    "duration": 4,
    "start_time": "2025-01-09T05:51:23.945Z"
   },
   {
    "duration": 8,
    "start_time": "2025-01-09T05:51:23.950Z"
   },
   {
    "duration": 47,
    "start_time": "2025-01-09T05:51:23.959Z"
   },
   {
    "duration": 9,
    "start_time": "2025-01-09T05:51:24.008Z"
   },
   {
    "duration": 15,
    "start_time": "2025-01-09T05:51:24.018Z"
   },
   {
    "duration": 9,
    "start_time": "2025-01-09T05:51:24.035Z"
   },
   {
    "duration": 26,
    "start_time": "2025-01-09T05:51:24.046Z"
   },
   {
    "duration": 69,
    "start_time": "2025-01-09T05:51:24.075Z"
   },
   {
    "duration": 21,
    "start_time": "2025-01-09T05:51:24.148Z"
   },
   {
    "duration": 12,
    "start_time": "2025-01-09T05:51:24.171Z"
   },
   {
    "duration": 27,
    "start_time": "2025-01-09T05:51:24.185Z"
   },
   {
    "duration": 18,
    "start_time": "2025-01-09T05:51:24.213Z"
   },
   {
    "duration": 11,
    "start_time": "2025-01-09T05:51:24.233Z"
   },
   {
    "duration": 15,
    "start_time": "2025-01-09T05:51:24.245Z"
   },
   {
    "duration": 13,
    "start_time": "2025-01-09T05:51:24.262Z"
   },
   {
    "duration": 21,
    "start_time": "2025-01-09T05:51:24.305Z"
   },
   {
    "duration": 13,
    "start_time": "2025-01-09T05:51:24.331Z"
   },
   {
    "duration": 7,
    "start_time": "2025-01-09T05:51:24.345Z"
   },
   {
    "duration": 16,
    "start_time": "2025-01-09T05:51:24.354Z"
   },
   {
    "duration": 52,
    "start_time": "2025-01-09T05:51:24.371Z"
   },
   {
    "duration": 11,
    "start_time": "2025-01-09T05:51:24.425Z"
   },
   {
    "duration": 17,
    "start_time": "2025-01-09T05:51:24.438Z"
   },
   {
    "duration": 21,
    "start_time": "2025-01-09T05:51:24.457Z"
   },
   {
    "duration": 41,
    "start_time": "2025-01-09T05:51:24.480Z"
   },
   {
    "duration": 4,
    "start_time": "2025-01-09T05:51:24.523Z"
   },
   {
    "duration": 38,
    "start_time": "2025-01-09T05:51:24.530Z"
   },
   {
    "duration": 5,
    "start_time": "2025-01-09T05:51:24.570Z"
   },
   {
    "duration": 41,
    "start_time": "2025-01-09T05:51:24.576Z"
   },
   {
    "duration": 207,
    "start_time": "2025-01-09T05:51:24.618Z"
   },
   {
    "duration": 161,
    "start_time": "2025-01-09T05:51:24.826Z"
   },
   {
    "duration": 4,
    "start_time": "2025-01-09T05:51:24.989Z"
   },
   {
    "duration": 90,
    "start_time": "2025-01-09T05:51:25.004Z"
   },
   {
    "duration": 12,
    "start_time": "2025-01-09T05:51:25.106Z"
   },
   {
    "duration": 5,
    "start_time": "2025-01-09T05:51:25.120Z"
   },
   {
    "duration": 0,
    "start_time": "2025-01-09T05:51:25.127Z"
   },
   {
    "duration": 0,
    "start_time": "2025-01-09T05:51:25.128Z"
   },
   {
    "duration": 0,
    "start_time": "2025-01-09T05:51:25.130Z"
   },
   {
    "duration": 0,
    "start_time": "2025-01-09T05:51:25.131Z"
   },
   {
    "duration": 0,
    "start_time": "2025-01-09T05:51:25.133Z"
   },
   {
    "duration": 0,
    "start_time": "2025-01-09T05:51:25.134Z"
   },
   {
    "duration": 0,
    "start_time": "2025-01-09T05:51:25.136Z"
   },
   {
    "duration": 0,
    "start_time": "2025-01-09T05:51:25.137Z"
   },
   {
    "duration": 0,
    "start_time": "2025-01-09T05:51:25.138Z"
   },
   {
    "duration": 0,
    "start_time": "2025-01-09T05:51:25.139Z"
   },
   {
    "duration": 0,
    "start_time": "2025-01-09T05:51:25.140Z"
   },
   {
    "duration": 0,
    "start_time": "2025-01-09T05:51:25.142Z"
   },
   {
    "duration": 0,
    "start_time": "2025-01-09T05:51:25.143Z"
   },
   {
    "duration": 0,
    "start_time": "2025-01-09T05:51:25.144Z"
   },
   {
    "duration": 0,
    "start_time": "2025-01-09T05:51:25.145Z"
   },
   {
    "duration": 0,
    "start_time": "2025-01-09T05:51:25.146Z"
   },
   {
    "duration": 0,
    "start_time": "2025-01-09T05:51:25.147Z"
   },
   {
    "duration": 0,
    "start_time": "2025-01-09T05:51:25.148Z"
   },
   {
    "duration": 0,
    "start_time": "2025-01-09T05:51:25.149Z"
   },
   {
    "duration": 0,
    "start_time": "2025-01-09T05:51:25.150Z"
   },
   {
    "duration": 0,
    "start_time": "2025-01-09T05:51:25.151Z"
   },
   {
    "duration": 0,
    "start_time": "2025-01-09T05:51:25.152Z"
   },
   {
    "duration": 0,
    "start_time": "2025-01-09T05:51:25.153Z"
   },
   {
    "duration": 0,
    "start_time": "2025-01-09T05:51:25.154Z"
   },
   {
    "duration": 0,
    "start_time": "2025-01-09T05:51:25.155Z"
   },
   {
    "duration": 4,
    "start_time": "2025-01-09T05:51:40.328Z"
   },
   {
    "duration": 640,
    "start_time": "2025-01-09T05:55:26.189Z"
   },
   {
    "duration": 13,
    "start_time": "2025-01-09T05:58:29.667Z"
   },
   {
    "duration": 166,
    "start_time": "2025-01-09T05:58:34.571Z"
   },
   {
    "duration": 125,
    "start_time": "2025-01-09T05:58:42.750Z"
   },
   {
    "duration": 6,
    "start_time": "2025-01-09T05:59:12.721Z"
   },
   {
    "duration": 8,
    "start_time": "2025-01-09T05:59:24.615Z"
   },
   {
    "duration": 8,
    "start_time": "2025-01-09T05:59:31.177Z"
   },
   {
    "duration": 16,
    "start_time": "2025-01-09T05:59:43.198Z"
   },
   {
    "duration": 180,
    "start_time": "2025-01-09T05:59:48.067Z"
   },
   {
    "duration": 13,
    "start_time": "2025-01-09T06:00:01.134Z"
   },
   {
    "duration": 112,
    "start_time": "2025-01-09T06:00:04.940Z"
   },
   {
    "duration": 7,
    "start_time": "2025-01-09T06:00:10.311Z"
   },
   {
    "duration": 16,
    "start_time": "2025-01-09T06:00:26.080Z"
   },
   {
    "duration": 178,
    "start_time": "2025-01-09T06:00:33.007Z"
   },
   {
    "duration": 11,
    "start_time": "2025-01-09T06:00:38.387Z"
   },
   {
    "duration": 84,
    "start_time": "2025-01-09T06:00:42.095Z"
   },
   {
    "duration": 7,
    "start_time": "2025-01-09T06:00:49.937Z"
   },
   {
    "duration": 5,
    "start_time": "2025-01-09T06:00:53.513Z"
   },
   {
    "duration": 6,
    "start_time": "2025-01-09T06:00:56.205Z"
   },
   {
    "duration": 244,
    "start_time": "2025-01-09T06:01:06.032Z"
   },
   {
    "duration": 110,
    "start_time": "2025-01-09T06:01:13.965Z"
   },
   {
    "duration": 13,
    "start_time": "2025-01-09T06:01:24.681Z"
   },
   {
    "duration": 4,
    "start_time": "2025-01-09T06:01:37.079Z"
   },
   {
    "duration": 6,
    "start_time": "2025-01-09T06:01:55.583Z"
   },
   {
    "duration": 5,
    "start_time": "2025-01-09T06:01:56.682Z"
   },
   {
    "duration": 5,
    "start_time": "2025-01-09T06:01:57.703Z"
   },
   {
    "duration": 858,
    "start_time": "2025-01-09T06:02:23.737Z"
   },
   {
    "duration": 157,
    "start_time": "2025-01-09T06:02:24.596Z"
   },
   {
    "duration": 10,
    "start_time": "2025-01-09T06:02:24.755Z"
   },
   {
    "duration": 10,
    "start_time": "2025-01-09T06:02:24.767Z"
   },
   {
    "duration": 11,
    "start_time": "2025-01-09T06:02:24.779Z"
   },
   {
    "duration": 19,
    "start_time": "2025-01-09T06:02:24.792Z"
   },
   {
    "duration": 10,
    "start_time": "2025-01-09T06:02:24.812Z"
   },
   {
    "duration": 9,
    "start_time": "2025-01-09T06:02:24.823Z"
   },
   {
    "duration": 9,
    "start_time": "2025-01-09T06:02:24.834Z"
   },
   {
    "duration": 10,
    "start_time": "2025-01-09T06:02:24.847Z"
   },
   {
    "duration": 5,
    "start_time": "2025-01-09T06:02:24.859Z"
   },
   {
    "duration": 41,
    "start_time": "2025-01-09T06:02:24.865Z"
   },
   {
    "duration": 9,
    "start_time": "2025-01-09T06:02:24.908Z"
   },
   {
    "duration": 11,
    "start_time": "2025-01-09T06:02:24.919Z"
   },
   {
    "duration": 10,
    "start_time": "2025-01-09T06:02:24.932Z"
   },
   {
    "duration": 18,
    "start_time": "2025-01-09T06:02:24.944Z"
   },
   {
    "duration": 46,
    "start_time": "2025-01-09T06:02:24.964Z"
   },
   {
    "duration": 26,
    "start_time": "2025-01-09T06:02:25.011Z"
   },
   {
    "duration": 38,
    "start_time": "2025-01-09T06:02:25.039Z"
   },
   {
    "duration": 35,
    "start_time": "2025-01-09T06:02:25.079Z"
   },
   {
    "duration": 12,
    "start_time": "2025-01-09T06:02:25.116Z"
   },
   {
    "duration": 9,
    "start_time": "2025-01-09T06:02:25.129Z"
   },
   {
    "duration": 17,
    "start_time": "2025-01-09T06:02:25.140Z"
   },
   {
    "duration": 12,
    "start_time": "2025-01-09T06:02:25.158Z"
   },
   {
    "duration": 46,
    "start_time": "2025-01-09T06:02:25.171Z"
   },
   {
    "duration": 8,
    "start_time": "2025-01-09T06:02:25.219Z"
   },
   {
    "duration": 21,
    "start_time": "2025-01-09T06:02:25.228Z"
   },
   {
    "duration": 11,
    "start_time": "2025-01-09T06:02:25.254Z"
   },
   {
    "duration": 6,
    "start_time": "2025-01-09T06:02:25.267Z"
   },
   {
    "duration": 15,
    "start_time": "2025-01-09T06:02:25.305Z"
   },
   {
    "duration": 22,
    "start_time": "2025-01-09T06:02:25.321Z"
   },
   {
    "duration": 13,
    "start_time": "2025-01-09T06:02:25.344Z"
   },
   {
    "duration": 17,
    "start_time": "2025-01-09T06:02:25.359Z"
   },
   {
    "duration": 47,
    "start_time": "2025-01-09T06:02:25.378Z"
   },
   {
    "duration": 15,
    "start_time": "2025-01-09T06:02:25.427Z"
   },
   {
    "duration": 5,
    "start_time": "2025-01-09T06:02:25.443Z"
   },
   {
    "duration": 64,
    "start_time": "2025-01-09T06:02:25.449Z"
   },
   {
    "duration": 5,
    "start_time": "2025-01-09T06:02:25.516Z"
   },
   {
    "duration": 14,
    "start_time": "2025-01-09T06:02:25.522Z"
   },
   {
    "duration": 208,
    "start_time": "2025-01-09T06:02:25.538Z"
   },
   {
    "duration": 155,
    "start_time": "2025-01-09T06:02:25.747Z"
   },
   {
    "duration": 5,
    "start_time": "2025-01-09T06:02:25.905Z"
   },
   {
    "duration": 107,
    "start_time": "2025-01-09T06:02:25.911Z"
   },
   {
    "duration": 13,
    "start_time": "2025-01-09T06:02:26.020Z"
   },
   {
    "duration": 11,
    "start_time": "2025-01-09T06:02:26.035Z"
   },
   {
    "duration": 183,
    "start_time": "2025-01-09T06:02:26.048Z"
   },
   {
    "duration": 127,
    "start_time": "2025-01-09T06:02:26.233Z"
   },
   {
    "duration": 7,
    "start_time": "2025-01-09T06:02:26.362Z"
   },
   {
    "duration": 6,
    "start_time": "2025-01-09T06:02:26.370Z"
   },
   {
    "duration": 7,
    "start_time": "2025-01-09T06:02:26.377Z"
   },
   {
    "duration": 16,
    "start_time": "2025-01-09T06:02:26.405Z"
   },
   {
    "duration": 196,
    "start_time": "2025-01-09T06:02:26.422Z"
   },
   {
    "duration": 13,
    "start_time": "2025-01-09T06:02:26.620Z"
   },
   {
    "duration": 126,
    "start_time": "2025-01-09T06:02:26.636Z"
   },
   {
    "duration": 7,
    "start_time": "2025-01-09T06:02:26.763Z"
   },
   {
    "duration": 25,
    "start_time": "2025-01-09T06:02:26.773Z"
   },
   {
    "duration": 177,
    "start_time": "2025-01-09T06:02:26.804Z"
   },
   {
    "duration": 23,
    "start_time": "2025-01-09T06:02:26.983Z"
   },
   {
    "duration": 101,
    "start_time": "2025-01-09T06:02:27.007Z"
   },
   {
    "duration": 6,
    "start_time": "2025-01-09T06:02:27.110Z"
   },
   {
    "duration": 6,
    "start_time": "2025-01-09T06:02:27.117Z"
   },
   {
    "duration": 5,
    "start_time": "2025-01-09T06:02:27.125Z"
   },
   {
    "duration": 202,
    "start_time": "2025-01-09T06:02:27.132Z"
   },
   {
    "duration": 108,
    "start_time": "2025-01-09T06:02:27.336Z"
   },
   {
    "duration": 13,
    "start_time": "2025-01-09T06:02:27.446Z"
   },
   {
    "duration": 4,
    "start_time": "2025-01-09T06:02:27.460Z"
   },
   {
    "duration": 6,
    "start_time": "2025-01-09T06:02:27.466Z"
   },
   {
    "duration": 31,
    "start_time": "2025-01-09T06:02:27.474Z"
   },
   {
    "duration": 4,
    "start_time": "2025-01-09T06:02:27.507Z"
   },
   {
    "duration": 2518,
    "start_time": "2025-01-09T09:56:07.341Z"
   },
   {
    "duration": 213,
    "start_time": "2025-01-09T09:56:09.861Z"
   },
   {
    "duration": 9,
    "start_time": "2025-01-09T09:56:10.076Z"
   },
   {
    "duration": 9,
    "start_time": "2025-01-09T09:56:10.088Z"
   },
   {
    "duration": 12,
    "start_time": "2025-01-09T09:56:10.098Z"
   },
   {
    "duration": 8,
    "start_time": "2025-01-09T09:56:10.111Z"
   },
   {
    "duration": 9,
    "start_time": "2025-01-09T09:56:10.124Z"
   },
   {
    "duration": 9,
    "start_time": "2025-01-09T09:56:10.134Z"
   },
   {
    "duration": 10,
    "start_time": "2025-01-09T09:56:10.144Z"
   },
   {
    "duration": 10,
    "start_time": "2025-01-09T09:56:10.158Z"
   },
   {
    "duration": 6,
    "start_time": "2025-01-09T09:56:10.169Z"
   },
   {
    "duration": 4,
    "start_time": "2025-01-09T09:56:10.177Z"
   },
   {
    "duration": 9,
    "start_time": "2025-01-09T09:56:10.223Z"
   },
   {
    "duration": 10,
    "start_time": "2025-01-09T09:56:10.234Z"
   },
   {
    "duration": 8,
    "start_time": "2025-01-09T09:56:10.246Z"
   },
   {
    "duration": 15,
    "start_time": "2025-01-09T09:56:10.255Z"
   },
   {
    "duration": 9,
    "start_time": "2025-01-09T09:56:10.272Z"
   },
   {
    "duration": 58,
    "start_time": "2025-01-09T09:56:10.283Z"
   },
   {
    "duration": 38,
    "start_time": "2025-01-09T09:56:10.343Z"
   },
   {
    "duration": 19,
    "start_time": "2025-01-09T09:56:10.382Z"
   },
   {
    "duration": 28,
    "start_time": "2025-01-09T09:56:10.403Z"
   },
   {
    "duration": 8,
    "start_time": "2025-01-09T09:56:10.433Z"
   },
   {
    "duration": 17,
    "start_time": "2025-01-09T09:56:10.442Z"
   },
   {
    "duration": 11,
    "start_time": "2025-01-09T09:56:10.460Z"
   },
   {
    "duration": 13,
    "start_time": "2025-01-09T09:56:10.473Z"
   },
   {
    "duration": 44,
    "start_time": "2025-01-09T09:56:10.487Z"
   },
   {
    "duration": 21,
    "start_time": "2025-01-09T09:56:10.532Z"
   },
   {
    "duration": 11,
    "start_time": "2025-01-09T09:56:10.558Z"
   },
   {
    "duration": 6,
    "start_time": "2025-01-09T09:56:10.570Z"
   },
   {
    "duration": 15,
    "start_time": "2025-01-09T09:56:10.578Z"
   },
   {
    "duration": 21,
    "start_time": "2025-01-09T09:56:10.625Z"
   },
   {
    "duration": 12,
    "start_time": "2025-01-09T09:56:10.648Z"
   },
   {
    "duration": 18,
    "start_time": "2025-01-09T09:56:10.661Z"
   },
   {
    "duration": 46,
    "start_time": "2025-01-09T09:56:10.681Z"
   },
   {
    "duration": 15,
    "start_time": "2025-01-09T09:56:10.729Z"
   },
   {
    "duration": 5,
    "start_time": "2025-01-09T09:56:10.745Z"
   },
   {
    "duration": 40,
    "start_time": "2025-01-09T09:56:10.752Z"
   },
   {
    "duration": 31,
    "start_time": "2025-01-09T09:56:10.793Z"
   },
   {
    "duration": 15,
    "start_time": "2025-01-09T09:56:10.825Z"
   },
   {
    "duration": 203,
    "start_time": "2025-01-09T09:56:10.841Z"
   },
   {
    "duration": 115,
    "start_time": "2025-01-09T09:56:11.046Z"
   },
   {
    "duration": 6,
    "start_time": "2025-01-09T09:56:11.163Z"
   },
   {
    "duration": 108,
    "start_time": "2025-01-09T09:56:11.171Z"
   },
   {
    "duration": 13,
    "start_time": "2025-01-09T09:56:11.281Z"
   },
   {
    "duration": 30,
    "start_time": "2025-01-09T09:56:11.295Z"
   },
   {
    "duration": 174,
    "start_time": "2025-01-09T09:56:11.326Z"
   },
   {
    "duration": 185,
    "start_time": "2025-01-09T09:56:11.502Z"
   },
   {
    "duration": 8,
    "start_time": "2025-01-09T09:56:11.689Z"
   },
   {
    "duration": 6,
    "start_time": "2025-01-09T09:56:11.698Z"
   },
   {
    "duration": 22,
    "start_time": "2025-01-09T09:56:11.705Z"
   },
   {
    "duration": 13,
    "start_time": "2025-01-09T09:56:11.729Z"
   },
   {
    "duration": 189,
    "start_time": "2025-01-09T09:56:11.743Z"
   },
   {
    "duration": 11,
    "start_time": "2025-01-09T09:56:11.934Z"
   },
   {
    "duration": 132,
    "start_time": "2025-01-09T09:56:11.946Z"
   },
   {
    "duration": 7,
    "start_time": "2025-01-09T09:56:12.079Z"
   },
   {
    "duration": 14,
    "start_time": "2025-01-09T09:56:12.088Z"
   },
   {
    "duration": 194,
    "start_time": "2025-01-09T09:56:12.103Z"
   },
   {
    "duration": 11,
    "start_time": "2025-01-09T09:56:12.299Z"
   },
   {
    "duration": 84,
    "start_time": "2025-01-09T09:56:12.324Z"
   },
   {
    "duration": 17,
    "start_time": "2025-01-09T09:56:12.409Z"
   },
   {
    "duration": 6,
    "start_time": "2025-01-09T09:56:12.427Z"
   },
   {
    "duration": 5,
    "start_time": "2025-01-09T09:56:12.435Z"
   },
   {
    "duration": 193,
    "start_time": "2025-01-09T09:56:12.442Z"
   },
   {
    "duration": 114,
    "start_time": "2025-01-09T09:56:12.636Z"
   },
   {
    "duration": 12,
    "start_time": "2025-01-09T09:56:12.752Z"
   },
   {
    "duration": 4,
    "start_time": "2025-01-09T09:56:12.766Z"
   },
   {
    "duration": 5,
    "start_time": "2025-01-09T09:56:12.772Z"
   },
   {
    "duration": 5,
    "start_time": "2025-01-09T09:56:12.779Z"
   },
   {
    "duration": 3,
    "start_time": "2025-01-09T09:56:12.787Z"
   },
   {
    "duration": 12,
    "start_time": "2025-01-09T09:59:03.106Z"
   }
  ],
  "kernelspec": {
   "display_name": "Python 3 (ipykernel)",
   "language": "python",
   "name": "python3"
  },
  "language_info": {
   "codemirror_mode": {
    "name": "ipython",
    "version": 3
   },
   "file_extension": ".py",
   "mimetype": "text/x-python",
   "name": "python",
   "nbconvert_exporter": "python",
   "pygments_lexer": "ipython3",
   "version": "3.9.19"
  },
  "toc": {
   "base_numbering": 1,
   "nav_menu": {},
   "number_sections": true,
   "sideBar": true,
   "skip_h1_title": false,
   "title_cell": "Table of Contents",
   "title_sidebar": "Contents",
   "toc_cell": false,
   "toc_position": {},
   "toc_section_display": true,
   "toc_window_display": false
  }
 },
 "nbformat": 4,
 "nbformat_minor": 2
}
