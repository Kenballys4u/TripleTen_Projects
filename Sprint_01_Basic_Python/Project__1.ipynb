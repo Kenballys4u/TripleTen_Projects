{
 "cells": [
  {
   "cell_type": "markdown",
   "id": "f85a80d2",
   "metadata": {},
   "source": [
    "## Basic Python - Project <a id='intro'></a>"
   ]
  },
  {
   "cell_type": "markdown",
   "id": "a1262df4",
   "metadata": {},
   "source": [
    "## Introduction <a id='intro'></a>\n",
    "In this project, you will work with data from the entertainment industry. You will study a dataset with records on movies and shows. The research will focus on the \"Golden Age\" of television, which began in 1999 with the release of *The Sopranos* and is still ongoing.\n",
    "\n",
    "The aim of this project is to investigate how the number of votes a title receives impacts its ratings. The assumption is that highly-rated shows (we will focus on TV shows, ignoring movies) released during the \"Golden Age\" of television also have the most votes.\n",
    "\n",
    "### Stages \n",
    "Data on movies and shows is stored in the `/datasets/movies_and_shows.csv` file. There is no information about the quality of the data, so you will need to explore it before doing the analysis.\n",
    "\n",
    "First, you'll evaluate the quality of the data and see whether its issues are significant. Then, during data preprocessing, you will try to account for the most critical problems.\n",
    " \n",
    "Your project will consist of three stages:\n",
    " 1. Data overview\n",
    " 2. Data preprocessing\n",
    " 3. Data analysis"
   ]
  },
  {
   "cell_type": "markdown",
   "id": "ac0593ac",
   "metadata": {},
   "source": [
    "## Stage 1. Data overview <a id='data_review'></a>\n",
    "\n",
    "Open and explore the data."
   ]
  },
  {
   "cell_type": "markdown",
   "id": "e86ed00e",
   "metadata": {},
   "source": [
    "You'll need `pandas`, so import it."
   ]
  },
  {
   "cell_type": "code",
   "execution_count": 1,
   "id": "1727d3f8",
   "metadata": {
    "trusted": false
   },
   "outputs": [
    {
     "data": {
      "text/html": [
       "<div>\n",
       "<style scoped>\n",
       "    .dataframe tbody tr th:only-of-type {\n",
       "        vertical-align: middle;\n",
       "    }\n",
       "\n",
       "    .dataframe tbody tr th {\n",
       "        vertical-align: top;\n",
       "    }\n",
       "\n",
       "    .dataframe thead th {\n",
       "        text-align: right;\n",
       "    }\n",
       "</style>\n",
       "<table border=\"1\" class=\"dataframe\">\n",
       "  <thead>\n",
       "    <tr style=\"text-align: right;\">\n",
       "      <th></th>\n",
       "      <th>name</th>\n",
       "      <th>Character</th>\n",
       "      <th>r0le</th>\n",
       "      <th>TITLE</th>\n",
       "      <th>Type</th>\n",
       "      <th>release Year</th>\n",
       "      <th>genres</th>\n",
       "      <th>imdb sc0re</th>\n",
       "      <th>imdb v0tes</th>\n",
       "    </tr>\n",
       "  </thead>\n",
       "  <tbody>\n",
       "    <tr>\n",
       "      <th>0</th>\n",
       "      <td>Robert De Niro</td>\n",
       "      <td>Travis Bickle</td>\n",
       "      <td>ACTOR</td>\n",
       "      <td>Taxi Driver</td>\n",
       "      <td>MOVIE</td>\n",
       "      <td>1976</td>\n",
       "      <td>['drama', 'crime']</td>\n",
       "      <td>8.2</td>\n",
       "      <td>808582.0</td>\n",
       "    </tr>\n",
       "    <tr>\n",
       "      <th>1</th>\n",
       "      <td>Jodie Foster</td>\n",
       "      <td>Iris Steensma</td>\n",
       "      <td>ACTOR</td>\n",
       "      <td>Taxi Driver</td>\n",
       "      <td>MOVIE</td>\n",
       "      <td>1976</td>\n",
       "      <td>['drama', 'crime']</td>\n",
       "      <td>8.2</td>\n",
       "      <td>808582.0</td>\n",
       "    </tr>\n",
       "    <tr>\n",
       "      <th>2</th>\n",
       "      <td>Albert Brooks</td>\n",
       "      <td>Tom</td>\n",
       "      <td>ACTOR</td>\n",
       "      <td>Taxi Driver</td>\n",
       "      <td>MOVIE</td>\n",
       "      <td>1976</td>\n",
       "      <td>['drama', 'crime']</td>\n",
       "      <td>8.2</td>\n",
       "      <td>808582.0</td>\n",
       "    </tr>\n",
       "    <tr>\n",
       "      <th>3</th>\n",
       "      <td>Harvey Keitel</td>\n",
       "      <td>Matthew 'Sport' Higgins</td>\n",
       "      <td>ACTOR</td>\n",
       "      <td>Taxi Driver</td>\n",
       "      <td>MOVIE</td>\n",
       "      <td>1976</td>\n",
       "      <td>['drama', 'crime']</td>\n",
       "      <td>8.2</td>\n",
       "      <td>808582.0</td>\n",
       "    </tr>\n",
       "    <tr>\n",
       "      <th>4</th>\n",
       "      <td>Cybill Shepherd</td>\n",
       "      <td>Betsy</td>\n",
       "      <td>ACTOR</td>\n",
       "      <td>Taxi Driver</td>\n",
       "      <td>MOVIE</td>\n",
       "      <td>1976</td>\n",
       "      <td>['drama', 'crime']</td>\n",
       "      <td>8.2</td>\n",
       "      <td>808582.0</td>\n",
       "    </tr>\n",
       "    <tr>\n",
       "      <th>...</th>\n",
       "      <td>...</td>\n",
       "      <td>...</td>\n",
       "      <td>...</td>\n",
       "      <td>...</td>\n",
       "      <td>...</td>\n",
       "      <td>...</td>\n",
       "      <td>...</td>\n",
       "      <td>...</td>\n",
       "      <td>...</td>\n",
       "    </tr>\n",
       "    <tr>\n",
       "      <th>85574</th>\n",
       "      <td>Adelaida Buscato</td>\n",
       "      <td>Mar??a Paz</td>\n",
       "      <td>ACTOR</td>\n",
       "      <td>Lokillo</td>\n",
       "      <td>the movie</td>\n",
       "      <td>2021</td>\n",
       "      <td>['comedy']</td>\n",
       "      <td>3.8</td>\n",
       "      <td>68.0</td>\n",
       "    </tr>\n",
       "    <tr>\n",
       "      <th>85575</th>\n",
       "      <td>Luz Stella Luengas</td>\n",
       "      <td>Karen Bayona</td>\n",
       "      <td>ACTOR</td>\n",
       "      <td>Lokillo</td>\n",
       "      <td>the movie</td>\n",
       "      <td>2021</td>\n",
       "      <td>['comedy']</td>\n",
       "      <td>3.8</td>\n",
       "      <td>68.0</td>\n",
       "    </tr>\n",
       "    <tr>\n",
       "      <th>85576</th>\n",
       "      <td>In??s Prieto</td>\n",
       "      <td>Fanny</td>\n",
       "      <td>ACTOR</td>\n",
       "      <td>Lokillo</td>\n",
       "      <td>the movie</td>\n",
       "      <td>2021</td>\n",
       "      <td>['comedy']</td>\n",
       "      <td>3.8</td>\n",
       "      <td>68.0</td>\n",
       "    </tr>\n",
       "    <tr>\n",
       "      <th>85577</th>\n",
       "      <td>Isabel Gaona</td>\n",
       "      <td>Cacica</td>\n",
       "      <td>ACTOR</td>\n",
       "      <td>Lokillo</td>\n",
       "      <td>MOVIE</td>\n",
       "      <td>2021</td>\n",
       "      <td>['comedy']</td>\n",
       "      <td>3.8</td>\n",
       "      <td>68.0</td>\n",
       "    </tr>\n",
       "    <tr>\n",
       "      <th>85578</th>\n",
       "      <td>Julian Gaviria</td>\n",
       "      <td>unknown</td>\n",
       "      <td>DIRECTOR</td>\n",
       "      <td>Lokillo</td>\n",
       "      <td>the movie</td>\n",
       "      <td>2021</td>\n",
       "      <td>['comedy']</td>\n",
       "      <td>3.8</td>\n",
       "      <td>68.0</td>\n",
       "    </tr>\n",
       "  </tbody>\n",
       "</table>\n",
       "<p>85579 rows × 9 columns</p>\n",
       "</div>"
      ],
      "text/plain": [
       "                     name                Character      r0le        TITLE  \\\n",
       "0          Robert De Niro            Travis Bickle     ACTOR  Taxi Driver   \n",
       "1            Jodie Foster            Iris Steensma     ACTOR  Taxi Driver   \n",
       "2           Albert Brooks                      Tom     ACTOR  Taxi Driver   \n",
       "3           Harvey Keitel  Matthew 'Sport' Higgins     ACTOR  Taxi Driver   \n",
       "4         Cybill Shepherd                    Betsy     ACTOR  Taxi Driver   \n",
       "...                   ...                      ...       ...          ...   \n",
       "85574    Adelaida Buscato               Mar??a Paz     ACTOR      Lokillo   \n",
       "85575  Luz Stella Luengas             Karen Bayona     ACTOR      Lokillo   \n",
       "85576        In??s Prieto                    Fanny     ACTOR      Lokillo   \n",
       "85577        Isabel Gaona                   Cacica     ACTOR      Lokillo   \n",
       "85578      Julian Gaviria                  unknown  DIRECTOR      Lokillo   \n",
       "\n",
       "            Type  release Year              genres  imdb sc0re  imdb v0tes  \n",
       "0          MOVIE          1976  ['drama', 'crime']         8.2    808582.0  \n",
       "1          MOVIE          1976  ['drama', 'crime']         8.2    808582.0  \n",
       "2          MOVIE          1976  ['drama', 'crime']         8.2    808582.0  \n",
       "3          MOVIE          1976  ['drama', 'crime']         8.2    808582.0  \n",
       "4          MOVIE          1976  ['drama', 'crime']         8.2    808582.0  \n",
       "...          ...           ...                 ...         ...         ...  \n",
       "85574  the movie          2021          ['comedy']         3.8        68.0  \n",
       "85575  the movie          2021          ['comedy']         3.8        68.0  \n",
       "85576  the movie          2021          ['comedy']         3.8        68.0  \n",
       "85577      MOVIE          2021          ['comedy']         3.8        68.0  \n",
       "85578  the movie          2021          ['comedy']         3.8        68.0  \n",
       "\n",
       "[85579 rows x 9 columns]"
      ]
     },
     "execution_count": 1,
     "metadata": {},
     "output_type": "execute_result"
    }
   ],
   "source": [
    "# importing pandas\n",
    "import pandas as pd\n",
    "df = pd.read_csv(\"/datasets/movies_and_shows.csv\")\n",
    "(df)"
   ]
  },
  {
   "cell_type": "markdown",
   "id": "9821beeb",
   "metadata": {},
   "source": [
    "Read the `movies_and_shows.csv` file from the `datasets` folder and save it in the `df` variable:"
   ]
  },
  {
   "cell_type": "code",
   "execution_count": 2,
   "id": "fc5a1402",
   "metadata": {
    "trusted": false
   },
   "outputs": [
    {
     "data": {
      "text/html": [
       "<div>\n",
       "<style scoped>\n",
       "    .dataframe tbody tr th:only-of-type {\n",
       "        vertical-align: middle;\n",
       "    }\n",
       "\n",
       "    .dataframe tbody tr th {\n",
       "        vertical-align: top;\n",
       "    }\n",
       "\n",
       "    .dataframe thead th {\n",
       "        text-align: right;\n",
       "    }\n",
       "</style>\n",
       "<table border=\"1\" class=\"dataframe\">\n",
       "  <thead>\n",
       "    <tr style=\"text-align: right;\">\n",
       "      <th></th>\n",
       "      <th>name</th>\n",
       "      <th>Character</th>\n",
       "      <th>r0le</th>\n",
       "      <th>TITLE</th>\n",
       "      <th>Type</th>\n",
       "      <th>release Year</th>\n",
       "      <th>genres</th>\n",
       "      <th>imdb sc0re</th>\n",
       "      <th>imdb v0tes</th>\n",
       "    </tr>\n",
       "  </thead>\n",
       "  <tbody>\n",
       "    <tr>\n",
       "      <th>0</th>\n",
       "      <td>Robert De Niro</td>\n",
       "      <td>Travis Bickle</td>\n",
       "      <td>ACTOR</td>\n",
       "      <td>Taxi Driver</td>\n",
       "      <td>MOVIE</td>\n",
       "      <td>1976</td>\n",
       "      <td>['drama', 'crime']</td>\n",
       "      <td>8.2</td>\n",
       "      <td>808582.0</td>\n",
       "    </tr>\n",
       "    <tr>\n",
       "      <th>1</th>\n",
       "      <td>Jodie Foster</td>\n",
       "      <td>Iris Steensma</td>\n",
       "      <td>ACTOR</td>\n",
       "      <td>Taxi Driver</td>\n",
       "      <td>MOVIE</td>\n",
       "      <td>1976</td>\n",
       "      <td>['drama', 'crime']</td>\n",
       "      <td>8.2</td>\n",
       "      <td>808582.0</td>\n",
       "    </tr>\n",
       "    <tr>\n",
       "      <th>2</th>\n",
       "      <td>Albert Brooks</td>\n",
       "      <td>Tom</td>\n",
       "      <td>ACTOR</td>\n",
       "      <td>Taxi Driver</td>\n",
       "      <td>MOVIE</td>\n",
       "      <td>1976</td>\n",
       "      <td>['drama', 'crime']</td>\n",
       "      <td>8.2</td>\n",
       "      <td>808582.0</td>\n",
       "    </tr>\n",
       "    <tr>\n",
       "      <th>3</th>\n",
       "      <td>Harvey Keitel</td>\n",
       "      <td>Matthew 'Sport' Higgins</td>\n",
       "      <td>ACTOR</td>\n",
       "      <td>Taxi Driver</td>\n",
       "      <td>MOVIE</td>\n",
       "      <td>1976</td>\n",
       "      <td>['drama', 'crime']</td>\n",
       "      <td>8.2</td>\n",
       "      <td>808582.0</td>\n",
       "    </tr>\n",
       "    <tr>\n",
       "      <th>4</th>\n",
       "      <td>Cybill Shepherd</td>\n",
       "      <td>Betsy</td>\n",
       "      <td>ACTOR</td>\n",
       "      <td>Taxi Driver</td>\n",
       "      <td>MOVIE</td>\n",
       "      <td>1976</td>\n",
       "      <td>['drama', 'crime']</td>\n",
       "      <td>8.2</td>\n",
       "      <td>808582.0</td>\n",
       "    </tr>\n",
       "    <tr>\n",
       "      <th>...</th>\n",
       "      <td>...</td>\n",
       "      <td>...</td>\n",
       "      <td>...</td>\n",
       "      <td>...</td>\n",
       "      <td>...</td>\n",
       "      <td>...</td>\n",
       "      <td>...</td>\n",
       "      <td>...</td>\n",
       "      <td>...</td>\n",
       "    </tr>\n",
       "    <tr>\n",
       "      <th>85574</th>\n",
       "      <td>Adelaida Buscato</td>\n",
       "      <td>Mar??a Paz</td>\n",
       "      <td>ACTOR</td>\n",
       "      <td>Lokillo</td>\n",
       "      <td>the movie</td>\n",
       "      <td>2021</td>\n",
       "      <td>['comedy']</td>\n",
       "      <td>3.8</td>\n",
       "      <td>68.0</td>\n",
       "    </tr>\n",
       "    <tr>\n",
       "      <th>85575</th>\n",
       "      <td>Luz Stella Luengas</td>\n",
       "      <td>Karen Bayona</td>\n",
       "      <td>ACTOR</td>\n",
       "      <td>Lokillo</td>\n",
       "      <td>the movie</td>\n",
       "      <td>2021</td>\n",
       "      <td>['comedy']</td>\n",
       "      <td>3.8</td>\n",
       "      <td>68.0</td>\n",
       "    </tr>\n",
       "    <tr>\n",
       "      <th>85576</th>\n",
       "      <td>In??s Prieto</td>\n",
       "      <td>Fanny</td>\n",
       "      <td>ACTOR</td>\n",
       "      <td>Lokillo</td>\n",
       "      <td>the movie</td>\n",
       "      <td>2021</td>\n",
       "      <td>['comedy']</td>\n",
       "      <td>3.8</td>\n",
       "      <td>68.0</td>\n",
       "    </tr>\n",
       "    <tr>\n",
       "      <th>85577</th>\n",
       "      <td>Isabel Gaona</td>\n",
       "      <td>Cacica</td>\n",
       "      <td>ACTOR</td>\n",
       "      <td>Lokillo</td>\n",
       "      <td>MOVIE</td>\n",
       "      <td>2021</td>\n",
       "      <td>['comedy']</td>\n",
       "      <td>3.8</td>\n",
       "      <td>68.0</td>\n",
       "    </tr>\n",
       "    <tr>\n",
       "      <th>85578</th>\n",
       "      <td>Julian Gaviria</td>\n",
       "      <td>unknown</td>\n",
       "      <td>DIRECTOR</td>\n",
       "      <td>Lokillo</td>\n",
       "      <td>the movie</td>\n",
       "      <td>2021</td>\n",
       "      <td>['comedy']</td>\n",
       "      <td>3.8</td>\n",
       "      <td>68.0</td>\n",
       "    </tr>\n",
       "  </tbody>\n",
       "</table>\n",
       "<p>85579 rows × 9 columns</p>\n",
       "</div>"
      ],
      "text/plain": [
       "                     name                Character      r0le        TITLE  \\\n",
       "0          Robert De Niro            Travis Bickle     ACTOR  Taxi Driver   \n",
       "1            Jodie Foster            Iris Steensma     ACTOR  Taxi Driver   \n",
       "2           Albert Brooks                      Tom     ACTOR  Taxi Driver   \n",
       "3           Harvey Keitel  Matthew 'Sport' Higgins     ACTOR  Taxi Driver   \n",
       "4         Cybill Shepherd                    Betsy     ACTOR  Taxi Driver   \n",
       "...                   ...                      ...       ...          ...   \n",
       "85574    Adelaida Buscato               Mar??a Paz     ACTOR      Lokillo   \n",
       "85575  Luz Stella Luengas             Karen Bayona     ACTOR      Lokillo   \n",
       "85576        In??s Prieto                    Fanny     ACTOR      Lokillo   \n",
       "85577        Isabel Gaona                   Cacica     ACTOR      Lokillo   \n",
       "85578      Julian Gaviria                  unknown  DIRECTOR      Lokillo   \n",
       "\n",
       "            Type  release Year              genres  imdb sc0re  imdb v0tes  \n",
       "0          MOVIE          1976  ['drama', 'crime']         8.2    808582.0  \n",
       "1          MOVIE          1976  ['drama', 'crime']         8.2    808582.0  \n",
       "2          MOVIE          1976  ['drama', 'crime']         8.2    808582.0  \n",
       "3          MOVIE          1976  ['drama', 'crime']         8.2    808582.0  \n",
       "4          MOVIE          1976  ['drama', 'crime']         8.2    808582.0  \n",
       "...          ...           ...                 ...         ...         ...  \n",
       "85574  the movie          2021          ['comedy']         3.8        68.0  \n",
       "85575  the movie          2021          ['comedy']         3.8        68.0  \n",
       "85576  the movie          2021          ['comedy']         3.8        68.0  \n",
       "85577      MOVIE          2021          ['comedy']         3.8        68.0  \n",
       "85578  the movie          2021          ['comedy']         3.8        68.0  \n",
       "\n",
       "[85579 rows x 9 columns]"
      ]
     },
     "execution_count": 2,
     "metadata": {},
     "output_type": "execute_result"
    }
   ],
   "source": [
    "# reading the files and storing them to df\n",
    "import pandas as pd\n",
    "df = pd.read_csv (\"/datasets/movies_and_shows.csv\")\n",
    "(df)\n",
    "\n"
   ]
  },
  {
   "cell_type": "code",
   "execution_count": 3,
   "id": "04252db8",
   "metadata": {
    "trusted": false
   },
   "outputs": [
    {
     "data": {
      "text/html": [
       "<div>\n",
       "<style scoped>\n",
       "    .dataframe tbody tr th:only-of-type {\n",
       "        vertical-align: middle;\n",
       "    }\n",
       "\n",
       "    .dataframe tbody tr th {\n",
       "        vertical-align: top;\n",
       "    }\n",
       "\n",
       "    .dataframe thead th {\n",
       "        text-align: right;\n",
       "    }\n",
       "</style>\n",
       "<table border=\"1\" class=\"dataframe\">\n",
       "  <thead>\n",
       "    <tr style=\"text-align: right;\">\n",
       "      <th></th>\n",
       "      <th>name</th>\n",
       "      <th>Character</th>\n",
       "      <th>r0le</th>\n",
       "      <th>TITLE</th>\n",
       "      <th>Type</th>\n",
       "      <th>release Year</th>\n",
       "      <th>genres</th>\n",
       "      <th>imdb sc0re</th>\n",
       "      <th>imdb v0tes</th>\n",
       "    </tr>\n",
       "  </thead>\n",
       "  <tbody>\n",
       "    <tr>\n",
       "      <th>0</th>\n",
       "      <td>Robert De Niro</td>\n",
       "      <td>Travis Bickle</td>\n",
       "      <td>ACTOR</td>\n",
       "      <td>Taxi Driver</td>\n",
       "      <td>MOVIE</td>\n",
       "      <td>1976</td>\n",
       "      <td>['drama', 'crime']</td>\n",
       "      <td>8.2</td>\n",
       "      <td>808582.0</td>\n",
       "    </tr>\n",
       "    <tr>\n",
       "      <th>1</th>\n",
       "      <td>Jodie Foster</td>\n",
       "      <td>Iris Steensma</td>\n",
       "      <td>ACTOR</td>\n",
       "      <td>Taxi Driver</td>\n",
       "      <td>MOVIE</td>\n",
       "      <td>1976</td>\n",
       "      <td>['drama', 'crime']</td>\n",
       "      <td>8.2</td>\n",
       "      <td>808582.0</td>\n",
       "    </tr>\n",
       "    <tr>\n",
       "      <th>2</th>\n",
       "      <td>Albert Brooks</td>\n",
       "      <td>Tom</td>\n",
       "      <td>ACTOR</td>\n",
       "      <td>Taxi Driver</td>\n",
       "      <td>MOVIE</td>\n",
       "      <td>1976</td>\n",
       "      <td>['drama', 'crime']</td>\n",
       "      <td>8.2</td>\n",
       "      <td>808582.0</td>\n",
       "    </tr>\n",
       "  </tbody>\n",
       "</table>\n",
       "</div>"
      ],
      "text/plain": [
       "             name      Character   r0le        TITLE   Type  release Year  \\\n",
       "0  Robert De Niro  Travis Bickle  ACTOR  Taxi Driver  MOVIE          1976   \n",
       "1    Jodie Foster  Iris Steensma  ACTOR  Taxi Driver  MOVIE          1976   \n",
       "2   Albert Brooks            Tom  ACTOR  Taxi Driver  MOVIE          1976   \n",
       "\n",
       "               genres  imdb sc0re  imdb v0tes  \n",
       "0  ['drama', 'crime']         8.2    808582.0  \n",
       "1  ['drama', 'crime']         8.2    808582.0  \n",
       "2  ['drama', 'crime']         8.2    808582.0  "
      ]
     },
     "metadata": {},
     "output_type": "display_data"
    },
    {
     "data": {
      "text/html": [
       "<div>\n",
       "<style scoped>\n",
       "    .dataframe tbody tr th:only-of-type {\n",
       "        vertical-align: middle;\n",
       "    }\n",
       "\n",
       "    .dataframe tbody tr th {\n",
       "        vertical-align: top;\n",
       "    }\n",
       "\n",
       "    .dataframe thead th {\n",
       "        text-align: right;\n",
       "    }\n",
       "</style>\n",
       "<table border=\"1\" class=\"dataframe\">\n",
       "  <thead>\n",
       "    <tr style=\"text-align: right;\">\n",
       "      <th></th>\n",
       "      <th>name</th>\n",
       "      <th>Character</th>\n",
       "      <th>r0le</th>\n",
       "      <th>TITLE</th>\n",
       "      <th>Type</th>\n",
       "      <th>release Year</th>\n",
       "      <th>genres</th>\n",
       "      <th>imdb sc0re</th>\n",
       "      <th>imdb v0tes</th>\n",
       "    </tr>\n",
       "  </thead>\n",
       "  <tbody>\n",
       "    <tr>\n",
       "      <th>85576</th>\n",
       "      <td>In??s Prieto</td>\n",
       "      <td>Fanny</td>\n",
       "      <td>ACTOR</td>\n",
       "      <td>Lokillo</td>\n",
       "      <td>the movie</td>\n",
       "      <td>2021</td>\n",
       "      <td>['comedy']</td>\n",
       "      <td>3.8</td>\n",
       "      <td>68.0</td>\n",
       "    </tr>\n",
       "    <tr>\n",
       "      <th>85577</th>\n",
       "      <td>Isabel Gaona</td>\n",
       "      <td>Cacica</td>\n",
       "      <td>ACTOR</td>\n",
       "      <td>Lokillo</td>\n",
       "      <td>MOVIE</td>\n",
       "      <td>2021</td>\n",
       "      <td>['comedy']</td>\n",
       "      <td>3.8</td>\n",
       "      <td>68.0</td>\n",
       "    </tr>\n",
       "    <tr>\n",
       "      <th>85578</th>\n",
       "      <td>Julian Gaviria</td>\n",
       "      <td>unknown</td>\n",
       "      <td>DIRECTOR</td>\n",
       "      <td>Lokillo</td>\n",
       "      <td>the movie</td>\n",
       "      <td>2021</td>\n",
       "      <td>['comedy']</td>\n",
       "      <td>3.8</td>\n",
       "      <td>68.0</td>\n",
       "    </tr>\n",
       "  </tbody>\n",
       "</table>\n",
       "</div>"
      ],
      "text/plain": [
       "                 name Character      r0le    TITLE       Type  release Year  \\\n",
       "85576    In??s Prieto     Fanny     ACTOR  Lokillo  the movie          2021   \n",
       "85577    Isabel Gaona    Cacica     ACTOR  Lokillo      MOVIE          2021   \n",
       "85578  Julian Gaviria   unknown  DIRECTOR  Lokillo  the movie          2021   \n",
       "\n",
       "           genres  imdb sc0re  imdb v0tes  \n",
       "85576  ['comedy']         3.8        68.0  \n",
       "85577  ['comedy']         3.8        68.0  \n",
       "85578  ['comedy']         3.8        68.0  "
      ]
     },
     "execution_count": 3,
     "metadata": {},
     "output_type": "execute_result"
    }
   ],
   "source": [
    "# Reviewer's code\n",
    "\n",
    "display(df.head(3))\n",
    "\n",
    "df.tail(3)"
   ]
  },
  {
   "cell_type": "code",
   "execution_count": null,
   "id": "cf47f81e",
   "metadata": {
    "trusted": false
   },
   "outputs": [
    {
     "data": {
      "text/html": [
       "<div>\n",
       "<style scoped>\n",
       "    .dataframe tbody tr th:only-of-type {\n",
       "        vertical-align: middle;\n",
       "    }\n",
       "\n",
       "    .dataframe tbody tr th {\n",
       "        vertical-align: top;\n",
       "    }\n",
       "\n",
       "    .dataframe thead th {\n",
       "        text-align: right;\n",
       "    }\n",
       "</style>\n",
       "<table border=\"1\" class=\"dataframe\">\n",
       "  <thead>\n",
       "    <tr style=\"text-align: right;\">\n",
       "      <th></th>\n",
       "      <th>name</th>\n",
       "      <th>Character</th>\n",
       "      <th>r0le</th>\n",
       "      <th>TITLE</th>\n",
       "      <th>Type</th>\n",
       "      <th>release Year</th>\n",
       "      <th>genres</th>\n",
       "      <th>imdb sc0re</th>\n",
       "      <th>imdb v0tes</th>\n",
       "    </tr>\n",
       "  </thead>\n",
       "  <tbody>\n",
       "    <tr>\n",
       "      <th>0</th>\n",
       "      <td>Robert De Niro</td>\n",
       "      <td>Travis Bickle</td>\n",
       "      <td>ACTOR</td>\n",
       "      <td>Taxi Driver</td>\n",
       "      <td>MOVIE</td>\n",
       "      <td>1976</td>\n",
       "      <td>['drama', 'crime']</td>\n",
       "      <td>8.2</td>\n",
       "      <td>808582.0</td>\n",
       "    </tr>\n",
       "    <tr>\n",
       "      <th>1</th>\n",
       "      <td>Jodie Foster</td>\n",
       "      <td>Iris Steensma</td>\n",
       "      <td>ACTOR</td>\n",
       "      <td>Taxi Driver</td>\n",
       "      <td>MOVIE</td>\n",
       "      <td>1976</td>\n",
       "      <td>['drama', 'crime']</td>\n",
       "      <td>8.2</td>\n",
       "      <td>808582.0</td>\n",
       "    </tr>\n",
       "    <tr>\n",
       "      <th>2</th>\n",
       "      <td>Albert Brooks</td>\n",
       "      <td>Tom</td>\n",
       "      <td>ACTOR</td>\n",
       "      <td>Taxi Driver</td>\n",
       "      <td>MOVIE</td>\n",
       "      <td>1976</td>\n",
       "      <td>['drama', 'crime']</td>\n",
       "      <td>8.2</td>\n",
       "      <td>808582.0</td>\n",
       "    </tr>\n",
       "    <tr>\n",
       "      <th>3</th>\n",
       "      <td>Harvey Keitel</td>\n",
       "      <td>Matthew 'Sport' Higgins</td>\n",
       "      <td>ACTOR</td>\n",
       "      <td>Taxi Driver</td>\n",
       "      <td>MOVIE</td>\n",
       "      <td>1976</td>\n",
       "      <td>['drama', 'crime']</td>\n",
       "      <td>8.2</td>\n",
       "      <td>808582.0</td>\n",
       "    </tr>\n",
       "    <tr>\n",
       "      <th>4</th>\n",
       "      <td>Cybill Shepherd</td>\n",
       "      <td>Betsy</td>\n",
       "      <td>ACTOR</td>\n",
       "      <td>Taxi Driver</td>\n",
       "      <td>MOVIE</td>\n",
       "      <td>1976</td>\n",
       "      <td>['drama', 'crime']</td>\n",
       "      <td>8.2</td>\n",
       "      <td>808582.0</td>\n",
       "    </tr>\n",
       "    <tr>\n",
       "      <th>5</th>\n",
       "      <td>Peter Boyle</td>\n",
       "      <td>Wizard</td>\n",
       "      <td>ACTOR</td>\n",
       "      <td>Taxi Driver</td>\n",
       "      <td>MOVIE</td>\n",
       "      <td>1976</td>\n",
       "      <td>['drama', 'crime']</td>\n",
       "      <td>8.2</td>\n",
       "      <td>808582.0</td>\n",
       "    </tr>\n",
       "    <tr>\n",
       "      <th>6</th>\n",
       "      <td>Leonard Harris</td>\n",
       "      <td>Senator Charles Palantine</td>\n",
       "      <td>ACTOR</td>\n",
       "      <td>Taxi Driver</td>\n",
       "      <td>MOVIE</td>\n",
       "      <td>1976</td>\n",
       "      <td>['drama', 'crime']</td>\n",
       "      <td>8.2</td>\n",
       "      <td>808582.0</td>\n",
       "    </tr>\n",
       "    <tr>\n",
       "      <th>7</th>\n",
       "      <td>Diahnne Abbott</td>\n",
       "      <td>Concession Girl</td>\n",
       "      <td>ACTOR</td>\n",
       "      <td>Taxi Driver</td>\n",
       "      <td>MOVIE</td>\n",
       "      <td>1976</td>\n",
       "      <td>['drama', 'crime']</td>\n",
       "      <td>8.2</td>\n",
       "      <td>808582.0</td>\n",
       "    </tr>\n",
       "    <tr>\n",
       "      <th>8</th>\n",
       "      <td>Gino Ardito</td>\n",
       "      <td>Policeman at Rally</td>\n",
       "      <td>ACTOR</td>\n",
       "      <td>Taxi Driver</td>\n",
       "      <td>MOVIE</td>\n",
       "      <td>1976</td>\n",
       "      <td>['drama', 'crime']</td>\n",
       "      <td>8.2</td>\n",
       "      <td>808582.0</td>\n",
       "    </tr>\n",
       "    <tr>\n",
       "      <th>9</th>\n",
       "      <td>Martin Scorsese</td>\n",
       "      <td>Passenger Watching Silhouette</td>\n",
       "      <td>ACTOR</td>\n",
       "      <td>Taxi Driver</td>\n",
       "      <td>MOVIE</td>\n",
       "      <td>1976</td>\n",
       "      <td>['drama', 'crime']</td>\n",
       "      <td>8.2</td>\n",
       "      <td>808582.0</td>\n",
       "    </tr>\n",
       "  </tbody>\n",
       "</table>\n",
       "</div>"
      ],
      "text/plain": [
       "              name                      Character   r0le        TITLE   Type  \\\n",
       "0   Robert De Niro                  Travis Bickle  ACTOR  Taxi Driver  MOVIE   \n",
       "1     Jodie Foster                  Iris Steensma  ACTOR  Taxi Driver  MOVIE   \n",
       "2    Albert Brooks                            Tom  ACTOR  Taxi Driver  MOVIE   \n",
       "3    Harvey Keitel        Matthew 'Sport' Higgins  ACTOR  Taxi Driver  MOVIE   \n",
       "4  Cybill Shepherd                          Betsy  ACTOR  Taxi Driver  MOVIE   \n",
       "5      Peter Boyle                         Wizard  ACTOR  Taxi Driver  MOVIE   \n",
       "6   Leonard Harris      Senator Charles Palantine  ACTOR  Taxi Driver  MOVIE   \n",
       "7   Diahnne Abbott                Concession Girl  ACTOR  Taxi Driver  MOVIE   \n",
       "8      Gino Ardito             Policeman at Rally  ACTOR  Taxi Driver  MOVIE   \n",
       "9  Martin Scorsese  Passenger Watching Silhouette  ACTOR  Taxi Driver  MOVIE   \n",
       "\n",
       "   release Year              genres  imdb sc0re  imdb v0tes  \n",
       "0          1976  ['drama', 'crime']         8.2    808582.0  \n",
       "1          1976  ['drama', 'crime']         8.2    808582.0  \n",
       "2          1976  ['drama', 'crime']         8.2    808582.0  \n",
       "3          1976  ['drama', 'crime']         8.2    808582.0  \n",
       "4          1976  ['drama', 'crime']         8.2    808582.0  \n",
       "5          1976  ['drama', 'crime']         8.2    808582.0  \n",
       "6          1976  ['drama', 'crime']         8.2    808582.0  \n",
       "7          1976  ['drama', 'crime']         8.2    808582.0  \n",
       "8          1976  ['drama', 'crime']         8.2    808582.0  \n",
       "9          1976  ['drama', 'crime']         8.2    808582.0  "
      ]
     },
     "execution_count": 4,
     "metadata": {},
     "output_type": "execute_result"
    }
   ],
   "source": [
    "#Print the first 10 table rows:\n",
    "(df.head(10))"
   ]
  },
  {
   "cell_type": "code",
   "execution_count": null,
   "id": "7bf66d2a",
   "metadata": {
    "scrolled": true,
    "trusted": false
   },
   "outputs": [
    {
     "name": "stdout",
     "output_type": "stream",
     "text": [
      "<class 'pandas.core.frame.DataFrame'>\n",
      "RangeIndex: 85579 entries, 0 to 85578\n",
      "Data columns (total 9 columns):\n",
      " #   Column        Non-Null Count  Dtype  \n",
      "---  ------        --------------  -----  \n",
      " 0      name       85579 non-null  object \n",
      " 1   Character     85579 non-null  object \n",
      " 2   r0le          85579 non-null  object \n",
      " 3   TITLE         85578 non-null  object \n",
      " 4     Type        85579 non-null  object \n",
      " 5   release Year  85579 non-null  int64  \n",
      " 6   genres        85579 non-null  object \n",
      " 7   imdb sc0re    80970 non-null  float64\n",
      " 8   imdb v0tes    80853 non-null  float64\n",
      "dtypes: float64(2), int64(1), object(6)\n",
      "memory usage: 5.9+ MB\n"
     ]
    }
   ],
   "source": [
    "# obtaining general information about the data in df\n",
    "\n",
    "df.info()"
   ]
  },
  {
   "cell_type": "code",
   "execution_count": null,
   "id": "34cb95f4",
   "metadata": {
    "scrolled": false,
    "trusted": false
   },
   "outputs": [
    {
     "name": "stdout",
     "output_type": "stream",
     "text": [
      "<class 'pandas.core.frame.DataFrame'>\n",
      "RangeIndex: 85579 entries, 0 to 85578\n",
      "Data columns (total 9 columns):\n",
      " #   Column        Non-Null Count  Dtype  \n",
      "---  ------        --------------  -----  \n",
      " 0      name       85579 non-null  object \n",
      " 1   Character     85579 non-null  object \n",
      " 2   r0le          85579 non-null  object \n",
      " 3   TITLE         85578 non-null  object \n",
      " 4     Type        85579 non-null  object \n",
      " 5   release Year  85579 non-null  int64  \n",
      " 6   genres        85579 non-null  object \n",
      " 7   imdb sc0re    80970 non-null  float64\n",
      " 8   imdb v0tes    80853 non-null  float64\n",
      "dtypes: float64(2), int64(1), object(6)\n",
      "memory usage: 5.9+ MB\n"
     ]
    },
    {
     "data": {
      "text/plain": [
       "pandas.core.frame.DataFrame"
      ]
     },
     "metadata": {},
     "output_type": "display_data"
    },
    {
     "data": {
      "text/plain": [
       "Index(['   name', 'Character', 'r0le', 'TITLE', '  Type', 'release Year',\n",
       "       'genres', 'imdb sc0re', 'imdb v0tes'],\n",
       "      dtype='object')"
      ]
     },
     "metadata": {},
     "output_type": "display_data"
    }
   ],
   "source": [
    "# Obtain the general information about the table with one command:\n",
    "(df.info())\n",
    "display(type(df))\n",
    "display(df.columns)"
   ]
  },
  {
   "cell_type": "markdown",
   "id": "e91f62a7",
   "metadata": {},
   "source": [
    "The table contains nine columns. The majority store the same data type: object. The only exceptions are `'release Year'` (int64 type), `'imdb sc0re'` (float64 type) and `'imdb v0tes'` (float64 type). Scores and votes will be used in our analysis, so it's important to verify that they are present in the dataframe in the appropriate numeric format. Three columns (`'TITLE'`, `'imdb sc0re'` and `'imdb v0tes'`) have missing values.\n",
    "\n",
    "According to the documentation:\n",
    "- `'name'` — actor/director's name and last name\n",
    "- `'Character'` — character played (for actors)\n",
    "- `'r0le '` — the person's contribution to the title (it can be in the capacity of either actor or director)\n",
    "- `'TITLE '` — title of the movie (show)\n",
    "- `'  Type'` — show or movie\n",
    "- `'release Year'` — year when movie (show) was released\n",
    "- `'genres'` — list of genres under which the movie (show) falls\n",
    "- `'imdb sc0re'` — score on IMDb\n",
    "- `'imdb v0tes'` — votes on IMDb\n",
    "\n",
    "We can see three issues with the column names:\n",
    "1. Some names are uppercase, while others are lowercase.\n",
    "2. There are names containing whitespace.\n",
    "3. A few column names have digit '0' instead of letter 'o'. \n"
   ]
  },
  {
   "cell_type": "markdown",
   "id": "4355de7b",
   "metadata": {},
   "source": [
    "### Conclusions <a id='data_review_conclusions'></a> \n",
    "\n",
    "Each row in the table stores data about a movie or show. The columns can be divided into two categories: the first is about the roles held by different people who worked on the movie or show (role, name of the actor or director, and character if the row is about an actor); the second category is information about the movie or show itself (title, release year, genre, imdb figures).\n",
    "\n",
    "It's clear that there is sufficient data to do the analysis and evaluate our assumption. However, to move forward, we need to preprocess the data."
   ]
  },
  {
   "cell_type": "markdown",
   "id": "c5dc9111",
   "metadata": {},
   "source": [
    "## Stage 2. Data preprocessing <a id='data_preprocessing'></a>\n",
    "Correct the formatting in the column headers and deal with the missing values. Then, check whether there are duplicates in the data."
   ]
  },
  {
   "cell_type": "code",
   "execution_count": 7,
   "id": "9c850d13",
   "metadata": {
    "scrolled": true,
    "trusted": false
   },
   "outputs": [
    {
     "data": {
      "text/plain": [
       "Index(['   name', 'Character', 'r0le', 'TITLE', '  Type', 'release Year',\n",
       "       'genres', 'imdb sc0re', 'imdb v0tes'],\n",
       "      dtype='object')"
      ]
     },
     "execution_count": 7,
     "metadata": {},
     "output_type": "execute_result"
    }
   ],
   "source": [
    "# the list of column names in the df table\n",
    "\n",
    "# columns = ['   name','Character','r0le','TITLE','  Type','release Year','genres','imdb sc0re','imdb v0tes']\n",
    "\n",
    "# # create clean_headers() function her\n",
    "# def clean_headers(columns):\n",
    "#     cleaned_headers = []\n",
    "#     for column in columns:\n",
    "#         column = column.strip().lower().replace('0', 'o').replace(' ', '_')\n",
    "#         cleaned_headers.append(column)\n",
    "#     return cleaned_headers\n",
    "\n",
    "# display (clean_headers(columns))\n",
    "df.columns"
   ]
  },
  {
   "cell_type": "markdown",
   "id": "5f966df9",
   "metadata": {},
   "source": [
    "Change the column names according to the rules of good style:\n",
    "* If the name has several words, use snake_case\n",
    "* All characters must be lowercase\n",
    "* Remove whitespace\n",
    "* Replace zero with letter 'o'"
   ]
  },
  {
   "cell_type": "code",
   "execution_count": 8,
   "id": "23a1dc11",
   "metadata": {
    "scrolled": false,
    "trusted": false
   },
   "outputs": [],
   "source": [
    "\n",
    "df.columns = df.columns.str.strip().str.lower().str.replace('0', 'o').str.replace(' ', '_')"
   ]
  },
  {
   "cell_type": "markdown",
   "id": "464fbd04",
   "metadata": {},
   "source": [
    "Check the result. Print the names of the columns once more:"
   ]
  },
  {
   "cell_type": "code",
   "execution_count": 9,
   "id": "0eb6527f",
   "metadata": {
    "trusted": false
   },
   "outputs": [
    {
     "data": {
      "text/plain": [
       "Index(['name', 'character', 'role', 'title', 'type', 'release_year', 'genres',\n",
       "       'imdb_score', 'imdb_votes'],\n",
       "      dtype='object')"
      ]
     },
     "execution_count": 9,
     "metadata": {},
     "output_type": "execute_result"
    }
   ],
   "source": [
    "# checking result: the list of column names\n",
    "df.columns"
   ]
  },
  {
   "cell_type": "markdown",
   "id": "14d9c319",
   "metadata": {},
   "source": [
    "### Missing values <a id='missing_values'></a>\n",
    "First, find the number of missing values in the table. To do so, combine two `pandas` methods:"
   ]
  },
  {
   "cell_type": "code",
   "execution_count": 10,
   "id": "8c79c035",
   "metadata": {
    "trusted": false
   },
   "outputs": [
    {
     "data": {
      "text/plain": [
       "name               0\n",
       "character          0\n",
       "role               0\n",
       "title              1\n",
       "type               0\n",
       "release_year       0\n",
       "genres             0\n",
       "imdb_score      4609\n",
       "imdb_votes      4726\n",
       "dtype: int64"
      ]
     },
     "execution_count": 10,
     "metadata": {},
     "output_type": "execute_result"
    }
   ],
   "source": [
    "# calculating missing values\n",
    "\n",
    "\n",
    "df.isna().sum()\n",
    "\n"
   ]
  },
  {
   "cell_type": "markdown",
   "id": "c8272df3",
   "metadata": {},
   "source": [
    "We identified missing values in several columns. While the missing value in `'title'` isn't critical, missing values in `'imdb_score'` and `'imdb_votes'` affect around 6% of the data, which could impact our analysis. To ensure data integrity, we'll drop all rows with missing values."
   ]
  },
  {
   "cell_type": "code",
   "execution_count": 11,
   "id": "599d5550",
   "metadata": {
    "trusted": false
   },
   "outputs": [],
   "source": [
    "# dropping rows where columns with scores, and votes have missing values\n",
    "\n",
    "df = df.dropna(axis ='rows')\n"
   ]
  },
  {
   "cell_type": "markdown",
   "id": "2156887f",
   "metadata": {},
   "source": [
    "Make sure the table doesn't contain any more missing values. Count the missing values again."
   ]
  },
  {
   "cell_type": "code",
   "execution_count": 12,
   "id": "55c0b0ce",
   "metadata": {
    "trusted": false
   },
   "outputs": [
    {
     "data": {
      "text/plain": [
       "name            0\n",
       "character       0\n",
       "role            0\n",
       "title           0\n",
       "type            0\n",
       "release_year    0\n",
       "genres          0\n",
       "imdb_score      0\n",
       "imdb_votes      0\n",
       "dtype: int64"
      ]
     },
     "execution_count": 12,
     "metadata": {},
     "output_type": "execute_result"
    }
   ],
   "source": [
    "# counting missing values\n",
    "df.isna().sum()\n",
    "     "
   ]
  },
  {
   "cell_type": "markdown",
   "id": "a7dc7aa0",
   "metadata": {},
   "source": [
    "### Duplicates <a id='duplicates'></a>\n",
    "Find the number of duplicate rows in the table using one command:"
   ]
  },
  {
   "cell_type": "code",
   "execution_count": 13,
   "id": "9227df01",
   "metadata": {
    "trusted": false
   },
   "outputs": [
    {
     "data": {
      "text/plain": [
       "6994"
      ]
     },
     "execution_count": 13,
     "metadata": {},
     "output_type": "execute_result"
    }
   ],
   "source": [
    "# counting duplicate rows\n",
    "df.duplicated().sum()\n"
   ]
  },
  {
   "cell_type": "markdown",
   "id": "5f6eb0fc",
   "metadata": {},
   "source": [
    "Review the duplicate rows to determine if removing them would distort our dataset."
   ]
  },
  {
   "cell_type": "code",
   "execution_count": 14,
   "id": "bcf32fcb",
   "metadata": {
    "trusted": false
   },
   "outputs": [
    {
     "data": {
      "text/html": [
       "<div>\n",
       "<style scoped>\n",
       "    .dataframe tbody tr th:only-of-type {\n",
       "        vertical-align: middle;\n",
       "    }\n",
       "\n",
       "    .dataframe tbody tr th {\n",
       "        vertical-align: top;\n",
       "    }\n",
       "\n",
       "    .dataframe thead th {\n",
       "        text-align: right;\n",
       "    }\n",
       "</style>\n",
       "<table border=\"1\" class=\"dataframe\">\n",
       "  <thead>\n",
       "    <tr style=\"text-align: right;\">\n",
       "      <th></th>\n",
       "      <th>name</th>\n",
       "      <th>character</th>\n",
       "      <th>role</th>\n",
       "      <th>title</th>\n",
       "      <th>type</th>\n",
       "      <th>release_year</th>\n",
       "      <th>genres</th>\n",
       "      <th>imdb_score</th>\n",
       "      <th>imdb_votes</th>\n",
       "    </tr>\n",
       "  </thead>\n",
       "  <tbody>\n",
       "    <tr>\n",
       "      <th>85569</th>\n",
       "      <td>Jessica Cediel</td>\n",
       "      <td>Liliana Navarro</td>\n",
       "      <td>ACTOR</td>\n",
       "      <td>Lokillo</td>\n",
       "      <td>MOVIE</td>\n",
       "      <td>2021</td>\n",
       "      <td>['comedy']</td>\n",
       "      <td>3.8</td>\n",
       "      <td>68.0</td>\n",
       "    </tr>\n",
       "    <tr>\n",
       "      <th>85570</th>\n",
       "      <td>Javier Gardeaz?­bal</td>\n",
       "      <td>Agust??n \"Peluca\" Ort??z</td>\n",
       "      <td>ACTOR</td>\n",
       "      <td>Lokillo</td>\n",
       "      <td>MOVIE</td>\n",
       "      <td>2021</td>\n",
       "      <td>['comedy']</td>\n",
       "      <td>3.8</td>\n",
       "      <td>68.0</td>\n",
       "    </tr>\n",
       "    <tr>\n",
       "      <th>85571</th>\n",
       "      <td>Carla Giraldo</td>\n",
       "      <td>Valery Reinoso</td>\n",
       "      <td>ACTOR</td>\n",
       "      <td>Lokillo</td>\n",
       "      <td>MOVIE</td>\n",
       "      <td>2021</td>\n",
       "      <td>['comedy']</td>\n",
       "      <td>3.8</td>\n",
       "      <td>68.0</td>\n",
       "    </tr>\n",
       "    <tr>\n",
       "      <th>85572</th>\n",
       "      <td>Ana Mar??a S?­nchez</td>\n",
       "      <td>Lourdes</td>\n",
       "      <td>ACTOR</td>\n",
       "      <td>Lokillo</td>\n",
       "      <td>MOVIE</td>\n",
       "      <td>2021</td>\n",
       "      <td>['comedy']</td>\n",
       "      <td>3.8</td>\n",
       "      <td>68.0</td>\n",
       "    </tr>\n",
       "    <tr>\n",
       "      <th>85577</th>\n",
       "      <td>Isabel Gaona</td>\n",
       "      <td>Cacica</td>\n",
       "      <td>ACTOR</td>\n",
       "      <td>Lokillo</td>\n",
       "      <td>MOVIE</td>\n",
       "      <td>2021</td>\n",
       "      <td>['comedy']</td>\n",
       "      <td>3.8</td>\n",
       "      <td>68.0</td>\n",
       "    </tr>\n",
       "  </tbody>\n",
       "</table>\n",
       "</div>"
      ],
      "text/plain": [
       "                      name                 character   role    title   type  \\\n",
       "85569       Jessica Cediel           Liliana Navarro  ACTOR  Lokillo  MOVIE   \n",
       "85570  Javier Gardeaz?­bal  Agust??n \"Peluca\" Ort??z  ACTOR  Lokillo  MOVIE   \n",
       "85571        Carla Giraldo            Valery Reinoso  ACTOR  Lokillo  MOVIE   \n",
       "85572  Ana Mar??a S?­nchez                   Lourdes  ACTOR  Lokillo  MOVIE   \n",
       "85577         Isabel Gaona                    Cacica  ACTOR  Lokillo  MOVIE   \n",
       "\n",
       "       release_year      genres  imdb_score  imdb_votes  \n",
       "85569          2021  ['comedy']         3.8        68.0  \n",
       "85570          2021  ['comedy']         3.8        68.0  \n",
       "85571          2021  ['comedy']         3.8        68.0  \n",
       "85572          2021  ['comedy']         3.8        68.0  \n",
       "85577          2021  ['comedy']         3.8        68.0  "
      ]
     },
     "execution_count": 14,
     "metadata": {},
     "output_type": "execute_result"
    }
   ],
   "source": [
    "# Produce table with duplicates (with original rows included) and review last 5 rows\n",
    "\n",
    "df[df.duplicated()].tail()\n"
   ]
  },
  {
   "cell_type": "markdown",
   "id": "a1ed6640",
   "metadata": {},
   "source": [
    "There are two clear duplicates in the printed rows. We can safely remove them.\n",
    "Call the `pandas` method for getting rid of duplicate rows:"
   ]
  },
  {
   "cell_type": "code",
   "execution_count": 15,
   "id": "724d5bc8",
   "metadata": {
    "trusted": false
   },
   "outputs": [],
   "source": [
    "# removing duplicate rows\n",
    "\n",
    "df = df.drop_duplicates()\n"
   ]
  },
  {
   "cell_type": "markdown",
   "id": "fc8c77ba",
   "metadata": {},
   "source": [
    "Check for duplicate rows once more to make sure you have removed all of them:"
   ]
  },
  {
   "cell_type": "code",
   "execution_count": 16,
   "id": "8091a9bc",
   "metadata": {
    "scrolled": true,
    "trusted": false
   },
   "outputs": [
    {
     "data": {
      "text/html": [
       "<div>\n",
       "<style scoped>\n",
       "    .dataframe tbody tr th:only-of-type {\n",
       "        vertical-align: middle;\n",
       "    }\n",
       "\n",
       "    .dataframe tbody tr th {\n",
       "        vertical-align: top;\n",
       "    }\n",
       "\n",
       "    .dataframe thead th {\n",
       "        text-align: right;\n",
       "    }\n",
       "</style>\n",
       "<table border=\"1\" class=\"dataframe\">\n",
       "  <thead>\n",
       "    <tr style=\"text-align: right;\">\n",
       "      <th></th>\n",
       "      <th>name</th>\n",
       "      <th>character</th>\n",
       "      <th>role</th>\n",
       "      <th>title</th>\n",
       "      <th>type</th>\n",
       "      <th>release_year</th>\n",
       "      <th>genres</th>\n",
       "      <th>imdb_score</th>\n",
       "      <th>imdb_votes</th>\n",
       "    </tr>\n",
       "  </thead>\n",
       "  <tbody>\n",
       "  </tbody>\n",
       "</table>\n",
       "</div>"
      ],
      "text/plain": [
       "Empty DataFrame\n",
       "Columns: [name, character, role, title, type, release_year, genres, imdb_score, imdb_votes]\n",
       "Index: []"
      ]
     },
     "execution_count": 16,
     "metadata": {},
     "output_type": "execute_result"
    }
   ],
   "source": [
    "# checking for duplicates\n",
    "\n",
    "df[df.duplicated()]"
   ]
  },
  {
   "cell_type": "markdown",
   "id": "1d802b07",
   "metadata": {},
   "source": [
    "Now get rid of implicit duplicates in the `'type'` column. For example, the string `'SHOW'` can be written in different ways. These kinds of errors will also affect the result."
   ]
  },
  {
   "cell_type": "markdown",
   "id": "d5f987ed",
   "metadata": {},
   "source": [
    "Print a list of unique `'type'` names, sorted in alphabetical order. To do so:\n",
    "* Retrieve the intended dataframe column \n",
    "* Apply a sorting method to it\n",
    "* For the sorted column, call the method that will return all unique column values"
   ]
  },
  {
   "cell_type": "code",
   "execution_count": 17,
   "id": "3d7b0ac5",
   "metadata": {
    "trusted": false
   },
   "outputs": [
    {
     "data": {
      "text/plain": [
       "array(['MOVIE', 'SHOW', 'movies', 'shows', 'the movie', 'tv', 'tv series',\n",
       "       'tv show', 'tv shows'], dtype=object)"
      ]
     },
     "execution_count": 17,
     "metadata": {},
     "output_type": "execute_result"
    }
   ],
   "source": [
    "# viewing unique type names\n",
    "\n",
    "df['type'].sort_values().unique()\n"
   ]
  },
  {
   "cell_type": "markdown",
   "id": "ac6e8b18",
   "metadata": {},
   "source": [
    "Look through the list to find implicit duplicates of `'show'` (`'movie'` duplicates will be ignored since the assumption is about shows). These could be names written incorrectly or alternative names of the same genre.\n",
    "\n",
    "You will see the following implicit duplicates:\n",
    "* `'shows'`\n",
    "* `'SHOW'`\n",
    "* `'tv show'`\n",
    "* `'tv shows'`\n",
    "* `'tv series'`\n",
    "* `'tv'`\n",
    "\n",
    "To get rid of them, declare the function `replace_wrong_show()` with two parameters: \n",
    "* `wrong_shows_list=` — the list of duplicates\n",
    "* `correct_show=` — the string with the correct value\n",
    "\n",
    "The function should correct the names in the `'type'` column from the `df` table (i.e., replace each value from the `wrong_shows_list` list with the value in `correct_show`)."
   ]
  },
  {
   "cell_type": "code",
   "execution_count": 18,
   "id": "a5cc4a25",
   "metadata": {
    "trusted": false
   },
   "outputs": [],
   "source": [
    "# function for replacing implicit duplicates\n",
    "def replace_wrong_show(wrong_shows_list,correct_show):\n",
    "    out = [correct_show if x in wrong_shows_list else x for x in df['type'] ]\n",
    "    df['type'] = out"
   ]
  },
  {
   "cell_type": "code",
   "execution_count": null,
   "id": "3ecbb384",
   "metadata": {
    "trusted": false
   },
   "outputs": [],
   "source": []
  },
  {
   "cell_type": "markdown",
   "id": "d02d13a6",
   "metadata": {},
   "source": [
    "Call `replace_wrong_show()` and pass it arguments so that it clears implicit duplicates and replaces them with `SHOW`:"
   ]
  },
  {
   "cell_type": "code",
   "execution_count": 19,
   "id": "4ad81793",
   "metadata": {
    "trusted": false
   },
   "outputs": [],
   "source": [
    "# removing implicit duplicates\n",
    "wrong_list = ['shows','SHOW','tv show','tv shows','tv series','tv']\n",
    "replace_wrong_show(wrong_list,'SHOW')"
   ]
  },
  {
   "cell_type": "code",
   "execution_count": 20,
   "id": "dcedc9c8",
   "metadata": {
    "trusted": false
   },
   "outputs": [
    {
     "data": {
      "text/plain": [
       "array(['MOVIE', 'the movie', 'SHOW', 'movies'], dtype=object)"
      ]
     },
     "execution_count": 20,
     "metadata": {},
     "output_type": "execute_result"
    }
   ],
   "source": [
    "# viewing unique genre names\n",
    "#pd.unique(df['type'])\n",
    "df['type'].unique()"
   ]
  },
  {
   "cell_type": "markdown",
   "id": "1aa0f1b1",
   "metadata": {},
   "source": [
    "## Stage 3. Data analysis <a id='hypotheses'></a>"
   ]
  },
  {
   "cell_type": "markdown",
   "id": "f8fb6a0e",
   "metadata": {},
   "source": [
    "Based on the previous project stages, you can now define how the assumption will be checked. Calculate the average amount of votes for each score (this data is available in the `imdb_score` and `imdb_votes` columns), and then check how these averages relate to each other. If the averages for shows with the highest scores are bigger than those for shows with lower scores, the assumption appears to be true.\n",
    "\n",
    "Based on this, complete the following steps:\n",
    "\n",
    "- Filter the dataframe to only include shows released in 1999 or later.\n",
    "- Group scores into buckets by rounding the values of the appropriate column (a set of 1-10 integers will help us make the outcome of our calculations more evident without damaging the quality of our research).\n",
    "- Identify outliers among scores based on their number of votes, and exclude scores with few votes.\n",
    "- Calculate the average votes for each score and check whether the assumption matches the results."
   ]
  },
  {
   "cell_type": "markdown",
   "id": "0ea2cb51",
   "metadata": {},
   "source": [
    "To filter the dataframe and only include shows released in 1999 or later, you will take two steps. First, keep only titles published in 1999 or later in our dataframe. Then, filter the table to only contain shows (movies will be removed)."
   ]
  },
  {
   "cell_type": "code",
   "execution_count": 21,
   "id": "bf26f3ce",
   "metadata": {
    "trusted": false
   },
   "outputs": [],
   "source": [
    "# using conditional indexing modify df so it has only titles released after 1999 (with 1999 included)\n",
    "# give the slice of dataframe new name\n",
    "df_after_1998 = df[df['release_year']>=1999]"
   ]
  },
  {
   "cell_type": "code",
   "execution_count": 22,
   "id": "128dc6a9",
   "metadata": {
    "scrolled": true,
    "trusted": false
   },
   "outputs": [
    {
     "data": {
      "text/html": [
       "<div>\n",
       "<style scoped>\n",
       "    .dataframe tbody tr th:only-of-type {\n",
       "        vertical-align: middle;\n",
       "    }\n",
       "\n",
       "    .dataframe tbody tr th {\n",
       "        vertical-align: top;\n",
       "    }\n",
       "\n",
       "    .dataframe thead th {\n",
       "        text-align: right;\n",
       "    }\n",
       "</style>\n",
       "<table border=\"1\" class=\"dataframe\">\n",
       "  <thead>\n",
       "    <tr style=\"text-align: right;\">\n",
       "      <th></th>\n",
       "      <th>name</th>\n",
       "      <th>character</th>\n",
       "      <th>role</th>\n",
       "      <th>title</th>\n",
       "      <th>type</th>\n",
       "      <th>release_year</th>\n",
       "      <th>genres</th>\n",
       "      <th>imdb_score</th>\n",
       "      <th>imdb_votes</th>\n",
       "    </tr>\n",
       "  </thead>\n",
       "  <tbody>\n",
       "    <tr>\n",
       "      <th>1664</th>\n",
       "      <td>Jeff Probst</td>\n",
       "      <td>Himself - Host</td>\n",
       "      <td>ACTOR</td>\n",
       "      <td>Survivor</td>\n",
       "      <td>SHOW</td>\n",
       "      <td>2000</td>\n",
       "      <td>['reality']</td>\n",
       "      <td>7.4</td>\n",
       "      <td>24687.0</td>\n",
       "    </tr>\n",
       "    <tr>\n",
       "      <th>2076</th>\n",
       "      <td>Mayumi Tanaka</td>\n",
       "      <td>Monkey D. Luffy (voice)</td>\n",
       "      <td>ACTOR</td>\n",
       "      <td>One Piece</td>\n",
       "      <td>SHOW</td>\n",
       "      <td>1999</td>\n",
       "      <td>['animation', 'action', 'comedy', 'drama', 'fa...</td>\n",
       "      <td>8.8</td>\n",
       "      <td>117129.0</td>\n",
       "    </tr>\n",
       "    <tr>\n",
       "      <th>2077</th>\n",
       "      <td>Kazuya Nakai</td>\n",
       "      <td>Roronoa Zoro (voice)</td>\n",
       "      <td>ACTOR</td>\n",
       "      <td>One Piece</td>\n",
       "      <td>SHOW</td>\n",
       "      <td>1999</td>\n",
       "      <td>['animation', 'action', 'comedy', 'drama', 'fa...</td>\n",
       "      <td>8.8</td>\n",
       "      <td>117129.0</td>\n",
       "    </tr>\n",
       "    <tr>\n",
       "      <th>2078</th>\n",
       "      <td>Akemi Okamura</td>\n",
       "      <td>Nami (voice)</td>\n",
       "      <td>ACTOR</td>\n",
       "      <td>One Piece</td>\n",
       "      <td>SHOW</td>\n",
       "      <td>1999</td>\n",
       "      <td>['animation', 'action', 'comedy', 'drama', 'fa...</td>\n",
       "      <td>8.8</td>\n",
       "      <td>117129.0</td>\n",
       "    </tr>\n",
       "    <tr>\n",
       "      <th>2079</th>\n",
       "      <td>Kappei Yamaguchi</td>\n",
       "      <td>Usopp (voice)</td>\n",
       "      <td>ACTOR</td>\n",
       "      <td>One Piece</td>\n",
       "      <td>SHOW</td>\n",
       "      <td>1999</td>\n",
       "      <td>['animation', 'action', 'comedy', 'drama', 'fa...</td>\n",
       "      <td>8.8</td>\n",
       "      <td>117129.0</td>\n",
       "    </tr>\n",
       "    <tr>\n",
       "      <th>...</th>\n",
       "      <td>...</td>\n",
       "      <td>...</td>\n",
       "      <td>...</td>\n",
       "      <td>...</td>\n",
       "      <td>...</td>\n",
       "      <td>...</td>\n",
       "      <td>...</td>\n",
       "      <td>...</td>\n",
       "      <td>...</td>\n",
       "    </tr>\n",
       "    <tr>\n",
       "      <th>85433</th>\n",
       "      <td>Maneerat Kam-Uan</td>\n",
       "      <td>Ae</td>\n",
       "      <td>ACTOR</td>\n",
       "      <td>Let's Eat</td>\n",
       "      <td>SHOW</td>\n",
       "      <td>2021</td>\n",
       "      <td>['drama', 'comedy']</td>\n",
       "      <td>8.2</td>\n",
       "      <td>5.0</td>\n",
       "    </tr>\n",
       "    <tr>\n",
       "      <th>85434</th>\n",
       "      <td>Rudklao Amratisha</td>\n",
       "      <td>unknown</td>\n",
       "      <td>ACTOR</td>\n",
       "      <td>Let's Eat</td>\n",
       "      <td>SHOW</td>\n",
       "      <td>2021</td>\n",
       "      <td>['drama', 'comedy']</td>\n",
       "      <td>8.2</td>\n",
       "      <td>5.0</td>\n",
       "    </tr>\n",
       "    <tr>\n",
       "      <th>85435</th>\n",
       "      <td>Jaturong Mokjok</td>\n",
       "      <td>unknown</td>\n",
       "      <td>ACTOR</td>\n",
       "      <td>Let's Eat</td>\n",
       "      <td>SHOW</td>\n",
       "      <td>2021</td>\n",
       "      <td>['drama', 'comedy']</td>\n",
       "      <td>8.2</td>\n",
       "      <td>5.0</td>\n",
       "    </tr>\n",
       "    <tr>\n",
       "      <th>85436</th>\n",
       "      <td>Pisamai Wilaisak</td>\n",
       "      <td>unknown</td>\n",
       "      <td>ACTOR</td>\n",
       "      <td>Let's Eat</td>\n",
       "      <td>SHOW</td>\n",
       "      <td>2021</td>\n",
       "      <td>['drama', 'comedy']</td>\n",
       "      <td>8.2</td>\n",
       "      <td>5.0</td>\n",
       "    </tr>\n",
       "    <tr>\n",
       "      <th>85437</th>\n",
       "      <td>Sarawut Wichiensarn</td>\n",
       "      <td>unknown</td>\n",
       "      <td>DIRECTOR</td>\n",
       "      <td>Let's Eat</td>\n",
       "      <td>SHOW</td>\n",
       "      <td>2021</td>\n",
       "      <td>['drama', 'comedy']</td>\n",
       "      <td>8.2</td>\n",
       "      <td>5.0</td>\n",
       "    </tr>\n",
       "  </tbody>\n",
       "</table>\n",
       "<p>13430 rows × 9 columns</p>\n",
       "</div>"
      ],
      "text/plain": [
       "                      name                character      role      title  \\\n",
       "1664           Jeff Probst           Himself - Host     ACTOR   Survivor   \n",
       "2076         Mayumi Tanaka  Monkey D. Luffy (voice)     ACTOR  One Piece   \n",
       "2077          Kazuya Nakai     Roronoa Zoro (voice)     ACTOR  One Piece   \n",
       "2078         Akemi Okamura             Nami (voice)     ACTOR  One Piece   \n",
       "2079      Kappei Yamaguchi            Usopp (voice)     ACTOR  One Piece   \n",
       "...                    ...                      ...       ...        ...   \n",
       "85433     Maneerat Kam-Uan                       Ae     ACTOR  Let's Eat   \n",
       "85434    Rudklao Amratisha                  unknown     ACTOR  Let's Eat   \n",
       "85435      Jaturong Mokjok                  unknown     ACTOR  Let's Eat   \n",
       "85436     Pisamai Wilaisak                  unknown     ACTOR  Let's Eat   \n",
       "85437  Sarawut Wichiensarn                  unknown  DIRECTOR  Let's Eat   \n",
       "\n",
       "       type  release_year                                             genres  \\\n",
       "1664   SHOW          2000                                        ['reality']   \n",
       "2076   SHOW          1999  ['animation', 'action', 'comedy', 'drama', 'fa...   \n",
       "2077   SHOW          1999  ['animation', 'action', 'comedy', 'drama', 'fa...   \n",
       "2078   SHOW          1999  ['animation', 'action', 'comedy', 'drama', 'fa...   \n",
       "2079   SHOW          1999  ['animation', 'action', 'comedy', 'drama', 'fa...   \n",
       "...     ...           ...                                                ...   \n",
       "85433  SHOW          2021                                ['drama', 'comedy']   \n",
       "85434  SHOW          2021                                ['drama', 'comedy']   \n",
       "85435  SHOW          2021                                ['drama', 'comedy']   \n",
       "85436  SHOW          2021                                ['drama', 'comedy']   \n",
       "85437  SHOW          2021                                ['drama', 'comedy']   \n",
       "\n",
       "       imdb_score  imdb_votes  \n",
       "1664          7.4     24687.0  \n",
       "2076          8.8    117129.0  \n",
       "2077          8.8    117129.0  \n",
       "2078          8.8    117129.0  \n",
       "2079          8.8    117129.0  \n",
       "...           ...         ...  \n",
       "85433         8.2         5.0  \n",
       "85434         8.2         5.0  \n",
       "85435         8.2         5.0  \n",
       "85436         8.2         5.0  \n",
       "85437         8.2         5.0  \n",
       "\n",
       "[13430 rows x 9 columns]"
      ]
     },
     "metadata": {},
     "output_type": "display_data"
    }
   ],
   "source": [
    "# repeat conditional indexing so df has only shows (movies are removed as result)\n",
    "df_after_1998 = df_after_1998[df_after_1998['type'] == 'SHOW']\n",
    "\n",
    "display (df_after_1998)"
   ]
  },
  {
   "cell_type": "markdown",
   "id": "9648040c",
   "metadata": {},
   "source": [
    "The scores that are to be grouped should be rounded. For instance, titles with scores like 7.8, 8.1, and 8.3 will all be placed in the same bucket with a score of 8."
   ]
  },
  {
   "cell_type": "code",
   "execution_count": 26,
   "id": "54bbd5c0",
   "metadata": {
    "scrolled": true,
    "trusted": false
   },
   "outputs": [
    {
     "data": {
      "text/html": [
       "<div>\n",
       "<style scoped>\n",
       "    .dataframe tbody tr th:only-of-type {\n",
       "        vertical-align: middle;\n",
       "    }\n",
       "\n",
       "    .dataframe tbody tr th {\n",
       "        vertical-align: top;\n",
       "    }\n",
       "\n",
       "    .dataframe thead th {\n",
       "        text-align: right;\n",
       "    }\n",
       "</style>\n",
       "<table border=\"1\" class=\"dataframe\">\n",
       "  <thead>\n",
       "    <tr style=\"text-align: right;\">\n",
       "      <th></th>\n",
       "      <th>name</th>\n",
       "      <th>character</th>\n",
       "      <th>role</th>\n",
       "      <th>title</th>\n",
       "      <th>type</th>\n",
       "      <th>release_year</th>\n",
       "      <th>genres</th>\n",
       "      <th>imdb_score</th>\n",
       "      <th>imdb_votes</th>\n",
       "    </tr>\n",
       "  </thead>\n",
       "  <tbody>\n",
       "    <tr>\n",
       "      <th>85433</th>\n",
       "      <td>Maneerat Kam-Uan</td>\n",
       "      <td>Ae</td>\n",
       "      <td>ACTOR</td>\n",
       "      <td>Let's Eat</td>\n",
       "      <td>SHOW</td>\n",
       "      <td>2021</td>\n",
       "      <td>['drama', 'comedy']</td>\n",
       "      <td>8.0</td>\n",
       "      <td>5.0</td>\n",
       "    </tr>\n",
       "    <tr>\n",
       "      <th>85434</th>\n",
       "      <td>Rudklao Amratisha</td>\n",
       "      <td>unknown</td>\n",
       "      <td>ACTOR</td>\n",
       "      <td>Let's Eat</td>\n",
       "      <td>SHOW</td>\n",
       "      <td>2021</td>\n",
       "      <td>['drama', 'comedy']</td>\n",
       "      <td>8.0</td>\n",
       "      <td>5.0</td>\n",
       "    </tr>\n",
       "    <tr>\n",
       "      <th>85435</th>\n",
       "      <td>Jaturong Mokjok</td>\n",
       "      <td>unknown</td>\n",
       "      <td>ACTOR</td>\n",
       "      <td>Let's Eat</td>\n",
       "      <td>SHOW</td>\n",
       "      <td>2021</td>\n",
       "      <td>['drama', 'comedy']</td>\n",
       "      <td>8.0</td>\n",
       "      <td>5.0</td>\n",
       "    </tr>\n",
       "    <tr>\n",
       "      <th>85436</th>\n",
       "      <td>Pisamai Wilaisak</td>\n",
       "      <td>unknown</td>\n",
       "      <td>ACTOR</td>\n",
       "      <td>Let's Eat</td>\n",
       "      <td>SHOW</td>\n",
       "      <td>2021</td>\n",
       "      <td>['drama', 'comedy']</td>\n",
       "      <td>8.0</td>\n",
       "      <td>5.0</td>\n",
       "    </tr>\n",
       "    <tr>\n",
       "      <th>85437</th>\n",
       "      <td>Sarawut Wichiensarn</td>\n",
       "      <td>unknown</td>\n",
       "      <td>DIRECTOR</td>\n",
       "      <td>Let's Eat</td>\n",
       "      <td>SHOW</td>\n",
       "      <td>2021</td>\n",
       "      <td>['drama', 'comedy']</td>\n",
       "      <td>8.0</td>\n",
       "      <td>5.0</td>\n",
       "    </tr>\n",
       "  </tbody>\n",
       "</table>\n",
       "</div>"
      ],
      "text/plain": [
       "                      name character      role      title  type  release_year  \\\n",
       "85433     Maneerat Kam-Uan        Ae     ACTOR  Let's Eat  SHOW          2021   \n",
       "85434    Rudklao Amratisha   unknown     ACTOR  Let's Eat  SHOW          2021   \n",
       "85435      Jaturong Mokjok   unknown     ACTOR  Let's Eat  SHOW          2021   \n",
       "85436     Pisamai Wilaisak   unknown     ACTOR  Let's Eat  SHOW          2021   \n",
       "85437  Sarawut Wichiensarn   unknown  DIRECTOR  Let's Eat  SHOW          2021   \n",
       "\n",
       "                    genres  imdb_score  imdb_votes  \n",
       "85433  ['drama', 'comedy']         8.0         5.0  \n",
       "85434  ['drama', 'comedy']         8.0         5.0  \n",
       "85435  ['drama', 'comedy']         8.0         5.0  \n",
       "85436  ['drama', 'comedy']         8.0         5.0  \n",
       "85437  ['drama', 'comedy']         8.0         5.0  "
      ]
     },
     "execution_count": 26,
     "metadata": {},
     "output_type": "execute_result"
    }
   ],
   "source": [
    "# rounding column with scores\n",
    "df_after_1998['imdb_score'] = df_after_1998['imdb_score'].round()\n",
    "#checking the outcome with tail()\n",
    "df_after_1998.tail()\n",
    "\n"
   ]
  },
  {
   "cell_type": "markdown",
   "id": "36dbd00a",
   "metadata": {},
   "source": [
    "It is now time to identify outliers based on the number of votes."
   ]
  },
  {
   "cell_type": "code",
   "execution_count": 27,
   "id": "b8b55e95",
   "metadata": {
    "trusted": false
   },
   "outputs": [
    {
     "data": {
      "text/plain": [
       "imdb_score\n",
       "2.0       24\n",
       "3.0       27\n",
       "4.0      180\n",
       "5.0      592\n",
       "6.0     2494\n",
       "7.0     4706\n",
       "8.0     4842\n",
       "9.0      557\n",
       "10.0       8\n",
       "Name: title, dtype: int64"
      ]
     },
     "execution_count": 27,
     "metadata": {},
     "output_type": "execute_result"
    }
   ],
   "source": [
    "# Use groupby() for scores and count all unique values in each group, print the result\n",
    "df_after_1998.groupby('imdb_score')['title'].count()"
   ]
  },
  {
   "cell_type": "code",
   "execution_count": 30,
   "id": "b2f58f89",
   "metadata": {
    "trusted": false
   },
   "outputs": [
    {
     "data": {
      "text/html": [
       "<div>\n",
       "<style scoped>\n",
       "    .dataframe tbody tr th:only-of-type {\n",
       "        vertical-align: middle;\n",
       "    }\n",
       "\n",
       "    .dataframe tbody tr th {\n",
       "        vertical-align: top;\n",
       "    }\n",
       "\n",
       "    .dataframe thead th {\n",
       "        text-align: right;\n",
       "    }\n",
       "</style>\n",
       "<table border=\"1\" class=\"dataframe\">\n",
       "  <thead>\n",
       "    <tr style=\"text-align: right;\">\n",
       "      <th></th>\n",
       "      <th>count</th>\n",
       "      <th>nunique</th>\n",
       "    </tr>\n",
       "    <tr>\n",
       "      <th>imdb_score</th>\n",
       "      <th></th>\n",
       "      <th></th>\n",
       "    </tr>\n",
       "  </thead>\n",
       "  <tbody>\n",
       "    <tr>\n",
       "      <th>4.0</th>\n",
       "      <td>180</td>\n",
       "      <td>174</td>\n",
       "    </tr>\n",
       "    <tr>\n",
       "      <th>5.0</th>\n",
       "      <td>592</td>\n",
       "      <td>581</td>\n",
       "    </tr>\n",
       "    <tr>\n",
       "      <th>6.0</th>\n",
       "      <td>2494</td>\n",
       "      <td>2365</td>\n",
       "    </tr>\n",
       "    <tr>\n",
       "      <th>7.0</th>\n",
       "      <td>4706</td>\n",
       "      <td>4342</td>\n",
       "    </tr>\n",
       "    <tr>\n",
       "      <th>8.0</th>\n",
       "      <td>4842</td>\n",
       "      <td>4194</td>\n",
       "    </tr>\n",
       "    <tr>\n",
       "      <th>9.0</th>\n",
       "      <td>557</td>\n",
       "      <td>542</td>\n",
       "    </tr>\n",
       "  </tbody>\n",
       "</table>\n",
       "</div>"
      ],
      "text/plain": [
       "            count  nunique\n",
       "imdb_score                \n",
       "4.0           180      174\n",
       "5.0           592      581\n",
       "6.0          2494     2365\n",
       "7.0          4706     4342\n",
       "8.0          4842     4194\n",
       "9.0           557      542"
      ]
     },
     "execution_count": 30,
     "metadata": {},
     "output_type": "execute_result"
    }
   ],
   "source": [
    "# Reviewer's code 4\n",
    "\n",
    "df_after_1998.groupby('imdb_score')['name'].agg(['count', 'nunique'])"
   ]
  },
  {
   "cell_type": "markdown",
   "id": "1ba6daae",
   "metadata": {},
   "source": [
    "Based on the aggregation performed, it is evident that scores 2 (24 voted shows), 3 (27 voted shows), and 10 (only 8 voted shows) are outliers. There isn't enough data for these scores for the average number of votes to be meaningful."
   ]
  },
  {
   "cell_type": "markdown",
   "id": "bd468c46",
   "metadata": {},
   "source": [
    "To obtain the mean numbers of votes for the selected scores (we identified a range of 4-9 as acceptable), use conditional filtering and grouping."
   ]
  },
  {
   "cell_type": "code",
   "execution_count": 28,
   "id": "d1867e0e",
   "metadata": {
    "trusted": false
   },
   "outputs": [
    {
     "data": {
      "text/html": [
       "<div>\n",
       "<style scoped>\n",
       "    .dataframe tbody tr th:only-of-type {\n",
       "        vertical-align: middle;\n",
       "    }\n",
       "\n",
       "    .dataframe tbody tr th {\n",
       "        vertical-align: top;\n",
       "    }\n",
       "\n",
       "    .dataframe thead th {\n",
       "        text-align: right;\n",
       "    }\n",
       "</style>\n",
       "<table border=\"1\" class=\"dataframe\">\n",
       "  <thead>\n",
       "    <tr style=\"text-align: right;\">\n",
       "      <th></th>\n",
       "      <th>imdb_score</th>\n",
       "      <th>imdb_votes</th>\n",
       "    </tr>\n",
       "  </thead>\n",
       "  <tbody>\n",
       "    <tr>\n",
       "      <th>0</th>\n",
       "      <td>4.0</td>\n",
       "      <td>5277.583333</td>\n",
       "    </tr>\n",
       "    <tr>\n",
       "      <th>1</th>\n",
       "      <td>5.0</td>\n",
       "      <td>3143.942568</td>\n",
       "    </tr>\n",
       "    <tr>\n",
       "      <th>2</th>\n",
       "      <td>6.0</td>\n",
       "      <td>3481.717322</td>\n",
       "    </tr>\n",
       "    <tr>\n",
       "      <th>3</th>\n",
       "      <td>7.0</td>\n",
       "      <td>8727.068211</td>\n",
       "    </tr>\n",
       "    <tr>\n",
       "      <th>4</th>\n",
       "      <td>8.0</td>\n",
       "      <td>30299.460967</td>\n",
       "    </tr>\n",
       "    <tr>\n",
       "      <th>5</th>\n",
       "      <td>9.0</td>\n",
       "      <td>126904.109515</td>\n",
       "    </tr>\n",
       "  </tbody>\n",
       "</table>\n",
       "</div>"
      ],
      "text/plain": [
       "   imdb_score     imdb_votes\n",
       "0         4.0    5277.583333\n",
       "1         5.0    3143.942568\n",
       "2         6.0    3481.717322\n",
       "3         7.0    8727.068211\n",
       "4         8.0   30299.460967\n",
       "5         9.0  126904.109515"
      ]
     },
     "execution_count": 28,
     "metadata": {},
     "output_type": "execute_result"
    }
   ],
   "source": [
    "# filter dataframe using two conditions (scores to be in the range 4-9)\n",
    "df_after_1998 = df_after_1998[(df_after_1998['imdb_score']>=4) & (df_after_1998['imdb_score']<=9)]\n",
    "\n",
    "# group scores and corresponding average number of votes, reset index and print the result\n",
    "df_score_by_votes = df_after_1998.groupby('imdb_score')['imdb_votes'].mean()\n",
    "df_score_by_votes = df_score_by_votes.reset_index()\n",
    "df_score_by_votes"
   ]
  },
  {
   "cell_type": "markdown",
   "id": "96a66d14",
   "metadata": {},
   "source": [
    "Now for the final step! Round the column with the averages, rename both columns, and print the dataframe in descending order."
   ]
  },
  {
   "cell_type": "code",
   "execution_count": 29,
   "id": "5999051b",
   "metadata": {
    "trusted": false
   },
   "outputs": [
    {
     "data": {
      "text/html": [
       "<div>\n",
       "<style scoped>\n",
       "    .dataframe tbody tr th:only-of-type {\n",
       "        vertical-align: middle;\n",
       "    }\n",
       "\n",
       "    .dataframe tbody tr th {\n",
       "        vertical-align: top;\n",
       "    }\n",
       "\n",
       "    .dataframe thead th {\n",
       "        text-align: right;\n",
       "    }\n",
       "</style>\n",
       "<table border=\"1\" class=\"dataframe\">\n",
       "  <thead>\n",
       "    <tr style=\"text-align: right;\">\n",
       "      <th></th>\n",
       "      <th>rounded_score</th>\n",
       "      <th>avg_votes</th>\n",
       "    </tr>\n",
       "  </thead>\n",
       "  <tbody>\n",
       "    <tr>\n",
       "      <th>5</th>\n",
       "      <td>9.0</td>\n",
       "      <td>126904.0</td>\n",
       "    </tr>\n",
       "    <tr>\n",
       "      <th>4</th>\n",
       "      <td>8.0</td>\n",
       "      <td>30299.0</td>\n",
       "    </tr>\n",
       "    <tr>\n",
       "      <th>3</th>\n",
       "      <td>7.0</td>\n",
       "      <td>8727.0</td>\n",
       "    </tr>\n",
       "    <tr>\n",
       "      <th>2</th>\n",
       "      <td>6.0</td>\n",
       "      <td>3482.0</td>\n",
       "    </tr>\n",
       "    <tr>\n",
       "      <th>1</th>\n",
       "      <td>5.0</td>\n",
       "      <td>3144.0</td>\n",
       "    </tr>\n",
       "    <tr>\n",
       "      <th>0</th>\n",
       "      <td>4.0</td>\n",
       "      <td>5278.0</td>\n",
       "    </tr>\n",
       "  </tbody>\n",
       "</table>\n",
       "</div>"
      ],
      "text/plain": [
       "   rounded_score  avg_votes\n",
       "5            9.0   126904.0\n",
       "4            8.0    30299.0\n",
       "3            7.0     8727.0\n",
       "2            6.0     3482.0\n",
       "1            5.0     3144.0\n",
       "0            4.0     5278.0"
      ]
     },
     "execution_count": 29,
     "metadata": {},
     "output_type": "execute_result"
    }
   ],
   "source": [
    "# round column with averages\n",
    "df_score_by_votes['imdb_votes'] = df_score_by_votes['imdb_votes'].round()\n",
    "# rename columns\n",
    "df_score_by_votes = df_score_by_votes.rename(columns={'imdb_score':'rounded_score','imdb_votes':'avg_votes'})\n",
    "# print dataframe in descending order\n",
    "df_score_by_votes.sort_values(by='rounded_score',ascending=False)\n",
    "\n"
   ]
  },
  {
   "cell_type": "markdown",
   "id": "af07386d",
   "metadata": {},
   "source": [
    "The assumption macthes the analysis: the shows with the top 3 scores have the most amounts of votes."
   ]
  },
  {
   "cell_type": "markdown",
   "id": "84e29a37",
   "metadata": {},
   "source": [
    "## Conclusion <a id='hypotheses'></a>"
   ]
  },
  {
   "cell_type": "markdown",
   "id": "984766a3",
   "metadata": {},
   "source": [
    "The research done confirms that highly-rated shows released during the \"Golden Age\" of television also have the most votes. While shows with score 4 have more votes than ones with scores 5 and 6, the top three (scores 7-9) have the largest number. The data studied represents around 94% of the original set, so we can be confident in our findings."
   ]
  }
 ],
 "metadata": {
  "ExecuteTimeLog": [
   {
    "duration": 154,
    "start_time": "2024-09-03T16:20:58.976Z"
   },
   {
    "duration": 11,
    "start_time": "2024-09-03T16:22:35.820Z"
   },
   {
    "duration": 445,
    "start_time": "2024-09-03T16:23:26.558Z"
   },
   {
    "duration": 146,
    "start_time": "2024-09-03T16:26:48.683Z"
   },
   {
    "duration": 136,
    "start_time": "2024-09-03T16:27:40.389Z"
   },
   {
    "duration": 124,
    "start_time": "2024-09-03T16:28:19.517Z"
   },
   {
    "duration": 120,
    "start_time": "2024-09-03T16:29:41.822Z"
   },
   {
    "duration": 487,
    "start_time": "2024-09-04T05:38:43.619Z"
   },
   {
    "duration": 146,
    "start_time": "2024-09-04T05:39:54.730Z"
   },
   {
    "duration": 334,
    "start_time": "2024-09-04T05:40:28.697Z"
   },
   {
    "duration": 7,
    "start_time": "2024-09-04T05:41:26.945Z"
   },
   {
    "duration": 126,
    "start_time": "2024-09-04T05:41:56.179Z"
   },
   {
    "duration": 153,
    "start_time": "2024-09-04T05:44:07.398Z"
   },
   {
    "duration": 130,
    "start_time": "2024-09-04T05:46:02.960Z"
   },
   {
    "duration": 3,
    "start_time": "2024-09-04T05:56:55.961Z"
   },
   {
    "duration": 3,
    "start_time": "2024-09-04T05:57:44.387Z"
   },
   {
    "duration": 5,
    "start_time": "2024-09-04T05:58:09.454Z"
   },
   {
    "duration": 6,
    "start_time": "2024-09-04T05:58:44.839Z"
   },
   {
    "duration": 3,
    "start_time": "2024-09-04T05:58:54.591Z"
   },
   {
    "duration": 5,
    "start_time": "2024-09-04T06:11:12.954Z"
   },
   {
    "duration": 4,
    "start_time": "2024-09-04T06:13:43.484Z"
   },
   {
    "duration": 6,
    "start_time": "2024-09-04T06:14:05.386Z"
   },
   {
    "duration": 5,
    "start_time": "2024-09-04T06:16:15.770Z"
   },
   {
    "duration": 4,
    "start_time": "2024-09-04T06:27:04.248Z"
   },
   {
    "duration": 5,
    "start_time": "2024-09-04T06:27:47.453Z"
   },
   {
    "duration": 128,
    "start_time": "2024-09-04T06:27:48.748Z"
   },
   {
    "duration": 3,
    "start_time": "2024-09-04T06:28:10.059Z"
   },
   {
    "duration": 4,
    "start_time": "2024-09-04T06:28:19.578Z"
   },
   {
    "duration": 9,
    "start_time": "2024-09-04T06:30:46.330Z"
   },
   {
    "duration": 3,
    "start_time": "2024-09-04T06:31:02.878Z"
   },
   {
    "duration": 4,
    "start_time": "2024-09-04T06:31:23.731Z"
   },
   {
    "duration": 5,
    "start_time": "2024-09-04T06:31:52.706Z"
   },
   {
    "duration": 5,
    "start_time": "2024-09-04T06:37:16.748Z"
   },
   {
    "duration": 4,
    "start_time": "2024-09-04T06:38:41.911Z"
   },
   {
    "duration": 3,
    "start_time": "2024-09-04T06:41:08.699Z"
   },
   {
    "duration": 10,
    "start_time": "2024-09-04T06:42:05.286Z"
   },
   {
    "duration": 5,
    "start_time": "2024-09-04T06:45:20.549Z"
   },
   {
    "duration": 5,
    "start_time": "2024-09-04T06:48:40.155Z"
   },
   {
    "duration": 3,
    "start_time": "2024-09-04T06:49:39.875Z"
   },
   {
    "duration": 6,
    "start_time": "2024-09-04T06:49:52.649Z"
   },
   {
    "duration": 10,
    "start_time": "2024-09-04T06:50:27.142Z"
   },
   {
    "duration": 4,
    "start_time": "2024-09-04T06:52:06.981Z"
   },
   {
    "duration": 7,
    "start_time": "2024-09-04T07:00:14.293Z"
   },
   {
    "duration": 550,
    "start_time": "2024-09-05T07:14:40.058Z"
   },
   {
    "duration": 5,
    "start_time": "2024-09-05T07:15:36.064Z"
   },
   {
    "duration": 4,
    "start_time": "2024-09-05T07:15:50.358Z"
   },
   {
    "duration": 3,
    "start_time": "2024-09-05T07:16:04.206Z"
   },
   {
    "duration": 3,
    "start_time": "2024-09-05T07:16:20.244Z"
   },
   {
    "duration": 7,
    "start_time": "2024-09-05T07:25:13.216Z"
   },
   {
    "duration": 123,
    "start_time": "2024-09-05T07:26:44.268Z"
   },
   {
    "duration": 141,
    "start_time": "2024-09-05T07:27:19.267Z"
   },
   {
    "duration": 234,
    "start_time": "2024-09-05T07:29:27.464Z"
   },
   {
    "duration": 126,
    "start_time": "2024-09-05T07:29:46.280Z"
   },
   {
    "duration": 124,
    "start_time": "2024-09-05T07:30:40.587Z"
   },
   {
    "duration": 618,
    "start_time": "2024-09-05T07:30:59.262Z"
   },
   {
    "duration": 122,
    "start_time": "2024-09-05T07:31:14.037Z"
   },
   {
    "duration": 4,
    "start_time": "2024-09-05T07:32:35.710Z"
   },
   {
    "duration": 5,
    "start_time": "2024-09-05T07:32:57.419Z"
   },
   {
    "duration": 139,
    "start_time": "2024-09-05T07:44:50.794Z"
   },
   {
    "duration": 5,
    "start_time": "2024-09-05T07:46:41.564Z"
   },
   {
    "duration": 4,
    "start_time": "2024-09-05T07:47:02.604Z"
   },
   {
    "duration": 4,
    "start_time": "2024-09-05T07:47:33.519Z"
   },
   {
    "duration": 145,
    "start_time": "2024-09-05T07:48:39.560Z"
   },
   {
    "duration": 141,
    "start_time": "2024-09-05T07:50:53.628Z"
   },
   {
    "duration": 141,
    "start_time": "2024-09-05T07:51:24.525Z"
   },
   {
    "duration": 135,
    "start_time": "2024-09-05T07:52:06.223Z"
   },
   {
    "duration": 5,
    "start_time": "2024-09-05T07:52:46.752Z"
   },
   {
    "duration": 6,
    "start_time": "2024-09-05T07:53:23.484Z"
   },
   {
    "duration": 4,
    "start_time": "2024-09-05T07:53:45.105Z"
   },
   {
    "duration": 4,
    "start_time": "2024-09-05T07:54:27.734Z"
   },
   {
    "duration": 4,
    "start_time": "2024-09-05T07:56:16.156Z"
   },
   {
    "duration": 5,
    "start_time": "2024-09-05T07:57:04.149Z"
   },
   {
    "duration": 4,
    "start_time": "2024-09-05T07:57:38.611Z"
   },
   {
    "duration": 169,
    "start_time": "2024-09-05T07:58:07.604Z"
   },
   {
    "duration": 159,
    "start_time": "2024-09-05T07:58:27.207Z"
   },
   {
    "duration": 4,
    "start_time": "2024-09-05T07:59:33.250Z"
   },
   {
    "duration": 3,
    "start_time": "2024-09-05T08:00:26.493Z"
   },
   {
    "duration": 4,
    "start_time": "2024-09-05T08:01:52.271Z"
   },
   {
    "duration": 5,
    "start_time": "2024-09-05T08:02:51.545Z"
   },
   {
    "duration": 3,
    "start_time": "2024-09-05T08:03:57.940Z"
   },
   {
    "duration": 3,
    "start_time": "2024-09-05T08:04:14.016Z"
   },
   {
    "duration": 4,
    "start_time": "2024-09-05T08:05:14.720Z"
   },
   {
    "duration": 3,
    "start_time": "2024-09-05T08:05:49.068Z"
   },
   {
    "duration": 6,
    "start_time": "2024-09-05T08:17:53.859Z"
   },
   {
    "duration": 5,
    "start_time": "2024-09-05T08:21:02.716Z"
   },
   {
    "duration": 318,
    "start_time": "2024-09-05T08:24:09.704Z"
   },
   {
    "duration": 121,
    "start_time": "2024-09-05T08:24:22.837Z"
   },
   {
    "duration": 115,
    "start_time": "2024-09-05T08:24:51.547Z"
   },
   {
    "duration": 4,
    "start_time": "2024-09-05T08:25:52.100Z"
   },
   {
    "duration": 4,
    "start_time": "2024-09-05T08:26:07.505Z"
   },
   {
    "duration": 3,
    "start_time": "2024-09-05T08:26:27.665Z"
   },
   {
    "duration": 5,
    "start_time": "2024-09-05T08:26:58.247Z"
   },
   {
    "duration": 4,
    "start_time": "2024-09-05T08:27:28.368Z"
   },
   {
    "duration": 3,
    "start_time": "2024-09-05T08:29:48.612Z"
   },
   {
    "duration": 5,
    "start_time": "2024-09-05T08:33:24.817Z"
   },
   {
    "duration": 126,
    "start_time": "2024-09-05T08:33:57.844Z"
   },
   {
    "duration": 124,
    "start_time": "2024-09-05T08:34:29.391Z"
   },
   {
    "duration": 121,
    "start_time": "2024-09-05T08:34:40.149Z"
   },
   {
    "duration": 121,
    "start_time": "2024-09-05T08:35:01.945Z"
   },
   {
    "duration": 121,
    "start_time": "2024-09-05T08:35:47.619Z"
   },
   {
    "duration": 125,
    "start_time": "2024-09-05T08:38:01.261Z"
   },
   {
    "duration": 123,
    "start_time": "2024-09-05T08:39:39.657Z"
   },
   {
    "duration": 6,
    "start_time": "2024-09-05T08:48:48.138Z"
   },
   {
    "duration": 4,
    "start_time": "2024-09-05T08:50:13.213Z"
   },
   {
    "duration": 4,
    "start_time": "2024-09-05T08:50:20.383Z"
   },
   {
    "duration": 4,
    "start_time": "2024-09-05T08:55:40.648Z"
   },
   {
    "duration": 3,
    "start_time": "2024-09-05T08:55:48.298Z"
   },
   {
    "duration": 3,
    "start_time": "2024-09-05T08:56:02.447Z"
   },
   {
    "duration": 4,
    "start_time": "2024-09-05T08:57:12.519Z"
   },
   {
    "duration": 10,
    "start_time": "2024-09-10T13:36:39.575Z"
   },
   {
    "duration": 5,
    "start_time": "2024-09-10T13:37:42.846Z"
   },
   {
    "duration": 6,
    "start_time": "2024-09-10T13:41:18.500Z"
   },
   {
    "duration": 5,
    "start_time": "2024-09-10T13:42:15.306Z"
   },
   {
    "duration": 4,
    "start_time": "2024-09-10T13:43:58.984Z"
   },
   {
    "duration": 6,
    "start_time": "2024-09-10T13:44:43.419Z"
   },
   {
    "duration": 4,
    "start_time": "2024-09-10T13:45:19.701Z"
   },
   {
    "duration": 4,
    "start_time": "2024-09-10T13:45:35.802Z"
   },
   {
    "duration": 4,
    "start_time": "2024-09-10T13:55:09.822Z"
   },
   {
    "duration": 7,
    "start_time": "2024-09-10T13:56:19.039Z"
   },
   {
    "duration": 631,
    "start_time": "2024-09-10T13:56:50.725Z"
   },
   {
    "duration": 5,
    "start_time": "2024-09-10T13:58:22.276Z"
   },
   {
    "duration": 4,
    "start_time": "2024-09-10T13:59:30.766Z"
   },
   {
    "duration": 3,
    "start_time": "2024-09-10T14:01:48.267Z"
   },
   {
    "duration": 4,
    "start_time": "2024-09-10T14:03:19.565Z"
   },
   {
    "duration": 4,
    "start_time": "2024-09-10T14:05:39.937Z"
   },
   {
    "duration": 5,
    "start_time": "2024-09-10T14:10:54.054Z"
   },
   {
    "duration": 4,
    "start_time": "2024-09-10T14:25:25.198Z"
   },
   {
    "duration": 5,
    "start_time": "2024-09-10T14:27:10.926Z"
   },
   {
    "duration": 5,
    "start_time": "2024-09-10T14:27:49.583Z"
   },
   {
    "duration": 5,
    "start_time": "2024-09-10T14:28:09.157Z"
   },
   {
    "duration": 4,
    "start_time": "2024-09-10T14:28:23.880Z"
   },
   {
    "duration": 5,
    "start_time": "2024-09-10T14:29:06.256Z"
   },
   {
    "duration": 6,
    "start_time": "2024-09-10T14:32:29.315Z"
   },
   {
    "duration": 5,
    "start_time": "2024-09-10T14:51:56.735Z"
   },
   {
    "duration": 4,
    "start_time": "2024-09-10T14:52:14.237Z"
   },
   {
    "duration": 4,
    "start_time": "2024-09-10T14:52:34.909Z"
   },
   {
    "duration": 8,
    "start_time": "2024-09-11T06:16:41.357Z"
   },
   {
    "duration": 4,
    "start_time": "2024-09-11T06:17:41.175Z"
   },
   {
    "duration": 481,
    "start_time": "2024-09-11T06:17:49.067Z"
   },
   {
    "duration": 4,
    "start_time": "2024-09-11T06:18:20.977Z"
   },
   {
    "duration": 11,
    "start_time": "2024-09-11T06:18:29.335Z"
   },
   {
    "duration": 37,
    "start_time": "2024-09-11T06:24:13.179Z"
   },
   {
    "duration": 17,
    "start_time": "2024-09-11T06:24:42.689Z"
   },
   {
    "duration": 3,
    "start_time": "2024-09-11T06:26:39.297Z"
   },
   {
    "duration": 4,
    "start_time": "2024-09-11T06:26:45.405Z"
   },
   {
    "duration": 5,
    "start_time": "2024-09-11T06:26:50.577Z"
   },
   {
    "duration": 5,
    "start_time": "2024-09-11T06:31:08.282Z"
   },
   {
    "duration": 4,
    "start_time": "2024-09-11T06:34:44.071Z"
   },
   {
    "duration": 3,
    "start_time": "2024-09-11T06:36:11.323Z"
   },
   {
    "duration": 3,
    "start_time": "2024-09-11T06:37:33.396Z"
   },
   {
    "duration": 4,
    "start_time": "2024-09-11T06:38:14.708Z"
   },
   {
    "duration": 5,
    "start_time": "2024-09-11T06:39:07.312Z"
   },
   {
    "duration": 4,
    "start_time": "2024-09-11T06:39:49.050Z"
   },
   {
    "duration": 3,
    "start_time": "2024-09-11T06:40:03.353Z"
   },
   {
    "duration": 13,
    "start_time": "2024-09-11T06:42:24.519Z"
   },
   {
    "duration": 12,
    "start_time": "2024-09-11T06:42:52.785Z"
   },
   {
    "duration": 12,
    "start_time": "2024-09-11T06:43:48.777Z"
   },
   {
    "duration": 4,
    "start_time": "2024-09-11T06:44:40.709Z"
   },
   {
    "duration": 4,
    "start_time": "2024-09-11T06:45:31.486Z"
   },
   {
    "duration": 5,
    "start_time": "2024-09-11T06:49:43.846Z"
   },
   {
    "duration": 3,
    "start_time": "2024-09-11T06:50:10.430Z"
   },
   {
    "duration": 5,
    "start_time": "2024-09-11T06:51:42.154Z"
   },
   {
    "duration": 5,
    "start_time": "2024-09-11T07:07:55.578Z"
   },
   {
    "duration": 3,
    "start_time": "2024-09-11T07:08:36.443Z"
   },
   {
    "duration": 5,
    "start_time": "2024-09-11T07:11:07.009Z"
   },
   {
    "duration": 4,
    "start_time": "2024-09-11T07:11:28.553Z"
   },
   {
    "duration": 4,
    "start_time": "2024-09-11T07:11:34.933Z"
   },
   {
    "duration": 15,
    "start_time": "2024-09-11T07:14:06.519Z"
   },
   {
    "duration": 14,
    "start_time": "2024-09-11T07:16:23.225Z"
   },
   {
    "duration": 13,
    "start_time": "2024-09-11T07:16:56.345Z"
   },
   {
    "duration": 4,
    "start_time": "2024-09-11T07:18:40.571Z"
   },
   {
    "duration": 3,
    "start_time": "2024-09-11T07:24:51.974Z"
   },
   {
    "duration": 4,
    "start_time": "2024-09-11T07:27:30.926Z"
   },
   {
    "duration": 4,
    "start_time": "2024-09-11T07:27:54.348Z"
   },
   {
    "duration": 13,
    "start_time": "2024-09-11T07:37:05.800Z"
   },
   {
    "duration": 169,
    "start_time": "2024-09-11T07:41:42.814Z"
   },
   {
    "duration": 5,
    "start_time": "2024-09-11T07:42:48.302Z"
   },
   {
    "duration": 5,
    "start_time": "2024-09-11T07:49:40.820Z"
   },
   {
    "duration": 5,
    "start_time": "2024-09-11T07:50:55.641Z"
   },
   {
    "duration": 4,
    "start_time": "2024-09-11T07:51:09.601Z"
   },
   {
    "duration": 4,
    "start_time": "2024-09-11T07:51:48.249Z"
   },
   {
    "duration": 3,
    "start_time": "2024-09-11T07:52:38.821Z"
   },
   {
    "duration": 5,
    "start_time": "2024-09-11T07:57:08.196Z"
   },
   {
    "duration": 5,
    "start_time": "2024-09-11T08:05:01.303Z"
   },
   {
    "duration": 3,
    "start_time": "2024-09-11T08:06:44.195Z"
   },
   {
    "duration": 13,
    "start_time": "2024-09-11T08:07:15.765Z"
   },
   {
    "duration": 3,
    "start_time": "2024-09-11T08:07:44.387Z"
   },
   {
    "duration": 3,
    "start_time": "2024-09-11T08:22:03.735Z"
   },
   {
    "duration": 3,
    "start_time": "2024-09-11T08:22:14.235Z"
   },
   {
    "duration": 4,
    "start_time": "2024-09-11T08:23:24.554Z"
   },
   {
    "duration": 3,
    "start_time": "2024-09-11T08:23:41.891Z"
   },
   {
    "duration": 4,
    "start_time": "2024-09-11T08:24:23.394Z"
   },
   {
    "duration": 3,
    "start_time": "2024-09-11T08:24:33.731Z"
   },
   {
    "duration": 125,
    "start_time": "2024-09-11T08:30:10.069Z"
   },
   {
    "duration": 8403,
    "start_time": "2024-09-11T08:30:31.485Z"
   },
   {
    "duration": 122,
    "start_time": "2024-09-11T08:31:31.167Z"
   },
   {
    "duration": 8523,
    "start_time": "2024-09-11T08:31:42.047Z"
   },
   {
    "duration": 13,
    "start_time": "2024-09-11T08:33:20.094Z"
   },
   {
    "duration": 8450,
    "start_time": "2024-09-11T08:35:30.225Z"
   },
   {
    "duration": 8533,
    "start_time": "2024-09-11T08:38:43.991Z"
   },
   {
    "duration": 140,
    "start_time": "2024-09-11T08:39:43.120Z"
   },
   {
    "duration": 20,
    "start_time": "2024-09-11T08:41:36.960Z"
   },
   {
    "duration": 187,
    "start_time": "2024-09-11T08:44:47.628Z"
   },
   {
    "duration": 122,
    "start_time": "2024-09-11T08:51:38.626Z"
   },
   {
    "duration": 123,
    "start_time": "2024-09-11T08:53:45.497Z"
   },
   {
    "duration": 7,
    "start_time": "2024-09-12T05:10:22.875Z"
   },
   {
    "duration": 5,
    "start_time": "2024-09-12T05:11:56.797Z"
   },
   {
    "duration": 5,
    "start_time": "2024-09-12T05:15:07.729Z"
   },
   {
    "duration": 3,
    "start_time": "2024-09-12T05:16:56.933Z"
   },
   {
    "duration": 5,
    "start_time": "2024-09-12T05:19:43.731Z"
   },
   {
    "duration": 3,
    "start_time": "2024-09-12T05:20:25.090Z"
   },
   {
    "duration": 606,
    "start_time": "2024-09-12T05:22:33.207Z"
   },
   {
    "duration": 3,
    "start_time": "2024-09-12T05:30:49.114Z"
   },
   {
    "duration": 140,
    "start_time": "2024-09-12T05:32:19.901Z"
   },
   {
    "duration": 4,
    "start_time": "2024-09-12T05:33:09.249Z"
   },
   {
    "duration": 5,
    "start_time": "2024-09-12T05:33:34.581Z"
   },
   {
    "duration": 136,
    "start_time": "2024-09-12T05:34:14.365Z"
   },
   {
    "duration": 138,
    "start_time": "2024-09-12T05:34:42.938Z"
   },
   {
    "duration": 22,
    "start_time": "2024-09-12T05:34:58.778Z"
   },
   {
    "duration": 4,
    "start_time": "2024-09-12T05:37:50.686Z"
   },
   {
    "duration": 3,
    "start_time": "2024-09-12T05:38:13.926Z"
   },
   {
    "duration": 34,
    "start_time": "2024-09-12T05:39:56.467Z"
   },
   {
    "duration": 23,
    "start_time": "2024-09-12T05:40:27.239Z"
   },
   {
    "duration": 23,
    "start_time": "2024-09-12T05:41:02.629Z"
   },
   {
    "duration": 5,
    "start_time": "2024-09-12T05:42:18.696Z"
   },
   {
    "duration": 4,
    "start_time": "2024-09-12T05:42:28.688Z"
   },
   {
    "duration": 5,
    "start_time": "2024-09-12T05:43:18.941Z"
   },
   {
    "duration": 4,
    "start_time": "2024-09-12T05:45:08.318Z"
   },
   {
    "duration": 5,
    "start_time": "2024-09-12T05:45:52.033Z"
   },
   {
    "duration": 5,
    "start_time": "2024-09-12T05:47:19.459Z"
   },
   {
    "duration": 5,
    "start_time": "2024-09-12T05:47:49.769Z"
   },
   {
    "duration": 124,
    "start_time": "2024-09-12T05:54:18.552Z"
   },
   {
    "duration": 144,
    "start_time": "2024-09-12T05:55:49.717Z"
   },
   {
    "duration": 4,
    "start_time": "2024-09-12T05:59:29.018Z"
   },
   {
    "duration": 3,
    "start_time": "2024-09-12T05:59:41.538Z"
   },
   {
    "duration": 2,
    "start_time": "2024-09-12T06:19:46.692Z"
   },
   {
    "duration": 117,
    "start_time": "2024-09-12T06:22:56.116Z"
   },
   {
    "duration": 128,
    "start_time": "2024-09-12T06:25:27.505Z"
   },
   {
    "duration": 130,
    "start_time": "2024-09-12T06:25:45.009Z"
   },
   {
    "duration": 118,
    "start_time": "2024-09-12T06:26:11.763Z"
   },
   {
    "duration": 114,
    "start_time": "2024-09-12T06:27:20.515Z"
   },
   {
    "duration": 123,
    "start_time": "2024-09-12T06:29:46.452Z"
   },
   {
    "duration": 129,
    "start_time": "2024-09-12T06:30:11.918Z"
   },
   {
    "duration": 3,
    "start_time": "2024-09-12T06:34:29.275Z"
   },
   {
    "duration": 3,
    "start_time": "2024-09-12T06:34:43.880Z"
   },
   {
    "duration": 4,
    "start_time": "2024-09-12T06:35:17.270Z"
   },
   {
    "duration": 4,
    "start_time": "2024-09-12T06:35:31.877Z"
   },
   {
    "duration": 125,
    "start_time": "2024-09-12T06:39:27.294Z"
   },
   {
    "duration": 122,
    "start_time": "2024-09-12T06:42:35.912Z"
   },
   {
    "duration": 154,
    "start_time": "2024-09-12T06:43:15.595Z"
   },
   {
    "duration": 3,
    "start_time": "2024-09-12T06:44:34.698Z"
   },
   {
    "duration": 5,
    "start_time": "2024-09-12T06:46:00.206Z"
   },
   {
    "duration": 4,
    "start_time": "2024-09-12T06:46:18.126Z"
   },
   {
    "duration": 630,
    "start_time": "2024-09-12T06:47:38.739Z"
   },
   {
    "duration": 130,
    "start_time": "2024-09-12T06:48:33.051Z"
   },
   {
    "duration": 143,
    "start_time": "2024-09-12T06:48:52.411Z"
   },
   {
    "duration": 5,
    "start_time": "2024-09-12T06:51:26.698Z"
   },
   {
    "duration": 4,
    "start_time": "2024-09-12T06:52:30.056Z"
   },
   {
    "duration": 122,
    "start_time": "2024-09-12T07:00:09.922Z"
   },
   {
    "duration": 116,
    "start_time": "2024-09-12T07:07:25.680Z"
   },
   {
    "duration": 115,
    "start_time": "2024-09-12T07:07:56.882Z"
   },
   {
    "duration": 423,
    "start_time": "2024-09-12T07:11:17.153Z"
   },
   {
    "duration": 37,
    "start_time": "2024-09-12T07:13:07.018Z"
   },
   {
    "duration": 2,
    "start_time": "2024-09-12T07:13:18.948Z"
   },
   {
    "duration": 37,
    "start_time": "2024-09-12T07:39:29.433Z"
   },
   {
    "duration": 37,
    "start_time": "2024-09-12T07:40:36.990Z"
   },
   {
    "duration": 387,
    "start_time": "2024-09-12T07:42:40.555Z"
   },
   {
    "duration": 59,
    "start_time": "2024-09-12T07:48:19.504Z"
   },
   {
    "duration": 119,
    "start_time": "2024-09-12T08:00:02.112Z"
   },
   {
    "duration": 510,
    "start_time": "2024-09-12T16:01:29.343Z"
   },
   {
    "duration": 129,
    "start_time": "2024-09-12T16:01:29.856Z"
   },
   {
    "duration": 136,
    "start_time": "2024-09-12T16:01:29.987Z"
   },
   {
    "duration": 148,
    "start_time": "2024-09-12T16:01:30.125Z"
   },
   {
    "duration": 22,
    "start_time": "2024-09-12T16:01:30.276Z"
   },
   {
    "duration": 135,
    "start_time": "2024-09-12T16:01:30.300Z"
   },
   {
    "duration": 4,
    "start_time": "2024-09-12T16:01:30.437Z"
   },
   {
    "duration": 2,
    "start_time": "2024-09-12T16:01:30.443Z"
   },
   {
    "duration": 4,
    "start_time": "2024-09-12T16:01:30.448Z"
   },
   {
    "duration": 0,
    "start_time": "2024-09-12T16:01:30.454Z"
   },
   {
    "duration": 0,
    "start_time": "2024-09-12T16:01:30.455Z"
   },
   {
    "duration": 0,
    "start_time": "2024-09-12T16:01:30.456Z"
   },
   {
    "duration": 0,
    "start_time": "2024-09-12T16:01:30.458Z"
   },
   {
    "duration": 0,
    "start_time": "2024-09-12T16:01:30.459Z"
   },
   {
    "duration": 0,
    "start_time": "2024-09-12T16:01:30.461Z"
   },
   {
    "duration": 0,
    "start_time": "2024-09-12T16:01:30.463Z"
   },
   {
    "duration": 0,
    "start_time": "2024-09-12T16:01:30.464Z"
   },
   {
    "duration": 0,
    "start_time": "2024-09-12T16:01:30.465Z"
   },
   {
    "duration": 0,
    "start_time": "2024-09-12T16:01:30.466Z"
   },
   {
    "duration": 0,
    "start_time": "2024-09-12T16:01:30.467Z"
   },
   {
    "duration": 0,
    "start_time": "2024-09-12T16:01:30.468Z"
   },
   {
    "duration": 0,
    "start_time": "2024-09-12T16:01:30.469Z"
   },
   {
    "duration": 0,
    "start_time": "2024-09-12T16:01:30.470Z"
   },
   {
    "duration": 0,
    "start_time": "2024-09-12T16:01:30.471Z"
   },
   {
    "duration": 0,
    "start_time": "2024-09-12T16:01:30.472Z"
   },
   {
    "duration": 18,
    "start_time": "2024-09-12T16:04:56.843Z"
   },
   {
    "duration": 163,
    "start_time": "2024-10-03T07:26:18.664Z"
   },
   {
    "duration": 508,
    "start_time": "2024-10-03T07:26:39.644Z"
   },
   {
    "duration": 153,
    "start_time": "2024-10-03T07:32:22.964Z"
   },
   {
    "duration": 131,
    "start_time": "2024-10-03T07:36:41.963Z"
   },
   {
    "duration": 4,
    "start_time": "2024-10-03T07:41:39.775Z"
   },
   {
    "duration": 6,
    "start_time": "2024-10-03T07:47:08.017Z"
   },
   {
    "duration": 14,
    "start_time": "2024-10-03T07:47:19.617Z"
   },
   {
    "duration": 14,
    "start_time": "2024-10-03T07:49:44.821Z"
   },
   {
    "duration": 134,
    "start_time": "2024-10-03T07:52:37.283Z"
   },
   {
    "duration": 151,
    "start_time": "2024-10-03T07:53:46.358Z"
   },
   {
    "duration": 37,
    "start_time": "2024-10-03T07:54:11.528Z"
   },
   {
    "duration": 149,
    "start_time": "2024-10-03T07:55:51.598Z"
   },
   {
    "duration": 4,
    "start_time": "2024-10-03T07:56:42.170Z"
   },
   {
    "duration": 3,
    "start_time": "2024-10-03T07:57:42.154Z"
   },
   {
    "duration": 4,
    "start_time": "2024-10-03T07:58:47.870Z"
   },
   {
    "duration": 4,
    "start_time": "2024-10-03T07:59:33.178Z"
   },
   {
    "duration": 6,
    "start_time": "2024-10-03T08:01:23.695Z"
   },
   {
    "duration": 5,
    "start_time": "2024-10-03T08:04:25.961Z"
   },
   {
    "duration": 34,
    "start_time": "2024-10-03T08:06:53.394Z"
   },
   {
    "duration": 18,
    "start_time": "2024-10-03T08:07:55.937Z"
   },
   {
    "duration": 33,
    "start_time": "2024-10-03T08:08:33.537Z"
   },
   {
    "duration": 36,
    "start_time": "2024-10-03T08:08:49.193Z"
   },
   {
    "duration": 27,
    "start_time": "2024-10-03T08:09:28.432Z"
   },
   {
    "duration": 35,
    "start_time": "2024-10-03T08:09:41.385Z"
   },
   {
    "duration": 29,
    "start_time": "2024-10-03T08:09:56.614Z"
   },
   {
    "duration": 34,
    "start_time": "2024-10-03T08:10:54.715Z"
   },
   {
    "duration": 41,
    "start_time": "2024-10-03T08:11:22.894Z"
   },
   {
    "duration": 8458,
    "start_time": "2024-10-03T08:13:29.349Z"
   },
   {
    "duration": 8414,
    "start_time": "2024-10-03T08:14:42.962Z"
   },
   {
    "duration": 8392,
    "start_time": "2024-10-03T08:15:05.283Z"
   },
   {
    "duration": 5,
    "start_time": "2024-10-03T08:15:48.857Z"
   },
   {
    "duration": 9,
    "start_time": "2024-10-03T08:15:58.931Z"
   },
   {
    "duration": 52,
    "start_time": "2024-10-03T08:16:41.555Z"
   },
   {
    "duration": 57,
    "start_time": "2024-10-03T08:16:52.853Z"
   },
   {
    "duration": 122,
    "start_time": "2024-10-03T08:17:11.881Z"
   },
   {
    "duration": 13,
    "start_time": "2024-10-03T08:17:27.177Z"
   },
   {
    "duration": 5,
    "start_time": "2024-10-03T08:18:48.953Z"
   },
   {
    "duration": 8389,
    "start_time": "2024-10-03T08:21:13.224Z"
   },
   {
    "duration": 57,
    "start_time": "2024-10-03T08:23:00.934Z"
   },
   {
    "duration": 13,
    "start_time": "2024-10-03T08:25:27.001Z"
   },
   {
    "duration": 55,
    "start_time": "2024-10-03T08:25:37.056Z"
   },
   {
    "duration": 6,
    "start_time": "2024-10-03T08:32:26.802Z"
   },
   {
    "duration": 29,
    "start_time": "2024-10-03T08:32:48.799Z"
   },
   {
    "duration": 28,
    "start_time": "2024-10-03T08:33:21.948Z"
   },
   {
    "duration": 5,
    "start_time": "2024-10-03T08:34:21.864Z"
   },
   {
    "duration": 4,
    "start_time": "2024-10-03T08:34:36.152Z"
   },
   {
    "duration": 4,
    "start_time": "2024-10-03T08:34:44.716Z"
   },
   {
    "duration": 5,
    "start_time": "2024-10-03T08:36:23.634Z"
   },
   {
    "duration": 3,
    "start_time": "2024-10-03T08:36:42.018Z"
   },
   {
    "duration": 41,
    "start_time": "2024-10-03T08:37:01.259Z"
   },
   {
    "duration": 45,
    "start_time": "2024-10-03T08:37:14.257Z"
   },
   {
    "duration": 8345,
    "start_time": "2024-10-03T08:37:48.116Z"
   },
   {
    "duration": 62,
    "start_time": "2024-10-03T08:38:27.528Z"
   },
   {
    "duration": 407,
    "start_time": "2024-10-03T08:44:50.170Z"
   },
   {
    "duration": 425,
    "start_time": "2024-10-03T08:50:30.858Z"
   },
   {
    "duration": 4,
    "start_time": "2024-10-03T08:58:34.532Z"
   },
   {
    "duration": 4,
    "start_time": "2024-10-03T09:00:33.218Z"
   },
   {
    "duration": 60,
    "start_time": "2024-10-03T09:01:36.236Z"
   },
   {
    "duration": 36,
    "start_time": "2024-10-03T09:09:44.156Z"
   },
   {
    "duration": 5,
    "start_time": "2024-10-03T09:11:01.938Z"
   },
   {
    "duration": 3,
    "start_time": "2024-10-03T09:11:43.021Z"
   },
   {
    "duration": 150,
    "start_time": "2024-10-03T09:12:07.871Z"
   },
   {
    "duration": 126,
    "start_time": "2024-10-03T09:14:16.232Z"
   },
   {
    "duration": 169,
    "start_time": "2024-10-03T09:15:37.526Z"
   },
   {
    "duration": 149,
    "start_time": "2024-10-03T09:18:36.708Z"
   },
   {
    "duration": 50,
    "start_time": "2024-10-03T09:20:28.470Z"
   },
   {
    "duration": 38,
    "start_time": "2024-10-03T09:38:11.028Z"
   },
   {
    "duration": 40,
    "start_time": "2024-10-03T09:38:39.937Z"
   },
   {
    "duration": 39,
    "start_time": "2024-10-03T09:40:02.854Z"
   },
   {
    "duration": 47,
    "start_time": "2024-10-03T09:41:51.952Z"
   },
   {
    "duration": 13,
    "start_time": "2024-10-03T09:43:54.790Z"
   },
   {
    "duration": 4,
    "start_time": "2024-10-03T09:44:17.563Z"
   },
   {
    "duration": 42,
    "start_time": "2024-10-03T09:44:35.261Z"
   },
   {
    "duration": 39,
    "start_time": "2024-10-03T09:44:59.372Z"
   },
   {
    "duration": 38,
    "start_time": "2024-10-03T09:45:09.824Z"
   },
   {
    "duration": 10,
    "start_time": "2024-10-03T10:58:01.876Z"
   },
   {
    "duration": 10,
    "start_time": "2024-10-03T10:58:15.512Z"
   },
   {
    "duration": 6,
    "start_time": "2024-10-03T17:11:01.267Z"
   },
   {
    "duration": 160,
    "start_time": "2024-10-03T17:47:55.505Z"
   },
   {
    "duration": 831,
    "start_time": "2024-10-03T17:50:26.569Z"
   },
   {
    "duration": 155,
    "start_time": "2024-10-03T23:00:49.967Z"
   },
   {
    "duration": 11,
    "start_time": "2024-10-03T23:01:22.641Z"
   },
   {
    "duration": 11,
    "start_time": "2024-10-03T23:01:45.826Z"
   },
   {
    "duration": 476,
    "start_time": "2024-10-04T22:22:35.940Z"
   },
   {
    "duration": 125,
    "start_time": "2024-10-04T22:22:36.419Z"
   },
   {
    "duration": 18,
    "start_time": "2024-10-04T22:22:36.546Z"
   },
   {
    "duration": 6,
    "start_time": "2024-10-04T22:22:36.567Z"
   },
   {
    "duration": 39,
    "start_time": "2024-10-04T22:22:36.576Z"
   },
   {
    "duration": 22,
    "start_time": "2024-10-04T22:22:36.617Z"
   },
   {
    "duration": 4,
    "start_time": "2024-10-04T22:22:36.641Z"
   },
   {
    "duration": 5,
    "start_time": "2024-10-04T22:22:36.647Z"
   },
   {
    "duration": 3,
    "start_time": "2024-10-04T22:22:36.653Z"
   },
   {
    "duration": 69,
    "start_time": "2024-10-04T22:22:36.658Z"
   },
   {
    "duration": 32,
    "start_time": "2024-10-04T22:22:36.729Z"
   },
   {
    "duration": 55,
    "start_time": "2024-10-04T22:22:36.763Z"
   },
   {
    "duration": 12596,
    "start_time": "2024-10-04T22:22:36.820Z"
   },
   {
    "duration": 10,
    "start_time": "2024-10-04T22:22:49.420Z"
   },
   {
    "duration": 58,
    "start_time": "2024-10-04T22:22:49.432Z"
   },
   {
    "duration": 29,
    "start_time": "2024-10-04T22:22:49.491Z"
   },
   {
    "duration": 558,
    "start_time": "2024-10-04T22:22:49.521Z"
   },
   {
    "duration": 5,
    "start_time": "2024-10-04T22:25:52.995Z"
   },
   {
    "duration": 6,
    "start_time": "2024-10-04T22:29:32.292Z"
   },
   {
    "duration": 6,
    "start_time": "2024-10-04T22:30:18.436Z"
   },
   {
    "duration": 4,
    "start_time": "2024-10-04T22:30:27.555Z"
   },
   {
    "duration": 42,
    "start_time": "2024-10-04T22:30:45.225Z"
   },
   {
    "duration": 18,
    "start_time": "2024-10-04T22:31:18.653Z"
   },
   {
    "duration": 18,
    "start_time": "2024-10-04T22:32:16.490Z"
   },
   {
    "duration": 12699,
    "start_time": "2024-10-04T22:33:00.218Z"
   },
   {
    "duration": 46,
    "start_time": "2024-10-04T22:34:30.239Z"
   },
   {
    "duration": 6,
    "start_time": "2024-10-04T22:37:17.553Z"
   },
   {
    "duration": 3,
    "start_time": "2024-10-04T22:42:09.592Z"
   },
   {
    "duration": 28,
    "start_time": "2024-10-04T22:45:17.903Z"
   },
   {
    "duration": 13,
    "start_time": "2024-10-04T22:46:07.573Z"
   },
   {
    "duration": 6,
    "start_time": "2024-10-04T22:46:13.032Z"
   },
   {
    "duration": 441,
    "start_time": "2024-10-05T08:11:11.015Z"
   },
   {
    "duration": 122,
    "start_time": "2024-10-05T08:11:32.161Z"
   },
   {
    "duration": 10,
    "start_time": "2024-10-05T08:11:59.785Z"
   },
   {
    "duration": 23,
    "start_time": "2024-10-05T08:12:18.391Z"
   },
   {
    "duration": 24,
    "start_time": "2024-10-05T08:13:19.963Z"
   },
   {
    "duration": 176,
    "start_time": "2024-10-05T08:33:07.008Z"
   },
   {
    "duration": 14,
    "start_time": "2024-10-05T08:33:44.659Z"
   },
   {
    "duration": 15,
    "start_time": "2024-10-05T08:35:27.816Z"
   },
   {
    "duration": 15,
    "start_time": "2024-10-05T08:35:59.553Z"
   },
   {
    "duration": 15,
    "start_time": "2024-10-05T08:36:44.031Z"
   },
   {
    "duration": 5,
    "start_time": "2024-10-05T08:38:12.111Z"
   },
   {
    "duration": 14,
    "start_time": "2024-10-05T08:39:39.981Z"
   },
   {
    "duration": 14,
    "start_time": "2024-10-05T08:40:09.597Z"
   },
   {
    "duration": 3,
    "start_time": "2024-10-05T08:41:13.375Z"
   },
   {
    "duration": 18,
    "start_time": "2024-10-05T09:01:39.180Z"
   },
   {
    "duration": 19,
    "start_time": "2024-10-05T09:02:08.729Z"
   },
   {
    "duration": 19,
    "start_time": "2024-10-05T09:02:28.309Z"
   },
   {
    "duration": 19,
    "start_time": "2024-10-05T09:02:40.675Z"
   },
   {
    "duration": 19,
    "start_time": "2024-10-05T09:03:04.151Z"
   },
   {
    "duration": 157,
    "start_time": "2024-10-31T05:10:36.399Z"
   },
   {
    "duration": 2,
    "start_time": "2024-10-31T05:10:38.818Z"
   },
   {
    "duration": 20,
    "start_time": "2024-10-31T05:12:30.852Z"
   },
   {
    "duration": 12,
    "start_time": "2024-10-31T05:15:20.670Z"
   },
   {
    "duration": 11,
    "start_time": "2024-10-31T05:16:05.405Z"
   },
   {
    "duration": 12,
    "start_time": "2024-10-31T05:20:02.595Z"
   },
   {
    "duration": 12,
    "start_time": "2024-10-31T05:23:06.176Z"
   },
   {
    "duration": 12,
    "start_time": "2024-10-31T05:24:03.579Z"
   },
   {
    "duration": 31,
    "start_time": "2024-10-31T05:27:02.999Z"
   },
   {
    "duration": 11,
    "start_time": "2024-10-31T05:30:16.098Z"
   },
   {
    "duration": 13,
    "start_time": "2024-10-31T05:36:17.844Z"
   },
   {
    "duration": 263,
    "start_time": "2024-10-31T05:46:44.983Z"
   },
   {
    "duration": 37,
    "start_time": "2024-10-31T05:48:08.145Z"
   },
   {
    "duration": 14,
    "start_time": "2024-10-31T05:48:29.333Z"
   },
   {
    "duration": 9,
    "start_time": "2024-10-31T06:01:07.190Z"
   },
   {
    "duration": 8,
    "start_time": "2024-10-31T06:03:02.157Z"
   },
   {
    "duration": 13,
    "start_time": "2024-10-31T06:39:23.539Z"
   },
   {
    "duration": 15,
    "start_time": "2024-10-31T06:41:53.136Z"
   },
   {
    "duration": 13,
    "start_time": "2024-10-31T06:42:40.553Z"
   },
   {
    "duration": 6,
    "start_time": "2024-10-31T06:45:57.787Z"
   },
   {
    "duration": 2,
    "start_time": "2024-10-31T06:49:44.397Z"
   },
   {
    "duration": 2,
    "start_time": "2024-10-31T06:49:49.576Z"
   },
   {
    "duration": 386,
    "start_time": "2024-10-31T06:51:16.707Z"
   },
   {
    "duration": 37,
    "start_time": "2024-10-31T06:51:52.803Z"
   },
   {
    "duration": 38,
    "start_time": "2024-10-31T06:52:58.385Z"
   },
   {
    "duration": 12,
    "start_time": "2024-10-31T07:01:04.142Z"
   },
   {
    "duration": 13,
    "start_time": "2024-10-31T07:02:47.871Z"
   },
   {
    "duration": 13,
    "start_time": "2024-10-31T07:05:05.312Z"
   },
   {
    "duration": 5,
    "start_time": "2024-10-31T07:55:54.995Z"
   },
   {
    "duration": 5,
    "start_time": "2024-10-31T07:57:00.866Z"
   },
   {
    "duration": 5,
    "start_time": "2024-10-31T07:57:05.705Z"
   },
   {
    "duration": 5,
    "start_time": "2024-10-31T07:57:13.097Z"
   },
   {
    "duration": 430,
    "start_time": "2024-11-02T01:34:31.213Z"
   },
   {
    "duration": 129,
    "start_time": "2024-11-02T01:34:31.646Z"
   },
   {
    "duration": 15,
    "start_time": "2024-11-02T01:34:31.777Z"
   },
   {
    "duration": 8,
    "start_time": "2024-11-02T01:34:31.795Z"
   },
   {
    "duration": 46,
    "start_time": "2024-11-02T01:34:31.805Z"
   },
   {
    "duration": 24,
    "start_time": "2024-11-02T01:34:31.853Z"
   },
   {
    "duration": 4,
    "start_time": "2024-11-02T01:34:31.878Z"
   },
   {
    "duration": 195,
    "start_time": "2024-11-02T01:34:31.884Z"
   },
   {
    "duration": 0,
    "start_time": "2024-11-02T01:34:32.081Z"
   },
   {
    "duration": 0,
    "start_time": "2024-11-02T01:34:32.083Z"
   },
   {
    "duration": 0,
    "start_time": "2024-11-02T01:34:32.084Z"
   },
   {
    "duration": 0,
    "start_time": "2024-11-02T01:34:32.085Z"
   },
   {
    "duration": 0,
    "start_time": "2024-11-02T01:34:32.086Z"
   },
   {
    "duration": 0,
    "start_time": "2024-11-02T01:34:32.087Z"
   },
   {
    "duration": 0,
    "start_time": "2024-11-02T01:34:32.088Z"
   },
   {
    "duration": 0,
    "start_time": "2024-11-02T01:34:32.089Z"
   },
   {
    "duration": 0,
    "start_time": "2024-11-02T01:34:32.090Z"
   },
   {
    "duration": 0,
    "start_time": "2024-11-02T01:34:32.092Z"
   },
   {
    "duration": 0,
    "start_time": "2024-11-02T01:34:32.093Z"
   },
   {
    "duration": 0,
    "start_time": "2024-11-02T01:34:32.094Z"
   },
   {
    "duration": 4,
    "start_time": "2024-11-02T01:37:24.566Z"
   },
   {
    "duration": 4,
    "start_time": "2024-11-02T01:39:04.555Z"
   },
   {
    "duration": 4,
    "start_time": "2024-11-02T01:39:08.246Z"
   },
   {
    "duration": 19,
    "start_time": "2024-11-02T01:39:24.398Z"
   },
   {
    "duration": 40,
    "start_time": "2024-11-02T01:39:38.347Z"
   },
   {
    "duration": 19,
    "start_time": "2024-11-02T01:40:12.509Z"
   },
   {
    "duration": 43,
    "start_time": "2024-11-02T01:40:25.905Z"
   },
   {
    "duration": 14,
    "start_time": "2024-11-02T01:40:30.603Z"
   },
   {
    "duration": 40,
    "start_time": "2024-11-02T01:41:43.169Z"
   },
   {
    "duration": 50,
    "start_time": "2024-11-02T01:42:21.731Z"
   },
   {
    "duration": 46,
    "start_time": "2024-11-02T01:42:37.013Z"
   },
   {
    "duration": 53,
    "start_time": "2024-11-02T01:43:24.645Z"
   },
   {
    "duration": 46,
    "start_time": "2024-11-02T01:44:40.914Z"
   },
   {
    "duration": 32,
    "start_time": "2024-11-02T01:45:52.216Z"
   },
   {
    "duration": 434,
    "start_time": "2024-11-02T01:46:31.443Z"
   },
   {
    "duration": 126,
    "start_time": "2024-11-02T01:46:31.880Z"
   },
   {
    "duration": 15,
    "start_time": "2024-11-02T01:46:32.008Z"
   },
   {
    "duration": 30,
    "start_time": "2024-11-02T01:46:32.025Z"
   },
   {
    "duration": 78,
    "start_time": "2024-11-02T01:46:32.057Z"
   },
   {
    "duration": 70,
    "start_time": "2024-11-02T01:46:32.136Z"
   },
   {
    "duration": 42,
    "start_time": "2024-11-02T01:46:32.207Z"
   },
   {
    "duration": 24,
    "start_time": "2024-11-02T01:46:32.250Z"
   },
   {
    "duration": 20,
    "start_time": "2024-11-02T01:46:32.275Z"
   },
   {
    "duration": 29,
    "start_time": "2024-11-02T01:46:32.299Z"
   },
   {
    "duration": 26,
    "start_time": "2024-11-02T01:46:32.329Z"
   },
   {
    "duration": 20,
    "start_time": "2024-11-02T01:46:32.356Z"
   },
   {
    "duration": 65,
    "start_time": "2024-11-02T01:46:32.377Z"
   },
   {
    "duration": 46,
    "start_time": "2024-11-02T01:46:32.443Z"
   },
   {
    "duration": 55,
    "start_time": "2024-11-02T01:46:32.490Z"
   },
   {
    "duration": 41,
    "start_time": "2024-11-02T01:46:32.548Z"
   },
   {
    "duration": 31,
    "start_time": "2024-11-02T01:46:32.591Z"
   },
   {
    "duration": 2,
    "start_time": "2024-11-02T01:46:32.625Z"
   },
   {
    "duration": 11,
    "start_time": "2024-11-02T01:46:32.643Z"
   },
   {
    "duration": 6,
    "start_time": "2024-11-02T01:46:35.595Z"
   },
   {
    "duration": 33,
    "start_time": "2024-11-02T01:48:37.627Z"
   },
   {
    "duration": 447,
    "start_time": "2024-11-02T01:50:52.678Z"
   },
   {
    "duration": 126,
    "start_time": "2024-11-02T01:50:53.127Z"
   },
   {
    "duration": 15,
    "start_time": "2024-11-02T01:50:53.255Z"
   },
   {
    "duration": 9,
    "start_time": "2024-11-02T01:50:53.272Z"
   },
   {
    "duration": 22,
    "start_time": "2024-11-02T01:50:53.283Z"
   },
   {
    "duration": 58,
    "start_time": "2024-11-02T01:50:53.307Z"
   },
   {
    "duration": 4,
    "start_time": "2024-11-02T01:50:53.368Z"
   },
   {
    "duration": 4,
    "start_time": "2024-11-02T01:50:53.373Z"
   },
   {
    "duration": 4,
    "start_time": "2024-11-02T01:50:53.380Z"
   },
   {
    "duration": 18,
    "start_time": "2024-11-02T01:50:53.388Z"
   },
   {
    "duration": 46,
    "start_time": "2024-11-02T01:50:53.407Z"
   },
   {
    "duration": 18,
    "start_time": "2024-11-02T01:50:53.454Z"
   },
   {
    "duration": 40,
    "start_time": "2024-11-02T01:50:53.473Z"
   },
   {
    "duration": 66,
    "start_time": "2024-11-02T01:50:53.515Z"
   },
   {
    "duration": 44,
    "start_time": "2024-11-02T01:50:53.583Z"
   },
   {
    "duration": 48,
    "start_time": "2024-11-02T01:50:53.629Z"
   },
   {
    "duration": 32,
    "start_time": "2024-11-02T01:50:53.678Z"
   },
   {
    "duration": 3,
    "start_time": "2024-11-02T01:50:53.711Z"
   },
   {
    "duration": 32,
    "start_time": "2024-11-02T01:50:53.716Z"
   },
   {
    "duration": 7,
    "start_time": "2024-11-02T01:50:53.749Z"
   },
   {
    "duration": 7,
    "start_time": "2024-11-02T01:50:53.758Z"
   },
   {
    "duration": 9,
    "start_time": "2024-11-02T01:50:53.766Z"
   },
   {
    "duration": 7,
    "start_time": "2024-11-02T01:50:53.778Z"
   },
   {
    "duration": 12,
    "start_time": "2024-11-02T01:50:53.786Z"
   },
   {
    "duration": 44,
    "start_time": "2024-11-02T01:50:53.800Z"
   },
   {
    "duration": 10,
    "start_time": "2024-11-02T01:50:53.845Z"
   },
   {
    "duration": 7,
    "start_time": "2024-11-02T01:50:53.856Z"
   },
   {
    "duration": 7,
    "start_time": "2024-11-02T01:50:53.866Z"
   },
   {
    "duration": 8,
    "start_time": "2024-11-02T01:50:53.874Z"
   },
   {
    "duration": 11,
    "start_time": "2024-11-02T01:54:48.043Z"
   },
   {
    "duration": 456,
    "start_time": "2024-11-02T01:55:55.359Z"
   },
   {
    "duration": 126,
    "start_time": "2024-11-02T01:55:55.817Z"
   },
   {
    "duration": 15,
    "start_time": "2024-11-02T01:55:55.945Z"
   },
   {
    "duration": 10,
    "start_time": "2024-11-02T01:55:55.961Z"
   },
   {
    "duration": 23,
    "start_time": "2024-11-02T01:55:55.974Z"
   },
   {
    "duration": 48,
    "start_time": "2024-11-02T01:55:55.998Z"
   },
   {
    "duration": 4,
    "start_time": "2024-11-02T01:55:56.048Z"
   },
   {
    "duration": 5,
    "start_time": "2024-11-02T01:55:56.054Z"
   },
   {
    "duration": 5,
    "start_time": "2024-11-02T01:55:56.060Z"
   },
   {
    "duration": 19,
    "start_time": "2024-11-02T01:55:56.066Z"
   },
   {
    "duration": 57,
    "start_time": "2024-11-02T01:55:56.086Z"
   },
   {
    "duration": 19,
    "start_time": "2024-11-02T01:55:56.144Z"
   },
   {
    "duration": 42,
    "start_time": "2024-11-02T01:55:56.165Z"
   },
   {
    "duration": 63,
    "start_time": "2024-11-02T01:55:56.210Z"
   },
   {
    "duration": 44,
    "start_time": "2024-11-02T01:55:56.275Z"
   },
   {
    "duration": 53,
    "start_time": "2024-11-02T01:55:56.320Z"
   },
   {
    "duration": 32,
    "start_time": "2024-11-02T01:55:56.375Z"
   },
   {
    "duration": 2,
    "start_time": "2024-11-02T01:55:56.409Z"
   },
   {
    "duration": 11,
    "start_time": "2024-11-02T01:55:56.413Z"
   },
   {
    "duration": 6,
    "start_time": "2024-11-02T01:55:56.442Z"
   },
   {
    "duration": 6,
    "start_time": "2024-11-02T01:55:56.450Z"
   },
   {
    "duration": 18,
    "start_time": "2024-11-02T01:55:56.458Z"
   },
   {
    "duration": 2,
    "start_time": "2024-11-02T01:55:56.478Z"
   },
   {
    "duration": 2,
    "start_time": "2024-11-02T01:55:56.482Z"
   },
   {
    "duration": 2,
    "start_time": "2024-11-02T01:55:56.486Z"
   },
   {
    "duration": 9,
    "start_time": "2024-11-02T01:55:56.489Z"
   },
   {
    "duration": 46,
    "start_time": "2024-11-02T01:55:56.500Z"
   },
   {
    "duration": 9,
    "start_time": "2024-11-02T01:55:56.548Z"
   },
   {
    "duration": 7,
    "start_time": "2024-11-02T01:55:56.559Z"
   },
   {
    "duration": 18,
    "start_time": "2024-11-02T02:04:03.357Z"
   },
   {
    "duration": 17,
    "start_time": "2024-11-02T02:04:10.918Z"
   },
   {
    "duration": 539,
    "start_time": "2024-11-07T03:04:37.297Z"
   },
   {
    "duration": 126,
    "start_time": "2024-11-07T03:04:37.838Z"
   },
   {
    "duration": 15,
    "start_time": "2024-11-07T03:04:37.966Z"
   },
   {
    "duration": 9,
    "start_time": "2024-11-07T03:04:37.983Z"
   },
   {
    "duration": 49,
    "start_time": "2024-11-07T03:04:37.996Z"
   },
   {
    "duration": 28,
    "start_time": "2024-11-07T03:04:38.047Z"
   },
   {
    "duration": 5,
    "start_time": "2024-11-07T03:04:38.076Z"
   },
   {
    "duration": 3,
    "start_time": "2024-11-07T03:04:38.083Z"
   },
   {
    "duration": 4,
    "start_time": "2024-11-07T03:04:38.088Z"
   },
   {
    "duration": 19,
    "start_time": "2024-11-07T03:04:38.093Z"
   },
   {
    "duration": 52,
    "start_time": "2024-11-07T03:04:38.113Z"
   },
   {
    "duration": 18,
    "start_time": "2024-11-07T03:04:38.166Z"
   },
   {
    "duration": 58,
    "start_time": "2024-11-07T03:04:38.185Z"
   },
   {
    "duration": 46,
    "start_time": "2024-11-07T03:04:38.248Z"
   },
   {
    "duration": 56,
    "start_time": "2024-11-07T03:04:38.296Z"
   },
   {
    "duration": 39,
    "start_time": "2024-11-07T03:04:38.354Z"
   },
   {
    "duration": 31,
    "start_time": "2024-11-07T03:04:38.395Z"
   },
   {
    "duration": 16,
    "start_time": "2024-11-07T03:04:38.428Z"
   },
   {
    "duration": 11,
    "start_time": "2024-11-07T03:04:38.445Z"
   },
   {
    "duration": 7,
    "start_time": "2024-11-07T03:04:38.458Z"
   },
   {
    "duration": 6,
    "start_time": "2024-11-07T03:04:38.467Z"
   },
   {
    "duration": 17,
    "start_time": "2024-11-07T03:04:38.475Z"
   },
   {
    "duration": 2,
    "start_time": "2024-11-07T03:04:38.493Z"
   },
   {
    "duration": 2,
    "start_time": "2024-11-07T03:04:38.497Z"
   },
   {
    "duration": 42,
    "start_time": "2024-11-07T03:04:38.501Z"
   },
   {
    "duration": 10,
    "start_time": "2024-11-07T03:04:38.545Z"
   },
   {
    "duration": 7,
    "start_time": "2024-11-07T03:04:38.557Z"
   },
   {
    "duration": 11,
    "start_time": "2024-11-07T03:04:38.565Z"
   },
   {
    "duration": 8,
    "start_time": "2024-11-07T03:04:38.577Z"
   },
   {
    "duration": 11,
    "start_time": "2024-11-07T03:06:29.857Z"
   }
  ],
  "kernelspec": {
   "display_name": "Python 3 (ipykernel)",
   "language": "python",
   "name": "python3"
  },
  "language_info": {
   "codemirror_mode": {
    "name": "ipython",
    "version": 3
   },
   "file_extension": ".py",
   "mimetype": "text/x-python",
   "name": "python",
   "nbconvert_exporter": "python",
   "pygments_lexer": "ipython3",
   "version": "3.9.19"
  },
  "toc": {
   "base_numbering": 1,
   "nav_menu": {},
   "number_sections": true,
   "sideBar": true,
   "skip_h1_title": true,
   "title_cell": "Table of Contents",
   "title_sidebar": "Contents",
   "toc_cell": false,
   "toc_position": {},
   "toc_section_display": true,
   "toc_window_display": false
  }
 },
 "nbformat": 4,
 "nbformat_minor": 5
}
